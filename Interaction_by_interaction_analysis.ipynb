{
 "metadata": {
  "gist_id": "2cd6483f3b2326ebed70",
  "name": "",
  "notify_time": "5",
  "signature": "sha256:56ca7fba45f64746d65b99d84dd18562bdd1ff328dab5071f164ec246cce524f"
 },
 "nbformat": 3,
 "nbformat_minor": 0,
 "worksheets": [
  {
   "cells": [
    {
     "cell_type": "markdown",
     "metadata": {},
     "source": [
      "# Interaction by interaction analysis\n",
      "\n",
      "<i>Created by Kristian G</i>\n",
      "\n"
     ]
    },
    {
     "cell_type": "markdown",
     "metadata": {},
     "source": [
      "Preliminaries"
     ]
    },
    {
     "cell_type": "code",
     "collapsed": false,
     "input": [
      "%matplotlib inline\n",
      "import numpy as np\n",
      "import pandas as pd\n",
      "import matplotlib.pyplot as plt\n",
      "from ggplot import *\n",
      "import json\n",
      "from frame_experiment_table import FrameExperimentTable\n",
      "%pylab inline\n",
      "# %load_ext rmagic\n",
      "%load_ext rpy2.ipython\n",
      "import pylab\n",
      "\n"
     ],
     "language": "python",
     "metadata": {},
     "outputs": [
      {
       "output_type": "stream",
       "stream": "stdout",
       "text": [
        "Populating the interactive namespace from numpy and matplotlib\n"
       ]
      },
      {
       "output_type": "stream",
       "stream": "stderr",
       "text": [
        "WARNING: pylab import has clobbered these variables: ['xlim', 'ylim']\n",
        "`%matplotlib` prevents importing * from pylab and numpy\n"
       ]
      }
     ],
     "prompt_number": 1
    },
    {
     "cell_type": "code",
     "collapsed": false,
     "input": [
      "%%R\n",
      "rm(list=ls())"
     ],
     "language": "python",
     "metadata": {},
     "outputs": [],
     "prompt_number": 2
    },
    {
     "cell_type": "markdown",
     "metadata": {},
     "source": [
      "#Test all the interactions using Wilcox\n",
      "\n",
      "\n",
      "For this design the main comparison is the first interaction Treatment vs Control. All the others interactions are controls to see there is not bias.\n",
      "\n",
      "- T1 = T2\n",
      "- C1 = C2\n",
      "\n",
      "\n",
      "The difference between T and C must be very similar\n",
      "\n",
      "T1-C1 = T1-C2 = C1-T2 = C2-T2\n",
      "\n",
      "\n",
      "Paired\n",
      "- T1-C2 \n",
      "- C1-T2 \n",
      "\n",
      "Unpaired\n",
      "- T1-C1\n",
      "- C2-T2"
     ]
    },
    {
     "cell_type": "code",
     "collapsed": false,
     "input": [
      "gg = FrameExperimentTable('logs/data_scenario_changed')\n",
      "# gg.add_records('logs/data_incremental_file','new')\n",
      "# gg.add_records_csv('logs/data_scramble_filled_csv.csv')\n",
      "# gg.add_records('logs/data_scenario_changed','new')\n",
      "gg.filter_noise()\n",
      "gg.code_for_stat_ana()\n",
      "gg.code_survey_numeric()\n",
      "\n",
      "## Getting the formated dataframe\n",
      "full_set = gg.get_rm_ws_dataframe()\n",
      "full_set.head(7)"
     ],
     "language": "python",
     "metadata": {},
     "outputs": [
      {
       "output_type": "stream",
       "stream": "stdout",
       "text": [
        "(55, 40)\n",
        "classify_field - Fields Excluded"
       ]
      },
      {
       "output_type": "stream",
       "stream": "stdout",
       "text": [
        "\n",
        "(6,)\n",
        "(55, 42)\n",
        "New Usability Columns\n",
        "(55, 44)\n",
        "(45, 44)\n",
        "rm_ws_dataframe - Droping missing records\n",
        "(45, 5)\n",
        "rm_ws_dataframe - remove missing data \n",
        "(45, 5)\n",
        "rm_ws_dataframe - no duplicates "
       ]
      },
      {
       "output_type": "stream",
       "stream": "stdout",
       "text": [
        "\n",
        "(45, 6)\n"
       ]
      },
      {
       "html": [
        "<div style=\"max-height:1000px;max-width:1500px;overflow:auto;\">\n",
        "<table border=\"1\" class=\"dataframe\">\n",
        "  <thead>\n",
        "    <tr style=\"text-align: right;\">\n",
        "      <th></th>\n",
        "      <th>response</th>\n",
        "      <th>trt</th>\n",
        "      <th>sequ</th>\n",
        "      <th>period</th>\n",
        "      <th>id</th>\n",
        "    </tr>\n",
        "  </thead>\n",
        "  <tbody>\n",
        "    <tr>\n",
        "      <th>0</th>\n",
        "      <td> 4</td>\n",
        "      <td> A</td>\n",
        "      <td> AB</td>\n",
        "      <td> 1</td>\n",
        "      <td> 0687ef14d441706b211ff0edf9f2ebea</td>\n",
        "    </tr>\n",
        "    <tr>\n",
        "      <th>1</th>\n",
        "      <td> 2</td>\n",
        "      <td> A</td>\n",
        "      <td> AB</td>\n",
        "      <td> 1</td>\n",
        "      <td> 0ddaf25718c6b4c35bf05ae6335150d4</td>\n",
        "    </tr>\n",
        "    <tr>\n",
        "      <th>2</th>\n",
        "      <td> 4</td>\n",
        "      <td> A</td>\n",
        "      <td> AB</td>\n",
        "      <td> 1</td>\n",
        "      <td> 18da94199bf2471a70d0298958543bb4</td>\n",
        "    </tr>\n",
        "    <tr>\n",
        "      <th>3</th>\n",
        "      <td> 4</td>\n",
        "      <td> A</td>\n",
        "      <td> AB</td>\n",
        "      <td> 1</td>\n",
        "      <td> 23ba4e6b2b149ba6294bd7e0125b2948</td>\n",
        "    </tr>\n",
        "    <tr>\n",
        "      <th>5</th>\n",
        "      <td> 4</td>\n",
        "      <td> A</td>\n",
        "      <td> AB</td>\n",
        "      <td> 1</td>\n",
        "      <td> 2be130732b05502a4a631bc01291b25b</td>\n",
        "    </tr>\n",
        "    <tr>\n",
        "      <th>6</th>\n",
        "      <td> 4</td>\n",
        "      <td> A</td>\n",
        "      <td> AB</td>\n",
        "      <td> 1</td>\n",
        "      <td> 38c7d17c9d41c293afe9d368d45a629c</td>\n",
        "    </tr>\n",
        "    <tr>\n",
        "      <th>8</th>\n",
        "      <td> 4</td>\n",
        "      <td> A</td>\n",
        "      <td> AB</td>\n",
        "      <td> 1</td>\n",
        "      <td> 4306bad121fb3ad1fb2365dda1a32440</td>\n",
        "    </tr>\n",
        "  </tbody>\n",
        "</table>\n",
        "</div>"
       ],
       "metadata": {},
       "output_type": "pyout",
       "prompt_number": 6,
       "text": [
        "   response trt sequ period                                id\n",
        "0         4   A   AB      1  0687ef14d441706b211ff0edf9f2ebea\n",
        "1         2   A   AB      1  0ddaf25718c6b4c35bf05ae6335150d4\n",
        "2         4   A   AB      1  18da94199bf2471a70d0298958543bb4\n",
        "3         4   A   AB      1  23ba4e6b2b149ba6294bd7e0125b2948\n",
        "5         4   A   AB      1  2be130732b05502a4a631bc01291b25b\n",
        "6         4   A   AB      1  38c7d17c9d41c293afe9d368d45a629c\n",
        "8         4   A   AB      1  4306bad121fb3ad1fb2365dda1a32440"
       ]
      }
     ],
     "prompt_number": 6
    },
    {
     "cell_type": "code",
     "collapsed": false,
     "input": [
      "tp1 = full_set.response[(full_set.trt == 'B') & (full_set.period =='1')].value_counts()\n",
      "print tp1.shape\n",
      "tp2 = full_set.response[(full_set.trt == 'B') & (full_set.period =='2')].value_counts()\n",
      "print tp2.shape\n",
      "cp1 = full_set.response[(full_set.trt == 'A') & (full_set.period =='1')].value_counts()\n",
      "print cp1.shape\n",
      "cp2 = full_set.response[(full_set.trt == 'A') & (full_set.period =='2')].value_counts()\n",
      "print cp2.shape\n"
     ],
     "language": "python",
     "metadata": {},
     "outputs": [
      {
       "output_type": "stream",
       "stream": "stdout",
       "text": [
        "(3,)\n",
        "(2,)\n",
        "(3,)\n",
        "(3,)\n"
       ]
      }
     ],
     "prompt_number": 28
    },
    {
     "cell_type": "code",
     "collapsed": false,
     "input": [
      "%%R -i tp1 -i cp2\n",
      "library(MASS)\n",
      "dd<-data.frame((tp1),(cp2))\n",
      "print(dd)\n",
      "print(summary(dd))\n",
      "print(chisq.test(dd))\n",
      "kruskal.test(X.tp1. ~ X.cp2.,data=dd)\n"
     ],
     "language": "python",
     "metadata": {},
     "outputs": [
      {
       "metadata": {},
       "output_type": "display_data",
       "text": [
        "  X.tp1. X.cp2.\n",
        "4     21     20\n",
        "2      2      2\n",
        "3      1      2\n",
        "     X.tp1.         X.cp2.  \n",
        " Min.   : 1.0   Min.   : 2  \n",
        " 1st Qu.: 1.5   1st Qu.: 2  \n",
        " Median : 2.0   Median : 2  \n",
        " Mean   : 8.0   Mean   : 8  \n",
        " 3rd Qu.:11.5   3rd Qu.:11  \n",
        " Max.   :21.0   Max.   :20  \n",
        "\n",
        "\tPearson's Chi-squared test\n",
        "\n",
        "data:  dd\n",
        "X-squared = 0.3577, df = 2, p-value = 0.8362\n",
        "\n",
        "\n",
        "\tKruskal-Wallis rank sum test\n",
        "\n",
        "data:  X.tp1. by X.cp2.\n",
        "Kruskal-Wallis chi-squared = 1.5, df = 1, p-value = 0.2207\n",
        "\n"
       ]
      }
     ],
     "prompt_number": 41
    },
    {
     "cell_type": "code",
     "collapsed": false,
     "input": [
      "%%R -i tp1 -i cp2\n",
      "library(MASS)\n",
      "dd<-data.frame((tp1),(cp2))\n",
      "print(dd)\n",
      "print(summary(dd))\n",
      "print(chisq.test(dd))\n",
      "kruskal.test(X.tp1. ~ X.cp2.,data=dd)\n"
     ],
     "language": "python",
     "metadata": {},
     "outputs": [
      {
       "metadata": {},
       "output_type": "display_data",
       "text": [
        "  X.tp1. X.cp2.\n",
        "4     21     20\n",
        "2      2      2\n",
        "3      1      2\n",
        "     X.tp1.         X.cp2.  \n",
        " Min.   : 1.0   Min.   : 2  \n",
        " 1st Qu.: 1.5   1st Qu.: 2  \n",
        " Median : 2.0   Median : 2  \n",
        " Mean   : 8.0   Mean   : 8  \n",
        " 3rd Qu.:11.5   3rd Qu.:11  \n",
        " Max.   :21.0   Max.   :20  \n",
        "\n",
        "\tPearson's Chi-squared test\n",
        "\n",
        "data:  dd\n",
        "X-squared = 0.3577, df = 2, p-value = 0.8362\n",
        "\n",
        "\n",
        "\tKruskal-Wallis rank sum test\n",
        "\n",
        "data:  X.tp1. by X.cp2.\n",
        "Kruskal-Wallis chi-squared = 1.5, df = 1, p-value = 0.2207\n",
        "\n"
       ]
      }
     ],
     "prompt_number": 41
    },
    {
     "cell_type": "markdown",
     "metadata": {},
     "source": [
      "## Using clmm"
     ]
    },
    {
     "cell_type": "code",
     "collapsed": false,
     "input": [
      "%%R -i full_set\n",
      "\n",
      "library(ordinal)\n",
      "\n",
      "\n",
      "s <- data.frame(full_set)\n",
      "s$response <- factor(s$response)\n",
      "s$trt <- factor(s$trt)\n",
      "s$sequ <- factor(s$sequ)\n",
      "s$period <- factor(s$period)\n",
      "\n",
      "mm1 <- clmm(response ~ sequ  + trt + period  + (1 | id:sequ), s, Hess = TRUE, nAGQ = 10 )\n",
      "\n",
      "print (summary(mm1))\n",
      "print(exp(cbind(OR =coef(mm1), confint(mm1))))\n",
      "source('regression_plots.r')\n",
      "plot_odds(mm1,'Odds ratios and CI')"
     ],
     "language": "python",
     "metadata": {},
     "outputs": [
      {
       "metadata": {},
       "output_type": "display_data",
       "text": [
        "Cumulative Link Mixed Model fitted with the adaptive Gauss-Hermite \n",
        "quadrature approximation with 10 quadrature points \n",
        "\n",
        "formula: response ~ sequ + trt + period + (1 | id:sequ)\n",
        "data:    s\n",
        "\n",
        " link  threshold nobs logLik AIC    niter     max.grad cond.H \n",
        " logit flexible  90   -44.65 101.30 279(2660) 4.38e-06 2.1e+03\n",
        "\n",
        "Random effects:\n",
        " Groups  Name        Variance Std.Dev.\n",
        " id:sequ (Intercept) 97.06    9.852   \n",
        "Number of groups:  id:sequ 45 \n",
        "\n",
        "Coefficients:\n",
        "        Estimate Std. Error z value Pr(>|z|)  \n",
        "sequBA     0.740      3.251   0.228   0.8200  \n",
        "trtB       2.977      1.490   1.998   0.0457 *\n",
        "period2    1.568      1.246   1.259   0.2081  \n",
        "---\n",
        "Signif. codes:  0 \u2018***\u2019 0.001 \u2018**\u2019 0.01 \u2018*\u2019 0.05 \u2018.\u2019 0.1 \u2018 \u2019 1\n",
        "\n",
        "Threshold coefficients:\n",
        "    Estimate Std. Error z value\n",
        "2|3  -10.675      5.042  -2.117\n",
        "3|4   -5.273      4.010  -1.315\n",
        "                  OR        2.5 %       97.5 %\n",
        "2|3     2.311050e-05 1.180096e-09    0.4525865\n",
        "3|4     5.130520e-03 1.982456e-06   13.2775862\n",
        "sequBA  2.095874e+00 3.579922e-03 1227.0338384\n",
        "trtB    1.963568e+01 1.058533e+00  364.2397818\n",
        "period2 4.798382e+00 4.173802e-01   55.1642588\n"
       ]
      },
      {
       "metadata": {},
       "output_type": "display_data",
       "png": "[encoded data removed]"
      }
     ],
     "prompt_number": 32
    }
   ],
   "metadata": {}
  }
 ]
}