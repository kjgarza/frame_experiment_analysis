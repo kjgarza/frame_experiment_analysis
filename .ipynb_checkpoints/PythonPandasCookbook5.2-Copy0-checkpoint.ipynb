{
 "metadata": {
  "name": "",
  "signature": "sha256:28f45e1ea2a03e6b55e48592b0d1297d3dd84d96aff0c11b5b9023ea5c403b3d"
 },
 "nbformat": 3,
 "nbformat_minor": 0,
 "worksheets": [
  {
   "cells": [
    {
     "cell_type": "markdown",
     "metadata": {},
     "source": [
      "# Frame Experiment Analysis\n",
      "\n",
      "<i>Created by Kristian G</i>"
     ]
    },
    {
     "cell_type": "code",
     "collapsed": false,
     "input": [],
     "language": "python",
     "metadata": {},
     "outputs": []
    },
    {
     "cell_type": "heading",
     "level": 3,
     "metadata": {},
     "source": [
      "Preliminaries"
     ]
    },
    {
     "cell_type": "code",
     "collapsed": false,
     "input": [
      "%matplotlib inline\n",
      "import numpy as np\n",
      "import pandas as pd\n",
      "import matplotlib.pyplot as plt\n",
      "import seaborn as sns\n",
      "from extract_data import datatoFrame\n",
      "from code_data import *\n",
      "from wordcloud import WordCloud\n",
      "from ggplot import *"
     ],
     "language": "python",
     "metadata": {},
     "outputs": [],
     "prompt_number": 1
    },
    {
     "cell_type": "code",
     "collapsed": false,
     "input": [
      "#seaborn settings\n",
      "sns.set_palette(\"deep\", desat=.6)\n",
      "sns.set_context(rc={\"figure.figsize\": (8,4)})"
     ],
     "language": "python",
     "metadata": {},
     "outputs": [],
     "prompt_number": 5
    },
    {
     "cell_type": "heading",
     "level": 3,
     "metadata": {},
     "source": [
      "Load Data Sets"
     ]
    },
    {
     "cell_type": "code",
     "collapsed": false,
     "input": [
      "input_data = datatoFrame('logs/FrameExperiment', 'dummy') ###Pilot data\n",
      "# input_data = datatoFrame('logs/second_logs', 'dummy2')  ###first week of data\n"
     ],
     "language": "python",
     "metadata": {},
     "outputs": [
      {
       "ename": "KeyError",
       "evalue": "'when_best'",
       "output_type": "pyerr",
       "traceback": [
        "\u001b[0;31m---------------------------------------------------------------------------\u001b[0m\n\u001b[0;31mKeyError\u001b[0m                                  Traceback (most recent call last)",
        "\u001b[0;32m<ipython-input-6-9b5ef932a944>\u001b[0m in \u001b[0;36m<module>\u001b[0;34m()\u001b[0m\n\u001b[1;32m      1\u001b[0m \u001b[0;31m# input_data = datatoFrame('logs/FrameExperiment', 'dummy') ###Pilot data\u001b[0m\u001b[0;34m\u001b[0m\u001b[0;34m\u001b[0m\u001b[0m\n\u001b[0;32m----> 2\u001b[0;31m \u001b[0minput_data\u001b[0m \u001b[0;34m=\u001b[0m \u001b[0mdatatoFrame\u001b[0m\u001b[0;34m(\u001b[0m\u001b[0;34m'logs/second_logs'\u001b[0m\u001b[0;34m,\u001b[0m \u001b[0;34m'dummy2'\u001b[0m\u001b[0;34m)\u001b[0m  \u001b[0;31m###first week of data\u001b[0m\u001b[0;34m\u001b[0m\u001b[0m\n\u001b[0m",
        "\u001b[0;32m/Users/kristian/PycharmProjects/Frame_experiment_analysis/extract_data.pyc\u001b[0m in \u001b[0;36mdatatoFrame\u001b[0;34m(fn, output)\u001b[0m\n\u001b[1;32m    150\u001b[0m \u001b[0;34m\u001b[0m\u001b[0m\n\u001b[1;32m    151\u001b[0m \u001b[0;32mdef\u001b[0m \u001b[0mdatatoFrame\u001b[0m\u001b[0;34m(\u001b[0m\u001b[0mfn\u001b[0m\u001b[0;34m,\u001b[0m \u001b[0moutput\u001b[0m\u001b[0;34m)\u001b[0m\u001b[0;34m:\u001b[0m\u001b[0;34m\u001b[0m\u001b[0m\n\u001b[0;32m--> 152\u001b[0;31m     \u001b[0mmain\u001b[0m\u001b[0;34m(\u001b[0m\u001b[0mfn\u001b[0m\u001b[0;34m,\u001b[0m \u001b[0moutput\u001b[0m\u001b[0;34m)\u001b[0m\u001b[0;34m\u001b[0m\u001b[0m\n\u001b[0m\u001b[1;32m    153\u001b[0m \u001b[0;34m\u001b[0m\u001b[0m\n\u001b[1;32m    154\u001b[0m     \u001b[0mmydict\u001b[0m \u001b[0;34m=\u001b[0m \u001b[0mpd\u001b[0m\u001b[0;34m.\u001b[0m\u001b[0mDataFrame\u001b[0m\u001b[0;34m.\u001b[0m\u001b[0mfrom_csv\u001b[0m\u001b[0;34m(\u001b[0m\u001b[0moutput\u001b[0m\u001b[0;34m,\u001b[0m \u001b[0msep\u001b[0m\u001b[0;34m=\u001b[0m\u001b[0;34m','\u001b[0m\u001b[0;34m,\u001b[0m \u001b[0mindex_col\u001b[0m\u001b[0;34m=\u001b[0m\u001b[0;36m0\u001b[0m\u001b[0;34m)\u001b[0m\u001b[0;34m\u001b[0m\u001b[0m\n",
        "\u001b[0;32m/Users/kristian/PycharmProjects/Frame_experiment_analysis/extract_data.pyc\u001b[0m in \u001b[0;36mmain\u001b[0;34m(fn, output)\u001b[0m\n\u001b[1;32m     50\u001b[0m                             \u001b[0;34m'materials_type'\u001b[0m\u001b[0;34m:\u001b[0m \u001b[0mobj\u001b[0m\u001b[0;34m[\u001b[0m\u001b[0;34m'inputs'\u001b[0m\u001b[0;34m]\u001b[0m\u001b[0;34m[\u001b[0m\u001b[0;34m'materials_type'\u001b[0m\u001b[0;34m]\u001b[0m\u001b[0;34m,\u001b[0m\u001b[0;34m\u001b[0m\u001b[0m\n\u001b[1;32m     51\u001b[0m                             \u001b[0;34m'howmany'\u001b[0m\u001b[0;34m:\u001b[0m \u001b[0mobj\u001b[0m\u001b[0;34m[\u001b[0m\u001b[0;34m'inputs'\u001b[0m\u001b[0;34m]\u001b[0m\u001b[0;34m[\u001b[0m\u001b[0;34m'howmany'\u001b[0m\u001b[0;34m]\u001b[0m\u001b[0;34m,\u001b[0m\u001b[0;34m\u001b[0m\u001b[0m\n\u001b[0;32m---> 52\u001b[0;31m                             \u001b[0;34m'when_best'\u001b[0m\u001b[0;34m:\u001b[0m \u001b[0mobj\u001b[0m\u001b[0;34m[\u001b[0m\u001b[0;34m'inputs'\u001b[0m\u001b[0;34m]\u001b[0m\u001b[0;34m[\u001b[0m\u001b[0;34m'when_best'\u001b[0m\u001b[0;34m]\u001b[0m\u001b[0;34m,\u001b[0m\u001b[0;34m\u001b[0m\u001b[0m\n\u001b[0m\u001b[1;32m     53\u001b[0m                             \u001b[0;34m'frequency'\u001b[0m\u001b[0;34m:\u001b[0m \u001b[0mobj\u001b[0m\u001b[0;34m[\u001b[0m\u001b[0;34m'inputs'\u001b[0m\u001b[0;34m]\u001b[0m\u001b[0;34m[\u001b[0m\u001b[0;34m'frequency'\u001b[0m\u001b[0;34m]\u001b[0m\u001b[0;34m,\u001b[0m\u001b[0;34m\u001b[0m\u001b[0m\n\u001b[1;32m     54\u001b[0m                             \u001b[0;34m'updating'\u001b[0m\u001b[0;34m:\u001b[0m \u001b[0;36m0\u001b[0m\u001b[0;34m,\u001b[0m\u001b[0;34m\u001b[0m\u001b[0m\n",
        "\u001b[0;31mKeyError\u001b[0m: 'when_best'"
       ]
      }
     ],
     "prompt_number": 6
    },
    {
     "cell_type": "code",
     "collapsed": false,
     "input": [
      "df_filtered = input_data[input_data['honest'] == 'on']"
     ],
     "language": "python",
     "metadata": {},
     "outputs": [],
     "prompt_number": 4
    },
    {
     "cell_type": "code",
     "collapsed": false,
     "input": [
      "df_filtered.head(10)"
     ],
     "language": "python",
     "metadata": {},
     "outputs": [
      {
       "html": [
        "<div style=\"max-height:1000px;max-width:1500px;overflow:auto;\">\n",
        "<table border=\"1\" class=\"dataframe\">\n",
        "  <thead>\n",
        "    <tr style=\"text-align: right;\">\n",
        "      <th></th>\n",
        "      <th>academic</th>\n",
        "      <th>awareness</th>\n",
        "      <th>data_file_title_1</th>\n",
        "      <th>data_file_title_2</th>\n",
        "      <th>discipline</th>\n",
        "      <th>ease_1</th>\n",
        "      <th>ease_2</th>\n",
        "      <th>frequency</th>\n",
        "      <th>honest</th>\n",
        "      <th>howmany</th>\n",
        "      <th>...</th>\n",
        "      <th>treatment</th>\n",
        "      <th>trust</th>\n",
        "      <th>updating</th>\n",
        "      <th>ways</th>\n",
        "      <th>when_best</th>\n",
        "      <th>when_to_1</th>\n",
        "      <th>when_to_2</th>\n",
        "      <th>with_who_1</th>\n",
        "      <th>with_who_2</th>\n",
        "      <th>year_born</th>\n",
        "    </tr>\n",
        "    <tr>\n",
        "      <th>sessionid</th>\n",
        "      <th></th>\n",
        "      <th></th>\n",
        "      <th></th>\n",
        "      <th></th>\n",
        "      <th></th>\n",
        "      <th></th>\n",
        "      <th></th>\n",
        "      <th></th>\n",
        "      <th></th>\n",
        "      <th></th>\n",
        "      <th></th>\n",
        "      <th></th>\n",
        "      <th></th>\n",
        "      <th></th>\n",
        "      <th></th>\n",
        "      <th></th>\n",
        "      <th></th>\n",
        "      <th></th>\n",
        "      <th></th>\n",
        "      <th></th>\n",
        "      <th></th>\n",
        "    </tr>\n",
        "  </thead>\n",
        "  <tbody>\n",
        "    <tr>\n",
        "      <th>23460298f5d8e931f6b8778e3a38e2c0</th>\n",
        "      <td> 1</td>\n",
        "      <td> [u'2', u'3']</td>\n",
        "      <td>                                       Survey 3434</td>\n",
        "      <td>                                            RNAseq</td>\n",
        "      <td> functional genomics researcher</td>\n",
        "      <td> 4</td>\n",
        "      <td>  5</td>\n",
        "      <td> once a year</td>\n",
        "      <td> on</td>\n",
        "      <td> between 2 and 4</td>\n",
        "      <td>...</td>\n",
        "      <td>   CONTROL</td>\n",
        "      <td> cite</td>\n",
        "      <td> 0</td>\n",
        "      <td> [u'when  I am requested for the data', u\"by up...</td>\n",
        "      <td>         before publication of a peer-review paper</td>\n",
        "      <td>        NaN</td>\n",
        "      <td>          6</td>\n",
        "      <td>        public</td>\n",
        "      <td> collaborators</td>\n",
        "      <td> 1973</td>\n",
        "    </tr>\n",
        "    <tr>\n",
        "      <th>846c48d7ca77cecae577d9533df01226</th>\n",
        "      <td> 1</td>\n",
        "      <td>          NaN</td>\n",
        "      <td>                             Psycho cemical_rivers</td>\n",
        "      <td>          Enzyms in experiment (blood and insulin)</td>\n",
        "      <td>              Biologist-ecology</td>\n",
        "      <td> 4</td>\n",
        "      <td>  4</td>\n",
        "      <td>       never</td>\n",
        "      <td> on</td>\n",
        "      <td> between 2 and 4</td>\n",
        "      <td>...</td>\n",
        "      <td> TREATMENT</td>\n",
        "      <td> cite</td>\n",
        "      <td> 1</td>\n",
        "      <td>       [u'when  I am requested for the data', u'']</td>\n",
        "      <td> +5 years after publication of a peer-review paper</td>\n",
        "      <td>          3</td>\n",
        "      <td> is_control</td>\n",
        "      <td> collaborators</td>\n",
        "      <td> collaborators</td>\n",
        "      <td> 1986</td>\n",
        "    </tr>\n",
        "    <tr>\n",
        "      <th>c8f46d4d7396f2bd6056a74d449e2c41</th>\n",
        "      <td> 1</td>\n",
        "      <td>       [u'3']</td>\n",
        "      <td>                                           DataSet</td>\n",
        "      <td>                                           DataSet</td>\n",
        "      <td>                Systems Biology</td>\n",
        "      <td> 4</td>\n",
        "      <td>NaN</td>\n",
        "      <td>       never</td>\n",
        "      <td> on</td>\n",
        "      <td>         only me</td>\n",
        "      <td>...</td>\n",
        "      <td> TREATMENT</td>\n",
        "      <td> cite</td>\n",
        "      <td> 0</td>\n",
        "      <td>    [u'I have never shared materials openly', u'']</td>\n",
        "      <td> immediately after publication of a peer-review...</td>\n",
        "      <td>        NaN</td>\n",
        "      <td> is_control</td>\n",
        "      <td>        public</td>\n",
        "      <td>        public</td>\n",
        "      <td> 1974</td>\n",
        "    </tr>\n",
        "    <tr>\n",
        "      <th>a54bc527043e7ebd1b626ae87b073327</th>\n",
        "      <td> 1</td>\n",
        "      <td>       [u'1']</td>\n",
        "      <td>                                        My Dataset</td>\n",
        "      <td>                                           dataset</td>\n",
        "      <td>      Environmental Engineering</td>\n",
        "      <td> 5</td>\n",
        "      <td>  4</td>\n",
        "      <td> once a year</td>\n",
        "      <td> on</td>\n",
        "      <td>         only me</td>\n",
        "      <td>...</td>\n",
        "      <td>   CONTROL</td>\n",
        "      <td> cite</td>\n",
        "      <td> 0</td>\n",
        "      <td> [u'when  I am requested for the data', u\"by up...</td>\n",
        "      <td> immediately after publication of a peer-review...</td>\n",
        "      <td> is_control</td>\n",
        "      <td>          6</td>\n",
        "      <td> collaborators</td>\n",
        "      <td> collaborators</td>\n",
        "      <td> 1983</td>\n",
        "    </tr>\n",
        "    <tr>\n",
        "      <th>24b48f963cb4871264ec33551c6f4fb8</th>\n",
        "      <td> 1</td>\n",
        "      <td>          NaN</td>\n",
        "      <td>                                               NaN</td>\n",
        "      <td>                                               NaN</td>\n",
        "      <td>                   Biochemistry</td>\n",
        "      <td> 4</td>\n",
        "      <td>  3</td>\n",
        "      <td>       never</td>\n",
        "      <td> on</td>\n",
        "      <td> between 2 and 4</td>\n",
        "      <td>...</td>\n",
        "      <td>   CONTROL</td>\n",
        "      <td> cite</td>\n",
        "      <td> 0</td>\n",
        "      <td>                                                 0</td>\n",
        "      <td> immediately after publication of a peer-review...</td>\n",
        "      <td> is_control</td>\n",
        "      <td>        NaN</td>\n",
        "      <td> collaborators</td>\n",
        "      <td> collaborators</td>\n",
        "      <td> 1985</td>\n",
        "    </tr>\n",
        "    <tr>\n",
        "      <th>c613e1d8edb212114499aff4bf996a8c</th>\n",
        "      <td> 1</td>\n",
        "      <td>            3</td>\n",
        "      <td>    Fingerprints as evidence for a genetic profile</td>\n",
        "      <td>                                       Images list</td>\n",
        "      <td>                        Biology</td>\n",
        "      <td> 4</td>\n",
        "      <td>  5</td>\n",
        "      <td>       never</td>\n",
        "      <td> on</td>\n",
        "      <td> between 2 and 4</td>\n",
        "      <td>...</td>\n",
        "      <td> TREATMENT</td>\n",
        "      <td>  jam</td>\n",
        "      <td> 0</td>\n",
        "      <td>   [u'by uploading it in an open repository', u'']</td>\n",
        "      <td>         before publication of a peer-review paper</td>\n",
        "      <td>          6</td>\n",
        "      <td> is_control</td>\n",
        "      <td>       private</td>\n",
        "      <td> collaborators</td>\n",
        "      <td> 1985</td>\n",
        "    </tr>\n",
        "    <tr>\n",
        "      <th>67d5452b269bdbfe2d76bb3b03c41f54</th>\n",
        "      <td> 2</td>\n",
        "      <td>       [u'3']</td>\n",
        "      <td>                                  2014-12-12-set-1</td>\n",
        "      <td>                                 2014-12-12-2 set </td>\n",
        "      <td>                     Chemistry </td>\n",
        "      <td> 2</td>\n",
        "      <td>  4</td>\n",
        "      <td>       never</td>\n",
        "      <td> on</td>\n",
        "      <td>         only me</td>\n",
        "      <td>...</td>\n",
        "      <td>   CONTROL</td>\n",
        "      <td>  jam</td>\n",
        "      <td> 0</td>\n",
        "      <td> [u'I have never shared materials with openly',...</td>\n",
        "      <td> immediately after publication of a peer-review...</td>\n",
        "      <td> is_control</td>\n",
        "      <td>        NaN</td>\n",
        "      <td> collaborators</td>\n",
        "      <td>        public</td>\n",
        "      <td> 1979</td>\n",
        "    </tr>\n",
        "    <tr>\n",
        "      <th>891d3b6a0d199e6c89907339f70aa98d</th>\n",
        "      <td> 1</td>\n",
        "      <td>       [u'3']</td>\n",
        "      <td>                                               NaN</td>\n",
        "      <td>                                               NaN</td>\n",
        "      <td>                 bioinformatics</td>\n",
        "      <td> 5</td>\n",
        "      <td>  4</td>\n",
        "      <td>       never</td>\n",
        "      <td> on</td>\n",
        "      <td> between 2 and 4</td>\n",
        "      <td>...</td>\n",
        "      <td>   CONTROL</td>\n",
        "      <td> cite</td>\n",
        "      <td> 0</td>\n",
        "      <td>                                                 0</td>\n",
        "      <td> immediately after publication of a peer-review...</td>\n",
        "      <td> is_control</td>\n",
        "      <td>        NaN</td>\n",
        "      <td>        public</td>\n",
        "      <td>        public</td>\n",
        "      <td> 1987</td>\n",
        "    </tr>\n",
        "    <tr>\n",
        "      <th>d6471d9c7dc604952ebc33167be33960</th>\n",
        "      <td> 1</td>\n",
        "      <td>            3</td>\n",
        "      <td>                                               NaN</td>\n",
        "      <td>                                               NaN</td>\n",
        "      <td>                            NaN</td>\n",
        "      <td> 4</td>\n",
        "      <td>  4</td>\n",
        "      <td>         NaN</td>\n",
        "      <td> on</td>\n",
        "      <td>             NaN</td>\n",
        "      <td>...</td>\n",
        "      <td> TREATMENT</td>\n",
        "      <td>  NaN</td>\n",
        "      <td> 0</td>\n",
        "      <td>                                                 0</td>\n",
        "      <td>                                               NaN</td>\n",
        "      <td>        NaN</td>\n",
        "      <td> is_control</td>\n",
        "      <td>        public</td>\n",
        "      <td> collaborators</td>\n",
        "      <td>  NaN</td>\n",
        "    </tr>\n",
        "    <tr>\n",
        "      <th>91aaa68c687330c7a992ed5b78dc4beb</th>\n",
        "      <td> 1</td>\n",
        "      <td>            3</td>\n",
        "      <td> Temporal expression of MEF2 protein expression...</td>\n",
        "      <td> Temporal expression of MEF2 mRNA expression in...</td>\n",
        "      <td>                   Neuroscience</td>\n",
        "      <td> 4</td>\n",
        "      <td>  4</td>\n",
        "      <td> once a year</td>\n",
        "      <td> on</td>\n",
        "      <td> between 2 and 4</td>\n",
        "      <td>...</td>\n",
        "      <td>   CONTROL</td>\n",
        "      <td> cite</td>\n",
        "      <td> 0</td>\n",
        "      <td>    [u'I have never shared materials openly', u'']</td>\n",
        "      <td> immediately after publication of a peer-review...</td>\n",
        "      <td> is_control</td>\n",
        "      <td>        NaN</td>\n",
        "      <td>        public</td>\n",
        "      <td>        public</td>\n",
        "      <td> 1988</td>\n",
        "    </tr>\n",
        "  </tbody>\n",
        "</table>\n",
        "<p>10 rows \u00d7 32 columns</p>\n",
        "</div>"
       ],
       "metadata": {},
       "output_type": "pyout",
       "prompt_number": 5,
       "text": [
        "                                  academic     awareness  \\\n",
        "sessionid                                                  \n",
        "23460298f5d8e931f6b8778e3a38e2c0         1  [u'2', u'3']   \n",
        "846c48d7ca77cecae577d9533df01226         1           NaN   \n",
        "c8f46d4d7396f2bd6056a74d449e2c41         1        [u'3']   \n",
        "a54bc527043e7ebd1b626ae87b073327         1        [u'1']   \n",
        "24b48f963cb4871264ec33551c6f4fb8         1           NaN   \n",
        "c613e1d8edb212114499aff4bf996a8c         1             3   \n",
        "67d5452b269bdbfe2d76bb3b03c41f54         2        [u'3']   \n",
        "891d3b6a0d199e6c89907339f70aa98d         1        [u'3']   \n",
        "d6471d9c7dc604952ebc33167be33960         1             3   \n",
        "91aaa68c687330c7a992ed5b78dc4beb         1             3   \n",
        "\n",
        "                                                                  data_file_title_1  \\\n",
        "sessionid                                                                             \n",
        "23460298f5d8e931f6b8778e3a38e2c0                                        Survey 3434   \n",
        "846c48d7ca77cecae577d9533df01226                              Psycho cemical_rivers   \n",
        "c8f46d4d7396f2bd6056a74d449e2c41                                            DataSet   \n",
        "a54bc527043e7ebd1b626ae87b073327                                         My Dataset   \n",
        "24b48f963cb4871264ec33551c6f4fb8                                                NaN   \n",
        "c613e1d8edb212114499aff4bf996a8c     Fingerprints as evidence for a genetic profile   \n",
        "67d5452b269bdbfe2d76bb3b03c41f54                                   2014-12-12-set-1   \n",
        "891d3b6a0d199e6c89907339f70aa98d                                                NaN   \n",
        "d6471d9c7dc604952ebc33167be33960                                                NaN   \n",
        "91aaa68c687330c7a992ed5b78dc4beb  Temporal expression of MEF2 protein expression...   \n",
        "\n",
        "                                                                  data_file_title_2  \\\n",
        "sessionid                                                                             \n",
        "23460298f5d8e931f6b8778e3a38e2c0                                             RNAseq   \n",
        "846c48d7ca77cecae577d9533df01226           Enzyms in experiment (blood and insulin)   \n",
        "c8f46d4d7396f2bd6056a74d449e2c41                                            DataSet   \n",
        "a54bc527043e7ebd1b626ae87b073327                                            dataset   \n",
        "24b48f963cb4871264ec33551c6f4fb8                                                NaN   \n",
        "c613e1d8edb212114499aff4bf996a8c                                        Images list   \n",
        "67d5452b269bdbfe2d76bb3b03c41f54                                  2014-12-12-2 set    \n",
        "891d3b6a0d199e6c89907339f70aa98d                                                NaN   \n",
        "d6471d9c7dc604952ebc33167be33960                                                NaN   \n",
        "91aaa68c687330c7a992ed5b78dc4beb  Temporal expression of MEF2 mRNA expression in...   \n",
        "\n",
        "                                                      discipline  ease_1  \\\n",
        "sessionid                                                                  \n",
        "23460298f5d8e931f6b8778e3a38e2c0  functional genomics researcher       4   \n",
        "846c48d7ca77cecae577d9533df01226               Biologist-ecology       4   \n",
        "c8f46d4d7396f2bd6056a74d449e2c41                 Systems Biology       4   \n",
        "a54bc527043e7ebd1b626ae87b073327       Environmental Engineering       5   \n",
        "24b48f963cb4871264ec33551c6f4fb8                    Biochemistry       4   \n",
        "c613e1d8edb212114499aff4bf996a8c                         Biology       4   \n",
        "67d5452b269bdbfe2d76bb3b03c41f54                      Chemistry        2   \n",
        "891d3b6a0d199e6c89907339f70aa98d                  bioinformatics       5   \n",
        "d6471d9c7dc604952ebc33167be33960                             NaN       4   \n",
        "91aaa68c687330c7a992ed5b78dc4beb                    Neuroscience       4   \n",
        "\n",
        "                                  ease_2    frequency honest          howmany  \\\n",
        "sessionid                                                                       \n",
        "23460298f5d8e931f6b8778e3a38e2c0       5  once a year     on  between 2 and 4   \n",
        "846c48d7ca77cecae577d9533df01226       4        never     on  between 2 and 4   \n",
        "c8f46d4d7396f2bd6056a74d449e2c41     NaN        never     on          only me   \n",
        "a54bc527043e7ebd1b626ae87b073327       4  once a year     on          only me   \n",
        "24b48f963cb4871264ec33551c6f4fb8       3        never     on  between 2 and 4   \n",
        "c613e1d8edb212114499aff4bf996a8c       5        never     on  between 2 and 4   \n",
        "67d5452b269bdbfe2d76bb3b03c41f54       4        never     on          only me   \n",
        "891d3b6a0d199e6c89907339f70aa98d       4        never     on  between 2 and 4   \n",
        "d6471d9c7dc604952ebc33167be33960       4          NaN     on              NaN   \n",
        "91aaa68c687330c7a992ed5b78dc4beb       4  once a year     on  between 2 and 4   \n",
        "\n",
        "                                    ...      treatment  trust  updating  \\\n",
        "sessionid                           ...                                   \n",
        "23460298f5d8e931f6b8778e3a38e2c0    ...        CONTROL   cite         0   \n",
        "846c48d7ca77cecae577d9533df01226    ...      TREATMENT   cite         1   \n",
        "c8f46d4d7396f2bd6056a74d449e2c41    ...      TREATMENT   cite         0   \n",
        "a54bc527043e7ebd1b626ae87b073327    ...        CONTROL   cite         0   \n",
        "24b48f963cb4871264ec33551c6f4fb8    ...        CONTROL   cite         0   \n",
        "c613e1d8edb212114499aff4bf996a8c    ...      TREATMENT    jam         0   \n",
        "67d5452b269bdbfe2d76bb3b03c41f54    ...        CONTROL    jam         0   \n",
        "891d3b6a0d199e6c89907339f70aa98d    ...        CONTROL   cite         0   \n",
        "d6471d9c7dc604952ebc33167be33960    ...      TREATMENT    NaN         0   \n",
        "91aaa68c687330c7a992ed5b78dc4beb    ...        CONTROL   cite         0   \n",
        "\n",
        "                                                                               ways  \\\n",
        "sessionid                                                                             \n",
        "23460298f5d8e931f6b8778e3a38e2c0  [u'when  I am requested for the data', u\"by up...   \n",
        "846c48d7ca77cecae577d9533df01226        [u'when  I am requested for the data', u'']   \n",
        "c8f46d4d7396f2bd6056a74d449e2c41     [u'I have never shared materials openly', u'']   \n",
        "a54bc527043e7ebd1b626ae87b073327  [u'when  I am requested for the data', u\"by up...   \n",
        "24b48f963cb4871264ec33551c6f4fb8                                                  0   \n",
        "c613e1d8edb212114499aff4bf996a8c    [u'by uploading it in an open repository', u'']   \n",
        "67d5452b269bdbfe2d76bb3b03c41f54  [u'I have never shared materials with openly',...   \n",
        "891d3b6a0d199e6c89907339f70aa98d                                                  0   \n",
        "d6471d9c7dc604952ebc33167be33960                                                  0   \n",
        "91aaa68c687330c7a992ed5b78dc4beb     [u'I have never shared materials openly', u'']   \n",
        "\n",
        "                                                                          when_best  \\\n",
        "sessionid                                                                             \n",
        "23460298f5d8e931f6b8778e3a38e2c0          before publication of a peer-review paper   \n",
        "846c48d7ca77cecae577d9533df01226  +5 years after publication of a peer-review paper   \n",
        "c8f46d4d7396f2bd6056a74d449e2c41  immediately after publication of a peer-review...   \n",
        "a54bc527043e7ebd1b626ae87b073327  immediately after publication of a peer-review...   \n",
        "24b48f963cb4871264ec33551c6f4fb8  immediately after publication of a peer-review...   \n",
        "c613e1d8edb212114499aff4bf996a8c          before publication of a peer-review paper   \n",
        "67d5452b269bdbfe2d76bb3b03c41f54  immediately after publication of a peer-review...   \n",
        "891d3b6a0d199e6c89907339f70aa98d  immediately after publication of a peer-review...   \n",
        "d6471d9c7dc604952ebc33167be33960                                                NaN   \n",
        "91aaa68c687330c7a992ed5b78dc4beb  immediately after publication of a peer-review...   \n",
        "\n",
        "                                   when_to_1   when_to_2     with_who_1  \\\n",
        "sessionid                                                                 \n",
        "23460298f5d8e931f6b8778e3a38e2c0         NaN           6         public   \n",
        "846c48d7ca77cecae577d9533df01226           3  is_control  collaborators   \n",
        "c8f46d4d7396f2bd6056a74d449e2c41         NaN  is_control         public   \n",
        "a54bc527043e7ebd1b626ae87b073327  is_control           6  collaborators   \n",
        "24b48f963cb4871264ec33551c6f4fb8  is_control         NaN  collaborators   \n",
        "c613e1d8edb212114499aff4bf996a8c           6  is_control        private   \n",
        "67d5452b269bdbfe2d76bb3b03c41f54  is_control         NaN  collaborators   \n",
        "891d3b6a0d199e6c89907339f70aa98d  is_control         NaN         public   \n",
        "d6471d9c7dc604952ebc33167be33960         NaN  is_control         public   \n",
        "91aaa68c687330c7a992ed5b78dc4beb  is_control         NaN         public   \n",
        "\n",
        "                                     with_who_2  year_born  \n",
        "sessionid                                                   \n",
        "23460298f5d8e931f6b8778e3a38e2c0  collaborators       1973  \n",
        "846c48d7ca77cecae577d9533df01226  collaborators       1986  \n",
        "c8f46d4d7396f2bd6056a74d449e2c41         public       1974  \n",
        "a54bc527043e7ebd1b626ae87b073327  collaborators       1983  \n",
        "24b48f963cb4871264ec33551c6f4fb8  collaborators       1985  \n",
        "c613e1d8edb212114499aff4bf996a8c  collaborators       1985  \n",
        "67d5452b269bdbfe2d76bb3b03c41f54         public       1979  \n",
        "891d3b6a0d199e6c89907339f70aa98d         public       1987  \n",
        "d6471d9c7dc604952ebc33167be33960  collaborators        NaN  \n",
        "91aaa68c687330c7a992ed5b78dc4beb         public       1988  \n",
        "\n",
        "[10 rows x 32 columns]"
       ]
      }
     ],
     "prompt_number": 5
    },
    {
     "cell_type": "markdown",
     "metadata": {},
     "source": [
      "### Demographics"
     ]
    },
    {
     "cell_type": "markdown",
     "metadata": {},
     "source": [
      "I need to classify the subjects' disciplines as they have an open input for item.\n",
      "Most of the subjects come from a branch of biology with the expection o one subject comign from Chemistry."
     ]
    },
    {
     "cell_type": "code",
     "collapsed": false,
     "input": [
      "text =', '.join(str(x) for x in df_filtered.discipline)\n",
      "wordcloud = WordCloud(font_path='/Library/Fonts/Courier New.ttf').generate(text)\n",
      "plt.imshow(wordcloud)\n",
      "plt.axis(\"off\")\n"
     ],
     "language": "python",
     "metadata": {},
     "outputs": [
      {
       "metadata": {},
       "output_type": "pyout",
       "prompt_number": 6,
       "text": [
        "(-0.5, 399.5, 199.5, -0.5)"
       ]
      },
      {
       "metadata": {},
       "output_type": "display_data",
       "png": "[encoded data removed]",
       "text": [
        "<matplotlib.figure.Figure at 0x10b9a3b50>"
       ]
      }
     ],
     "prompt_number": 6
    },
    {
     "cell_type": "markdown",
     "metadata": {},
     "source": [
      "A similar classification would need to be done for the type of data participants produce/collect."
     ]
    },
    {
     "cell_type": "code",
     "collapsed": false,
     "input": [
      "text =', '.join(str(x) for x in df_filtered.materials_type)\n",
      "wordcloud = WordCloud(font_path='/Library/Fonts/Courier New.ttf', stopwords=\"data, and, with, of, from, analysis\").generate(text)\n",
      "plt.imshow(wordcloud)\n",
      "plt.axis(\"off\")"
     ],
     "language": "python",
     "metadata": {},
     "outputs": [
      {
       "metadata": {},
       "output_type": "pyout",
       "prompt_number": 7,
       "text": [
        "(-0.5, 399.5, 199.5, -0.5)"
       ]
      },
      {
       "metadata": {},
       "output_type": "display_data",
       "png": "[encoded data removed]",
       "text": [
        "<matplotlib.figure.Figure at 0x10c6f4f90>"
       ]
      }
     ],
     "prompt_number": 7
    },
    {
     "cell_type": "markdown",
     "metadata": {},
     "source": [
      "The sample is mostly consituted by PhD's in their mid-20s."
     ]
    },
    {
     "cell_type": "code",
     "collapsed": false,
     "input": [
      "plt.hist(df_filtered.year_born.dropna())\n"
     ],
     "language": "python",
     "metadata": {},
     "outputs": [
      {
       "metadata": {},
       "output_type": "pyout",
       "prompt_number": 8,
       "text": [
        "(array([ 2.,  0.,  0.,  0.,  1.,  0.,  1.,  0.,  3.,  2.]),\n",
        " array([ 1973. ,  1974.5,  1976. ,  1977.5,  1979. ,  1980.5,  1982. ,\n",
        "         1983.5,  1985. ,  1986.5,  1988. ]),\n",
        " <a list of 10 Patch objects>)"
       ]
      },
      {
       "metadata": {},
       "output_type": "display_data",
       "png": "[encoded data removed]",
       "text": [
        "<matplotlib.figure.Figure at 0x10b9a3110>"
       ]
      }
     ],
     "prompt_number": 8
    },
    {
     "cell_type": "markdown",
     "metadata": {},
     "source": [
      "The pseudo random allocation of subjects has been balacing the treatment sequence administration fine. \n",
      "\n",
      "- CONTROL: participant that received the CONTROL product first.\n",
      "- TREATMENT: participant that received the TREATMENT product first."
     ]
    },
    {
     "cell_type": "code",
     "collapsed": false,
     "input": [
      "s = df_filtered.groupby('treatment')['treatment'].count()\n",
      "s.plot(kind='bar')"
     ],
     "language": "python",
     "metadata": {},
     "outputs": [
      {
       "metadata": {},
       "output_type": "pyout",
       "prompt_number": 9,
       "text": [
        "<matplotlib.axes._subplots.AxesSubplot at 0x10c6812d0>"
       ]
      },
      {
       "metadata": {},
       "output_type": "display_data",
       "png": "[encoded data removed]",
       "text": [
        "<matplotlib.figure.Figure at 0x10c694050>"
       ]
      }
     ],
     "prompt_number": 9
    },
    {
     "cell_type": "code",
     "collapsed": false,
     "input": [
      "s = df_filtered.groupby('howmany')['howmany'].count()\n",
      "s.plot(kind='bar')"
     ],
     "language": "python",
     "metadata": {},
     "outputs": [
      {
       "metadata": {},
       "output_type": "pyout",
       "prompt_number": 10,
       "text": [
        "<matplotlib.axes._subplots.AxesSubplot at 0x10b9e2d10>"
       ]
      },
      {
       "metadata": {},
       "output_type": "display_data",
       "png": "[encoded data removed]",
       "text": [
        "<matplotlib.figure.Figure at 0x10b9d7710>"
       ]
      }
     ],
     "prompt_number": 10
    },
    {
     "cell_type": "code",
     "collapsed": false,
     "input": [
      "s = df_filtered.groupby('updating')['updating'].count()\n",
      "s.plot(kind='bar')"
     ],
     "language": "python",
     "metadata": {},
     "outputs": [
      {
       "metadata": {},
       "output_type": "pyout",
       "prompt_number": 11,
       "text": [
        "<matplotlib.axes._subplots.AxesSubplot at 0x10c9e6e50>"
       ]
      },
      {
       "metadata": {},
       "output_type": "display_data",
       "png": "[encoded data removed]",
       "text": [
        "<matplotlib.figure.Figure at 0x10ca510d0>"
       ]
      }
     ],
     "prompt_number": 11
    },
    {
     "cell_type": "code",
     "collapsed": false,
     "input": [
      "s = df_filtered.groupby('when_best')['when_best'].count()\n",
      "s.plot(kind='bar')"
     ],
     "language": "python",
     "metadata": {},
     "outputs": [
      {
       "metadata": {},
       "output_type": "pyout",
       "prompt_number": 12,
       "text": [
        "<matplotlib.axes._subplots.AxesSubplot at 0x10ca3bf50>"
       ]
      },
      {
       "metadata": {},
       "output_type": "display_data",
       "png": "[encoded data removed]",
       "text": [
        "<matplotlib.figure.Figure at 0x10cd34b10>"
       ]
      }
     ],
     "prompt_number": 12
    },
    {
     "cell_type": "code",
     "collapsed": false,
     "input": [
      "df_filtered.groupby('treatment').describe()"
     ],
     "language": "python",
     "metadata": {},
     "outputs": [
      {
       "html": [
        "<div style=\"max-height:1000px;max-width:1500px;overflow:auto;\">\n",
        "<table border=\"1\" class=\"dataframe\">\n",
        "  <thead>\n",
        "    <tr style=\"text-align: right;\">\n",
        "      <th></th>\n",
        "      <th></th>\n",
        "      <th>academic</th>\n",
        "      <th>ease_1</th>\n",
        "      <th>ease_2</th>\n",
        "      <th>regret_1</th>\n",
        "      <th>regret_2</th>\n",
        "      <th>support_1</th>\n",
        "      <th>support_2</th>\n",
        "      <th>time_1</th>\n",
        "      <th>time_2</th>\n",
        "      <th>time_awareness_evaluation</th>\n",
        "      <th>time_create</th>\n",
        "      <th>time_exposure</th>\n",
        "      <th>time_first_evaluation</th>\n",
        "      <th>time_second_evaluation</th>\n",
        "      <th>updating</th>\n",
        "      <th>year_born</th>\n",
        "    </tr>\n",
        "    <tr>\n",
        "      <th>treatment</th>\n",
        "      <th></th>\n",
        "      <th></th>\n",
        "      <th></th>\n",
        "      <th></th>\n",
        "      <th></th>\n",
        "      <th></th>\n",
        "      <th></th>\n",
        "      <th></th>\n",
        "      <th></th>\n",
        "      <th></th>\n",
        "      <th></th>\n",
        "      <th></th>\n",
        "      <th></th>\n",
        "      <th></th>\n",
        "      <th></th>\n",
        "      <th></th>\n",
        "      <th></th>\n",
        "    </tr>\n",
        "  </thead>\n",
        "  <tbody>\n",
        "    <tr>\n",
        "      <th rowspan=\"8\" valign=\"top\">CONTROL</th>\n",
        "      <th>count</th>\n",
        "      <td> 6.000000</td>\n",
        "      <td> 6.000000</td>\n",
        "      <td> 6.000000</td>\n",
        "      <td> 6.000000</td>\n",
        "      <td> 6.000000</td>\n",
        "      <td> 6.000000</td>\n",
        "      <td> 6.000000</td>\n",
        "      <td> 6.000000</td>\n",
        "      <td> 6.000000</td>\n",
        "      <td> 6.000000e+00</td>\n",
        "      <td> 6.000000e+00</td>\n",
        "      <td> 6.000000e+00</td>\n",
        "      <td> 6.000000e+00</td>\n",
        "      <td> 6.000000e+00</td>\n",
        "      <td> 6.00</td>\n",
        "      <td>    6.000000</td>\n",
        "    </tr>\n",
        "    <tr>\n",
        "      <th>mean</th>\n",
        "      <td> 1.166667</td>\n",
        "      <td> 4.000000</td>\n",
        "      <td> 4.000000</td>\n",
        "      <td> 1.666667</td>\n",
        "      <td> 1.333333</td>\n",
        "      <td> 3.333333</td>\n",
        "      <td> 4.166667</td>\n",
        "      <td> 4.333333</td>\n",
        "      <td> 3.833333</td>\n",
        "      <td> 1.418562e+09</td>\n",
        "      <td> 1.418726e+09</td>\n",
        "      <td> 1.418725e+09</td>\n",
        "      <td> 1.418726e+09</td>\n",
        "      <td> 1.418726e+09</td>\n",
        "      <td> 0.00</td>\n",
        "      <td> 1982.500000</td>\n",
        "    </tr>\n",
        "    <tr>\n",
        "      <th>std</th>\n",
        "      <td> 0.408248</td>\n",
        "      <td> 1.095445</td>\n",
        "      <td> 0.632456</td>\n",
        "      <td> 1.366260</td>\n",
        "      <td> 1.211060</td>\n",
        "      <td> 1.032796</td>\n",
        "      <td> 0.983192</td>\n",
        "      <td> 0.516398</td>\n",
        "      <td> 1.169045</td>\n",
        "      <td> 5.430324e+05</td>\n",
        "      <td> 1.214087e+06</td>\n",
        "      <td> 1.213632e+06</td>\n",
        "      <td> 1.213802e+06</td>\n",
        "      <td> 1.214083e+06</td>\n",
        "      <td> 0.00</td>\n",
        "      <td>    5.648008</td>\n",
        "    </tr>\n",
        "    <tr>\n",
        "      <th>min</th>\n",
        "      <td> 1.000000</td>\n",
        "      <td> 2.000000</td>\n",
        "      <td> 3.000000</td>\n",
        "      <td> 0.000000</td>\n",
        "      <td> 0.000000</td>\n",
        "      <td> 2.000000</td>\n",
        "      <td> 3.000000</td>\n",
        "      <td> 4.000000</td>\n",
        "      <td> 2.000000</td>\n",
        "      <td> 1.417538e+09</td>\n",
        "      <td> 1.417533e+09</td>\n",
        "      <td> 1.417533e+09</td>\n",
        "      <td> 1.417533e+09</td>\n",
        "      <td> 1.417533e+09</td>\n",
        "      <td> 0.00</td>\n",
        "      <td> 1973.000000</td>\n",
        "    </tr>\n",
        "    <tr>\n",
        "      <th>25%</th>\n",
        "      <td> 1.000000</td>\n",
        "      <td> 4.000000</td>\n",
        "      <td> 4.000000</td>\n",
        "      <td> 0.500000</td>\n",
        "      <td> 0.250000</td>\n",
        "      <td> 3.000000</td>\n",
        "      <td> 3.250000</td>\n",
        "      <td> 4.000000</td>\n",
        "      <td> 3.250000</td>\n",
        "      <td> 1.418475e+09</td>\n",
        "      <td> 1.417870e+09</td>\n",
        "      <td> 1.417869e+09</td>\n",
        "      <td> 1.417870e+09</td>\n",
        "      <td> 1.417870e+09</td>\n",
        "      <td> 0.00</td>\n",
        "      <td> 1980.000000</td>\n",
        "    </tr>\n",
        "    <tr>\n",
        "      <th>50%</th>\n",
        "      <td> 1.000000</td>\n",
        "      <td> 4.000000</td>\n",
        "      <td> 4.000000</td>\n",
        "      <td> 2.000000</td>\n",
        "      <td> 1.500000</td>\n",
        "      <td> 3.000000</td>\n",
        "      <td> 4.500000</td>\n",
        "      <td> 4.000000</td>\n",
        "      <td> 4.000000</td>\n",
        "      <td> 1.418796e+09</td>\n",
        "      <td> 1.418616e+09</td>\n",
        "      <td> 1.418615e+09</td>\n",
        "      <td> 1.418616e+09</td>\n",
        "      <td> 1.418616e+09</td>\n",
        "      <td> 0.00</td>\n",
        "      <td> 1984.000000</td>\n",
        "    </tr>\n",
        "    <tr>\n",
        "      <th>75%</th>\n",
        "      <td> 1.000000</td>\n",
        "      <td> 4.750000</td>\n",
        "      <td> 4.000000</td>\n",
        "      <td> 2.750000</td>\n",
        "      <td> 2.000000</td>\n",
        "      <td> 3.750000</td>\n",
        "      <td> 5.000000</td>\n",
        "      <td> 4.750000</td>\n",
        "      <td> 4.750000</td>\n",
        "      <td> 1.418852e+09</td>\n",
        "      <td> 1.418965e+09</td>\n",
        "      <td> 1.418964e+09</td>\n",
        "      <td> 1.418965e+09</td>\n",
        "      <td> 1.418965e+09</td>\n",
        "      <td> 0.00</td>\n",
        "      <td> 1986.500000</td>\n",
        "    </tr>\n",
        "    <tr>\n",
        "      <th>max</th>\n",
        "      <td> 2.000000</td>\n",
        "      <td> 5.000000</td>\n",
        "      <td> 5.000000</td>\n",
        "      <td> 3.000000</td>\n",
        "      <td> 3.000000</td>\n",
        "      <td> 5.000000</td>\n",
        "      <td> 5.000000</td>\n",
        "      <td> 5.000000</td>\n",
        "      <td> 5.000000</td>\n",
        "      <td> 1.419004e+09</td>\n",
        "      <td> 1.420890e+09</td>\n",
        "      <td> 1.420888e+09</td>\n",
        "      <td> 1.420889e+09</td>\n",
        "      <td> 1.420890e+09</td>\n",
        "      <td> 0.00</td>\n",
        "      <td> 1988.000000</td>\n",
        "    </tr>\n",
        "    <tr>\n",
        "      <th rowspan=\"8\" valign=\"top\">TREATMENT</th>\n",
        "      <th>count</th>\n",
        "      <td> 4.000000</td>\n",
        "      <td> 4.000000</td>\n",
        "      <td> 3.000000</td>\n",
        "      <td> 4.000000</td>\n",
        "      <td> 4.000000</td>\n",
        "      <td> 4.000000</td>\n",
        "      <td> 4.000000</td>\n",
        "      <td> 4.000000</td>\n",
        "      <td> 4.000000</td>\n",
        "      <td> 4.000000e+00</td>\n",
        "      <td> 4.000000e+00</td>\n",
        "      <td> 4.000000e+00</td>\n",
        "      <td> 4.000000e+00</td>\n",
        "      <td> 4.000000e+00</td>\n",
        "      <td> 4.00</td>\n",
        "      <td>    3.000000</td>\n",
        "    </tr>\n",
        "    <tr>\n",
        "      <th>mean</th>\n",
        "      <td> 1.000000</td>\n",
        "      <td> 4.000000</td>\n",
        "      <td> 4.333333</td>\n",
        "      <td> 1.250000</td>\n",
        "      <td> 1.500000</td>\n",
        "      <td> 4.000000</td>\n",
        "      <td> 4.000000</td>\n",
        "      <td> 4.250000</td>\n",
        "      <td> 4.250000</td>\n",
        "      <td> 1.418249e+09</td>\n",
        "      <td> 1.418512e+09</td>\n",
        "      <td> 1.418511e+09</td>\n",
        "      <td> 1.418511e+09</td>\n",
        "      <td> 1.418512e+09</td>\n",
        "      <td> 0.25</td>\n",
        "      <td> 1981.666667</td>\n",
        "    </tr>\n",
        "    <tr>\n",
        "      <th>std</th>\n",
        "      <td> 0.000000</td>\n",
        "      <td> 0.000000</td>\n",
        "      <td> 0.577350</td>\n",
        "      <td> 0.957427</td>\n",
        "      <td> 1.000000</td>\n",
        "      <td> 0.000000</td>\n",
        "      <td> 0.000000</td>\n",
        "      <td> 0.500000</td>\n",
        "      <td> 0.500000</td>\n",
        "      <td> 7.350050e+05</td>\n",
        "      <td> 6.529241e+05</td>\n",
        "      <td> 6.530418e+05</td>\n",
        "      <td> 6.530161e+05</td>\n",
        "      <td> 6.530352e+05</td>\n",
        "      <td> 0.50</td>\n",
        "      <td>    6.658328</td>\n",
        "    </tr>\n",
        "    <tr>\n",
        "      <th>min</th>\n",
        "      <td> 1.000000</td>\n",
        "      <td> 4.000000</td>\n",
        "      <td> 4.000000</td>\n",
        "      <td> 0.000000</td>\n",
        "      <td> 0.000000</td>\n",
        "      <td> 4.000000</td>\n",
        "      <td> 4.000000</td>\n",
        "      <td> 4.000000</td>\n",
        "      <td> 4.000000</td>\n",
        "      <td> 1.417534e+09</td>\n",
        "      <td> 1.417538e+09</td>\n",
        "      <td> 1.417537e+09</td>\n",
        "      <td> 1.417537e+09</td>\n",
        "      <td> 1.417538e+09</td>\n",
        "      <td> 0.00</td>\n",
        "      <td> 1974.000000</td>\n",
        "    </tr>\n",
        "    <tr>\n",
        "      <th>25%</th>\n",
        "      <td> 1.000000</td>\n",
        "      <td> 4.000000</td>\n",
        "      <td> 4.000000</td>\n",
        "      <td> 0.750000</td>\n",
        "      <td> 1.500000</td>\n",
        "      <td> 4.000000</td>\n",
        "      <td> 4.000000</td>\n",
        "      <td> 4.000000</td>\n",
        "      <td> 4.000000</td>\n",
        "      <td> 1.417657e+09</td>\n",
        "      <td> 1.418442e+09</td>\n",
        "      <td> 1.418441e+09</td>\n",
        "      <td> 1.418442e+09</td>\n",
        "      <td> 1.418442e+09</td>\n",
        "      <td> 0.00</td>\n",
        "      <td> 1979.500000</td>\n",
        "    </tr>\n",
        "    <tr>\n",
        "      <th>50%</th>\n",
        "      <td> 1.000000</td>\n",
        "      <td> 4.000000</td>\n",
        "      <td> 4.000000</td>\n",
        "      <td> 1.500000</td>\n",
        "      <td> 2.000000</td>\n",
        "      <td> 4.000000</td>\n",
        "      <td> 4.000000</td>\n",
        "      <td> 4.000000</td>\n",
        "      <td> 4.000000</td>\n",
        "      <td> 1.418276e+09</td>\n",
        "      <td> 1.418798e+09</td>\n",
        "      <td> 1.418797e+09</td>\n",
        "      <td> 1.418798e+09</td>\n",
        "      <td> 1.418798e+09</td>\n",
        "      <td> 0.00</td>\n",
        "      <td> 1985.000000</td>\n",
        "    </tr>\n",
        "    <tr>\n",
        "      <th>75%</th>\n",
        "      <td> 1.000000</td>\n",
        "      <td> 4.000000</td>\n",
        "      <td> 4.500000</td>\n",
        "      <td> 2.000000</td>\n",
        "      <td> 2.000000</td>\n",
        "      <td> 4.000000</td>\n",
        "      <td> 4.000000</td>\n",
        "      <td> 4.250000</td>\n",
        "      <td> 4.250000</td>\n",
        "      <td> 1.418868e+09</td>\n",
        "      <td> 1.418868e+09</td>\n",
        "      <td> 1.418868e+09</td>\n",
        "      <td> 1.418867e+09</td>\n",
        "      <td> 1.418868e+09</td>\n",
        "      <td> 0.25</td>\n",
        "      <td> 1985.500000</td>\n",
        "    </tr>\n",
        "    <tr>\n",
        "      <th>max</th>\n",
        "      <td> 1.000000</td>\n",
        "      <td> 4.000000</td>\n",
        "      <td> 5.000000</td>\n",
        "      <td> 2.000000</td>\n",
        "      <td> 2.000000</td>\n",
        "      <td> 4.000000</td>\n",
        "      <td> 4.000000</td>\n",
        "      <td> 5.000000</td>\n",
        "      <td> 5.000000</td>\n",
        "      <td> 1.418913e+09</td>\n",
        "      <td> 1.418912e+09</td>\n",
        "      <td> 1.418912e+09</td>\n",
        "      <td> 1.418912e+09</td>\n",
        "      <td> 1.418913e+09</td>\n",
        "      <td> 1.00</td>\n",
        "      <td> 1986.000000</td>\n",
        "    </tr>\n",
        "  </tbody>\n",
        "</table>\n",
        "</div>"
       ],
       "metadata": {},
       "output_type": "pyout",
       "prompt_number": 13,
       "text": [
        "                 academic    ease_1    ease_2  regret_1  regret_2  support_1  \\\n",
        "treatment                                                                      \n",
        "CONTROL   count  6.000000  6.000000  6.000000  6.000000  6.000000   6.000000   \n",
        "          mean   1.166667  4.000000  4.000000  1.666667  1.333333   3.333333   \n",
        "          std    0.408248  1.095445  0.632456  1.366260  1.211060   1.032796   \n",
        "          min    1.000000  2.000000  3.000000  0.000000  0.000000   2.000000   \n",
        "          25%    1.000000  4.000000  4.000000  0.500000  0.250000   3.000000   \n",
        "          50%    1.000000  4.000000  4.000000  2.000000  1.500000   3.000000   \n",
        "          75%    1.000000  4.750000  4.000000  2.750000  2.000000   3.750000   \n",
        "          max    2.000000  5.000000  5.000000  3.000000  3.000000   5.000000   \n",
        "TREATMENT count  4.000000  4.000000  3.000000  4.000000  4.000000   4.000000   \n",
        "          mean   1.000000  4.000000  4.333333  1.250000  1.500000   4.000000   \n",
        "          std    0.000000  0.000000  0.577350  0.957427  1.000000   0.000000   \n",
        "          min    1.000000  4.000000  4.000000  0.000000  0.000000   4.000000   \n",
        "          25%    1.000000  4.000000  4.000000  0.750000  1.500000   4.000000   \n",
        "          50%    1.000000  4.000000  4.000000  1.500000  2.000000   4.000000   \n",
        "          75%    1.000000  4.000000  4.500000  2.000000  2.000000   4.000000   \n",
        "          max    1.000000  4.000000  5.000000  2.000000  2.000000   4.000000   \n",
        "\n",
        "                 support_2    time_1    time_2  time_awareness_evaluation  \\\n",
        "treatment                                                                   \n",
        "CONTROL   count   6.000000  6.000000  6.000000               6.000000e+00   \n",
        "          mean    4.166667  4.333333  3.833333               1.418562e+09   \n",
        "          std     0.983192  0.516398  1.169045               5.430324e+05   \n",
        "          min     3.000000  4.000000  2.000000               1.417538e+09   \n",
        "          25%     3.250000  4.000000  3.250000               1.418475e+09   \n",
        "          50%     4.500000  4.000000  4.000000               1.418796e+09   \n",
        "          75%     5.000000  4.750000  4.750000               1.418852e+09   \n",
        "          max     5.000000  5.000000  5.000000               1.419004e+09   \n",
        "TREATMENT count   4.000000  4.000000  4.000000               4.000000e+00   \n",
        "          mean    4.000000  4.250000  4.250000               1.418249e+09   \n",
        "          std     0.000000  0.500000  0.500000               7.350050e+05   \n",
        "          min     4.000000  4.000000  4.000000               1.417534e+09   \n",
        "          25%     4.000000  4.000000  4.000000               1.417657e+09   \n",
        "          50%     4.000000  4.000000  4.000000               1.418276e+09   \n",
        "          75%     4.000000  4.250000  4.250000               1.418868e+09   \n",
        "          max     4.000000  5.000000  5.000000               1.418913e+09   \n",
        "\n",
        "                  time_create  time_exposure  time_first_evaluation  \\\n",
        "treatment                                                             \n",
        "CONTROL   count  6.000000e+00   6.000000e+00           6.000000e+00   \n",
        "          mean   1.418726e+09   1.418725e+09           1.418726e+09   \n",
        "          std    1.214087e+06   1.213632e+06           1.213802e+06   \n",
        "          min    1.417533e+09   1.417533e+09           1.417533e+09   \n",
        "          25%    1.417870e+09   1.417869e+09           1.417870e+09   \n",
        "          50%    1.418616e+09   1.418615e+09           1.418616e+09   \n",
        "          75%    1.418965e+09   1.418964e+09           1.418965e+09   \n",
        "          max    1.420890e+09   1.420888e+09           1.420889e+09   \n",
        "TREATMENT count  4.000000e+00   4.000000e+00           4.000000e+00   \n",
        "          mean   1.418512e+09   1.418511e+09           1.418511e+09   \n",
        "          std    6.529241e+05   6.530418e+05           6.530161e+05   \n",
        "          min    1.417538e+09   1.417537e+09           1.417537e+09   \n",
        "          25%    1.418442e+09   1.418441e+09           1.418442e+09   \n",
        "          50%    1.418798e+09   1.418797e+09           1.418798e+09   \n",
        "          75%    1.418868e+09   1.418868e+09           1.418867e+09   \n",
        "          max    1.418912e+09   1.418912e+09           1.418912e+09   \n",
        "\n",
        "                 time_second_evaluation  updating    year_born  \n",
        "treatment                                                       \n",
        "CONTROL   count            6.000000e+00      6.00     6.000000  \n",
        "          mean             1.418726e+09      0.00  1982.500000  \n",
        "          std              1.214083e+06      0.00     5.648008  \n",
        "          min              1.417533e+09      0.00  1973.000000  \n",
        "          25%              1.417870e+09      0.00  1980.000000  \n",
        "          50%              1.418616e+09      0.00  1984.000000  \n",
        "          75%              1.418965e+09      0.00  1986.500000  \n",
        "          max              1.420890e+09      0.00  1988.000000  \n",
        "TREATMENT count            4.000000e+00      4.00     3.000000  \n",
        "          mean             1.418512e+09      0.25  1981.666667  \n",
        "          std              6.530352e+05      0.50     6.658328  \n",
        "          min              1.417538e+09      0.00  1974.000000  \n",
        "          25%              1.418442e+09      0.00  1979.500000  \n",
        "          50%              1.418798e+09      0.00  1985.000000  \n",
        "          75%              1.418868e+09      0.25  1985.500000  \n",
        "          max              1.418913e+09      1.00  1986.000000  "
       ]
      }
     ],
     "prompt_number": 13
    },
    {
     "cell_type": "heading",
     "level": 3,
     "metadata": {},
     "source": [
      "Results"
     ]
    },
    {
     "cell_type": "code",
     "collapsed": false,
     "input": [
      "s = df_filtered.groupby(['treatment','when_to_2'])['when_to_2'].count()\n",
      "s.plot(kind='bar')\n"
     ],
     "language": "python",
     "metadata": {},
     "outputs": [
      {
       "metadata": {},
       "output_type": "pyout",
       "prompt_number": 14,
       "text": [
        "<matplotlib.axes._subplots.AxesSubplot at 0x10cd34a10>"
       ]
      },
      {
       "metadata": {},
       "output_type": "display_data",
       "png": "[encoded data removed]",
       "text": [
        "<matplotlib.figure.Figure at 0x10cecbed0>"
       ]
      }
     ],
     "prompt_number": 14
    },
    {
     "cell_type": "code",
     "collapsed": false,
     "input": [
      "s = df_filtered.groupby(['treatment','with_who_1'])['with_who_1'].count()\n",
      "s.plot(kind='bar')\n",
      "\n",
      "\n"
     ],
     "language": "python",
     "metadata": {},
     "outputs": [
      {
       "metadata": {},
       "output_type": "pyout",
       "prompt_number": 15,
       "text": [
        "<matplotlib.axes._subplots.AxesSubplot at 0x10e0dd390>"
       ]
      },
      {
       "metadata": {},
       "output_type": "display_data",
       "png": "[encoded data removed]",
       "text": [
        "<matplotlib.figure.Figure at 0x10e13b210>"
       ]
      }
     ],
     "prompt_number": 15
    },
    {
     "cell_type": "markdown",
     "metadata": {},
     "source": [
      "#### Sequence effects in the cross-over study in terms of Usability\n",
      "\n",
      "We asked the subjects to evaluate website usability in three realms: time of execution, support for execution and ease. The interfaces have no differences in navigation, or extra support such as tooltips or help buttons. there is one eastetic difference in that the interface A  hasextra white space on the sides in comparison to the interface B.\n",
      "The differences are all about the informtation displayed. We did not predict amy changes in terms of usability evaluation.\n",
      "\n",
      "\n",
      "It could be argue that our prediction holds for the evaluation of time of execution."
     ]
    },
    {
     "cell_type": "code",
     "collapsed": false,
     "input": [
      "sns.boxplot([df_filtered['time_1'], df_filtered['time_2'].fillna(0)],  names=[\"First\", \"Second\"],whis=np.inf, color=\"coral\",  join_rm=True, widths=.5)"
     ],
     "language": "python",
     "metadata": {},
     "outputs": [
      {
       "metadata": {},
       "output_type": "pyout",
       "prompt_number": 16,
       "text": [
        "<matplotlib.axes._subplots.AxesSubplot at 0x10ca51850>"
       ]
      },
      {
       "metadata": {},
       "output_type": "display_data",
       "png": "[encoded data removed]",
       "text": [
        "<matplotlib.figure.Figure at 0x10e21d050>"
       ]
      }
     ],
     "prompt_number": 16
    },
    {
     "cell_type": "markdown",
     "metadata": {},
     "source": [
      "The subjects do seem to think they have more support with the second product even when no additional support is given. There are two posible causes for this:\n",
      "\n",
      "- Learning: the execution of both products is identical and subjects could have become proficient at performing it.\n",
      "- Better understanding of the task: During the application of the experiment users were often confused about what to do the during the first product. Some of the did not understadn the instructions. When they got to the second part of the exercise they had better understanding of what was the purpose of it."
     ]
    },
    {
     "cell_type": "code",
     "collapsed": false,
     "input": [
      "sns.boxplot([df_filtered['support_1'], df_filtered['support_2'].fillna(0)],  names=[\"First\", \"Second\"],whis=np.inf, color=\"coral\",  join_rm=True, widths=.5)"
     ],
     "language": "python",
     "metadata": {},
     "outputs": [
      {
       "metadata": {},
       "output_type": "pyout",
       "prompt_number": 17,
       "text": [
        "<matplotlib.axes._subplots.AxesSubplot at 0x10e00b290>"
       ]
      },
      {
       "metadata": {},
       "output_type": "display_data",
       "png": "[encoded data removed]",
       "text": [
        "<matplotlib.figure.Figure at 0x10e9074d0>"
       ]
      }
     ],
     "prompt_number": 17
    },
    {
     "cell_type": "markdown",
     "metadata": {},
     "source": [
      "In terms of ease of execution, results have shown that there is not a clear relation with the sequence. "
     ]
    },
    {
     "cell_type": "code",
     "collapsed": false,
     "input": [
      "df_filtered2 = df_filtered[df_filtered['treatment'] == 'CONTROL']\n",
      "df_filtered3 = df_filtered[df_filtered['treatment'] == 'TREATMENT']\n",
      "\n",
      "#sns.boxplot([df_filtered2['ease_1'], df_filtered2['ease_2'].fillna(0)],  names=[\"pre\", \"post\"],whis=np.inf, color=\"coral\",  join_rm=True)\n",
      "\n",
      "#sns.boxplot([df_filtered3['ease_1'], df_filtered3['ease_2'].fillna(0)],  names=[\"pre\", \"post\"],whis=np.inf, color=\"coral\",  join_rm=True)\n",
      "\n",
      "sns.boxplot([df_filtered['ease_1'], df_filtered['ease_2'].fillna(0)],  names=[\"First\", \"Second\"],whis=np.inf, color=\"coral\",  join_rm=True, widths=.5)"
     ],
     "language": "python",
     "metadata": {},
     "outputs": [
      {
       "metadata": {},
       "output_type": "pyout",
       "prompt_number": 18,
       "text": [
        "<matplotlib.axes._subplots.AxesSubplot at 0x10e950310>"
       ]
      },
      {
       "metadata": {},
       "output_type": "display_data",
       "png": "[encoded data removed]",
       "text": [
        "<matplotlib.figure.Figure at 0x10e93dc90>"
       ]
      }
     ],
     "prompt_number": 18
    },
    {
     "cell_type": "code",
     "collapsed": false,
     "input": [
      "codes =pd.DataFrame.from_csv('helpers/baseline_codes.csv')\n",
      "#codes.join(df_filtered, on='when_best', how='right', lsuffix='_left', rsuffix='_right')\n",
      "\n",
      "df_filtered.merge(codes, on='when_best', how='left')\n"
     ],
     "language": "python",
     "metadata": {},
     "outputs": [
      {
       "html": [
        "<div style=\"max-height:1000px;max-width:1500px;overflow:auto;\">\n",
        "<table border=\"1\" class=\"dataframe\">\n",
        "  <thead>\n",
        "    <tr style=\"text-align: right;\">\n",
        "      <th></th>\n",
        "      <th>academic</th>\n",
        "      <th>awareness</th>\n",
        "      <th>data_file_title_1</th>\n",
        "      <th>data_file_title_2</th>\n",
        "      <th>discipline</th>\n",
        "      <th>ease_1</th>\n",
        "      <th>ease_2</th>\n",
        "      <th>frequency</th>\n",
        "      <th>honest</th>\n",
        "      <th>howmany</th>\n",
        "      <th>...</th>\n",
        "      <th>trust</th>\n",
        "      <th>updating</th>\n",
        "      <th>ways</th>\n",
        "      <th>when_best</th>\n",
        "      <th>when_to_1</th>\n",
        "      <th>when_to_2</th>\n",
        "      <th>with_who_1</th>\n",
        "      <th>with_who_2</th>\n",
        "      <th>year_born</th>\n",
        "      <th>baseline</th>\n",
        "    </tr>\n",
        "  </thead>\n",
        "  <tbody>\n",
        "    <tr>\n",
        "      <th>0</th>\n",
        "      <td> 1</td>\n",
        "      <td> [u'2', u'3']</td>\n",
        "      <td>                                       Survey 3434</td>\n",
        "      <td>                                            RNAseq</td>\n",
        "      <td> functional genomics researcher</td>\n",
        "      <td> 4</td>\n",
        "      <td>  5</td>\n",
        "      <td> once a year</td>\n",
        "      <td> on</td>\n",
        "      <td> between 2 and 4</td>\n",
        "      <td>...</td>\n",
        "      <td> cite</td>\n",
        "      <td> 0</td>\n",
        "      <td> [u'when  I am requested for the data', u\"by up...</td>\n",
        "      <td>         before publication of a peer-review paper</td>\n",
        "      <td>        NaN</td>\n",
        "      <td>          6</td>\n",
        "      <td>        public</td>\n",
        "      <td> collaborators</td>\n",
        "      <td> 1973</td>\n",
        "      <td>  6</td>\n",
        "    </tr>\n",
        "    <tr>\n",
        "      <th>1</th>\n",
        "      <td> 1</td>\n",
        "      <td>          NaN</td>\n",
        "      <td>                             Psycho cemical_rivers</td>\n",
        "      <td>          Enzyms in experiment (blood and insulin)</td>\n",
        "      <td>              Biologist-ecology</td>\n",
        "      <td> 4</td>\n",
        "      <td>  4</td>\n",
        "      <td>       never</td>\n",
        "      <td> on</td>\n",
        "      <td> between 2 and 4</td>\n",
        "      <td>...</td>\n",
        "      <td> cite</td>\n",
        "      <td> 1</td>\n",
        "      <td>       [u'when  I am requested for the data', u'']</td>\n",
        "      <td> +5 years after publication of a peer-review paper</td>\n",
        "      <td>          3</td>\n",
        "      <td> is_control</td>\n",
        "      <td> collaborators</td>\n",
        "      <td> collaborators</td>\n",
        "      <td> 1986</td>\n",
        "      <td>  2</td>\n",
        "    </tr>\n",
        "    <tr>\n",
        "      <th>2</th>\n",
        "      <td> 1</td>\n",
        "      <td>       [u'3']</td>\n",
        "      <td>                                           DataSet</td>\n",
        "      <td>                                           DataSet</td>\n",
        "      <td>                Systems Biology</td>\n",
        "      <td> 4</td>\n",
        "      <td>NaN</td>\n",
        "      <td>       never</td>\n",
        "      <td> on</td>\n",
        "      <td>         only me</td>\n",
        "      <td>...</td>\n",
        "      <td> cite</td>\n",
        "      <td> 0</td>\n",
        "      <td>    [u'I have never shared materials openly', u'']</td>\n",
        "      <td> immediately after publication of a peer-review...</td>\n",
        "      <td>        NaN</td>\n",
        "      <td> is_control</td>\n",
        "      <td>        public</td>\n",
        "      <td>        public</td>\n",
        "      <td> 1974</td>\n",
        "      <td>  5</td>\n",
        "    </tr>\n",
        "    <tr>\n",
        "      <th>3</th>\n",
        "      <td> 1</td>\n",
        "      <td>       [u'1']</td>\n",
        "      <td>                                        My Dataset</td>\n",
        "      <td>                                           dataset</td>\n",
        "      <td>      Environmental Engineering</td>\n",
        "      <td> 5</td>\n",
        "      <td>  4</td>\n",
        "      <td> once a year</td>\n",
        "      <td> on</td>\n",
        "      <td>         only me</td>\n",
        "      <td>...</td>\n",
        "      <td> cite</td>\n",
        "      <td> 0</td>\n",
        "      <td> [u'when  I am requested for the data', u\"by up...</td>\n",
        "      <td> immediately after publication of a peer-review...</td>\n",
        "      <td> is_control</td>\n",
        "      <td>          6</td>\n",
        "      <td> collaborators</td>\n",
        "      <td> collaborators</td>\n",
        "      <td> 1983</td>\n",
        "      <td>  5</td>\n",
        "    </tr>\n",
        "    <tr>\n",
        "      <th>4</th>\n",
        "      <td> 1</td>\n",
        "      <td>          NaN</td>\n",
        "      <td>                                               NaN</td>\n",
        "      <td>                                               NaN</td>\n",
        "      <td>                   Biochemistry</td>\n",
        "      <td> 4</td>\n",
        "      <td>  3</td>\n",
        "      <td>       never</td>\n",
        "      <td> on</td>\n",
        "      <td> between 2 and 4</td>\n",
        "      <td>...</td>\n",
        "      <td> cite</td>\n",
        "      <td> 0</td>\n",
        "      <td>                                                 0</td>\n",
        "      <td> immediately after publication of a peer-review...</td>\n",
        "      <td> is_control</td>\n",
        "      <td>        NaN</td>\n",
        "      <td> collaborators</td>\n",
        "      <td> collaborators</td>\n",
        "      <td> 1985</td>\n",
        "      <td>  5</td>\n",
        "    </tr>\n",
        "    <tr>\n",
        "      <th>5</th>\n",
        "      <td> 1</td>\n",
        "      <td>            3</td>\n",
        "      <td>    Fingerprints as evidence for a genetic profile</td>\n",
        "      <td>                                       Images list</td>\n",
        "      <td>                        Biology</td>\n",
        "      <td> 4</td>\n",
        "      <td>  5</td>\n",
        "      <td>       never</td>\n",
        "      <td> on</td>\n",
        "      <td> between 2 and 4</td>\n",
        "      <td>...</td>\n",
        "      <td>  jam</td>\n",
        "      <td> 0</td>\n",
        "      <td>   [u'by uploading it in an open repository', u'']</td>\n",
        "      <td>         before publication of a peer-review paper</td>\n",
        "      <td>          6</td>\n",
        "      <td> is_control</td>\n",
        "      <td>       private</td>\n",
        "      <td> collaborators</td>\n",
        "      <td> 1985</td>\n",
        "      <td>  6</td>\n",
        "    </tr>\n",
        "    <tr>\n",
        "      <th>6</th>\n",
        "      <td> 2</td>\n",
        "      <td>       [u'3']</td>\n",
        "      <td>                                  2014-12-12-set-1</td>\n",
        "      <td>                                 2014-12-12-2 set </td>\n",
        "      <td>                     Chemistry </td>\n",
        "      <td> 2</td>\n",
        "      <td>  4</td>\n",
        "      <td>       never</td>\n",
        "      <td> on</td>\n",
        "      <td>         only me</td>\n",
        "      <td>...</td>\n",
        "      <td>  jam</td>\n",
        "      <td> 0</td>\n",
        "      <td> [u'I have never shared materials with openly',...</td>\n",
        "      <td> immediately after publication of a peer-review...</td>\n",
        "      <td> is_control</td>\n",
        "      <td>        NaN</td>\n",
        "      <td> collaborators</td>\n",
        "      <td>        public</td>\n",
        "      <td> 1979</td>\n",
        "      <td>  5</td>\n",
        "    </tr>\n",
        "    <tr>\n",
        "      <th>7</th>\n",
        "      <td> 1</td>\n",
        "      <td>       [u'3']</td>\n",
        "      <td>                                               NaN</td>\n",
        "      <td>                                               NaN</td>\n",
        "      <td>                 bioinformatics</td>\n",
        "      <td> 5</td>\n",
        "      <td>  4</td>\n",
        "      <td>       never</td>\n",
        "      <td> on</td>\n",
        "      <td> between 2 and 4</td>\n",
        "      <td>...</td>\n",
        "      <td> cite</td>\n",
        "      <td> 0</td>\n",
        "      <td>                                                 0</td>\n",
        "      <td> immediately after publication of a peer-review...</td>\n",
        "      <td> is_control</td>\n",
        "      <td>        NaN</td>\n",
        "      <td>        public</td>\n",
        "      <td>        public</td>\n",
        "      <td> 1987</td>\n",
        "      <td>  5</td>\n",
        "    </tr>\n",
        "    <tr>\n",
        "      <th>8</th>\n",
        "      <td> 1</td>\n",
        "      <td>            3</td>\n",
        "      <td>                                               NaN</td>\n",
        "      <td>                                               NaN</td>\n",
        "      <td>                            NaN</td>\n",
        "      <td> 4</td>\n",
        "      <td>  4</td>\n",
        "      <td>         NaN</td>\n",
        "      <td> on</td>\n",
        "      <td>             NaN</td>\n",
        "      <td>...</td>\n",
        "      <td>  NaN</td>\n",
        "      <td> 0</td>\n",
        "      <td>                                                 0</td>\n",
        "      <td>                                               NaN</td>\n",
        "      <td>        NaN</td>\n",
        "      <td> is_control</td>\n",
        "      <td>        public</td>\n",
        "      <td> collaborators</td>\n",
        "      <td>  NaN</td>\n",
        "      <td>NaN</td>\n",
        "    </tr>\n",
        "    <tr>\n",
        "      <th>9</th>\n",
        "      <td> 1</td>\n",
        "      <td>            3</td>\n",
        "      <td> Temporal expression of MEF2 protein expression...</td>\n",
        "      <td> Temporal expression of MEF2 mRNA expression in...</td>\n",
        "      <td>                   Neuroscience</td>\n",
        "      <td> 4</td>\n",
        "      <td>  4</td>\n",
        "      <td> once a year</td>\n",
        "      <td> on</td>\n",
        "      <td> between 2 and 4</td>\n",
        "      <td>...</td>\n",
        "      <td> cite</td>\n",
        "      <td> 0</td>\n",
        "      <td>    [u'I have never shared materials openly', u'']</td>\n",
        "      <td> immediately after publication of a peer-review...</td>\n",
        "      <td> is_control</td>\n",
        "      <td>        NaN</td>\n",
        "      <td>        public</td>\n",
        "      <td>        public</td>\n",
        "      <td> 1988</td>\n",
        "      <td>  5</td>\n",
        "    </tr>\n",
        "  </tbody>\n",
        "</table>\n",
        "<p>10 rows \u00d7 33 columns</p>\n",
        "</div>"
       ],
       "metadata": {},
       "output_type": "pyout",
       "prompt_number": 19,
       "text": [
        "   academic     awareness                                  data_file_title_1  \\\n",
        "0         1  [u'2', u'3']                                        Survey 3434   \n",
        "1         1           NaN                              Psycho cemical_rivers   \n",
        "2         1        [u'3']                                            DataSet   \n",
        "3         1        [u'1']                                         My Dataset   \n",
        "4         1           NaN                                                NaN   \n",
        "5         1             3     Fingerprints as evidence for a genetic profile   \n",
        "6         2        [u'3']                                   2014-12-12-set-1   \n",
        "7         1        [u'3']                                                NaN   \n",
        "8         1             3                                                NaN   \n",
        "9         1             3  Temporal expression of MEF2 protein expression...   \n",
        "\n",
        "                                   data_file_title_2  \\\n",
        "0                                             RNAseq   \n",
        "1           Enzyms in experiment (blood and insulin)   \n",
        "2                                            DataSet   \n",
        "3                                            dataset   \n",
        "4                                                NaN   \n",
        "5                                        Images list   \n",
        "6                                  2014-12-12-2 set    \n",
        "7                                                NaN   \n",
        "8                                                NaN   \n",
        "9  Temporal expression of MEF2 mRNA expression in...   \n",
        "\n",
        "                       discipline  ease_1  ease_2    frequency honest  \\\n",
        "0  functional genomics researcher       4       5  once a year     on   \n",
        "1               Biologist-ecology       4       4        never     on   \n",
        "2                 Systems Biology       4     NaN        never     on   \n",
        "3       Environmental Engineering       5       4  once a year     on   \n",
        "4                    Biochemistry       4       3        never     on   \n",
        "5                         Biology       4       5        never     on   \n",
        "6                      Chemistry        2       4        never     on   \n",
        "7                  bioinformatics       5       4        never     on   \n",
        "8                             NaN       4       4          NaN     on   \n",
        "9                    Neuroscience       4       4  once a year     on   \n",
        "\n",
        "           howmany    ...    trust  updating  \\\n",
        "0  between 2 and 4    ...     cite         0   \n",
        "1  between 2 and 4    ...     cite         1   \n",
        "2          only me    ...     cite         0   \n",
        "3          only me    ...     cite         0   \n",
        "4  between 2 and 4    ...     cite         0   \n",
        "5  between 2 and 4    ...      jam         0   \n",
        "6          only me    ...      jam         0   \n",
        "7  between 2 and 4    ...     cite         0   \n",
        "8              NaN    ...      NaN         0   \n",
        "9  between 2 and 4    ...     cite         0   \n",
        "\n",
        "                                                ways  \\\n",
        "0  [u'when  I am requested for the data', u\"by up...   \n",
        "1        [u'when  I am requested for the data', u'']   \n",
        "2     [u'I have never shared materials openly', u'']   \n",
        "3  [u'when  I am requested for the data', u\"by up...   \n",
        "4                                                  0   \n",
        "5    [u'by uploading it in an open repository', u'']   \n",
        "6  [u'I have never shared materials with openly',...   \n",
        "7                                                  0   \n",
        "8                                                  0   \n",
        "9     [u'I have never shared materials openly', u'']   \n",
        "\n",
        "                                           when_best   when_to_1   when_to_2  \\\n",
        "0          before publication of a peer-review paper         NaN           6   \n",
        "1  +5 years after publication of a peer-review paper           3  is_control   \n",
        "2  immediately after publication of a peer-review...         NaN  is_control   \n",
        "3  immediately after publication of a peer-review...  is_control           6   \n",
        "4  immediately after publication of a peer-review...  is_control         NaN   \n",
        "5          before publication of a peer-review paper           6  is_control   \n",
        "6  immediately after publication of a peer-review...  is_control         NaN   \n",
        "7  immediately after publication of a peer-review...  is_control         NaN   \n",
        "8                                                NaN         NaN  is_control   \n",
        "9  immediately after publication of a peer-review...  is_control         NaN   \n",
        "\n",
        "      with_who_1     with_who_2  year_born  baseline  \n",
        "0         public  collaborators       1973         6  \n",
        "1  collaborators  collaborators       1986         2  \n",
        "2         public         public       1974         5  \n",
        "3  collaborators  collaborators       1983         5  \n",
        "4  collaborators  collaborators       1985         5  \n",
        "5        private  collaborators       1985         6  \n",
        "6  collaborators         public       1979         5  \n",
        "7         public         public       1987         5  \n",
        "8         public  collaborators        NaN       NaN  \n",
        "9         public         public       1988         5  \n",
        "\n",
        "[10 rows x 33 columns]"
       ]
      }
     ],
     "prompt_number": 19
    },
    {
     "cell_type": "code",
     "collapsed": false,
     "input": [
      "s= code_measures(df_filtered)\n",
      "x = code_baseline(s)\n",
      "\n"
     ],
     "language": "python",
     "metadata": {},
     "outputs": [
      {
       "output_type": "stream",
       "stream": "stderr",
       "text": [
        "code_data.py:58: SettingWithCopyWarning: \n",
        "A value is trying to be set on a copy of a slice from a DataFrame.\n",
        "Try using .loc[row_indexer,col_indexer] = value instead\n",
        "\n",
        "See the the caveats in the documentation: http://pandas.pydata.org/pandas-docs/stable/indexing.html#indexing-view-versus-copy\n",
        "  df_filtered['measure_2'] = pd.Series(0, index=df_filtered.index)\n",
        "code_data.py:59: SettingWithCopyWarning: \n",
        "A value is trying to be set on a copy of a slice from a DataFrame.\n",
        "Try using .loc[row_indexer,col_indexer] = value instead\n",
        "\n",
        "See the the caveats in the documentation: http://pandas.pydata.org/pandas-docs/stable/indexing.html#indexing-view-versus-copy\n",
        "  df_filtered['measure_1'] = pd.Series(0, index=df_filtered.index)\n"
       ]
      },
      {
       "output_type": "stream",
       "stream": "stderr",
       "text": [
        "code_data.py:63: SettingWithCopyWarning: \n",
        "A value is trying to be set on a copy of a slice from a DataFrame\n",
        "\n",
        "See the the caveats in the documentation: http://pandas.pydata.org/pandas-docs/stable/indexing.html#indexing-view-versus-copy\n",
        "  d.measure_1[d['with_who_1'] == 'public'] = 5\n",
        "/Users/kristian/miniconda/lib/python2.7/site-packages/pandas/core/generic.py:3368: SettingWithCopyWarning: \n",
        "A value is trying to be set on a copy of a slice from a DataFrame\n",
        "\n",
        "See the the caveats in the documentation: http://pandas.pydata.org/pandas-docs/stable/indexing.html#indexing-view-versus-copy\n",
        "  self._update_inplace(new_data)\n"
       ]
      },
      {
       "output_type": "stream",
       "stream": "stderr",
       "text": [
        "-c:1: SettingWithCopyWarning: \n",
        "A value is trying to be set on a copy of a slice from a DataFrame\n",
        "\n",
        "See the the caveats in the documentation: http://pandas.pydata.org/pandas-docs/stable/indexing.html#indexing-view-versus-copy\n",
        "code_data.py:64: SettingWithCopyWarning: \n",
        "A value is trying to be set on a copy of a slice from a DataFrame\n",
        "\n",
        "See the the caveats in the documentation: http://pandas.pydata.org/pandas-docs/stable/indexing.html#indexing-view-versus-copy\n",
        "  d.measure_1[d['with_who_1'] == 'collaborators'] = 1\n"
       ]
      },
      {
       "output_type": "stream",
       "stream": "stderr",
       "text": [
        "code_data.py:65: SettingWithCopyWarning: \n",
        "A value is trying to be set on a copy of a slice from a DataFrame\n",
        "\n",
        "See the the caveats in the documentation: http://pandas.pydata.org/pandas-docs/stable/indexing.html#indexing-view-versus-copy\n",
        "  d.measure_1[d['with_who_1'] == 'private'] = 1\n",
        "code_data.py:67: SettingWithCopyWarning: \n",
        "A value is trying to be set on a copy of a slice from a DataFrame\n",
        "\n",
        "See the the caveats in the documentation: http://pandas.pydata.org/pandas-docs/stable/indexing.html#indexing-view-versus-copy\n",
        "  d.measure_2[d['with_who_2'] != 'public'] = 1\n"
       ]
      },
      {
       "output_type": "stream",
       "stream": "stderr",
       "text": [
        "code_data.py:68: SettingWithCopyWarning: \n",
        "A value is trying to be set on a copy of a slice from a DataFrame\n",
        "\n",
        "See the the caveats in the documentation: http://pandas.pydata.org/pandas-docs/stable/indexing.html#indexing-view-versus-copy\n",
        "  d.measure_2[d['with_who_2'] == 'public'] = 5\n",
        "code_data.py:69: SettingWithCopyWarning: \n",
        "A value is trying to be set on a copy of a slice from a DataFrame\n",
        "\n",
        "See the the caveats in the documentation: http://pandas.pydata.org/pandas-docs/stable/indexing.html#indexing-view-versus-copy\n",
        "  d.measure_2[d['when_to_2'] == '10'] = 2\n"
       ]
      },
      {
       "output_type": "stream",
       "stream": "stderr",
       "text": [
        "code_data.py:70: SettingWithCopyWarning: \n",
        "A value is trying to be set on a copy of a slice from a DataFrame\n",
        "\n",
        "See the the caveats in the documentation: http://pandas.pydata.org/pandas-docs/stable/indexing.html#indexing-view-versus-copy\n",
        "  d.measure_2[d['when_to_2'] == '3'] = 3\n",
        "code_data.py:71: SettingWithCopyWarning: \n",
        "A value is trying to be set on a copy of a slice from a DataFrame\n",
        "\n",
        "See the the caveats in the documentation: http://pandas.pydata.org/pandas-docs/stable/indexing.html#indexing-view-versus-copy\n",
        "  d.measure_2[d['when_to_2'] == '6'] = 4\n"
       ]
      },
      {
       "output_type": "stream",
       "stream": "stderr",
       "text": [
        "code_data.py:72: SettingWithCopyWarning: \n",
        "A value is trying to be set on a copy of a slice from a DataFrame\n",
        "\n",
        "See the the caveats in the documentation: http://pandas.pydata.org/pandas-docs/stable/indexing.html#indexing-view-versus-copy\n",
        "  d.measure_2[d['when_to_2'] == '1'] = 4\n",
        "code_data.py:77: SettingWithCopyWarning: \n",
        "A value is trying to be set on a copy of a slice from a DataFrame\n",
        "\n",
        "See the the caveats in the documentation: http://pandas.pydata.org/pandas-docs/stable/indexing.html#indexing-view-versus-copy\n",
        "  df.measure_2[df['with_who_2'] == 'public'] = 5\n"
       ]
      },
      {
       "output_type": "stream",
       "stream": "stderr",
       "text": [
        "code_data.py:78: SettingWithCopyWarning: \n",
        "A value is trying to be set on a copy of a slice from a DataFrame\n",
        "\n",
        "See the the caveats in the documentation: http://pandas.pydata.org/pandas-docs/stable/indexing.html#indexing-view-versus-copy\n",
        "  df.measure_2[df['with_who_2'] == 'collaborators'] = 1\n",
        "code_data.py:79: SettingWithCopyWarning: \n",
        "A value is trying to be set on a copy of a slice from a DataFrame\n",
        "\n",
        "See the the caveats in the documentation: http://pandas.pydata.org/pandas-docs/stable/indexing.html#indexing-view-versus-copy\n",
        "  df.measure_2[df['with_who_2'] == 'private'] = 1\n"
       ]
      },
      {
       "output_type": "stream",
       "stream": "stderr",
       "text": [
        "code_data.py:81: SettingWithCopyWarning: \n",
        "A value is trying to be set on a copy of a slice from a DataFrame\n",
        "\n",
        "See the the caveats in the documentation: http://pandas.pydata.org/pandas-docs/stable/indexing.html#indexing-view-versus-copy\n",
        "  df.measure_1[df['with_who_1'] != 'public'] = 1\n",
        "code_data.py:82: SettingWithCopyWarning: \n",
        "A value is trying to be set on a copy of a slice from a DataFrame\n",
        "\n",
        "See the the caveats in the documentation: http://pandas.pydata.org/pandas-docs/stable/indexing.html#indexing-view-versus-copy\n",
        "  df.measure_1[df['with_who_1'] == 'public'] = 5\n"
       ]
      },
      {
       "output_type": "stream",
       "stream": "stderr",
       "text": [
        "code_data.py:83: SettingWithCopyWarning: \n",
        "A value is trying to be set on a copy of a slice from a DataFrame\n",
        "\n",
        "See the the caveats in the documentation: http://pandas.pydata.org/pandas-docs/stable/indexing.html#indexing-view-versus-copy\n",
        "  df.measure_1[df['when_to_1'] == '10'] = 2\n",
        "code_data.py:84: SettingWithCopyWarning: \n",
        "A value is trying to be set on a copy of a slice from a DataFrame\n",
        "\n",
        "See the the caveats in the documentation: http://pandas.pydata.org/pandas-docs/stable/indexing.html#indexing-view-versus-copy\n",
        "  df.measure_1[df['when_to_1'] == '3'] = 3\n"
       ]
      },
      {
       "output_type": "stream",
       "stream": "stderr",
       "text": [
        "code_data.py:85: SettingWithCopyWarning: \n",
        "A value is trying to be set on a copy of a slice from a DataFrame\n",
        "\n",
        "See the the caveats in the documentation: http://pandas.pydata.org/pandas-docs/stable/indexing.html#indexing-view-versus-copy\n",
        "  df.measure_1[df['when_to_1'] == '6'] = 4\n",
        "code_data.py:86: SettingWithCopyWarning: \n",
        "A value is trying to be set on a copy of a slice from a DataFrame\n",
        "\n",
        "See the the caveats in the documentation: http://pandas.pydata.org/pandas-docs/stable/indexing.html#indexing-view-versus-copy\n",
        "  df.measure_1[df['when_to_1'] == '1'] = 4\n"
       ]
      },
      {
       "output_type": "stream",
       "stream": "stderr",
       "text": [
        "code_data.py:25: SettingWithCopyWarning: \n",
        "A value is trying to be set on a copy of a slice from a DataFrame\n",
        "\n",
        "See the the caveats in the documentation: http://pandas.pydata.org/pandas-docs/stable/indexing.html#indexing-view-versus-copy\n",
        "  series.baseline[series['when_best'] == '+10 years after publication of a peer-review paper'] = 1\n",
        "code_data.py:26: SettingWithCopyWarning: \n",
        "A value is trying to be set on a copy of a slice from a DataFrame\n",
        "\n",
        "See the the caveats in the documentation: http://pandas.pydata.org/pandas-docs/stable/indexing.html#indexing-view-versus-copy\n",
        "  series.baseline[series['when_best'] == '+5 years after publication of a peer-review paper'] = 2\n"
       ]
      },
      {
       "output_type": "stream",
       "stream": "stderr",
       "text": [
        "code_data.py:27: SettingWithCopyWarning: \n",
        "A value is trying to be set on a copy of a slice from a DataFrame\n",
        "\n",
        "See the the caveats in the documentation: http://pandas.pydata.org/pandas-docs/stable/indexing.html#indexing-view-versus-copy\n",
        "  series.baseline[series['when_best'] == '+3 years after publication of a peer-review paper'] = 3\n",
        "code_data.py:28: SettingWithCopyWarning: \n",
        "A value is trying to be set on a copy of a slice from a DataFrame\n",
        "\n",
        "See the the caveats in the documentation: http://pandas.pydata.org/pandas-docs/stable/indexing.html#indexing-view-versus-copy\n",
        "  series.baseline[series['when_best'] == '+1 years after publication of a peer-review paper'] = 4\n"
       ]
      },
      {
       "output_type": "stream",
       "stream": "stderr",
       "text": [
        "code_data.py:29: SettingWithCopyWarning: \n",
        "A value is trying to be set on a copy of a slice from a DataFrame\n",
        "\n",
        "See the the caveats in the documentation: http://pandas.pydata.org/pandas-docs/stable/indexing.html#indexing-view-versus-copy\n",
        "  series.baseline[series['when_best'] == 'immediately after publication of a peer-review paper'] = 5\n",
        "code_data.py:30: SettingWithCopyWarning: \n",
        "A value is trying to be set on a copy of a slice from a DataFrame\n",
        "\n",
        "See the the caveats in the documentation: http://pandas.pydata.org/pandas-docs/stable/indexing.html#indexing-view-versus-copy\n",
        "  series.baseline[series['when_best'] == 'before publication of a peer-review paper'] = 6\n"
       ]
      }
     ],
     "prompt_number": 20
    },
    {
     "cell_type": "code",
     "collapsed": false,
     "input": [
      "x.to_csv(\"coded_df.csv\")"
     ],
     "language": "python",
     "metadata": {},
     "outputs": [],
     "prompt_number": 21
    },
    {
     "cell_type": "markdown",
     "metadata": {},
     "source": [
      "#### Sequence effects in the cross-over study\n",
      "\n",
      "> These analysis of these results is done without considering the qualitative data we have collected troughtout the pilot. Some of these participants would have to be discarded in the basis that they sharing preferences followed a different rational from that of the experimental scenario.\n",
      "\n",
      "This is the aggregated of all the subjects under the two sequences. "
     ]
    },
    {
     "cell_type": "code",
     "collapsed": true,
     "input": [
      "sns.boxplot([x['baseline'], x['measure_1'].fillna(0), x['measure_2'].fillna(0)],  names=[\"baseline\",\"First\", \"Second\"],whis=np.inf, color=\"pastel\",  join_rm=True, widths=.5)"
     ],
     "language": "python",
     "metadata": {},
     "outputs": [
      {
       "metadata": {},
       "output_type": "pyout",
       "prompt_number": 22,
       "text": [
        "<matplotlib.axes._subplots.AxesSubplot at 0x10c70fd90>"
       ]
      },
      {
       "metadata": {},
       "output_type": "display_data",
       "png": "[encoded data removed]",
       "text": [
        "<matplotlib.figure.Figure at 0x10bd49490>"
       ]
      }
     ],
     "prompt_number": 22
    },
    {
     "cell_type": "markdown",
     "metadata": {},
     "source": [
      "#### Products effects without Sequence effects (without carry-over)\n",
      "\n",
      "\n",
      "In order to assess the results without carry-over effects we observerd the effects of the products in their first measure only (t=0) and compared the magainst the baseline.\n",
      "\n",
      "The product framed as GAIN has a more positive effect on openess than the LOSS framed product. This align with our hypothesis. However there are some caveats.\n",
      "\n"
     ]
    },
    {
     "cell_type": "code",
     "collapsed": false,
     "input": [
      "y = x[x['treatment'] == 'TREATMENT']\n",
      "sns.boxplot([y['baseline'], y['measure_1'].fillna(0)],  names=[\"Baseline\",\"Product:GAIN\" ],whis=np.inf, color=\"pastel\",  join_rm=True, widths=.5)\n",
      "\n",
      "print y.measure_1"
     ],
     "language": "python",
     "metadata": {},
     "outputs": [
      {
       "output_type": "stream",
       "stream": "stdout",
       "text": [
        "sessionid\n",
        "846c48d7ca77cecae577d9533df01226    3\n",
        "c8f46d4d7396f2bd6056a74d449e2c41    5\n",
        "c613e1d8edb212114499aff4bf996a8c    4\n",
        "d6471d9c7dc604952ebc33167be33960    5\n",
        "Name: measure_1, dtype: int64\n"
       ]
      },
      {
       "metadata": {},
       "output_type": "display_data",
       "png": "[encoded data removed]",
       "text": [
        "<matplotlib.figure.Figure at 0x10c45f3d0>"
       ]
      }
     ],
     "prompt_number": 23
    },
    {
     "cell_type": "code",
     "collapsed": false,
     "input": [
      "y = x[x['treatment'] == 'CONTROL']\n",
      "sns.boxplot([y['baseline'], y['measure_1'].fillna(0)],  names=[\"Baseline\",\"Product:LOSS\" ],whis=np.inf, color=\"pastel\",  join_rm=True,widths=.5)"
     ],
     "language": "python",
     "metadata": {},
     "outputs": [
      {
       "metadata": {},
       "output_type": "pyout",
       "prompt_number": 24,
       "text": [
        "<matplotlib.axes._subplots.AxesSubplot at 0x10ed39810>"
       ]
      },
      {
       "metadata": {},
       "output_type": "display_data",
       "png": "[encoded data removed]",
       "text": [
        "<matplotlib.figure.Figure at 0x10edde450>"
       ]
      }
     ],
     "prompt_number": 24
    },
    {
     "cell_type": "markdown",
     "metadata": {},
     "source": [
      "#### Products effects within the Sequence  ( with carry-over)"
     ]
    },
    {
     "cell_type": "code",
     "collapsed": false,
     "input": [
      "y = x[x['treatment'] == 'CONTROL']\n",
      "sns.boxplot([y['measure_1'], y['measure_2'].fillna(0)],  names=[\"Product:LOSS\",\"Product:GAIN\" ],whis=np.inf, color=\"pastel\",  join_rm=True, widths=.5)"
     ],
     "language": "python",
     "metadata": {},
     "outputs": [
      {
       "metadata": {},
       "output_type": "pyout",
       "prompt_number": 25,
       "text": [
        "<matplotlib.axes._subplots.AxesSubplot at 0x10ef14d50>"
       ]
      },
      {
       "metadata": {},
       "output_type": "display_data",
       "png": "[encoded data removed]",
       "text": [
        "<matplotlib.figure.Figure at 0x10ef2b190>"
       ]
      }
     ],
     "prompt_number": 25
    },
    {
     "cell_type": "code",
     "collapsed": false,
     "input": [
      "y = x[x['treatment'] == 'TREATMENT']\n",
      "sns.boxplot([y['measure_1'], y['measure_2'].fillna(0)],  names=[\"Product:GAIN\",\"Product:LOSS\" ],whis=np.inf, color=\"pastel\",  join_rm=True, widths=.5)"
     ],
     "language": "python",
     "metadata": {},
     "outputs": [
      {
       "metadata": {},
       "output_type": "pyout",
       "prompt_number": 26,
       "text": [
        "<matplotlib.axes._subplots.AxesSubplot at 0x10f183c50>"
       ]
      },
      {
       "metadata": {},
       "output_type": "display_data",
       "png": "[encoded data removed]",
       "text": [
        "<matplotlib.figure.Figure at 0x10f19e910>"
       ]
      }
     ],
     "prompt_number": 26
    },
    {
     "cell_type": "markdown",
     "metadata": {},
     "source": [
      "### Sequence effects in the cross-over study wihtout considering Structure Complex choice\n"
     ]
    },
    {
     "cell_type": "code",
     "collapsed": false,
     "input": [
      "s= code_measures_wo_scc(df_filtered)\n",
      "x = code_baseline(s)"
     ],
     "language": "python",
     "metadata": {},
     "outputs": [
      {
       "output_type": "stream",
       "stream": "stderr",
       "text": [
        "code_data.py:96: SettingWithCopyWarning: \n",
        "A value is trying to be set on a copy of a slice from a DataFrame.\n",
        "Try using .loc[row_indexer,col_indexer] = value instead\n",
        "\n",
        "See the the caveats in the documentation: http://pandas.pydata.org/pandas-docs/stable/indexing.html#indexing-view-versus-copy\n",
        "  df_filtered['measure_2'] = pd.Series(0, index=df_filtered.index)\n",
        "code_data.py:97: SettingWithCopyWarning: \n",
        "A value is trying to be set on a copy of a slice from a DataFrame.\n",
        "Try using .loc[row_indexer,col_indexer] = value instead\n",
        "\n",
        "See the the caveats in the documentation: http://pandas.pydata.org/pandas-docs/stable/indexing.html#indexing-view-versus-copy\n",
        "  df_filtered['measure_1'] = pd.Series(0, index=df_filtered.index)\n"
       ]
      },
      {
       "output_type": "stream",
       "stream": "stderr",
       "text": [
        "code_data.py:101: SettingWithCopyWarning: \n",
        "A value is trying to be set on a copy of a slice from a DataFrame\n",
        "\n",
        "See the the caveats in the documentation: http://pandas.pydata.org/pandas-docs/stable/indexing.html#indexing-view-versus-copy\n",
        "  d.measure_1[d['with_who_1'] == 'public'] = 5\n",
        "code_data.py:102: SettingWithCopyWarning: \n",
        "A value is trying to be set on a copy of a slice from a DataFrame\n",
        "\n",
        "See the the caveats in the documentation: http://pandas.pydata.org/pandas-docs/stable/indexing.html#indexing-view-versus-copy\n",
        "  d.measure_1[d['with_who_1'] == 'collaborators'] = 3\n"
       ]
      },
      {
       "output_type": "stream",
       "stream": "stderr",
       "text": [
        "code_data.py:103: SettingWithCopyWarning: \n",
        "A value is trying to be set on a copy of a slice from a DataFrame\n",
        "\n",
        "See the the caveats in the documentation: http://pandas.pydata.org/pandas-docs/stable/indexing.html#indexing-view-versus-copy\n",
        "  d.measure_1[d['with_who_1'] == 'private'] = 1\n",
        "code_data.py:106: SettingWithCopyWarning: \n",
        "A value is trying to be set on a copy of a slice from a DataFrame\n",
        "\n",
        "See the the caveats in the documentation: http://pandas.pydata.org/pandas-docs/stable/indexing.html#indexing-view-versus-copy\n",
        "  d.measure_2[d['with_who_2'] == 'public'] = 5\n"
       ]
      },
      {
       "output_type": "stream",
       "stream": "stderr",
       "text": [
        "code_data.py:107: SettingWithCopyWarning: \n",
        "A value is trying to be set on a copy of a slice from a DataFrame\n",
        "\n",
        "See the the caveats in the documentation: http://pandas.pydata.org/pandas-docs/stable/indexing.html#indexing-view-versus-copy\n",
        "  d.measure_2[d['with_who_2'] == 'collaborators'] = 3\n",
        "code_data.py:108: SettingWithCopyWarning: \n",
        "A value is trying to be set on a copy of a slice from a DataFrame\n",
        "\n",
        "See the the caveats in the documentation: http://pandas.pydata.org/pandas-docs/stable/indexing.html#indexing-view-versus-copy\n",
        "  d.measure_2[d['with_who_2'] == 'private'] = 1\n"
       ]
      },
      {
       "output_type": "stream",
       "stream": "stderr",
       "text": [
        "code_data.py:117: SettingWithCopyWarning: \n",
        "A value is trying to be set on a copy of a slice from a DataFrame\n",
        "\n",
        "See the the caveats in the documentation: http://pandas.pydata.org/pandas-docs/stable/indexing.html#indexing-view-versus-copy\n",
        "  df.measure_2[df['with_who_2'] == 'public'] = 5\n",
        "code_data.py:118: SettingWithCopyWarning: \n",
        "A value is trying to be set on a copy of a slice from a DataFrame\n",
        "\n",
        "See the the caveats in the documentation: http://pandas.pydata.org/pandas-docs/stable/indexing.html#indexing-view-versus-copy\n",
        "  df.measure_2[df['with_who_2'] == 'collaborators'] = 3\n"
       ]
      },
      {
       "output_type": "stream",
       "stream": "stderr",
       "text": [
        "code_data.py:119: SettingWithCopyWarning: \n",
        "A value is trying to be set on a copy of a slice from a DataFrame\n",
        "\n",
        "See the the caveats in the documentation: http://pandas.pydata.org/pandas-docs/stable/indexing.html#indexing-view-versus-copy\n",
        "  df.measure_2[df['with_who_2'] == 'private'] = 1\n",
        "code_data.py:122: SettingWithCopyWarning: \n",
        "A value is trying to be set on a copy of a slice from a DataFrame\n",
        "\n",
        "See the the caveats in the documentation: http://pandas.pydata.org/pandas-docs/stable/indexing.html#indexing-view-versus-copy\n",
        "  df.measure_1[df['with_who_1'] == 'public'] = 5\n"
       ]
      },
      {
       "output_type": "stream",
       "stream": "stderr",
       "text": [
        "code_data.py:123: SettingWithCopyWarning: \n",
        "A value is trying to be set on a copy of a slice from a DataFrame\n",
        "\n",
        "See the the caveats in the documentation: http://pandas.pydata.org/pandas-docs/stable/indexing.html#indexing-view-versus-copy\n",
        "  df.measure_1[df['with_who_2'] == 'collaborators'] = 3\n",
        "code_data.py:124: SettingWithCopyWarning: \n",
        "A value is trying to be set on a copy of a slice from a DataFrame\n",
        "\n",
        "See the the caveats in the documentation: http://pandas.pydata.org/pandas-docs/stable/indexing.html#indexing-view-versus-copy\n",
        "  df.measure_1[df['with_who_2'] == 'private'] = 1\n"
       ]
      }
     ],
     "prompt_number": 27
    },
    {
     "cell_type": "code",
     "collapsed": false,
     "input": [
      "x.to_csv(\"coded_df.csv\")"
     ],
     "language": "python",
     "metadata": {},
     "outputs": [],
     "prompt_number": 28
    },
    {
     "cell_type": "code",
     "collapsed": true,
     "input": [
      "sns.boxplot([x['baseline'], x['measure_1'].fillna(0), x['measure_2'].fillna(0)],  names=[\"baseline\",\"First\", \"Second\"],whis=np.inf, color=\"pastel\",  join_rm=True, widths=.5)"
     ],
     "language": "python",
     "metadata": {},
     "outputs": [
      {
       "metadata": {},
       "output_type": "pyout",
       "prompt_number": 29,
       "text": [
        "<matplotlib.axes._subplots.AxesSubplot at 0x10f24cb10>"
       ]
      },
      {
       "metadata": {},
       "output_type": "display_data",
       "png": "[encoded data removed]",
       "text": [
        "<matplotlib.figure.Figure at 0x10ed39b10>"
       ]
      }
     ],
     "prompt_number": 29
    },
    {
     "cell_type": "code",
     "collapsed": false,
     "input": [
      "y = x[x['treatment'] == 'TREATMENT']\n",
      "sns.boxplot([y['baseline'], y['measure_1'].fillna(0)],  names=[\"Baseline\",\"Product:GAIN\" ],whis=np.inf, color=\"pastel\",  join_rm=True, widths=.5)\n",
      "\n",
      "print y.measure_1"
     ],
     "language": "python",
     "metadata": {},
     "outputs": [
      {
       "output_type": "stream",
       "stream": "stdout",
       "text": [
        "sessionid\n",
        "846c48d7ca77cecae577d9533df01226    3\n",
        "c8f46d4d7396f2bd6056a74d449e2c41    5\n",
        "c613e1d8edb212114499aff4bf996a8c    3\n",
        "d6471d9c7dc604952ebc33167be33960    3\n",
        "Name: measure_1, dtype: int64\n"
       ]
      },
      {
       "metadata": {},
       "output_type": "display_data",
       "png": "[encoded data removed]",
       "text": [
        "<matplotlib.figure.Figure at 0x10f1a6050>"
       ]
      }
     ],
     "prompt_number": 30
    },
    {
     "cell_type": "code",
     "collapsed": false,
     "input": [],
     "language": "python",
     "metadata": {},
     "outputs": [],
     "prompt_number": 30
    },
    {
     "cell_type": "code",
     "collapsed": false,
     "input": [
      "y = x[x['treatment'] == 'CONTROL']\n",
      "sns.boxplot([y['baseline'], y['measure_1'].fillna(0)],  names=[\"Baseline\",\"Product:LOSS\" ],whis=np.inf, color=\"pastel\",  join_rm=True,widths=.5)"
     ],
     "language": "python",
     "metadata": {},
     "outputs": [
      {
       "metadata": {},
       "output_type": "pyout",
       "prompt_number": 31,
       "text": [
        "<matplotlib.axes._subplots.AxesSubplot at 0x10ef72910>"
       ]
      },
      {
       "metadata": {},
       "output_type": "display_data",
       "png": "[encoded data removed]",
       "text": [
        "<matplotlib.figure.Figure at 0x10f62ff90>"
       ]
      }
     ],
     "prompt_number": 31
    },
    {
     "cell_type": "code",
     "collapsed": false,
     "input": [
      "y = x[x['treatment'] == 'CONTROL']\n",
      "sns.boxplot([y['measure_1'], y['measure_2'].fillna(0)],  names=[\"Product:LOSS\",\"Product:GAIN\" ],whis=np.inf, color=\"pastel\",  join_rm=True, widths=.5)"
     ],
     "language": "python",
     "metadata": {},
     "outputs": [
      {
       "metadata": {},
       "output_type": "pyout",
       "prompt_number": 32,
       "text": [
        "<matplotlib.axes._subplots.AxesSubplot at 0x10f6706d0>"
       ]
      },
      {
       "metadata": {},
       "output_type": "display_data",
       "png": "[encoded data removed]",
       "text": [
        "<matplotlib.figure.Figure at 0x10f6896d0>"
       ]
      }
     ],
     "prompt_number": 32
    },
    {
     "cell_type": "code",
     "collapsed": false,
     "input": [
      "y = x[x['treatment'] == 'TREATMENT']\n",
      "sns.boxplot([y['measure_1'], y['measure_2'].fillna(0)],  names=[\"Product:GAIN\",\"Product:LOSS\" ],whis=np.inf, color=\"pastel\",  join_rm=True, widths=.5)"
     ],
     "language": "python",
     "metadata": {},
     "outputs": [
      {
       "metadata": {},
       "output_type": "pyout",
       "prompt_number": 33,
       "text": [
        "<matplotlib.axes._subplots.AxesSubplot at 0x10f9060d0>"
       ]
      },
      {
       "metadata": {},
       "output_type": "display_data",
       "png": "[encoded data removed]",
       "text": [
        "<matplotlib.figure.Figure at 0x10f91a3d0>"
       ]
      }
     ],
     "prompt_number": 33
    },
    {
     "cell_type": "markdown",
     "metadata": {},
     "source": [
      "We found no differences in the effects of the interfaces on decision making.\n",
      "The following boxplot shows the comparison of the mesurements of decision making under each treatment. The sequence is not considered in this boxplot and carry-over effects might exist. \n",
      "\n",
      "The joining lines indicate a subject switching preferences. The later happened twice for all subjects. There are not changes in the means because the changes complemented each other.\n",
      "\n"
     ]
    },
    {
     "cell_type": "code",
     "collapsed": false,
     "input": [
      "y = x[x['treatment'] == 'TREATMENT']\n",
      "k = x[x['treatment'] == 'CONTROL']\n",
      "w = k['measure_2']\n",
      "z = y['measure_1']\n",
      "dt =  z.append(w)\n",
      "\n",
      "w = k['measure_1']\n",
      "z = y['measure_2']\n",
      "dc =  z.append(w)\n",
      "\n",
      "\n",
      "sns.boxplot([dt, dc],  names=[\"Treatment:GAIN\",\"Treatment:LOSS\" ],whis=np.inf, color=\"pastel\",  join_rm=True, widths=.5)"
     ],
     "language": "python",
     "metadata": {},
     "outputs": [
      {
       "metadata": {},
       "output_type": "pyout",
       "prompt_number": 34,
       "text": [
        "<matplotlib.axes._subplots.AxesSubplot at 0x10fa2e8d0>"
       ]
      },
      {
       "metadata": {},
       "output_type": "display_data",
       "png": "[encoded data removed]",
       "text": [
        "<matplotlib.figure.Figure at 0x10edb6490>"
       ]
      }
     ],
     "prompt_number": 34
    },
    {
     "cell_type": "markdown",
     "metadata": {},
     "source": [
      "- Subjects stick with their decision."
     ]
    },
    {
     "cell_type": "code",
     "collapsed": false,
     "input": [
      "sns.boxplot([y['measure_1'].fillna(1), k['measure_1'].fillna(1)],  names=[\"Treatment:GAIN\",\"Treatment:LOSS\" ],whis=np.inf, color=\"pastel\",  widths=.5)"
     ],
     "language": "python",
     "metadata": {},
     "outputs": [
      {
       "metadata": {},
       "output_type": "pyout",
       "prompt_number": 35,
       "text": [
        "<matplotlib.axes._subplots.AxesSubplot at 0x10e371550>"
       ]
      },
      {
       "metadata": {},
       "output_type": "display_data",
       "png": "[encoded data removed]",
       "text": [
        "<matplotlib.figure.Figure at 0x10fb013d0>"
       ]
      }
     ],
     "prompt_number": 35
    },
    {
     "cell_type": "code",
     "collapsed": false,
     "input": [
      "plt.hist(k['measure_1'])\n",
      "print k['measure_1']"
     ],
     "language": "python",
     "metadata": {},
     "outputs": [
      {
       "output_type": "stream",
       "stream": "stdout",
       "text": [
        "sessionid\n",
        "23460298f5d8e931f6b8778e3a38e2c0    5\n",
        "a54bc527043e7ebd1b626ae87b073327    3\n",
        "24b48f963cb4871264ec33551c6f4fb8    3\n",
        "67d5452b269bdbfe2d76bb3b03c41f54    3\n",
        "891d3b6a0d199e6c89907339f70aa98d    5\n",
        "91aaa68c687330c7a992ed5b78dc4beb    5\n",
        "Name: measure_1, dtype: int64\n"
       ]
      },
      {
       "metadata": {},
       "output_type": "display_data",
       "png": "[encoded data removed]",
       "text": [
        "<matplotlib.figure.Figure at 0x10ed395d0>"
       ]
      }
     ],
     "prompt_number": 36
    },
    {
     "cell_type": "code",
     "collapsed": false,
     "input": [
      "plt.hist(y['measure_1'])\n",
      "print y['measure_1']\n",
      "# from statsmodels.graphics.mosaicplot import mosaic\n",
      "# mosaic(y, ['measure_1', 'baseline'])"
     ],
     "language": "python",
     "metadata": {},
     "outputs": [
      {
       "output_type": "stream",
       "stream": "stdout",
       "text": [
        "sessionid\n",
        "846c48d7ca77cecae577d9533df01226    3\n",
        "c8f46d4d7396f2bd6056a74d449e2c41    5\n",
        "c613e1d8edb212114499aff4bf996a8c    3\n",
        "d6471d9c7dc604952ebc33167be33960    3\n",
        "Name: measure_1, dtype: int64\n"
       ]
      },
      {
       "metadata": {},
       "output_type": "display_data",
       "png": "[encoded data removed]",
       "text": [
        "<matplotlib.figure.Figure at 0x110249990>"
       ]
      }
     ],
     "prompt_number": 37
    },
    {
     "cell_type": "code",
     "collapsed": false,
     "input": [
      "x[['when_best','treatment']].groupby('treatment').agg(len)"
     ],
     "language": "python",
     "metadata": {},
     "outputs": [
      {
       "html": [
        "<div style=\"max-height:1000px;max-width:1500px;overflow:auto;\">\n",
        "<table border=\"1\" class=\"dataframe\">\n",
        "  <thead>\n",
        "    <tr style=\"text-align: right;\">\n",
        "      <th></th>\n",
        "      <th>when_best</th>\n",
        "    </tr>\n",
        "    <tr>\n",
        "      <th>treatment</th>\n",
        "      <th></th>\n",
        "    </tr>\n",
        "  </thead>\n",
        "  <tbody>\n",
        "    <tr>\n",
        "      <th>CONTROL</th>\n",
        "      <td> 6</td>\n",
        "    </tr>\n",
        "    <tr>\n",
        "      <th>TREATMENT</th>\n",
        "      <td> 4</td>\n",
        "    </tr>\n",
        "  </tbody>\n",
        "</table>\n",
        "</div>"
       ],
       "metadata": {},
       "output_type": "pyout",
       "prompt_number": 38,
       "text": [
        "           when_best\n",
        "treatment           \n",
        "CONTROL            6\n",
        "TREATMENT          4"
       ]
      }
     ],
     "prompt_number": 38
    },
    {
     "cell_type": "code",
     "collapsed": false,
     "input": [
      "y = x[x['treatment'] == 'TREATMENT']\n",
      "k = x[x['treatment'] == 'CONTROL']\n",
      "w = k['ease_2']\n",
      "z = y['ease_1']\n",
      "dt =  z.append(w)\n",
      "\n",
      "w = k['ease_1']\n",
      "z = y['ease_2']\n",
      "dc =  z.append(w)\n",
      "\n",
      "\n",
      "sns.boxplot([dt, dc],  names=[\"Product:GAIN\",\"Product:LOSS\" ],whis=np.inf, color=\"pastel\",  join_rm=True, widths=.5)"
     ],
     "language": "python",
     "metadata": {},
     "outputs": [
      {
       "metadata": {},
       "output_type": "pyout",
       "prompt_number": 39,
       "text": [
        "<matplotlib.axes._subplots.AxesSubplot at 0x10f64bad0>"
       ]
      },
      {
       "metadata": {},
       "output_type": "display_data",
       "png": "[encoded data removed]",
       "text": [
        "<matplotlib.figure.Figure at 0x10f8b67d0>"
       ]
      }
     ],
     "prompt_number": 39
    },
    {
     "cell_type": "code",
     "collapsed": false,
     "input": [
      "y = x[x['treatment'] == 'TREATMENT']\n",
      "k = x[x['treatment'] == 'CONTROL']\n",
      "w = k['support_2']\n",
      "z = y['support_1']\n",
      "dt =  z.append(w)\n",
      "\n",
      "w = k['support_1']\n",
      "z = y['support_2']\n",
      "dc =  z.append(w)\n",
      "\n",
      "\n",
      "sns.boxplot([dt, dc],  names=[\"Product:GAIN\",\"Product:LOSS\" ],whis=np.inf, color=\"pastel\",  join_rm=True, widths=.5)"
     ],
     "language": "python",
     "metadata": {},
     "outputs": [
      {
       "metadata": {},
       "output_type": "pyout",
       "prompt_number": 40,
       "text": [
        "<matplotlib.axes._subplots.AxesSubplot at 0x10f5f7a90>"
       ]
      },
      {
       "metadata": {},
       "output_type": "display_data",
       "png": "[encoded data removed]",
       "text": [
        "<matplotlib.figure.Figure at 0x10f80a610>"
       ]
      }
     ],
     "prompt_number": 40
    },
    {
     "cell_type": "code",
     "collapsed": false,
     "input": [
      "y = x[x['treatment'] == 'TREATMENT']\n",
      "k = x[x['treatment'] == 'CONTROL']\n",
      "w = k['time_2']\n",
      "z = y['time_1']\n",
      "dt =  z.append(w)\n",
      "\n",
      "w = k['time_1']\n",
      "z = y['time_2']\n",
      "dc =  z.append(w)\n",
      "\n",
      "\n",
      "sns.boxplot([dt, dc],  names=[\"Product:GAIN\",\"Product:LOSS\" ],whis=np.inf, color=\"pastel\",  join_rm=True, widths=.5)"
     ],
     "language": "python",
     "metadata": {},
     "outputs": [
      {
       "metadata": {},
       "output_type": "pyout",
       "prompt_number": 41,
       "text": [
        "<matplotlib.axes._subplots.AxesSubplot at 0x10f80a590>"
       ]
      },
      {
       "metadata": {},
       "output_type": "display_data",
       "png": "[encoded data removed]",
       "text": [
        "<matplotlib.figure.Figure at 0x10f8b6950>"
       ]
      }
     ],
     "prompt_number": 41
    },
    {
     "cell_type": "code",
     "collapsed": false,
     "input": [],
     "language": "python",
     "metadata": {},
     "outputs": [],
     "prompt_number": 41
    },
    {
     "cell_type": "code",
     "collapsed": false,
     "input": [],
     "language": "python",
     "metadata": {},
     "outputs": [],
     "prompt_number": 41
    },
    {
     "cell_type": "code",
     "collapsed": false,
     "input": [],
     "language": "python",
     "metadata": {},
     "outputs": []
    }
   ],
   "metadata": {}
  }
 ]
}