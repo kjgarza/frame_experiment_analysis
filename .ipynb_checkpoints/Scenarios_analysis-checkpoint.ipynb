{
 "metadata": {
  "gist_id": "b3500384622054399b05",
  "name": "",
  "notify_time": "5",
  "signature": "sha256:8db64402d59936dccfebbffd46e6b67e7e966e4f465389b477e41d8d23d4e5a8"
 },
 "nbformat": 3,
 "nbformat_minor": 0,
 "worksheets": [
  {
   "cells": [
    {
     "cell_type": "markdown",
     "metadata": {},
     "source": [
      "#Frame Experiment Statistical Within Subject Analysis\n",
      "\n",
      "<i>Created by Kristian G</i>"
     ]
    },
    {
     "cell_type": "markdown",
     "metadata": {},
     "source": [
      "Preliminaries"
     ]
    },
    {
     "cell_type": "code",
     "collapsed": false,
     "input": [
      "%matplotlib inline\n",
      "import numpy as np\n",
      "import pandas as pd\n",
      "import matplotlib.pyplot as plt\n",
      "from ggplot import *\n",
      "import json\n",
      "from frame_experiment_table import FrameExperimentTable"
     ],
     "language": "python",
     "metadata": {},
     "outputs": [],
     "prompt_number": 24
    },
    {
     "cell_type": "code",
     "collapsed": false,
     "input": [
      "%pylab inline\n",
      "%load_ext rpy2.ipython\n",
      "%reload_ext rpy2.ipython\n",
      "import pylab\n",
      "%R rm(list=ls())"
     ],
     "language": "python",
     "metadata": {},
     "outputs": [
      {
       "output_type": "stream",
       "stream": "stdout",
       "text": [
        "Populating the interactive namespace from numpy and matplotlib\n",
        "The rpy2.ipython extension is already loaded. To reload it, use:\n",
        "  %reload_ext rpy2.ipython\n"
       ]
      },
      {
       "output_type": "stream",
       "stream": "stderr",
       "text": [
        "WARNING: pylab import has clobbered these variables: ['xlim', 'pylab', 'ylim']\n",
        "`%matplotlib` prevents importing * from pylab and numpy\n"
       ]
      }
     ],
     "prompt_number": 25
    },
    {
     "cell_type": "markdown",
     "metadata": {},
     "source": [
      "# EF Analysis under two scenarios\n",
      "\n",
      "\n",
      "Emphasis framing Analysis (EF) referes to the analysis of the of the treatment usig the Emphaisi framing this is the  framing the interface design.\n",
      "\n",
      "We run this analysis using 3 different datasets: Old Scenario, the New Scenario and the Both Scenarios at the same time.\n",
      "\n",
      "- Old Scenario: data collected under the  old scenario does not makes explicit the element of competition in the experiment setup.\n",
      "- New Scenario: data collected under the new sceneario is that in which the subjects are frame to consider competition in the experiment.\n",
      "- Full: data putting together both scenarios.\n",
      "\n",
      "In order to check each scenario we fitted the data to Cummulitative link mixed model for ordinal data. Then we review the coeffients, p-values and Likehood ratio of the treatment in the old and new scenario. For the full dataset we include the scenario type in the model as a new variable to check if this variable was significant.\n",
      "\n",
      "\n",
      "\n"
     ]
    },
    {
     "cell_type": "code",
     "collapsed": false,
     "input": [],
     "language": "python",
     "metadata": {},
     "outputs": [],
     "prompt_number": 25
    },
    {
     "cell_type": "markdown",
     "metadata": {},
     "source": [
      "##Loading Old Scenario dataset (OSD)"
     ]
    },
    {
     "cell_type": "code",
     "collapsed": false,
     "input": [
      "c = FrameExperimentTable('logs/data_incremental_file')\n",
      "c.add_records('logs/data_two_records','new')\n",
      "c.add_records_csv('logs/data_scramble_filled_csv.csv')\n",
      "# c.add_records('logs/data_scenario_changed','new')\n",
      "c.filter_noise()\n",
      "c.code_for_stat_ana()\n",
      "c.code_survey_numeric()\n",
      "to_SAS = c.get_rm_ws_dataframe()"
     ],
     "language": "python",
     "metadata": {},
     "outputs": [
      {
       "output_type": "stream",
       "stream": "stdout",
       "text": [
        "(19, 40)\n",
        "classify_field - Fields Excluded"
       ]
      },
      {
       "output_type": "stream",
       "stream": "stdout",
       "text": [
        "\n",
        "(3,)\n",
        "(46, 42)\n",
        "New Usability Columns\n",
        "(46, 44)\n",
        "(29, 44)\n",
        "rm_ws_dataframe - Droping missing records"
       ]
      },
      {
       "output_type": "stream",
       "stream": "stdout",
       "text": [
        "\n",
        "(26, 5)\n",
        "rm_ws_dataframe - remove missing data \n",
        "(22, 5)\n",
        "rm_ws_dataframe - no duplicates "
       ]
      },
      {
       "output_type": "stream",
       "stream": "stdout",
       "text": [
        "\n",
        "(22, 6)\n"
       ]
      }
     ],
     "prompt_number": 26
    },
    {
     "cell_type": "markdown",
     "metadata": {},
     "source": [
      "##Filtering"
     ]
    },
    {
     "cell_type": "code",
     "collapsed": false,
     "input": [
      "# master_dataset = master_dataset.replace(['stackeholders'],['stakeholders'])\n",
      "# df_filtered = master_dataset\n",
      "# master_dataset.shape\n",
      "# df_filtered = master_dataset[master_dataset['honest'] == 'on']"
     ],
     "language": "python",
     "metadata": {},
     "outputs": [],
     "prompt_number": 27
    },
    {
     "cell_type": "code",
     "collapsed": false,
     "input": [
      "%R rm(list=ls())"
     ],
     "language": "python",
     "metadata": {},
     "outputs": [],
     "prompt_number": 28
    },
    {
     "cell_type": "markdown",
     "metadata": {},
     "source": [
      "##Running Logistic Regression (OSD)"
     ]
    },
    {
     "cell_type": "code",
     "collapsed": false,
     "input": [
      "%%R -i to_SAS\n",
      "library(ordinal)\n",
      "\n",
      "getCLMM<- function(xx){\n",
      "    s <- data.frame(xx)\n",
      "    s$response <- factor(s$response)\n",
      "    s$trt <- factor(s$trt)\n",
      "    s$sequ <- factor(s$sequ)\n",
      "    s$period <- factor(s$period)\n",
      "    ##s <- within(s, Grp <- factor(id:sequ))\n",
      "    mm2 <- clmm(response ~ sequ  + trt + period  + (1 | id:sequ), s,  Hess = TRUE, nAGQ = 10  )\n",
      "    print (summary(mm2))\n",
      "    exp(cbind(OR =coef(mm2), confint(mm2)))\n",
      "    return(mm2)\n",
      "}\n",
      "model2<-getCLMM(to_SAS)\n",
      "source('regression_plots.r')\n",
      "plot_odds(model2,'Odds ratios and CI')"
     ],
     "language": "python",
     "metadata": {},
     "outputs": [
      {
       "metadata": {},
       "output_type": "display_data",
       "text": [
        "Cumulative Link Mixed Model fitted with the adaptive Gauss-Hermite \n",
        "quadrature approximation with 10 quadrature points \n",
        "\n",
        "formula: response ~ sequ + trt + period + (1 | id:sequ)\n",
        "data:    s\n",
        "\n",
        " link  threshold nobs logLik AIC   niter     max.grad cond.H \n",
        " logit flexible  44   -33.72 81.44 327(1952) 5.65e-06 8.3e+02\n",
        "\n",
        "Random effects:\n",
        " Groups  Name        Variance Std.Dev.\n",
        " id:sequ (Intercept) 32.42    5.694   \n",
        "Number of groups:  id:sequ 22 \n",
        "\n",
        "Coefficients:\n",
        "        Estimate Std. Error z value Pr(>|z|)\n",
        "sequBA  -0.64896    3.01230  -0.215    0.829\n",
        "trtB     0.08963    1.03900   0.086    0.931\n",
        "period2  1.83633    1.22009   1.505    0.132\n",
        "\n",
        "Threshold coefficients:\n",
        "    Estimate Std. Error z value\n",
        "1|2   -8.686      5.920  -1.467\n",
        "2|3   -5.044      3.925  -1.285\n",
        "3|4   -2.400      3.135  -0.766\n"
       ]
      },
      {
       "metadata": {},
       "output_type": "display_data",
       "png": "[encoded data removed]"
      }
     ],
     "prompt_number": 29
    },
    {
     "cell_type": "markdown",
     "metadata": {},
     "source": [
      "###Check ODDs Ratios (OSD)"
     ]
    },
    {
     "cell_type": "code",
     "collapsed": false,
     "input": [
      "%%R -i to_SAS\n",
      "\n",
      "getCLMMW<- function(xx){\n",
      "    s <- data.frame(xx)\n",
      "    s$response <- factor(s$response)\n",
      "    s$trt <- factor(s$trt)\n",
      "    s$sequ <- factor(s$sequ)\n",
      "    s$period <- factor(s$period)\n",
      "    ##s <- within(s, Grp <- factor(id:sequ))\n",
      "    mm7 <-clmm(response ~ sequ + period + (1 | id:sequ), s,  Hess = TRUE, nAGQ = 10  )\n",
      "    print (summary(mm7))\n",
      "    exp(cbind(OR =coef(mm7), confint(mm7)))\n",
      "    return(mm7)\n",
      "}\n",
      "model3<-getCLMMW(to_SAS)\n",
      "anova(model2, model3)\n",
      "###plot(fitted(mm2),residuals(mm2))"
     ],
     "language": "python",
     "metadata": {},
     "outputs": [
      {
       "metadata": {},
       "output_type": "display_data",
       "text": [
        "Cumulative Link Mixed Model fitted with the adaptive Gauss-Hermite \n",
        "quadrature approximation with 10 quadrature points \n",
        "\n",
        "formula: response ~ sequ + period + (1 | id:sequ)\n",
        "data:    s\n",
        "\n",
        " link  threshold nobs logLik AIC   niter     max.grad cond.H \n",
        " logit flexible  44   -33.72 79.45 274(1653) 1.62e-05 8.2e+02\n",
        "\n",
        "Random effects:\n",
        " Groups  Name        Variance Std.Dev.\n",
        " id:sequ (Intercept) 33.33    5.773   \n",
        "Number of groups:  id:sequ 22 \n",
        "\n",
        "Coefficients:\n",
        "        Estimate Std. Error z value Pr(>|z|)\n",
        "sequBA   -0.6271     3.0440  -0.206    0.837\n",
        "period2   1.8545     1.2201   1.520    0.129\n",
        "\n",
        "Threshold coefficients:\n",
        "    Estimate Std. Error z value\n",
        "1|2   -8.818      5.908  -1.493\n",
        "2|3   -5.121      3.929  -1.303\n",
        "3|4   -2.473      3.114  -0.794\n",
        "Likelihood ratio tests of cumulative link models:\n",
        " \n",
        "       formula:                                       link: threshold:\n",
        "model3 response ~ sequ + period + (1 | id:sequ)       logit flexible  \n",
        "model2 response ~ sequ + trt + period + (1 | id:sequ) logit flexible  \n",
        "\n",
        "       no.par    AIC  logLik LR.stat df Pr(>Chisq)\n",
        "model3      6 79.447 -33.723                      \n",
        "model2      7 81.439 -33.720  0.0074  1     0.9316\n"
       ]
      }
     ],
     "prompt_number": 30
    },
    {
     "cell_type": "code",
     "collapsed": false,
     "input": [
      "%%R \n",
      "rm(list=ls())"
     ],
     "language": "python",
     "metadata": {},
     "outputs": [],
     "prompt_number": 31
    },
    {
     "cell_type": "markdown",
     "metadata": {},
     "source": [
      "The results under the old scenario shown not effect from the treatment (p = 0.7230 ) and the presence of carry over effect (p = 0.0699)."
     ]
    },
    {
     "cell_type": "markdown",
     "metadata": {},
     "source": [
      "##Loading New Scenario dataset (NSD)"
     ]
    },
    {
     "cell_type": "code",
     "collapsed": false,
     "input": [
      "f = FrameExperimentTable('logs/data_scenario_changed')\n",
      "f.filter_noise()\n",
      "f.code_for_stat_ana()\n",
      "f.code_survey_numeric()\n",
      "new_data = f.get_rm_ws_dataframe()\n"
     ],
     "language": "python",
     "metadata": {},
     "outputs": [
      {
       "output_type": "stream",
       "stream": "stdout",
       "text": [
        "(55, 40)\n",
        "classify_field - Fields Excluded"
       ]
      },
      {
       "output_type": "stream",
       "stream": "stdout",
       "text": [
        "\n",
        "(6,)\n",
        "(55, 42)\n",
        "New Usability Columns\n",
        "(55, 44)\n",
        "(45, 44)\n",
        "rm_ws_dataframe - Droping missing records\n",
        "(45, 5)\n",
        "rm_ws_dataframe - remove missing data \n",
        "(45, 5)\n",
        "rm_ws_dataframe - no duplicates "
       ]
      },
      {
       "output_type": "stream",
       "stream": "stdout",
       "text": [
        "\n",
        "(45, 6)\n"
       ]
      }
     ],
     "prompt_number": 32
    },
    {
     "cell_type": "markdown",
     "metadata": {},
     "source": [
      "##Filtering"
     ]
    },
    {
     "cell_type": "code",
     "collapsed": false,
     "input": [],
     "language": "python",
     "metadata": {},
     "outputs": [],
     "prompt_number": 32
    },
    {
     "cell_type": "markdown",
     "metadata": {},
     "source": [
      "##Running Logistic Regression (NSD)"
     ]
    },
    {
     "cell_type": "code",
     "collapsed": false,
     "input": [
      "%%R -i new_data\n",
      "library(ordinal)\n",
      "\n",
      "\n",
      "    s <- data.frame(new_data)\n",
      "    s$response <- factor(s$response)\n",
      "    s$trt <- factor(s$trt)\n",
      "    s$sequ <- factor(s$sequ)\n",
      "    s$period <- factor(s$period)\n",
      "\n",
      "    ##s <- within(s, Grp <- factor(id:sequ))\n",
      "\n",
      "    mm4 <- clmm(response ~ trt + period + sequ  + (1 | id:sequ), s, Hess = TRUE, nAGQ = 10  )\n",
      "    \n",
      "    print (summary(mm4))\n",
      "    exp(cbind(OR =coef(mm4), confint(mm4)))\n",
      "\n",
      "\n",
      "#model5<-getCLMMo(new_data)\n",
      "\n",
      "###plot(fitted(mm2),residuals(mm2))\n",
      "source('regression_plots.r')\n",
      "plot_odds(mm4,'Odds ratios and CI')"
     ],
     "language": "python",
     "metadata": {},
     "outputs": [
      {
       "metadata": {},
       "output_type": "display_data",
       "text": [
        "Cumulative Link Mixed Model fitted with the adaptive Gauss-Hermite \n",
        "quadrature approximation with 10 quadrature points \n",
        "\n",
        "formula: response ~ trt + period + sequ + (1 | id:sequ)\n",
        "data:    s\n",
        "\n",
        " link  threshold nobs logLik AIC    niter     max.grad cond.H \n",
        " logit flexible  90   -44.65 101.30 279(2660) 4.37e-06 2.1e+03\n",
        "\n",
        "Random effects:\n",
        " Groups  Name        Variance Std.Dev.\n",
        " id:sequ (Intercept) 97.06    9.852   \n",
        "Number of groups:  id:sequ 45 \n",
        "\n",
        "Coefficients:\n",
        "        Estimate Std. Error z value Pr(>|z|)  \n",
        "trtB       2.977      1.490   1.998   0.0457 *\n",
        "period2    1.568      1.246   1.259   0.2081  \n",
        "sequBA     0.740      3.251   0.228   0.8200  \n",
        "---\n",
        "Signif. codes:  0 \u2018***\u2019 0.001 \u2018**\u2019 0.01 \u2018*\u2019 0.05 \u2018.\u2019 0.1 \u2018 \u2019 1\n",
        "\n",
        "Threshold coefficients:\n",
        "    Estimate Std. Error z value\n",
        "2|3  -10.675      5.042  -2.117\n",
        "3|4   -5.273      4.010  -1.315\n"
       ]
      },
      {
       "metadata": {},
       "output_type": "display_data",
       "png": "[encoded data removed]"
      }
     ],
     "prompt_number": 33
    },
    {
     "cell_type": "code",
     "collapsed": false,
     "input": [
      "%%R\n",
      "which(! complete.cases(new_data))\n",
      "##rm(list=ls())"
     ],
     "language": "python",
     "metadata": {},
     "outputs": [
      {
       "metadata": {},
       "output_type": "display_data",
       "text": [
        "integer(0)\n"
       ]
      }
     ],
     "prompt_number": 34
    },
    {
     "cell_type": "markdown",
     "metadata": {},
     "source": [
      "###Check ODDs Ratios (NSD)"
     ]
    },
    {
     "cell_type": "code",
     "collapsed": false,
     "input": [
      "%%R -i new_data\n",
      "\n",
      "\n",
      "    s <- data.frame(new_data)\n",
      "    s$response <- factor(s$response)\n",
      "    s$trt <- factor(s$trt)\n",
      "    s$sequ <- factor(s$sequ)\n",
      "    s$period <- factor(s$period)\n",
      "    ##s <- within(s, Grp <- factor(id:sequ))\n",
      "    mm7 <-clmm(response ~ sequ  + period + (1 | id:sequ), s,  Hess = TRUE, nAGQ = 10  )\n",
      "    print (summary(mm7))\n",
      "    exp(cbind(OR =coef(mm7), confint(mm7)))\n",
      "\n",
      "\n",
      "###model6<-getCLMMW(new_data)\n",
      "\n",
      "\n",
      "print(anova(mm4, mm7))\n"
     ],
     "language": "python",
     "metadata": {},
     "outputs": [
      {
       "metadata": {},
       "output_type": "display_data",
       "text": [
        "Cumulative Link Mixed Model fitted with the adaptive Gauss-Hermite \n",
        "quadrature approximation with 10 quadrature points \n",
        "\n",
        "formula: response ~ sequ + period + (1 | id:sequ)\n",
        "data:    s\n",
        "\n",
        " link  threshold nobs logLik AIC    niter     max.grad cond.H \n",
        " logit flexible  90   -47.89 105.78 226(1409) 4.23e-06 6.7e+02\n",
        "\n",
        "Random effects:\n",
        " Groups  Name        Variance Std.Dev.\n",
        " id:sequ (Intercept) 60.64    7.787   \n",
        "Number of groups:  id:sequ 45 \n",
        "\n",
        "Coefficients:\n",
        "        Estimate Std. Error z value Pr(>|z|)  \n",
        "sequBA     1.716      2.365   0.726    0.468  \n",
        "period2    1.820      1.036   1.757    0.079 .\n",
        "---\n",
        "Signif. codes:  0 \u2018***\u2019 0.001 \u2018**\u2019 0.01 \u2018*\u2019 0.05 \u2018.\u2019 0.1 \u2018 \u2019 1\n",
        "\n",
        "Threshold coefficients:\n",
        "    Estimate Std. Error z value\n",
        "2|3   -8.336      3.304  -2.523\n",
        "3|4   -4.560      2.770  -1.646\n",
        "Likelihood ratio tests of cumulative link models:\n",
        " \n",
        "    formula:                                       link: threshold:\n",
        "mm7 response ~ sequ + period + (1 | id:sequ)       logit flexible  \n",
        "mm4 response ~ trt + period + sequ + (1 | id:sequ) logit flexible  \n",
        "\n",
        "    no.par    AIC  logLik LR.stat df Pr(>Chisq)  \n",
        "mm7      5 105.78 -47.889                        \n",
        "mm4      6 101.30 -44.648   6.483  1    0.01089 *\n",
        "---\n",
        "Signif. codes:  0 \u2018***\u2019 0.001 \u2018**\u2019 0.01 \u2018*\u2019 0.05 \u2018.\u2019 0.1 \u2018 \u2019 1\n"
       ]
      }
     ],
     "prompt_number": 35
    },
    {
     "cell_type": "code",
     "collapsed": false,
     "input": [
      "%%R\n",
      "rm(list=ls())"
     ],
     "language": "python",
     "metadata": {},
     "outputs": [],
     "prompt_number": 36
    },
    {
     "cell_type": "markdown",
     "metadata": {},
     "source": [
      "##Load Full dataset"
     ]
    },
    {
     "cell_type": "code",
     "collapsed": false,
     "input": [
      "gg = FrameExperimentTable('logs/data_incremental_file')\n",
      "gg.add_records_w_scenario('logs/data_two_records','1')\n",
      "gg.add_records_csv('logs/data_scramble_filled_csv.csv')\n",
      "gg.add_records_w_scenario('logs/data_scenario_changed','2')\n",
      "gg.filter_noise()\n",
      "gg.code_for_stat_ana()\n",
      "gg.code_survey_numeric()\n",
      "\n",
      "data = gg.get_anadata()\n",
      "data['scenario']=data['scenario'].fillna('1')\n",
      "full_set = gg.get_rm_ws_dataframe_scenarios(data)\n",
      "full_set\n"
     ],
     "language": "python",
     "metadata": {},
     "outputs": [
      {
       "output_type": "stream",
       "stream": "stdout",
       "text": [
        "(19, 40)\n",
        "classify_field - Fields Excluded"
       ]
      },
      {
       "output_type": "stream",
       "stream": "stdout",
       "text": [
        "\n",
        "(48,)\n",
        "(145, 43)\n",
        "New Usability Columns\n",
        "(145, 45)\n",
        "(76, 45)\n",
        "(76, 45)"
       ]
      },
      {
       "output_type": "stream",
       "stream": "stdout",
       "text": [
        "\n",
        "sasa\n",
        "(73, 6)\n",
        "(69, 6)\n",
        "(134, 6)"
       ]
      },
      {
       "output_type": "stream",
       "stream": "stdout",
       "text": [
        "\n"
       ]
      },
      {
       "html": [
        "<div style=\"max-height:1000px;max-width:1500px;overflow:auto;\">\n",
        "<table border=\"1\" class=\"dataframe\">\n",
        "  <thead>\n",
        "    <tr style=\"text-align: right;\">\n",
        "      <th></th>\n",
        "      <th>response</th>\n",
        "      <th>trt</th>\n",
        "      <th>sequ</th>\n",
        "      <th>period</th>\n",
        "      <th>id</th>\n",
        "      <th>scenario</th>\n",
        "    </tr>\n",
        "  </thead>\n",
        "  <tbody>\n",
        "    <tr>\n",
        "      <th>0  </th>\n",
        "      <td> 4</td>\n",
        "      <td> A</td>\n",
        "      <td> AB</td>\n",
        "      <td> 1</td>\n",
        "      <td> 03ebd33fe07a1226f3b98aa8aa13e76e</td>\n",
        "      <td> 1</td>\n",
        "    </tr>\n",
        "    <tr>\n",
        "      <th>2  </th>\n",
        "      <td> 2</td>\n",
        "      <td> A</td>\n",
        "      <td> AB</td>\n",
        "      <td> 1</td>\n",
        "      <td> 358e6df6c02309c57fd05b27540fb8e8</td>\n",
        "      <td> 1</td>\n",
        "    </tr>\n",
        "    <tr>\n",
        "      <th>5  </th>\n",
        "      <td> 4</td>\n",
        "      <td> A</td>\n",
        "      <td> AB</td>\n",
        "      <td> 1</td>\n",
        "      <td> 4daf9ac2c73522a2339d564abc33f2d4</td>\n",
        "      <td> 1</td>\n",
        "    </tr>\n",
        "    <tr>\n",
        "      <th>6  </th>\n",
        "      <td> 3</td>\n",
        "      <td> A</td>\n",
        "      <td> AB</td>\n",
        "      <td> 1</td>\n",
        "      <td> 62d5d75aa5c5c673ff839565556057cd</td>\n",
        "      <td> 1</td>\n",
        "    </tr>\n",
        "    <tr>\n",
        "      <th>9  </th>\n",
        "      <td> 3</td>\n",
        "      <td> A</td>\n",
        "      <td> AB</td>\n",
        "      <td> 1</td>\n",
        "      <td> 86ed6760b4a6fc54cff9850e090c7b5f</td>\n",
        "      <td> 1</td>\n",
        "    </tr>\n",
        "    <tr>\n",
        "      <th>10 </th>\n",
        "      <td> 3</td>\n",
        "      <td> A</td>\n",
        "      <td> AB</td>\n",
        "      <td> 1</td>\n",
        "      <td> 9bdb3c0e8ae917d2fe5dc746a4fe24c6</td>\n",
        "      <td> 1</td>\n",
        "    </tr>\n",
        "    <tr>\n",
        "      <th>11 </th>\n",
        "      <td> 4</td>\n",
        "      <td> A</td>\n",
        "      <td> AB</td>\n",
        "      <td> 1</td>\n",
        "      <td> b540afa5300616f5a6ed80106fb6b20e</td>\n",
        "      <td> 1</td>\n",
        "    </tr>\n",
        "    <tr>\n",
        "      <th>12 </th>\n",
        "      <td> 4</td>\n",
        "      <td> A</td>\n",
        "      <td> AB</td>\n",
        "      <td> 1</td>\n",
        "      <td> e9e357d280b62fde1f5c9b718ee3ea36</td>\n",
        "      <td> 1</td>\n",
        "    </tr>\n",
        "    <tr>\n",
        "      <th>13 </th>\n",
        "      <td> 4</td>\n",
        "      <td> A</td>\n",
        "      <td> AB</td>\n",
        "      <td> 1</td>\n",
        "      <td> 68ec3fb55059c118977c24cbd4fca91c</td>\n",
        "      <td> 1</td>\n",
        "    </tr>\n",
        "    <tr>\n",
        "      <th>16 </th>\n",
        "      <td> 4</td>\n",
        "      <td> A</td>\n",
        "      <td> AB</td>\n",
        "      <td> 1</td>\n",
        "      <td> 66f12cf71b45603b5b5bded2142fb89c</td>\n",
        "      <td> 1</td>\n",
        "    </tr>\n",
        "    <tr>\n",
        "      <th>22 </th>\n",
        "      <td> 4</td>\n",
        "      <td> A</td>\n",
        "      <td> AB</td>\n",
        "      <td> 1</td>\n",
        "      <td> 0687ef14d441706b211ff0edf9f2ebea</td>\n",
        "      <td> 2</td>\n",
        "    </tr>\n",
        "    <tr>\n",
        "      <th>23 </th>\n",
        "      <td> 2</td>\n",
        "      <td> A</td>\n",
        "      <td> AB</td>\n",
        "      <td> 1</td>\n",
        "      <td> 0ddaf25718c6b4c35bf05ae6335150d4</td>\n",
        "      <td> 2</td>\n",
        "    </tr>\n",
        "    <tr>\n",
        "      <th>24 </th>\n",
        "      <td> 4</td>\n",
        "      <td> A</td>\n",
        "      <td> AB</td>\n",
        "      <td> 1</td>\n",
        "      <td> 18da94199bf2471a70d0298958543bb4</td>\n",
        "      <td> 2</td>\n",
        "    </tr>\n",
        "    <tr>\n",
        "      <th>25 </th>\n",
        "      <td> 4</td>\n",
        "      <td> A</td>\n",
        "      <td> AB</td>\n",
        "      <td> 1</td>\n",
        "      <td> 23ba4e6b2b149ba6294bd7e0125b2948</td>\n",
        "      <td> 2</td>\n",
        "    </tr>\n",
        "    <tr>\n",
        "      <th>27 </th>\n",
        "      <td> 4</td>\n",
        "      <td> A</td>\n",
        "      <td> AB</td>\n",
        "      <td> 1</td>\n",
        "      <td> 2be130732b05502a4a631bc01291b25b</td>\n",
        "      <td> 2</td>\n",
        "    </tr>\n",
        "    <tr>\n",
        "      <th>28 </th>\n",
        "      <td> 4</td>\n",
        "      <td> A</td>\n",
        "      <td> AB</td>\n",
        "      <td> 1</td>\n",
        "      <td> 38c7d17c9d41c293afe9d368d45a629c</td>\n",
        "      <td> 2</td>\n",
        "    </tr>\n",
        "    <tr>\n",
        "      <th>30 </th>\n",
        "      <td> 4</td>\n",
        "      <td> A</td>\n",
        "      <td> AB</td>\n",
        "      <td> 1</td>\n",
        "      <td> 4306bad121fb3ad1fb2365dda1a32440</td>\n",
        "      <td> 2</td>\n",
        "    </tr>\n",
        "    <tr>\n",
        "      <th>35 </th>\n",
        "      <td> 3</td>\n",
        "      <td> A</td>\n",
        "      <td> AB</td>\n",
        "      <td> 1</td>\n",
        "      <td> 6b216d7a04c90e3490fb335b6dc39314</td>\n",
        "      <td> 2</td>\n",
        "    </tr>\n",
        "    <tr>\n",
        "      <th>41 </th>\n",
        "      <td> 2</td>\n",
        "      <td> A</td>\n",
        "      <td> AB</td>\n",
        "      <td> 1</td>\n",
        "      <td> 7f6ad16cca9e095737b8ad8089f11f51</td>\n",
        "      <td> 2</td>\n",
        "    </tr>\n",
        "    <tr>\n",
        "      <th>43 </th>\n",
        "      <td> 4</td>\n",
        "      <td> A</td>\n",
        "      <td> AB</td>\n",
        "      <td> 1</td>\n",
        "      <td> 84435907d0139de1cd4eaf5a4992ee6c</td>\n",
        "      <td> 2</td>\n",
        "    </tr>\n",
        "    <tr>\n",
        "      <th>44 </th>\n",
        "      <td> 4</td>\n",
        "      <td> A</td>\n",
        "      <td> AB</td>\n",
        "      <td> 1</td>\n",
        "      <td> 84876d35deb805f65d6a102cb79760f9</td>\n",
        "      <td> 2</td>\n",
        "    </tr>\n",
        "    <tr>\n",
        "      <th>46 </th>\n",
        "      <td> 3</td>\n",
        "      <td> A</td>\n",
        "      <td> AB</td>\n",
        "      <td> 1</td>\n",
        "      <td> 8cb5d8f0b3e4d37a521ae650c4419c87</td>\n",
        "      <td> 2</td>\n",
        "    </tr>\n",
        "    <tr>\n",
        "      <th>47 </th>\n",
        "      <td> 3</td>\n",
        "      <td> A</td>\n",
        "      <td> AB</td>\n",
        "      <td> 1</td>\n",
        "      <td> 8d302b9b42e172fd68dc46cdde1bde56</td>\n",
        "      <td> 2</td>\n",
        "    </tr>\n",
        "    <tr>\n",
        "      <th>48 </th>\n",
        "      <td> 3</td>\n",
        "      <td> A</td>\n",
        "      <td> AB</td>\n",
        "      <td> 1</td>\n",
        "      <td> 904ea89665852be4d0df452236a32395</td>\n",
        "      <td> 2</td>\n",
        "    </tr>\n",
        "    <tr>\n",
        "      <th>50 </th>\n",
        "      <td> 2</td>\n",
        "      <td> A</td>\n",
        "      <td> AB</td>\n",
        "      <td> 1</td>\n",
        "      <td> 93db2c509aad8d09d515c8e71ea60fce</td>\n",
        "      <td> 2</td>\n",
        "    </tr>\n",
        "    <tr>\n",
        "      <th>52 </th>\n",
        "      <td> 4</td>\n",
        "      <td> A</td>\n",
        "      <td> AB</td>\n",
        "      <td> 1</td>\n",
        "      <td> aaab26582025ca57df98adab9c821786</td>\n",
        "      <td> 2</td>\n",
        "    </tr>\n",
        "    <tr>\n",
        "      <th>57 </th>\n",
        "      <td> 4</td>\n",
        "      <td> A</td>\n",
        "      <td> AB</td>\n",
        "      <td> 1</td>\n",
        "      <td> c122797a0a6e34e5c7159bb839ab9cec</td>\n",
        "      <td> 2</td>\n",
        "    </tr>\n",
        "    <tr>\n",
        "      <th>58 </th>\n",
        "      <td> 3</td>\n",
        "      <td> A</td>\n",
        "      <td> AB</td>\n",
        "      <td> 1</td>\n",
        "      <td> c424cb968746b9c146cfda7af86bd46f</td>\n",
        "      <td> 2</td>\n",
        "    </tr>\n",
        "    <tr>\n",
        "      <th>60 </th>\n",
        "      <td> 4</td>\n",
        "      <td> A</td>\n",
        "      <td> AB</td>\n",
        "      <td> 1</td>\n",
        "      <td> c4af4b34d71a116d49cfd1bbc37115dc</td>\n",
        "      <td> 2</td>\n",
        "    </tr>\n",
        "    <tr>\n",
        "      <th>61 </th>\n",
        "      <td> 4</td>\n",
        "      <td> A</td>\n",
        "      <td> AB</td>\n",
        "      <td> 1</td>\n",
        "      <td> ce4dd38c1a2b00597a5937d82828d532</td>\n",
        "      <td> 2</td>\n",
        "    </tr>\n",
        "    <tr>\n",
        "      <th>...</th>\n",
        "      <td>...</td>\n",
        "      <td>...</td>\n",
        "      <td>...</td>\n",
        "      <td>...</td>\n",
        "      <td>...</td>\n",
        "      <td>...</td>\n",
        "    </tr>\n",
        "    <tr>\n",
        "      <th>84 </th>\n",
        "      <td> 1</td>\n",
        "      <td> A</td>\n",
        "      <td> BA</td>\n",
        "      <td> 2</td>\n",
        "      <td> 9f739b36a1f91569017b5ab36be07f7f</td>\n",
        "      <td> 1</td>\n",
        "    </tr>\n",
        "    <tr>\n",
        "      <th>86 </th>\n",
        "      <td> 4</td>\n",
        "      <td> A</td>\n",
        "      <td> BA</td>\n",
        "      <td> 2</td>\n",
        "      <td> 2916e59453604e0bf19d4b3b60b75fdd</td>\n",
        "      <td> 1</td>\n",
        "    </tr>\n",
        "    <tr>\n",
        "      <th>87 </th>\n",
        "      <td> 4</td>\n",
        "      <td> A</td>\n",
        "      <td> BA</td>\n",
        "      <td> 2</td>\n",
        "      <td> 28d0f45805f4a2e9ec4d8fe4cf2e517e</td>\n",
        "      <td> 1</td>\n",
        "    </tr>\n",
        "    <tr>\n",
        "      <th>88 </th>\n",
        "      <td> 2</td>\n",
        "      <td> A</td>\n",
        "      <td> BA</td>\n",
        "      <td> 2</td>\n",
        "      <td> 8ed6774338c3fee17bbdca2dfbc7f1d6</td>\n",
        "      <td> 1</td>\n",
        "    </tr>\n",
        "    <tr>\n",
        "      <th>89 </th>\n",
        "      <td> 4</td>\n",
        "      <td> A</td>\n",
        "      <td> BA</td>\n",
        "      <td> 2</td>\n",
        "      <td> f1deeddb2588e790d7425adfa7ffb307</td>\n",
        "      <td> 1</td>\n",
        "    </tr>\n",
        "    <tr>\n",
        "      <th>90 </th>\n",
        "      <td> 4</td>\n",
        "      <td> A</td>\n",
        "      <td> BA</td>\n",
        "      <td> 2</td>\n",
        "      <td> d1cf1e2bd3e41f2bd3576a32593e2f73</td>\n",
        "      <td> 1</td>\n",
        "    </tr>\n",
        "    <tr>\n",
        "      <th>95 </th>\n",
        "      <td> 4</td>\n",
        "      <td> A</td>\n",
        "      <td> BA</td>\n",
        "      <td> 2</td>\n",
        "      <td> 2bd5b76b8fac74b062c1a99c9bbc0a75</td>\n",
        "      <td> 2</td>\n",
        "    </tr>\n",
        "    <tr>\n",
        "      <th>98 </th>\n",
        "      <td> 4</td>\n",
        "      <td> A</td>\n",
        "      <td> BA</td>\n",
        "      <td> 2</td>\n",
        "      <td> 3ea2814b0443687ea2400e6c1726d7ab</td>\n",
        "      <td> 2</td>\n",
        "    </tr>\n",
        "    <tr>\n",
        "      <th>100</th>\n",
        "      <td> 4</td>\n",
        "      <td> A</td>\n",
        "      <td> BA</td>\n",
        "      <td> 2</td>\n",
        "      <td> 4d9db524466a6d05f29fb721f842de77</td>\n",
        "      <td> 2</td>\n",
        "    </tr>\n",
        "    <tr>\n",
        "      <th>101</th>\n",
        "      <td> 2</td>\n",
        "      <td> A</td>\n",
        "      <td> BA</td>\n",
        "      <td> 2</td>\n",
        "      <td> 52d3867f738f6cff74269cf62e3b7251</td>\n",
        "      <td> 2</td>\n",
        "    </tr>\n",
        "    <tr>\n",
        "      <th>102</th>\n",
        "      <td> 4</td>\n",
        "      <td> A</td>\n",
        "      <td> BA</td>\n",
        "      <td> 2</td>\n",
        "      <td> 5b114f95a429eb982fc0b378c64a23f9</td>\n",
        "      <td> 2</td>\n",
        "    </tr>\n",
        "    <tr>\n",
        "      <th>103</th>\n",
        "      <td> 4</td>\n",
        "      <td> A</td>\n",
        "      <td> BA</td>\n",
        "      <td> 2</td>\n",
        "      <td> 690e88138d83a8ec5fea4230b364aae0</td>\n",
        "      <td> 2</td>\n",
        "    </tr>\n",
        "    <tr>\n",
        "      <th>105</th>\n",
        "      <td> 4</td>\n",
        "      <td> A</td>\n",
        "      <td> BA</td>\n",
        "      <td> 2</td>\n",
        "      <td> 6fd7664989b2b16f85c63169595bb66e</td>\n",
        "      <td> 2</td>\n",
        "    </tr>\n",
        "    <tr>\n",
        "      <th>106</th>\n",
        "      <td> 4</td>\n",
        "      <td> A</td>\n",
        "      <td> BA</td>\n",
        "      <td> 2</td>\n",
        "      <td> 78764885189f4abe3a13ee47ebe3d1fa</td>\n",
        "      <td> 2</td>\n",
        "    </tr>\n",
        "    <tr>\n",
        "      <th>107</th>\n",
        "      <td> 2</td>\n",
        "      <td> A</td>\n",
        "      <td> BA</td>\n",
        "      <td> 2</td>\n",
        "      <td> 78a96862e5913958feedfe14d1fab097</td>\n",
        "      <td> 2</td>\n",
        "    </tr>\n",
        "    <tr>\n",
        "      <th>108</th>\n",
        "      <td> 4</td>\n",
        "      <td> A</td>\n",
        "      <td> BA</td>\n",
        "      <td> 2</td>\n",
        "      <td> 78d147e21c80109dbbd9d20b4c0e9599</td>\n",
        "      <td> 2</td>\n",
        "    </tr>\n",
        "    <tr>\n",
        "      <th>109</th>\n",
        "      <td> 3</td>\n",
        "      <td> A</td>\n",
        "      <td> BA</td>\n",
        "      <td> 2</td>\n",
        "      <td> 7f28b3efad0d8ae171c6b1ef5f121fae</td>\n",
        "      <td> 2</td>\n",
        "    </tr>\n",
        "    <tr>\n",
        "      <th>111</th>\n",
        "      <td> 4</td>\n",
        "      <td> A</td>\n",
        "      <td> BA</td>\n",
        "      <td> 2</td>\n",
        "      <td> 82767106b0a1223876d8e83a304c0ebb</td>\n",
        "      <td> 2</td>\n",
        "    </tr>\n",
        "    <tr>\n",
        "      <th>114</th>\n",
        "      <td> 4</td>\n",
        "      <td> A</td>\n",
        "      <td> BA</td>\n",
        "      <td> 2</td>\n",
        "      <td> 84c2942a7672bd26bf4fe5712b305583</td>\n",
        "      <td> 2</td>\n",
        "    </tr>\n",
        "    <tr>\n",
        "      <th>120</th>\n",
        "      <td> 4</td>\n",
        "      <td> A</td>\n",
        "      <td> BA</td>\n",
        "      <td> 2</td>\n",
        "      <td> 9ea45926a9c8ed339eb51007083b6d56</td>\n",
        "      <td> 2</td>\n",
        "    </tr>\n",
        "    <tr>\n",
        "      <th>122</th>\n",
        "      <td> 4</td>\n",
        "      <td> A</td>\n",
        "      <td> BA</td>\n",
        "      <td> 2</td>\n",
        "      <td> b216c2e229949e81796327f3a133252e</td>\n",
        "      <td> 2</td>\n",
        "    </tr>\n",
        "    <tr>\n",
        "      <th>124</th>\n",
        "      <td> 4</td>\n",
        "      <td> A</td>\n",
        "      <td> BA</td>\n",
        "      <td> 2</td>\n",
        "      <td> b57ae216d47820a5a597768ddc48fdca</td>\n",
        "      <td> 2</td>\n",
        "    </tr>\n",
        "    <tr>\n",
        "      <th>125</th>\n",
        "      <td> 3</td>\n",
        "      <td> A</td>\n",
        "      <td> BA</td>\n",
        "      <td> 2</td>\n",
        "      <td> c0ba478916443e75928dc18d1bc8e468</td>\n",
        "      <td> 2</td>\n",
        "    </tr>\n",
        "    <tr>\n",
        "      <th>128</th>\n",
        "      <td> 4</td>\n",
        "      <td> A</td>\n",
        "      <td> BA</td>\n",
        "      <td> 2</td>\n",
        "      <td> c4855b2635f52a5f8f10a13348b2e688</td>\n",
        "      <td> 2</td>\n",
        "    </tr>\n",
        "    <tr>\n",
        "      <th>132</th>\n",
        "      <td> 4</td>\n",
        "      <td> A</td>\n",
        "      <td> BA</td>\n",
        "      <td> 2</td>\n",
        "      <td> d88bf82976822f5950e5bc4cf56e700a</td>\n",
        "      <td> 2</td>\n",
        "    </tr>\n",
        "    <tr>\n",
        "      <th>133</th>\n",
        "      <td> 4</td>\n",
        "      <td> A</td>\n",
        "      <td> BA</td>\n",
        "      <td> 2</td>\n",
        "      <td> dce82b0bd1c889c42227c7290aa6cec0</td>\n",
        "      <td> 2</td>\n",
        "    </tr>\n",
        "    <tr>\n",
        "      <th>134</th>\n",
        "      <td> 4</td>\n",
        "      <td> A</td>\n",
        "      <td> BA</td>\n",
        "      <td> 2</td>\n",
        "      <td> ed4707fdbf643cdb6651a9d7807d8048</td>\n",
        "      <td> 2</td>\n",
        "    </tr>\n",
        "    <tr>\n",
        "      <th>135</th>\n",
        "      <td> 4</td>\n",
        "      <td> A</td>\n",
        "      <td> BA</td>\n",
        "      <td> 2</td>\n",
        "      <td> f3906c5106e79f3165050a0fcbbf4cc3</td>\n",
        "      <td> 2</td>\n",
        "    </tr>\n",
        "    <tr>\n",
        "      <th>136</th>\n",
        "      <td> 4</td>\n",
        "      <td> A</td>\n",
        "      <td> BA</td>\n",
        "      <td> 2</td>\n",
        "      <td> fa251851931ddd1b63a9d66bd90ca95c</td>\n",
        "      <td> 2</td>\n",
        "    </tr>\n",
        "    <tr>\n",
        "      <th>137</th>\n",
        "      <td> 4</td>\n",
        "      <td> A</td>\n",
        "      <td> BA</td>\n",
        "      <td> 2</td>\n",
        "      <td> fc5bb1982077af9dd12aa7de0a5660c3</td>\n",
        "      <td> 2</td>\n",
        "    </tr>\n",
        "  </tbody>\n",
        "</table>\n",
        "<p>134 rows \u00d7 6 columns</p>\n",
        "</div>"
       ],
       "metadata": {},
       "output_type": "pyout",
       "prompt_number": 37,
       "text": [
        "     response trt sequ period                                id scenario\n",
        "0           4   A   AB      1  03ebd33fe07a1226f3b98aa8aa13e76e        1\n",
        "2           2   A   AB      1  358e6df6c02309c57fd05b27540fb8e8        1\n",
        "5           4   A   AB      1  4daf9ac2c73522a2339d564abc33f2d4        1\n",
        "6           3   A   AB      1  62d5d75aa5c5c673ff839565556057cd        1\n",
        "9           3   A   AB      1  86ed6760b4a6fc54cff9850e090c7b5f        1\n",
        "10          3   A   AB      1  9bdb3c0e8ae917d2fe5dc746a4fe24c6        1\n",
        "11          4   A   AB      1  b540afa5300616f5a6ed80106fb6b20e        1\n",
        "12          4   A   AB      1  e9e357d280b62fde1f5c9b718ee3ea36        1\n",
        "13          4   A   AB      1  68ec3fb55059c118977c24cbd4fca91c        1\n",
        "16          4   A   AB      1  66f12cf71b45603b5b5bded2142fb89c        1\n",
        "22          4   A   AB      1  0687ef14d441706b211ff0edf9f2ebea        2\n",
        "23          2   A   AB      1  0ddaf25718c6b4c35bf05ae6335150d4        2\n",
        "24          4   A   AB      1  18da94199bf2471a70d0298958543bb4        2\n",
        "25          4   A   AB      1  23ba4e6b2b149ba6294bd7e0125b2948        2\n",
        "27          4   A   AB      1  2be130732b05502a4a631bc01291b25b        2\n",
        "28          4   A   AB      1  38c7d17c9d41c293afe9d368d45a629c        2\n",
        "30          4   A   AB      1  4306bad121fb3ad1fb2365dda1a32440        2\n",
        "35          3   A   AB      1  6b216d7a04c90e3490fb335b6dc39314        2\n",
        "41          2   A   AB      1  7f6ad16cca9e095737b8ad8089f11f51        2\n",
        "43          4   A   AB      1  84435907d0139de1cd4eaf5a4992ee6c        2\n",
        "44          4   A   AB      1  84876d35deb805f65d6a102cb79760f9        2\n",
        "46          3   A   AB      1  8cb5d8f0b3e4d37a521ae650c4419c87        2\n",
        "47          3   A   AB      1  8d302b9b42e172fd68dc46cdde1bde56        2\n",
        "48          3   A   AB      1  904ea89665852be4d0df452236a32395        2\n",
        "50          2   A   AB      1  93db2c509aad8d09d515c8e71ea60fce        2\n",
        "52          4   A   AB      1  aaab26582025ca57df98adab9c821786        2\n",
        "57          4   A   AB      1  c122797a0a6e34e5c7159bb839ab9cec        2\n",
        "58          3   A   AB      1  c424cb968746b9c146cfda7af86bd46f        2\n",
        "60          4   A   AB      1  c4af4b34d71a116d49cfd1bbc37115dc        2\n",
        "61          4   A   AB      1  ce4dd38c1a2b00597a5937d82828d532        2\n",
        "..        ...  ..  ...    ...                               ...      ...\n",
        "84          1   A   BA      2  9f739b36a1f91569017b5ab36be07f7f        1\n",
        "86          4   A   BA      2  2916e59453604e0bf19d4b3b60b75fdd        1\n",
        "87          4   A   BA      2  28d0f45805f4a2e9ec4d8fe4cf2e517e        1\n",
        "88          2   A   BA      2  8ed6774338c3fee17bbdca2dfbc7f1d6        1\n",
        "89          4   A   BA      2  f1deeddb2588e790d7425adfa7ffb307        1\n",
        "90          4   A   BA      2  d1cf1e2bd3e41f2bd3576a32593e2f73        1\n",
        "95          4   A   BA      2  2bd5b76b8fac74b062c1a99c9bbc0a75        2\n",
        "98          4   A   BA      2  3ea2814b0443687ea2400e6c1726d7ab        2\n",
        "100         4   A   BA      2  4d9db524466a6d05f29fb721f842de77        2\n",
        "101         2   A   BA      2  52d3867f738f6cff74269cf62e3b7251        2\n",
        "102         4   A   BA      2  5b114f95a429eb982fc0b378c64a23f9        2\n",
        "103         4   A   BA      2  690e88138d83a8ec5fea4230b364aae0        2\n",
        "105         4   A   BA      2  6fd7664989b2b16f85c63169595bb66e        2\n",
        "106         4   A   BA      2  78764885189f4abe3a13ee47ebe3d1fa        2\n",
        "107         2   A   BA      2  78a96862e5913958feedfe14d1fab097        2\n",
        "108         4   A   BA      2  78d147e21c80109dbbd9d20b4c0e9599        2\n",
        "109         3   A   BA      2  7f28b3efad0d8ae171c6b1ef5f121fae        2\n",
        "111         4   A   BA      2  82767106b0a1223876d8e83a304c0ebb        2\n",
        "114         4   A   BA      2  84c2942a7672bd26bf4fe5712b305583        2\n",
        "120         4   A   BA      2  9ea45926a9c8ed339eb51007083b6d56        2\n",
        "122         4   A   BA      2  b216c2e229949e81796327f3a133252e        2\n",
        "124         4   A   BA      2  b57ae216d47820a5a597768ddc48fdca        2\n",
        "125         3   A   BA      2  c0ba478916443e75928dc18d1bc8e468        2\n",
        "128         4   A   BA      2  c4855b2635f52a5f8f10a13348b2e688        2\n",
        "132         4   A   BA      2  d88bf82976822f5950e5bc4cf56e700a        2\n",
        "133         4   A   BA      2  dce82b0bd1c889c42227c7290aa6cec0        2\n",
        "134         4   A   BA      2  ed4707fdbf643cdb6651a9d7807d8048        2\n",
        "135         4   A   BA      2  f3906c5106e79f3165050a0fcbbf4cc3        2\n",
        "136         4   A   BA      2  fa251851931ddd1b63a9d66bd90ca95c        2\n",
        "137         4   A   BA      2  fc5bb1982077af9dd12aa7de0a5660c3        2\n",
        "\n",
        "[134 rows x 6 columns]"
       ]
      }
     ],
     "prompt_number": 37
    },
    {
     "cell_type": "markdown",
     "metadata": {},
     "source": [
      "##Running Logistic Regression (FULL)"
     ]
    },
    {
     "cell_type": "code",
     "collapsed": false,
     "input": [
      "%%R -i full_set\n",
      "library(ordinal)\n",
      "\n",
      "getCLMM22<- function(xx){\n",
      "    s <- data.frame(xx)\n",
      "    s$response <- factor(s$response)\n",
      "    s$trt <- factor(s$trt)\n",
      "    s$sequ <- factor(s$sequ)\n",
      "    s$period <- factor(s$period)\n",
      "    s$scenario <- factor(s$scenario)\n",
      "\n",
      "    ##s <- within(s, Grp <- factor(id:sequ))\n",
      "\n",
      "    mm2f <- clmm(response ~ sequ  + trt + period +scenario+(1 | id:sequ), s, Hess = TRUE, nAGQ = 10  )\n",
      "    print (summary(mm2f))\n",
      "    exp(cbind(OR =coef(mm2f), confint(mm2f)))\n",
      "    return(mm2f)\n",
      "}\n",
      "\n",
      "model7<-getCLMM22(full_set)\n",
      "###plot(fitted(mm2),residuals(mm2))\n",
      "source('regression_plots.r')\n",
      "plot_odds(model7,'Odds ratios and CI')"
     ],
     "language": "python",
     "metadata": {},
     "outputs": [
      {
       "metadata": {},
       "output_type": "display_data",
       "text": [
        "Cumulative Link Mixed Model fitted with the adaptive Gauss-Hermite \n",
        "quadrature approximation with 10 quadrature points \n",
        "\n",
        "formula: response ~ sequ + trt + period + scenario + (1 | id:sequ)\n",
        "data:    s\n",
        "\n",
        " link  threshold nobs logLik AIC    niter     max.grad cond.H \n",
        " logit flexible  134  -81.64 179.27 426(2851) 2.13e-05 1.9e+03\n",
        "\n",
        "Random effects:\n",
        " Groups  Name        Variance Std.Dev.\n",
        " id:sequ (Intercept) 61.58    7.847   \n",
        "Number of groups:  id:sequ 67 \n",
        "\n",
        "Coefficients:\n",
        "          Estimate Std. Error z value Pr(>|z|)  \n",
        "sequBA      0.6377     2.0376   0.313   0.7543  \n",
        "trtB        1.2727     0.7355   1.730   0.0836 .\n",
        "period2     1.7688     0.7710   2.294   0.0218 *\n",
        "scenario2   2.5486     2.3436   1.087   0.2768  \n",
        "---\n",
        "Signif. codes:  0 \u2018***\u2019 0.001 \u2018**\u2019 0.01 \u2018*\u2019 0.05 \u2018.\u2019 0.1 \u2018 \u2019 1\n",
        "\n",
        "Threshold coefficients:\n",
        "    Estimate Std. Error z value\n",
        "1|2  -12.117      4.361  -2.778\n",
        "2|3   -5.974      3.012  -1.983\n",
        "3|4   -2.109      2.683  -0.786\n"
       ]
      },
      {
       "metadata": {},
       "output_type": "display_data",
       "png": "[encoded data removed]"
      }
     ],
     "prompt_number": 38
    },
    {
     "cell_type": "code",
     "collapsed": false,
     "input": [],
     "language": "python",
     "metadata": {},
     "outputs": [],
     "prompt_number": 38
    },
    {
     "cell_type": "markdown",
     "metadata": {},
     "source": [
      "\n",
      "###Check ODDs ration (Full)"
     ]
    },
    {
     "cell_type": "code",
     "collapsed": false,
     "input": [
      "%%R -i full_set\n",
      "\n",
      "getCLMMW2<- function(xx){\n",
      "\n",
      "    s <- data.frame(xx)\n",
      "    s$response <- factor(s$response)\n",
      "    s$trt <- factor(s$trt)\n",
      "    s$sequ <- factor(s$sequ)\n",
      "    s$period <- factor(s$period)\n",
      "    ##s$scenario <- factor(s$scenario)\n",
      "\n",
      "\n",
      "    ##s <- within(s, Grp <- factor(id:sequ))\n",
      "\n",
      "    mm7 <-clmm(response ~ sequ + period  +trt+ (1 | id:sequ), s,  Hess = TRUE, nAGQ = 10  )\n",
      "\n",
      "\n",
      "    print (summary(mm7))\n",
      "    exp(cbind(OR =coef(mm7), confint(mm7)))\n",
      "    return(mm7)\n",
      "}\n",
      "\n",
      "\n",
      "model8<-getCLMMW2(full_set)\n",
      "c = anova(model7, model8)\n",
      "print(c)\n",
      "\n",
      "plot_odds(model8,'Odds ratios and CI')\n"
     ],
     "language": "python",
     "metadata": {},
     "outputs": [
      {
       "metadata": {},
       "output_type": "display_data",
       "text": [
        "Cumulative Link Mixed Model fitted with the adaptive Gauss-Hermite \n",
        "quadrature approximation with 10 quadrature points \n",
        "\n",
        "formula: response ~ sequ + period + trt + (1 | id:sequ)\n",
        "data:    s\n",
        "\n",
        " link  threshold nobs logLik AIC    niter     max.grad cond.H \n",
        " logit flexible  134  -82.26 178.51 350(2283) 1.35e-05 1.9e+03\n",
        "\n",
        "Random effects:\n",
        " Groups  Name        Variance Std.Dev.\n",
        " id:sequ (Intercept) 68.07    8.25    \n",
        "Number of groups:  id:sequ 67 \n",
        "\n",
        "Coefficients:\n",
        "        Estimate Std. Error z value Pr(>|z|)  \n",
        "sequBA    0.7395     2.1164   0.349   0.7268  \n",
        "period2   1.7874     0.7720   2.315   0.0206 *\n",
        "trtB      1.2892     0.7391   1.744   0.0811 .\n",
        "---\n",
        "Signif. codes:  0 \u2018***\u2019 0.001 \u2018**\u2019 0.01 \u2018*\u2019 0.05 \u2018.\u2019 0.1 \u2018 \u2019 1\n",
        "\n",
        "Threshold coefficients:\n",
        "    Estimate Std. Error z value\n",
        "1|2  -14.235      4.290  -3.318\n",
        "2|3   -8.096      2.746  -2.948\n",
        "3|4   -4.179      2.314  -1.806\n",
        "Likelihood ratio tests of cumulative link models:\n",
        " \n",
        "       formula:                                                  link:\n",
        "model8 response ~ sequ + period + trt + (1 | id:sequ)            logit\n",
        "model7 response ~ sequ + trt + period + scenario + (1 | id:sequ) logit\n",
        "       threshold:\n",
        "model8 flexible  \n",
        "model7 flexible  \n",
        "\n",
        "       no.par    AIC  logLik LR.stat df Pr(>Chisq)\n",
        "model8      7 178.51 -82.256                      \n",
        "model7      8 179.27 -81.635  1.2421  1     0.2651\n"
       ]
      },
      {
       "metadata": {},
       "output_type": "display_data",
       "png": "[encoded data removed]"
      }
     ],
     "prompt_number": 39
    },
    {
     "cell_type": "code",
     "collapsed": false,
     "input": [
      "\n",
      "exp((178.51-179.27)/2)"
     ],
     "language": "python",
     "metadata": {},
     "outputs": [
      {
       "metadata": {},
       "output_type": "pyout",
       "prompt_number": 40,
       "text": [
        "0.68386140921234928"
       ]
      }
     ],
     "prompt_number": 40
    },
    {
     "cell_type": "code",
     "collapsed": false,
     "input": [
      "%%R \n",
      "rm(list=ls())"
     ],
     "language": "python",
     "metadata": {},
     "outputs": [],
     "prompt_number": 41
    },
    {
     "cell_type": "markdown",
     "metadata": {},
     "source": [
      "# Descriptive Stats differences between scenarios\n",
      "\n",
      "Adding variable by variable to the model.\n",
      "\n",
      "- Updating Assets\n",
      "- Subjects Age\n",
      "- Material (number of people involved in production of the material) \n",
      "- **Material (number of days involved in production of the material)**\n",
      "- *Subjects Discipline*\n",
      "- *Material's type*\n"
     ]
    },
    {
     "cell_type": "code",
     "collapsed": false,
     "input": [
      "full_set_var = gg.add_survey_data(full_set,'when_best')\n",
      "# full_set_var['updating'].fillna(0, inplace=True)\n",
      "##full_set_var['howmany'] = full_set_var['howmany'].replace(['only me','between 2 and 4','between 5 and  12','between 13 and 20','more than 20'],[1,2,3,4,5])\n",
      "\n",
      "full_set_var.ix[np.random.choice(full_set_var.index.values, 10)]\n"
     ],
     "language": "python",
     "metadata": {},
     "outputs": [
      {
       "html": [
        "<div style=\"max-height:1000px;max-width:1500px;overflow:auto;\">\n",
        "<table border=\"1\" class=\"dataframe\">\n",
        "  <thead>\n",
        "    <tr style=\"text-align: right;\">\n",
        "      <th></th>\n",
        "      <th>response</th>\n",
        "      <th>trt</th>\n",
        "      <th>sequ</th>\n",
        "      <th>period</th>\n",
        "      <th>id</th>\n",
        "      <th>scenario</th>\n",
        "      <th>when_best</th>\n",
        "    </tr>\n",
        "  </thead>\n",
        "  <tbody>\n",
        "    <tr>\n",
        "      <th>94 </th>\n",
        "      <td> 4</td>\n",
        "      <td> B</td>\n",
        "      <td> AB</td>\n",
        "      <td> 2</td>\n",
        "      <td> 23ba4e6b2b149ba6294bd7e0125b2948</td>\n",
        "      <td> 2</td>\n",
        "      <td> 4</td>\n",
        "    </tr>\n",
        "    <tr>\n",
        "      <th>2  </th>\n",
        "      <td> 2</td>\n",
        "      <td> A</td>\n",
        "      <td> AB</td>\n",
        "      <td> 1</td>\n",
        "      <td> 358e6df6c02309c57fd05b27540fb8e8</td>\n",
        "      <td> 1</td>\n",
        "      <td> 6</td>\n",
        "    </tr>\n",
        "    <tr>\n",
        "      <th>98 </th>\n",
        "      <td> 4</td>\n",
        "      <td> A</td>\n",
        "      <td> BA</td>\n",
        "      <td> 2</td>\n",
        "      <td> 3ea2814b0443687ea2400e6c1726d7ab</td>\n",
        "      <td> 2</td>\n",
        "      <td> 6</td>\n",
        "    </tr>\n",
        "    <tr>\n",
        "      <th>40 </th>\n",
        "      <td> 4</td>\n",
        "      <td> B</td>\n",
        "      <td> BA</td>\n",
        "      <td> 1</td>\n",
        "      <td> 7f28b3efad0d8ae171c6b1ef5f121fae</td>\n",
        "      <td> 2</td>\n",
        "      <td> 4</td>\n",
        "    </tr>\n",
        "    <tr>\n",
        "      <th>21 </th>\n",
        "      <td> 4</td>\n",
        "      <td> B</td>\n",
        "      <td> BA</td>\n",
        "      <td> 1</td>\n",
        "      <td> d1cf1e2bd3e41f2bd3576a32593e2f73</td>\n",
        "      <td> 1</td>\n",
        "      <td> 5</td>\n",
        "    </tr>\n",
        "    <tr>\n",
        "      <th>121</th>\n",
        "      <td> 4</td>\n",
        "      <td> B</td>\n",
        "      <td> AB</td>\n",
        "      <td> 2</td>\n",
        "      <td> aaab26582025ca57df98adab9c821786</td>\n",
        "      <td> 2</td>\n",
        "      <td> 6</td>\n",
        "    </tr>\n",
        "    <tr>\n",
        "      <th>30 </th>\n",
        "      <td> 4</td>\n",
        "      <td> A</td>\n",
        "      <td> AB</td>\n",
        "      <td> 1</td>\n",
        "      <td> 4306bad121fb3ad1fb2365dda1a32440</td>\n",
        "      <td> 2</td>\n",
        "      <td> 5</td>\n",
        "    </tr>\n",
        "    <tr>\n",
        "      <th>104</th>\n",
        "      <td> 4</td>\n",
        "      <td> B</td>\n",
        "      <td> AB</td>\n",
        "      <td> 2</td>\n",
        "      <td> 6b216d7a04c90e3490fb335b6dc39314</td>\n",
        "      <td> 2</td>\n",
        "      <td> 5</td>\n",
        "    </tr>\n",
        "    <tr>\n",
        "      <th>105</th>\n",
        "      <td> 4</td>\n",
        "      <td> A</td>\n",
        "      <td> BA</td>\n",
        "      <td> 2</td>\n",
        "      <td> 6fd7664989b2b16f85c63169595bb66e</td>\n",
        "      <td> 2</td>\n",
        "      <td> 6</td>\n",
        "    </tr>\n",
        "    <tr>\n",
        "      <th>86 </th>\n",
        "      <td> 4</td>\n",
        "      <td> A</td>\n",
        "      <td> BA</td>\n",
        "      <td> 2</td>\n",
        "      <td> 2916e59453604e0bf19d4b3b60b75fdd</td>\n",
        "      <td> 1</td>\n",
        "      <td> 5</td>\n",
        "    </tr>\n",
        "  </tbody>\n",
        "</table>\n",
        "</div>"
       ],
       "metadata": {},
       "output_type": "pyout",
       "prompt_number": 42,
       "text": [
        "     response trt sequ period                                id scenario  \\\n",
        "94          4   B   AB      2  23ba4e6b2b149ba6294bd7e0125b2948        2   \n",
        "2           2   A   AB      1  358e6df6c02309c57fd05b27540fb8e8        1   \n",
        "98          4   A   BA      2  3ea2814b0443687ea2400e6c1726d7ab        2   \n",
        "40          4   B   BA      1  7f28b3efad0d8ae171c6b1ef5f121fae        2   \n",
        "21          4   B   BA      1  d1cf1e2bd3e41f2bd3576a32593e2f73        1   \n",
        "121         4   B   AB      2  aaab26582025ca57df98adab9c821786        2   \n",
        "30          4   A   AB      1  4306bad121fb3ad1fb2365dda1a32440        2   \n",
        "104         4   B   AB      2  6b216d7a04c90e3490fb335b6dc39314        2   \n",
        "105         4   A   BA      2  6fd7664989b2b16f85c63169595bb66e        2   \n",
        "86          4   A   BA      2  2916e59453604e0bf19d4b3b60b75fdd        1   \n",
        "\n",
        "    when_best  \n",
        "94          4  \n",
        "2           6  \n",
        "98          6  \n",
        "40          4  \n",
        "21          5  \n",
        "121         6  \n",
        "30          5  \n",
        "104         5  \n",
        "105         6  \n",
        "86          5  "
       ]
      }
     ],
     "prompt_number": 42
    },
    {
     "cell_type": "code",
     "collapsed": false,
     "input": [
      "new_Sce = f.code_for_stat_ana()[['year_born','discipline','man_hours','field']]\n",
      "old_Sce = c.code_for_stat_ana()[['year_born','discipline','man_hours','field']]\n",
      "# sequ_AB = sequ_AB[['year_born','discipline','man_hours','field']]\n",
      "# sequ_BA = sequ_BA[['year_born','discipline','man_hours','field']]\n",
      "print 2015-1976\n",
      "from __future__ import division\n",
      "print (15/45)\n",
      "print new_Sce.describe(include='all')\n",
      "print old_Sce.describe(include='all')\n"
     ],
     "language": "python",
     "metadata": {},
     "outputs": [
      {
       "output_type": "stream",
       "stream": "stdout",
       "text": [
        "(45, 44)\n",
        "(29, 44)\n",
        "39\n",
        "0.333333333333\n",
        "          year_born      discipline   man_hours           field\n",
        "count     45.000000              45   43.000000              45\n",
        "unique          NaN              28         NaN              25\n",
        "top             NaN  Bioinformatics         NaN  bioinformatics\n",
        "freq            NaN              10         NaN              15\n",
        "mean    1976.888889             NaN   44.627907             NaN\n",
        "std        9.549446             NaN   64.581076             NaN\n",
        "min     1950.000000             NaN   10.000000             NaN\n",
        "25%     1972.000000             NaN   12.000000             NaN\n",
        "50%     1978.000000             NaN   21.000000             NaN\n",
        "75%     1985.000000             NaN   40.000000             NaN\n",
        "max     1989.000000             NaN  300.000000             NaN\n",
        "          year_born       discipline   man_hours            field\n",
        "count     29.000000               29   27.000000               29\n",
        "unique          NaN               17         NaN               14\n",
        "top             NaN  Systems Biology         NaN  systems biology\n",
        "freq            NaN                6         NaN                9\n",
        "mean    1984.137931              NaN   56.888889              NaN\n",
        "std        5.481945              NaN   86.440435              NaN\n",
        "min     1975.000000              NaN   10.000000              NaN\n",
        "25%     1981.000000              NaN   10.000000              NaN\n",
        "50%     1985.000000              NaN   24.000000              NaN\n",
        "75%     1987.000000              NaN   45.500000              NaN\n",
        "max     2000.000000              NaN  300.000000              NaN\n"
       ]
      }
     ],
     "prompt_number": 59
    },
    {
     "cell_type": "code",
     "collapsed": false,
     "input": [
      "new_set = f.get_data()['year_born']\n",
      "print new_set.shape\n",
      "old_set = c.get_data()['year_born']\n",
      "old_set = old_set[old_set != 2000]\n",
      "old_set.shape"
     ],
     "language": "python",
     "metadata": {},
     "outputs": [
      {
       "output_type": "stream",
       "stream": "stdout",
       "text": [
        "(45,)\n"
       ]
      },
      {
       "metadata": {},
       "output_type": "pyout",
       "prompt_number": 45,
       "text": [
        "(28,)"
       ]
      }
     ],
     "prompt_number": 45
    },
    {
     "cell_type": "code",
     "collapsed": false,
     "input": [
      "old_set.plot(kind='hist', alpha=0.5, color=\"green\")\n",
      "new_set.plot(kind='hist', alpha=0.5)\n"
     ],
     "language": "python",
     "metadata": {},
     "outputs": [
      {
       "metadata": {},
       "output_type": "pyout",
       "prompt_number": 44,
       "text": [
        "<matplotlib.axes._subplots.AxesSubplot at 0x10b5881d0>"
       ]
      },
      {
       "metadata": {},
       "output_type": "display_data",
       "png": "[encoded data removed]",
       "text": [
        "<matplotlib.figure.Figure at 0x10ace7910>"
       ]
      }
     ],
     "prompt_number": 44
    },
    {
     "cell_type": "code",
     "collapsed": false,
     "input": [
      "%%R -i  new_set -i old_set\n",
      "wilcox.test(new_set, old_set, conf.int = TRUE, conf.level = 0.95)"
     ],
     "language": "python",
     "metadata": {},
     "outputs": [
      {
       "metadata": {},
       "output_type": "display_data",
       "text": [
        "\n",
        "\tWilcoxon rank sum test with continuity correction\n",
        "\n",
        "data:  new_set and old_set\n",
        "W = 352.5, p-value = 0.001644\n",
        "alternative hypothesis: true location shift is not equal to 0\n",
        "95 percent confidence interval:\n",
        " -9.000033 -1.999930\n",
        "sample estimates:\n",
        "difference in location \n",
        "              -5.00002 \n",
        "\n"
       ]
      }
     ],
     "prompt_number": 21
    },
    {
     "cell_type": "markdown",
     "metadata": {},
     "source": [
      "> There is definetely a difference in age between the people going to one scenario and the other. It can be said that the new scenario has older subjects"
     ]
    },
    {
     "cell_type": "code",
     "collapsed": false,
     "input": [
      "new_set = f.get_plotdata().groupby('field')['field'].count()\n",
      "old_set = c.get_plotdata().groupby('field')['field'].count()\n"
     ],
     "language": "python",
     "metadata": {},
     "outputs": [],
     "prompt_number": 22
    },
    {
     "cell_type": "code",
     "collapsed": false,
     "input": [
      "new_set.plot(kind='barh')"
     ],
     "language": "python",
     "metadata": {},
     "outputs": [
      {
       "metadata": {},
       "output_type": "pyout",
       "prompt_number": 23,
       "text": [
        "<matplotlib.axes._subplots.AxesSubplot at 0x10c054cd0>"
       ]
      },
      {
       "metadata": {},
       "output_type": "display_data",
       "png": "[encoded data removed]",
       "text": [
        "<matplotlib.figure.Figure at 0x10ba58a90>"
       ]
      }
     ],
     "prompt_number": 23
    },
    {
     "cell_type": "code",
     "collapsed": false,
     "input": [
      "old_set.plot(kind='barh', alpha=0.5, color='green')"
     ],
     "language": "python",
     "metadata": {},
     "outputs": [
      {
       "metadata": {},
       "output_type": "pyout",
       "prompt_number": 24,
       "text": [
        "<matplotlib.axes._subplots.AxesSubplot at 0x11515f390>"
       ]
      },
      {
       "metadata": {},
       "output_type": "display_data",
       "png": "[encoded data removed]",
       "text": [
        "<matplotlib.figure.Figure at 0x10e69af90>"
       ]
      }
     ],
     "prompt_number": 24
    },
    {
     "cell_type": "code",
     "collapsed": false,
     "input": [
      "new_set = f.get_plotdata()['field'].tolist()\n",
      "old_set = c.get_plotdata()['field'].tolist()\n",
      "new_set = new_set[0:29]"
     ],
     "language": "python",
     "metadata": {},
     "outputs": [],
     "prompt_number": 25
    },
    {
     "cell_type": "code",
     "collapsed": false,
     "input": [
      "%%R -i  new_set -i old_set\n",
      "library(MASS) \n",
      "tbl = table(new_set, old_set) \n",
      "tbl\n",
      "chisq.test(tbl) \n"
     ],
     "language": "python",
     "metadata": {},
     "outputs": [
      {
       "metadata": {},
       "output_type": "display_data",
       "text": [
        "\n",
        "\tPearson's Chi-squared test\n",
        "\n",
        "data:  tbl\n",
        "X-squared = 258.9951, df = 208, p-value = 0.009311\n",
        "\n"
       ]
      }
     ],
     "prompt_number": 26
    },
    {
     "cell_type": "markdown",
     "metadata": {},
     "source": [
      "> So we have loads fo chemist in our old scenario and we don't have thne in the new one.This proabably explains why we have differences in the results of the experiment. the interventions were created thiking on SB which we have mo many in the old scenario"
     ]
    },
    {
     "cell_type": "code",
     "collapsed": false,
     "input": [
      "new_set = f.get_data()['man_hours']\n",
      "old_set = c.get_data()['man_hours']"
     ],
     "language": "python",
     "metadata": {},
     "outputs": [],
     "prompt_number": 27
    },
    {
     "cell_type": "code",
     "collapsed": false,
     "input": [
      "new_set.plot(kind='hist')\n",
      "old_set.plot(kind='hist', alpha=0.5, color='green')"
     ],
     "language": "python",
     "metadata": {},
     "outputs": [
      {
       "metadata": {},
       "output_type": "pyout",
       "prompt_number": 28,
       "text": [
        "<matplotlib.axes._subplots.AxesSubplot at 0x11515f310>"
       ]
      },
      {
       "metadata": {},
       "output_type": "display_data",
       "png": "[encoded data removed]",
       "text": [
        "<matplotlib.figure.Figure at 0x118345a10>"
       ]
      }
     ],
     "prompt_number": 28
    },
    {
     "cell_type": "code",
     "collapsed": false,
     "input": [
      "%%R -i  new_set -i old_set\n",
      "wilcox.test(new_set, old_set, conf.int = TRUE, conf.level = 0.95)"
     ],
     "language": "python",
     "metadata": {},
     "outputs": [
      {
       "metadata": {},
       "output_type": "display_data",
       "text": [
        "\n",
        "\tWilcoxon rank sum test with continuity correction\n",
        "\n",
        "data:  new_set and old_set\n",
        "W = 598.5, p-value = 0.8302\n",
        "alternative hypothesis: true location shift is not equal to 0\n",
        "95 percent confidence interval:\n",
        " -8.999946  9.999959\n",
        "sample estimates:\n",
        "difference in location \n",
        "          4.262334e-05 \n",
        "\n"
       ]
      }
     ],
     "prompt_number": 29
    },
    {
     "cell_type": "markdown",
     "metadata": {},
     "source": [
      "> In terms of labour both distributios are very similar so we don't have to worry"
     ]
    },
    {
     "cell_type": "code",
     "collapsed": false,
     "input": [
      "new_set = f.get_plotdata().groupby('howmany')['howmany'].count()\n",
      "old_set = c.get_plotdata().groupby('howmany')['howmany'].count()\n",
      "# new_set.sort('howmany')\n",
      "# old_set.sort('howmany')\n",
      "new_set.plot(kind='bar')\n",
      "old_set.plot(kind='bar', color=\"green\", alpha=0.5)\n"
     ],
     "language": "python",
     "metadata": {},
     "outputs": [
      {
       "metadata": {},
       "output_type": "pyout",
       "prompt_number": 30,
       "text": [
        "<matplotlib.axes._subplots.AxesSubplot at 0x118bf6f90>"
       ]
      },
      {
       "metadata": {},
       "output_type": "display_data",
       "png": "[encoded data removed]",
       "text": [
        "<matplotlib.figure.Figure at 0x1137c9590>"
       ]
      }
     ],
     "prompt_number": 30
    },
    {
     "cell_type": "code",
     "collapsed": false,
     "input": [],
     "language": "python",
     "metadata": {},
     "outputs": [],
     "prompt_number": 30
    },
    {
     "cell_type": "code",
     "collapsed": false,
     "input": [
      "new_set = f.get_data()['howmany']\n",
      "old_set = c.get_data()['howmany']\n",
      "old_set.shape"
     ],
     "language": "python",
     "metadata": {},
     "outputs": [
      {
       "metadata": {},
       "output_type": "pyout",
       "prompt_number": 31,
       "text": [
        "(29,)"
       ]
      }
     ],
     "prompt_number": 31
    },
    {
     "cell_type": "code",
     "collapsed": false,
     "input": [
      "new_set = f.get_plotdata()['howmany'].tolist()\n",
      "old_set = c.get_plotdata()['howmany'].tolist()\n",
      "new_set = new_set[0:29]"
     ],
     "language": "python",
     "metadata": {},
     "outputs": [],
     "prompt_number": 32
    },
    {
     "cell_type": "code",
     "collapsed": false,
     "input": [
      "%%R -i  new_set -i old_set\n",
      "library(MASS) \n",
      "tbl = table(new_set, old_set) \n",
      "tbl\n",
      "chisq.test(tbl) "
     ],
     "language": "python",
     "metadata": {},
     "outputs": [
      {
       "metadata": {},
       "output_type": "display_data",
       "text": [
        "\n",
        "\tPearson's Chi-squared test\n",
        "\n",
        "data:  tbl\n",
        "X-squared = 11.4725, df = 12, p-value = 0.4889\n",
        "\n"
       ]
      }
     ],
     "prompt_number": 33
    },
    {
     "cell_type": "markdown",
     "metadata": {},
     "source": [
      "> More lone students in the data set. The set in the new scenario brought people that work more in teams is expected as seen i nthe age data which also indicate older subjects."
     ]
    },
    {
     "cell_type": "code",
     "collapsed": false,
     "input": [
      "new_set = f.get_plotdata().replace([1,2,3,4,5,6],['10 years','5 years','3 years','1 year','ASAP','before']).groupby('when_best')['when_best'].count()\n",
      "old_set = c.get_plotdata().replace([1,2,3,4,5,6],['10 years','5 years','3 years','1 year','ASAP','before']).groupby('when_best')['when_best'].count()\n",
      "old_set.plot(kind='bar', color=\"green\", alpha=0.8)\n",
      "new_set.plot(kind='bar', alpha=0.8)"
     ],
     "language": "python",
     "metadata": {},
     "outputs": [
      {
       "metadata": {},
       "output_type": "pyout",
       "prompt_number": 34,
       "text": [
        "<matplotlib.axes._subplots.AxesSubplot at 0x118c7de50>"
       ]
      },
      {
       "metadata": {},
       "output_type": "display_data",
       "png": "[encoded data removed]",
       "text": [
        "<matplotlib.figure.Figure at 0x118d03d90>"
       ]
      }
     ],
     "prompt_number": 34
    },
    {
     "cell_type": "code",
     "collapsed": false,
     "input": [
      "new_set = f.get_data()['when_best']\n",
      "old_set = c.get_data()['when_best']\n",
      "old_set.shape"
     ],
     "language": "python",
     "metadata": {},
     "outputs": [
      {
       "metadata": {},
       "output_type": "pyout",
       "prompt_number": 35,
       "text": [
        "(29,)"
       ]
      }
     ],
     "prompt_number": 35
    },
    {
     "cell_type": "code",
     "collapsed": false,
     "input": [
      "new_set = f.get_plotdata()['when_best'].tolist()\n",
      "old_set = c.get_plotdata()['when_best'].tolist()\n",
      "new_set = new_set[0:29]"
     ],
     "language": "python",
     "metadata": {},
     "outputs": [],
     "prompt_number": 36
    },
    {
     "cell_type": "code",
     "collapsed": false,
     "input": [
      "%%R -i  new_set -i old_set\n",
      "library(MASS) \n",
      "tbl = table(new_set, old_set) \n",
      "print(tbl)\n",
      "chisq.test(tbl) "
     ],
     "language": "python",
     "metadata": {},
     "outputs": [
      {
       "metadata": {},
       "output_type": "display_data",
       "text": [
        "       old_set\n",
        "new_set  3  5  6\n",
        "      2  0  1  0\n",
        "      4  1  2  0\n",
        "      5  0 16  4\n",
        "      6  0  4  0\n",
        "\n",
        "\tPearson's Chi-squared test\n",
        "\n",
        "data:  tbl\n",
        "X-squared = 10.2261, df = 6, p-value = 0.1154\n",
        "\n"
       ]
      }
     ],
     "prompt_number": 37
    },
    {
     "cell_type": "code",
     "collapsed": false,
     "input": [
      "new_set = f.get_plotdata().groupby('updating')['updating'].count()\n",
      "old_set = c.get_plotdata().groupby('updating')['updating'].count()\n",
      "\n",
      "old_set.plot(kind='bar', color=\"green\", alpha=0.8)\n",
      "new_set.plot(kind='bar', alpha=0.8)"
     ],
     "language": "python",
     "metadata": {},
     "outputs": [
      {
       "metadata": {},
       "output_type": "pyout",
       "prompt_number": 38,
       "text": [
        "<matplotlib.axes._subplots.AxesSubplot at 0x118c8bc10>"
       ]
      },
      {
       "metadata": {},
       "output_type": "display_data",
       "png": "[encoded data removed]",
       "text": [
        "<matplotlib.figure.Figure at 0x118356c10>"
       ]
      }
     ],
     "prompt_number": 38
    },
    {
     "cell_type": "code",
     "collapsed": false,
     "input": [
      "new_set = f.get_data()['updating']\n",
      "old_set = c.get_data()['updating']\n",
      "old_set.shape"
     ],
     "language": "python",
     "metadata": {},
     "outputs": [
      {
       "metadata": {},
       "output_type": "pyout",
       "prompt_number": 39,
       "text": [
        "(29,)"
       ]
      }
     ],
     "prompt_number": 39
    },
    {
     "cell_type": "code",
     "collapsed": false,
     "input": [
      "new_set = f.get_plotdata()['updating'].tolist()\n",
      "old_set = c.get_plotdata()['updating'].tolist()\n",
      "new_set = new_set[0:29]"
     ],
     "language": "python",
     "metadata": {},
     "outputs": [],
     "prompt_number": 40
    },
    {
     "cell_type": "code",
     "collapsed": false,
     "input": [
      "%%R -i  new_set -i old_set\n",
      "library(MASS) \n",
      "tbl = table(new_set, old_set) \n",
      "tbl\n",
      "chisq.test(tbl) "
     ],
     "language": "python",
     "metadata": {},
     "outputs": [
      {
       "metadata": {},
       "output_type": "display_data",
       "text": [
        "\n",
        "\tPearson's Chi-squared test\n",
        "\n",
        "data:  tbl\n",
        "X-squared = 1.6746, df = 2, p-value = 0.4329\n",
        "\n"
       ]
      }
     ],
     "prompt_number": 41
    },
    {
     "cell_type": "markdown",
     "metadata": {},
     "source": [
      "> In terms of being good uploaders of data both old and new scenario show not to be different"
     ]
    },
    {
     "cell_type": "code",
     "collapsed": false,
     "input": [
      "new_set = f.get_data()[['year_born','discipline','man_hours','field']]\n",
      "new_set.describe(include='all')"
     ],
     "language": "python",
     "metadata": {},
     "outputs": [
      {
       "html": [
        "<div style=\"max-height:1000px;max-width:1500px;overflow:auto;\">\n",
        "<table border=\"1\" class=\"dataframe\">\n",
        "  <thead>\n",
        "    <tr style=\"text-align: right;\">\n",
        "      <th></th>\n",
        "      <th>year_born</th>\n",
        "      <th>discipline</th>\n",
        "      <th>man_hours</th>\n",
        "      <th>field</th>\n",
        "    </tr>\n",
        "  </thead>\n",
        "  <tbody>\n",
        "    <tr>\n",
        "      <th>count</th>\n",
        "      <td>   45.000000</td>\n",
        "      <td>             45</td>\n",
        "      <td>  43.000000</td>\n",
        "      <td>             45</td>\n",
        "    </tr>\n",
        "    <tr>\n",
        "      <th>unique</th>\n",
        "      <td>         NaN</td>\n",
        "      <td>             28</td>\n",
        "      <td>        NaN</td>\n",
        "      <td>             25</td>\n",
        "    </tr>\n",
        "    <tr>\n",
        "      <th>top</th>\n",
        "      <td>         NaN</td>\n",
        "      <td> Bioinformatics</td>\n",
        "      <td>        NaN</td>\n",
        "      <td> bioinformatics</td>\n",
        "    </tr>\n",
        "    <tr>\n",
        "      <th>freq</th>\n",
        "      <td>         NaN</td>\n",
        "      <td>             10</td>\n",
        "      <td>        NaN</td>\n",
        "      <td>             15</td>\n",
        "    </tr>\n",
        "    <tr>\n",
        "      <th>mean</th>\n",
        "      <td> 1976.888889</td>\n",
        "      <td>            NaN</td>\n",
        "      <td>  44.627907</td>\n",
        "      <td>            NaN</td>\n",
        "    </tr>\n",
        "    <tr>\n",
        "      <th>std</th>\n",
        "      <td>    9.549446</td>\n",
        "      <td>            NaN</td>\n",
        "      <td>  64.581076</td>\n",
        "      <td>            NaN</td>\n",
        "    </tr>\n",
        "    <tr>\n",
        "      <th>min</th>\n",
        "      <td> 1950.000000</td>\n",
        "      <td>            NaN</td>\n",
        "      <td>  10.000000</td>\n",
        "      <td>            NaN</td>\n",
        "    </tr>\n",
        "    <tr>\n",
        "      <th>25%</th>\n",
        "      <td> 1972.000000</td>\n",
        "      <td>            NaN</td>\n",
        "      <td>  12.000000</td>\n",
        "      <td>            NaN</td>\n",
        "    </tr>\n",
        "    <tr>\n",
        "      <th>50%</th>\n",
        "      <td> 1978.000000</td>\n",
        "      <td>            NaN</td>\n",
        "      <td>  21.000000</td>\n",
        "      <td>            NaN</td>\n",
        "    </tr>\n",
        "    <tr>\n",
        "      <th>75%</th>\n",
        "      <td> 1985.000000</td>\n",
        "      <td>            NaN</td>\n",
        "      <td>  40.000000</td>\n",
        "      <td>            NaN</td>\n",
        "    </tr>\n",
        "    <tr>\n",
        "      <th>max</th>\n",
        "      <td> 1989.000000</td>\n",
        "      <td>            NaN</td>\n",
        "      <td> 300.000000</td>\n",
        "      <td>            NaN</td>\n",
        "    </tr>\n",
        "  </tbody>\n",
        "</table>\n",
        "</div>"
       ],
       "metadata": {},
       "output_type": "pyout",
       "prompt_number": 42,
       "text": [
        "          year_born      discipline   man_hours           field\n",
        "count     45.000000              45   43.000000              45\n",
        "unique          NaN              28         NaN              25\n",
        "top             NaN  Bioinformatics         NaN  bioinformatics\n",
        "freq            NaN              10         NaN              15\n",
        "mean    1976.888889             NaN   44.627907             NaN\n",
        "std        9.549446             NaN   64.581076             NaN\n",
        "min     1950.000000             NaN   10.000000             NaN\n",
        "25%     1972.000000             NaN   12.000000             NaN\n",
        "50%     1978.000000             NaN   21.000000             NaN\n",
        "75%     1985.000000             NaN   40.000000             NaN\n",
        "max     1989.000000             NaN  300.000000             NaN"
       ]
      }
     ],
     "prompt_number": 42
    },
    {
     "cell_type": "code",
     "collapsed": false,
     "input": [
      "old_set = c.get_data()[['year_born','discipline','man_hours','field']]\n",
      "old_set.describe(include='all')"
     ],
     "language": "python",
     "metadata": {},
     "outputs": [
      {
       "html": [
        "<div style=\"max-height:1000px;max-width:1500px;overflow:auto;\">\n",
        "<table border=\"1\" class=\"dataframe\">\n",
        "  <thead>\n",
        "    <tr style=\"text-align: right;\">\n",
        "      <th></th>\n",
        "      <th>year_born</th>\n",
        "      <th>discipline</th>\n",
        "      <th>man_hours</th>\n",
        "      <th>field</th>\n",
        "    </tr>\n",
        "  </thead>\n",
        "  <tbody>\n",
        "    <tr>\n",
        "      <th>count</th>\n",
        "      <td>   29.000000</td>\n",
        "      <td>              29</td>\n",
        "      <td>  27.000000</td>\n",
        "      <td>              29</td>\n",
        "    </tr>\n",
        "    <tr>\n",
        "      <th>unique</th>\n",
        "      <td>         NaN</td>\n",
        "      <td>              17</td>\n",
        "      <td>        NaN</td>\n",
        "      <td>              14</td>\n",
        "    </tr>\n",
        "    <tr>\n",
        "      <th>top</th>\n",
        "      <td>         NaN</td>\n",
        "      <td> Systems Biology</td>\n",
        "      <td>        NaN</td>\n",
        "      <td> systems biology</td>\n",
        "    </tr>\n",
        "    <tr>\n",
        "      <th>freq</th>\n",
        "      <td>         NaN</td>\n",
        "      <td>               6</td>\n",
        "      <td>        NaN</td>\n",
        "      <td>               9</td>\n",
        "    </tr>\n",
        "    <tr>\n",
        "      <th>mean</th>\n",
        "      <td> 1984.137931</td>\n",
        "      <td>             NaN</td>\n",
        "      <td>  56.888889</td>\n",
        "      <td>             NaN</td>\n",
        "    </tr>\n",
        "    <tr>\n",
        "      <th>std</th>\n",
        "      <td>    5.481945</td>\n",
        "      <td>             NaN</td>\n",
        "      <td>  86.440435</td>\n",
        "      <td>             NaN</td>\n",
        "    </tr>\n",
        "    <tr>\n",
        "      <th>min</th>\n",
        "      <td> 1975.000000</td>\n",
        "      <td>             NaN</td>\n",
        "      <td>  10.000000</td>\n",
        "      <td>             NaN</td>\n",
        "    </tr>\n",
        "    <tr>\n",
        "      <th>25%</th>\n",
        "      <td> 1981.000000</td>\n",
        "      <td>             NaN</td>\n",
        "      <td>  10.000000</td>\n",
        "      <td>             NaN</td>\n",
        "    </tr>\n",
        "    <tr>\n",
        "      <th>50%</th>\n",
        "      <td> 1985.000000</td>\n",
        "      <td>             NaN</td>\n",
        "      <td>  24.000000</td>\n",
        "      <td>             NaN</td>\n",
        "    </tr>\n",
        "    <tr>\n",
        "      <th>75%</th>\n",
        "      <td> 1987.000000</td>\n",
        "      <td>             NaN</td>\n",
        "      <td>  45.500000</td>\n",
        "      <td>             NaN</td>\n",
        "    </tr>\n",
        "    <tr>\n",
        "      <th>max</th>\n",
        "      <td> 2000.000000</td>\n",
        "      <td>             NaN</td>\n",
        "      <td> 300.000000</td>\n",
        "      <td>             NaN</td>\n",
        "    </tr>\n",
        "  </tbody>\n",
        "</table>\n",
        "</div>"
       ],
       "metadata": {},
       "output_type": "pyout",
       "prompt_number": 43,
       "text": [
        "          year_born       discipline   man_hours            field\n",
        "count     29.000000               29   27.000000               29\n",
        "unique          NaN               17         NaN               14\n",
        "top             NaN  Systems Biology         NaN  systems biology\n",
        "freq            NaN                6         NaN                9\n",
        "mean    1984.137931              NaN   56.888889              NaN\n",
        "std        5.481945              NaN   86.440435              NaN\n",
        "min     1975.000000              NaN   10.000000              NaN\n",
        "25%     1981.000000              NaN   10.000000              NaN\n",
        "50%     1985.000000              NaN   24.000000              NaN\n",
        "75%     1987.000000              NaN   45.500000              NaN\n",
        "max     2000.000000              NaN  300.000000              NaN"
       ]
      }
     ],
     "prompt_number": 43
    },
    {
     "cell_type": "code",
     "collapsed": false,
     "input": [],
     "language": "python",
     "metadata": {},
     "outputs": [],
     "prompt_number": 71
    },
    {
     "cell_type": "code",
     "collapsed": false,
     "input": [],
     "language": "python",
     "metadata": {},
     "outputs": []
    }
   ],
   "metadata": {}
  }
 ]
}