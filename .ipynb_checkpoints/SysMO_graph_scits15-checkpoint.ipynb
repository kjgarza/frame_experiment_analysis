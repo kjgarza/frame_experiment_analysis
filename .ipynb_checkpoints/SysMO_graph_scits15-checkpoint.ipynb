{
 "metadata": {
  "name": "",
  "signature": "sha256:7132b4483b2f622292788374cd19e6a8650eeb082bb118ffcd282fb7fe584404"
 },
 "nbformat": 3,
 "nbformat_minor": 0,
 "worksheets": []
}