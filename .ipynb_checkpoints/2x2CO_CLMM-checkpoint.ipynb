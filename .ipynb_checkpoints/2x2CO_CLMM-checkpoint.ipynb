{
 "metadata": {
  "gist_id": "2cd6483f3b2326ebed70",
  "name": "",
  "notify_time": "5",
  "signature": "sha256:5e2d7874e5adcb0376e6a1e4cf35483425c58ec6241171fbd16b71a8c8f49b6f"
 },
 "nbformat": 3,
 "nbformat_minor": 0,
 "worksheets": [
  {
   "cells": [
    {
     "cell_type": "markdown",
     "metadata": {},
     "source": [
      "# 2x2 Crossover Experiment with Ordinal Data\n",
      "\n",
      "<i>Created by Kristian G</i>\n",
      "Subjects were subjected to 2 treatments over 2 periods their response is ordinal (ranging: 1..4).\n"
     ]
    },
    {
     "cell_type": "markdown",
     "metadata": {},
     "source": [
      "Preliminaries"
     ]
    },
    {
     "cell_type": "code",
     "collapsed": false,
     "input": [
      "%matplotlib inline\n",
      "import numpy as np\n",
      "import pandas as pd\n",
      "import matplotlib.pyplot as plt\n",
      "from ggplot import *\n",
      "import json\n",
      "from frame_experiment_table import FrameExperimentTable\n",
      "%pylab inline\n",
      "# %load_ext rmagic\n",
      "%load_ext rpy2.ipython\n",
      "import pylab\n",
      "\n"
     ],
     "language": "python",
     "metadata": {},
     "outputs": [
      {
       "output_type": "stream",
       "stream": "stdout",
       "text": [
        "Populating the interactive namespace from numpy and matplotlib\n",
        "The rpy2.ipython extension is already loaded. To reload it, use:\n",
        "  %reload_ext rpy2.ipython\n"
       ]
      },
      {
       "output_type": "stream",
       "stream": "stderr",
       "text": [
        "WARNING: pylab import has clobbered these variables: ['xlim', 'pylab', 'ylim']\n",
        "`%matplotlib` prevents importing * from pylab and numpy\n"
       ]
      }
     ],
     "prompt_number": 13
    },
    {
     "cell_type": "code",
     "collapsed": false,
     "input": [
      "%%R\n",
      "rm(list=ls())"
     ],
     "language": "python",
     "metadata": {},
     "outputs": [],
     "prompt_number": 14
    },
    {
     "cell_type": "markdown",
     "metadata": {},
     "source": [
      "##Load dataset"
     ]
    },
    {
     "cell_type": "code",
     "collapsed": false,
     "input": [
      "gg = FrameExperimentTable('logs/data_scenario_changed')\n",
      "# gg.add_records('logs/data_incremental_file','new')\n",
      "# gg.add_records_csv('logs/data_scramble_filled_csv.csv')\n",
      "# gg.add_records('logs/data_scenario_changed','new')\n",
      "gg.filter_noise()\n",
      "gg.code_for_stat_ana()\n",
      "gg.code_survey_numeric()\n",
      "\n",
      "## Getting the formated dataframe\n",
      "full_set = gg.get_rm_ws_dataframe()\n",
      "# full_set.head(7)"
     ],
     "language": "python",
     "metadata": {},
     "outputs": [
      {
       "output_type": "stream",
       "stream": "stdout",
       "text": [
        "(55, 40)\n",
        "classify_field - Fields Excluded"
       ]
      },
      {
       "output_type": "stream",
       "stream": "stdout",
       "text": [
        "\n",
        "(6,)\n",
        "(55, 42)\n",
        "New Usability Columns\n",
        "(55, 44)\n",
        "(45, 44)\n",
        "rm_ws_dataframe - Droping missing records\n",
        "(45, 5)\n",
        "rm_ws_dataframe - remove missing data \n",
        "(45, 5)\n",
        "rm_ws_dataframe - no duplicates "
       ]
      },
      {
       "output_type": "stream",
       "stream": "stdout",
       "text": [
        "\n",
        "(45, 6)\n"
       ]
      }
     ],
     "prompt_number": 15
    },
    {
     "cell_type": "markdown",
     "metadata": {},
     "source": [
      "## Using clmm"
     ]
    },
    {
     "cell_type": "code",
     "collapsed": false,
     "input": [
      "%%R -i full_set\n",
      "\n",
      "library(ordinal)\n",
      "\n",
      "\n",
      "s <- data.frame(full_set)\n",
      "s$response <- factor(s$response)\n",
      "s$trt <- factor(s$trt)\n",
      "s$sequ <- factor(s$sequ)\n",
      "s$period <- factor(s$period)\n",
      "\n",
      "mm1 <- clmm(response ~ sequ  + trt + period  + (1 | id:sequ), s, Hess = TRUE, nAGQ = 10 )\n",
      "\n",
      "print (summary(mm1))\n",
      "print(exp(cbind(OR =coef(mm1), confint(mm1))))\n",
      "source('regression_plots.r')\n",
      "plot_odds(mm1,'Odds ratios and CI')"
     ],
     "language": "python",
     "metadata": {},
     "outputs": [
      {
       "metadata": {},
       "output_type": "display_data",
       "text": [
        "Cumulative Link Mixed Model fitted with the adaptive Gauss-Hermite \n",
        "quadrature approximation with 10 quadrature points \n",
        "\n",
        "formula: response ~ sequ + trt + period + (1 | id:sequ)\n",
        "data:    s\n",
        "\n",
        " link  threshold nobs logLik AIC    niter     max.grad cond.H \n",
        " logit flexible  90   -44.65 101.30 279(2660) 4.38e-06 2.1e+03\n",
        "\n",
        "Random effects:\n",
        " Groups  Name        Variance Std.Dev.\n",
        " id:sequ (Intercept) 97.06    9.852   \n",
        "Number of groups:  id:sequ 45 \n",
        "\n",
        "Coefficients:\n",
        "        Estimate Std. Error z value Pr(>|z|)  \n",
        "sequBA     0.740      3.251   0.228   0.8200  \n",
        "trtB       2.977      1.490   1.998   0.0457 *\n",
        "period2    1.568      1.246   1.259   0.2081  \n",
        "---\n",
        "Signif. codes:  0 \u2018***\u2019 0.001 \u2018**\u2019 0.01 \u2018*\u2019 0.05 \u2018.\u2019 0.1 \u2018 \u2019 1\n",
        "\n",
        "Threshold coefficients:\n",
        "    Estimate Std. Error z value\n",
        "2|3  -10.675      5.042  -2.117\n",
        "3|4   -5.273      4.010  -1.315\n",
        "                  OR        2.5 %       97.5 %\n",
        "2|3     2.311050e-05 1.180096e-09    0.4525865\n",
        "3|4     5.130520e-03 1.982456e-06   13.2775862\n",
        "sequBA  2.095874e+00 3.579922e-03 1227.0338384\n",
        "trtB    1.963568e+01 1.058533e+00  364.2397818\n",
        "period2 4.798382e+00 4.173802e-01   55.1642588\n"
       ]
      },
      {
       "metadata": {},
       "output_type": "display_data",
       "png": "[encoded data removed]"
      }
     ],
     "prompt_number": 32
    },
    {
     "cell_type": "code",
     "collapsed": false,
     "input": [],
     "language": "python",
     "metadata": {},
     "outputs": [],
     "prompt_number": 28
    },
    {
     "cell_type": "code",
     "collapsed": false,
     "input": [
      " %%R -i full_set\n",
      "library(ordinal)\n",
      "\n",
      "    s <- data.frame(full_set)\n",
      "    s$response <- factor(s$response)\n",
      "    s$trt <- factor(s$trt)\n",
      "    s$sequ <- factor(s$sequ)\n",
      "    s$period <- factor(s$period)\n",
      "\n",
      "\n",
      "    mm2 <- clmm(response ~ sequ  + period +(1 | id:sequ), s, Hess = TRUE, nAGQ = 10 )\n",
      "    \n",
      "\n",
      "    \n",
      "    print (summary(mm2))\n",
      "##    exp(cbind(OR =coef(mm2), confint(mm2)))\n",
      "    "
     ],
     "language": "python",
     "metadata": {},
     "outputs": [
      {
       "metadata": {},
       "output_type": "display_data",
       "text": [
        "Cumulative Link Mixed Model fitted with the adaptive Gauss-Hermite \n",
        "quadrature approximation with 10 quadrature points \n",
        "\n",
        "formula: response ~ sequ + period + (1 | id:sequ)\n",
        "data:    s\n",
        "\n",
        " link  threshold nobs logLik AIC    niter     max.grad cond.H \n",
        " logit flexible  90   -47.89 105.78 226(1409) 4.23e-06 6.7e+02\n",
        "\n",
        "Random effects:\n",
        " Groups  Name        Variance Std.Dev.\n",
        " id:sequ (Intercept) 60.64    7.787   \n",
        "Number of groups:  id:sequ 45 \n",
        "\n",
        "Coefficients:\n",
        "        Estimate Std. Error z value Pr(>|z|)  \n",
        "sequBA     1.716      2.365   0.726    0.468  \n",
        "period2    1.820      1.036   1.757    0.079 .\n",
        "---\n",
        "Signif. codes:  0 \u2018***\u2019 0.001 \u2018**\u2019 0.01 \u2018*\u2019 0.05 \u2018.\u2019 0.1 \u2018 \u2019 1\n",
        "\n",
        "Threshold coefficients:\n",
        "    Estimate Std. Error z value\n",
        "2|3   -8.336      3.304  -2.523\n",
        "3|4   -4.560      2.770  -1.646\n"
       ]
      }
     ],
     "prompt_number": 18
    },
    {
     "cell_type": "code",
     "collapsed": false,
     "input": [
      "%%R \n",
      "anova(mm2, mm1)\n",
      "\n",
      "source('regression_plots.r')\n",
      "\n",
      "plot_odds(mm2,'Odds ratios and CI')"
     ],
     "language": "python",
     "metadata": {},
     "outputs": [
      {
       "metadata": {},
       "output_type": "display_data",
       "png": "[encoded data removed]"
      }
     ],
     "prompt_number": 19
    },
    {
     "cell_type": "markdown",
     "metadata": {},
     "source": [
      "####How to apply AIC in practice\n",
      "\n",
      "To apply AIC in practice, we start with a set of candidate models, and then find the models' corresponding AIC values. There will almost always be information lost due to using a candidate model to represent the \"true\" model (i.e. the process that generates the data). We wish to select, from among the candidate models, the model that minimizes the information loss. We cannot choose with certainty, but we can minimize the estimated information loss.\n",
      "\n",
      "Suppose that there are R candidate models. Denote the AIC values of those models by AIC1, AIC2, AIC3, \u2026, AICR. Let AICmin be the minimum of those values. Then exp((AICmin\u202f\u2212\u202fAICi)/2) can be interpreted as the relative probability that the ith model minimizes the (estimated) information loss.[3]\n",
      "\n",
      "As an example, suppose that there are three candidate models, whose AIC values are 100, 102, and 110. Then the second model is exp((100\u202f\u2212\u202f102)/2) = 0.368 times as probable as the first model to minimize the information loss. Similarly, the third model is exp((100\u202f\u2212\u202f110)/2) = 0.007 times as probable as the first model to minimize the information loss.\n",
      "\n",
      "In this example, we would omit the third model from further consideration. We then have three options: (1) gather more data, in the hope that this will allow clearly distinguishing between the first two models; (2) simply conclude that the data is insufficient to support selecting one model from among the first two; (3) take a weighted average of the first two models, with weights 1 and 0.368, respectively, and then do statistical inference based on the weighted multimodel.[4]\n",
      "\n",
      "The quantity exp((AICmin\u202f\u2212\u202fAICi)/2) is the relative likelihood of model i.\n"
     ]
    },
    {
     "cell_type": "code",
     "collapsed": false,
     "input": [
      "exp((101.30-105.78)/2)"
     ],
     "language": "python",
     "metadata": {},
     "outputs": [
      {
       "metadata": {},
       "output_type": "pyout",
       "prompt_number": 20,
       "text": [
        "0.10645850437925261"
       ]
      }
     ],
     "prompt_number": 20
    },
    {
     "cell_type": "markdown",
     "metadata": {},
     "source": [
      "If all the models in the candidate set have the same number of parameters, then using AIC might at first appear to be very similar to using the likelihood-ratio test. There are, however, important distinctions. In particular, the likelihood-ratio test is valid only for nested models, whereas AIC (and AICc) has no such restriction.[5]"
     ]
    },
    {
     "cell_type": "code",
     "collapsed": false,
     "input": [
      "\n"
     ],
     "language": "python",
     "metadata": {},
     "outputs": [],
     "prompt_number": 8
    },
    {
     "cell_type": "code",
     "collapsed": false,
     "input": [],
     "language": "python",
     "metadata": {},
     "outputs": [],
     "prompt_number": 8
    },
    {
     "cell_type": "code",
     "collapsed": false,
     "input": [],
     "language": "python",
     "metadata": {},
     "outputs": [],
     "prompt_number": 8
    },
    {
     "cell_type": "code",
     "collapsed": false,
     "input": [],
     "language": "python",
     "metadata": {},
     "outputs": [],
     "prompt_number": 8
    },
    {
     "cell_type": "code",
     "collapsed": false,
     "input": [],
     "language": "python",
     "metadata": {},
     "outputs": []
    },
    {
     "cell_type": "markdown",
     "metadata": {},
     "source": [
      "# Can one add variables to the model?\n",
      "\n",
      "We have information about all the subjects in the experiment and we would like to see how is that affecting the model.\n",
      "However we are not sure how can we implement that using **Ordinal**.\n"
     ]
    },
    {
     "cell_type": "code",
     "collapsed": false,
     "input": [
      "full_set_var = gg.add_survey_data(full_set,'man_hours')\n",
      "full_set_var.head(7)"
     ],
     "language": "python",
     "metadata": {},
     "outputs": [
      {
       "html": [
        "<div style=\"max-height:1000px;max-width:1500px;overflow:auto;\">\n",
        "<table border=\"1\" class=\"dataframe\">\n",
        "  <thead>\n",
        "    <tr style=\"text-align: right;\">\n",
        "      <th></th>\n",
        "      <th>response</th>\n",
        "      <th>trt</th>\n",
        "      <th>sequ</th>\n",
        "      <th>period</th>\n",
        "      <th>id</th>\n",
        "      <th>man_hours</th>\n",
        "    </tr>\n",
        "  </thead>\n",
        "  <tbody>\n",
        "    <tr>\n",
        "      <th>4 </th>\n",
        "      <td> 4</td>\n",
        "      <td> A</td>\n",
        "      <td> AB</td>\n",
        "      <td> 1</td>\n",
        "      <td> 2bd5b76b8fac74b062c1a99c9bbc0a75</td>\n",
        "      <td> 20</td>\n",
        "    </tr>\n",
        "    <tr>\n",
        "      <th>7 </th>\n",
        "      <td> 4</td>\n",
        "      <td> A</td>\n",
        "      <td> AB</td>\n",
        "      <td> 1</td>\n",
        "      <td> 3ea2814b0443687ea2400e6c1726d7ab</td>\n",
        "      <td> 30</td>\n",
        "    </tr>\n",
        "    <tr>\n",
        "      <th>9 </th>\n",
        "      <td> 4</td>\n",
        "      <td> A</td>\n",
        "      <td> AB</td>\n",
        "      <td> 1</td>\n",
        "      <td> 4d9db524466a6d05f29fb721f842de77</td>\n",
        "      <td> 10</td>\n",
        "    </tr>\n",
        "    <tr>\n",
        "      <th>10</th>\n",
        "      <td> 2</td>\n",
        "      <td> A</td>\n",
        "      <td> AB</td>\n",
        "      <td> 1</td>\n",
        "      <td> 52d3867f738f6cff74269cf62e3b7251</td>\n",
        "      <td> 14</td>\n",
        "    </tr>\n",
        "    <tr>\n",
        "      <th>11</th>\n",
        "      <td> 4</td>\n",
        "      <td> A</td>\n",
        "      <td> AB</td>\n",
        "      <td> 1</td>\n",
        "      <td> 5b114f95a429eb982fc0b378c64a23f9</td>\n",
        "      <td> 30</td>\n",
        "    </tr>\n",
        "    <tr>\n",
        "      <th>12</th>\n",
        "      <td> 4</td>\n",
        "      <td> A</td>\n",
        "      <td> AB</td>\n",
        "      <td> 1</td>\n",
        "      <td> 690e88138d83a8ec5fea4230b364aae0</td>\n",
        "      <td> 75</td>\n",
        "    </tr>\n",
        "    <tr>\n",
        "      <th>14</th>\n",
        "      <td> 4</td>\n",
        "      <td> A</td>\n",
        "      <td> AB</td>\n",
        "      <td> 1</td>\n",
        "      <td> 6fd7664989b2b16f85c63169595bb66e</td>\n",
        "      <td> 20</td>\n",
        "    </tr>\n",
        "  </tbody>\n",
        "</table>\n",
        "</div>"
       ],
       "metadata": {},
       "output_type": "pyout",
       "prompt_number": 8,
       "text": [
        "    response trt sequ period                                id  man_hours\n",
        "4          4   A   AB      1  2bd5b76b8fac74b062c1a99c9bbc0a75         20\n",
        "7          4   A   AB      1  3ea2814b0443687ea2400e6c1726d7ab         30\n",
        "9          4   A   AB      1  4d9db524466a6d05f29fb721f842de77         10\n",
        "10         2   A   AB      1  52d3867f738f6cff74269cf62e3b7251         14\n",
        "11         4   A   AB      1  5b114f95a429eb982fc0b378c64a23f9         30\n",
        "12         4   A   AB      1  690e88138d83a8ec5fea4230b364aae0         75\n",
        "14         4   A   AB      1  6fd7664989b2b16f85c63169595bb66e         20"
       ]
      }
     ],
     "prompt_number": 8
    },
    {
     "cell_type": "code",
     "collapsed": false,
     "input": [
      "%%R -i full_set_var\n",
      "library(ordinal)\n",
      "\n",
      "    s <- data.frame(full_set_var)\n",
      "    s$response <- factor(s$response)\n",
      "    s$trt <- factor(s$trt)\n",
      "    s$sequ <- factor(s$sequ)\n",
      "    s$period <- factor(s$period)\n",
      "\n",
      "    mm3 <- clmm(response ~ sequ  + trt + period + (1 | man_hours) +(1 | id:sequ), s, Hess = TRUE )\n",
      "    \n",
      "    print (summary(mm3))\n",
      "    exp(cbind(OR =coef(mm3), confint(mm3)))\n",
      "    \n"
     ],
     "language": "python",
     "metadata": {},
     "outputs": [
      {
       "ename": "NameError",
       "evalue": "name 'full_set_var' is not defined",
       "output_type": "pyerr",
       "traceback": [
        "\u001b[0;31m---------------------------------------------------------------------------\u001b[0m\n\u001b[0;31mNameError\u001b[0m                                 Traceback (most recent call last)",
        "\u001b[0;32m<ipython-input-9-b929a2c7e1b7>\u001b[0m in \u001b[0;36m<module>\u001b[0;34m()\u001b[0m\n\u001b[0;32m----> 1\u001b[0;31m \u001b[0mget_ipython\u001b[0m\u001b[0;34m(\u001b[0m\u001b[0;34m)\u001b[0m\u001b[0;34m.\u001b[0m\u001b[0mrun_cell_magic\u001b[0m\u001b[0;34m(\u001b[0m\u001b[0;34mu'R'\u001b[0m\u001b[0;34m,\u001b[0m \u001b[0;34mu'-i full_set_var'\u001b[0m\u001b[0;34m,\u001b[0m \u001b[0;34mu'library(ordinal)\\n\\n    s <- data.frame(full_set_var)\\n    s$response <- factor(s$response)\\n    s$trt <- factor(s$trt)\\n    s$sequ <- factor(s$sequ)\\n    s$period <- factor(s$period)\\n\\n    mm3 <- clmm(response ~ sequ  + trt + period + (1 | man_hours) +(1 | id:sequ), s, Hess = TRUE )\\n    \\n    print (summary(mm3))\\n    exp(cbind(OR =coef(mm3), confint(mm3)))\\n    '\u001b[0m\u001b[0;34m)\u001b[0m\u001b[0;34m\u001b[0m\u001b[0m\n\u001b[0m",
        "\u001b[0;32m/Users/kristian/miniconda/lib/python2.7/site-packages/IPython/core/interactiveshell.pyc\u001b[0m in \u001b[0;36mrun_cell_magic\u001b[0;34m(self, magic_name, line, cell)\u001b[0m\n\u001b[1;32m   2160\u001b[0m             \u001b[0mmagic_arg_s\u001b[0m \u001b[0;34m=\u001b[0m \u001b[0mself\u001b[0m\u001b[0;34m.\u001b[0m\u001b[0mvar_expand\u001b[0m\u001b[0;34m(\u001b[0m\u001b[0mline\u001b[0m\u001b[0;34m,\u001b[0m \u001b[0mstack_depth\u001b[0m\u001b[0;34m)\u001b[0m\u001b[0;34m\u001b[0m\u001b[0m\n\u001b[1;32m   2161\u001b[0m             \u001b[0;32mwith\u001b[0m \u001b[0mself\u001b[0m\u001b[0;34m.\u001b[0m\u001b[0mbuiltin_trap\u001b[0m\u001b[0;34m:\u001b[0m\u001b[0;34m\u001b[0m\u001b[0m\n\u001b[0;32m-> 2162\u001b[0;31m                 \u001b[0mresult\u001b[0m \u001b[0;34m=\u001b[0m \u001b[0mfn\u001b[0m\u001b[0;34m(\u001b[0m\u001b[0mmagic_arg_s\u001b[0m\u001b[0;34m,\u001b[0m \u001b[0mcell\u001b[0m\u001b[0;34m)\u001b[0m\u001b[0;34m\u001b[0m\u001b[0m\n\u001b[0m\u001b[1;32m   2163\u001b[0m             \u001b[0;32mreturn\u001b[0m \u001b[0mresult\u001b[0m\u001b[0;34m\u001b[0m\u001b[0m\n\u001b[1;32m   2164\u001b[0m \u001b[0;34m\u001b[0m\u001b[0m\n",
        "\u001b[0;32m/Users/kristian/miniconda/lib/python2.7/site-packages/rpy2/ipython/rmagic.pyc\u001b[0m in \u001b[0;36mR\u001b[0;34m(self, line, cell, local_ns)\u001b[0m\n",
        "\u001b[0;32m/Users/kristian/miniconda/lib/python2.7/site-packages/IPython/core/magic.pyc\u001b[0m in \u001b[0;36m<lambda>\u001b[0;34m(f, *a, **k)\u001b[0m\n\u001b[1;32m    191\u001b[0m     \u001b[0;31m# but it's overkill for just that one bit of state.\u001b[0m\u001b[0;34m\u001b[0m\u001b[0;34m\u001b[0m\u001b[0m\n\u001b[1;32m    192\u001b[0m     \u001b[0;32mdef\u001b[0m \u001b[0mmagic_deco\u001b[0m\u001b[0;34m(\u001b[0m\u001b[0marg\u001b[0m\u001b[0;34m)\u001b[0m\u001b[0;34m:\u001b[0m\u001b[0;34m\u001b[0m\u001b[0m\n\u001b[0;32m--> 193\u001b[0;31m         \u001b[0mcall\u001b[0m \u001b[0;34m=\u001b[0m \u001b[0;32mlambda\u001b[0m \u001b[0mf\u001b[0m\u001b[0;34m,\u001b[0m \u001b[0;34m*\u001b[0m\u001b[0ma\u001b[0m\u001b[0;34m,\u001b[0m \u001b[0;34m**\u001b[0m\u001b[0mk\u001b[0m\u001b[0;34m:\u001b[0m \u001b[0mf\u001b[0m\u001b[0;34m(\u001b[0m\u001b[0;34m*\u001b[0m\u001b[0ma\u001b[0m\u001b[0;34m,\u001b[0m \u001b[0;34m**\u001b[0m\u001b[0mk\u001b[0m\u001b[0;34m)\u001b[0m\u001b[0;34m\u001b[0m\u001b[0m\n\u001b[0m\u001b[1;32m    194\u001b[0m \u001b[0;34m\u001b[0m\u001b[0m\n\u001b[1;32m    195\u001b[0m         \u001b[0;32mif\u001b[0m \u001b[0mcallable\u001b[0m\u001b[0;34m(\u001b[0m\u001b[0marg\u001b[0m\u001b[0;34m)\u001b[0m\u001b[0;34m:\u001b[0m\u001b[0;34m\u001b[0m\u001b[0m\n",
        "\u001b[0;32m/Users/kristian/miniconda/lib/python2.7/site-packages/rpy2/ipython/rmagic.pyc\u001b[0m in \u001b[0;36mR\u001b[0;34m(self, line, cell, local_ns)\u001b[0m\n\u001b[1;32m    620\u001b[0m                         \u001b[0mval\u001b[0m \u001b[0;34m=\u001b[0m \u001b[0mself\u001b[0m\u001b[0;34m.\u001b[0m\u001b[0mshell\u001b[0m\u001b[0;34m.\u001b[0m\u001b[0muser_ns\u001b[0m\u001b[0;34m[\u001b[0m\u001b[0minput\u001b[0m\u001b[0;34m]\u001b[0m\u001b[0;34m\u001b[0m\u001b[0m\n\u001b[1;32m    621\u001b[0m                     \u001b[0;32mexcept\u001b[0m \u001b[0mKeyError\u001b[0m\u001b[0;34m:\u001b[0m\u001b[0;34m\u001b[0m\u001b[0m\n\u001b[0;32m--> 622\u001b[0;31m                         \u001b[0;32mraise\u001b[0m \u001b[0mNameError\u001b[0m\u001b[0;34m(\u001b[0m\u001b[0;34m\"name '%s' is not defined\"\u001b[0m \u001b[0;34m%\u001b[0m \u001b[0minput\u001b[0m\u001b[0;34m)\u001b[0m\u001b[0;34m\u001b[0m\u001b[0m\n\u001b[0m\u001b[1;32m    623\u001b[0m                 \u001b[0mro\u001b[0m\u001b[0;34m.\u001b[0m\u001b[0mr\u001b[0m\u001b[0;34m.\u001b[0m\u001b[0massign\u001b[0m\u001b[0;34m(\u001b[0m\u001b[0minput\u001b[0m\u001b[0;34m,\u001b[0m \u001b[0mself\u001b[0m\u001b[0;34m.\u001b[0m\u001b[0mpyconverter\u001b[0m\u001b[0;34m(\u001b[0m\u001b[0mval\u001b[0m\u001b[0;34m)\u001b[0m\u001b[0;34m)\u001b[0m\u001b[0;34m\u001b[0m\u001b[0m\n\u001b[1;32m    624\u001b[0m \u001b[0;34m\u001b[0m\u001b[0m\n",
        "\u001b[0;31mNameError\u001b[0m: name 'full_set_var' is not defined"
       ]
      }
     ],
     "prompt_number": 9
    },
    {
     "cell_type": "code",
     "collapsed": false,
     "input": [
      "%%R\n",
      "\n",
      "which(! complete.cases(full_set_var))\n"
     ],
     "language": "python",
     "metadata": {},
     "outputs": [
      {
       "output_type": "stream",
       "stream": "stdout",
       "text": [
        "Error in complete.cases(full_set_var) : object 'full_set_var' not found\n"
       ]
      }
     ],
     "prompt_number": 10
    },
    {
     "cell_type": "code",
     "collapsed": false,
     "input": [
      "%%R\n",
      "anova(mm1,mm3)"
     ],
     "language": "python",
     "metadata": {},
     "outputs": [
      {
       "output_type": "stream",
       "stream": "stdout",
       "text": [
        "Error in (function (object, ...)  : object 'mm3' not found\n"
       ]
      }
     ],
     "prompt_number": 11
    },
    {
     "cell_type": "code",
     "collapsed": false,
     "input": [
      "full_set_var.iloc[86]"
     ],
     "language": "python",
     "metadata": {},
     "outputs": [
      {
       "ename": "NameError",
       "evalue": "name 'full_set_var' is not defined",
       "output_type": "pyerr",
       "traceback": [
        "\u001b[0;31m---------------------------------------------------------------------------\u001b[0m\n\u001b[0;31mNameError\u001b[0m                                 Traceback (most recent call last)",
        "\u001b[0;32m<ipython-input-12-e7917604fa03>\u001b[0m in \u001b[0;36m<module>\u001b[0;34m()\u001b[0m\n\u001b[0;32m----> 1\u001b[0;31m \u001b[0mfull_set_var\u001b[0m\u001b[0;34m.\u001b[0m\u001b[0miloc\u001b[0m\u001b[0;34m[\u001b[0m\u001b[0;36m86\u001b[0m\u001b[0;34m]\u001b[0m\u001b[0;34m\u001b[0m\u001b[0m\n\u001b[0m",
        "\u001b[0;31mNameError\u001b[0m: name 'full_set_var' is not defined"
       ]
      }
     ],
     "prompt_number": 12
    },
    {
     "cell_type": "markdown",
     "metadata": {},
     "source": [
      "# Creating tables for my Model\n",
      "\n",
      "Will check 4 libraries to do the model table and the demographics table\n",
      "\n",
      "In this regard, both packages are somewhat similar to the texreg package. texreg, however, offers more straightforward ways of custom model implementation. This important feature is notably absent from stargazer.\n",
      "\n",
      "- Stagazer\n",
      "- memisc\n",
      "- texreg\n",
      "- aptslsl"
     ]
    },
    {
     "cell_type": "markdown",
     "metadata": {},
     "source": [
      "## Stagazer"
     ]
    },
    {
     "cell_type": "code",
     "collapsed": false,
     "input": [
      "%%R\n",
      "library(stargazer)\n",
      "library(memisc)\n",
      "library(apsrtable)\n",
      "library(texreg)\n",
      "\n",
      "\n",
      "##apsrtable(mm1)\n",
      "\n",
      "##stargazer(mm1,mm2,  title=\"Regression Results\", align=TRUE)\n",
      "\n",
      "##texreg(mm1)\n",
      "#screenreg(list(mm1, mm2))\n",
      "##ss<-anova(mm1,mm2)\n",
      "#str(summary(mm1))"
     ],
     "language": "python",
     "metadata": {},
     "outputs": [
      {
       "metadata": {},
       "output_type": "display_data",
       "text": [
        "List of 33\n",
        " $ coefficients : num [1:5, 1:4] -14.39 -8.99 -0.74 -2.98 1.57 ...\n",
        "  ..- attr(*, \"dimnames\")=List of 2\n",
        "  .. ..$ : chr [1:5] \"2|3\" \"3|4\" \"sequBA\" \"trtB\" ...\n",
        "  .. ..$ : chr [1:4] \"Estimate\" \"Std. Error\" \"z value\" \"Pr(>|z|)\"\n",
        " $ ST           :List of 1\n",
        "  ..$ id:sequ: num [1, 1] 9.85\n",
        "  .. ..- attr(*, \"dimnames\")=List of 2\n",
        "  .. .. ..$ : chr \"(Intercept)\"\n",
        "  .. .. ..$ : chr \"(Intercept)\"\n",
        " $ optRes       :List of 6\n",
        "  ..$ par        : num [1:6] -14.39 -8.99 -0.74 -2.98 1.57 ...\n",
        "  ..$ objective  : num 44.6\n",
        "  ..$ convergence: int 0\n",
        "  ..$ iterations : int 25\n",
        "  ..$ evaluations: Named int [1:2] 29 189\n",
        "  .. ..- attr(*, \"names\")= chr [1:2] \"function\" \"gradient\"\n",
        "  ..$ message    : chr \"relative convergence (4)\"\n",
        " $ logLik       : num -44.6\n",
        " $ fitted.values: num [1:90] 1 1 1 0.868 1 ...\n",
        " $ ranef        : num [1:45] 0.3525 -10.0297 0.3525 0.3525 0.0581 ...\n",
        " $ condVar      : num [1:45] 71.83 2.07 71.83 71.83 91.73 ...\n",
        " $ dims         :List of 14\n",
        "  ..$ n          : int 90\n",
        "  ..$ nlev.re    : Named int 45\n",
        "  .. ..- attr(*, \"names\")= chr \"id:sequ\"\n",
        "  ..$ nlev.gf    : Named int 45\n",
        "  .. ..- attr(*, \"names\")= chr \"id:sequ\"\n",
        "  ..$ qi         : Named int 1\n",
        "  .. ..- attr(*, \"names\")= chr \"id:sequ\"\n",
        "  ..$ nretrms    : int 1\n",
        "  ..$ ngf        : int 1\n",
        "  ..$ q          : int 45\n",
        "  ..$ nSTpar     : num 1\n",
        "  ..$ nbeta      : num 3\n",
        "  ..$ nalpha     : num 2\n",
        "  ..$ nfepar     : num 5\n",
        "  ..$ edf        : num 6\n",
        "  ..$ nobs       : num 90\n",
        "  ..$ df.residual: num 84\n",
        " $ u            : num [1:45] 0.0358 -1.018 0.0358 0.0358 0.0059 ...\n",
        " $ gradient     : Named num [1:6] -4.86e-06 8.17e-07 3.79e-07 2.70e-06 3.34e-06 ...\n",
        "  ..- attr(*, \"names\")= chr [1:6] \"2|3\" \"3|4\" \"sequBA\" \"trtB\" ...\n",
        " $ Hessian      : num [1:6, 1:6] 0.728 -0.672 -0.035 -0.518 0.399 ...\n",
        "  ..- attr(*, \"dimnames\")=List of 2\n",
        "  .. ..$ : chr [1:6] \"2|3\" \"3|4\" \"sequBA\" \"trtB\" ...\n",
        "  .. ..$ : chr [1:6] \"2|3\" \"3|4\" \"sequBA\" \"trtB\" ...\n",
        " $ Niter        : int 2776\n",
        " $ neval        : int 292\n",
        " $ nAGQ         : int 10\n",
        " $ link         : chr \"logit\"\n",
        " $ start        : num [1:6] -3.098 -1.897 -0.722 -0.669 0.35 ...\n",
        " $ threshold    : chr \"flexible\"\n",
        " $ call         : language clmm(formula = response ~ sequ + trt + period + (1 | id:sequ), data = s,      Hess = TRUE, nAGQ = 10)\n",
        " $ formula      :Class 'formula' length 3 response ~ sequ + trt + period + (1 | id:sequ)\n",
        "  .. ..- attr(*, \".Environment\")=<environment: R_GlobalEnv> \n",
        " $ gfList       :List of 1\n",
        "  ..$ id:sequ: Factor w/ 45 levels \"0687ef14d441706b211ff0edf9f2ebea:BA\",..: 5 8 10 11 12 13 15 16 17 18 ...\n",
        "  ..- attr(*, \"assign\")= int 1\n",
        " $ control      :List of 4\n",
        "  ..$ method   : chr \"nlminb\"\n",
        "  ..$ useMatrix: logi FALSE\n",
        "  ..$ ctrl     :List of 5\n",
        "  .. ..$ trace      : num 0\n",
        "  .. ..$ maxIter    : num 50\n",
        "  .. ..$ gradTol    : num 1e-04\n",
        "  .. ..$ maxLineIter: num 50\n",
        "  .. ..$ innerCtrl  : chr \"warnOnly\"\n",
        "  ..$ optCtrl  :List of 1\n",
        "  .. ..$ trace: num 0\n",
        " $ tJac         : num [1:2, 1:2] 1 0 0 1\n",
        " $ contrasts    :List of 3\n",
        "  ..$ sequ  : chr \"contr.treatment\"\n",
        "  ..$ trt   : chr \"contr.treatment\"\n",
        "  ..$ period: chr \"contr.treatment\"\n",
        " $ terms        :Classes 'terms', 'formula' length 3 response ~ sequ + trt + period\n",
        "  .. ..- attr(*, \"variables\")= language list(response, sequ, trt, period)\n",
        "  .. ..- attr(*, \"factors\")= int [1:4, 1:3] 0 1 0 0 0 0 1 0 0 0 ...\n",
        "  .. .. ..- attr(*, \"dimnames\")=List of 2\n",
        "  .. .. .. ..$ : chr [1:4] \"response\" \"sequ\" \"trt\" \"period\"\n",
        "  .. .. .. ..$ : chr [1:3] \"sequ\" \"trt\" \"period\"\n",
        "  .. ..- attr(*, \"term.labels\")= chr [1:3] \"sequ\" \"trt\" \"period\"\n",
        "  .. ..- attr(*, \"order\")= int [1:3] 1 1 1\n",
        "  .. ..- attr(*, \"intercept\")= int 1\n",
        "  .. ..- attr(*, \"response\")= int 1\n",
        "  .. ..- attr(*, \".Environment\")=<environment: R_GlobalEnv> \n",
        "  .. ..- attr(*, \"predvars\")= language list(response, sequ, trt, period)\n",
        "  .. ..- attr(*, \"dataClasses\")= Named chr [1:4] \"factor\" \"factor\" \"factor\" \"factor\"\n",
        "  .. .. ..- attr(*, \"names\")= chr [1:4] \"response\" \"sequ\" \"trt\" \"period\"\n",
        " $ xlevels      :List of 3\n",
        "  ..$ sequ  : chr [1:2] \"AB\" \"BA\"\n",
        "  ..$ trt   : chr [1:2] \"A\" \"B\"\n",
        "  ..$ period: chr [1:2] \"1\" \"2\"\n",
        " $ y.levels     : chr [1:3] \"2\" \"3\" \"4\"\n",
        " $ info         :'data.frame':\t1 obs. of  8 variables:\n",
        "  ..$ link     : Factor w/ 1 level \"logit\": 1\n",
        "  ..$ threshold: Factor w/ 1 level \"flexible\": 1\n",
        "  ..$ nobs     : num 90\n",
        "  ..$ logLik   : Factor w/ 1 level \"-44.65\": 1\n",
        "  ..$ AIC      : Factor w/ 1 level \"101.30\": 1\n",
        "  ..$ niter    : Factor w/ 1 level \"292(2776)\": 1\n",
        "  ..$ max.grad : Factor w/ 1 level \"3.10e-05\": 1\n",
        "  ..$ cond.H   : chr \"1.4e+03\"\n",
        " $ Theta        : num [1, 1:2] -14.39 -8.99\n",
        "  ..- attr(*, \"dimnames\")=List of 2\n",
        "  .. ..$ : chr \"\"\n",
        "  .. ..$ : chr [1:2] \"2|3\" \"3|4\"\n",
        " $ edf          : num 6\n",
        " $ beta         : Named num [1:3] -0.74 -2.98 1.57\n",
        "  ..- attr(*, \"names\")= chr [1:3] \"sequBA\" \"trtB\" \"period2\"\n",
        " $ alpha        : Named num [1:2] -14.39 -8.99\n",
        "  ..- attr(*, \"names\")= chr [1:2] \"2|3\" \"3|4\"\n",
        " $ model        :'data.frame':\t90 obs. of  5 variables:\n",
        "  ..$ response: Factor w/ 3 levels \"2\",\"3\",\"4\": 3 3 3 1 3 3 3 3 1 3 ...\n",
        "  ..$ sequ    : Factor w/ 2 levels \"AB\",\"BA\": 1 1 1 1 1 1 1 1 1 1 ...\n",
        "  ..$ trt     : Factor w/ 2 levels \"A\",\"B\": 1 1 1 1 1 1 1 1 1 1 ...\n",
        "  ..$ period  : Factor w/ 2 levels \"1\",\"2\": 1 1 1 1 1 1 1 1 1 1 ...\n",
        "  ..$ id      : Factor w/ 45 levels \"0687ef14d441706b211ff0edf9f2ebea\",..: 5 8 10 11 12 13 15 16 17 18 ...\n",
        "  ..- attr(*, \"terms\")=Classes 'terms', 'formula' length 3 response ~ sequ + trt + period\n",
        "  .. .. ..- attr(*, \"variables\")= language list(response, sequ, trt, period)\n",
        "  .. .. ..- attr(*, \"factors\")= int [1:4, 1:3] 0 1 0 0 0 0 1 0 0 0 ...\n",
        "  .. .. .. ..- attr(*, \"dimnames\")=List of 2\n",
        "  .. .. .. .. ..$ : chr [1:4] \"response\" \"sequ\" \"trt\" \"period\"\n",
        "  .. .. .. .. ..$ : chr [1:3] \"sequ\" \"trt\" \"period\"\n",
        "  .. .. ..- attr(*, \"term.labels\")= chr [1:3] \"sequ\" \"trt\" \"period\"\n",
        "  .. .. ..- attr(*, \"order\")= int [1:3] 1 1 1\n",
        "  .. .. ..- attr(*, \"intercept\")= int 1\n",
        "  .. .. ..- attr(*, \"response\")= int 1\n",
        "  .. .. ..- attr(*, \".Environment\")=<environment: R_GlobalEnv> \n",
        "  .. .. ..- attr(*, \"predvars\")= language list(response, sequ, trt, period)\n",
        "  .. .. ..- attr(*, \"dataClasses\")= Named chr [1:4] \"factor\" \"factor\" \"factor\" \"factor\"\n",
        "  .. .. .. ..- attr(*, \"names\")= chr [1:4] \"response\" \"sequ\" \"trt\" \"period\"\n",
        " $ condHess     : num 1410\n",
        " - attr(*, \"class\")= chr \"summary.clmm\"\n"
       ]
      }
     ],
     "prompt_number": 32
    },
    {
     "cell_type": "code",
     "collapsed": false,
     "input": [
      "extract.lm <- function(model) {\n",
      "    s <- summary(model)\n",
      "    names <- rownames(s$coef)\n",
      "    co <- s$coefficients[, 1]\n",
      "    se <- s$coefficients[, 2]\n",
      "    pval <- s$coefficients[, 4]\n",
      "\n",
      "    rs  <- s$r.squared\n",
      "    adj <- s$adj.r.squared\n",
      "    n   <- nobs(model)\n",
      "\n",
      "    gof <- c(rs, adj, n)\n",
      "    gof.names <- c(\"R$^2$\", \"Adj.\\\\ R$^2$\", \"Num.\\\\ obs.\")\n",
      "\n",
      "    tr <- createTexreg(\n",
      "         coef.names = names,\n",
      "         coef = co,\n",
      "         se=se,\n",
      "         pvalues = pval,\n",
      "         gof.names = gof.names,\n",
      "         gof = gof)\n",
      " return(tr) \n",
      "}"
     ],
     "language": "python",
     "metadata": {},
     "outputs": []
    }
   ],
   "metadata": {}
  }
 ]
}