{
 "metadata": {
  "name": "",
  "signature": "sha256:814ef92aeaa87496240979a9f3971875bd6c061d694e39167a4b7c7580b1f8e9"
 },
 "nbformat": 3,
 "nbformat_minor": 0,
 "worksheets": [
  {
   "cells": [
    {
     "cell_type": "code",
     "collapsed": false,
     "input": [
      "%matplotlib inline\n",
      "import sys\n",
      "import numpy as np\n",
      "import matplotlib.pyplot as plt\n",
      "import healpy as hp\n",
      "from astropy.io import ascii\n"
     ],
     "language": "python",
     "metadata": {},
     "outputs": [
      {
       "ename": "ImportError",
       "evalue": "No module named healpy",
       "output_type": "pyerr",
       "traceback": [
        "\u001b[0;31m---------------------------------------------------------------------------\u001b[0m\n\u001b[0;31mImportError\u001b[0m                               Traceback (most recent call last)",
        "\u001b[0;32m<ipython-input-3-391d1c85dc9f>\u001b[0m in \u001b[0;36m<module>\u001b[0;34m()\u001b[0m\n\u001b[1;32m      3\u001b[0m \u001b[0;32mimport\u001b[0m \u001b[0mnumpy\u001b[0m \u001b[0;32mas\u001b[0m \u001b[0mnp\u001b[0m\u001b[0;34m\u001b[0m\u001b[0m\n\u001b[1;32m      4\u001b[0m \u001b[0;32mimport\u001b[0m \u001b[0mmatplotlib\u001b[0m\u001b[0;34m.\u001b[0m\u001b[0mpyplot\u001b[0m \u001b[0;32mas\u001b[0m \u001b[0mplt\u001b[0m\u001b[0;34m\u001b[0m\u001b[0m\n\u001b[0;32m----> 5\u001b[0;31m \u001b[0;32mimport\u001b[0m \u001b[0mhealpy\u001b[0m \u001b[0;32mas\u001b[0m \u001b[0mhp\u001b[0m\u001b[0;34m\u001b[0m\u001b[0m\n\u001b[0m\u001b[1;32m      6\u001b[0m \u001b[0;32mfrom\u001b[0m \u001b[0mastropy\u001b[0m\u001b[0;34m.\u001b[0m\u001b[0mio\u001b[0m \u001b[0;32mimport\u001b[0m \u001b[0mascii\u001b[0m\u001b[0;34m\u001b[0m\u001b[0m\n",
        "\u001b[0;31mImportError\u001b[0m: No module named healpy"
       ]
      }
     ],
     "prompt_number": 3
    },
    {
     "cell_type": "code",
     "collapsed": false,
     "input": [
      "\n",
      "pixelno=float(sys.argv[1])\n",
      "\n",
      "coeffs=ascii.read('../txt_data/offsets_slopes_100_nospur.txt', names=['pixno','slope','intercept','c95sl','c95sh','c95il','c95ih'])\n",
      "\n",
      "a=coeffs['slope']\n",
      "b=coeffs['intercept']\n",
      "\n",
      "print a[pixelno],b[pixelno]\n",
      "#a_inv=coeffs['a_inv']\n",
      "#b_inv=coeffs['b_inv']\n",
      "\n",
      "if np.isnan(a[pixelno] or b[pixelno] or a_inv[pixelno] or b_inv[pixelno]):\n",
      "    sys.exit(\"The chosen pixel is blank\")\n",
      "    \n",
      "\n",
      "\n",
      "gmims0=hp.read_map('../fits/gmims_masked_final_spur.fits',nest=True)\n",
      "gmims_unseen=np.where(gmims0==hp.UNSEEN)\n",
      "gmims0[gmims_unseen]=float('NaN')\n",
      "\n",
      "\n",
      "haslam=hp.read_map('../fits/haslam_masked_final_spur.fits',nest=True)\n",
      "haslam_unseen=np.where(haslam==hp.UNSEEN)\n",
      "haslam[haslam_unseen]=float('NaN')\n",
      "\n",
      "\n",
      "#Order the map arrays into rows each containing the number of pixels in one nside=4 pixel\n",
      "gmims0_div=np.reshape(gmims0,(192,16384))\n",
      "#gmims8_div=np.reshape(gmims8,(192,4096))\n",
      "haslam_div=np.reshape(haslam,(192,16384))\n",
      "\n",
      "\n",
      "axislimits1=[np.nanmin(haslam_div[pixelno,:])-0.1,np.nanmax(haslam_div[pixelno,:])+0.1,np.nanmin(gmims0_div[pixelno,:])-0.1,np.nanmax(gmims0_div[pixelno,:])+0.1]\n",
      "\n",
      "axislimits2=[np.nanmin(gmims0_div[pixelno,:])-0.1,np.nanmax(gmims0_div[pixelno,:])+0.1,np.nanmin(haslam_div[pixelno,:])-0.1,np.nanmax(haslam_div[pixelno,:])+0.1]\n",
      "#print axislimits\n",
      "\n",
      "\n",
      "x1=np.arange(20000,60000,500)\n",
      "x2=np.arange(-2,4,0.1)\n",
      "pix=np.arange(0,3145728,1.0)\n",
      "pix_div=np.reshape(pix,(192,16384))\n",
      "\n",
      "\n"
     ],
     "language": "python",
     "metadata": {},
     "outputs": [
      {
       "ename": "ValueError",
       "evalue": "could not convert string to float: -f",
       "output_type": "pyerr",
       "traceback": [
        "\u001b[0;31m---------------------------------------------------------------------------\u001b[0m\n\u001b[0;31mValueError\u001b[0m                                Traceback (most recent call last)",
        "\u001b[0;32m<ipython-input-2-741ee41c3980>\u001b[0m in \u001b[0;36m<module>\u001b[0;34m()\u001b[0m\n\u001b[1;32m      1\u001b[0m \u001b[0;34m\u001b[0m\u001b[0m\n\u001b[0;32m----> 2\u001b[0;31m \u001b[0mpixelno\u001b[0m\u001b[0;34m=\u001b[0m\u001b[0mfloat\u001b[0m\u001b[0;34m(\u001b[0m\u001b[0msys\u001b[0m\u001b[0;34m.\u001b[0m\u001b[0margv\u001b[0m\u001b[0;34m[\u001b[0m\u001b[0;36m1\u001b[0m\u001b[0;34m]\u001b[0m\u001b[0;34m)\u001b[0m\u001b[0;34m\u001b[0m\u001b[0m\n\u001b[0m\u001b[1;32m      3\u001b[0m \u001b[0;34m\u001b[0m\u001b[0m\n\u001b[1;32m      4\u001b[0m \u001b[0mcoeffs\u001b[0m\u001b[0;34m=\u001b[0m\u001b[0mascii\u001b[0m\u001b[0;34m.\u001b[0m\u001b[0mread\u001b[0m\u001b[0;34m(\u001b[0m\u001b[0;34m'../txt_data/offsets_slopes_100_nospur.txt'\u001b[0m\u001b[0;34m,\u001b[0m \u001b[0mnames\u001b[0m\u001b[0;34m=\u001b[0m\u001b[0;34m[\u001b[0m\u001b[0;34m'pixno'\u001b[0m\u001b[0;34m,\u001b[0m\u001b[0;34m'slope'\u001b[0m\u001b[0;34m,\u001b[0m\u001b[0;34m'intercept'\u001b[0m\u001b[0;34m,\u001b[0m\u001b[0;34m'c95sl'\u001b[0m\u001b[0;34m,\u001b[0m\u001b[0;34m'c95sh'\u001b[0m\u001b[0;34m,\u001b[0m\u001b[0;34m'c95il'\u001b[0m\u001b[0;34m,\u001b[0m\u001b[0;34m'c95ih'\u001b[0m\u001b[0;34m]\u001b[0m\u001b[0;34m)\u001b[0m\u001b[0;34m\u001b[0m\u001b[0m\n\u001b[1;32m      5\u001b[0m \u001b[0;34m\u001b[0m\u001b[0m\n",
        "\u001b[0;31mValueError\u001b[0m: could not convert string to float: -f"
       ]
      }
     ],
     "prompt_number": 2
    },
    {
     "cell_type": "code",
     "collapsed": false,
     "input": [
      "\n",
      "plt.title('TT plot for pixel number '+str(int(pixelno)))\n",
      "\n",
      "plt.axis(axislimits1)\n",
      "plt.scatter(haslam_div[pixelno,:],gmims0_div[pixelno,:],c=pix_div[pixelno,:],marker='+',s=200, cmap='hsv',linewidths=4)\n",
      "plt.plot(x1,a[pixelno]*x1+b[pixelno],'k-')\n",
      "cbar=plt.colorbar()\n",
      "cbar.set_label('HEALPix nested pixel number')\n",
      "plt.xlabel('Haslam amplitude (mK)')\n",
      "plt.ylabel('GMIMS amplitude (K)')\n",
      "\n",
      "\n",
      "\n",
      "plt.show()"
     ],
     "language": "python",
     "metadata": {},
     "outputs": []
    }
   ],
   "metadata": {}
  }
 ]
}