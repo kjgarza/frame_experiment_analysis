{
 "metadata": {
  "gist_id": "2cd6483f3b2326ebed70",
  "name": "",
  "notify_time": "5",
  "signature": "sha256:4eaa13896584c0498235f7c894f69cab724254d270735bac0035819547c77571"
 },
 "nbformat": 3,
 "nbformat_minor": 0,
 "worksheets": [
  {
   "cells": [
    {
     "cell_type": "markdown",
     "metadata": {},
     "source": [
      "# Regret Evaluation\n",
      "\n",
      "<i>Created by Kristian G</i>\n"
     ]
    },
    {
     "cell_type": "markdown",
     "metadata": {},
     "source": [
      "Preliminaries"
     ]
    },
    {
     "cell_type": "code",
     "collapsed": false,
     "input": [
      "%matplotlib inline\n",
      "import numpy as np\n",
      "import pandas as pd\n",
      "import matplotlib.pyplot as plt\n",
      "from scipy.stats import mode\n",
      "from ggplot import *\n",
      "import json\n",
      "from frame_experiment_table import FrameExperimentTable\n",
      "%pylab inline\n",
      "# %load_ext rmagic\n",
      "%load_ext rpy2.ipython\n",
      "import pylab\n",
      "from __future__ import division\n",
      "\n"
     ],
     "language": "python",
     "metadata": {},
     "outputs": [
      {
       "output_type": "stream",
       "stream": "stdout",
       "text": [
        "Populating the interactive namespace from numpy and matplotlib\n"
       ]
      },
      {
       "output_type": "stream",
       "stream": "stderr",
       "text": [
        "WARNING: pylab import has clobbered these variables: ['xlim', 'ylim']\n",
        "`%matplotlib` prevents importing * from pylab and numpy\n"
       ]
      }
     ],
     "prompt_number": 1
    },
    {
     "cell_type": "code",
     "collapsed": false,
     "input": [
      "%%R\n",
      "rm(list=ls())"
     ],
     "language": "python",
     "metadata": {},
     "outputs": [],
     "prompt_number": 2
    },
    {
     "cell_type": "markdown",
     "metadata": {},
     "source": [
      "##Load dataset"
     ]
    },
    {
     "cell_type": "code",
     "collapsed": false,
     "input": [
      "gg = FrameExperimentTable('logs/data_scenario_changed')\n",
      "# gg.add_records('logs/data_incremental_file','new')\n",
      "# gg.add_records_csv('logs/data_scramble_filled_csv.csv')\n",
      "# gg.add_records('logs/data_scenario_changed','new')\n",
      "gg.filter_noise()\n",
      "gg.code_for_stat_ana()\n",
      "gg.code_survey_numeric()\n",
      "\n",
      "print ''"
     ],
     "language": "python",
     "metadata": {},
     "outputs": [
      {
       "output_type": "stream",
       "stream": "stdout",
       "text": [
        "(55, 40)\n",
        "classify_field - Fields Excluded"
       ]
      },
      {
       "output_type": "stream",
       "stream": "stdout",
       "text": [
        "\n",
        "(6,)\n",
        "(55, 42)\n",
        "New Usability Columns\n",
        "(55, 44)\n",
        "set([1, 2])"
       ]
      },
      {
       "output_type": "stream",
       "stream": "stdout",
       "text": [
        "\n",
        "multi\n",
        "set([1, 3])\n",
        "multi\n",
        "set([1])\n",
        "e-mail\n",
        "set([1, 2])\n",
        "multi\n",
        "set([1])\n",
        "e-mail\n",
        "set([3])\n",
        "self-depositing\n",
        "set([1, 3])\n",
        "multi\n",
        "set([2])\n",
        "self-depositing\n",
        "set([1, 2])\n",
        "multi\n",
        "set([3])\n",
        "self-depositing\n",
        "set([1])\n",
        "e-mail\n",
        "set([1, 2])\n",
        "multi\n",
        "set([2])\n",
        "self-depositing\n",
        "set([1])\n",
        "e-mail\n",
        "set([1, 2, 3])\n",
        "multi\n",
        "set([1])\n",
        "e-mail\n",
        "set([2])\n",
        "self-depositing\n",
        "set([2])\n",
        "self-depositing\n",
        "set([1, 3])\n",
        "multi\n",
        "set([1])\n",
        "e-mail\n",
        "set([4])\n",
        "Never\n",
        "set([1, 3])\n",
        "multi\n",
        "set([2])\n",
        "self-depositing\n",
        "set([4])\n",
        "Never\n",
        "set([2])\n",
        "self-depositing\n",
        "set([1, 3])\n",
        "multi\n",
        "set([2])\n",
        "self-depositing\n",
        "set([1, 3])\n",
        "multi\n",
        "set([2])\n",
        "self-depositing\n",
        "set([])\n",
        "\n",
        "set([2])\n",
        "self-depositing\n",
        "set([2])\n",
        "self-depositing\n",
        "set([1])\n",
        "e-mail\n",
        "set([2, 3])\n",
        "self-depositing\n",
        "set([2])\n",
        "self-depositing\n",
        "set([])\n",
        "\n",
        "set([4])\n",
        "Never\n",
        "set([])\n",
        "\n",
        "set([3, 4])\n",
        "Never\n",
        "set([])\n",
        "\n",
        "set([1, 2])\n",
        "multi\n",
        "set([1, 2])\n",
        "multi\n",
        "set([4])\n",
        "Never\n",
        "set([])\n",
        "\n",
        "set([1, 2, 3])\n",
        "multi\n",
        "set([2])\n",
        "self-depositing\n",
        "set([2])\n",
        "self-depositing\n",
        "set([3])\n",
        "self-depositing\n",
        "set([1, 2])\n",
        "multi\n",
        "set([1, 2, 3])\n",
        "multi\n",
        "set([])\n",
        "\n",
        "set([1, 2])\n",
        "multi\n",
        "set([2, 3])\n",
        "self-depositing\n",
        "set([2, 3])\n",
        "self-depositing\n",
        "set([1])\n",
        "e-mail\n",
        "Total\n",
        "55\n",
        "Removing testing\n",
        "2\n",
        "Removing Random\n",
        "5\n",
        "Removing Not Life Sciences\n",
        "2\n",
        "Removing Not enlgish skilled\n",
        "5\n",
        "Removing Not Honest\n",
        "6\n",
        "Removing unaware\n",
        "0\n",
        "Removing Not answer\n",
        "1\n",
        "Removing Not answer\n",
        "0\n",
        "Total\n",
        "34\n",
        "(40, 44)\n",
        "\n"
       ]
      },
      {
       "output_type": "stream",
       "stream": "stderr",
       "text": [
        "/Users/kristian/miniconda/lib/python2.7/site-packages/pandas/util/decorators.py:81: FutureWarning: the 'cols' keyword is deprecated, use 'subset' instead\n",
        "  warnings.warn(msg, FutureWarning)\n"
       ]
      }
     ],
     "prompt_number": 3
    },
    {
     "cell_type": "markdown",
     "metadata": {},
     "source": [
      "## Metric\n",
      "\n",
      "Instead of using 3 outputs as the questionary has we use a single output. since for all the measurements (ease, support, time) higher is better we use a measure of centrality of the 3 measurements to compute the usability measure.\n",
      "\n",
      "There are two options for measure of centrality\n",
      "\n",
      "- Median: Median is especially useful with skewed distributions as it draws the line right in the middle of your data set. It provides a better measure of centrality as 50% of your data is above the median. Median can be used with interval or ratio data. **Median is usually the preferred measurement to use with ordinal data**.  http://www.wyzant.com/resources/lessons/math/prealgebra/representing-data\n",
      "- Mode: Mode is best used with categorical (nominal) or discrete data. It is difficult to use it with continuous data because often a single value is not repeated exactly. There often are one or two distinct favorites in categorical or discrete data. Mode has a drawback in that it may not be a measure of centrality if the most common item is away from the rest of the data set. http://www.wyzant.com/resources/lessons/math/prealgebra/representing-data"
     ]
    },
    {
     "cell_type": "markdown",
     "metadata": {},
     "source": [
      "###Using the MEDIAN as measure of centrality"
     ]
    },
    {
     "cell_type": "code",
     "collapsed": false,
     "input": [
      "f = gg.get_anadata()\n",
      "f.head(5)\n",
      "\n",
      "# f['usability_2'] = f.apply(lambda row: np.median([row['ease_2'],row['support_2'],row['time_2']]), axis=1)\n",
      "# f['usability_1'] = f.apply(lambda row: np.median([row['ease_1'],row['support_1'],row['time_1']]), axis=1)\n",
      "##f['usability_1'] = f.apply(lambda row: mode([row['ease_1'],row['support_1'],row['time_1']])[0][0], axis=1)\n"
     ],
     "language": "python",
     "metadata": {},
     "outputs": [
      {
       "html": [
        "<div style=\"max-height:1000px;max-width:1500px;overflow:auto;\">\n",
        "<table border=\"1\" class=\"dataframe\">\n",
        "  <thead>\n",
        "    <tr style=\"text-align: right;\">\n",
        "      <th></th>\n",
        "      <th>discipline</th>\n",
        "      <th>ease_2</th>\n",
        "      <th>regret_2</th>\n",
        "      <th>support_2</th>\n",
        "      <th>time_2</th>\n",
        "      <th>time_second_evaluation</th>\n",
        "      <th>treatment_eval_2</th>\n",
        "      <th>ease_1</th>\n",
        "      <th>regret_1</th>\n",
        "      <th>support_1</th>\n",
        "      <th>...</th>\n",
        "      <th>data_file_title_2</th>\n",
        "      <th>time_create_2</th>\n",
        "      <th>treatment_2</th>\n",
        "      <th>trial_2</th>\n",
        "      <th>when_to_2</th>\n",
        "      <th>with_who_2</th>\n",
        "      <th>gibberish</th>\n",
        "      <th>field</th>\n",
        "      <th>usability_2</th>\n",
        "      <th>usability_1</th>\n",
        "    </tr>\n",
        "    <tr>\n",
        "      <th>sessionid</th>\n",
        "      <th></th>\n",
        "      <th></th>\n",
        "      <th></th>\n",
        "      <th></th>\n",
        "      <th></th>\n",
        "      <th></th>\n",
        "      <th></th>\n",
        "      <th></th>\n",
        "      <th></th>\n",
        "      <th></th>\n",
        "      <th></th>\n",
        "      <th></th>\n",
        "      <th></th>\n",
        "      <th></th>\n",
        "      <th></th>\n",
        "      <th></th>\n",
        "      <th></th>\n",
        "      <th></th>\n",
        "      <th></th>\n",
        "      <th></th>\n",
        "      <th></th>\n",
        "    </tr>\n",
        "  </thead>\n",
        "  <tbody>\n",
        "    <tr>\n",
        "      <th>0687ef14d441706b211ff0edf9f2ebea</th>\n",
        "      <td>           Biochemistry</td>\n",
        "      <td> 4</td>\n",
        "      <td> 4</td>\n",
        "      <td> 4</td>\n",
        "      <td> 4</td>\n",
        "      <td> 1430731542</td>\n",
        "      <td> B</td>\n",
        "      <td> 4</td>\n",
        "      <td> 3</td>\n",
        "      <td> 4</td>\n",
        "      <td>...</td>\n",
        "      <td>          mydata test</td>\n",
        "      <td> 1430731524</td>\n",
        "      <td> B</td>\n",
        "      <td> 1</td>\n",
        "      <td> nan</td>\n",
        "      <td> 4</td>\n",
        "      <td> True</td>\n",
        "      <td>           biochemistry</td>\n",
        "      <td> 4</td>\n",
        "      <td> 4</td>\n",
        "    </tr>\n",
        "    <tr>\n",
        "      <th>0ddaf25718c6b4c35bf05ae6335150d4</th>\n",
        "      <td>             Biophysics</td>\n",
        "      <td> 4</td>\n",
        "      <td> 2</td>\n",
        "      <td> 3</td>\n",
        "      <td> 4</td>\n",
        "      <td> 1429884067</td>\n",
        "      <td> B</td>\n",
        "      <td> 4</td>\n",
        "      <td> 3</td>\n",
        "      <td> 2</td>\n",
        "      <td>...</td>\n",
        "      <td> 2D PMF NaH exchanger</td>\n",
        "      <td> 1429884034</td>\n",
        "      <td> B</td>\n",
        "      <td> 1</td>\n",
        "      <td> nan</td>\n",
        "      <td> 4</td>\n",
        "      <td> True</td>\n",
        "      <td>             biophysics</td>\n",
        "      <td> 4</td>\n",
        "      <td> 4</td>\n",
        "    </tr>\n",
        "    <tr>\n",
        "      <th>18da94199bf2471a70d0298958543bb4</th>\n",
        "      <td>                Biology</td>\n",
        "      <td> 5</td>\n",
        "      <td> 1</td>\n",
        "      <td> 3</td>\n",
        "      <td> 5</td>\n",
        "      <td> 1430721360</td>\n",
        "      <td> B</td>\n",
        "      <td> 5</td>\n",
        "      <td> 4</td>\n",
        "      <td> 3</td>\n",
        "      <td>...</td>\n",
        "      <td>          My data set</td>\n",
        "      <td> 1430721315</td>\n",
        "      <td> B</td>\n",
        "      <td> 1</td>\n",
        "      <td> nan</td>\n",
        "      <td> 4</td>\n",
        "      <td> True</td>\n",
        "      <td>                biology</td>\n",
        "      <td> 5</td>\n",
        "      <td> 5</td>\n",
        "    </tr>\n",
        "    <tr>\n",
        "      <th>23ba4e6b2b149ba6294bd7e0125b2948</th>\n",
        "      <td> Bioprocess Engineering</td>\n",
        "      <td> 4</td>\n",
        "      <td> 2</td>\n",
        "      <td> 4</td>\n",
        "      <td> 4</td>\n",
        "      <td> 1430470915</td>\n",
        "      <td> B</td>\n",
        "      <td> 4</td>\n",
        "      <td> 2</td>\n",
        "      <td> 4</td>\n",
        "      <td>...</td>\n",
        "      <td>            more data</td>\n",
        "      <td> 1430470882</td>\n",
        "      <td> B</td>\n",
        "      <td> 1</td>\n",
        "      <td> nan</td>\n",
        "      <td> 4</td>\n",
        "      <td> True</td>\n",
        "      <td> bioprocess engineering</td>\n",
        "      <td> 4</td>\n",
        "      <td> 4</td>\n",
        "    </tr>\n",
        "    <tr>\n",
        "      <th>2bd5b76b8fac74b062c1a99c9bbc0a75</th>\n",
        "      <td>        Systems Biology</td>\n",
        "      <td> 5</td>\n",
        "      <td> 3</td>\n",
        "      <td> 5</td>\n",
        "      <td> 5</td>\n",
        "      <td> 1431345215</td>\n",
        "      <td> A</td>\n",
        "      <td> 5</td>\n",
        "      <td> 3</td>\n",
        "      <td> 4</td>\n",
        "      <td>...</td>\n",
        "      <td>  Dataset for paper X</td>\n",
        "      <td> 1431345182</td>\n",
        "      <td> A</td>\n",
        "      <td> 1</td>\n",
        "      <td> nan</td>\n",
        "      <td> 4</td>\n",
        "      <td> True</td>\n",
        "      <td>        systems biology</td>\n",
        "      <td> 5</td>\n",
        "      <td> 5</td>\n",
        "    </tr>\n",
        "  </tbody>\n",
        "</table>\n",
        "<p>5 rows \u00d7 44 columns</p>\n",
        "</div>"
       ],
       "metadata": {},
       "output_type": "pyout",
       "prompt_number": 4,
       "text": [
        "                                              discipline  ease_2  regret_2  \\\n",
        "sessionid                                                                    \n",
        "0687ef14d441706b211ff0edf9f2ebea            Biochemistry       4         4   \n",
        "0ddaf25718c6b4c35bf05ae6335150d4              Biophysics       4         2   \n",
        "18da94199bf2471a70d0298958543bb4                 Biology       5         1   \n",
        "23ba4e6b2b149ba6294bd7e0125b2948  Bioprocess Engineering       4         2   \n",
        "2bd5b76b8fac74b062c1a99c9bbc0a75         Systems Biology       5         3   \n",
        "\n",
        "                                  support_2  time_2  time_second_evaluation  \\\n",
        "sessionid                                                                     \n",
        "0687ef14d441706b211ff0edf9f2ebea          4       4              1430731542   \n",
        "0ddaf25718c6b4c35bf05ae6335150d4          3       4              1429884067   \n",
        "18da94199bf2471a70d0298958543bb4          3       5              1430721360   \n",
        "23ba4e6b2b149ba6294bd7e0125b2948          4       4              1430470915   \n",
        "2bd5b76b8fac74b062c1a99c9bbc0a75          5       5              1431345215   \n",
        "\n",
        "                                 treatment_eval_2  ease_1  regret_1  \\\n",
        "sessionid                                                             \n",
        "0687ef14d441706b211ff0edf9f2ebea                B       4         3   \n",
        "0ddaf25718c6b4c35bf05ae6335150d4                B       4         3   \n",
        "18da94199bf2471a70d0298958543bb4                B       5         4   \n",
        "23ba4e6b2b149ba6294bd7e0125b2948                B       4         2   \n",
        "2bd5b76b8fac74b062c1a99c9bbc0a75                A       5         3   \n",
        "\n",
        "                                  support_1     ...       \\\n",
        "sessionid                                       ...        \n",
        "0687ef14d441706b211ff0edf9f2ebea          4     ...        \n",
        "0ddaf25718c6b4c35bf05ae6335150d4          2     ...        \n",
        "18da94199bf2471a70d0298958543bb4          3     ...        \n",
        "23ba4e6b2b149ba6294bd7e0125b2948          4     ...        \n",
        "2bd5b76b8fac74b062c1a99c9bbc0a75          4     ...        \n",
        "\n",
        "                                     data_file_title_2  time_create_2  \\\n",
        "sessionid                                                               \n",
        "0687ef14d441706b211ff0edf9f2ebea           mydata test     1430731524   \n",
        "0ddaf25718c6b4c35bf05ae6335150d4  2D PMF NaH exchanger     1429884034   \n",
        "18da94199bf2471a70d0298958543bb4           My data set     1430721315   \n",
        "23ba4e6b2b149ba6294bd7e0125b2948             more data     1430470882   \n",
        "2bd5b76b8fac74b062c1a99c9bbc0a75   Dataset for paper X     1431345182   \n",
        "\n",
        "                                 treatment_2 trial_2  when_to_2 with_who_2  \\\n",
        "sessionid                                                                    \n",
        "0687ef14d441706b211ff0edf9f2ebea           B       1        nan          4   \n",
        "0ddaf25718c6b4c35bf05ae6335150d4           B       1        nan          4   \n",
        "18da94199bf2471a70d0298958543bb4           B       1        nan          4   \n",
        "23ba4e6b2b149ba6294bd7e0125b2948           B       1        nan          4   \n",
        "2bd5b76b8fac74b062c1a99c9bbc0a75           A       1        nan          4   \n",
        "\n",
        "                                  gibberish                   field  \\\n",
        "sessionid                                                             \n",
        "0687ef14d441706b211ff0edf9f2ebea       True            biochemistry   \n",
        "0ddaf25718c6b4c35bf05ae6335150d4       True              biophysics   \n",
        "18da94199bf2471a70d0298958543bb4       True                 biology   \n",
        "23ba4e6b2b149ba6294bd7e0125b2948       True  bioprocess engineering   \n",
        "2bd5b76b8fac74b062c1a99c9bbc0a75       True         systems biology   \n",
        "\n",
        "                                  usability_2  usability_1  \n",
        "sessionid                                                   \n",
        "0687ef14d441706b211ff0edf9f2ebea            4            4  \n",
        "0ddaf25718c6b4c35bf05ae6335150d4            4            4  \n",
        "18da94199bf2471a70d0298958543bb4            5            5  \n",
        "23ba4e6b2b149ba6294bd7e0125b2948            4            4  \n",
        "2bd5b76b8fac74b062c1a99c9bbc0a75            5            5  \n",
        "\n",
        "[5 rows x 44 columns]"
       ]
      }
     ],
     "prompt_number": 4
    },
    {
     "cell_type": "code",
     "collapsed": false,
     "input": [
      "s = f.groupby('regret_1')['regret_1'].count()\n",
      "s.plot(kind='barh')"
     ],
     "language": "python",
     "metadata": {},
     "outputs": [
      {
       "metadata": {},
       "output_type": "pyout",
       "prompt_number": 5,
       "text": [
        "<matplotlib.axes._subplots.AxesSubplot at 0x10be3c390>"
       ]
      },
      {
       "metadata": {},
       "output_type": "display_data",
       "png": "[encoded data removed]",
       "text": [
        "<matplotlib.figure.Figure at 0x10be2f450>"
       ]
      }
     ],
     "prompt_number": 5
    },
    {
     "cell_type": "code",
     "collapsed": false,
     "input": [
      "s = f.groupby('regret_2')['regret_2'].count()\n",
      "s.plot(kind='barh')"
     ],
     "language": "python",
     "metadata": {},
     "outputs": [
      {
       "metadata": {},
       "output_type": "pyout",
       "prompt_number": 6,
       "text": [
        "<matplotlib.axes._subplots.AxesSubplot at 0x10665c090>"
       ]
      },
      {
       "metadata": {},
       "output_type": "display_data",
       "png": "[encoded data removed]",
       "text": [
        "<matplotlib.figure.Figure at 0x10c2adf50>"
       ]
      }
     ],
     "prompt_number": 6
    },
    {
     "cell_type": "code",
     "collapsed": false,
     "input": [
      "## Getting the formated dataframe\n",
      "full_set = gg.get_rm_ws_df('regret_1','regret_2')\n",
      "full_set2 = gg.get_rm_ws_df('with_who_1','with_who_2')\n",
      "full_set3 = gg.get_rm_ws_df('when_to_1','when_to_2')\n",
      "\n",
      "new_data_full= full_set\n",
      "new_data_full['with_who'] = full_set2.response\n",
      "new_data_full['when_to'] = full_set3.response\n",
      "(new_data_full.head(7))\n",
      "new_data_full['when_to'] = new_data_full['when_to'].replace(['nan','6m','1y','3y','10y'],[0,1,2,6,20])\n",
      "\n",
      "\n",
      "# full_set_var = gg.add_survey_data(new_data_full,'man_hours')\n",
      "\n",
      "# full_set_var.ix[np.random.choice(full_set_var.index.values, 10)]\n",
      "\n"
     ],
     "language": "python",
     "metadata": {},
     "outputs": [
      {
       "output_type": "stream",
       "stream": "stdout",
       "text": [
        "rm_ws_dataframe - Droping missing records\n",
        "(40, 5)\n",
        "rm_ws_dataframe - remove missing data \n",
        "(40, 5)\n",
        "rm_ws_dataframe - no duplicates "
       ]
      },
      {
       "output_type": "stream",
       "stream": "stdout",
       "text": [
        "\n",
        "(80, 5)\n",
        "3    26\n",
        "2    21\n",
        "1    18\n",
        "4    14\n",
        "5     1\n",
        "dtype: int64"
       ]
      },
      {
       "output_type": "stream",
       "stream": "stdout",
       "text": [
        "\n",
        "rm_ws_dataframe - Droping missing records\n",
        "(40, 5)\n",
        "rm_ws_dataframe - remove missing data \n",
        "(40, 5)\n",
        "rm_ws_dataframe - no duplicates \n",
        "(80, 5)\n",
        "4    63\n",
        "3    10\n",
        "2     7\n",
        "dtype: int64\n",
        "rm_ws_dataframe - Droping missing records\n",
        "(40, 5)\n",
        "rm_ws_dataframe - remove missing data \n",
        "(40, 5)\n",
        "rm_ws_dataframe - no duplicates "
       ]
      },
      {
       "output_type": "stream",
       "stream": "stdout",
       "text": [
        "\n",
        "(80, 5)\n",
        "nan    64\n",
        "6m      8\n",
        "10y     6\n",
        "3y      1\n",
        "1y      1\n",
        "dtype: int64\n"
       ]
      }
     ],
     "prompt_number": 7
    },
    {
     "cell_type": "markdown",
     "metadata": {},
     "source": [
      "##Check for Corrlation between the two vairbales who and when"
     ]
    },
    {
     "cell_type": "code",
     "collapsed": false,
     "input": [
      "new_data_full['with_who'] = new_data_full['with_who'].astype('int')\n",
      "new_data_full['when_to'] = new_data_full['when_to'].astype('int')\n",
      "new_data_full.plot(x='when_to', y='with_who', kind='hexbin', gridsize=5, reduce_C_function=np.max)\n"
     ],
     "language": "python",
     "metadata": {},
     "outputs": [
      {
       "metadata": {},
       "output_type": "pyout",
       "prompt_number": 8,
       "text": [
        "<matplotlib.axes._subplots.AxesSubplot at 0x10bb2da50>"
       ]
      },
      {
       "metadata": {},
       "output_type": "display_data",
       "png": "[encoded data removed]",
       "text": [
        "<matplotlib.figure.Figure at 0x10c0f6c50>"
       ]
      }
     ],
     "prompt_number": 8
    },
    {
     "cell_type": "markdown",
     "metadata": {},
     "source": [
      ">IS not that this two measures are corralated. They are counfounded due to the design. Then you can use one or te other variable in the experiment. it really doesn't matter. However you should use with_WHO becuase all of the mexperience that one at least."
     ]
    },
    {
     "cell_type": "markdown",
     "metadata": {},
     "source": [
      "## Check for Carry over effects"
     ]
    },
    {
     "cell_type": "markdown",
     "metadata": {},
     "source": [
      "###Grizzzle Method"
     ]
    },
    {
     "cell_type": "code",
     "collapsed": false,
     "input": [
      "ss =  gg.code_for_stat_ana()\n",
      "# ss['usability_2'] = ss.apply(lambda row: np.median([row['ease_2'],row['support_2'],row['time_2']]), axis=1)\n",
      "# ss['usability_1'] = ss.apply(lambda row: np.median([row['ease_1'],row['support_1'],row['time_1']]), axis=1)\n",
      "ss['sequ'] = ss['treatment_eval_1']\n",
      "ss['sequ'] = ss['sequ'].replace(['A','B'],['AB','BA'])\n",
      "ss['sum']  = ss['regret_1'].astype('int') + ss['regret_2'].astype('int')\n",
      "ss['diff'] =  ss['regret_1'].astype('int') - ss['regret_2'].astype('int')\n",
      "xx =  ss[['treatment_eval_1','diff','sum']]\n",
      "AB = xx[xx['treatment_eval_1'] == 'A']\n",
      "BA = xx[xx['treatment_eval_1'] == 'B']\n",
      "sum1= AB['sum'].sum()/AB.shape[0]\n",
      "sum2= BA['sum'].sum()/BA.shape[0]\n",
      "diff1= AB['diff'].sum()/AB.shape[0]\n",
      "diff2= BA['diff'].sum()/BA.shape[0]\n",
      "\n",
      "print sum1 - sum2\n",
      "print (diff1 - diff2)/2\n",
      "\n",
      "ll =  ss[['sequ','regret_1','regret_2']]\n",
      "\n",
      "ll.groupby(['sequ']).mean().transpose().plot()\n",
      "ll.groupby(['sequ']).median().transpose().plot()"
     ],
     "language": "python",
     "metadata": {},
     "outputs": [
      {
       "output_type": "stream",
       "stream": "stdout",
       "text": [
        "(40, 44)\n",
        "1.05012531328\n",
        "0.384711779449\n"
       ]
      },
      {
       "metadata": {},
       "output_type": "pyout",
       "prompt_number": 63,
       "text": [
        "<matplotlib.axes._subplots.AxesSubplot at 0x115c16cd0>"
       ]
      },
      {
       "metadata": {},
       "output_type": "display_data",
       "png": "[encoded data removed]",
       "text": [
        "<matplotlib.figure.Figure at 0x11371cdd0>"
       ]
      },
      {
       "metadata": {},
       "output_type": "display_data",
       "png": "[encoded data removed]",
       "text": [
        "<matplotlib.figure.Figure at 0x1157f7ed0>"
       ]
      }
     ],
     "prompt_number": 63
    },
    {
     "cell_type": "code",
     "collapsed": false,
     "input": [
      "%%R -i ss\n",
      "\n",
      "ss$with_who_1<-factor(ss$with_who_1)\n",
      "\n",
      "\n",
      "print(aggregate(ss$sum, by=list(ss$treatment_eval_1), mean))\n",
      "print(wilcox.test(ss$sum~factor(ss$treatment_eval_1),paired = FALSE))\n",
      "print(wilcox.test(ss$diff~factor(ss$treatment_eval_1),paired = FALSE))\n",
      "print(wilcox.test(ss$regret_1~factor(ss$treatment_eval_1),paired = FALSE, conf.int=TRUE ))\n",
      "print(friedman.test(regret_1~treatment_eval_1 | with_who_1, data=ss ))\n"
     ],
     "language": "python",
     "metadata": {},
     "outputs": [
      {
       "output_type": "stream",
       "stream": "stdout",
       "text": [
        "  Group.1        x\n",
        "1       A 5.526316\n",
        "2       B 4.476190\n",
        "\n",
        "\tWilcoxon rank sum test with continuity correction\n",
        "\n",
        "data:  ss$sum by factor(ss$treatment_eval_1)\n",
        "W = 265.5, p-value = 0.0688\n",
        "alternative hypothesis: true location shift is not equal to 0\n",
        "\n",
        "\n",
        "\tWilcoxon rank sum test with continuity correction\n",
        "\n",
        "data:  ss$diff by factor(ss$treatment_eval_1)\n",
        "W = 258, p-value = 0.07537\n",
        "alternative hypothesis: true location shift is not equal to 0\n",
        "\n",
        "\n",
        "\tWilcoxon rank sum test with continuity correction\n",
        "\n",
        "data:  ss$regret_1 by factor(ss$treatment_eval_1)\n",
        "W = 292, p-value = 0.009651\n",
        "alternative hypothesis: true location shift is not equal to 0\n",
        "95 percent confidence interval:\n",
        " 4.766551e-05 1.999969e+00\n",
        "sample estimates:\n",
        "difference in location \n",
        "             0.9999668 \n",
        "\n",
        "Error in friedman.test.default(c(3, 3, 4, 2, 3, 1, 2, 1, 4, 2, 3, 4, 1,  : \n",
        "  not an unreplicated complete block design\n",
        "In addition: Warning messages:\n",
        "1: In wilcox.test.default(x = c(7L, 5L, 5L, 4L, 2L, 4L, 6L, 7L, 6L,  :\n",
        "  cannot compute exact p-value with ties\n",
        "2: In wilcox.test.default(x = c(-1L, 1L, 3L, 0L, 0L, 0L, 2L, 1L, 0L,  :\n",
        "  cannot compute exact p-value with ties\n",
        "3: In wilcox.test.default(x = c(3, 3, 4, 2, 1, 2, 4, 4, 3, 3, 3, 3,  :\n",
        "  cannot compute exact p-value with ties\n",
        "4: In wilcox.test.default(x = c(3, 3, 4, 2, 1, 2, 4, 4, 3, 3, 3, 3,  :\n",
        "  cannot compute exact confidence intervals with ties\n",
        "Error in friedman.test.default(c(3, 3, 4, 2, 3, 1, 2, 1, 4, 2, 3, 4, 1,  : \n",
        "  not an unreplicated complete block design\n"
       ]
      }
     ],
     "prompt_number": 81
    },
    {
     "cell_type": "markdown",
     "metadata": {},
     "source": [
      "### My method for Carry over"
     ]
    },
    {
     "cell_type": "code",
     "collapsed": false,
     "input": [
      "co_check_df = new_data_full[new_data_full['period'] == '1']"
     ],
     "language": "python",
     "metadata": {},
     "outputs": [],
     "prompt_number": 11
    },
    {
     "cell_type": "code",
     "collapsed": false,
     "input": [
      "%%R -i co_check_df\n",
      "library(ordinal)\n",
      "\n",
      "\n",
      "s <- data.frame(co_check_df)\n",
      "s$response <- factor(s$response)\n",
      "s$trt <- factor(s$trt)\n",
      "s$sequ <- factor(s$sequ)\n",
      "s$period <- factor(s$period)\n",
      "\n",
      "clm <- clm(response ~ sequ , data=s, link=\"loglog\",Hess = TRUE, nAGQ = 10, threshold=\"symmetric\"  )\n",
      "\n",
      "print (summary(clm))\n",
      "exp(cbind(OR =coef(clm), confint(clm)))\n",
      "print(exp(cbind(OR =coef(clm), confint(clm))))"
     ],
     "language": "python",
     "metadata": {},
     "outputs": [
      {
       "metadata": {},
       "output_type": "display_data",
       "text": [
        "formula: response ~ sequ\n",
        "data:    s\n",
        "\n",
        " link   threshold nobs logLik AIC    niter max.grad cond.H \n",
        " loglog symmetric 40   -51.43 108.86 5(0)  1.58e-11 9.6e+00\n",
        "\n",
        "Coefficients:\n",
        "       Estimate Std. Error z value Pr(>|z|)   \n",
        "sequBA  -1.1836     0.3892  -3.041  0.00236 **\n",
        "---\n",
        "Signif. codes:  0 \u2018***\u2019 0.001 \u2018**\u2019 0.01 \u2018*\u2019 0.05 \u2018.\u2019 0.1 \u2018 \u2019 1\n",
        "\n",
        "Threshold coefficients:\n",
        "          Estimate Std. Error z value\n",
        "central    -0.2388     0.2460  -0.971\n",
        "spacing.1   0.9592     0.1727   5.553\n",
        "              OR     2.5 %    97.5 %\n",
        "sequBA 0.7875663 0.1396205 0.6501655\n"
       ]
      }
     ],
     "prompt_number": 12
    },
    {
     "cell_type": "markdown",
     "metadata": {},
     "source": [
      "##Check for with link model to use\n",
      "\n",
      "Higher Likehood ratio is best"
     ]
    },
    {
     "cell_type": "code",
     "collapsed": false,
     "input": [
      "%%R -i new_data_full\n",
      "\n",
      "s <- data.frame(new_data_full)\n",
      "s$response <- factor(s$response)\n",
      "s$trt <- factor(s$trt)\n",
      "s$sequ <- factor(s$sequ)\n",
      "s$period <- factor(s$period)\n",
      "s$when_to <- factor(s$when_to)\n",
      "s$with_who <- as.numeric(s$with_who)\n",
      "\n",
      "links <- c(\"logit\", \"probit\", \"cloglog\", \"loglog\")\n",
      "sapply(links, function(link) {  clmm(response ~ trt + period + sequ + (1 | with_who )+ (1 | id:sequ) , s, link=link ,Hess = TRUE, threshold=\"flexible\")$logLik })\n",
      "\n"
     ],
     "language": "python",
     "metadata": {},
     "outputs": [
      {
       "metadata": {},
       "output_type": "display_data",
       "text": [
        "    logit    probit   cloglog    loglog \n",
        "-107.2278 -107.7994 -108.9297 -105.5281 \n"
       ]
      }
     ],
     "prompt_number": 13
    },
    {
     "cell_type": "markdown",
     "metadata": {},
     "source": [
      "##Check for with threshold to use\n",
      "\n",
      "Higher Likehood ratio is best"
     ]
    },
    {
     "cell_type": "code",
     "collapsed": false,
     "input": [
      "%%R -i new_data_full\n",
      "\n",
      "s <- data.frame(new_data_full)\n",
      "s$response <- factor(s$response)\n",
      "s$trt <- factor(s$trt)\n",
      "s$sequ <- factor(s$sequ)\n",
      "s$period <- factor(s$period)\n",
      "s$when_to <- factor(s$when_to)\n",
      "s$with_who <- as.numeric(s$with_who)\n",
      "\n",
      "thresholds <- c(\"equidistant\", \"symmetric\")\n",
      " \n",
      "anov<-function(threshold){\n",
      "mt2 <- clmm(response ~ trt + period + sequ + (1 | with_who )+ (1 | id:sequ) , s, link=\"loglog\" ,Hess = TRUE, threshold=threshold)\n",
      "x1 <- clmm(response ~ trt + period + sequ + (1 | with_who )+ (1 | id:sequ) , s, link=\"loglog\" ,Hess = TRUE, threshold=\"flexible\")\n",
      "summa<-anova(x1, mt2)\n",
      "(summa$'Pr(>Chisq)'[2])\n",
      "}\n",
      "\n",
      "sapply(thresholds, anov)\n"
     ],
     "language": "python",
     "metadata": {},
     "outputs": [
      {
       "output_type": "stream",
       "stream": "stdout",
       "text": [
        "Error in (function (object, ...)  : object 'mt2' not found\n"
       ]
      }
     ],
     "prompt_number": 27
    },
    {
     "cell_type": "markdown",
     "metadata": {},
     "source": [
      "> Since the p-value is significant there is argument agianst using anyother threshold"
     ]
    },
    {
     "cell_type": "markdown",
     "metadata": {},
     "source": [
      "##\u00a0Effects on Regret due to PREFERENCE and/or the Design"
     ]
    },
    {
     "cell_type": "markdown",
     "metadata": {},
     "source": [
      "The regret analysis present a variation with other analysis. \n",
      "\n",
      "The response is what users selected in the survey and the responses of the experiment are now a parameter in the model. \n",
      "\n",
      "But is a fix effect or a random effect??"
     ]
    },
    {
     "cell_type": "code",
     "collapsed": false,
     "input": [
      "%%R -i new_data_full\n",
      "library(ordinal)\n",
      "library(MASS)\n",
      "\n",
      "s <- data.frame(new_data_full)\n",
      "s$response <- factor(s$response)\n",
      "s$trt <- factor(s$trt)\n",
      "s$sequ <- factor(s$sequ)\n",
      "s$period <- factor(s$period)\n",
      "s$when_to <- (s$when_to)\n",
      "s$with_who <- (s$with_who)\n",
      "\n",
      "regret.mm.who <- clmm(response ~ sequ  + trt + period  + (1 | with_who) + (1 | id:sequ), s, link=\"loglog\", Hess = TRUE, threshold=\"flexible\")\n",
      "regret.mm.whe <- clmm(response ~ sequ  + trt + period  + (1 | when_to) + (1 | id:sequ), s, link=\"loglog\", Hess = TRUE, threshold=\"flexible\")\n",
      "regret.mm <- clmm(response ~ sequ  + trt + period  + (1 | id:sequ), s, link=\"loglog\", Hess = TRUE,  threshold=\"flexible\")\n"
     ],
     "language": "python",
     "metadata": {},
     "outputs": [],
     "prompt_number": 28
    },
    {
     "cell_type": "markdown",
     "metadata": {},
     "source": [
      "regret.mm.who is a model when we look at the effects ON Regret By who they share with   \n",
      "regret.mm.whe is a model when we look at the effects ON Regret By when they share with   \n",
      "regret.mm is a model when we look at the effects ON Regret By who the experimental design   "
     ]
    },
    {
     "cell_type": "code",
     "collapsed": false,
     "input": [
      "%%R\n",
      "\n",
      "print(\"***********\")\n",
      "print(summary(regret.mm))\n",
      "print(\"***********\")\n",
      "print(summary(regret.mm.who))\n",
      "##print(\"***********\")\n",
      "##print(summary(regret.mm.whe))\n",
      "\n",
      "\n",
      "##print(\"------------\")\n",
      "##print(anova(regret.mm.whe, regret.mm))\n",
      "print(\"------------\")\n",
      "print(anova(regret.mm.who, regret.mm))\n",
      "##print(\"------------\")\n",
      "##print(anova(regret.mm.who, regret.mm.whe))\n"
     ],
     "language": "python",
     "metadata": {},
     "outputs": [
      {
       "metadata": {},
       "output_type": "display_data",
       "text": [
        "[1] \"***********\"\n",
        "Cumulative Link Mixed Model fitted with the Laplace approximation\n",
        "\n",
        "formula: response ~ sequ + trt + period + (1 | id:sequ)\n",
        "data:    s\n",
        "\n",
        " link   threshold nobs logLik  AIC    niter     max.grad cond.H \n",
        " loglog flexible  80   -108.93 233.86 409(2095) 3.77e-05 3.4e+01\n",
        "\n",
        "Random effects:\n",
        " Groups  Name        Variance Std.Dev.\n",
        " id:sequ (Intercept) 0.8632   0.9291  \n",
        "Number of groups:  id:sequ 40 \n",
        "\n",
        "Coefficients:\n",
        "        Estimate Std. Error z value Pr(>|z|)\n",
        "sequBA   -0.6920     0.4315  -1.604    0.109\n",
        "trtB     -0.4506     0.2784  -1.618    0.106\n",
        "period2  -0.2523     0.2812  -0.897    0.370\n",
        "\n",
        "Threshold coefficients:\n",
        "    Estimate Std. Error z value\n",
        "1|2  -2.4094     0.5485  -4.393\n",
        "2|3  -1.1685     0.4212  -2.774\n",
        "3|4   0.1343     0.3577   0.375\n",
        "4|5   1.6984     0.5811   2.923\n",
        "[1] \"***********\"\n",
        "Cumulative Link Mixed Model fitted with the Laplace approximation\n",
        "\n",
        "formula: response ~ sequ + trt + period + (1 | with_who) + (1 | id:sequ)\n",
        "data:    s\n",
        "\n",
        " link   threshold nobs logLik  AIC    niter     max.grad cond.H \n",
        " loglog flexible  80   -105.53 229.06 446(1788) 1.41e-05 6.1e+01\n",
        "\n",
        "Random effects:\n",
        " Groups   Name        Variance Std.Dev.\n",
        " id:sequ  (Intercept) 0.6902   0.8308  \n",
        " with_who (Intercept) 0.0000   0.0000  \n",
        "Number of groups:  id:sequ 40,  with_who 3 \n",
        "\n",
        "Coefficients:\n",
        "        Estimate Std. Error z value Pr(>|z|)  \n",
        "sequBA   -0.8427     0.4000  -2.107   0.0351 *\n",
        "trtB     -0.5453     0.2930  -1.861   0.0627 .\n",
        "period2  -0.3060     0.2927  -1.045   0.2959  \n",
        "---\n",
        "Signif. codes:  0 \u2018***\u2019 0.001 \u2018**\u2019 0.01 \u2018*\u2019 0.05 \u2018.\u2019 0.1 \u2018 \u2019 1\n",
        "\n",
        "Threshold coefficients:\n",
        "    Estimate Std. Error z value\n",
        "1|2  -1.5393     0.4299  -3.580\n",
        "2|3  -0.4265     0.3558  -1.198\n",
        "3|4   1.0928     0.3956   2.762\n",
        "4|5   3.9785     1.0475   3.798\n",
        "[1] \"------------\"\n",
        "Likelihood ratio tests of cumulative link models:\n",
        " \n",
        "              formula:                                                       \n",
        "regret.mm     response ~ sequ + trt + period + (1 | id:sequ)                 \n",
        "regret.mm.who response ~ sequ + trt + period + (1 | with_who) + (1 | id:sequ)\n",
        "              link:  threshold:\n",
        "regret.mm     loglog flexible  \n",
        "regret.mm.who loglog flexible  \n",
        "\n",
        "              no.par    AIC  logLik LR.stat df Pr(>Chisq)   \n",
        "regret.mm          8 233.86 -108.93                         \n",
        "regret.mm.who      9 229.06 -105.53  6.8033  1   0.009099 **\n",
        "---\n",
        "Signif. codes:  0 \u2018***\u2019 0.001 \u2018**\u2019 0.01 \u2018*\u2019 0.05 \u2018.\u2019 0.1 \u2018 \u2019 1\n"
       ]
      }
     ],
     "prompt_number": 29
    },
    {
     "cell_type": "markdown",
     "metadata": {},
     "source": [
      "> The model with random variables explains a bit more of the phenomenon but explains as much as it does with either vairbales.\n",
      "> unfortunately in CMML we can not use NGA and only 2 randowm variables can be included in the model    \n",
      "\n",
      "> regret.mm IT can been said the either treatment do not affect regret\n",
      "> but adding their choices to the model changes the outcome, so their choices are mapped to their regret\n"
     ]
    },
    {
     "cell_type": "code",
     "collapsed": false,
     "input": [
      "%%R\n",
      "\n",
      "\n",
      "library(texreg)\n",
      "source('clmm_extractor.r')\n",
      "\n",
      "texreg(list(regret.mm.who), ci.force = TRUE, ci.test = 1, ci.force.level = 0.95 , float.pos = \"tb\",\n",
      "      caption = \"Regret CLMM model\",  use.packages = FALSE, single.row = FALSE, custom.coef.names=c(\"Sequence\",\"Period\",\"Treatment\",\"Accessibility\"),\n",
      "      custom.model.names = c(\"CLMM model\"),)\n",
      "\n"
     ],
     "language": "python",
     "metadata": {},
     "outputs": [
      {
       "metadata": {},
       "output_type": "display_data",
       "text": [
        "\n",
        "\\begin{table}[tb]\n",
        "\\begin{center}\n",
        "\\begin{tabular}{l c }\n",
        "\\hline\n",
        "               & CLMM model \\\\\n",
        "\\hline\n",
        "Sequence       & $0.43^{*}$      \\\\\n",
        "               & $[0.20;\\ 0.93]$ \\\\\n",
        "Period         & $0.62$          \\\\\n",
        "               & $[0.35;\\ 1.11]$ \\\\\n",
        "Treatment      & $0.76$          \\\\\n",
        "               & $[0.43;\\ 1.34]$ \\\\\n",
        "Accessibility  & $0.72$          \\\\\n",
        "               & $[0.41;\\ 1.27]$ \\\\\n",
        "\\hline\n",
        "AIC            & 229.80          \\\\\n",
        "BIC            & 253.62          \\\\\n",
        "Log Likelihood & -104.90         \\\\\n",
        "Num. obs.      & 80              \\\\\n",
        "\\hline\n",
        "\\multicolumn{2}{l}{\\scriptsize{$^*$ 1 outside the confidence interval}}\n",
        "\\end{tabular}\n",
        "\\caption{Regret CLMM model}\n",
        "\\label{table:coefficients}\n",
        "\\end{center}\n",
        "\\end{table}\n",
        " FALSE"
       ]
      }
     ],
     "prompt_number": 26
    },
    {
     "cell_type": "code",
     "collapsed": false,
     "input": [
      "%%R\n",
      "plot_odds(regret.mm.who,'Odds ratios and CI')   \n",
      "\n"
     ],
     "language": "python",
     "metadata": {},
     "outputs": [
      {
       "metadata": {},
       "output_type": "display_data",
       "png": "[encoded data removed]"
      }
     ],
     "prompt_number": 30
    },
    {
     "cell_type": "markdown",
     "metadata": {},
     "source": [
      "## Check first period as a Oridnal Logistical Regresion model\n",
      "\n",
      "\n",
      "we do OLR becasue we have 2 or more IVs (independent groups) they are odinal. We cannot use friedman or wilconxo without loosing one of those vairbales. \n",
      "But the ORL is only for binary outputs not ordinal like we have. so we need CLM but since both accessibility and treatment would be fixed variels."
     ]
    },
    {
     "cell_type": "code",
     "collapsed": false,
     "input": [
      "first_period_data = new_data_full[new_data_full['period'] == \"1\"]\n",
      "first_period_data.head(10)"
     ],
     "language": "python",
     "metadata": {},
     "outputs": [
      {
       "html": [
        "<div style=\"max-height:1000px;max-width:1500px;overflow:auto;\">\n",
        "<table border=\"1\" class=\"dataframe\">\n",
        "  <thead>\n",
        "    <tr style=\"text-align: right;\">\n",
        "      <th></th>\n",
        "      <th>response</th>\n",
        "      <th>trt</th>\n",
        "      <th>sequ</th>\n",
        "      <th>period</th>\n",
        "      <th>id</th>\n",
        "      <th>with_who</th>\n",
        "      <th>when_to</th>\n",
        "    </tr>\n",
        "  </thead>\n",
        "  <tbody>\n",
        "    <tr>\n",
        "      <th>0 </th>\n",
        "      <td> 3</td>\n",
        "      <td> A</td>\n",
        "      <td> AB</td>\n",
        "      <td> 1</td>\n",
        "      <td> 0687ef14d441706b211ff0edf9f2ebea</td>\n",
        "      <td> 4</td>\n",
        "      <td>  0</td>\n",
        "    </tr>\n",
        "    <tr>\n",
        "      <th>1 </th>\n",
        "      <td> 3</td>\n",
        "      <td> A</td>\n",
        "      <td> AB</td>\n",
        "      <td> 1</td>\n",
        "      <td> 0ddaf25718c6b4c35bf05ae6335150d4</td>\n",
        "      <td> 2</td>\n",
        "      <td> 20</td>\n",
        "    </tr>\n",
        "    <tr>\n",
        "      <th>2 </th>\n",
        "      <td> 4</td>\n",
        "      <td> A</td>\n",
        "      <td> AB</td>\n",
        "      <td> 1</td>\n",
        "      <td> 18da94199bf2471a70d0298958543bb4</td>\n",
        "      <td> 4</td>\n",
        "      <td>  0</td>\n",
        "    </tr>\n",
        "    <tr>\n",
        "      <th>3 </th>\n",
        "      <td> 2</td>\n",
        "      <td> A</td>\n",
        "      <td> AB</td>\n",
        "      <td> 1</td>\n",
        "      <td> 23ba4e6b2b149ba6294bd7e0125b2948</td>\n",
        "      <td> 4</td>\n",
        "      <td>  0</td>\n",
        "    </tr>\n",
        "    <tr>\n",
        "      <th>5 </th>\n",
        "      <td> 1</td>\n",
        "      <td> A</td>\n",
        "      <td> AB</td>\n",
        "      <td> 1</td>\n",
        "      <td> 2be130732b05502a4a631bc01291b25b</td>\n",
        "      <td> 4</td>\n",
        "      <td>  0</td>\n",
        "    </tr>\n",
        "    <tr>\n",
        "      <th>6 </th>\n",
        "      <td> 2</td>\n",
        "      <td> A</td>\n",
        "      <td> AB</td>\n",
        "      <td> 1</td>\n",
        "      <td> 38c7d17c9d41c293afe9d368d45a629c</td>\n",
        "      <td> 4</td>\n",
        "      <td>  0</td>\n",
        "    </tr>\n",
        "    <tr>\n",
        "      <th>8 </th>\n",
        "      <td> 4</td>\n",
        "      <td> A</td>\n",
        "      <td> AB</td>\n",
        "      <td> 1</td>\n",
        "      <td> 4306bad121fb3ad1fb2365dda1a32440</td>\n",
        "      <td> 4</td>\n",
        "      <td>  0</td>\n",
        "    </tr>\n",
        "    <tr>\n",
        "      <th>11</th>\n",
        "      <td> 4</td>\n",
        "      <td> A</td>\n",
        "      <td> AB</td>\n",
        "      <td> 1</td>\n",
        "      <td> 6b216d7a04c90e3490fb335b6dc39314</td>\n",
        "      <td> 3</td>\n",
        "      <td> 20</td>\n",
        "    </tr>\n",
        "    <tr>\n",
        "      <th>17</th>\n",
        "      <td> 3</td>\n",
        "      <td> A</td>\n",
        "      <td> AB</td>\n",
        "      <td> 1</td>\n",
        "      <td> 7f6ad16cca9e095737b8ad8089f11f51</td>\n",
        "      <td> 2</td>\n",
        "      <td>  0</td>\n",
        "    </tr>\n",
        "    <tr>\n",
        "      <th>19</th>\n",
        "      <td> 3</td>\n",
        "      <td> A</td>\n",
        "      <td> AB</td>\n",
        "      <td> 1</td>\n",
        "      <td> 84435907d0139de1cd4eaf5a4992ee6c</td>\n",
        "      <td> 4</td>\n",
        "      <td>  0</td>\n",
        "    </tr>\n",
        "  </tbody>\n",
        "</table>\n",
        "</div>"
       ],
       "metadata": {},
       "output_type": "pyout",
       "prompt_number": 103,
       "text": [
        "    response trt sequ period                                id  with_who  \\\n",
        "0          3   A   AB      1  0687ef14d441706b211ff0edf9f2ebea         4   \n",
        "1          3   A   AB      1  0ddaf25718c6b4c35bf05ae6335150d4         2   \n",
        "2          4   A   AB      1  18da94199bf2471a70d0298958543bb4         4   \n",
        "3          2   A   AB      1  23ba4e6b2b149ba6294bd7e0125b2948         4   \n",
        "5          1   A   AB      1  2be130732b05502a4a631bc01291b25b         4   \n",
        "6          2   A   AB      1  38c7d17c9d41c293afe9d368d45a629c         4   \n",
        "8          4   A   AB      1  4306bad121fb3ad1fb2365dda1a32440         4   \n",
        "11         4   A   AB      1  6b216d7a04c90e3490fb335b6dc39314         3   \n",
        "17         3   A   AB      1  7f6ad16cca9e095737b8ad8089f11f51         2   \n",
        "19         3   A   AB      1  84435907d0139de1cd4eaf5a4992ee6c         4   \n",
        "\n",
        "    when_to  \n",
        "0         0  \n",
        "1        20  \n",
        "2         0  \n",
        "3         0  \n",
        "5         0  \n",
        "6         0  \n",
        "8         0  \n",
        "11       20  \n",
        "17        0  \n",
        "19        0  "
       ]
      }
     ],
     "prompt_number": 103
    },
    {
     "cell_type": "code",
     "collapsed": false,
     "input": [
      "%%R -i first_period_data\n",
      "\n",
      "s <- data.frame(first_period_data)\n",
      "s$response <- factor(s$response)\n",
      "s$trt <- factor(s$trt)\n",
      "s$sequ <- factor(s$sequ)\n",
      "s$period <- factor(s$period)\n",
      "s$when_to <- (s$when_to)\n",
      "s$with_who <- factor(s$with_who)\n",
      "\n",
      "regret.olr.who <- polr(response ~ trt + with_who, data=s, Hess = TRUE)\n",
      "regret.clm.who <- clm(response ~ trt + with_who, data=s, Hess = TRUE)\n"
     ],
     "language": "python",
     "metadata": {},
     "outputs": [],
     "prompt_number": 108
    },
    {
     "cell_type": "code",
     "collapsed": false,
     "input": [
      "%%R\n",
      "print(summary(regret.olr.who))\n",
      "print(summary(regret.clm.who))\n",
      "plot_odds(regret.olr.who,'Odds ratios and CI')   \n"
     ],
     "language": "python",
     "metadata": {},
     "outputs": [
      {
       "metadata": {},
       "output_type": "display_data",
       "text": [
        "Call:\n",
        "polr(formula = response ~ trt + with_who, data = s, Hess = TRUE)\n",
        "\n",
        "Coefficients:\n",
        "            Value Std. Error t value\n",
        "trtB      -1.4653     0.6318 -2.3191\n",
        "with_who3  0.5489     1.1004  0.4989\n",
        "with_who4 -0.8594     0.8326 -1.0323\n",
        "\n",
        "Intercepts:\n",
        "    Value   Std. Error t value\n",
        "1|2 -2.7809  0.9243    -3.0086\n",
        "2|3 -1.6150  0.8397    -1.9233\n",
        "3|4  0.2463  0.8054     0.3058\n",
        "\n",
        "Residual Deviance: 98.49089 \n",
        "AIC: 110.4909 \n",
        "formula: response ~ trt + with_who\n",
        "data:    s\n",
        "\n",
        " link  threshold nobs logLik AIC    niter max.grad cond.H \n",
        " logit flexible  40   -49.25 110.49 5(0)  6.33e-12 5.5e+01\n",
        "\n",
        "Coefficients:\n",
        "          Estimate Std. Error z value Pr(>|z|)  \n",
        "trtB       -1.4654     0.6318  -2.319   0.0204 *\n",
        "with_who3   0.5490     1.1003   0.499   0.6178  \n",
        "with_who4  -0.8592     0.8325  -1.032   0.3021  \n",
        "---\n",
        "Signif. codes:  0 \u2018***\u2019 0.001 \u2018**\u2019 0.01 \u2018*\u2019 0.05 \u2018.\u2019 0.1 \u2018 \u2019 1\n",
        "\n",
        "Threshold coefficients:\n",
        "    Estimate Std. Error z value\n",
        "1|2  -2.7806     0.9243  -3.008\n",
        "2|3  -1.6148     0.8397  -1.923\n",
        "3|4   0.2465     0.8054   0.306\n",
        "Waiting for profiling to be done...\n"
       ]
      },
      {
       "metadata": {},
       "output_type": "display_data",
       "png": "[encoded data removed]"
      }
     ],
     "prompt_number": 109
    },
    {
     "cell_type": "markdown",
     "metadata": {},
     "source": [
      "## ~~Effects on Regret with Who as a Fixed variable and when_to as Random~~"
     ]
    },
    {
     "cell_type": "markdown",
     "metadata": {},
     "source": [
      "Not needed anymore because bot hvariables are confounded"
     ]
    },
    {
     "cell_type": "code",
     "collapsed": false,
     "input": [
      "%%R -i new_data_full\n",
      "\n",
      "s <- data.frame(new_data_full)\n",
      "s$response <- factor(s$response)\n",
      "s$trt <- factor(s$trt)\n",
      "s$sequ <- factor(s$sequ)\n",
      "s$period <- factor(s$period)\n",
      "s$when_to <- (s$when_to)\n",
      "s$with_who <- (s$with_who)\n",
      "\n",
      "regret.mm.who <- clmm(response ~ sequ  + trt + period  + with_who + (1 | when_to) + (1 | id:sequ), s, link=\"loglog\", Hess = TRUE, threshold=\"flexible\")\n",
      "regret.mm   <- clmm(response ~ sequ  + trt + period  + (1 | id:sequ), s, link=\"loglog\", Hess = TRUE,  threshold=\"flexible\")\n"
     ],
     "language": "python",
     "metadata": {},
     "outputs": [],
     "prompt_number": 19
    },
    {
     "cell_type": "code",
     "collapsed": false,
     "input": [
      "%%R\n",
      "\n",
      "print(\"***********\")\n",
      "print(summary(regret.mm))\n",
      "print(\"***********\")\n",
      "print(summary(regret.mm.who))\n",
      "print(\"***********\")\n",
      "\n",
      "\n",
      "print(\"------------\")\n",
      "print(anova(regret.mm.who, regret.mm))\n"
     ],
     "language": "python",
     "metadata": {},
     "outputs": [
      {
       "metadata": {},
       "output_type": "display_data",
       "text": [
        "[1] \"***********\"\n",
        "Cumulative Link Mixed Model fitted with the Laplace approximation\n",
        "\n",
        "formula: response ~ sequ + trt + period + (1 | id:sequ)\n",
        "data:    s\n",
        "\n",
        " link   threshold nobs logLik  AIC    niter     max.grad cond.H \n",
        " loglog flexible  80   -108.93 233.86 409(2095) 3.77e-05 3.4e+01\n",
        "\n",
        "Random effects:\n",
        " Groups  Name        Variance Std.Dev.\n",
        " id:sequ (Intercept) 0.8632   0.9291  \n",
        "Number of groups:  id:sequ 40 \n",
        "\n",
        "Coefficients:\n",
        "        Estimate Std. Error z value Pr(>|z|)\n",
        "sequBA   -0.6920     0.4315  -1.604    0.109\n",
        "trtB     -0.4506     0.2784  -1.618    0.106\n",
        "period2  -0.2523     0.2812  -0.897    0.370\n",
        "\n",
        "Threshold coefficients:\n",
        "    Estimate Std. Error z value\n",
        "1|2  -2.4094     0.5485  -4.393\n",
        "2|3  -1.1685     0.4212  -2.774\n",
        "3|4   0.1343     0.3577   0.375\n",
        "4|5   1.6984     0.5811   2.923\n",
        "[1] \"***********\"\n",
        "Cumulative Link Mixed Model fitted with the Laplace approximation\n",
        "\n",
        "formula: response ~ sequ + trt + period + with_who + (1 | when_to) + (1 |  \n",
        "    id:sequ)\n",
        "data:    s\n",
        "\n",
        " link   threshold nobs logLik  AIC    niter     max.grad cond.H \n",
        " loglog flexible  80   -104.90 229.80 499(2001) 2.05e-05 2.0e+03\n",
        "\n",
        "Random effects:\n",
        " Groups  Name        Variance Std.Dev.\n",
        " id:sequ (Intercept) 0.6388   0.7993  \n",
        " when_to (Intercept) 0.0000   0.0000  \n",
        "Number of groups:  id:sequ 40,  when_to 5 \n",
        "\n",
        "Coefficients:\n",
        "         Estimate Std. Error z value Pr(>|z|)  \n",
        "sequBA    -0.8431     0.3929  -2.146   0.0319 *\n",
        "trtB      -0.4759     0.2977  -1.598   0.1099  \n",
        "period2   -0.2757     0.2915  -0.946   0.3442  \n",
        "with_who  -0.3229     0.2851  -1.133   0.2574  \n",
        "---\n",
        "Signif. codes:  0 \u2018***\u2019 0.001 \u2018**\u2019 0.01 \u2018*\u2019 0.05 \u2018.\u2019 0.1 \u2018 \u2019 1\n",
        "\n",
        "Threshold coefficients:\n",
        "    Estimate Std. Error z value\n",
        "1|2 -2.68423    1.12447  -2.387\n",
        "2|3 -1.57259    1.06892  -1.471\n",
        "3|4 -0.04802    1.05131  -0.046\n",
        "4|5  2.83286    1.42636   1.986\n",
        "[1] \"***********\"\n",
        "[1] \"------------\"\n",
        "Likelihood ratio tests of cumulative link models:\n",
        " \n",
        "              formula:                                                                 \n",
        "regret.mm     response ~ sequ + trt + period + (1 | id:sequ)                           \n",
        "regret.mm.who response ~ sequ + trt + period + with_who + (1 | when_to) + (1 | id:sequ)\n",
        "              link:  threshold:\n",
        "regret.mm     loglog flexible  \n",
        "regret.mm.who loglog flexible  \n",
        "\n",
        "              no.par    AIC  logLik LR.stat df Pr(>Chisq)  \n",
        "regret.mm          8 233.86 -108.93                        \n",
        "regret.mm.who     10 229.80 -104.90  8.0609  2    0.01777 *\n",
        "---\n",
        "Signif. codes:  0 \u2018***\u2019 0.001 \u2018**\u2019 0.01 \u2018*\u2019 0.05 \u2018.\u2019 0.1 \u2018 \u2019 1\n"
       ]
      }
     ],
     "prompt_number": 20
    },
    {
     "cell_type": "markdown",
     "metadata": {},
     "source": [
      "## CMML Model"
     ]
    },
    {
     "cell_type": "code",
     "collapsed": false,
     "input": [
      "%%R -i new_data_full -o mm1\n",
      "library(ordinal)\n",
      "library(MASS)\n",
      "\n",
      "s <- data.frame(new_data_full)\n",
      "s$response <- factor(s$response)\n",
      "s$trt <- factor(s$trt)\n",
      "s$sequ <- factor(s$sequ)\n",
      "s$period <- factor(s$period)\n",
      "s$when_to <- factor(s$when_to)\n",
      "s$with_who <- as.numeric(s$with_who)\n",
      "\n",
      "\n",
      "##mm1 <- clmm(response ~ sequ  + trt + period   + (1 | id:sequ), s, link=\"loglog\", Hess = TRUE, nAGQ = 10 )\n",
      "mm1 <- clmm(response ~ sequ  + trt + period  + (1 | when_to) + (1 | id:sequ), s, link=\"loglog\", Hess = TRUE, threshold=\"symmetric\")\n",
      "mm2 <- clmm(response ~ sequ  + period  + (1 | when_to) + (1 | id:sequ), s, link=\"loglog\", Hess = TRUE, threshold=\"symmetric\")\n",
      "\n",
      "##step <- stepAIC(mm1)\n",
      "\n",
      "#print ((step$anova ))\n",
      "\n",
      "print (summary(mm1))\n",
      "print(exp(cbind(OR =coef(mm1), confint(mm1))))\n",
      "\n",
      "source('regression_plots.r')\n",
      "plot_odds(mm1,'Odds ratios and CI')\n",
      "\n",
      "print(anova(mm1,mm2))\n"
     ],
     "language": "python",
     "metadata": {},
     "outputs": [
      {
       "metadata": {},
       "output_type": "display_data",
       "text": [
        "Cumulative Link Mixed Model fitted with the Laplace approximation\n",
        "\n",
        "formula: response ~ sequ + trt + period + (1 | when_to) + (1 | id:sequ)\n",
        "data:    s\n",
        "\n",
        " link   threshold nobs logLik  AIC    niter     max.grad cond.H \n",
        " loglog symmetric 80   -108.24 232.47 389(1931) 4.40e-05 2.1e+01\n",
        "\n",
        "Random effects:\n",
        " Groups  Name        Variance Std.Dev.\n",
        " id:sequ (Intercept) 1.094    1.046   \n",
        " when_to (Intercept) 0.000    0.000   \n",
        "Number of groups:  id:sequ 40,  when_to 5 \n",
        "\n",
        "Coefficients:\n",
        "        Estimate Std. Error z value Pr(>|z|)  \n",
        "sequBA   -0.9581     0.4577  -2.093   0.0363 *\n",
        "trtB     -0.6015     0.3053  -1.970   0.0488 *\n",
        "period2  -0.3461     0.3049  -1.135   0.2564  \n",
        "---\n",
        "Signif. codes:  0 \u2018***\u2019 0.001 \u2018**\u2019 0.01 \u2018*\u2019 0.05 \u2018.\u2019 0.1 \u2018 \u2019 1\n",
        "\n",
        "Threshold coefficients:\n",
        "          Estimate Std. Error z value\n",
        "central.1  -0.3572     0.3939  -0.907\n",
        "central.2   1.2480     0.4277   2.918\n",
        "spacing.1   1.4904     0.2933   5.081\n",
        "                 OR     2.5 %    97.5 %\n",
        "central.1 0.6996502 0.3233064 1.5140757\n",
        "central.2 3.4832385 1.5064894 8.0537907\n",
        "spacing.1 4.4390441 2.4980411 7.8882261\n",
        "sequBA    0.3836279 0.1564207 0.9408623\n",
        "trtB      0.5479695 0.3011972 0.9969238\n",
        "period2   0.7074380 0.3891574 1.2860311\n",
        "Likelihood ratio tests of cumulative link models:\n",
        " \n",
        "    formula:                                                       link: \n",
        "mm2 response ~ sequ + period + (1 | when_to) + (1 | id:sequ)       loglog\n",
        "mm1 response ~ sequ + trt + period + (1 | when_to) + (1 | id:sequ) loglog\n",
        "    threshold:\n",
        "mm2 symmetric \n",
        "mm1 symmetric \n",
        "\n",
        "    no.par    AIC  logLik LR.stat df Pr(>Chisq)  \n",
        "mm2      7 234.47 -110.23                        \n",
        "mm1      8 232.47 -108.24  3.9965  1    0.04559 *\n",
        "---\n",
        "Signif. codes:  0 \u2018***\u2019 0.001 \u2018**\u2019 0.01 \u2018*\u2019 0.05 \u2018.\u2019 0.1 \u2018 \u2019 1\n"
       ]
      }
     ],
     "prompt_number": 21
    },
    {
     "cell_type": "code",
     "collapsed": false,
     "input": [
      " %%R -i full_set -o mm1 -o mm2\n",
      "library(ordinal)\n",
      "\n",
      "s <- data.frame(new_data_full)\n",
      "s$response <- factor(s$response)\n",
      "s$trt <- factor(s$trt)\n",
      "s$sequ <- factor(s$sequ)\n",
      "s$period <- factor(s$period)\n",
      "s$when_to <- factor(s$when_to)\n",
      "s$with_who <- as.numeric(s$with_who)\n",
      "\n",
      "\n",
      "mm1 <- clmm(response ~ sequ  + trt + period   + (1 | id:sequ), s, link=\"loglog\", Hess = TRUE, nAGQ = 7, threshold=\"symmetric\" )\n",
      "mm2 <- clmm(response ~ sequ  + period + (1 | id:sequ), s, link=\"loglog\", Hess = TRUE, nAGQ = 7, threshold=\"symmetric\" )\n",
      "    \n",
      "\n",
      "    print (summary(mm1))\n",
      "##    exp(cbind(OR =coef(mm2), confint(mm2)))\n",
      "plot_odds(mm1,'Odds ratios and CI')   "
     ],
     "language": "python",
     "metadata": {},
     "outputs": [
      {
       "metadata": {},
       "output_type": "display_data",
       "text": [
        "Cumulative Link Mixed Model fitted with the adaptive Gauss-Hermite \n",
        "quadrature approximation with 7 quadrature points \n",
        "\n",
        "formula: response ~ sequ + trt + period + (1 | id:sequ)\n",
        "data:    s\n",
        "\n",
        " link   threshold nobs logLik  AIC    niter     max.grad cond.H \n",
        " loglog symmetric 80   -109.06 232.12 339(1684) 1.99e-04 2.5e+01\n",
        "\n",
        "Random effects:\n",
        " Groups  Name        Variance Std.Dev.\n",
        " id:sequ (Intercept) 0.9778   0.9888  \n",
        "Number of groups:  id:sequ 40 \n",
        "\n",
        "Coefficients:\n",
        "        Estimate Std. Error z value Pr(>|z|)\n",
        "sequBA   -0.7443     0.4558  -1.633    0.102\n",
        "trtB     -0.4495     0.2798  -1.607    0.108\n",
        "period2  -0.2659     0.2835  -0.938    0.348\n",
        "\n",
        "Threshold coefficients:\n",
        "          Estimate Std. Error z value\n",
        "central.1  -1.1622     0.4281  -2.715\n",
        "central.2   0.1747     0.3627   0.482\n",
        "spacing.1   1.3619     0.2967   4.590\n"
       ]
      },
      {
       "metadata": {},
       "output_type": "display_data",
       "png": "[encoded data removed]"
      }
     ],
     "prompt_number": 22
    },
    {
     "cell_type": "code",
     "collapsed": false,
     "input": [
      "%%R \n",
      "anova(mm2, mm1)"
     ],
     "language": "python",
     "metadata": {},
     "outputs": [
      {
       "metadata": {},
       "output_type": "display_data",
       "text": [
        "Likelihood ratio tests of cumulative link models:\n",
        " \n",
        "    formula:                                       link:  threshold:\n",
        "mm2 response ~ sequ + period + (1 | id:sequ)       loglog symmetric \n",
        "mm1 response ~ sequ + trt + period + (1 | id:sequ) loglog symmetric \n",
        "\n",
        "    no.par    AIC  logLik LR.stat df Pr(>Chisq)\n",
        "mm2      6 232.78 -110.39                      \n",
        "mm1      7 232.12 -109.06  2.6618  1     0.1028\n"
       ]
      }
     ],
     "prompt_number": 23
    },
    {
     "cell_type": "markdown",
     "metadata": {},
     "source": [
      "> The significant effect of the treatment is interesting it probabibly means that the impression give by the first treatment is important. Since the relation is positive this means that the AB sequence tends to bring more regretful responses than the BA sequecen?"
     ]
    },
    {
     "cell_type": "code",
     "collapsed": false,
     "input": [
      "%%R -i mm1\n",
      "\n",
      "library(texreg)\n",
      "source('clmm_extractor.r')\n",
      "\n",
      "##screenreg\n",
      "\n",
      "screenreg(mm1, ci.force = TRUE, ci.test = 1, ci.force.level = 0.95 , float.pos = \"tb\",\n",
      "      caption = \"Enforcing confidence intervals.\",  use.packages = FALSE, single.row = FALSE,\n",
      "      custom.model.names = c(\"Regret\"),\n",
      "      )"
     ],
     "language": "python",
     "metadata": {},
     "outputs": [
      {
       "output_type": "stream",
       "stream": "stdout",
       "text": [
        "Error in validityMethod(object) : \n",
        "  Either standard errors or confidence intervals must be present.\n",
        "In addition: Warning message:\n",
        "package \u2018ggplot2\u2019 was built under R version 3.1.3\n",
        "Error in validityMethod(object) : \n",
        "  Either standard errors or confidence intervals must be present.\n"
       ]
      }
     ],
     "prompt_number": 24
    },
    {
     "cell_type": "markdown",
     "metadata": {},
     "source": [
      ">sequence group effect is confirmed. what it means we can only use the first period. but actually we find an effect even then"
     ]
    },
    {
     "cell_type": "code",
     "collapsed": false,
     "input": [],
     "language": "python",
     "metadata": {},
     "outputs": [],
     "prompt_number": 24
    },
    {
     "cell_type": "code",
     "collapsed": false,
     "input": [],
     "language": "python",
     "metadata": {},
     "outputs": []
    }
   ],
   "metadata": {}
  }
 ]
}