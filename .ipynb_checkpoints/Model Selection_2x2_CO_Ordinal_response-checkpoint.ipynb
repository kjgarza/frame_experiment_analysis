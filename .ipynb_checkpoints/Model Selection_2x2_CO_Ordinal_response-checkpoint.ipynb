{
 "metadata": {
  "name": "",
  "signature": "sha256:65d92081128e55386dd43d4223f9946a88fa5db52c21e01485ca474a9e502dad"
 },
 "nbformat": 3,
 "nbformat_minor": 0,
 "worksheets": [
  {
   "cells": [
    {
     "cell_type": "markdown",
     "metadata": {},
     "source": [
      "#Model Selection for 2x2 Crossover Experiment with Ordinal response\n",
      "\n",
      "<i>Created by Kristian G</i>"
     ]
    },
    {
     "cell_type": "code",
     "collapsed": false,
     "input": [
      "%matplotlib inline\n",
      "import numpy as np\n",
      "import pandas as pd\n",
      "import matplotlib.pyplot as plt\n",
      "from extract_data import datatoFrame\n",
      "from code_data import *\n",
      "from ggplot import *\n",
      "import json\n",
      "from frame_experiment_table import FrameExperimentTable\n",
      "%pylab inline\n",
      "# %load_ext rmagic\n",
      "%load_ext rpy2.ipython\n",
      "import pylab"
     ],
     "language": "python",
     "metadata": {},
     "outputs": [
      {
       "output_type": "stream",
       "stream": "stdout",
       "text": [
        "Populating the interactive namespace from numpy and matplotlib\n"
       ]
      },
      {
       "output_type": "stream",
       "stream": "stderr",
       "text": [
        "WARNING: pylab import has clobbered these variables: ['xlim', 'ylim']\n",
        "`%matplotlib` prevents importing * from pylab and numpy\n"
       ]
      }
     ],
     "prompt_number": 1
    },
    {
     "cell_type": "code",
     "collapsed": false,
     "input": [
      "%%R\n",
      "rm(list=ls())"
     ],
     "language": "python",
     "metadata": {},
     "outputs": [],
     "prompt_number": 2
    },
    {
     "cell_type": "markdown",
     "metadata": {},
     "source": [
      "New need to select the model for a 2x2 Crossover Experiment with Ordinal response we are considering:\n",
      "\n",
      "- Mixed Models\n",
      "- Cumulative Link Mixed Models"
     ]
    },
    {
     "cell_type": "code",
     "collapsed": false,
     "input": [
      "c = FrameExperimentTable('logs/data_scenario_changed')\n",
      "# c.add_records('logs/data_two_records','new')\n",
      "# c.add_records_csv('logs/data_scramble_filled_csv.csv')\n",
      "# c.add_records('logs/data_incremental_file','new')\n",
      "c.filter_noise()\n",
      "c.code_for_stat_ana()\n",
      "c.code_survey_numeric()\n",
      "to_SAS = c.get_rm_ws_dataframe()\n"
     ],
     "language": "python",
     "metadata": {},
     "outputs": [
      {
       "output_type": "stream",
       "stream": "stdout",
       "text": [
        "(55, 40)\n",
        "classify_field - Fields Excluded"
       ]
      },
      {
       "output_type": "stream",
       "stream": "stdout",
       "text": [
        "\n",
        "(6,)\n",
        "(55, 42)\n",
        "New Usability Columns\n",
        "(55, 44)\n",
        "(45, 44)\n",
        "rm_ws_dataframe - Droping missing records\n",
        "(45, 5)\n",
        "rm_ws_dataframe - remove missing data \n",
        "(45, 5)\n",
        "rm_ws_dataframe - no duplicates "
       ]
      },
      {
       "output_type": "stream",
       "stream": "stdout",
       "text": [
        "\n",
        "(45, 6)\n"
       ]
      },
      {
       "output_type": "stream",
       "stream": "stderr",
       "text": [
        "/Users/kristian/miniconda/lib/python2.7/site-packages/pandas/util/decorators.py:81: FutureWarning: the 'cols' keyword is deprecated, use 'subset' instead\n",
        "  warnings.warn(msg, FutureWarning)\n"
       ]
      }
     ],
     "prompt_number": 3
    },
    {
     "cell_type": "markdown",
     "metadata": {},
     "source": [
      "## Mixed Model using LMER"
     ]
    },
    {
     "cell_type": "code",
     "collapsed": false,
     "input": [
      "%%R -i to_SAS \n",
      "library(lme4)\n",
      "\n",
      "\n",
      "getlmer<- function(to_SAS){\n",
      "\n",
      "    s <- data.frame(to_SAS)\n",
      "    s$response <- factor(s$response)\n",
      "    s$trt <- factor(s$trt)\n",
      "    s$sequ <- factor(s$sequ)\n",
      "    s$period <- factor(s$period)\n",
      "    ##s <- within(s, Grp <- factor(id:sequ))\n",
      "    ##options(contrasts = c(factor = \"contr.SAS\",ordered = \"contr.poly\")) \n",
      "    ##mm1 <- lmer(response ~ sequ  + trt + period  + (sequ:trt) + (1 | id:sequ), s )\n",
      "    mm1 <- lmer(response ~ sequ  + trt + period  +  (1 | id:sequ), s )\n",
      "    print(summary(mm1))\n",
      "    print(anova(mm1))\n",
      "    plot(fitted(mm1),residuals(mm1))\n",
      "    res_lme=residuals(mm1)\n",
      "    ##plot(res_lme)\n",
      "    ##qqnorm(res_lme)\n",
      "    ##qqline(res_lme)\n",
      "}\n",
      "\n",
      "model1<- getlmer(to_SAS)\n"
     ],
     "language": "python",
     "metadata": {},
     "outputs": [
      {
       "metadata": {},
       "output_type": "display_data",
       "text": [
        "Loading required package: Matrix\n",
        "Loading required package: Rcpp\n",
        "\n",
        "Attaching package: \u2018lme4\u2019\n",
        "\n",
        "The following objects are masked from \u2018package:ordinal\u2019:\n",
        "\n",
        "    ranef, VarCorr\n",
        "\n",
        "Linear mixed model fit by REML ['lmerMod']\n",
        "Formula: response ~ sequ + trt + period + (1 | id:sequ)\n",
        "   Data: s\n",
        "\n",
        "REML criterion at convergence: 142.3\n",
        "\n",
        "Scaled residuals: \n",
        "     Min       1Q   Median       3Q      Max \n",
        "-2.84498 -0.30152  0.06393  0.18848  2.13695 \n",
        "\n",
        "Random effects:\n",
        " Groups   Name        Variance Std.Dev.\n",
        " id:sequ  (Intercept) 0.2478   0.4978  \n",
        " Residual             0.1119   0.3345  \n",
        "Number of obs: 90, groups:  id:sequ, 45\n",
        "\n",
        "Fixed effects:\n",
        "            Estimate Std. Error t value\n",
        "(Intercept)  2.93750    0.12378  23.732\n",
        "sequAB      -0.12798    0.16468  -0.777\n",
        "trtA        -0.18750    0.07068  -2.653\n",
        "period1     -0.14583    0.07068  -2.063\n",
        "\n",
        "Correlation of Fixed Effects:\n",
        "        (Intr) sequAB trtA  \n",
        "sequAB  -0.621              \n",
        "trtA    -0.305  0.000       \n",
        "period1 -0.305  0.000  0.067\n",
        "Analysis of Variance Table\n",
        "       Df  Sum Sq Mean Sq F value\n",
        "sequ    1 0.06759 0.06759  0.6039\n",
        "trt     1 0.71111 0.71111  6.3538\n",
        "period  1 0.47639 0.47639  4.2566\n"
       ]
      },
      {
       "metadata": {},
       "output_type": "display_data",
       "png": "[encoded data removed]"
      }
     ],
     "prompt_number": 5
    },
    {
     "cell_type": "markdown",
     "metadata": {},
     "source": [
      "## Mixed Model using CLMM"
     ]
    },
    {
     "cell_type": "code",
     "collapsed": false,
     "input": [
      "to_SAS = c.get_rm_ws_dataframe()\n"
     ],
     "language": "python",
     "metadata": {},
     "outputs": [
      {
       "output_type": "stream",
       "stream": "stdout",
       "text": [
        "rm_ws_dataframe - Droping missing records\n",
        "(45, 5)\n",
        "rm_ws_dataframe - remove missing data \n",
        "(45, 5)\n",
        "rm_ws_dataframe - no duplicates \n",
        "(45, 6)\n"
       ]
      }
     ],
     "prompt_number": 13
    },
    {
     "cell_type": "code",
     "collapsed": false,
     "input": [
      "%%R -i to_SAS\n",
      "library(ordinal)\n",
      "print(ls())\n",
      "\n",
      "f <- data.frame(to_SAS)\n",
      "f$response <- factor(f$response)\n",
      "f$trt <- factor(f$trt)\n",
      "f$sequ <- factor(f$sequ)\n",
      "f$period <- factor(f$period)\n",
      "mm2 <- clmm(response ~ sequ  + trt + period  + (1 | id:sequ), f,link=\"probit\",  Hess = TRUE, nAGQ = 10  )\n",
      "\n",
      "\n",
      "print (summary(mm2))\n",
      "exp(cbind(OR =coef(mm2), confint(mm2)))\n",
      "\n",
      "print(exp(cbind(OR =coef(mm2), confint(mm2))))\n",
      "    \n",
      "source('regression_plots.r')\n",
      "\n",
      "plot_odds(model2,'Odds ratios and CI')\n"
     ],
     "language": "python",
     "metadata": {},
     "outputs": [
      {
       "metadata": {},
       "output_type": "display_data",
       "text": [
        "[1] \"f\"         \"getCLMM\"   \"mm2\"       \"model2\"    \"plot_odds\" \"to_SAS\"   \n",
        "Likelihood ratio tests of cumulative link models:\n",
        " \n",
        "     formula:                                       link:  threshold:\n",
        "mm2  response ~ sequ + trt + period + (1 | id:sequ) probit flexible  \n",
        "mmx2 response ~ sequ + trt + period + (1 | id:sequ) logit  flexible  \n",
        "mmc2 response ~ sequ + trt + period + (1 | id:sequ) probit flexible  \n",
        "mmv2 response ~ sequ + trt + period + (1 | id:sequ) logit  flexible  \n",
        "\n",
        "     no.par     AIC  logLik LR.stat df Pr(>Chisq)\n",
        "mm2       6 101.115 -44.558                      \n",
        "mmx2      6 101.295 -44.648  -0.180  0           \n",
        "mmc2      6  85.043 -36.521  16.252  0           \n",
        "mmv2      6  87.926 -37.963  -2.883  0           \n",
        "Cumulative Link Mixed Model fitted with the adaptive Gauss-Hermite \n",
        "quadrature approximation with 10 quadrature points \n",
        "\n",
        "formula: response ~ sequ + trt + period + (1 | id:sequ)\n",
        "data:    f\n",
        "\n",
        " link   threshold nobs logLik AIC    niter     max.grad cond.H \n",
        " probit flexible  90   -44.56 101.12 237(1120) 1.72e-05 4.3e+02\n",
        "\n",
        "Random effects:\n",
        " Groups  Name        Variance Std.Dev.\n",
        " id:sequ (Intercept) 27.37    5.231   \n",
        "Number of groups:  id:sequ 45 \n",
        "\n",
        "Coefficients:\n",
        "        Estimate Std. Error z value Pr(>|z|)  \n",
        "sequBA    0.4738     1.6639   0.285   0.7758  \n",
        "trtB      1.5768     0.7549   2.089   0.0367 *\n",
        "period2   0.8697     0.6615   1.315   0.1886  \n",
        "---\n",
        "Signif. codes:  0 \u2018***\u2019 0.001 \u2018**\u2019 0.01 \u2018*\u2019 0.05 \u2018.\u2019 0.1 \u2018 \u2019 1\n",
        "\n",
        "Threshold coefficients:\n",
        "    Estimate Std. Error z value\n",
        "2|3   -5.705      2.057  -2.774\n",
        "3|4   -2.827      1.742  -1.622\n",
        "                 OR        2.5 %     97.5 %\n",
        "2|3     0.003327681 5.908457e-05  0.1874171\n",
        "3|4     0.059211972 1.946371e-03  1.8013303\n",
        "sequBA  1.606077871 6.158485e-02 41.8850794\n",
        "trtB    4.839456607 1.102215e+00 21.2484334\n",
        "period2 2.386210629 6.525770e-01  8.7254092\n"
       ]
      },
      {
       "metadata": {},
       "output_type": "display_data",
       "png": "[encoded data removed]"
      }
     ],
     "prompt_number": 12
    },
    {
     "cell_type": "markdown",
     "metadata": {},
     "source": [
      "##Package selection without structured data\n",
      "\n",
      "\n",
      "just with the fist measure so becasue none of these package is for structured data. Checkin http://www.r-bloggers.com/ordinal-data/\n",
      "\n",
      "We do some filtering and plot the data just to get an idea.\n"
     ]
    },
    {
     "cell_type": "code",
     "collapsed": false,
     "input": [
      "data =  to_SAS[to_SAS['period'] == '1' ]\n",
      "data =  to_SAS\n"
     ],
     "language": "python",
     "metadata": {},
     "outputs": [],
     "prompt_number": 23
    },
    {
     "cell_type": "code",
     "collapsed": false,
     "input": [
      "%%R -i data\n",
      "\n",
      "\n",
      "s <- data.frame(data)\n",
      "s$response <- factor(s$response)\n",
      "s$trt <- factor(s$trt)\n",
      "s$sequ <- factor(s$sequ)\n",
      "s$period <- factor(s$period)\n",
      "\n",
      "\n",
      "mosaicplot(\n",
      "    xtabs( ~trt + factor(response,levels=1:4) ,data=s),\n",
      "    color=colorRampPalette(c('green','red'))(5),\n",
      "    main='',\n",
      "    ylab='Response')\n",
      "\n"
     ],
     "language": "python",
     "metadata": {},
     "outputs": [
      {
       "metadata": {},
       "output_type": "display_data",
       "png": "[encoded data removed]"
      }
     ],
     "prompt_number": 24
    },
    {
     "cell_type": "markdown",
     "metadata": {},
     "source": [
      "##polr\n",
      "The first statistically correct way to look at the data is polr from the MASS package. Unfortunately I dislike the output a bit. For instance, base level (cheese A) is ignored in some output. I am not so sure how to interpret the difference between cheese A and cheese B as -3 except for the observation that it is significant and cheese A is better. A thing not obvious documented is the possibility to get proportions for the categories as predictions. So, I can learn that the model has for cheese A 17% of the people in the top 2 box. I am sure top 2 box is a parameter I won't have to explain to my product manager. No confidence interval for it though."
     ]
    },
    {
     "cell_type": "code",
     "collapsed": false,
     "input": [
      "%%R \n",
      "library(MASS)\n",
      "Res.polr <- polr( response ~ trt, data=s )\n",
      "summary(Res.polr)\n"
     ],
     "language": "python",
     "metadata": {},
     "outputs": [
      {
       "metadata": {},
       "output_type": "display_data",
       "text": [
        "\n",
        "Re-fitting to get Hessian\n",
        "\n",
        "Call:\n",
        "polr(formula = response ~ trt, data = s)\n",
        "\n",
        "Coefficients:\n",
        "       Value Std. Error t value\n",
        "trtA -0.4994     0.4074  -1.226\n",
        "\n",
        "Intercepts:\n",
        "    Value   Std. Error t value\n",
        "1|2 -4.0593  0.6339    -6.4034\n",
        "2|3 -2.4247  0.3713    -6.5303\n",
        "3|4 -1.4251  0.3079    -4.6290\n",
        "\n",
        "Residual Deviance: 204.2038 \n",
        "AIC: 212.2038 \n"
       ]
      }
     ],
     "prompt_number": 25
    },
    {
     "cell_type": "code",
     "collapsed": false,
     "input": [
      "%%R \n",
      "confint(Res.polr)"
     ],
     "language": "python",
     "metadata": {},
     "outputs": [
      {
       "metadata": {},
       "output_type": "display_data",
       "text": [
        "Waiting for profiling to be done...\n",
        "\n",
        "Re-fitting to get Hessian\n",
        "\n",
        "     2.5 %     97.5 % \n",
        "-1.3158051  0.2918461 \n"
       ]
      }
     ],
     "prompt_number": 26
    },
    {
     "cell_type": "code",
     "collapsed": false,
     "input": [
      "%%R \n",
      "confint(glht(Res.polr,linfct=mcp(trt='B')))"
     ],
     "language": "python",
     "metadata": {},
     "outputs": [
      {
       "output_type": "stream",
       "stream": "stdout",
       "text": [
        "Error in confint(glht(Res.polr, linfct = mcp(trt = \"B\"))) : \n",
        "  could not find function \"glht\"\n"
       ]
      }
     ],
     "prompt_number": 27
    },
    {
     "cell_type": "markdown",
     "metadata": {},
     "source": [
      "##clm\n",
      "Clm is from the ordinal package. As this package is dedicated to ordinal data it is clearly a bit more advanced than polr. The package has the possibility to use mixed models and multiplicative scale effects. These are things I won't use now, but would like to use or look at once I have panelist data. For now clm function is enough. I am now able to make an overall statement about product differences (polr did not calculate the equivalent of model Res.clm0), although I might use 3 degrees of freedom rather than 1. There is also a confidence interval for the proportion subjects selecting a category.\n"
     ]
    },
    {
     "cell_type": "code",
     "collapsed": false,
     "input": [
      "%%R \n",
      "library(ordinal)\n",
      "Res.clm <- clm(response ~ trt,data=s)\n",
      "summary(Res.clm)"
     ],
     "language": "python",
     "metadata": {},
     "outputs": [
      {
       "metadata": {},
       "output_type": "display_data",
       "text": [
        "formula: response ~ trt\n",
        "data:    s\n",
        "\n",
        " link  threshold nobs logLik  AIC    niter max.grad cond.H \n",
        " logit flexible  134  -102.10 212.20 6(0)  4.50e-13 2.8e+01\n",
        "\n",
        "Coefficients:\n",
        "     Estimate Std. Error z value Pr(>|z|)\n",
        "trtA  -0.4993     0.4074  -1.226     0.22\n",
        "\n",
        "Threshold coefficients:\n",
        "    Estimate Std. Error z value\n",
        "1|2  -4.0589     0.6339  -6.404\n",
        "2|3  -2.4247     0.3713  -6.530\n",
        "3|4  -1.4250     0.3079  -4.629\n"
       ]
      }
     ],
     "prompt_number": 28
    },
    {
     "cell_type": "code",
     "collapsed": false,
     "input": [],
     "language": "python",
     "metadata": {},
     "outputs": [],
     "prompt_number": 28
    },
    {
     "cell_type": "code",
     "collapsed": false,
     "input": [],
     "language": "python",
     "metadata": {},
     "outputs": [],
     "prompt_number": 28
    },
    {
     "cell_type": "code",
     "collapsed": false,
     "input": [
      "%%R  \n",
      "confint(Res.clm)"
     ],
     "language": "python",
     "metadata": {},
     "outputs": [
      {
       "metadata": {},
       "output_type": "display_data",
       "text": [
        "        2.5 %    97.5 %\n",
        "trtA -1.31577 0.2918432\n"
       ]
      }
     ],
     "prompt_number": 29
    },
    {
     "cell_type": "code",
     "collapsed": false,
     "input": [],
     "language": "python",
     "metadata": {},
     "outputs": [],
     "prompt_number": 29
    },
    {
     "cell_type": "code",
     "collapsed": false,
     "input": [
      "%%R \n",
      "Res.clm0 <- clm(response ~ .,data=s)\n",
      "anova(Res.clm0,Res.clm)"
     ],
     "language": "python",
     "metadata": {},
     "outputs": [
      {
       "metadata": {},
       "output_type": "display_data",
       "text": [
        "Likelihood ratio tests of cumulative link models:\n",
        " \n",
        "         formula:       link: threshold:\n",
        "Res.clm  response ~ trt logit flexible  \n",
        "Res.clm0 response ~ .   logit flexible  \n",
        "\n",
        "         no.par    AIC   logLik LR.stat df Pr(>Chisq)    \n",
        "Res.clm       4 212.20 -102.102                          \n",
        "Res.clm0     71 181.51  -19.757  164.69 67  3.397e-10 ***\n",
        "---\n",
        "Signif. codes:  0 \u2018***\u2019 0.001 \u2018**\u2019 0.01 \u2018*\u2019 0.05 \u2018.\u2019 0.1 \u2018 \u2019 1\n"
       ]
      }
     ],
     "prompt_number": 30
    },
    {
     "cell_type": "code",
     "collapsed": false,
     "input": [],
     "language": "python",
     "metadata": {},
     "outputs": [],
     "prompt_number": 61
    },
    {
     "cell_type": "code",
     "collapsed": false,
     "input": [],
     "language": "python",
     "metadata": {},
     "outputs": []
    }
   ],
   "metadata": {}
  }
 ]
}