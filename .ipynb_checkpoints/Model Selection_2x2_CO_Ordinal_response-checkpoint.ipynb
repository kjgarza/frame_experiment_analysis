{
 "metadata": {
  "name": "",
  "signature": "sha256:8330f5ac62a90352733a28f5ddf7483de8aab423d89c80ad74eac778f68864db"
 },
 "nbformat": 3,
 "nbformat_minor": 0,
 "worksheets": [
  {
   "cells": [
    {
     "cell_type": "markdown",
     "metadata": {},
     "source": [
      "#Model Selection for 2x2 Crossover Experiment with Ordinal response\n",
      "\n",
      "<i>Created by Kristian G</i>"
     ]
    },
    {
     "cell_type": "markdown",
     "metadata": {},
     "source": [
      "| Study    | Binary | Ordinal | Hirar | Repeated | Crossover |\n",
      "|----------|--------|---------|-------|----------|-----------|\n",
      "| **Full**     |        |         |       |          |           |\n",
      "| CLMM     |        | x       | x     | x        | x         |\n",
      "| CLMM2    |        | x       | x     | x        | x         |\n",
      "| **Branches** |        |         |       |          |           |\n",
      "| POLR   (b)  |        | x       |       |          |           |\n",
      "| CLM    (w/b) | x      | x       | x     |          |           |\n",
      "| REPOLR (w)  |        | x       |       | x        |           |\n",
      "| WILCOX (w/b) | x      |         |       |          |           |\n",
      "| GLMER   (b)  | x      |         |     x  |          |           |\n",
      "| GLM     (w/b) | x      |         | x     | x        |           |\n"
     ]
    },
    {
     "cell_type": "markdown",
     "metadata": {},
     "source": [
      "# Full Analysis "
     ]
    },
    {
     "cell_type": "code",
     "collapsed": false,
     "input": [
      "%matplotlib inline\n",
      "import numpy as np\n",
      "import pandas as pd\n",
      "import matplotlib.pyplot as plt\n",
      "from extract_data import datatoFrame\n",
      "from code_data import *\n",
      "from ggplot import *\n",
      "import json\n",
      "from frame_experiment_table import FrameExperimentTable\n",
      "%pylab inline\n",
      "# %load_ext rmagic\n",
      "%load_ext rpy2.ipython\n",
      "import pylab"
     ],
     "language": "python",
     "metadata": {},
     "outputs": [
      {
       "output_type": "stream",
       "stream": "stdout",
       "text": [
        "Populating the interactive namespace from numpy and matplotlib\n"
       ]
      },
      {
       "output_type": "stream",
       "stream": "stderr",
       "text": [
        "WARNING: pylab import has clobbered these variables: ['xlim', 'ylim']\n",
        "`%matplotlib` prevents importing * from pylab and numpy\n"
       ]
      }
     ],
     "prompt_number": 1
    },
    {
     "cell_type": "code",
     "collapsed": false,
     "input": [
      "%%R\n",
      "rm(list=ls())"
     ],
     "language": "python",
     "metadata": {},
     "outputs": [],
     "prompt_number": 2
    },
    {
     "cell_type": "markdown",
     "metadata": {},
     "source": [
      "New need to select the model for a 2x2 Crossover Experiment with Ordinal response we are considering:\n",
      "\n",
      "- Mixed Models\n",
      "- Cumulative Link Mixed Models"
     ]
    },
    {
     "cell_type": "code",
     "collapsed": false,
     "input": [
      "new = 1\n",
      "if new == 0: \n",
      "    c = FrameExperimentTable('logs/data_incremental_file')\n",
      "    c.add_records('logs/data_two_records','new')\n",
      "#     c.add_records('logs/data_scenario_changed','new')\n",
      "    c.add_records_csv('logs/data_scramble_filled_csv.csv')\n",
      "else:\n",
      "    c = FrameExperimentTable('logs/data_scenario_changed')\n",
      "c.filter_noise()\n",
      "c.code_for_stat_ana()\n",
      "c.code_survey_numeric()\n",
      "new_data = c.get_rm_ws_dataframe()\n",
      "to_SAS = new_data"
     ],
     "language": "python",
     "metadata": {},
     "outputs": [
      {
       "output_type": "stream",
       "stream": "stdout",
       "text": [
        "(55, 40)\n",
        "classify_field - Fields Excluded"
       ]
      },
      {
       "output_type": "stream",
       "stream": "stdout",
       "text": [
        "\n",
        "(6,)\n",
        "(55, 42)\n",
        "New Usability Columns\n",
        "(55, 44)\n",
        "set([1, 2])"
       ]
      },
      {
       "output_type": "stream",
       "stream": "stdout",
       "text": [
        "\n",
        "multi\n",
        "set([1, 3])\n",
        "multi\n",
        "set([1])\n",
        "e-mail\n",
        "set([1, 2])\n",
        "multi\n",
        "set([1])\n",
        "e-mail\n",
        "set([3])\n",
        "self-depositing\n",
        "set([1, 3])\n",
        "multi\n",
        "set([2])\n",
        "self-depositing\n",
        "set([1, 2])\n",
        "multi\n",
        "set([3])\n",
        "self-depositing\n",
        "set([1])\n",
        "e-mail\n",
        "set([1, 2])\n",
        "multi\n",
        "set([2])\n",
        "self-depositing\n",
        "set([1])\n",
        "e-mail\n",
        "set([1, 2, 3])\n",
        "multi\n",
        "set([1])\n",
        "e-mail\n",
        "set([2])\n",
        "self-depositing\n",
        "set([2])\n",
        "self-depositing\n",
        "set([1, 3])\n",
        "multi\n",
        "set([1])\n",
        "e-mail\n",
        "set([4])\n",
        "Never\n",
        "set([1, 3])\n",
        "multi\n",
        "set([2])\n",
        "self-depositing\n",
        "set([4])\n",
        "Never\n",
        "set([2])\n",
        "self-depositing\n",
        "set([1, 3])\n",
        "multi\n",
        "set([2])\n",
        "self-depositing\n",
        "set([1, 3])\n",
        "multi\n",
        "set([2])\n",
        "self-depositing\n",
        "set([])\n",
        "\n",
        "set([2])\n",
        "self-depositing\n",
        "set([2])\n",
        "self-depositing\n",
        "set([1])\n",
        "e-mail\n",
        "set([2, 3])\n",
        "self-depositing\n",
        "set([2])\n",
        "self-depositing\n",
        "set([])\n",
        "\n",
        "set([4])\n",
        "Never\n",
        "set([])\n",
        "\n",
        "set([3, 4])\n",
        "Never\n",
        "set([])\n",
        "\n",
        "set([1, 2])\n",
        "multi\n",
        "set([1, 2])\n",
        "multi\n",
        "set([4])\n",
        "Never\n",
        "set([])\n",
        "\n",
        "set([1, 2, 3])\n",
        "multi\n",
        "set([2])\n",
        "self-depositing\n",
        "set([2])\n",
        "self-depositing\n",
        "set([3])\n",
        "self-depositing\n",
        "set([1, 2])\n",
        "multi\n",
        "set([1, 2, 3])\n",
        "multi\n",
        "set([])\n",
        "\n",
        "set([1, 2])\n",
        "multi\n",
        "set([2, 3])\n",
        "self-depositing\n",
        "set([2, 3])\n",
        "self-depositing\n",
        "set([1])\n",
        "e-mail\n",
        "Total\n",
        "55\n",
        "Removing testing\n",
        "2\n",
        "Removing Random\n",
        "5\n",
        "Removing Not Life Sciences\n",
        "2\n",
        "Removing Not enlgish skilled\n",
        "5\n",
        "Removing Not Honest\n",
        "6\n",
        "Removing unaware\n",
        "0\n",
        "Removing Not answer\n",
        "1\n",
        "Removing Not answer\n",
        "0\n",
        "Total\n",
        "34\n",
        "(40, 44)\n",
        "rm_ws_dataframe - Droping missing records\n",
        "(40, 5)\n",
        "rm_ws_dataframe - remove missing data "
       ]
      },
      {
       "output_type": "stream",
       "stream": "stdout",
       "text": [
        "\n",
        "(40, 5)\n",
        "rm_ws_dataframe - no duplicates \n",
        "(40, 6)\n",
        "4    63\n",
        "3    10\n",
        "2     7\n",
        "dtype: int64"
       ]
      },
      {
       "output_type": "stream",
       "stream": "stdout",
       "text": [
        "\n"
       ]
      },
      {
       "output_type": "stream",
       "stream": "stderr",
       "text": [
        "/Users/kristian/miniconda/lib/python2.7/site-packages/pandas/util/decorators.py:81: FutureWarning: the 'cols' keyword is deprecated, use 'subset' instead\n",
        "  warnings.warn(msg, FutureWarning)\n"
       ]
      }
     ],
     "prompt_number": 3
    },
    {
     "cell_type": "markdown",
     "metadata": {},
     "source": [
      "## Mixed Model using LMER"
     ]
    },
    {
     "cell_type": "code",
     "collapsed": false,
     "input": [
      "%%R -i to_SAS \n",
      "library(lme4)\n",
      "\n",
      "\n",
      "getlmer<- function(to_SAS){\n",
      "\n",
      "    s <- data.frame(to_SAS)\n",
      "    s$response <- factor(s$response)\n",
      "    s$trt <- factor(s$trt)\n",
      "    s$sequ <- factor(s$sequ)\n",
      "    s$period <- factor(s$period)\n",
      "    ##s <- within(s, Grp <- factor(id:sequ))\n",
      "    ##options(contrasts = c(factor = \"contr.SAS\",ordered = \"contr.poly\")) \n",
      "    ##mm1 <- lmer(response ~ sequ  + trt + period  + (sequ:trt) + (1 | id:sequ), s )\n",
      "    mm1 <- lmer(response ~ sequ  + trt + period  +  (1 | id:sequ), s )\n",
      "    print(summary(mm1))\n",
      "    print(anova(mm1))\n",
      "    plot(fitted(mm1),residuals(mm1))\n",
      "    res_lme=residuals(mm1)\n",
      "    ##plot(res_lme)\n",
      "    ##qqnorm(res_lme)\n",
      "    ##qqline(res_lme)\n",
      "}\n",
      "\n",
      "model1<- getlmer(to_SAS)\n"
     ],
     "language": "python",
     "metadata": {},
     "outputs": [
      {
       "metadata": {},
       "output_type": "display_data",
       "text": [
        "Linear mixed model fit by REML ['lmerMod']\n",
        "Formula: response ~ sequ + trt + period + (1 | id:sequ)\n",
        "   Data: s\n",
        "\n",
        "REML criterion at convergence: 133.1\n",
        "\n",
        "Scaled residuals: \n",
        "     Min       1Q   Median       3Q      Max \n",
        "-2.67879 -0.33948  0.07387  0.20946  1.96706 \n",
        "\n",
        "Random effects:\n",
        " Groups   Name        Variance Std.Dev.\n",
        " id:sequ  (Intercept) 0.2630   0.5128  \n",
        " Residual             0.1233   0.3512  \n",
        "Number of obs: 80, groups:  id:sequ, 40\n",
        "\n",
        "Fixed effects:\n",
        "            Estimate Std. Error t value\n",
        "(Intercept)  2.47368    0.14259  17.348\n",
        "sequBA       0.08020    0.18040   0.445\n",
        "trtB         0.20802    0.07863   2.646\n",
        "period2      0.16040    0.07863   2.040\n",
        "\n",
        "Correlation of Fixed Effects:\n",
        "        (Intr) sequBA trtB  \n",
        "sequBA  -0.664              \n",
        "trtB    -0.289  0.000       \n",
        "period2 -0.289  0.000  0.050\n",
        "Analysis of Variance Table\n",
        "       Df  Sum Sq Mean Sq F value\n",
        "sequ    1 0.02438 0.02438  0.1976\n",
        "trt     1 0.80000 0.80000  6.4864\n",
        "period  1 0.51328 0.51328  4.1617\n"
       ]
      },
      {
       "metadata": {},
       "output_type": "display_data",
       "png": "[encoded data removed]"
      }
     ],
     "prompt_number": 18
    },
    {
     "cell_type": "markdown",
     "metadata": {},
     "source": [
      "## Mixed Model using CLMM"
     ]
    },
    {
     "cell_type": "code",
     "collapsed": false,
     "input": [
      "to_SAS = c.get_rm_ws_dataframe()\n"
     ],
     "language": "python",
     "metadata": {},
     "outputs": [
      {
       "output_type": "stream",
       "stream": "stdout",
       "text": [
        "rm_ws_dataframe - Droping missing records\n",
        "(40, 5)\n",
        "rm_ws_dataframe - remove missing data \n",
        "(40, 5)\n",
        "rm_ws_dataframe - no duplicates \n",
        "(40, 6)\n",
        "4    63\n",
        "3    10\n",
        "2     7\n",
        "dtype: int64\n"
       ]
      }
     ],
     "prompt_number": 19
    },
    {
     "cell_type": "code",
     "collapsed": false,
     "input": [
      "%%R -i to_SAS\n",
      "library(ordinal)\n",
      "print(ls())\n",
      "\n",
      "f <- data.frame(to_SAS)\n",
      "f$response <- factor(f$response)\n",
      "f$trt <- factor(f$trt)\n",
      "f$sequ <- factor(f$sequ)\n",
      "f$period <- factor(f$period)\n",
      "mm2 <- clmm(response ~ sequ  + trt + period  + (1 | id:sequ), f,link=\"probit\",  Hess = TRUE, nAGQ = 10  )\n",
      "\n",
      "\n",
      "print (summary(mm2))\n",
      "exp(cbind(OR =coef(mm2), confint(mm2)))\n",
      "\n",
      "print(exp(cbind(OR =coef(mm2), confint(mm2))))\n",
      "    \n",
      "source('regression_plots.r')\n",
      "\n",
      "plot_odds(model2,'Odds ratios and CI')\n"
     ],
     "language": "python",
     "metadata": {},
     "outputs": [
      {
       "output_type": "stream",
       "stream": "stdout",
       "text": [
        "\n",
        "Attaching package: \u2018ordinal\u2019\n",
        "\n",
        "The following objects are masked from \u2018package:lme4\u2019:\n",
        "\n",
        "    ranef, VarCorr\n",
        "\n",
        "[1] \"getlmer\" \"model1\"  \"to_SAS\" \n",
        "Cumulative Link Mixed Model fitted with the adaptive Gauss-Hermite \n",
        "quadrature approximation with 10 quadrature points \n",
        "\n",
        "formula: response ~ sequ + trt + period + (1 | id:sequ)\n",
        "data:    f\n",
        "\n",
        " link   threshold nobs logLik AIC   niter     max.grad cond.H \n",
        " probit flexible  80   -40.05 92.11 355(1710) 1.63e-05 4.3e+03\n",
        "\n",
        "Random effects:\n",
        " Groups  Name        Variance Std.Dev.\n",
        " id:sequ (Intercept) 34.13    5.842   \n",
        "Number of groups:  id:sequ 40 \n",
        "\n",
        "Coefficients:\n",
        "        Estimate Std. Error z value Pr(>|z|)\n",
        "sequBA   -0.3559     2.7859  -0.128    0.898\n",
        "trtB      1.8763     1.3196   1.422    0.155\n",
        "period2   1.0895     0.8506   1.281    0.200\n",
        "\n",
        "Threshold coefficients:\n",
        "    Estimate Std. Error z value\n",
        "2|3   -6.629      6.430  -1.031\n",
        "3|4   -3.698      4.818  -0.767\n",
        "                 OR        2.5 %    97.5 %\n",
        "2|3     0.001321365 4.446036e-09 392.71037\n",
        "3|4     0.024780007 1.963860e-06 312.67433\n",
        "sequBA  0.700510347 2.979021e-03 164.72348\n",
        "trtB    6.529616168 4.916035e-01  86.72820\n",
        "period2 2.972859422 5.611951e-01  15.74834\n",
        "Error in coef(x) : object 'model2' not found\n",
        "In addition: Warning messages:\n",
        "1: package \u2018Matrix\u2019 was built under R version 3.1.3 \n",
        "2: package \u2018Rcpp\u2019 was built under R version 3.1.3 \n",
        "3: package \u2018ggplot2\u2019 was built under R version 3.1.3\n",
        "Error in coef(x) : object 'model2' not found\n"
       ]
      }
     ],
     "prompt_number": 6
    },
    {
     "cell_type": "markdown",
     "metadata": {},
     "source": [
      "## Mixed Model using CLMM2"
     ]
    },
    {
     "cell_type": "code",
     "collapsed": false,
     "input": [
      "%%R\n",
      "\n",
      "mm8 <- clmm2(response ~ sequ  + trt + period , random=id, data=f, link=\"probit\",Hess = TRUE, nAGQ = 10  )\n",
      "\n",
      "print(summary(mm8))\n",
      "print(exp(cbind(OR =coef(mm8), confint(mm8))))\n"
     ],
     "language": "python",
     "metadata": {},
     "outputs": [
      {
       "output_type": "stream",
       "stream": "stdout",
       "text": [
        "Cumulative Link Mixed Model fitted with the adaptive Gauss-Hermite \n",
        "quadrature approximation with 10 quadrature points\n",
        "\n",
        "Call:\n",
        "clmm2(location = response ~ sequ + trt + period, random = id, \n",
        "    data = f, Hess = TRUE, link = \"probit\", nAGQ = 10)\n",
        "\n",
        "Random effects:\n",
        "        Var  Std.Dev\n",
        "id 34.12868 5.841976\n",
        "\n",
        "Location coefficients:\n",
        "        Estimate Std. Error z value Pr(>|z|)\n",
        "sequBA  -0.3559   2.7859    -0.1278 0.89833 \n",
        "trtB     1.8763   1.3196     1.4219 0.15506 \n",
        "period2  1.0895   0.8506     1.2808 0.20025 \n",
        "\n",
        "No scale coefficients\n",
        "\n",
        "Threshold coefficients:\n",
        "    Estimate Std. Error z value\n",
        "2|3 -6.6291   6.4297    -1.0310\n",
        "3|4 -3.6977   4.8179    -0.7675\n",
        "\n",
        "log-likelihood: -40.05279 \n",
        "AIC: 92.10559 \n",
        "Condition number of Hessian: 4283.836 \n",
        "There were 50 or more warnings (use warnings() to see the first 50)\n",
        "Error in print(exp(cbind(OR = coef(mm8), confint(mm8)))) : \n",
        "  error in evaluating the argument 'x' in selecting a method for function 'print': Error in eval(expr, envir, enclos) : \n",
        "  NA/NaN/Inf in foreign function call (arg 9)\n"
       ]
      }
     ],
     "prompt_number": 7
    },
    {
     "cell_type": "code",
     "collapsed": false,
     "input": [
      "%%R\n",
      "\n",
      "mm2 <- clmm(response ~ sequ  + trt + period  + (1 | id:sequ), f,link=\"probit\",  Hess = TRUE, nAGQ = 10  )\n",
      "mmx2 <- clmm(response ~ sequ  + trt + period  + (1 | id:sequ), f,link=\"logit\",  Hess = TRUE, nAGQ = 10  )\n",
      "mmc2 <- clmm(response ~ sequ  + trt + period  + (1 | id:sequ), f,link=\"probit\",  Hess = TRUE )\n",
      "mmv2 <- clmm(response ~ sequ  + trt + period  + (1 | id:sequ), f,link=\"logit\",  Hess = TRUE  )\n",
      "\n",
      "print(anova(mm2,mmx2,mmc2,mmv2))\n",
      "print(coef(mm2))"
     ],
     "language": "python",
     "metadata": {},
     "outputs": [
      {
       "metadata": {},
       "output_type": "display_data",
       "text": [
        "Likelihood ratio tests of cumulative link models:\n",
        " \n",
        "     formula:                                       link:  threshold:\n",
        "mm2  response ~ sequ + trt + period + (1 | id:sequ) probit flexible  \n",
        "mmx2 response ~ sequ + trt + period + (1 | id:sequ) logit  flexible  \n",
        "mmc2 response ~ sequ + trt + period + (1 | id:sequ) probit flexible  \n",
        "mmv2 response ~ sequ + trt + period + (1 | id:sequ) logit  flexible  \n",
        "\n",
        "     no.par    AIC  logLik LR.stat df Pr(>Chisq)\n",
        "mm2       6 92.106 -40.053                      \n",
        "mmx2      6 92.172 -40.086 -0.0668  0           \n",
        "mmc2      6 76.947 -32.473 15.2256  0           \n",
        "mmv2      6 79.450 -33.725 -2.5028  0           \n",
        "       2|3        3|4     sequBA       trtB    period2 \n",
        "-6.6290903 -3.6977181 -0.3559461  1.8763482  1.0895243 \n"
       ]
      }
     ],
     "prompt_number": 8
    },
    {
     "cell_type": "markdown",
     "metadata": {},
     "source": [
      "##Binary Analysis\n",
      "\n",
      "Merging all other categories and making a binary logistics regsion.\n",
      "Using glm does not consider the structure"
     ]
    },
    {
     "cell_type": "code",
     "collapsed": false,
     "input": [
      "binary_data = c.get_rm_ws_dataframe()\n",
      "binary_data['response'] = binary_data['response'].replace([1,2,3],[1,1,1])\n",
      "binary_data['response'] = binary_data['response'].replace([4],[2])\n"
     ],
     "language": "python",
     "metadata": {},
     "outputs": [
      {
       "output_type": "stream",
       "stream": "stdout",
       "text": [
        "rm_ws_dataframe - Droping missing records\n",
        "(40, 5)\n",
        "rm_ws_dataframe - remove missing data \n",
        "(40, 5)\n",
        "rm_ws_dataframe - no duplicates \n",
        "(40, 6)\n",
        "4    63\n",
        "3    10\n",
        "2     7\n",
        "dtype: int64\n"
       ]
      }
     ],
     "prompt_number": 9
    },
    {
     "cell_type": "code",
     "collapsed": false,
     "input": [
      "%%R -i binary_data\n",
      "source('regression_plots.r')\n",
      "\n",
      "    s <- data.frame(binary_data)\n",
      "    s$response <- factor(s$response)\n",
      "    s$trt <- factor(s$trt)\n",
      "    s$sequ <- factor(s$sequ)\n",
      "    s$period <- factor(s$period)\n",
      "\n",
      "    ##s <- within(s, Grp <- factor(id:sequ))\n",
      "\n",
      "    mm4 <- glm(response ~ trt + period + sequ , data=s, family=\"binomial\" )\n",
      "\n",
      "    ##mm4 <-clmm(response ~ sequ  +trt+ period + (1 | id:sequ), s,  link=\"probit\",Hess = TRUE, nAGQ = 10 )\n",
      "\n",
      "    \n",
      "    print (summary(mm4))\n",
      "    exp(cbind(OR =coef(mm4), confint(mm4)))\n",
      "    print(exp(cbind(OR =coef(mm4), confint(mm4))))\n",
      "\n",
      "print(exp(coef(mm4)))\n",
      "plot_odds(mm4,'Odds ratios and CI')\n"
     ],
     "language": "python",
     "metadata": {},
     "outputs": [
      {
       "metadata": {},
       "output_type": "display_data",
       "text": [
        "\n",
        "Call:\n",
        "glm(formula = response ~ trt + period + sequ, family = \"binomial\", \n",
        "    data = s)\n",
        "\n",
        "Deviance Residuals: \n",
        "    Min       1Q   Median       3Q      Max  \n",
        "-1.9728   0.5553   0.5863   0.6501   0.9587  \n",
        "\n",
        "Coefficients:\n",
        "            Estimate Std. Error z value Pr(>|z|)\n",
        "(Intercept)   0.5390     0.4756   1.133    0.257\n",
        "trtB          0.7399     0.5744   1.288    0.198\n",
        "period2       0.3951     0.5744   0.688    0.492\n",
        "sequBA        0.5129     0.5744   0.893    0.372\n",
        "\n",
        "(Dispersion parameter for binomial family taken to be 1)\n",
        "\n",
        "    Null deviance: 82.760  on 79  degrees of freedom\n",
        "Residual deviance: 79.258  on 76  degrees of freedom\n",
        "AIC: 87.258\n",
        "\n",
        "Number of Fisher Scoring iterations: 4\n",
        "\n",
        "Waiting for profiling to be done...\n",
        "Waiting for profiling to be done...\n",
        "                  OR     2.5 %   97.5 %\n",
        "(Intercept) 1.714286 0.6896299 4.606565\n",
        "trtB        2.095747 0.6921230 6.814104\n",
        "period2     1.484488 0.4769332 4.717778\n",
        "sequBA      1.670049 0.5367496 5.309341\n",
        "(Intercept)        trtB     period2      sequBA \n",
        "   1.714286    2.095747    1.484488    1.670049 \n",
        "Waiting for profiling to be done...\n"
       ]
      },
      {
       "metadata": {},
       "output_type": "display_data",
       "png": "[encoded data removed]"
      }
     ],
     "prompt_number": 10
    },
    {
     "cell_type": "markdown",
     "metadata": {},
     "source": [
      "#Brancehs Analysis\n",
      "\n",
      "\n",
      "just with the fist measure so becasue none of these package is for structured data. Checkin http://www.r-bloggers.com/ordinal-data/\n",
      "\n",
      "We do some filtering and plot the data just to get an idea.\n"
     ]
    },
    {
     "cell_type": "markdown",
     "metadata": {},
     "source": [
      "## Repolr and polr\n",
      "For this design the main comparison is the first interaction Treatment vs Control. All the others interactions are controls to see there is not bias.\n",
      "\n",
      "- T1 = T2\n",
      "- C1 = C2\n",
      "\n",
      "\n",
      "The difference between T and C must be very similar\n",
      "\n",
      "T1-C1 = T1-C2 = C1-T2 = C2-T2\n",
      "\n",
      "\n",
      "Paired\n",
      "- T1-C2 \n",
      "- C1-T2 \n",
      "\n",
      "Unpaired\n",
      "- T1-C1\n",
      "- C2-T2\n",
      "\n",
      "### Repeated AB (C1-T2)"
     ]
    },
    {
     "cell_type": "code",
     "collapsed": false,
     "input": [
      "data_n = c.get_rm_ws_dataframe()\n",
      "data_n = c.generate_random_ws_df(105)\n",
      "data_n =  data_n[data_n['sequ'] == 'AB' ]\n",
      "# data_n = data_n.sort(['id','period'])\n",
      "data_n.response.value_counts()"
     ],
     "language": "python",
     "metadata": {},
     "outputs": [
      {
       "output_type": "stream",
       "stream": "stdout",
       "text": [
        "rm_ws_dataframe - Droping missing records\n",
        "(40, 5)\n",
        "rm_ws_dataframe - remove missing data \n",
        "(40, 5)\n",
        "rm_ws_dataframe - no duplicates \n",
        "(40, 6)\n",
        "4    63\n",
        "3    10\n",
        "2     7\n",
        "dtype: int64\n",
        "Number has to be even\n"
       ]
      },
      {
       "metadata": {},
       "output_type": "pyout",
       "prompt_number": 11,
       "text": [
        "1    16\n",
        "2    15\n",
        "4    11\n",
        "3    10\n",
        "dtype: int64"
       ]
      },
      {
       "metadata": {},
       "output_type": "display_data",
       "png": "[encoded data removed]",
       "text": [
        "<matplotlib.figure.Figure at 0x10c6981d0>"
       ]
      }
     ],
     "prompt_number": 11
    },
    {
     "cell_type": "code",
     "collapsed": false,
     "input": [
      "%%R -i data_n\n",
      "library(repolr)\n",
      "\n",
      "library(MASS)\n",
      "s <- data.frame(data_n)\n",
      "s$response <- factor(s$response)\n",
      "s$trt <- factor(s$trt)\n",
      "s$sequ <- factor(s$sequ)\n",
      "s$period <- factor(s$period)\n",
      "\n",
      "m <- polr(response~trt, data = s, Hess=TRUE, method = \"clogit\")\n",
      "summary(m)\n",
      "\n"
     ],
     "language": "python",
     "metadata": {},
     "outputs": [
      {
       "output_type": "stream",
       "stream": "stdout",
       "text": [
        "Loading required package: gee\n",
        "Error in match.arg(method) : \n",
        "  'arg' should be one of \u201clogistic\u201d, \u201cprobit\u201d, \u201cloglog\u201d, \u201ccloglog\u201d, \u201ccauchit\u201d\n",
        "In addition: Warning message:\n",
        "package \u2018MASS\u2019 was built under R version 3.1.3\n",
        "Error in match.arg(method) : \n",
        "  'arg' should be one of \u201clogistic\u201d, \u201cprobit\u201d, \u201cloglog\u201d, \u201ccloglog\u201d, \u201ccauchit\u201d\n"
       ]
      }
     ],
     "prompt_number": 12
    },
    {
     "cell_type": "markdown",
     "metadata": {},
     "source": [
      "### Repeated AB (T1-C2)"
     ]
    },
    {
     "cell_type": "code",
     "collapsed": false,
     "input": [
      "data_simu = c.generate_random_ws_df(85)"
     ],
     "language": "python",
     "metadata": {},
     "outputs": [
      {
       "output_type": "stream",
       "stream": "stdout",
       "text": [
        "Number has to be even\n"
       ]
      },
      {
       "metadata": {},
       "output_type": "display_data",
       "png": "[encoded data removed]",
       "text": [
        "<matplotlib.figure.Figure at 0x10c6b94d0>"
       ]
      }
     ],
     "prompt_number": 13
    },
    {
     "cell_type": "code",
     "collapsed": false,
     "input": [
      "# data_n = c.get_rm_ws_dataframe()\n",
      "# data_n = c.generate_random_ws_df(805)\n",
      "# data_n =  data_n[data_n['sequ'] == 'BA' ]\n",
      "# data_n = data_n.sort(['id','sequ','period']).reset_index()\n",
      "# data_n.response.value_counts()\n",
      "# # data_n['period'] = data_n['period'].replace(['1','2'],[1,2])\n"
     ],
     "language": "python",
     "metadata": {},
     "outputs": [],
     "prompt_number": 14
    },
    {
     "cell_type": "code",
     "collapsed": false,
     "input": [
      "%%R -i data_n\n",
      "library(vcd)\n",
      "s <- data.frame(data_n)\n",
      "#s$response <- factor(s$response)\n",
      "s$trt <- factor(s$trt)\n",
      "s$sequ <- factor(s$sequ)\n",
      "#s$period <- factor(s$period)\n",
      "mosaic(~response + period  +sequ   , data=s, shade=TRUE, legend=TRUE) "
     ],
     "language": "python",
     "metadata": {},
     "outputs": [
      {
       "metadata": {},
       "output_type": "display_data",
       "text": [
        "Loading required package: grid\n"
       ]
      },
      {
       "metadata": {},
       "output_type": "display_data",
       "png": "[encoded data removed]"
      }
     ],
     "prompt_number": 15
    },
    {
     "cell_type": "code",
     "collapsed": false,
     "input": [
      "%%R -i data_n\n",
      "library(repolr)\n",
      "\n",
      "s <- data.frame(data_n)\n",
      "#s$response <- factor(s$response)\n",
      "s$trt <- factor(s$trt)\n",
      "s$idx <- factor(s$id)\n",
      "s$sequ <- factor(s$sequ)\n",
      "#s$period <- factor(s$period)\n",
      "\n",
      "fitted.mod <- repolr(formula=response~sequ*period, subjects=\"idx\",\n",
      " data=s, categories=4, times=c(1,2), corstr=\"uniform\", alpha=0.5)\n",
      "summary(fitted.mod[[\"gee\"]])\n",
      "\n",
      "fitted.mod[[\"corr\"]]\n",
      "\n",
      "\n"
     ],
     "language": "python",
     "metadata": {},
     "outputs": [
      {
       "output_type": "stream",
       "stream": "stdout",
       "text": [
        " working correlation model:  uniform \n",
        "Beginning Cgee S-function, @(#) geeformula.q 4.13 98/01/27\n",
        "Error in gee(formula, data = exdata$exdata, id = exdata$exdata$subjects,  : \n",
        "  rank-deficient model matrix\n"
       ]
      }
     ],
     "prompt_number": 16
    },
    {
     "cell_type": "code",
     "collapsed": false,
     "input": [
      "%%R\n",
      "\n",
      "library(repolr)\n",
      "set.seed(1234)\n",
      "\n",
      "# create some dummy ordinal data and fit...\n",
      "T1 <- as.integer(runif(min=1,max=5,n=25))\n",
      "T2 <- as.integer(runif(min=1,max=5,n=25))\n",
      "R1 <- as.integer(runif(min=1,max=5,n=25))\n",
      "R2 <- as.integer(runif(min=1,max=5,n=25))\n",
      "data <- data.frame(resp=c(T1,R2,R1,T2),\n",
      "    subjid=factor(rep(1:50,each=2)),\n",
      "    seqa=rep(c('TR'),each=25),\n",
      "#    trta=rep(c('T','R','R','T'),each=1),\n",
      "    atime=factor(rep(1:2,times=50))\n",
      ")\n",
      "\n",
      "print(data)\n",
      "\n",
      "mosaic(~resp + atime + seqa    , data=data, shade=TRUE, legend=TRUE) \n",
      "\n",
      "fitted.mod <- repolr(resp~seqa*atime, subjects=\"subjid\",\n",
      "data=data, categories=4, times=c(1,2),corstr=\"uniform\",alpha=0.5)\n",
      "summary(fitted.mod[[\"gee\"]])\n",
      "\n",
      " "
     ],
     "language": "python",
     "metadata": {},
     "outputs": [
      {
       "output_type": "stream",
       "stream": "stdout",
       "text": [
        "    resp subjid seqa atime\n",
        "1      1      1   TR     1\n",
        "2      3      1   TR     2\n",
        "3      3      2   TR     1\n",
        "4      3      2   TR     2\n",
        "5      4      3   TR     1\n",
        "6      3      3   TR     2\n",
        "7      1      4   TR     1\n",
        "8      1      4   TR     2\n",
        "9      3      5   TR     1\n",
        "10     3      5   TR     2\n",
        "11     3      6   TR     1\n",
        "12     3      6   TR     2\n",
        "13     2      7   TR     1\n",
        "14     4      7   TR     2\n",
        "15     2      8   TR     1\n",
        "16     4      8   TR     2\n",
        "17     2      9   TR     1\n",
        "18     2      9   TR     2\n",
        "19     1     10   TR     1\n",
        "20     1     10   TR     2\n",
        "21     2     11   TR     1\n",
        "22     2     11   TR     2\n",
        "23     1     12   TR     1\n",
        "24     1     12   TR     2\n",
        "25     1     13   TR     1\n",
        "26     3     13   TR     2\n",
        "27     2     14   TR     1\n",
        "28     1     14   TR     2\n",
        "29     2     15   TR     1\n",
        "30     3     15   TR     2\n",
        "31     4     16   TR     1\n",
        "32     2     16   TR     2\n",
        "33     1     17   TR     1\n",
        "34     3     17   TR     2\n",
        "35     1     18   TR     1\n",
        "36     4     18   TR     2\n",
        "37     2     19   TR     1\n",
        "38     2     19   TR     2\n",
        "39     1     20   TR     1\n",
        "40     4     20   TR     2\n",
        "41     1     21   TR     1\n",
        "42     4     21   TR     2\n",
        "43     1     22   TR     1\n",
        "44     1     22   TR     2\n",
        "45     1     23   TR     1\n",
        "46     3     23   TR     2\n",
        "47     2     24   TR     1\n",
        "48     1     24   TR     2\n",
        "49     2     25   TR     1\n",
        "50     3     25   TR     2\n",
        "51     1     26   TR     1\n",
        "52     2     26   TR     2\n",
        "53     3     27   TR     1\n",
        "54     3     27   TR     2\n",
        "55     1     28   TR     1\n",
        "56     3     28   TR     2\n",
        "57     2     29   TR     1\n",
        "58     4     29   TR     2\n",
        "59     1     30   TR     1\n",
        "60     4     30   TR     2\n",
        "61     4     31   TR     1\n",
        "62     1     31   TR     2\n",
        "63     2     32   TR     1\n",
        "64     1     32   TR     2\n",
        "65     1     33   TR     1\n",
        "66     3     33   TR     2\n",
        "67     2     34   TR     1\n",
        "68     3     34   TR     2\n",
        "69     1     35   TR     1\n",
        "70     3     35   TR     2\n",
        "71     1     36   TR     1\n",
        "72     4     36   TR     2\n",
        "73     1     37   TR     1\n",
        "74     4     37   TR     2\n",
        "75     1     38   TR     1\n",
        "76     4     38   TR     2\n",
        "77     3     39   TR     1\n",
        "78     4     39   TR     2\n",
        "79     4     40   TR     1\n",
        "80     1     40   TR     2\n",
        "81     2     41   TR     1\n",
        "82     2     41   TR     2\n",
        "83     2     42   TR     1\n",
        "84     3     42   TR     2\n",
        "85     1     43   TR     1\n",
        "86     4     43   TR     2\n",
        "87     1     44   TR     1\n",
        "88     2     44   TR     2\n",
        "89     4     45   TR     1\n",
        "90     4     45   TR     2\n",
        "91     3     46   TR     1\n",
        "92     3     46   TR     2\n",
        "93     2     47   TR     1\n",
        "94     3     47   TR     2\n",
        "95     2     48   TR     1\n",
        "96     3     48   TR     2\n",
        "97     3     49   TR     1\n",
        "98     2     49   TR     2\n",
        "99     1     50   TR     1\n",
        "100    4     50   TR     2\n",
        " working correlation model:  uniform \n",
        "Beginning Cgee S-function, @(#) geeformula.q 4.13 98/01/27\n",
        "Error in gee(formula, data = exdata$exdata, id = exdata$exdata$subjects,  : \n",
        "  rank-deficient model matrix\n"
       ]
      },
      {
       "ename": "RRuntimeError",
       "evalue": "Error in dev.off() : \n  QuartzBitmap_Output - unable to open file '/var/folders/hk/r83tf3z95rs1gqcjf02dq2jr0000gp/T/tmpE48UTe/Rplots001.png'\n",
       "output_type": "pyerr",
       "traceback": [
        "\u001b[0;31m---------------------------------------------------------------------------\u001b[0m\n\u001b[0;31mRRuntimeError\u001b[0m                             Traceback (most recent call last)",
        "\u001b[0;32m<ipython-input-17-3029c09c9529>\u001b[0m in \u001b[0;36m<module>\u001b[0;34m()\u001b[0m\n\u001b[0;32m----> 1\u001b[0;31m \u001b[0mget_ipython\u001b[0m\u001b[0;34m(\u001b[0m\u001b[0;34m)\u001b[0m\u001b[0;34m.\u001b[0m\u001b[0mrun_cell_magic\u001b[0m\u001b[0;34m(\u001b[0m\u001b[0;34mu'R'\u001b[0m\u001b[0;34m,\u001b[0m \u001b[0;34mu''\u001b[0m\u001b[0;34m,\u001b[0m \u001b[0;34mu'\\nlibrary(repolr)\\nset.seed(1234)\\n\\n# create some dummy ordinal data and fit...\\nT1 <- as.integer(runif(min=1,max=5,n=25))\\nT2 <- as.integer(runif(min=1,max=5,n=25))\\nR1 <- as.integer(runif(min=1,max=5,n=25))\\nR2 <- as.integer(runif(min=1,max=5,n=25))\\ndata <- data.frame(resp=c(T1,R2,R1,T2),\\n    subjid=factor(rep(1:50,each=2)),\\n    seqa=rep(c(\\'TR\\'),each=25),\\n#    trta=rep(c(\\'T\\',\\'R\\',\\'R\\',\\'T\\'),each=1),\\n    atime=factor(rep(1:2,times=50))\\n)\\n\\nprint(data)\\n\\nmosaic(~resp + atime + seqa    , data=data, shade=TRUE, legend=TRUE) \\n\\nfitted.mod <- repolr(resp~seqa*atime, subjects=\"subjid\",\\ndata=data, categories=4, times=c(1,2),corstr=\"uniform\",alpha=0.5)\\nsummary(fitted.mod[[\"gee\"]])\\n\\n '\u001b[0m\u001b[0;34m)\u001b[0m\u001b[0;34m\u001b[0m\u001b[0m\n\u001b[0m",
        "\u001b[0;32m/Users/kristian/miniconda/lib/python2.7/site-packages/IPython/core/interactiveshell.pyc\u001b[0m in \u001b[0;36mrun_cell_magic\u001b[0;34m(self, magic_name, line, cell)\u001b[0m\n\u001b[1;32m   2160\u001b[0m             \u001b[0mmagic_arg_s\u001b[0m \u001b[0;34m=\u001b[0m \u001b[0mself\u001b[0m\u001b[0;34m.\u001b[0m\u001b[0mvar_expand\u001b[0m\u001b[0;34m(\u001b[0m\u001b[0mline\u001b[0m\u001b[0;34m,\u001b[0m \u001b[0mstack_depth\u001b[0m\u001b[0;34m)\u001b[0m\u001b[0;34m\u001b[0m\u001b[0m\n\u001b[1;32m   2161\u001b[0m             \u001b[0;32mwith\u001b[0m \u001b[0mself\u001b[0m\u001b[0;34m.\u001b[0m\u001b[0mbuiltin_trap\u001b[0m\u001b[0;34m:\u001b[0m\u001b[0;34m\u001b[0m\u001b[0m\n\u001b[0;32m-> 2162\u001b[0;31m                 \u001b[0mresult\u001b[0m \u001b[0;34m=\u001b[0m \u001b[0mfn\u001b[0m\u001b[0;34m(\u001b[0m\u001b[0mmagic_arg_s\u001b[0m\u001b[0;34m,\u001b[0m \u001b[0mcell\u001b[0m\u001b[0;34m)\u001b[0m\u001b[0;34m\u001b[0m\u001b[0m\n\u001b[0m\u001b[1;32m   2163\u001b[0m             \u001b[0;32mreturn\u001b[0m \u001b[0mresult\u001b[0m\u001b[0;34m\u001b[0m\u001b[0m\n\u001b[1;32m   2164\u001b[0m \u001b[0;34m\u001b[0m\u001b[0m\n",
        "\u001b[0;32m/Users/kristian/miniconda/lib/python2.7/site-packages/rpy2/ipython/rmagic.pyc\u001b[0m in \u001b[0;36mR\u001b[0;34m(self, line, cell, local_ns)\u001b[0m\n",
        "\u001b[0;32m/Users/kristian/miniconda/lib/python2.7/site-packages/IPython/core/magic.pyc\u001b[0m in \u001b[0;36m<lambda>\u001b[0;34m(f, *a, **k)\u001b[0m\n\u001b[1;32m    191\u001b[0m     \u001b[0;31m# but it's overkill for just that one bit of state.\u001b[0m\u001b[0;34m\u001b[0m\u001b[0;34m\u001b[0m\u001b[0m\n\u001b[1;32m    192\u001b[0m     \u001b[0;32mdef\u001b[0m \u001b[0mmagic_deco\u001b[0m\u001b[0;34m(\u001b[0m\u001b[0marg\u001b[0m\u001b[0;34m)\u001b[0m\u001b[0;34m:\u001b[0m\u001b[0;34m\u001b[0m\u001b[0m\n\u001b[0;32m--> 193\u001b[0;31m         \u001b[0mcall\u001b[0m \u001b[0;34m=\u001b[0m \u001b[0;32mlambda\u001b[0m \u001b[0mf\u001b[0m\u001b[0;34m,\u001b[0m \u001b[0;34m*\u001b[0m\u001b[0ma\u001b[0m\u001b[0;34m,\u001b[0m \u001b[0;34m**\u001b[0m\u001b[0mk\u001b[0m\u001b[0;34m:\u001b[0m \u001b[0mf\u001b[0m\u001b[0;34m(\u001b[0m\u001b[0;34m*\u001b[0m\u001b[0ma\u001b[0m\u001b[0;34m,\u001b[0m \u001b[0;34m**\u001b[0m\u001b[0mk\u001b[0m\u001b[0;34m)\u001b[0m\u001b[0;34m\u001b[0m\u001b[0m\n\u001b[0m\u001b[1;32m    194\u001b[0m \u001b[0;34m\u001b[0m\u001b[0m\n\u001b[1;32m    195\u001b[0m         \u001b[0;32mif\u001b[0m \u001b[0mcallable\u001b[0m\u001b[0;34m(\u001b[0m\u001b[0marg\u001b[0m\u001b[0;34m)\u001b[0m\u001b[0;34m:\u001b[0m\u001b[0;34m\u001b[0m\u001b[0m\n",
        "\u001b[0;32m/Users/kristian/miniconda/lib/python2.7/site-packages/rpy2/ipython/rmagic.pyc\u001b[0m in \u001b[0;36mR\u001b[0;34m(self, line, cell, local_ns)\u001b[0m\n\u001b[1;32m    653\u001b[0m         \u001b[0;32mfinally\u001b[0m\u001b[0;34m:\u001b[0m\u001b[0;34m\u001b[0m\u001b[0m\n\u001b[1;32m    654\u001b[0m             \u001b[0;32mif\u001b[0m \u001b[0mself\u001b[0m\u001b[0;34m.\u001b[0m\u001b[0mdevice\u001b[0m \u001b[0;32min\u001b[0m \u001b[0;34m[\u001b[0m\u001b[0;34m'png'\u001b[0m\u001b[0;34m,\u001b[0m \u001b[0;34m'svg'\u001b[0m\u001b[0;34m]\u001b[0m\u001b[0;34m:\u001b[0m\u001b[0;34m\u001b[0m\u001b[0m\n\u001b[0;32m--> 655\u001b[0;31m                 \u001b[0mro\u001b[0m\u001b[0;34m.\u001b[0m\u001b[0mr\u001b[0m\u001b[0;34m(\u001b[0m\u001b[0;34m'dev.off()'\u001b[0m\u001b[0;34m)\u001b[0m\u001b[0;34m\u001b[0m\u001b[0m\n\u001b[0m\u001b[1;32m    656\u001b[0m \u001b[0;34m\u001b[0m\u001b[0m\n\u001b[1;32m    657\u001b[0m         \u001b[0;32mif\u001b[0m \u001b[0mtext_output\u001b[0m\u001b[0;34m:\u001b[0m\u001b[0;34m\u001b[0m\u001b[0m\n",
        "\u001b[0;32m/Users/kristian/miniconda/lib/python2.7/site-packages/rpy2/robjects/__init__.pyc\u001b[0m in \u001b[0;36m__call__\u001b[0;34m(self, string)\u001b[0m\n\u001b[1;32m    267\u001b[0m     \u001b[0;32mdef\u001b[0m \u001b[0m__call__\u001b[0m\u001b[0;34m(\u001b[0m\u001b[0mself\u001b[0m\u001b[0;34m,\u001b[0m \u001b[0mstring\u001b[0m\u001b[0;34m)\u001b[0m\u001b[0;34m:\u001b[0m\u001b[0;34m\u001b[0m\u001b[0m\n\u001b[1;32m    268\u001b[0m         \u001b[0mp\u001b[0m \u001b[0;34m=\u001b[0m \u001b[0mrinterface\u001b[0m\u001b[0;34m.\u001b[0m\u001b[0mparse\u001b[0m\u001b[0;34m(\u001b[0m\u001b[0mstring\u001b[0m\u001b[0;34m)\u001b[0m\u001b[0;34m\u001b[0m\u001b[0m\n\u001b[0;32m--> 269\u001b[0;31m         \u001b[0mres\u001b[0m \u001b[0;34m=\u001b[0m \u001b[0mself\u001b[0m\u001b[0;34m.\u001b[0m\u001b[0meval\u001b[0m\u001b[0;34m(\u001b[0m\u001b[0mp\u001b[0m\u001b[0;34m)\u001b[0m\u001b[0;34m\u001b[0m\u001b[0m\n\u001b[0m\u001b[1;32m    270\u001b[0m         \u001b[0;32mreturn\u001b[0m \u001b[0mres\u001b[0m\u001b[0;34m\u001b[0m\u001b[0m\n\u001b[1;32m    271\u001b[0m \u001b[0;34m\u001b[0m\u001b[0m\n",
        "\u001b[0;32m/Users/kristian/miniconda/lib/python2.7/site-packages/rpy2/robjects/functions.pyc\u001b[0m in \u001b[0;36m__call__\u001b[0;34m(self, *args, **kwargs)\u001b[0m\n\u001b[1;32m    168\u001b[0m                 \u001b[0mv\u001b[0m \u001b[0;34m=\u001b[0m \u001b[0mkwargs\u001b[0m\u001b[0;34m.\u001b[0m\u001b[0mpop\u001b[0m\u001b[0;34m(\u001b[0m\u001b[0mk\u001b[0m\u001b[0;34m)\u001b[0m\u001b[0;34m\u001b[0m\u001b[0m\n\u001b[1;32m    169\u001b[0m                 \u001b[0mkwargs\u001b[0m\u001b[0;34m[\u001b[0m\u001b[0mr_k\u001b[0m\u001b[0;34m]\u001b[0m \u001b[0;34m=\u001b[0m \u001b[0mv\u001b[0m\u001b[0;34m\u001b[0m\u001b[0m\n\u001b[0;32m--> 170\u001b[0;31m         \u001b[0;32mreturn\u001b[0m \u001b[0msuper\u001b[0m\u001b[0;34m(\u001b[0m\u001b[0mSignatureTranslatedFunction\u001b[0m\u001b[0;34m,\u001b[0m \u001b[0mself\u001b[0m\u001b[0;34m)\u001b[0m\u001b[0;34m.\u001b[0m\u001b[0m__call__\u001b[0m\u001b[0;34m(\u001b[0m\u001b[0;34m*\u001b[0m\u001b[0margs\u001b[0m\u001b[0;34m,\u001b[0m \u001b[0;34m**\u001b[0m\u001b[0mkwargs\u001b[0m\u001b[0;34m)\u001b[0m\u001b[0;34m\u001b[0m\u001b[0m\n\u001b[0m\u001b[1;32m    171\u001b[0m \u001b[0;34m\u001b[0m\u001b[0m\n\u001b[1;32m    172\u001b[0m \u001b[0mpattern_link\u001b[0m \u001b[0;34m=\u001b[0m \u001b[0mre\u001b[0m\u001b[0;34m.\u001b[0m\u001b[0mcompile\u001b[0m\u001b[0;34m(\u001b[0m\u001b[0;34mr'\\\\link\\{(.+?)\\}'\u001b[0m\u001b[0;34m)\u001b[0m\u001b[0;34m\u001b[0m\u001b[0m\n",
        "\u001b[0;32m/Users/kristian/miniconda/lib/python2.7/site-packages/rpy2/robjects/functions.pyc\u001b[0m in \u001b[0;36m__call__\u001b[0;34m(self, *args, **kwargs)\u001b[0m\n\u001b[1;32m     98\u001b[0m         \u001b[0;32mfor\u001b[0m \u001b[0mk\u001b[0m\u001b[0;34m,\u001b[0m \u001b[0mv\u001b[0m \u001b[0;32min\u001b[0m \u001b[0mkwargs\u001b[0m\u001b[0;34m.\u001b[0m\u001b[0mitems\u001b[0m\u001b[0;34m(\u001b[0m\u001b[0;34m)\u001b[0m\u001b[0;34m:\u001b[0m\u001b[0;34m\u001b[0m\u001b[0m\n\u001b[1;32m     99\u001b[0m             \u001b[0mnew_kwargs\u001b[0m\u001b[0;34m[\u001b[0m\u001b[0mk\u001b[0m\u001b[0;34m]\u001b[0m \u001b[0;34m=\u001b[0m \u001b[0mconversion\u001b[0m\u001b[0;34m.\u001b[0m\u001b[0mpy2ri\u001b[0m\u001b[0;34m(\u001b[0m\u001b[0mv\u001b[0m\u001b[0;34m)\u001b[0m\u001b[0;34m\u001b[0m\u001b[0m\n\u001b[0;32m--> 100\u001b[0;31m         \u001b[0mres\u001b[0m \u001b[0;34m=\u001b[0m \u001b[0msuper\u001b[0m\u001b[0;34m(\u001b[0m\u001b[0mFunction\u001b[0m\u001b[0;34m,\u001b[0m \u001b[0mself\u001b[0m\u001b[0;34m)\u001b[0m\u001b[0;34m.\u001b[0m\u001b[0m__call__\u001b[0m\u001b[0;34m(\u001b[0m\u001b[0;34m*\u001b[0m\u001b[0mnew_args\u001b[0m\u001b[0;34m,\u001b[0m \u001b[0;34m**\u001b[0m\u001b[0mnew_kwargs\u001b[0m\u001b[0;34m)\u001b[0m\u001b[0;34m\u001b[0m\u001b[0m\n\u001b[0m\u001b[1;32m    101\u001b[0m         \u001b[0mres\u001b[0m \u001b[0;34m=\u001b[0m \u001b[0mconversion\u001b[0m\u001b[0;34m.\u001b[0m\u001b[0mri2ro\u001b[0m\u001b[0;34m(\u001b[0m\u001b[0mres\u001b[0m\u001b[0;34m)\u001b[0m\u001b[0;34m\u001b[0m\u001b[0m\n\u001b[1;32m    102\u001b[0m         \u001b[0;32mreturn\u001b[0m \u001b[0mres\u001b[0m\u001b[0;34m\u001b[0m\u001b[0m\n",
        "\u001b[0;31mRRuntimeError\u001b[0m: Error in dev.off() : \n  QuartzBitmap_Output - unable to open file '/var/folders/hk/r83tf3z95rs1gqcjf02dq2jr0000gp/T/tmpE48UTe/Rplots001.png'\n"
       ]
      }
     ],
     "prompt_number": 17
    },
    {
     "cell_type": "markdown",
     "metadata": {},
     "source": [
      "### For the Firts period  (T1-C1)\n",
      "\n",
      "For AB\n",
      "Y = u\n",
      "\n",
      "For BA\n",
      "Y = u + $ \\beta $\n",
      "\n",
      "\n",
      "u is the expected response to Treament A\n",
      "\n",
      "$\\beta$ is the effect of treatment B relative to treatment A\n"
     ]
    },
    {
     "cell_type": "code",
     "collapsed": false,
     "input": [
      "data_n = c.get_rm_ws_dataframe()\n",
      "data_n =  data_n[data_n['period'] == '1' ]\n"
     ],
     "language": "python",
     "metadata": {},
     "outputs": []
    },
    {
     "cell_type": "code",
     "collapsed": false,
     "input": [
      "%%R -i data_n\n",
      "library(MASS)\n",
      "s <- data.frame(data_n)\n",
      "s$response <- factor(s$response)\n",
      "s$trt <- factor(s$trt)\n",
      "s$sequ <- factor(s$sequ)\n",
      "s$period <- factor(s$period)\n",
      "\n",
      "m <- polr(response~trt, data = s, Hess=TRUE)\n",
      "summary(m)"
     ],
     "language": "python",
     "metadata": {},
     "outputs": []
    },
    {
     "cell_type": "markdown",
     "metadata": {},
     "source": [
      "### For Second period (C2-T2)\n",
      "\n",
      "For AB\n",
      "Y = u + $\\pi$ + $\\beta$\n",
      "\n",
      "For BA\n",
      "Y = u + $ \\pi $\n",
      "\n",
      "\n",
      "\n",
      "$\\pi$ is the effect of Period 2 relative to period 1\n"
     ]
    },
    {
     "cell_type": "code",
     "collapsed": false,
     "input": [
      "data_n = c.get_rm_ws_dataframe()\n",
      "data_n =  data_n[data_n['period'] == '2' ]\n"
     ],
     "language": "python",
     "metadata": {},
     "outputs": []
    },
    {
     "cell_type": "code",
     "collapsed": false,
     "input": [
      "%%R -i data_n\n",
      "library(MASS)\n",
      "s <- data.frame(data_n)\n",
      "s$response <- factor(s$response)\n",
      "s$trt <- factor(s$trt)\n",
      "s$sequ <- factor(s$sequ)\n",
      "s$period <- factor(s$period)\n",
      "\n",
      "m2 <- polr(response~trt+sequ, data = s, Hess=TRUE)\n",
      "summary(m2)"
     ],
     "language": "python",
     "metadata": {},
     "outputs": []
    },
    {
     "cell_type": "code",
     "collapsed": false,
     "input": [
      "%%R\n",
      "anova(m,m2)"
     ],
     "language": "python",
     "metadata": {},
     "outputs": []
    },
    {
     "cell_type": "markdown",
     "metadata": {},
     "source": [
      "### For treatment A (C1-C2)\n"
     ]
    },
    {
     "cell_type": "code",
     "collapsed": false,
     "input": [
      "data_n = c.get_rm_ws_dataframe()\n",
      "data_n =  data_n[(data_n['period'] == '1') & (data_n['sequ'] == 'AB') | ((data_n['period'] == '2') & (data_n['sequ'] == 'BA')) ]\n"
     ],
     "language": "python",
     "metadata": {},
     "outputs": []
    },
    {
     "cell_type": "code",
     "collapsed": false,
     "input": [
      "%%R -i data_n\n",
      "library(MASS)\n",
      "s <- data.frame(data_n)\n",
      "s$response <- factor(s$response)\n",
      "s$trt <- factor(s$trt)\n",
      "s$sequ <- factor(s$sequ)\n",
      "s$period <- factor(s$period)\n",
      "\n",
      "m4 <- polr(response~sequ+period, data = s, Hess=TRUE)\n",
      "summary(m4)"
     ],
     "language": "python",
     "metadata": {},
     "outputs": []
    },
    {
     "cell_type": "markdown",
     "metadata": {},
     "source": [
      "### For treatment A (T1-T2)\n"
     ]
    },
    {
     "cell_type": "code",
     "collapsed": false,
     "input": [
      "data_n = c.get_rm_ws_dataframe()\n",
      "data_n =  data_n[(data_n['period'] == '1') & (data_n['sequ'] == 'BA') | ((data_n['period'] == '2') & (data_n['sequ'] == 'AB')) ]\n"
     ],
     "language": "python",
     "metadata": {},
     "outputs": []
    },
    {
     "cell_type": "code",
     "collapsed": false,
     "input": [
      "%%R -i data_n\n",
      "library(MASS)\n",
      "s <- data.frame(data_n)\n",
      "s$response <- factor(s$response)\n",
      "s$trt <- factor(s$trt)\n",
      "s$sequ <- factor(s$sequ)\n",
      "s$period <- factor(s$period)\n",
      "\n",
      "m5 <- polr(response~sequ+period, data = s, Hess=TRUE)\n",
      "summary(m5)"
     ],
     "language": "python",
     "metadata": {},
     "outputs": []
    },
    {
     "cell_type": "code",
     "collapsed": false,
     "input": [
      "data =  data_n[data_n['period'] == '1' ]"
     ],
     "language": "python",
     "metadata": {},
     "outputs": []
    },
    {
     "cell_type": "code",
     "collapsed": false,
     "input": [
      "%%R -i data\n",
      "\n",
      "\n",
      "s <- data.frame(data)\n",
      "s$response <- factor(s$response)\n",
      "s$trt <- factor(s$trt)\n",
      "s$sequ <- factor(s$sequ)\n",
      "s$period <- factor(s$period)\n",
      "\n",
      "\n",
      "mosaicplot(\n",
      "    xtabs( ~trt + factor(response,levels=1:4) ,data=s),\n",
      "    color=colorRampPalette(c('green','red'))(5),\n",
      "    main='',\n",
      "    ylab='Response')\n",
      "\n"
     ],
     "language": "python",
     "metadata": {},
     "outputs": []
    },
    {
     "cell_type": "markdown",
     "metadata": {},
     "source": [
      "##polr\n",
      "The first statistically correct way to look at the data is polr from the MASS package. Unfortunately I dislike the output a bit. For instance, base level (cheese A) is ignored in some output. I am not so sure how to interpret the difference between cheese A and cheese B as -3 except for the observation that it is significant and cheese A is better. A thing not obvious documented is the possibility to get proportions for the categories as predictions. So, I can learn that the model has for cheese A 17% of the people in the top 2 box. I am sure top 2 box is a parameter I won't have to explain to my product manager. No confidence interval for it though."
     ]
    },
    {
     "cell_type": "code",
     "collapsed": false,
     "input": [
      "%%R \n",
      "library(MASS)\n",
      "Res.polr <- polr( response ~ trt , data=s )\n",
      "summary(Res.polr)\n"
     ],
     "language": "python",
     "metadata": {},
     "outputs": []
    },
    {
     "cell_type": "code",
     "collapsed": false,
     "input": [
      "%%R \n",
      "confint(Res.polr)"
     ],
     "language": "python",
     "metadata": {},
     "outputs": []
    },
    {
     "cell_type": "code",
     "collapsed": false,
     "input": [
      "%%R \n",
      "confint(glht(Res.polr,linfct=mcp(trt='B')))"
     ],
     "language": "python",
     "metadata": {},
     "outputs": []
    },
    {
     "cell_type": "markdown",
     "metadata": {},
     "source": [
      "##clm\n",
      "Clm is from the ordinal package. As this package is dedicated to ordinal data it is clearly a bit more advanced than polr. The package has the possibility to use mixed models and multiplicative scale effects. These are things I won't use now, but would like to use or look at once I have panelist data. For now clm function is enough. I am now able to make an overall statement about product differences (polr did not calculate the equivalent of model Res.clm0), although I might use 3 degrees of freedom rather than 1. There is also a confidence interval for the proportion subjects selecting a category.\n"
     ]
    },
    {
     "cell_type": "code",
     "collapsed": false,
     "input": [
      "%%R \n",
      "library(ordinal)\n",
      "Res.clm <- clm(response ~ trt,data=s)\n",
      "summary(Res.clm)"
     ],
     "language": "python",
     "metadata": {},
     "outputs": []
    },
    {
     "cell_type": "code",
     "collapsed": false,
     "input": [],
     "language": "python",
     "metadata": {},
     "outputs": []
    },
    {
     "cell_type": "code",
     "collapsed": false,
     "input": [],
     "language": "python",
     "metadata": {},
     "outputs": []
    },
    {
     "cell_type": "code",
     "collapsed": false,
     "input": [
      "%%R  \n",
      "confint(Res.clm)"
     ],
     "language": "python",
     "metadata": {},
     "outputs": []
    },
    {
     "cell_type": "code",
     "collapsed": false,
     "input": [],
     "language": "python",
     "metadata": {},
     "outputs": []
    },
    {
     "cell_type": "code",
     "collapsed": false,
     "input": [
      "%%R \n",
      "Res.clm0 <- clm(response ~ .,data=s)\n",
      "anova(Res.clm0,Res.clm)"
     ],
     "language": "python",
     "metadata": {},
     "outputs": []
    },
    {
     "cell_type": "markdown",
     "metadata": {},
     "source": [
      "#MIXOR"
     ]
    },
    {
     "cell_type": "code",
     "collapsed": false,
     "input": [
      "%%R\n",
      "\n",
      "library(\"mixor\")\n",
      "\n",
      "data(\"schizophrenia\")\n",
      "SCHIZO1.fit <- mixord(imps79o ~ TxDrug + SqrtWeek + TxSWeek, data = schizophrenia, id = id, link = \"logit\")"
     ],
     "language": "python",
     "metadata": {},
     "outputs": [],
     "prompt_number": 13
    },
    {
     "cell_type": "code",
     "collapsed": false,
     "input": [
      "%%R\n",
      "summary(SCHIZO1.fit)"
     ],
     "language": "python",
     "metadata": {},
     "outputs": [
      {
       "metadata": {},
       "output_type": "display_data",
       "text": [
        "\n",
        "Call:\n",
        "mixord(formula = imps79o ~ TxDrug + SqrtWeek + TxSWeek, data = schizophrenia, \n",
        "    id = id, link = \"logit\")\n",
        "\n",
        "Deviance =         3402.758 \n",
        "Log-likelihood =  -1701.379 \n",
        "RIDGEMAX =         0.2 \n",
        "AIC =             -1708.379 \n",
        "SBC =             -1722.659 \n",
        "\n",
        "                      Estimate        SE          Z      P.value\n",
        "(Intercept)         5.85924463 0.3428850 17.0880770 0.000000e+00\n",
        "TxDrug             -0.05843032 0.3108636 -0.1879613 8.509070e-01\n",
        "SqrtWeek           -0.76577287 0.1197460 -6.3949755 1.605731e-10\n",
        "TxSWeek            -1.20615055 0.1331370 -9.0594681 0.000000e+00\n",
        "Random.(Intercept)  3.77377698 0.4954283  7.6172012 2.597922e-14\n",
        "Threshold2          3.03282074 0.1323782 22.9102787 0.000000e+00\n",
        "Threshold3          5.15076669 0.1792538 28.7344869 0.000000e+00\n"
       ]
      }
     ],
     "prompt_number": 14
    },
    {
     "cell_type": "code",
     "collapsed": false,
     "input": [
      "picture_foler = \"/Users/kristian/Dropbox/exp_frame_effects/Images/\"\n",
      "new = 1\n",
      "if new == 0: \n",
      "    f = FrameExperimentTable('logs/data_incremental_file')\n",
      "    f.add_records('logs/data_two_records','new')\n",
      "    f.add_records_csv('logs/data_scramble_filled_csv.csv')\n",
      "else:\n",
      "    f = FrameExperimentTable('logs/data_scenario_changed')\n",
      "f.filter_noise()\n",
      "f.code_for_stat_ana()\n",
      "f.code_survey_numeric()\n",
      "data = f.get_rm_ws_dataframe()"
     ],
     "language": "python",
     "metadata": {},
     "outputs": [
      {
       "output_type": "stream",
       "stream": "stdout",
       "text": [
        "(55, 40)\n",
        "classify_field - Fields Excluded"
       ]
      },
      {
       "output_type": "stream",
       "stream": "stdout",
       "text": [
        "\n",
        "(6,)\n",
        "(55, 42)\n",
        "New Usability Columns\n",
        "(55, 44)\n",
        "set([1, 2])"
       ]
      },
      {
       "output_type": "stream",
       "stream": "stdout",
       "text": [
        "\n",
        "multi\n",
        "set([1, 3])\n",
        "multi\n",
        "set([1])\n",
        "e-mail\n",
        "set([1, 2])\n",
        "multi\n",
        "set([1])\n",
        "e-mail\n",
        "set([3])\n",
        "self-depositing\n",
        "set([1, 3])\n",
        "multi\n",
        "set([2])\n",
        "self-depositing\n",
        "set([1, 2])\n",
        "multi\n",
        "set([3])\n",
        "self-depositing\n",
        "set([1])\n",
        "e-mail\n",
        "set([1, 2])\n",
        "multi\n",
        "set([2])\n",
        "self-depositing\n",
        "set([1])\n",
        "e-mail\n",
        "set([1, 2, 3])\n",
        "multi\n",
        "set([1])\n",
        "e-mail\n",
        "set([2])\n",
        "self-depositing\n",
        "set([2])\n",
        "self-depositing\n",
        "set([1, 3])\n",
        "multi\n",
        "set([1])\n",
        "e-mail\n",
        "set([4])\n",
        "Never\n",
        "set([1, 3])\n",
        "multi\n",
        "set([2])\n",
        "self-depositing\n",
        "set([4])\n",
        "Never\n",
        "set([2])\n",
        "self-depositing\n",
        "set([1, 3])\n",
        "multi\n",
        "set([2])\n",
        "self-depositing\n",
        "set([1, 3])\n",
        "multi\n",
        "set([2])\n",
        "self-depositing\n",
        "set([])\n",
        "\n",
        "set([2])\n",
        "self-depositing\n",
        "set([2])\n",
        "self-depositing\n",
        "set([1])\n",
        "e-mail\n",
        "set([2, 3])\n",
        "self-depositing\n",
        "set([2])\n",
        "self-depositing\n",
        "set([])\n",
        "\n",
        "set([4])\n",
        "Never\n",
        "set([])\n",
        "\n",
        "set([3, 4])\n",
        "Never\n",
        "set([])\n",
        "\n",
        "set([1, 2])\n",
        "multi\n",
        "set([1, 2])\n",
        "multi\n",
        "set([4])\n",
        "Never\n",
        "set([])\n",
        "\n",
        "set([1, 2, 3])\n",
        "multi\n",
        "set([2])\n",
        "self-depositing\n",
        "set([2])\n",
        "self-depositing\n",
        "set([3])\n",
        "self-depositing\n",
        "set([1, 2])\n",
        "multi\n",
        "set([1, 2, 3])\n",
        "multi\n",
        "set([])\n",
        "\n",
        "set([1, 2])\n",
        "multi\n",
        "set([2, 3])\n",
        "self-depositing\n",
        "set([2, 3])\n",
        "self-depositing\n",
        "set([1])\n",
        "e-mail\n",
        "Total\n",
        "55\n",
        "Removing testing\n",
        "2\n",
        "Removing Random\n",
        "5\n",
        "Removing Not Life Sciences\n",
        "2\n",
        "Removing Not enlgish skilled\n",
        "5\n",
        "Removing Not Honest\n",
        "6\n",
        "Removing unaware\n",
        "0\n",
        "Removing Not answer\n",
        "1\n",
        "Removing Not answer\n",
        "0\n",
        "Total\n",
        "34\n",
        "(40, 44)\n",
        "rm_ws_dataframe - Droping missing records\n",
        "(40, 5)\n",
        "rm_ws_dataframe - remove missing data \n",
        "(40, 5)\n",
        "rm_ws_dataframe - no duplicates "
       ]
      },
      {
       "output_type": "stream",
       "stream": "stdout",
       "text": [
        "\n",
        "(40, 6)\n",
        "4    63\n",
        "3    10\n",
        "2     7\n",
        "dtype: int64"
       ]
      },
      {
       "output_type": "stream",
       "stream": "stdout",
       "text": [
        "\n"
       ]
      },
      {
       "output_type": "stream",
       "stream": "stderr",
       "text": [
        "/Users/kristian/miniconda/lib/python2.7/site-packages/pandas/util/decorators.py:81: FutureWarning: the 'cols' keyword is deprecated, use 'subset' instead\n",
        "  warnings.warn(msg, FutureWarning)\n"
       ]
      }
     ],
     "prompt_number": 3
    },
    {
     "cell_type": "code",
     "collapsed": false,
     "input": [
      "data2 = data.sort([\"id\",\"period\",\"sequ\"])\n"
     ],
     "language": "python",
     "metadata": {},
     "outputs": [],
     "prompt_number": 4
    },
    {
     "cell_type": "code",
     "collapsed": false,
     "input": [
      "%%R -i data2\n",
      "s <- data.frame(data2)\n",
      "s$response <- factor(s$response)\n",
      "s$trt <- factor(s$trt)\n",
      "s$sequ <- factor(s$sequ)\n",
      "s$period <- factor(s$period)\n",
      "\n",
      "library(\"mixor\")\n",
      "model.fit <- mixord(response ~ trt + sequ + period, data = s, id = id, quadrature.dist = \"Normal\", NQ1 = 10, adaptive.quadrature = TRUE,link = \"probit\")\n",
      "summary(model.fit)"
     ],
     "language": "python",
     "metadata": {},
     "outputs": []
    },
    {
     "cell_type": "code",
     "collapsed": false,
     "input": [
      "%%R\n",
      "plot(model.fit)"
     ],
     "language": "python",
     "metadata": {},
     "outputs": [
      {
       "metadata": {},
       "output_type": "display_data",
       "png": "[encoded data removed]"
      }
     ],
     "prompt_number": 8
    },
    {
     "cell_type": "code",
     "collapsed": false,
     "input": [],
     "language": "python",
     "metadata": {},
     "outputs": []
    }
   ],
   "metadata": {}
  }
 ]
}