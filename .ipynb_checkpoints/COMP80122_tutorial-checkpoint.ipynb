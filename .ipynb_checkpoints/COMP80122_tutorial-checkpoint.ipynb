{
 "metadata": {
  "name": "",
  "signature": "sha256:02d03764bd8e31630f26a492f60013c99a478c7130d302ee2ee25f380d0790f2"
 },
 "nbformat": 3,
 "nbformat_minor": 0,
 "worksheets": [
  {
   "cells": [
    {
     "cell_type": "markdown",
     "metadata": {},
     "source": [
      "# A/B Experiment: The Effects of Framing Web Interfaces\n",
      "*Created by Kristian G*\n",
      "\n",
      "\n",
      "A randomised crossover trial was implemented amongst PhD studets and Postdocs (n = 10). Subjects were asked to upload a file to an online repository using two different interfaces. Interface A was designed/framed as repository to promote citation. while Interface B was designed/framed as repository to promote open file sharing. \n",
      "\n",
      ". The EQ-VAS was administered as a self-report at baseline, after the first descriptors (A or B), then again after the remaining descriptors (B or A respectively). At baseline patients were also asked if they had considered either EQ- VAS anchors.\n",
      "\n"
     ]
    },
    {
     "cell_type": "markdown",
     "metadata": {},
     "source": [
      "### Loading Libraries"
     ]
    },
    {
     "cell_type": "code",
     "collapsed": false,
     "input": [
      "%matplotlib inline\n",
      "import numpy as np\n",
      "import pandas as pd\n",
      "import matplotlib.pyplot as plt\n",
      "import seaborn as sns\n",
      "from extract_data import datatoFrame\n",
      "from code_data import *\n",
      "from wordcloud import WordCloud\n",
      "from ggplot import *\n",
      "#seaborn settings\n",
      "sns.set_palette(\"deep\", desat=.6)\n",
      "sns.set_context(rc={\"figure.figsize\": (8,4)})"
     ],
     "language": "python",
     "metadata": {},
     "outputs": [],
     "prompt_number": 7
    },
    {
     "cell_type": "markdown",
     "metadata": {},
     "source": [
      "###Loading Experimental Data"
     ]
    },
    {
     "cell_type": "code",
     "collapsed": false,
     "input": [
      "input_data = datatoFrame('logs/FrameExperiment', 'dummy')"
     ],
     "language": "python",
     "metadata": {},
     "outputs": [],
     "prompt_number": 4
    },
    {
     "cell_type": "markdown",
     "metadata": {},
     "source": [
      "We filter out all the users that reported that they were not honest at the experiment."
     ]
    },
    {
     "cell_type": "code",
     "collapsed": false,
     "input": [
      "df_filtered = input_data[input_data['honest'] == 'on']"
     ],
     "language": "python",
     "metadata": {},
     "outputs": [],
     "prompt_number": 5
    },
    {
     "cell_type": "code",
     "collapsed": false,
     "input": [
      "df_filtered.head(5)"
     ],
     "language": "python",
     "metadata": {},
     "outputs": [
      {
       "html": [
        "<div style=\"max-height:1000px;max-width:1500px;overflow:auto;\">\n",
        "<table border=\"1\" class=\"dataframe\">\n",
        "  <thead>\n",
        "    <tr style=\"text-align: right;\">\n",
        "      <th></th>\n",
        "      <th>academic</th>\n",
        "      <th>awareness</th>\n",
        "      <th>data_file_title_1</th>\n",
        "      <th>data_file_title_2</th>\n",
        "      <th>discipline</th>\n",
        "      <th>ease_1</th>\n",
        "      <th>ease_2</th>\n",
        "      <th>frequency</th>\n",
        "      <th>honest</th>\n",
        "      <th>howmany</th>\n",
        "      <th>...</th>\n",
        "      <th>treatment</th>\n",
        "      <th>trust</th>\n",
        "      <th>updating</th>\n",
        "      <th>ways</th>\n",
        "      <th>when_best</th>\n",
        "      <th>when_to_1</th>\n",
        "      <th>when_to_2</th>\n",
        "      <th>with_who_1</th>\n",
        "      <th>with_who_2</th>\n",
        "      <th>year_born</th>\n",
        "    </tr>\n",
        "    <tr>\n",
        "      <th>sessionid</th>\n",
        "      <th></th>\n",
        "      <th></th>\n",
        "      <th></th>\n",
        "      <th></th>\n",
        "      <th></th>\n",
        "      <th></th>\n",
        "      <th></th>\n",
        "      <th></th>\n",
        "      <th></th>\n",
        "      <th></th>\n",
        "      <th></th>\n",
        "      <th></th>\n",
        "      <th></th>\n",
        "      <th></th>\n",
        "      <th></th>\n",
        "      <th></th>\n",
        "      <th></th>\n",
        "      <th></th>\n",
        "      <th></th>\n",
        "      <th></th>\n",
        "      <th></th>\n",
        "    </tr>\n",
        "  </thead>\n",
        "  <tbody>\n",
        "    <tr>\n",
        "      <th>23460298f5d8e931f6b8778e3a38e2c0</th>\n",
        "      <td> 1</td>\n",
        "      <td> [u'2', u'3']</td>\n",
        "      <td>           Survey 3434</td>\n",
        "      <td>                                   RNAseq</td>\n",
        "      <td> functional genomics researcher</td>\n",
        "      <td> 4</td>\n",
        "      <td>  5</td>\n",
        "      <td> once a year</td>\n",
        "      <td> on</td>\n",
        "      <td> between 2 and 4</td>\n",
        "      <td>...</td>\n",
        "      <td>   CONTROL</td>\n",
        "      <td> cite</td>\n",
        "      <td> 0</td>\n",
        "      <td> [u'when  I am requested for the data', u\"by up...</td>\n",
        "      <td>         before publication of a peer-review paper</td>\n",
        "      <td>        NaN</td>\n",
        "      <td>          6</td>\n",
        "      <td>        public</td>\n",
        "      <td> collaborators</td>\n",
        "      <td> 1973</td>\n",
        "    </tr>\n",
        "    <tr>\n",
        "      <th>846c48d7ca77cecae577d9533df01226</th>\n",
        "      <td> 1</td>\n",
        "      <td>          NaN</td>\n",
        "      <td> Psycho cemical_rivers</td>\n",
        "      <td> Enzyms in experiment (blood and insulin)</td>\n",
        "      <td>              Biologist-ecology</td>\n",
        "      <td> 4</td>\n",
        "      <td>  4</td>\n",
        "      <td>       never</td>\n",
        "      <td> on</td>\n",
        "      <td> between 2 and 4</td>\n",
        "      <td>...</td>\n",
        "      <td> TREATMENT</td>\n",
        "      <td> cite</td>\n",
        "      <td> 1</td>\n",
        "      <td>       [u'when  I am requested for the data', u'']</td>\n",
        "      <td> +5 years after publication of a peer-review paper</td>\n",
        "      <td>          3</td>\n",
        "      <td> is_control</td>\n",
        "      <td> collaborators</td>\n",
        "      <td> collaborators</td>\n",
        "      <td> 1986</td>\n",
        "    </tr>\n",
        "    <tr>\n",
        "      <th>c8f46d4d7396f2bd6056a74d449e2c41</th>\n",
        "      <td> 1</td>\n",
        "      <td>       [u'3']</td>\n",
        "      <td>               DataSet</td>\n",
        "      <td>                                  DataSet</td>\n",
        "      <td>                Systems Biology</td>\n",
        "      <td> 4</td>\n",
        "      <td>NaN</td>\n",
        "      <td>       never</td>\n",
        "      <td> on</td>\n",
        "      <td>         only me</td>\n",
        "      <td>...</td>\n",
        "      <td> TREATMENT</td>\n",
        "      <td> cite</td>\n",
        "      <td> 0</td>\n",
        "      <td>    [u'I have never shared materials openly', u'']</td>\n",
        "      <td> immediately after publication of a peer-review...</td>\n",
        "      <td>        NaN</td>\n",
        "      <td> is_control</td>\n",
        "      <td>        public</td>\n",
        "      <td>        public</td>\n",
        "      <td> 1974</td>\n",
        "    </tr>\n",
        "    <tr>\n",
        "      <th>a54bc527043e7ebd1b626ae87b073327</th>\n",
        "      <td> 1</td>\n",
        "      <td>       [u'1']</td>\n",
        "      <td>            My Dataset</td>\n",
        "      <td>                                  dataset</td>\n",
        "      <td>      Environmental Engineering</td>\n",
        "      <td> 5</td>\n",
        "      <td>  4</td>\n",
        "      <td> once a year</td>\n",
        "      <td> on</td>\n",
        "      <td>         only me</td>\n",
        "      <td>...</td>\n",
        "      <td>   CONTROL</td>\n",
        "      <td> cite</td>\n",
        "      <td> 0</td>\n",
        "      <td> [u'when  I am requested for the data', u\"by up...</td>\n",
        "      <td> immediately after publication of a peer-review...</td>\n",
        "      <td> is_control</td>\n",
        "      <td>          6</td>\n",
        "      <td> collaborators</td>\n",
        "      <td> collaborators</td>\n",
        "      <td> 1983</td>\n",
        "    </tr>\n",
        "    <tr>\n",
        "      <th>24b48f963cb4871264ec33551c6f4fb8</th>\n",
        "      <td> 1</td>\n",
        "      <td>          NaN</td>\n",
        "      <td>                   NaN</td>\n",
        "      <td>                                      NaN</td>\n",
        "      <td>                   Biochemistry</td>\n",
        "      <td> 4</td>\n",
        "      <td>  3</td>\n",
        "      <td>       never</td>\n",
        "      <td> on</td>\n",
        "      <td> between 2 and 4</td>\n",
        "      <td>...</td>\n",
        "      <td>   CONTROL</td>\n",
        "      <td> cite</td>\n",
        "      <td> 0</td>\n",
        "      <td>                                                 0</td>\n",
        "      <td> immediately after publication of a peer-review...</td>\n",
        "      <td> is_control</td>\n",
        "      <td>        NaN</td>\n",
        "      <td> collaborators</td>\n",
        "      <td> collaborators</td>\n",
        "      <td> 1985</td>\n",
        "    </tr>\n",
        "  </tbody>\n",
        "</table>\n",
        "<p>5 rows \u00d7 32 columns</p>\n",
        "</div>"
       ],
       "metadata": {},
       "output_type": "pyout",
       "prompt_number": 8,
       "text": [
        "                                  academic     awareness  \\\n",
        "sessionid                                                  \n",
        "23460298f5d8e931f6b8778e3a38e2c0         1  [u'2', u'3']   \n",
        "846c48d7ca77cecae577d9533df01226         1           NaN   \n",
        "c8f46d4d7396f2bd6056a74d449e2c41         1        [u'3']   \n",
        "a54bc527043e7ebd1b626ae87b073327         1        [u'1']   \n",
        "24b48f963cb4871264ec33551c6f4fb8         1           NaN   \n",
        "\n",
        "                                      data_file_title_1  \\\n",
        "sessionid                                                 \n",
        "23460298f5d8e931f6b8778e3a38e2c0            Survey 3434   \n",
        "846c48d7ca77cecae577d9533df01226  Psycho cemical_rivers   \n",
        "c8f46d4d7396f2bd6056a74d449e2c41                DataSet   \n",
        "a54bc527043e7ebd1b626ae87b073327             My Dataset   \n",
        "24b48f963cb4871264ec33551c6f4fb8                    NaN   \n",
        "\n",
        "                                                         data_file_title_2  \\\n",
        "sessionid                                                                    \n",
        "23460298f5d8e931f6b8778e3a38e2c0                                    RNAseq   \n",
        "846c48d7ca77cecae577d9533df01226  Enzyms in experiment (blood and insulin)   \n",
        "c8f46d4d7396f2bd6056a74d449e2c41                                   DataSet   \n",
        "a54bc527043e7ebd1b626ae87b073327                                   dataset   \n",
        "24b48f963cb4871264ec33551c6f4fb8                                       NaN   \n",
        "\n",
        "                                                      discipline  ease_1  \\\n",
        "sessionid                                                                  \n",
        "23460298f5d8e931f6b8778e3a38e2c0  functional genomics researcher       4   \n",
        "846c48d7ca77cecae577d9533df01226               Biologist-ecology       4   \n",
        "c8f46d4d7396f2bd6056a74d449e2c41                 Systems Biology       4   \n",
        "a54bc527043e7ebd1b626ae87b073327       Environmental Engineering       5   \n",
        "24b48f963cb4871264ec33551c6f4fb8                    Biochemistry       4   \n",
        "\n",
        "                                  ease_2    frequency honest          howmany  \\\n",
        "sessionid                                                                       \n",
        "23460298f5d8e931f6b8778e3a38e2c0       5  once a year     on  between 2 and 4   \n",
        "846c48d7ca77cecae577d9533df01226       4        never     on  between 2 and 4   \n",
        "c8f46d4d7396f2bd6056a74d449e2c41     NaN        never     on          only me   \n",
        "a54bc527043e7ebd1b626ae87b073327       4  once a year     on          only me   \n",
        "24b48f963cb4871264ec33551c6f4fb8       3        never     on  between 2 and 4   \n",
        "\n",
        "                                    ...      treatment  trust  updating  \\\n",
        "sessionid                           ...                                   \n",
        "23460298f5d8e931f6b8778e3a38e2c0    ...        CONTROL   cite         0   \n",
        "846c48d7ca77cecae577d9533df01226    ...      TREATMENT   cite         1   \n",
        "c8f46d4d7396f2bd6056a74d449e2c41    ...      TREATMENT   cite         0   \n",
        "a54bc527043e7ebd1b626ae87b073327    ...        CONTROL   cite         0   \n",
        "24b48f963cb4871264ec33551c6f4fb8    ...        CONTROL   cite         0   \n",
        "\n",
        "                                                                               ways  \\\n",
        "sessionid                                                                             \n",
        "23460298f5d8e931f6b8778e3a38e2c0  [u'when  I am requested for the data', u\"by up...   \n",
        "846c48d7ca77cecae577d9533df01226        [u'when  I am requested for the data', u'']   \n",
        "c8f46d4d7396f2bd6056a74d449e2c41     [u'I have never shared materials openly', u'']   \n",
        "a54bc527043e7ebd1b626ae87b073327  [u'when  I am requested for the data', u\"by up...   \n",
        "24b48f963cb4871264ec33551c6f4fb8                                                  0   \n",
        "\n",
        "                                                                          when_best  \\\n",
        "sessionid                                                                             \n",
        "23460298f5d8e931f6b8778e3a38e2c0          before publication of a peer-review paper   \n",
        "846c48d7ca77cecae577d9533df01226  +5 years after publication of a peer-review paper   \n",
        "c8f46d4d7396f2bd6056a74d449e2c41  immediately after publication of a peer-review...   \n",
        "a54bc527043e7ebd1b626ae87b073327  immediately after publication of a peer-review...   \n",
        "24b48f963cb4871264ec33551c6f4fb8  immediately after publication of a peer-review...   \n",
        "\n",
        "                                   when_to_1   when_to_2     with_who_1  \\\n",
        "sessionid                                                                 \n",
        "23460298f5d8e931f6b8778e3a38e2c0         NaN           6         public   \n",
        "846c48d7ca77cecae577d9533df01226           3  is_control  collaborators   \n",
        "c8f46d4d7396f2bd6056a74d449e2c41         NaN  is_control         public   \n",
        "a54bc527043e7ebd1b626ae87b073327  is_control           6  collaborators   \n",
        "24b48f963cb4871264ec33551c6f4fb8  is_control         NaN  collaborators   \n",
        "\n",
        "                                     with_who_2  year_born  \n",
        "sessionid                                                   \n",
        "23460298f5d8e931f6b8778e3a38e2c0  collaborators       1973  \n",
        "846c48d7ca77cecae577d9533df01226  collaborators       1986  \n",
        "c8f46d4d7396f2bd6056a74d449e2c41         public       1974  \n",
        "a54bc527043e7ebd1b626ae87b073327  collaborators       1983  \n",
        "24b48f963cb4871264ec33551c6f4fb8  collaborators       1985  \n",
        "\n",
        "[5 rows x 32 columns]"
       ]
      }
     ],
     "prompt_number": 8
    },
    {
     "cell_type": "markdown",
     "metadata": {},
     "source": [
      "### Demographics"
     ]
    },
    {
     "cell_type": "code",
     "collapsed": false,
     "input": [
      "text =', '.join(str(x) for x in df_filtered.discipline.dropna())\n",
      "wordcloud = WordCloud(font_path='/Library/Fonts/Courier New.ttf').generate(text)\n",
      "plt.imshow(wordcloud)\n",
      "plt.axis(\"off\")\n"
     ],
     "language": "python",
     "metadata": {},
     "outputs": [
      {
       "metadata": {},
       "output_type": "pyout",
       "prompt_number": 12,
       "text": [
        "(-0.5, 399.5, 199.5, -0.5)"
       ]
      },
      {
       "metadata": {},
       "output_type": "display_data",
       "png": "[encoded data removed]",
       "text": [
        "<matplotlib.figure.Figure at 0x10e5f6090>"
       ]
      }
     ],
     "prompt_number": 12
    },
    {
     "cell_type": "markdown",
     "metadata": {},
     "source": [
      "Most of the subjects come from a branch of biology with the expection of one subject comign from Chemistry."
     ]
    },
    {
     "cell_type": "code",
     "collapsed": false,
     "input": [
      "plt.hist(df_filtered.year_born.dropna())"
     ],
     "language": "python",
     "metadata": {},
     "outputs": [
      {
       "metadata": {},
       "output_type": "pyout",
       "prompt_number": 8,
       "text": [
        "(array([ 2.,  0.,  0.,  0.,  1.,  0.,  1.,  0.,  3.,  2.]),\n",
        " array([ 1973. ,  1974.5,  1976. ,  1977.5,  1979. ,  1980.5,  1982. ,\n",
        "         1983.5,  1985. ,  1986.5,  1988. ]),\n",
        " <a list of 10 Patch objects>)"
       ]
      },
      {
       "metadata": {},
       "output_type": "display_data",
       "png": "[encoded data removed]",
       "text": [
        "<matplotlib.figure.Figure at 0x10b9a3110>"
       ]
      }
     ],
     "prompt_number": 8
    },
    {
     "cell_type": "markdown",
     "metadata": {},
     "source": [
      "The sample is mostly consituted by PhD's in their mid-20s."
     ]
    },
    {
     "cell_type": "heading",
     "level": 3,
     "metadata": {},
     "source": [
      "Results"
     ]
    },
    {
     "cell_type": "markdown",
     "metadata": {},
     "source": [
      "#### Sequence effects in the cross-over study in terms of Usability\n",
      "\n",
      "We asked the subjects to evaluate website usability in three realms: \n",
      "\n",
      "1. Time of execution\n",
      "2. Support for execution\n",
      "3. Ease. \n",
      "\n",
      "The interfaces have no differences in navigation, or extra support such as tooltips or help buttons.  We did not predict amy changes in terms of usability evaluation.\n"
     ]
    },
    {
     "cell_type": "code",
     "collapsed": false,
     "input": [
      "sns.boxplot([df_filtered['time_1'], df_filtered['time_2']],  names=[\"First\", \"Second\"],whis=np.inf, color=\"coral\",  join_rm=True, widths=.5)"
     ],
     "language": "python",
     "metadata": {},
     "outputs": [
      {
       "metadata": {},
       "output_type": "pyout",
       "prompt_number": 9,
       "text": [
        "<matplotlib.axes._subplots.AxesSubplot at 0x10b828f90>"
       ]
      },
      {
       "metadata": {},
       "output_type": "display_data",
       "png": "[encoded data removed]",
       "text": [
        "<matplotlib.figure.Figure at 0x10b9cc410>"
       ]
      }
     ],
     "prompt_number": 9
    },
    {
     "cell_type": "markdown",
     "metadata": {},
     "source": [
      "The subjects do seem to think they have more support with the second product even when no additional support is given. There are two posible causes for this:\n",
      "\n",
      "- Learning: the execution of both products is identical and subjects could have become proficient at performing it.\n",
      "- Better understanding of the task: During the application of the experiment users were often confused about what to do the during the first product. Some of the did not understadn the instructions. When they got to the second part of the exercise they had better understanding of what was the purpose of it."
     ]
    },
    {
     "cell_type": "code",
     "collapsed": false,
     "input": [
      "sns.boxplot([df_filtered['support_1'], df_filtered['support_2'].fillna(0)],  names=[\"First\", \"Second\"],whis=np.inf, color=\"coral\",  join_rm=True, widths=.5)"
     ],
     "language": "python",
     "metadata": {},
     "outputs": [
      {
       "metadata": {},
       "output_type": "pyout",
       "prompt_number": 10,
       "text": [
        "<matplotlib.axes._subplots.AxesSubplot at 0x106adbd50>"
       ]
      },
      {
       "metadata": {},
       "output_type": "display_data",
       "png": "[encoded data removed]",
       "text": [
        "<matplotlib.figure.Figure at 0x10bda1ad0>"
       ]
      }
     ],
     "prompt_number": 10
    },
    {
     "cell_type": "markdown",
     "metadata": {},
     "source": [
      "In terms of ease of execution, results have shown that there is not a clear relation with the sequence. "
     ]
    },
    {
     "cell_type": "code",
     "collapsed": false,
     "input": [
      "df_filtered2 = df_filtered[df_filtered['treatment'] == 'CONTROL']\n",
      "df_filtered3 = df_filtered[df_filtered['treatment'] == 'TREATMENT']\n",
      "\n",
      "#sns.boxplot([df_filtered2['ease_1'], df_filtered2['ease_2'].fillna(0)],  names=[\"pre\", \"post\"],whis=np.inf, color=\"coral\",  join_rm=True)\n",
      "\n",
      "#sns.boxplot([df_filtered3['ease_1'], df_filtered3['ease_2'].fillna(0)],  names=[\"pre\", \"post\"],whis=np.inf, color=\"coral\",  join_rm=True)\n",
      "\n",
      "sns.boxplot([df_filtered['ease_1'], df_filtered['ease_2'].fillna(0)],  names=[\"First\", \"Second\"],whis=np.inf, color=\"coral\",  join_rm=True, widths=.5)"
     ],
     "language": "python",
     "metadata": {},
     "outputs": [
      {
       "metadata": {},
       "output_type": "pyout",
       "prompt_number": 11,
       "text": [
        "<matplotlib.axes._subplots.AxesSubplot at 0x10be52050>"
       ]
      },
      {
       "metadata": {},
       "output_type": "display_data",
       "png": "[encoded data removed]",
       "text": [
        "<matplotlib.figure.Figure at 0x10be79c10>"
       ]
      }
     ],
     "prompt_number": 11
    },
    {
     "cell_type": "code",
     "collapsed": false,
     "input": [
      "codes =pd.DataFrame.from_csv('helpers/baseline_codes.csv')\n",
      "#codes.join(df_filtered, on='when_best', how='right', lsuffix='_left', rsuffix='_right')\n",
      "\n",
      "df_filtered.merge(codes, on='when_best', how='left')\n"
     ],
     "language": "python",
     "metadata": {},
     "outputs": [
      {
       "html": [
        "<div style=\"max-height:1000px;max-width:1500px;overflow:auto;\">\n",
        "<table border=\"1\" class=\"dataframe\">\n",
        "  <thead>\n",
        "    <tr style=\"text-align: right;\">\n",
        "      <th></th>\n",
        "      <th>academic</th>\n",
        "      <th>awareness</th>\n",
        "      <th>data_file_title_1</th>\n",
        "      <th>data_file_title_2</th>\n",
        "      <th>discipline</th>\n",
        "      <th>ease_1</th>\n",
        "      <th>ease_2</th>\n",
        "      <th>frequency</th>\n",
        "      <th>honest</th>\n",
        "      <th>howmany</th>\n",
        "      <th>...</th>\n",
        "      <th>trust</th>\n",
        "      <th>updating</th>\n",
        "      <th>ways</th>\n",
        "      <th>when_best</th>\n",
        "      <th>when_to_1</th>\n",
        "      <th>when_to_2</th>\n",
        "      <th>with_who_1</th>\n",
        "      <th>with_who_2</th>\n",
        "      <th>year_born</th>\n",
        "      <th>baseline</th>\n",
        "    </tr>\n",
        "  </thead>\n",
        "  <tbody>\n",
        "    <tr>\n",
        "      <th>0</th>\n",
        "      <td> 1</td>\n",
        "      <td> [u'2', u'3']</td>\n",
        "      <td>                                       Survey 3434</td>\n",
        "      <td>                                            RNAseq</td>\n",
        "      <td> functional genomics researcher</td>\n",
        "      <td> 4</td>\n",
        "      <td>  5</td>\n",
        "      <td> once a year</td>\n",
        "      <td> on</td>\n",
        "      <td> between 2 and 4</td>\n",
        "      <td>...</td>\n",
        "      <td> cite</td>\n",
        "      <td> 0</td>\n",
        "      <td> [u'when  I am requested for the data', u\"by up...</td>\n",
        "      <td>         before publication of a peer-review paper</td>\n",
        "      <td>        NaN</td>\n",
        "      <td>          6</td>\n",
        "      <td>        public</td>\n",
        "      <td> collaborators</td>\n",
        "      <td> 1973</td>\n",
        "      <td>  6</td>\n",
        "    </tr>\n",
        "    <tr>\n",
        "      <th>1</th>\n",
        "      <td> 1</td>\n",
        "      <td>          NaN</td>\n",
        "      <td>                             Psycho cemical_rivers</td>\n",
        "      <td>          Enzyms in experiment (blood and insulin)</td>\n",
        "      <td>              Biologist-ecology</td>\n",
        "      <td> 4</td>\n",
        "      <td>  4</td>\n",
        "      <td>       never</td>\n",
        "      <td> on</td>\n",
        "      <td> between 2 and 4</td>\n",
        "      <td>...</td>\n",
        "      <td> cite</td>\n",
        "      <td> 1</td>\n",
        "      <td>       [u'when  I am requested for the data', u'']</td>\n",
        "      <td> +5 years after publication of a peer-review paper</td>\n",
        "      <td>          3</td>\n",
        "      <td> is_control</td>\n",
        "      <td> collaborators</td>\n",
        "      <td> collaborators</td>\n",
        "      <td> 1986</td>\n",
        "      <td>  2</td>\n",
        "    </tr>\n",
        "    <tr>\n",
        "      <th>2</th>\n",
        "      <td> 1</td>\n",
        "      <td>       [u'3']</td>\n",
        "      <td>                                           DataSet</td>\n",
        "      <td>                                           DataSet</td>\n",
        "      <td>                Systems Biology</td>\n",
        "      <td> 4</td>\n",
        "      <td>NaN</td>\n",
        "      <td>       never</td>\n",
        "      <td> on</td>\n",
        "      <td>         only me</td>\n",
        "      <td>...</td>\n",
        "      <td> cite</td>\n",
        "      <td> 0</td>\n",
        "      <td>    [u'I have never shared materials openly', u'']</td>\n",
        "      <td> immediately after publication of a peer-review...</td>\n",
        "      <td>        NaN</td>\n",
        "      <td> is_control</td>\n",
        "      <td>        public</td>\n",
        "      <td>        public</td>\n",
        "      <td> 1974</td>\n",
        "      <td>  5</td>\n",
        "    </tr>\n",
        "    <tr>\n",
        "      <th>3</th>\n",
        "      <td> 1</td>\n",
        "      <td>       [u'1']</td>\n",
        "      <td>                                        My Dataset</td>\n",
        "      <td>                                           dataset</td>\n",
        "      <td>      Environmental Engineering</td>\n",
        "      <td> 5</td>\n",
        "      <td>  4</td>\n",
        "      <td> once a year</td>\n",
        "      <td> on</td>\n",
        "      <td>         only me</td>\n",
        "      <td>...</td>\n",
        "      <td> cite</td>\n",
        "      <td> 0</td>\n",
        "      <td> [u'when  I am requested for the data', u\"by up...</td>\n",
        "      <td> immediately after publication of a peer-review...</td>\n",
        "      <td> is_control</td>\n",
        "      <td>          6</td>\n",
        "      <td> collaborators</td>\n",
        "      <td> collaborators</td>\n",
        "      <td> 1983</td>\n",
        "      <td>  5</td>\n",
        "    </tr>\n",
        "    <tr>\n",
        "      <th>4</th>\n",
        "      <td> 1</td>\n",
        "      <td>          NaN</td>\n",
        "      <td>                                               NaN</td>\n",
        "      <td>                                               NaN</td>\n",
        "      <td>                   Biochemistry</td>\n",
        "      <td> 4</td>\n",
        "      <td>  3</td>\n",
        "      <td>       never</td>\n",
        "      <td> on</td>\n",
        "      <td> between 2 and 4</td>\n",
        "      <td>...</td>\n",
        "      <td> cite</td>\n",
        "      <td> 0</td>\n",
        "      <td>                                                 0</td>\n",
        "      <td> immediately after publication of a peer-review...</td>\n",
        "      <td> is_control</td>\n",
        "      <td>        NaN</td>\n",
        "      <td> collaborators</td>\n",
        "      <td> collaborators</td>\n",
        "      <td> 1985</td>\n",
        "      <td>  5</td>\n",
        "    </tr>\n",
        "    <tr>\n",
        "      <th>5</th>\n",
        "      <td> 1</td>\n",
        "      <td>            3</td>\n",
        "      <td>    Fingerprints as evidence for a genetic profile</td>\n",
        "      <td>                                       Images list</td>\n",
        "      <td>                        Biology</td>\n",
        "      <td> 4</td>\n",
        "      <td>  5</td>\n",
        "      <td>       never</td>\n",
        "      <td> on</td>\n",
        "      <td> between 2 and 4</td>\n",
        "      <td>...</td>\n",
        "      <td>  jam</td>\n",
        "      <td> 0</td>\n",
        "      <td>   [u'by uploading it in an open repository', u'']</td>\n",
        "      <td>         before publication of a peer-review paper</td>\n",
        "      <td>          6</td>\n",
        "      <td> is_control</td>\n",
        "      <td>       private</td>\n",
        "      <td> collaborators</td>\n",
        "      <td> 1985</td>\n",
        "      <td>  6</td>\n",
        "    </tr>\n",
        "    <tr>\n",
        "      <th>6</th>\n",
        "      <td> 2</td>\n",
        "      <td>       [u'3']</td>\n",
        "      <td>                                  2014-12-12-set-1</td>\n",
        "      <td>                                 2014-12-12-2 set </td>\n",
        "      <td>                     Chemistry </td>\n",
        "      <td> 2</td>\n",
        "      <td>  4</td>\n",
        "      <td>       never</td>\n",
        "      <td> on</td>\n",
        "      <td>         only me</td>\n",
        "      <td>...</td>\n",
        "      <td>  jam</td>\n",
        "      <td> 0</td>\n",
        "      <td> [u'I have never shared materials with openly',...</td>\n",
        "      <td> immediately after publication of a peer-review...</td>\n",
        "      <td> is_control</td>\n",
        "      <td>        NaN</td>\n",
        "      <td> collaborators</td>\n",
        "      <td>        public</td>\n",
        "      <td> 1979</td>\n",
        "      <td>  5</td>\n",
        "    </tr>\n",
        "    <tr>\n",
        "      <th>7</th>\n",
        "      <td> 1</td>\n",
        "      <td>       [u'3']</td>\n",
        "      <td>                                               NaN</td>\n",
        "      <td>                                               NaN</td>\n",
        "      <td>                 bioinformatics</td>\n",
        "      <td> 5</td>\n",
        "      <td>  4</td>\n",
        "      <td>       never</td>\n",
        "      <td> on</td>\n",
        "      <td> between 2 and 4</td>\n",
        "      <td>...</td>\n",
        "      <td> cite</td>\n",
        "      <td> 0</td>\n",
        "      <td>                                                 0</td>\n",
        "      <td> immediately after publication of a peer-review...</td>\n",
        "      <td> is_control</td>\n",
        "      <td>        NaN</td>\n",
        "      <td>        public</td>\n",
        "      <td>        public</td>\n",
        "      <td> 1987</td>\n",
        "      <td>  5</td>\n",
        "    </tr>\n",
        "    <tr>\n",
        "      <th>8</th>\n",
        "      <td> 1</td>\n",
        "      <td>            3</td>\n",
        "      <td>                                               NaN</td>\n",
        "      <td>                                               NaN</td>\n",
        "      <td>                            NaN</td>\n",
        "      <td> 4</td>\n",
        "      <td>  4</td>\n",
        "      <td>         NaN</td>\n",
        "      <td> on</td>\n",
        "      <td>             NaN</td>\n",
        "      <td>...</td>\n",
        "      <td>  NaN</td>\n",
        "      <td> 0</td>\n",
        "      <td>                                                 0</td>\n",
        "      <td>                                               NaN</td>\n",
        "      <td>        NaN</td>\n",
        "      <td> is_control</td>\n",
        "      <td>        public</td>\n",
        "      <td> collaborators</td>\n",
        "      <td>  NaN</td>\n",
        "      <td>NaN</td>\n",
        "    </tr>\n",
        "    <tr>\n",
        "      <th>9</th>\n",
        "      <td> 1</td>\n",
        "      <td>            3</td>\n",
        "      <td> Temporal expression of MEF2 protein expression...</td>\n",
        "      <td> Temporal expression of MEF2 mRNA expression in...</td>\n",
        "      <td>                   Neuroscience</td>\n",
        "      <td> 4</td>\n",
        "      <td>  4</td>\n",
        "      <td> once a year</td>\n",
        "      <td> on</td>\n",
        "      <td> between 2 and 4</td>\n",
        "      <td>...</td>\n",
        "      <td> cite</td>\n",
        "      <td> 0</td>\n",
        "      <td>    [u'I have never shared materials openly', u'']</td>\n",
        "      <td> immediately after publication of a peer-review...</td>\n",
        "      <td> is_control</td>\n",
        "      <td>        NaN</td>\n",
        "      <td>        public</td>\n",
        "      <td>        public</td>\n",
        "      <td> 1988</td>\n",
        "      <td>  5</td>\n",
        "    </tr>\n",
        "  </tbody>\n",
        "</table>\n",
        "<p>10 rows \u00d7 33 columns</p>\n",
        "</div>"
       ],
       "metadata": {},
       "output_type": "pyout",
       "prompt_number": 13,
       "text": [
        "   academic     awareness                                  data_file_title_1  \\\n",
        "0         1  [u'2', u'3']                                        Survey 3434   \n",
        "1         1           NaN                              Psycho cemical_rivers   \n",
        "2         1        [u'3']                                            DataSet   \n",
        "3         1        [u'1']                                         My Dataset   \n",
        "4         1           NaN                                                NaN   \n",
        "5         1             3     Fingerprints as evidence for a genetic profile   \n",
        "6         2        [u'3']                                   2014-12-12-set-1   \n",
        "7         1        [u'3']                                                NaN   \n",
        "8         1             3                                                NaN   \n",
        "9         1             3  Temporal expression of MEF2 protein expression...   \n",
        "\n",
        "                                   data_file_title_2  \\\n",
        "0                                             RNAseq   \n",
        "1           Enzyms in experiment (blood and insulin)   \n",
        "2                                            DataSet   \n",
        "3                                            dataset   \n",
        "4                                                NaN   \n",
        "5                                        Images list   \n",
        "6                                  2014-12-12-2 set    \n",
        "7                                                NaN   \n",
        "8                                                NaN   \n",
        "9  Temporal expression of MEF2 mRNA expression in...   \n",
        "\n",
        "                       discipline  ease_1  ease_2    frequency honest  \\\n",
        "0  functional genomics researcher       4       5  once a year     on   \n",
        "1               Biologist-ecology       4       4        never     on   \n",
        "2                 Systems Biology       4     NaN        never     on   \n",
        "3       Environmental Engineering       5       4  once a year     on   \n",
        "4                    Biochemistry       4       3        never     on   \n",
        "5                         Biology       4       5        never     on   \n",
        "6                      Chemistry        2       4        never     on   \n",
        "7                  bioinformatics       5       4        never     on   \n",
        "8                             NaN       4       4          NaN     on   \n",
        "9                    Neuroscience       4       4  once a year     on   \n",
        "\n",
        "           howmany    ...    trust  updating  \\\n",
        "0  between 2 and 4    ...     cite         0   \n",
        "1  between 2 and 4    ...     cite         1   \n",
        "2          only me    ...     cite         0   \n",
        "3          only me    ...     cite         0   \n",
        "4  between 2 and 4    ...     cite         0   \n",
        "5  between 2 and 4    ...      jam         0   \n",
        "6          only me    ...      jam         0   \n",
        "7  between 2 and 4    ...     cite         0   \n",
        "8              NaN    ...      NaN         0   \n",
        "9  between 2 and 4    ...     cite         0   \n",
        "\n",
        "                                                ways  \\\n",
        "0  [u'when  I am requested for the data', u\"by up...   \n",
        "1        [u'when  I am requested for the data', u'']   \n",
        "2     [u'I have never shared materials openly', u'']   \n",
        "3  [u'when  I am requested for the data', u\"by up...   \n",
        "4                                                  0   \n",
        "5    [u'by uploading it in an open repository', u'']   \n",
        "6  [u'I have never shared materials with openly',...   \n",
        "7                                                  0   \n",
        "8                                                  0   \n",
        "9     [u'I have never shared materials openly', u'']   \n",
        "\n",
        "                                           when_best   when_to_1   when_to_2  \\\n",
        "0          before publication of a peer-review paper         NaN           6   \n",
        "1  +5 years after publication of a peer-review paper           3  is_control   \n",
        "2  immediately after publication of a peer-review...         NaN  is_control   \n",
        "3  immediately after publication of a peer-review...  is_control           6   \n",
        "4  immediately after publication of a peer-review...  is_control         NaN   \n",
        "5          before publication of a peer-review paper           6  is_control   \n",
        "6  immediately after publication of a peer-review...  is_control         NaN   \n",
        "7  immediately after publication of a peer-review...  is_control         NaN   \n",
        "8                                                NaN         NaN  is_control   \n",
        "9  immediately after publication of a peer-review...  is_control         NaN   \n",
        "\n",
        "      with_who_1     with_who_2  year_born  baseline  \n",
        "0         public  collaborators       1973         6  \n",
        "1  collaborators  collaborators       1986         2  \n",
        "2         public         public       1974         5  \n",
        "3  collaborators  collaborators       1983         5  \n",
        "4  collaborators  collaborators       1985         5  \n",
        "5        private  collaborators       1985         6  \n",
        "6  collaborators         public       1979         5  \n",
        "7         public         public       1987         5  \n",
        "8         public  collaborators        NaN       NaN  \n",
        "9         public         public       1988         5  \n",
        "\n",
        "[10 rows x 33 columns]"
       ]
      }
     ],
     "prompt_number": 13
    },
    {
     "cell_type": "markdown",
     "metadata": {},
     "source": [
      "### Sequence effects in the cross-over study wihtout considering Structure Complex choice\n"
     ]
    },
    {
     "cell_type": "code",
     "collapsed": false,
     "input": [
      "s= code_measures_wo_scc(df_filtered)\n",
      "x = code_baseline(s)"
     ],
     "language": "python",
     "metadata": {},
     "outputs": [
      {
       "output_type": "stream",
       "stream": "stderr",
       "text": [
        "code_data.py:96: SettingWithCopyWarning: \n",
        "A value is trying to be set on a copy of a slice from a DataFrame.\n",
        "Try using .loc[row_indexer,col_indexer] = value instead\n",
        "\n",
        "See the the caveats in the documentation: http://pandas.pydata.org/pandas-docs/stable/indexing.html#indexing-view-versus-copy\n",
        "  df_filtered['measure_2'] = pd.Series(0, index=df_filtered.index)\n",
        "code_data.py:97: SettingWithCopyWarning: \n",
        "A value is trying to be set on a copy of a slice from a DataFrame.\n",
        "Try using .loc[row_indexer,col_indexer] = value instead\n",
        "\n",
        "See the the caveats in the documentation: http://pandas.pydata.org/pandas-docs/stable/indexing.html#indexing-view-versus-copy\n",
        "  df_filtered['measure_1'] = pd.Series(0, index=df_filtered.index)\n",
        "code_data.py:101: SettingWithCopyWarning: \n",
        "A value is trying to be set on a copy of a slice from a DataFrame\n",
        "\n",
        "See the the caveats in the documentation: http://pandas.pydata.org/pandas-docs/stable/indexing.html#indexing-view-versus-copy\n",
        "  d.measure_1[d['with_who_1'] == 'public'] = 5\n"
       ]
      },
      {
       "output_type": "stream",
       "stream": "stderr",
       "text": [
        "/Users/kristian/miniconda/lib/python2.7/site-packages/pandas/core/generic.py:3368: SettingWithCopyWarning: \n",
        "A value is trying to be set on a copy of a slice from a DataFrame\n",
        "\n",
        "See the the caveats in the documentation: http://pandas.pydata.org/pandas-docs/stable/indexing.html#indexing-view-versus-copy\n",
        "  self._update_inplace(new_data)\n",
        "-c:1: SettingWithCopyWarning: \n",
        "A value is trying to be set on a copy of a slice from a DataFrame\n",
        "\n",
        "See the the caveats in the documentation: http://pandas.pydata.org/pandas-docs/stable/indexing.html#indexing-view-versus-copy\n"
       ]
      },
      {
       "output_type": "stream",
       "stream": "stderr",
       "text": [
        "code_data.py:102: SettingWithCopyWarning: \n",
        "A value is trying to be set on a copy of a slice from a DataFrame\n",
        "\n",
        "See the the caveats in the documentation: http://pandas.pydata.org/pandas-docs/stable/indexing.html#indexing-view-versus-copy\n",
        "  d.measure_1[d['with_who_1'] == 'collaborators'] = 3\n",
        "code_data.py:103: SettingWithCopyWarning: \n",
        "A value is trying to be set on a copy of a slice from a DataFrame\n",
        "\n",
        "See the the caveats in the documentation: http://pandas.pydata.org/pandas-docs/stable/indexing.html#indexing-view-versus-copy\n",
        "  d.measure_1[d['with_who_1'] == 'private'] = 1\n"
       ]
      },
      {
       "output_type": "stream",
       "stream": "stderr",
       "text": [
        "code_data.py:106: SettingWithCopyWarning: \n",
        "A value is trying to be set on a copy of a slice from a DataFrame\n",
        "\n",
        "See the the caveats in the documentation: http://pandas.pydata.org/pandas-docs/stable/indexing.html#indexing-view-versus-copy\n",
        "  d.measure_2[d['with_who_2'] == 'public'] = 5\n",
        "code_data.py:107: SettingWithCopyWarning: \n",
        "A value is trying to be set on a copy of a slice from a DataFrame\n",
        "\n",
        "See the the caveats in the documentation: http://pandas.pydata.org/pandas-docs/stable/indexing.html#indexing-view-versus-copy\n",
        "  d.measure_2[d['with_who_2'] == 'collaborators'] = 3\n"
       ]
      },
      {
       "output_type": "stream",
       "stream": "stderr",
       "text": [
        "code_data.py:108: SettingWithCopyWarning: \n",
        "A value is trying to be set on a copy of a slice from a DataFrame\n",
        "\n",
        "See the the caveats in the documentation: http://pandas.pydata.org/pandas-docs/stable/indexing.html#indexing-view-versus-copy\n",
        "  d.measure_2[d['with_who_2'] == 'private'] = 1\n",
        "code_data.py:117: SettingWithCopyWarning: \n",
        "A value is trying to be set on a copy of a slice from a DataFrame\n",
        "\n",
        "See the the caveats in the documentation: http://pandas.pydata.org/pandas-docs/stable/indexing.html#indexing-view-versus-copy\n",
        "  df.measure_2[df['with_who_2'] == 'public'] = 5\n"
       ]
      },
      {
       "output_type": "stream",
       "stream": "stderr",
       "text": [
        "code_data.py:118: SettingWithCopyWarning: \n",
        "A value is trying to be set on a copy of a slice from a DataFrame\n",
        "\n",
        "See the the caveats in the documentation: http://pandas.pydata.org/pandas-docs/stable/indexing.html#indexing-view-versus-copy\n",
        "  df.measure_2[df['with_who_2'] == 'collaborators'] = 3\n",
        "code_data.py:119: SettingWithCopyWarning: \n",
        "A value is trying to be set on a copy of a slice from a DataFrame\n",
        "\n",
        "See the the caveats in the documentation: http://pandas.pydata.org/pandas-docs/stable/indexing.html#indexing-view-versus-copy\n",
        "  df.measure_2[df['with_who_2'] == 'private'] = 1\n"
       ]
      },
      {
       "output_type": "stream",
       "stream": "stderr",
       "text": [
        "code_data.py:122: SettingWithCopyWarning: \n",
        "A value is trying to be set on a copy of a slice from a DataFrame\n",
        "\n",
        "See the the caveats in the documentation: http://pandas.pydata.org/pandas-docs/stable/indexing.html#indexing-view-versus-copy\n",
        "  df.measure_1[df['with_who_1'] == 'public'] = 5\n",
        "code_data.py:123: SettingWithCopyWarning: \n",
        "A value is trying to be set on a copy of a slice from a DataFrame\n",
        "\n",
        "See the the caveats in the documentation: http://pandas.pydata.org/pandas-docs/stable/indexing.html#indexing-view-versus-copy\n",
        "  df.measure_1[df['with_who_2'] == 'collaborators'] = 3\n"
       ]
      },
      {
       "output_type": "stream",
       "stream": "stderr",
       "text": [
        "code_data.py:124: SettingWithCopyWarning: \n",
        "A value is trying to be set on a copy of a slice from a DataFrame\n",
        "\n",
        "See the the caveats in the documentation: http://pandas.pydata.org/pandas-docs/stable/indexing.html#indexing-view-versus-copy\n",
        "  df.measure_1[df['with_who_2'] == 'private'] = 1\n",
        "code_data.py:25: SettingWithCopyWarning: \n",
        "A value is trying to be set on a copy of a slice from a DataFrame\n",
        "\n",
        "See the the caveats in the documentation: http://pandas.pydata.org/pandas-docs/stable/indexing.html#indexing-view-versus-copy\n",
        "  series.baseline[series['when_best'] == '+10 years after publication of a peer-review paper'] = 1\n"
       ]
      },
      {
       "output_type": "stream",
       "stream": "stderr",
       "text": [
        "code_data.py:26: SettingWithCopyWarning: \n",
        "A value is trying to be set on a copy of a slice from a DataFrame\n",
        "\n",
        "See the the caveats in the documentation: http://pandas.pydata.org/pandas-docs/stable/indexing.html#indexing-view-versus-copy\n",
        "  series.baseline[series['when_best'] == '+5 years after publication of a peer-review paper'] = 2\n",
        "code_data.py:27: SettingWithCopyWarning: \n",
        "A value is trying to be set on a copy of a slice from a DataFrame\n",
        "\n",
        "See the the caveats in the documentation: http://pandas.pydata.org/pandas-docs/stable/indexing.html#indexing-view-versus-copy\n",
        "  series.baseline[series['when_best'] == '+3 years after publication of a peer-review paper'] = 3\n",
        "code_data.py:28: SettingWithCopyWarning: \n",
        "A value is trying to be set on a copy of a slice from a DataFrame\n",
        "\n",
        "See the the caveats in the documentation: http://pandas.pydata.org/pandas-docs/stable/indexing.html#indexing-view-versus-copy\n",
        "  series.baseline[series['when_best'] == '+1 years after publication of a peer-review paper'] = 4\n"
       ]
      },
      {
       "output_type": "stream",
       "stream": "stderr",
       "text": [
        "code_data.py:29: SettingWithCopyWarning: \n",
        "A value is trying to be set on a copy of a slice from a DataFrame\n",
        "\n",
        "See the the caveats in the documentation: http://pandas.pydata.org/pandas-docs/stable/indexing.html#indexing-view-versus-copy\n",
        "  series.baseline[series['when_best'] == 'immediately after publication of a peer-review paper'] = 5\n",
        "code_data.py:30: SettingWithCopyWarning: \n",
        "A value is trying to be set on a copy of a slice from a DataFrame\n",
        "\n",
        "See the the caveats in the documentation: http://pandas.pydata.org/pandas-docs/stable/indexing.html#indexing-view-versus-copy\n",
        "  series.baseline[series['when_best'] == 'before publication of a peer-review paper'] = 6\n"
       ]
      }
     ],
     "prompt_number": 14
    },
    {
     "cell_type": "code",
     "collapsed": false,
     "input": [
      "x.to_csv(\"coded_df.csv\")"
     ],
     "language": "python",
     "metadata": {},
     "outputs": [],
     "prompt_number": 17
    },
    {
     "cell_type": "markdown",
     "metadata": {},
     "source": [
      "We found no differences in the effects of the interfaces on decision making.\n",
      "The following boxplot shows the comparison of the mesurements of decision making under each treatment. The sequence is not considered in this boxplot and carry-over effects might exist. \n",
      "\n",
      "The joining lines indicate a subject switching preferences. The later happened twice for all subjects. There are not changes in the means because the changes complemented each other.\n",
      "\n"
     ]
    },
    {
     "cell_type": "markdown",
     "metadata": {},
     "source": [
      "- Subjects stick with their decision."
     ]
    },
    {
     "cell_type": "code",
     "collapsed": false,
     "input": [
      "y = x[x['treatment'] == 'TREATMENT']\n",
      "k = x[x['treatment'] == 'CONTROL']\n",
      "w = k['ease_2']\n",
      "z = y['ease_1']\n",
      "dt =  z.append(w)\n",
      "\n",
      "w = k['ease_1']\n",
      "z = y['ease_2']\n",
      "dc =  z.append(w)\n",
      "\n",
      "\n",
      "sns.boxplot([dt, dc],  names=[\"Product:GAIN\",\"Product:LOSS\" ],whis=np.inf, color=\"pastel\",  join_rm=True, widths=.5)"
     ],
     "language": "python",
     "metadata": {},
     "outputs": [
      {
       "metadata": {},
       "output_type": "pyout",
       "prompt_number": 18,
       "text": [
        "<matplotlib.axes._subplots.AxesSubplot at 0x10c7f6150>"
       ]
      },
      {
       "metadata": {},
       "output_type": "display_data",
       "png": "[encoded data removed]",
       "text": [
        "<matplotlib.figure.Figure at 0x10c100310>"
       ]
      }
     ],
     "prompt_number": 18
    },
    {
     "cell_type": "code",
     "collapsed": false,
     "input": [
      "w = k['support_2']\n",
      "z = y['support_1']\n",
      "dt =  z.append(w)\n",
      "\n",
      "w = k['support_1']\n",
      "z = y['support_2']\n",
      "dc =  z.append(w)\n",
      "\n",
      "\n",
      "sns.boxplot([dt, dc],  names=[\"Product:GAIN\",\"Product:LOSS\" ],whis=np.inf, color=\"pastel\",  join_rm=True, widths=.5)"
     ],
     "language": "python",
     "metadata": {},
     "outputs": [
      {
       "metadata": {},
       "output_type": "pyout",
       "prompt_number": 19,
       "text": [
        "<matplotlib.axes._subplots.AxesSubplot at 0x10dbeb0d0>"
       ]
      },
      {
       "metadata": {},
       "output_type": "display_data",
       "png": "[encoded data removed]",
       "text": [
        "<matplotlib.figure.Figure at 0x10c100e10>"
       ]
      }
     ],
     "prompt_number": 19
    },
    {
     "cell_type": "code",
     "collapsed": false,
     "input": [
      "w = k['time_2']\n",
      "z = y['time_1']\n",
      "dt =  z.append(w)\n",
      "\n",
      "w = k['time_1']\n",
      "z = y['time_2']\n",
      "dc =  z.append(w)\n",
      "\n",
      "\n",
      "sns.boxplot([dt, dc],  names=[\"Product:GAIN\",\"Product:LOSS\" ],whis=np.inf, color=\"pastel\",  join_rm=True, widths=.5)"
     ],
     "language": "python",
     "metadata": {},
     "outputs": [
      {
       "metadata": {},
       "output_type": "pyout",
       "prompt_number": 20,
       "text": [
        "<matplotlib.axes._subplots.AxesSubplot at 0x10c7ec890>"
       ]
      },
      {
       "metadata": {},
       "output_type": "display_data",
       "png": "[encoded data removed]",
       "text": [
        "<matplotlib.figure.Figure at 0x10e33c590>"
       ]
      }
     ],
     "prompt_number": 20
    },
    {
     "cell_type": "code",
     "collapsed": false,
     "input": [],
     "language": "python",
     "metadata": {},
     "outputs": []
    }
   ],
   "metadata": {}
  }
 ]
}