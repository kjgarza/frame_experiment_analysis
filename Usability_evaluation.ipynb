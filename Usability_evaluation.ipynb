{
 "cells": [
  {
   "cell_type": "markdown",
   "metadata": {},
   "source": [
    "# Usability Evaluation\n",
    "\n",
    "<i>Created by Kristian G</i>\n"
   ]
  },
  {
   "cell_type": "markdown",
   "metadata": {},
   "source": [
    "Preliminaries"
   ]
  },
  {
   "cell_type": "code",
   "execution_count": 18,
   "metadata": {
    "collapsed": false
   },
   "outputs": [
    {
     "name": "stdout",
     "output_type": "stream",
     "text": [
      "Populating the interactive namespace from numpy and matplotlib\n",
      "The rpy2.ipython extension is already loaded. To reload it, use:\n",
      "  %reload_ext rpy2.ipython\n"
     ]
    },
    {
     "name": "stderr",
     "output_type": "stream",
     "text": [
      "WARNING: pylab import has clobbered these variables: ['xlim', 'pylab', 'ylim']\n",
      "`%matplotlib` prevents importing * from pylab and numpy\n"
     ]
    }
   ],
   "source": [
    "%matplotlib inline\n",
    "import numpy as np\n",
    "import pandas as pd\n",
    "import matplotlib.pyplot as plt\n",
    "from scipy.stats import mode\n",
    "from ggplot import *\n",
    "import json\n",
    "from frame_experiment_table import FrameExperimentTable\n",
    "%pylab inline\n",
    "# %load_ext rmagic\n",
    "%load_ext rpy2.ipython\n",
    "import pylab\n",
    "from __future__ import division\n",
    "import seaborn as sns\n",
    "sns.set_style(\"whitegrid\",{'font.family': [u'serif']})\n",
    "sns.set(style=\"ticks\", font='serif')\n",
    "sns.set_context(\"poster\", font_scale=1.5)"
   ]
  },
  {
   "cell_type": "code",
   "execution_count": 19,
   "metadata": {
    "collapsed": false
   },
   "outputs": [],
   "source": [
    "%%R\n",
    "rm(list=ls())"
   ]
  },
  {
   "cell_type": "markdown",
   "metadata": {},
   "source": [
    "#Load dataset"
   ]
  },
  {
   "cell_type": "code",
   "execution_count": 20,
   "metadata": {
    "collapsed": false
   },
   "outputs": [
    {
     "name": "stdout",
     "output_type": "stream",
     "text": [
      "(55, 40)\n",
      "classify_field - Fields Excluded\n",
      "(6,)\n",
      "(55, 42)\n",
      "New Usability Columns\n",
      "(55, 44)\n",
      "set([1, 2])\n",
      "multi\n",
      "set([1, 3])\n",
      "multi\n",
      "set([1])\n",
      "e-mail\n",
      "set([1, 2])\n",
      "multi\n",
      "set([1])\n",
      "e-mail\n",
      "set([3])\n",
      "self-depositing\n",
      "set([1, 3])\n",
      "multi\n",
      "set([2])\n",
      "self-depositing\n",
      "set([1, 2])\n",
      "multi\n",
      "set([3])\n",
      "self-depositing\n",
      "set([1])\n",
      "e-mail\n",
      "set([1, 2])\n",
      "multi\n",
      "set([2])\n",
      "self-depositing\n",
      "set([1])\n",
      "e-mail\n",
      "set([1, 2, 3])\n",
      "multi\n",
      "set([1])\n",
      "e-mail\n",
      "set([2])\n",
      "self-depositing\n",
      "set([2])\n",
      "self-depositing\n",
      "set([1, 3])\n",
      "multi\n",
      "set([1])\n",
      "e-mail\n",
      "set([4])\n",
      "Never\n",
      "set([1, 3])\n",
      "multi\n",
      "set([2])\n",
      "self-depositing\n",
      "set([4])\n",
      "Never\n",
      "set([2])\n",
      "self-depositing\n",
      "set([1, 3])\n",
      "multi\n",
      "set([2])\n",
      "self-depositing\n",
      "set([1, 3])\n",
      "multi\n",
      "set([2])\n",
      "self-depositing\n",
      "set([])\n",
      "\n",
      "set([2])\n",
      "self-depositing\n",
      "set([2])\n",
      "self-depositing\n",
      "set([1])\n",
      "e-mail\n",
      "set([2, 3])\n",
      "self-depositing\n",
      "set([2])\n",
      "self-depositing\n",
      "set([])\n",
      "\n",
      "set([4])\n",
      "Never\n",
      "set([])\n",
      "\n",
      "set([3, 4])\n",
      "Never\n",
      "set([])\n",
      "\n",
      "set([1, 2])\n",
      "multi\n",
      "set([1, 2])\n",
      "multi\n",
      "set([4])\n",
      "Never\n",
      "set([])\n",
      "\n",
      "set([1, 2, 3])\n",
      "multi\n",
      "set([2])\n",
      "self-depositing\n",
      "set([2])\n",
      "self-depositing\n",
      "set([3])\n",
      "self-depositing\n",
      "set([1, 2])\n",
      "multi\n",
      "set([1, 2, 3])\n",
      "multi\n",
      "set([])\n",
      "\n",
      "set([1, 2])\n",
      "multi\n",
      "set([2, 3])\n",
      "self-depositing\n",
      "set([2, 3])\n",
      "self-depositing\n",
      "set([1])\n",
      "e-mail\n",
      "Total\n",
      "55\n",
      "Removing testing\n",
      "2\n",
      "Removing Random\n",
      "5\n",
      "Removing Not Life Sciences\n",
      "2\n",
      "Removing Not enlgish skilled\n",
      "5\n",
      "Removing Not Honest\n",
      "6\n",
      "Removing unaware\n",
      "0\n",
      "Removing Not answer\n",
      "1\n",
      "Removing Not answer\n",
      "0\n",
      "Total\n",
      "34\n",
      "(40, 44)\n",
      "\n"
     ]
    }
   ],
   "source": [
    "picture_foler = \"/Users/kristian/Dropbox/exp_frame_effects/Images/\"\n",
    "\n",
    "gg = FrameExperimentTable('logs/data_scenario_changed')\n",
    "# gg.add_records('logs/data_incremental_file','new')\n",
    "# gg.add_records_csv('logs/data_scramble_filled_csv.csv')\n",
    "# gg.add_records('logs/data_scenario_changed','new')\n",
    "gg.filter_noise()\n",
    "gg.code_for_stat_ana()\n",
    "gg.code_survey_numeric()\n",
    "\n",
    "print ''"
   ]
  },
  {
   "cell_type": "markdown",
   "metadata": {},
   "source": [
    "# Metric\n",
    "\n",
    "Instead of using 3 outputs as the questionary has we use a single output. since for all the measurements (ease, support, time) higher is better we use a measure of centrality of the 3 measurements to compute the usability measure.\n",
    "\n",
    "There are two options for measure of centrality\n",
    "\n",
    "- Median: Median is especially useful with skewed distributions as it draws the line right in the middle of your data set. It provides a better measure of centrality as 50% of your data is above the median. Median can be used with interval or ratio data. **Median is usually the preferred measurement to use with ordinal data**.  http://www.wyzant.com/resources/lessons/math/prealgebra/representing-data\n",
    "- Mode: Mode is best used with categorical (nominal) or discrete data. It is difficult to use it with continuous data because often a single value is not repeated exactly. There often are one or two distinct favorites in categorical or discrete data. Mode has a drawback in that it may not be a measure of centrality if the most common item is away from the rest of the data set. http://www.wyzant.com/resources/lessons/math/prealgebra/representing-data"
   ]
  },
  {
   "cell_type": "markdown",
   "metadata": {},
   "source": [
    "##Using the MEDIAN as measure of centrality"
   ]
  },
  {
   "cell_type": "code",
   "execution_count": 21,
   "metadata": {
    "collapsed": false
   },
   "outputs": [
    {
     "data": {
      "text/html": [
       "<div style=\"max-height:1000px;max-width:1500px;overflow:auto;\">\n",
       "<table border=\"1\" class=\"dataframe\">\n",
       "  <thead>\n",
       "    <tr style=\"text-align: right;\">\n",
       "      <th></th>\n",
       "      <th>discipline</th>\n",
       "      <th>ease_2</th>\n",
       "      <th>regret_2</th>\n",
       "      <th>support_2</th>\n",
       "      <th>time_2</th>\n",
       "      <th>time_second_evaluation</th>\n",
       "      <th>treatment_eval_2</th>\n",
       "      <th>ease_1</th>\n",
       "      <th>regret_1</th>\n",
       "      <th>support_1</th>\n",
       "      <th>...</th>\n",
       "      <th>data_file_title_2</th>\n",
       "      <th>time_create_2</th>\n",
       "      <th>treatment_2</th>\n",
       "      <th>trial_2</th>\n",
       "      <th>when_to_2</th>\n",
       "      <th>with_who_2</th>\n",
       "      <th>gibberish</th>\n",
       "      <th>field</th>\n",
       "      <th>usability_2</th>\n",
       "      <th>usability_1</th>\n",
       "    </tr>\n",
       "    <tr>\n",
       "      <th>sessionid</th>\n",
       "      <th></th>\n",
       "      <th></th>\n",
       "      <th></th>\n",
       "      <th></th>\n",
       "      <th></th>\n",
       "      <th></th>\n",
       "      <th></th>\n",
       "      <th></th>\n",
       "      <th></th>\n",
       "      <th></th>\n",
       "      <th></th>\n",
       "      <th></th>\n",
       "      <th></th>\n",
       "      <th></th>\n",
       "      <th></th>\n",
       "      <th></th>\n",
       "      <th></th>\n",
       "      <th></th>\n",
       "      <th></th>\n",
       "      <th></th>\n",
       "      <th></th>\n",
       "    </tr>\n",
       "  </thead>\n",
       "  <tbody>\n",
       "    <tr>\n",
       "      <th>0687ef14d441706b211ff0edf9f2ebea</th>\n",
       "      <td>           Biochemistry</td>\n",
       "      <td> 4</td>\n",
       "      <td> 4</td>\n",
       "      <td> 4</td>\n",
       "      <td> 4</td>\n",
       "      <td> 1430731542</td>\n",
       "      <td> B</td>\n",
       "      <td> 4</td>\n",
       "      <td> 3</td>\n",
       "      <td> 4</td>\n",
       "      <td>...</td>\n",
       "      <td>          mydata test</td>\n",
       "      <td> 1430731524</td>\n",
       "      <td> B</td>\n",
       "      <td> 1</td>\n",
       "      <td> nan</td>\n",
       "      <td> 4</td>\n",
       "      <td> True</td>\n",
       "      <td>           biochemistry</td>\n",
       "      <td> 4</td>\n",
       "      <td> 4</td>\n",
       "    </tr>\n",
       "    <tr>\n",
       "      <th>0ddaf25718c6b4c35bf05ae6335150d4</th>\n",
       "      <td>             Biophysics</td>\n",
       "      <td> 4</td>\n",
       "      <td> 2</td>\n",
       "      <td> 3</td>\n",
       "      <td> 4</td>\n",
       "      <td> 1429884067</td>\n",
       "      <td> B</td>\n",
       "      <td> 4</td>\n",
       "      <td> 3</td>\n",
       "      <td> 2</td>\n",
       "      <td>...</td>\n",
       "      <td> 2D PMF NaH exchanger</td>\n",
       "      <td> 1429884034</td>\n",
       "      <td> B</td>\n",
       "      <td> 1</td>\n",
       "      <td> nan</td>\n",
       "      <td> 4</td>\n",
       "      <td> True</td>\n",
       "      <td>             biophysics</td>\n",
       "      <td> 4</td>\n",
       "      <td> 4</td>\n",
       "    </tr>\n",
       "    <tr>\n",
       "      <th>18da94199bf2471a70d0298958543bb4</th>\n",
       "      <td>                Biology</td>\n",
       "      <td> 5</td>\n",
       "      <td> 1</td>\n",
       "      <td> 3</td>\n",
       "      <td> 5</td>\n",
       "      <td> 1430721360</td>\n",
       "      <td> B</td>\n",
       "      <td> 5</td>\n",
       "      <td> 4</td>\n",
       "      <td> 3</td>\n",
       "      <td>...</td>\n",
       "      <td>          My data set</td>\n",
       "      <td> 1430721315</td>\n",
       "      <td> B</td>\n",
       "      <td> 1</td>\n",
       "      <td> nan</td>\n",
       "      <td> 4</td>\n",
       "      <td> True</td>\n",
       "      <td>                biology</td>\n",
       "      <td> 5</td>\n",
       "      <td> 5</td>\n",
       "    </tr>\n",
       "    <tr>\n",
       "      <th>23ba4e6b2b149ba6294bd7e0125b2948</th>\n",
       "      <td> Bioprocess Engineering</td>\n",
       "      <td> 4</td>\n",
       "      <td> 2</td>\n",
       "      <td> 4</td>\n",
       "      <td> 4</td>\n",
       "      <td> 1430470915</td>\n",
       "      <td> B</td>\n",
       "      <td> 4</td>\n",
       "      <td> 2</td>\n",
       "      <td> 4</td>\n",
       "      <td>...</td>\n",
       "      <td>            more data</td>\n",
       "      <td> 1430470882</td>\n",
       "      <td> B</td>\n",
       "      <td> 1</td>\n",
       "      <td> nan</td>\n",
       "      <td> 4</td>\n",
       "      <td> True</td>\n",
       "      <td> bioprocess engineering</td>\n",
       "      <td> 4</td>\n",
       "      <td> 4</td>\n",
       "    </tr>\n",
       "    <tr>\n",
       "      <th>2bd5b76b8fac74b062c1a99c9bbc0a75</th>\n",
       "      <td>        Systems Biology</td>\n",
       "      <td> 5</td>\n",
       "      <td> 3</td>\n",
       "      <td> 5</td>\n",
       "      <td> 5</td>\n",
       "      <td> 1431345215</td>\n",
       "      <td> A</td>\n",
       "      <td> 5</td>\n",
       "      <td> 3</td>\n",
       "      <td> 4</td>\n",
       "      <td>...</td>\n",
       "      <td>  Dataset for paper X</td>\n",
       "      <td> 1431345182</td>\n",
       "      <td> A</td>\n",
       "      <td> 1</td>\n",
       "      <td> nan</td>\n",
       "      <td> 4</td>\n",
       "      <td> True</td>\n",
       "      <td>        systems biology</td>\n",
       "      <td> 5</td>\n",
       "      <td> 5</td>\n",
       "    </tr>\n",
       "  </tbody>\n",
       "</table>\n",
       "<p>5 rows × 44 columns</p>\n",
       "</div>"
      ],
      "text/plain": [
       "                                              discipline  ease_2  regret_2  \\\n",
       "sessionid                                                                    \n",
       "0687ef14d441706b211ff0edf9f2ebea            Biochemistry       4         4   \n",
       "0ddaf25718c6b4c35bf05ae6335150d4              Biophysics       4         2   \n",
       "18da94199bf2471a70d0298958543bb4                 Biology       5         1   \n",
       "23ba4e6b2b149ba6294bd7e0125b2948  Bioprocess Engineering       4         2   \n",
       "2bd5b76b8fac74b062c1a99c9bbc0a75         Systems Biology       5         3   \n",
       "\n",
       "                                  support_2  time_2  time_second_evaluation  \\\n",
       "sessionid                                                                     \n",
       "0687ef14d441706b211ff0edf9f2ebea          4       4              1430731542   \n",
       "0ddaf25718c6b4c35bf05ae6335150d4          3       4              1429884067   \n",
       "18da94199bf2471a70d0298958543bb4          3       5              1430721360   \n",
       "23ba4e6b2b149ba6294bd7e0125b2948          4       4              1430470915   \n",
       "2bd5b76b8fac74b062c1a99c9bbc0a75          5       5              1431345215   \n",
       "\n",
       "                                 treatment_eval_2  ease_1  regret_1  \\\n",
       "sessionid                                                             \n",
       "0687ef14d441706b211ff0edf9f2ebea                B       4         3   \n",
       "0ddaf25718c6b4c35bf05ae6335150d4                B       4         3   \n",
       "18da94199bf2471a70d0298958543bb4                B       5         4   \n",
       "23ba4e6b2b149ba6294bd7e0125b2948                B       4         2   \n",
       "2bd5b76b8fac74b062c1a99c9bbc0a75                A       5         3   \n",
       "\n",
       "                                  support_1     ...       \\\n",
       "sessionid                                       ...        \n",
       "0687ef14d441706b211ff0edf9f2ebea          4     ...        \n",
       "0ddaf25718c6b4c35bf05ae6335150d4          2     ...        \n",
       "18da94199bf2471a70d0298958543bb4          3     ...        \n",
       "23ba4e6b2b149ba6294bd7e0125b2948          4     ...        \n",
       "2bd5b76b8fac74b062c1a99c9bbc0a75          4     ...        \n",
       "\n",
       "                                     data_file_title_2  time_create_2  \\\n",
       "sessionid                                                               \n",
       "0687ef14d441706b211ff0edf9f2ebea           mydata test     1430731524   \n",
       "0ddaf25718c6b4c35bf05ae6335150d4  2D PMF NaH exchanger     1429884034   \n",
       "18da94199bf2471a70d0298958543bb4           My data set     1430721315   \n",
       "23ba4e6b2b149ba6294bd7e0125b2948             more data     1430470882   \n",
       "2bd5b76b8fac74b062c1a99c9bbc0a75   Dataset for paper X     1431345182   \n",
       "\n",
       "                                 treatment_2 trial_2  when_to_2 with_who_2  \\\n",
       "sessionid                                                                    \n",
       "0687ef14d441706b211ff0edf9f2ebea           B       1        nan          4   \n",
       "0ddaf25718c6b4c35bf05ae6335150d4           B       1        nan          4   \n",
       "18da94199bf2471a70d0298958543bb4           B       1        nan          4   \n",
       "23ba4e6b2b149ba6294bd7e0125b2948           B       1        nan          4   \n",
       "2bd5b76b8fac74b062c1a99c9bbc0a75           A       1        nan          4   \n",
       "\n",
       "                                  gibberish                   field  \\\n",
       "sessionid                                                             \n",
       "0687ef14d441706b211ff0edf9f2ebea       True            biochemistry   \n",
       "0ddaf25718c6b4c35bf05ae6335150d4       True              biophysics   \n",
       "18da94199bf2471a70d0298958543bb4       True                 biology   \n",
       "23ba4e6b2b149ba6294bd7e0125b2948       True  bioprocess engineering   \n",
       "2bd5b76b8fac74b062c1a99c9bbc0a75       True         systems biology   \n",
       "\n",
       "                                  usability_2  usability_1  \n",
       "sessionid                                                   \n",
       "0687ef14d441706b211ff0edf9f2ebea            4            4  \n",
       "0ddaf25718c6b4c35bf05ae6335150d4            4            4  \n",
       "18da94199bf2471a70d0298958543bb4            5            5  \n",
       "23ba4e6b2b149ba6294bd7e0125b2948            4            4  \n",
       "2bd5b76b8fac74b062c1a99c9bbc0a75            5            5  \n",
       "\n",
       "[5 rows x 44 columns]"
      ]
     },
     "execution_count": 21,
     "metadata": {},
     "output_type": "execute_result"
    }
   ],
   "source": [
    "f = gg.get_anadata()\n",
    "f.head(5)\n",
    "\n",
    "# f['usability_2'] = f.apply(lambda row: np.median([row['ease_2'],row['support_2'],row['time_2']]), axis=1)\n",
    "# f['usability_1'] = f.apply(lambda row: np.median([row['ease_1'],row['support_1'],row['time_1']]), axis=1)\n",
    "# #f['usability_1'] = f.apply(lambda row: mode([row['ease_1'],row['support_1'],row['time_1']])[0][0], axis=1)\n"
   ]
  },
  {
   "cell_type": "code",
   "execution_count": 22,
   "metadata": {
    "collapsed": false
   },
   "outputs": [
    {
     "data": {
      "text/plain": [
       "<matplotlib.axes._subplots.AxesSubplot at 0x1154e9110>"
      ]
     },
     "execution_count": 22,
     "metadata": {},
     "output_type": "execute_result"
    },
    {
     "data": {
      "image/png": "[encoded data removed]",
      "text/plain": [
       "<matplotlib.figure.Figure at 0x1154e93d0>"
      ]
     },
     "metadata": {},
     "output_type": "display_data"
    }
   ],
   "source": [
    "s = f.groupby('usability_1')['usability_1'].count()\n",
    "s.plot(kind='barh')"
   ]
  },
  {
   "cell_type": "code",
   "execution_count": 23,
   "metadata": {
    "collapsed": false
   },
   "outputs": [
    {
     "data": {
      "text/plain": [
       "<matplotlib.axes._subplots.AxesSubplot at 0x1154dbf50>"
      ]
     },
     "execution_count": 23,
     "metadata": {},
     "output_type": "execute_result"
    },
    {
     "data": {
      "image/png": "[encoded data removed]",
      "text/plain": [
       "<matplotlib.figure.Figure at 0x115504750>"
      ]
     },
     "metadata": {},
     "output_type": "display_data"
    }
   ],
   "source": [
    "s = f.groupby('usability_2')['usability_2'].count()\n",
    "s.plot(kind='barh')"
   ]
  },
  {
   "cell_type": "code",
   "execution_count": 24,
   "metadata": {
    "collapsed": false
   },
   "outputs": [
    {
     "name": "stdout",
     "output_type": "stream",
     "text": [
      "rm_ws_dataframe - Droping missing records\n",
      "(40, 5)\n",
      "rm_ws_dataframe - remove missing data \n",
      "(40, 5)\n",
      "rm_ws_dataframe - no duplicates \n",
      "(80, 5)\n",
      "4    43\n",
      "5    26\n",
      "3     5\n",
      "2     4\n",
      "1     2\n",
      "dtype: int64\n"
     ]
    },
    {
     "data": {
      "text/html": [
       "<div style=\"max-height:1000px;max-width:1500px;overflow:auto;\">\n",
       "<table border=\"1\" class=\"dataframe\">\n",
       "  <thead>\n",
       "    <tr style=\"text-align: right;\">\n",
       "      <th></th>\n",
       "      <th>response</th>\n",
       "      <th>trt</th>\n",
       "      <th>sequ</th>\n",
       "      <th>period</th>\n",
       "      <th>id</th>\n",
       "    </tr>\n",
       "  </thead>\n",
       "  <tbody>\n",
       "    <tr>\n",
       "      <th>0</th>\n",
       "      <td> 4</td>\n",
       "      <td> A</td>\n",
       "      <td> AB</td>\n",
       "      <td> 1</td>\n",
       "      <td> 0687ef14d441706b211ff0edf9f2ebea</td>\n",
       "    </tr>\n",
       "    <tr>\n",
       "      <th>1</th>\n",
       "      <td> 4</td>\n",
       "      <td> A</td>\n",
       "      <td> AB</td>\n",
       "      <td> 1</td>\n",
       "      <td> 0ddaf25718c6b4c35bf05ae6335150d4</td>\n",
       "    </tr>\n",
       "    <tr>\n",
       "      <th>2</th>\n",
       "      <td> 5</td>\n",
       "      <td> A</td>\n",
       "      <td> AB</td>\n",
       "      <td> 1</td>\n",
       "      <td> 18da94199bf2471a70d0298958543bb4</td>\n",
       "    </tr>\n",
       "    <tr>\n",
       "      <th>3</th>\n",
       "      <td> 4</td>\n",
       "      <td> A</td>\n",
       "      <td> AB</td>\n",
       "      <td> 1</td>\n",
       "      <td> 23ba4e6b2b149ba6294bd7e0125b2948</td>\n",
       "    </tr>\n",
       "    <tr>\n",
       "      <th>5</th>\n",
       "      <td> 5</td>\n",
       "      <td> A</td>\n",
       "      <td> AB</td>\n",
       "      <td> 1</td>\n",
       "      <td> 2be130732b05502a4a631bc01291b25b</td>\n",
       "    </tr>\n",
       "    <tr>\n",
       "      <th>6</th>\n",
       "      <td> 5</td>\n",
       "      <td> A</td>\n",
       "      <td> AB</td>\n",
       "      <td> 1</td>\n",
       "      <td> 38c7d17c9d41c293afe9d368d45a629c</td>\n",
       "    </tr>\n",
       "    <tr>\n",
       "      <th>8</th>\n",
       "      <td> 4</td>\n",
       "      <td> A</td>\n",
       "      <td> AB</td>\n",
       "      <td> 1</td>\n",
       "      <td> 4306bad121fb3ad1fb2365dda1a32440</td>\n",
       "    </tr>\n",
       "  </tbody>\n",
       "</table>\n",
       "</div>"
      ],
      "text/plain": [
       "   response trt sequ period                                id\n",
       "0         4   A   AB      1  0687ef14d441706b211ff0edf9f2ebea\n",
       "1         4   A   AB      1  0ddaf25718c6b4c35bf05ae6335150d4\n",
       "2         5   A   AB      1  18da94199bf2471a70d0298958543bb4\n",
       "3         4   A   AB      1  23ba4e6b2b149ba6294bd7e0125b2948\n",
       "5         5   A   AB      1  2be130732b05502a4a631bc01291b25b\n",
       "6         5   A   AB      1  38c7d17c9d41c293afe9d368d45a629c\n",
       "8         4   A   AB      1  4306bad121fb3ad1fb2365dda1a32440"
      ]
     },
     "execution_count": 24,
     "metadata": {},
     "output_type": "execute_result"
    }
   ],
   "source": [
    "## Getting the formated dataframe\n",
    "full_set = gg.get_rm_ws_df('usability_1','usability_2')\n",
    "full_set.head(7)"
   ]
  },
  {
   "cell_type": "markdown",
   "metadata": {},
   "source": [
    "## Carry OVer effect check\n",
    "\n",
    "Just frist interaction for sequence"
   ]
  },
  {
   "cell_type": "code",
   "execution_count": 25,
   "metadata": {
    "collapsed": false
   },
   "outputs": [],
   "source": [
    "co_check_df = full_set[full_set['period'] == '1']"
   ]
  },
  {
   "cell_type": "code",
   "execution_count": 26,
   "metadata": {
    "collapsed": false
   },
   "outputs": [
    {
     "name": "stdout",
     "output_type": "stream",
     "text": [
      "\n",
      "Error in library(ordinal) : there is no package called ‘ordinal’\n"
     ]
    }
   ],
   "source": [
    "%%R -i co_check_df\n",
    "library(ordinal)\n",
    "\n",
    "\n",
    "s <- data.frame(co_check_df)\n",
    "s$response <- factor(s$response)\n",
    "s$trt <- factor(s$trt)\n",
    "s$sequ <- factor(s$sequ)\n",
    "s$period <- factor(s$period)\n",
    "\n",
    "clm <- clm(response ~ sequ  , data=s, link=\"loglog\",Hess = TRUE, nAGQ = 10, threshold=\"symmetric\"  )\n",
    "\n",
    "print (summary(clm))\n",
    "exp(cbind(OR =coef(clm), confint(clm)))\n",
    "print(exp(cbind(OR =coef(clm), confint(clm))))"
   ]
  },
  {
   "cell_type": "markdown",
   "metadata": {},
   "source": [
    "### check for model"
   ]
  },
  {
   "cell_type": "code",
   "execution_count": 27,
   "metadata": {
    "collapsed": false
   },
   "outputs": [
    {
     "name": "stdout",
     "output_type": "stream",
     "text": [
      "\n",
      "Error in library(ordinal) : there is no package called ‘ordinal’\n"
     ]
    }
   ],
   "source": [
    "%%R -i full_set\n",
    "library(ordinal)\n",
    "\n",
    "s <- data.frame(full_set)\n",
    "s$response <- factor(s$response)\n",
    "s$trt <- factor(s$trt)\n",
    "s$sequ <- factor(s$sequ)\n",
    "s$period <- factor(s$period)\n",
    "\n",
    "mm1 <- clmm(response ~ sequ  + trt + period  + (1 | id:sequ), s, Hess = TRUE, nAGQ = 10, threshold=\"symmetric\" )\n",
    "clmm.notrt <-clmm(response ~ sequ  + period + (1 | id:sequ), s,  Hess = TRUE, nAGQ = 10, threshold=\"symmetric\" )\n",
    "\n",
    "print (summary(mm1))\n",
    "print(exp(cbind(OR =coef(mm1), confint(mm1))))\n",
    "\n",
    "print(anova(mm1, clmm.notrt))\n",
    "\n"
   ]
  },
  {
   "cell_type": "markdown",
   "metadata": {},
   "source": [
    "> While using the Median we observe that the treatment has some influence in gettign better usability scores. this is bad because one could argue that one treatment is more easy to use and therefore easier to share data. "
   ]
  },
  {
   "cell_type": "code",
   "execution_count": 28,
   "metadata": {
    "collapsed": false
   },
   "outputs": [
    {
     "name": "stdout",
     "output_type": "stream",
     "text": [
      "\n",
      "Error in FUN(X[[i]], ...) : could not find function \"clmm2\"\n"
     ]
    }
   ],
   "source": [
    "%%R\n",
    "links <- c(\"logistic\", \"probit\", \"cloglog\", \"loglog\", \"cauchit\")\n",
    "sapply(links, function(link) {  clmm2(response ~ trt + period + sequ,random=id, data=s, link=link ,Hess = TRUE, nAGQ = 10)$logLik })\n",
    "\n"
   ]
  },
  {
   "cell_type": "markdown",
   "metadata": {},
   "source": [
    "###Using the MODE as measure of centrality"
   ]
  },
  {
   "cell_type": "code",
   "execution_count": 29,
   "metadata": {
    "collapsed": false
   },
   "outputs": [],
   "source": [
    "f['usability_2'] = f.apply(lambda row: mode([row['ease_2'],row['support_2'],row['time_2']])[0][0], axis=1)\n",
    "f['usability_1'] = f.apply(lambda row: mode([row['ease_1'],row['support_1'],row['time_1']])[0][0], axis=1)"
   ]
  },
  {
   "cell_type": "code",
   "execution_count": 30,
   "metadata": {
    "collapsed": false
   },
   "outputs": [
    {
     "data": {
      "text/plain": [
       "<matplotlib.axes._subplots.AxesSubplot at 0x115b22f90>"
      ]
     },
     "execution_count": 30,
     "metadata": {},
     "output_type": "execute_result"
    },
    {
     "data": {
      "image/png": "[encoded data removed]",
      "text/plain": [
       "<matplotlib.figure.Figure at 0x115b228d0>"
      ]
     },
     "metadata": {},
     "output_type": "display_data"
    }
   ],
   "source": [
    "s = f.groupby('usability_1')['usability_1'].count()\n",
    "s.plot(kind='barh')"
   ]
  },
  {
   "cell_type": "code",
   "execution_count": 31,
   "metadata": {
    "collapsed": false
   },
   "outputs": [
    {
     "data": {
      "text/plain": [
       "<matplotlib.axes._subplots.AxesSubplot at 0x1154e9a10>"
      ]
     },
     "execution_count": 31,
     "metadata": {},
     "output_type": "execute_result"
    },
    {
     "data": {
      "image/png": "[encoded data removed]",
      "text/plain": [
       "<matplotlib.figure.Figure at 0x115d86350>"
      ]
     },
     "metadata": {},
     "output_type": "display_data"
    }
   ],
   "source": [
    "s = f.groupby('usability_2')['usability_2'].count()\n",
    "s.plot(kind='barh')"
   ]
  },
  {
   "cell_type": "code",
   "execution_count": 32,
   "metadata": {
    "collapsed": false
   },
   "outputs": [
    {
     "name": "stdout",
     "output_type": "stream",
     "text": [
      "rm_ws_dataframe - Droping missing records\n",
      "(40, 5)\n",
      "rm_ws_dataframe - remove missing data \n",
      "(40, 5)\n",
      "rm_ws_dataframe - no duplicates \n",
      "(80, 5)\n",
      "4    43\n",
      "5    26\n",
      "3     5\n",
      "2     4\n",
      "1     2\n",
      "dtype: int64\n"
     ]
    },
    {
     "data": {
      "text/html": [
       "<div style=\"max-height:1000px;max-width:1500px;overflow:auto;\">\n",
       "<table border=\"1\" class=\"dataframe\">\n",
       "  <thead>\n",
       "    <tr style=\"text-align: right;\">\n",
       "      <th></th>\n",
       "      <th>response</th>\n",
       "      <th>trt</th>\n",
       "      <th>sequ</th>\n",
       "      <th>period</th>\n",
       "      <th>id</th>\n",
       "    </tr>\n",
       "  </thead>\n",
       "  <tbody>\n",
       "    <tr>\n",
       "      <th>0</th>\n",
       "      <td> 4</td>\n",
       "      <td> A</td>\n",
       "      <td> AB</td>\n",
       "      <td> 1</td>\n",
       "      <td> 0687ef14d441706b211ff0edf9f2ebea</td>\n",
       "    </tr>\n",
       "    <tr>\n",
       "      <th>1</th>\n",
       "      <td> 4</td>\n",
       "      <td> A</td>\n",
       "      <td> AB</td>\n",
       "      <td> 1</td>\n",
       "      <td> 0ddaf25718c6b4c35bf05ae6335150d4</td>\n",
       "    </tr>\n",
       "    <tr>\n",
       "      <th>2</th>\n",
       "      <td> 5</td>\n",
       "      <td> A</td>\n",
       "      <td> AB</td>\n",
       "      <td> 1</td>\n",
       "      <td> 18da94199bf2471a70d0298958543bb4</td>\n",
       "    </tr>\n",
       "    <tr>\n",
       "      <th>3</th>\n",
       "      <td> 4</td>\n",
       "      <td> A</td>\n",
       "      <td> AB</td>\n",
       "      <td> 1</td>\n",
       "      <td> 23ba4e6b2b149ba6294bd7e0125b2948</td>\n",
       "    </tr>\n",
       "    <tr>\n",
       "      <th>5</th>\n",
       "      <td> 5</td>\n",
       "      <td> A</td>\n",
       "      <td> AB</td>\n",
       "      <td> 1</td>\n",
       "      <td> 2be130732b05502a4a631bc01291b25b</td>\n",
       "    </tr>\n",
       "    <tr>\n",
       "      <th>6</th>\n",
       "      <td> 5</td>\n",
       "      <td> A</td>\n",
       "      <td> AB</td>\n",
       "      <td> 1</td>\n",
       "      <td> 38c7d17c9d41c293afe9d368d45a629c</td>\n",
       "    </tr>\n",
       "    <tr>\n",
       "      <th>8</th>\n",
       "      <td> 4</td>\n",
       "      <td> A</td>\n",
       "      <td> AB</td>\n",
       "      <td> 1</td>\n",
       "      <td> 4306bad121fb3ad1fb2365dda1a32440</td>\n",
       "    </tr>\n",
       "  </tbody>\n",
       "</table>\n",
       "</div>"
      ],
      "text/plain": [
       "   response trt sequ period                                id\n",
       "0         4   A   AB      1  0687ef14d441706b211ff0edf9f2ebea\n",
       "1         4   A   AB      1  0ddaf25718c6b4c35bf05ae6335150d4\n",
       "2         5   A   AB      1  18da94199bf2471a70d0298958543bb4\n",
       "3         4   A   AB      1  23ba4e6b2b149ba6294bd7e0125b2948\n",
       "5         5   A   AB      1  2be130732b05502a4a631bc01291b25b\n",
       "6         5   A   AB      1  38c7d17c9d41c293afe9d368d45a629c\n",
       "8         4   A   AB      1  4306bad121fb3ad1fb2365dda1a32440"
      ]
     },
     "execution_count": 32,
     "metadata": {},
     "output_type": "execute_result"
    }
   ],
   "source": [
    "## Getting the formated dataframe\n",
    "full_set = gg.get_rm_ws_df('usability_1','usability_2')\n",
    "full_set.head(7)"
   ]
  },
  {
   "cell_type": "markdown",
   "metadata": {},
   "source": [
    "## Using clmm"
   ]
  },
  {
   "cell_type": "markdown",
   "metadata": {},
   "source": [
    "###check carryover using grizzle"
   ]
  },
  {
   "cell_type": "code",
   "execution_count": 33,
   "metadata": {
    "collapsed": false
   },
   "outputs": [
    {
     "ename": "NameError",
     "evalue": "name 'ss' is not defined",
     "output_type": "error",
     "traceback": [
      "\u001b[0;31m---------------------------------------------------------------------------\u001b[0m",
      "\u001b[0;31mNameError\u001b[0m                                 Traceback (most recent call last)",
      "\u001b[0;32m<ipython-input-33-1736613c130e>\u001b[0m in \u001b[0;36m<module>\u001b[0;34m()\u001b[0m\n\u001b[0;32m----> 1\u001b[0;31m \u001b[0mget_ipython\u001b[0m\u001b[0;34m(\u001b[0m\u001b[0;34m)\u001b[0m\u001b[0;34m.\u001b[0m\u001b[0mrun_cell_magic\u001b[0m\u001b[0;34m(\u001b[0m\u001b[0;34mu'R'\u001b[0m\u001b[0;34m,\u001b[0m \u001b[0;34mu'-i ss -o wtpv'\u001b[0m\u001b[0;34m,\u001b[0m \u001b[0;34mu'\\nprint(aggregate(ss$sum, by=list(ss$treatment_eval_1), mean))\\nprint(wilcox.test(ss$sum~factor(ss$treatment_eval_1),paired = FALSE, conf.int = TRUE))\\nwt<- wilcox.test(ss$sum~factor(ss$treatment_eval_1),paired = FALSE, conf.int = TRUE)\\n\\nprint(wt)\\n\\n\\nwtpv<-wt$p.value\\n\\nprint(wt$p.value)\\n\\nprint(wilcox.test(ss$diff~factor(ss$treatment_eval_1),paired = FALSE, conf.int = TRUE))\\nprint(wilcox.test(ss$usability_1~factor(ss$treatment_eval_1),paired = FALSE, alternative =\"g\"  ))'\u001b[0m\u001b[0;34m)\u001b[0m\u001b[0;34m\u001b[0m\u001b[0m\n\u001b[0m",
      "\u001b[0;32m/Users/kristian/miniconda/lib/python2.7/site-packages/IPython/core/interactiveshell.pyc\u001b[0m in \u001b[0;36mrun_cell_magic\u001b[0;34m(self, magic_name, line, cell)\u001b[0m\n\u001b[1;32m   2291\u001b[0m             \u001b[0mmagic_arg_s\u001b[0m \u001b[0;34m=\u001b[0m \u001b[0mself\u001b[0m\u001b[0;34m.\u001b[0m\u001b[0mvar_expand\u001b[0m\u001b[0;34m(\u001b[0m\u001b[0mline\u001b[0m\u001b[0;34m,\u001b[0m \u001b[0mstack_depth\u001b[0m\u001b[0;34m)\u001b[0m\u001b[0;34m\u001b[0m\u001b[0m\n\u001b[1;32m   2292\u001b[0m             \u001b[0;32mwith\u001b[0m \u001b[0mself\u001b[0m\u001b[0;34m.\u001b[0m\u001b[0mbuiltin_trap\u001b[0m\u001b[0;34m:\u001b[0m\u001b[0;34m\u001b[0m\u001b[0m\n\u001b[0;32m-> 2293\u001b[0;31m                 \u001b[0mresult\u001b[0m \u001b[0;34m=\u001b[0m \u001b[0mfn\u001b[0m\u001b[0;34m(\u001b[0m\u001b[0mmagic_arg_s\u001b[0m\u001b[0;34m,\u001b[0m \u001b[0mcell\u001b[0m\u001b[0;34m)\u001b[0m\u001b[0;34m\u001b[0m\u001b[0m\n\u001b[0m\u001b[1;32m   2294\u001b[0m             \u001b[0;32mreturn\u001b[0m \u001b[0mresult\u001b[0m\u001b[0;34m\u001b[0m\u001b[0m\n\u001b[1;32m   2295\u001b[0m \u001b[0;34m\u001b[0m\u001b[0m\n",
      "\u001b[0;32m/Users/kristian/miniconda/lib/python2.7/site-packages/rpy2/ipython/rmagic.pyc\u001b[0m in \u001b[0;36mR\u001b[0;34m(self, line, cell, local_ns)\u001b[0m\n",
      "\u001b[0;32m/Users/kristian/miniconda/lib/python2.7/site-packages/IPython/core/magic.pyc\u001b[0m in \u001b[0;36m<lambda>\u001b[0;34m(f, *a, **k)\u001b[0m\n\u001b[1;32m    191\u001b[0m     \u001b[0;31m# but it's overkill for just that one bit of state.\u001b[0m\u001b[0;34m\u001b[0m\u001b[0;34m\u001b[0m\u001b[0m\n\u001b[1;32m    192\u001b[0m     \u001b[0;32mdef\u001b[0m \u001b[0mmagic_deco\u001b[0m\u001b[0;34m(\u001b[0m\u001b[0marg\u001b[0m\u001b[0;34m)\u001b[0m\u001b[0;34m:\u001b[0m\u001b[0;34m\u001b[0m\u001b[0m\n\u001b[0;32m--> 193\u001b[0;31m         \u001b[0mcall\u001b[0m \u001b[0;34m=\u001b[0m \u001b[0;32mlambda\u001b[0m \u001b[0mf\u001b[0m\u001b[0;34m,\u001b[0m \u001b[0;34m*\u001b[0m\u001b[0ma\u001b[0m\u001b[0;34m,\u001b[0m \u001b[0;34m**\u001b[0m\u001b[0mk\u001b[0m\u001b[0;34m:\u001b[0m \u001b[0mf\u001b[0m\u001b[0;34m(\u001b[0m\u001b[0;34m*\u001b[0m\u001b[0ma\u001b[0m\u001b[0;34m,\u001b[0m \u001b[0;34m**\u001b[0m\u001b[0mk\u001b[0m\u001b[0;34m)\u001b[0m\u001b[0;34m\u001b[0m\u001b[0m\n\u001b[0m\u001b[1;32m    194\u001b[0m \u001b[0;34m\u001b[0m\u001b[0m\n\u001b[1;32m    195\u001b[0m         \u001b[0;32mif\u001b[0m \u001b[0mcallable\u001b[0m\u001b[0;34m(\u001b[0m\u001b[0marg\u001b[0m\u001b[0;34m)\u001b[0m\u001b[0;34m:\u001b[0m\u001b[0;34m\u001b[0m\u001b[0m\n",
      "\u001b[0;32m/Users/kristian/miniconda/lib/python2.7/site-packages/rpy2/ipython/rmagic.pyc\u001b[0m in \u001b[0;36mR\u001b[0;34m(self, line, cell, local_ns)\u001b[0m\n\u001b[1;32m    657\u001b[0m                         \u001b[0mval\u001b[0m \u001b[0;34m=\u001b[0m \u001b[0mself\u001b[0m\u001b[0;34m.\u001b[0m\u001b[0mshell\u001b[0m\u001b[0;34m.\u001b[0m\u001b[0muser_ns\u001b[0m\u001b[0;34m[\u001b[0m\u001b[0minput\u001b[0m\u001b[0;34m]\u001b[0m\u001b[0;34m\u001b[0m\u001b[0m\n\u001b[1;32m    658\u001b[0m                     \u001b[0;32mexcept\u001b[0m \u001b[0mKeyError\u001b[0m\u001b[0;34m:\u001b[0m\u001b[0;34m\u001b[0m\u001b[0m\n\u001b[0;32m--> 659\u001b[0;31m                         \u001b[0;32mraise\u001b[0m \u001b[0mNameError\u001b[0m\u001b[0;34m(\u001b[0m\u001b[0;34m\"name '%s' is not defined\"\u001b[0m \u001b[0;34m%\u001b[0m \u001b[0minput\u001b[0m\u001b[0;34m)\u001b[0m\u001b[0;34m\u001b[0m\u001b[0m\n\u001b[0m\u001b[1;32m    660\u001b[0m                 \u001b[0;32mif\u001b[0m \u001b[0margs\u001b[0m\u001b[0;34m.\u001b[0m\u001b[0mconverter\u001b[0m \u001b[0;32mis\u001b[0m \u001b[0mNone\u001b[0m\u001b[0;34m:\u001b[0m\u001b[0;34m\u001b[0m\u001b[0m\n\u001b[1;32m    661\u001b[0m                     \u001b[0mro\u001b[0m\u001b[0;34m.\u001b[0m\u001b[0mr\u001b[0m\u001b[0;34m.\u001b[0m\u001b[0massign\u001b[0m\u001b[0;34m(\u001b[0m\u001b[0minput\u001b[0m\u001b[0;34m,\u001b[0m \u001b[0mself\u001b[0m\u001b[0;34m.\u001b[0m\u001b[0mpyconverter\u001b[0m\u001b[0;34m(\u001b[0m\u001b[0mval\u001b[0m\u001b[0;34m)\u001b[0m\u001b[0;34m)\u001b[0m\u001b[0;34m\u001b[0m\u001b[0m\n",
      "\u001b[0;31mNameError\u001b[0m: name 'ss' is not defined"
     ]
    }
   ],
   "source": [
    "%%R -i ss -o wtpv\n",
    "\n",
    "print(aggregate(ss$sum, by=list(ss$treatment_eval_1), mean))\n",
    "print(wilcox.test(ss$sum~factor(ss$treatment_eval_1),paired = FALSE, conf.int = TRUE))\n",
    "wt<- wilcox.test(ss$sum~factor(ss$treatment_eval_1),paired = FALSE, conf.int = TRUE)\n",
    "\n",
    "print(wt)\n",
    "\n",
    "\n",
    "wtpv<-wt$p.value\n",
    "\n",
    "print(wt$p.value)\n",
    "\n",
    "print(wilcox.test(ss$diff~factor(ss$treatment_eval_1),paired = FALSE, conf.int = TRUE))\n",
    "print(wilcox.test(ss$usability_1~factor(ss$treatment_eval_1),paired = FALSE, alternative =\"g\"  ))\n"
   ]
  },
  {
   "cell_type": "code",
   "execution_count": null,
   "metadata": {
    "collapsed": false
   },
   "outputs": [],
   "source": [
    "\n",
    "ss =  gg.code_for_stat_ana()\n",
    "\n",
    "ss['usability_2'] = ss.apply(lambda row: np.median([row['ease_2'],row['support_2'],row['time_2']]), axis=1)\n",
    "ss['usability_1'] = ss.apply(lambda row: np.median([row['ease_1'],row['support_1'],row['time_1']]), axis=1)\n",
    "\n",
    "\n",
    "\n",
    "ss['sequ'] = ss['treatment_eval_1']\n",
    "ss['sequ'] = ss['sequ'].replace(['A','B'],['AB','BA'])\n",
    "ss['sum']  = ss['usability_1'].astype('int') + ss['usability_2'].astype('int')\n",
    "ss['diff'] =  ss['usability_1'].astype('int') - ss['usability_2'].astype('int')\n",
    "xx =  ss[['treatment_eval_1','diff','sum']]\n",
    "AB = xx[xx['treatment_eval_1'] == 'A']\n",
    "BA = xx[xx['treatment_eval_1'] == 'B']\n",
    "sum1= AB['sum'].sum()/AB.shape[0]\n",
    "sum2= BA['sum'].sum()/BA.shape[0]\n",
    "diff1= AB['diff'].sum()/AB.shape[0]\n",
    "diff2= BA['diff'].sum()/BA.shape[0]\n",
    "\n",
    "print sum1 - sum2\n",
    "print (diff1 - diff2)/2\n"
   ]
  },
  {
   "cell_type": "code",
   "execution_count": null,
   "metadata": {
    "collapsed": false
   },
   "outputs": [],
   "source": [
    "ll =  ss[['sequ','usability_1','usability_2']]\n",
    "ll.columns = ['Sequence','Period 1','Period 2']\n",
    "ll['Sequence'] = ll['Sequence'].replace(['AB','BA'],['Ctrl-Exp','Exp-Ctrl'])\n",
    "\n",
    "\n",
    "ax= ll.groupby(['Sequence']).mean().transpose().plot(marker='o')\n",
    "\n",
    "ax.set_xlim(np.array([-0.5, 0.5]) + ax.get_xlim() )\n",
    "ax.set_ylabel(\"Usability (Sum of Means)\")\n",
    "ax.set_xticklabels([\"\",'Period 1',\"\",'Period 2',\"\"])\n",
    "wtpv1=\"p-v= \"+ str(round(wtpv[0],3))\n",
    "ax.text(1,4.025,wtpv1, fontsize=20)\n",
    "\n",
    "\n",
    "savefig(picture_foler+'usabilityCarryPlt.png', bbox_inches='tight', dpi=200)\n",
    "pax =ll.groupby(['Sequence']).median().transpose().plot(marker='o')\n",
    "\n",
    "pax.set_xlim(np.array([-0.5, 0.5]) + pax.get_xlim() )\n",
    "pax.set_ylabel(\"Usability (Sum of Medians)\")\n",
    "pax.set_xticklabels([\"\",'Period 1',\"\",'Period 2',\"\"])\n"
   ]
  },
  {
   "cell_type": "markdown",
   "metadata": {},
   "source": [
    "###Actual model"
   ]
  },
  {
   "cell_type": "code",
   "execution_count": null,
   "metadata": {
    "collapsed": false
   },
   "outputs": [],
   "source": [
    "%%R -i full_set\n",
    "library(ordinal)\n",
    "\n",
    "s <- data.frame(full_set)\n",
    "s$response <- factor(s$response)\n",
    "s$trt <- factor(s$trt)\n",
    "s$sequ <- factor(s$sequ)\n",
    "s$period <- factor(s$period)\n",
    "\n",
    "clmm.full <- clmm(response ~ sequ  + period + trt + (1 | id:sequ), s, Hess = TRUE, nAGQ = 10 )\n",
    "clmm.notrt <-clmm(response ~ sequ  + period + (1 | id:sequ), s,  Hess = TRUE, nAGQ = 10 )\n",
    "\n",
    "print (summary(clmm.full))\n",
    "print(exp(cbind(OR =coef(clmm.full), confint(clmm.full))))\n",
    "\n",
    "print(anova(clmm.full, clmm.notrt))"
   ]
  },
  {
   "cell_type": "code",
   "execution_count": null,
   "metadata": {
    "collapsed": false
   },
   "outputs": [],
   "source": [
    "%%R\n",
    "source('regression_plots.r')\n",
    "\n",
    "\n",
    "plot_odds(clmm.full,'Odds ratios and CI')\n",
    "\n",
    "##rm(list=ls())"
   ]
  },
  {
   "cell_type": "code",
   "execution_count": null,
   "metadata": {
    "collapsed": false
   },
   "outputs": [],
   "source": [
    "%%R\n",
    "\n",
    "library(texreg)\n",
    "source('clmm_extractor.r')\n",
    "\n",
    "texreg(list(clmm.notrt ,clmm.full ), ci.force = TRUE, ci.test = 1, ci.force.level = 0.95 , float.pos = \"tb\",\n",
    "      caption = \"Usability Evaluation CMML\",  use.packages = FALSE, single.row = FALSE, custom.coef.names=c(\"Sequence\",\"Period\",\"Treatment\"),\n",
    "      custom.model.names = c(\"without Treatment\", \"with Treatment\"),label=\"table:Usability_Evaluation\")\n",
    "\n"
   ]
  },
  {
   "cell_type": "code",
   "execution_count": null,
   "metadata": {
    "collapsed": false
   },
   "outputs": [],
   "source": [
    " %%R -i full_set\n",
    "library(ordinal)\n",
    "\n",
    "    s <- data.frame(full_set)\n",
    "    s$response <- factor(s$response)\n",
    "    s$trt <- factor(s$trt)\n",
    "    s$sequ <- factor(s$sequ)\n",
    "    s$period <- factor(s$period)\n",
    "\n",
    "\n",
    "    mm2 <- clmm(response ~ sequ  + period +(1 | id:sequ), s, Hess = TRUE )\n",
    "    \n",
    "\n",
    "    print (summary(mm2))\n",
    "##    exp(cbind(OR =coef(mm2), confint(mm2)))\n",
    "    "
   ]
  },
  {
   "cell_type": "code",
   "execution_count": null,
   "metadata": {
    "collapsed": false
   },
   "outputs": [],
   "source": [
    "%%R \n",
    "anova(mm2, mm1)"
   ]
  },
  {
   "cell_type": "markdown",
   "metadata": {},
   "source": [
    "> While using the Mode we observe that the treatment has some influence in gettign better usability scores. this is bad because one could argue that one treatment is more easy to use and therefore easier to share data."
   ]
  },
  {
   "cell_type": "markdown",
   "metadata": {},
   "source": [
    "> under both measures of centrality the treatment came out statistically significant and therefore this could indicate than one treatment is beter tna the other. Nevertheless using the median give the lowest significance and is a better method for centrality so we ca say the design are almost the same."
   ]
  },
  {
   "cell_type": "code",
   "execution_count": null,
   "metadata": {
    "collapsed": false
   },
   "outputs": [],
   "source": []
  },
  {
   "cell_type": "code",
   "execution_count": null,
   "metadata": {
    "collapsed": false
   },
   "outputs": [],
   "source": []
  }
 ],
 "metadata": {
  "gist_id": "2cd6483f3b2326ebed70",
  "kernelspec": {
   "display_name": "Python 2",
   "language": "python",
   "name": "python2"
  },
  "language_info": {
   "codemirror_mode": {
    "name": "ipython",
    "version": 2
   },
   "file_extension": ".py",
   "mimetype": "text/x-python",
   "name": "python",
   "nbconvert_exporter": "python",
   "pygments_lexer": "ipython2",
   "version": "2.7.11"
  },
  "notify_time": "5"
 },
 "nbformat": 4,
 "nbformat_minor": 0
}
