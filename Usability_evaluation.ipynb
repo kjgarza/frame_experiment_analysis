{
 "metadata": {
  "gist_id": "2cd6483f3b2326ebed70",
  "name": "",
  "notify_time": "5",
  "signature": "sha256:500ba8fe17b36ac137429f97a74cf286fe7399366eeb04cce776e3ef32a5e200"
 },
 "nbformat": 3,
 "nbformat_minor": 0,
 "worksheets": [
  {
   "cells": [
    {
     "cell_type": "markdown",
     "metadata": {},
     "source": [
      "# Usability Evaluation\n",
      "\n",
      "<i>Created by Kristian G</i>\n"
     ]
    },
    {
     "cell_type": "markdown",
     "metadata": {},
     "source": [
      "Preliminaries"
     ]
    },
    {
     "cell_type": "code",
     "collapsed": false,
     "input": [
      "%matplotlib inline\n",
      "import numpy as np\n",
      "import pandas as pd\n",
      "import matplotlib.pyplot as plt\n",
      "from scipy.stats import mode\n",
      "from ggplot import *\n",
      "import json\n",
      "from frame_experiment_table import FrameExperimentTable\n",
      "%pylab inline\n",
      "# %load_ext rmagic\n",
      "%load_ext rpy2.ipython\n",
      "import pylab\n",
      "\n"
     ],
     "language": "python",
     "metadata": {},
     "outputs": [
      {
       "output_type": "stream",
       "stream": "stdout",
       "text": [
        "Populating the interactive namespace from numpy and matplotlib\n"
       ]
      },
      {
       "output_type": "stream",
       "stream": "stderr",
       "text": [
        "WARNING: pylab import has clobbered these variables: ['xlim', 'ylim']\n",
        "`%matplotlib` prevents importing * from pylab and numpy\n"
       ]
      }
     ],
     "prompt_number": 1
    },
    {
     "cell_type": "code",
     "collapsed": false,
     "input": [
      "%%R\n",
      "rm(list=ls())"
     ],
     "language": "python",
     "metadata": {},
     "outputs": [],
     "prompt_number": 2
    },
    {
     "cell_type": "markdown",
     "metadata": {},
     "source": [
      "##Load dataset"
     ]
    },
    {
     "cell_type": "code",
     "collapsed": false,
     "input": [
      "gg = FrameExperimentTable('logs/data_scenario_changed')\n",
      "# gg.add_records('logs/data_incremental_file','new')\n",
      "# gg.add_records_csv('logs/data_scramble_filled_csv.csv')\n",
      "# gg.add_records('logs/data_scenario_changed','new')\n",
      "gg.filter_noise()\n",
      "gg.code_for_stat_ana()\n",
      "gg.code_survey_numeric()\n",
      "\n",
      "print ''"
     ],
     "language": "python",
     "metadata": {},
     "outputs": [
      {
       "output_type": "stream",
       "stream": "stdout",
       "text": [
        "(55, 40)\n",
        "classify_field - Fields Excluded"
       ]
      },
      {
       "output_type": "stream",
       "stream": "stdout",
       "text": [
        "\n",
        "(6,)\n",
        "(55, 42)\n",
        "New Usability Columns\n",
        "(55, 44)\n",
        "(45, 44)\n",
        "\n"
       ]
      },
      {
       "output_type": "stream",
       "stream": "stderr",
       "text": [
        "/Users/kristian/miniconda/lib/python2.7/site-packages/pandas/util/decorators.py:81: FutureWarning: the 'cols' keyword is deprecated, use 'subset' instead\n",
        "  warnings.warn(msg, FutureWarning)\n"
       ]
      }
     ],
     "prompt_number": 3
    },
    {
     "cell_type": "markdown",
     "metadata": {},
     "source": [
      "## Metric\n",
      "\n",
      "Instead of using 3 outputs as the questionary has we use a single output. since for all the measurements (ease, support, time) higher is better we use a measure of centrality of the 3 measurements to compute the usability measure.\n",
      "\n",
      "There are two options for measure of centrality\n",
      "\n",
      "- Median: Median is especially useful with skewed distributions as it draws the line right in the middle of your data set. It provides a better measure of centrality as 50% of your data is above the median. Median can be used with interval or ratio data. **Median is usually the preferred measurement to use with ordinal data**.  http://www.wyzant.com/resources/lessons/math/prealgebra/representing-data\n",
      "- Mode: Mode is best used with categorical (nominal) or discrete data. It is difficult to use it with continuous data because often a single value is not repeated exactly. There often are one or two distinct favorites in categorical or discrete data. Mode has a drawback in that it may not be a measure of centrality if the most common item is away from the rest of the data set. http://www.wyzant.com/resources/lessons/math/prealgebra/representing-data"
     ]
    },
    {
     "cell_type": "markdown",
     "metadata": {},
     "source": [
      "###Using the MEDIAN as measure of centrality"
     ]
    },
    {
     "cell_type": "code",
     "collapsed": false,
     "input": [
      "f = gg.get_anadata()\n",
      "f.head(5)\n",
      "\n",
      "# f['usability_2'] = f.apply(lambda row: np.median([row['ease_2'],row['support_2'],row['time_2']]), axis=1)\n",
      "# f['usability_1'] = f.apply(lambda row: np.median([row['ease_1'],row['support_1'],row['time_1']]), axis=1)\n",
      "##f['usability_1'] = f.apply(lambda row: mode([row['ease_1'],row['support_1'],row['time_1']])[0][0], axis=1)\n"
     ],
     "language": "python",
     "metadata": {},
     "outputs": [
      {
       "html": [
        "<div style=\"max-height:1000px;max-width:1500px;overflow:auto;\">\n",
        "<table border=\"1\" class=\"dataframe\">\n",
        "  <thead>\n",
        "    <tr style=\"text-align: right;\">\n",
        "      <th></th>\n",
        "      <th>discipline</th>\n",
        "      <th>ease_2</th>\n",
        "      <th>regret_2</th>\n",
        "      <th>support_2</th>\n",
        "      <th>time_2</th>\n",
        "      <th>time_second_evaluation</th>\n",
        "      <th>treatment_eval_2</th>\n",
        "      <th>ease_1</th>\n",
        "      <th>regret_1</th>\n",
        "      <th>support_1</th>\n",
        "      <th>...</th>\n",
        "      <th>data_file_title_2</th>\n",
        "      <th>time_create_2</th>\n",
        "      <th>treatment_2</th>\n",
        "      <th>trial_2</th>\n",
        "      <th>when_to_2</th>\n",
        "      <th>with_who_2</th>\n",
        "      <th>gibberish</th>\n",
        "      <th>field</th>\n",
        "      <th>usability_2</th>\n",
        "      <th>usability_1</th>\n",
        "    </tr>\n",
        "    <tr>\n",
        "      <th>sessionid</th>\n",
        "      <th></th>\n",
        "      <th></th>\n",
        "      <th></th>\n",
        "      <th></th>\n",
        "      <th></th>\n",
        "      <th></th>\n",
        "      <th></th>\n",
        "      <th></th>\n",
        "      <th></th>\n",
        "      <th></th>\n",
        "      <th></th>\n",
        "      <th></th>\n",
        "      <th></th>\n",
        "      <th></th>\n",
        "      <th></th>\n",
        "      <th></th>\n",
        "      <th></th>\n",
        "      <th></th>\n",
        "      <th></th>\n",
        "      <th></th>\n",
        "      <th></th>\n",
        "    </tr>\n",
        "  </thead>\n",
        "  <tbody>\n",
        "    <tr>\n",
        "      <th>0687ef14d441706b211ff0edf9f2ebea</th>\n",
        "      <td>           Biochemistry</td>\n",
        "      <td> 4</td>\n",
        "      <td> 4</td>\n",
        "      <td> 4</td>\n",
        "      <td> 4</td>\n",
        "      <td> 1430731542</td>\n",
        "      <td> A</td>\n",
        "      <td> 4</td>\n",
        "      <td> 3</td>\n",
        "      <td> 4</td>\n",
        "      <td>...</td>\n",
        "      <td>          mydata test</td>\n",
        "      <td> 1430731524</td>\n",
        "      <td> A</td>\n",
        "      <td> 1</td>\n",
        "      <td> nan</td>\n",
        "      <td> 4</td>\n",
        "      <td> True</td>\n",
        "      <td>           biochemistry</td>\n",
        "      <td> 4</td>\n",
        "      <td> 4</td>\n",
        "    </tr>\n",
        "    <tr>\n",
        "      <th>0ddaf25718c6b4c35bf05ae6335150d4</th>\n",
        "      <td>             Biophysics</td>\n",
        "      <td> 4</td>\n",
        "      <td> 2</td>\n",
        "      <td> 3</td>\n",
        "      <td> 4</td>\n",
        "      <td> 1429884067</td>\n",
        "      <td> A</td>\n",
        "      <td> 4</td>\n",
        "      <td> 3</td>\n",
        "      <td> 2</td>\n",
        "      <td>...</td>\n",
        "      <td> 2D PMF NaH exchanger</td>\n",
        "      <td> 1429884034</td>\n",
        "      <td> A</td>\n",
        "      <td> 1</td>\n",
        "      <td> nan</td>\n",
        "      <td> 4</td>\n",
        "      <td> True</td>\n",
        "      <td>             biophysics</td>\n",
        "      <td> 4</td>\n",
        "      <td> 4</td>\n",
        "    </tr>\n",
        "    <tr>\n",
        "      <th>18da94199bf2471a70d0298958543bb4</th>\n",
        "      <td>                Biology</td>\n",
        "      <td> 5</td>\n",
        "      <td> 1</td>\n",
        "      <td> 3</td>\n",
        "      <td> 5</td>\n",
        "      <td> 1430721360</td>\n",
        "      <td> A</td>\n",
        "      <td> 5</td>\n",
        "      <td> 4</td>\n",
        "      <td> 3</td>\n",
        "      <td>...</td>\n",
        "      <td>          My data set</td>\n",
        "      <td> 1430721315</td>\n",
        "      <td> A</td>\n",
        "      <td> 1</td>\n",
        "      <td> nan</td>\n",
        "      <td> 4</td>\n",
        "      <td> True</td>\n",
        "      <td>                biology</td>\n",
        "      <td> 5</td>\n",
        "      <td> 5</td>\n",
        "    </tr>\n",
        "    <tr>\n",
        "      <th>23ba4e6b2b149ba6294bd7e0125b2948</th>\n",
        "      <td> Bioprocess Engineering</td>\n",
        "      <td> 4</td>\n",
        "      <td> 2</td>\n",
        "      <td> 4</td>\n",
        "      <td> 4</td>\n",
        "      <td> 1430470915</td>\n",
        "      <td> A</td>\n",
        "      <td> 4</td>\n",
        "      <td> 2</td>\n",
        "      <td> 4</td>\n",
        "      <td>...</td>\n",
        "      <td>            more data</td>\n",
        "      <td> 1430470882</td>\n",
        "      <td> A</td>\n",
        "      <td> 1</td>\n",
        "      <td> nan</td>\n",
        "      <td> 4</td>\n",
        "      <td> True</td>\n",
        "      <td> bioprocess engineering</td>\n",
        "      <td> 4</td>\n",
        "      <td> 4</td>\n",
        "    </tr>\n",
        "    <tr>\n",
        "      <th>2bd5b76b8fac74b062c1a99c9bbc0a75</th>\n",
        "      <td>        Systems Biology</td>\n",
        "      <td> 5</td>\n",
        "      <td> 3</td>\n",
        "      <td> 5</td>\n",
        "      <td> 5</td>\n",
        "      <td> 1431345215</td>\n",
        "      <td> B</td>\n",
        "      <td> 5</td>\n",
        "      <td> 3</td>\n",
        "      <td> 4</td>\n",
        "      <td>...</td>\n",
        "      <td>  Dataset for paper X</td>\n",
        "      <td> 1431345182</td>\n",
        "      <td> B</td>\n",
        "      <td> 1</td>\n",
        "      <td> nan</td>\n",
        "      <td> 4</td>\n",
        "      <td> True</td>\n",
        "      <td>        systems biology</td>\n",
        "      <td> 5</td>\n",
        "      <td> 5</td>\n",
        "    </tr>\n",
        "  </tbody>\n",
        "</table>\n",
        "<p>5 rows \u00d7 44 columns</p>\n",
        "</div>"
       ],
       "metadata": {},
       "output_type": "pyout",
       "prompt_number": 4,
       "text": [
        "                                              discipline  ease_2  regret_2  \\\n",
        "sessionid                                                                    \n",
        "0687ef14d441706b211ff0edf9f2ebea            Biochemistry       4         4   \n",
        "0ddaf25718c6b4c35bf05ae6335150d4              Biophysics       4         2   \n",
        "18da94199bf2471a70d0298958543bb4                 Biology       5         1   \n",
        "23ba4e6b2b149ba6294bd7e0125b2948  Bioprocess Engineering       4         2   \n",
        "2bd5b76b8fac74b062c1a99c9bbc0a75         Systems Biology       5         3   \n",
        "\n",
        "                                  support_2  time_2  time_second_evaluation  \\\n",
        "sessionid                                                                     \n",
        "0687ef14d441706b211ff0edf9f2ebea          4       4              1430731542   \n",
        "0ddaf25718c6b4c35bf05ae6335150d4          3       4              1429884067   \n",
        "18da94199bf2471a70d0298958543bb4          3       5              1430721360   \n",
        "23ba4e6b2b149ba6294bd7e0125b2948          4       4              1430470915   \n",
        "2bd5b76b8fac74b062c1a99c9bbc0a75          5       5              1431345215   \n",
        "\n",
        "                                 treatment_eval_2  ease_1  regret_1  \\\n",
        "sessionid                                                             \n",
        "0687ef14d441706b211ff0edf9f2ebea                A       4         3   \n",
        "0ddaf25718c6b4c35bf05ae6335150d4                A       4         3   \n",
        "18da94199bf2471a70d0298958543bb4                A       5         4   \n",
        "23ba4e6b2b149ba6294bd7e0125b2948                A       4         2   \n",
        "2bd5b76b8fac74b062c1a99c9bbc0a75                B       5         3   \n",
        "\n",
        "                                  support_1     ...       \\\n",
        "sessionid                                       ...        \n",
        "0687ef14d441706b211ff0edf9f2ebea          4     ...        \n",
        "0ddaf25718c6b4c35bf05ae6335150d4          2     ...        \n",
        "18da94199bf2471a70d0298958543bb4          3     ...        \n",
        "23ba4e6b2b149ba6294bd7e0125b2948          4     ...        \n",
        "2bd5b76b8fac74b062c1a99c9bbc0a75          4     ...        \n",
        "\n",
        "                                     data_file_title_2  time_create_2  \\\n",
        "sessionid                                                               \n",
        "0687ef14d441706b211ff0edf9f2ebea           mydata test     1430731524   \n",
        "0ddaf25718c6b4c35bf05ae6335150d4  2D PMF NaH exchanger     1429884034   \n",
        "18da94199bf2471a70d0298958543bb4           My data set     1430721315   \n",
        "23ba4e6b2b149ba6294bd7e0125b2948             more data     1430470882   \n",
        "2bd5b76b8fac74b062c1a99c9bbc0a75   Dataset for paper X     1431345182   \n",
        "\n",
        "                                 treatment_2 trial_2  when_to_2 with_who_2  \\\n",
        "sessionid                                                                    \n",
        "0687ef14d441706b211ff0edf9f2ebea           A       1        nan          4   \n",
        "0ddaf25718c6b4c35bf05ae6335150d4           A       1        nan          4   \n",
        "18da94199bf2471a70d0298958543bb4           A       1        nan          4   \n",
        "23ba4e6b2b149ba6294bd7e0125b2948           A       1        nan          4   \n",
        "2bd5b76b8fac74b062c1a99c9bbc0a75           B       1        nan          4   \n",
        "\n",
        "                                  gibberish                   field  \\\n",
        "sessionid                                                             \n",
        "0687ef14d441706b211ff0edf9f2ebea       True            biochemistry   \n",
        "0ddaf25718c6b4c35bf05ae6335150d4       True              biophysics   \n",
        "18da94199bf2471a70d0298958543bb4       True                 biology   \n",
        "23ba4e6b2b149ba6294bd7e0125b2948       True  bioprocess engineering   \n",
        "2bd5b76b8fac74b062c1a99c9bbc0a75       True         systems biology   \n",
        "\n",
        "                                  usability_2  usability_1  \n",
        "sessionid                                                   \n",
        "0687ef14d441706b211ff0edf9f2ebea            4            4  \n",
        "0ddaf25718c6b4c35bf05ae6335150d4            4            4  \n",
        "18da94199bf2471a70d0298958543bb4            5            5  \n",
        "23ba4e6b2b149ba6294bd7e0125b2948            4            4  \n",
        "2bd5b76b8fac74b062c1a99c9bbc0a75            5            5  \n",
        "\n",
        "[5 rows x 44 columns]"
       ]
      }
     ],
     "prompt_number": 4
    },
    {
     "cell_type": "code",
     "collapsed": false,
     "input": [
      "s = f.groupby('usability_1')['usability_1'].count()\n",
      "s.plot(kind='barh')"
     ],
     "language": "python",
     "metadata": {},
     "outputs": [
      {
       "metadata": {},
       "output_type": "pyout",
       "prompt_number": 5,
       "text": [
        "<matplotlib.axes._subplots.AxesSubplot at 0x10b457a50>"
       ]
      },
      {
       "metadata": {},
       "output_type": "display_data",
       "png": "[encoded data removed]",
       "text": [
        "<matplotlib.figure.Figure at 0x10b457550>"
       ]
      }
     ],
     "prompt_number": 5
    },
    {
     "cell_type": "code",
     "collapsed": false,
     "input": [
      "s = f.groupby('usability_2')['usability_2'].count()\n",
      "s.plot(kind='barh')"
     ],
     "language": "python",
     "metadata": {},
     "outputs": [
      {
       "metadata": {},
       "output_type": "pyout",
       "prompt_number": 6,
       "text": [
        "<matplotlib.axes._subplots.AxesSubplot at 0x10b47ce90>"
       ]
      },
      {
       "metadata": {},
       "output_type": "display_data",
       "png": "[encoded data removed]",
       "text": [
        "<matplotlib.figure.Figure at 0x10b6ef310>"
       ]
      }
     ],
     "prompt_number": 6
    },
    {
     "cell_type": "code",
     "collapsed": false,
     "input": [
      "## Getting the formated dataframe\n",
      "full_set = gg.get_rm_ws_df('usability_1','usability_2')\n",
      "full_set.head(7)"
     ],
     "language": "python",
     "metadata": {},
     "outputs": [
      {
       "output_type": "stream",
       "stream": "stdout",
       "text": [
        "rm_ws_dataframe - Droping missing records\n",
        "(45, 5)\n",
        "rm_ws_dataframe - remove missing data \n",
        "(45, 5)\n",
        "rm_ws_dataframe - no duplicates \n",
        "(45, 6)\n"
       ]
      },
      {
       "html": [
        "<div style=\"max-height:1000px;max-width:1500px;overflow:auto;\">\n",
        "<table border=\"1\" class=\"dataframe\">\n",
        "  <thead>\n",
        "    <tr style=\"text-align: right;\">\n",
        "      <th></th>\n",
        "      <th>response</th>\n",
        "      <th>trt</th>\n",
        "      <th>sequ</th>\n",
        "      <th>period</th>\n",
        "      <th>id</th>\n",
        "    </tr>\n",
        "  </thead>\n",
        "  <tbody>\n",
        "    <tr>\n",
        "      <th>4 </th>\n",
        "      <td> 5</td>\n",
        "      <td> A</td>\n",
        "      <td> AB</td>\n",
        "      <td> 1</td>\n",
        "      <td> 2bd5b76b8fac74b062c1a99c9bbc0a75</td>\n",
        "    </tr>\n",
        "    <tr>\n",
        "      <th>7 </th>\n",
        "      <td> 4</td>\n",
        "      <td> A</td>\n",
        "      <td> AB</td>\n",
        "      <td> 1</td>\n",
        "      <td> 3ea2814b0443687ea2400e6c1726d7ab</td>\n",
        "    </tr>\n",
        "    <tr>\n",
        "      <th>9 </th>\n",
        "      <td> 5</td>\n",
        "      <td> A</td>\n",
        "      <td> AB</td>\n",
        "      <td> 1</td>\n",
        "      <td> 4d9db524466a6d05f29fb721f842de77</td>\n",
        "    </tr>\n",
        "    <tr>\n",
        "      <th>10</th>\n",
        "      <td> 3</td>\n",
        "      <td> A</td>\n",
        "      <td> AB</td>\n",
        "      <td> 1</td>\n",
        "      <td> 52d3867f738f6cff74269cf62e3b7251</td>\n",
        "    </tr>\n",
        "    <tr>\n",
        "      <th>11</th>\n",
        "      <td> 5</td>\n",
        "      <td> A</td>\n",
        "      <td> AB</td>\n",
        "      <td> 1</td>\n",
        "      <td> 5b114f95a429eb982fc0b378c64a23f9</td>\n",
        "    </tr>\n",
        "    <tr>\n",
        "      <th>12</th>\n",
        "      <td> 5</td>\n",
        "      <td> A</td>\n",
        "      <td> AB</td>\n",
        "      <td> 1</td>\n",
        "      <td> 690e88138d83a8ec5fea4230b364aae0</td>\n",
        "    </tr>\n",
        "    <tr>\n",
        "      <th>14</th>\n",
        "      <td> 4</td>\n",
        "      <td> A</td>\n",
        "      <td> AB</td>\n",
        "      <td> 1</td>\n",
        "      <td> 6fd7664989b2b16f85c63169595bb66e</td>\n",
        "    </tr>\n",
        "  </tbody>\n",
        "</table>\n",
        "</div>"
       ],
       "metadata": {},
       "output_type": "pyout",
       "prompt_number": 7,
       "text": [
        "    response trt sequ period                                id\n",
        "4          5   A   AB      1  2bd5b76b8fac74b062c1a99c9bbc0a75\n",
        "7          4   A   AB      1  3ea2814b0443687ea2400e6c1726d7ab\n",
        "9          5   A   AB      1  4d9db524466a6d05f29fb721f842de77\n",
        "10         3   A   AB      1  52d3867f738f6cff74269cf62e3b7251\n",
        "11         5   A   AB      1  5b114f95a429eb982fc0b378c64a23f9\n",
        "12         5   A   AB      1  690e88138d83a8ec5fea4230b364aae0\n",
        "14         4   A   AB      1  6fd7664989b2b16f85c63169595bb66e"
       ]
      }
     ],
     "prompt_number": 7
    },
    {
     "cell_type": "code",
     "collapsed": false,
     "input": [
      "%%R -i full_set\n",
      "library(ordinal)\n",
      "\n",
      "s <- data.frame(full_set)\n",
      "s$response <- factor(s$response)\n",
      "s$trt <- factor(s$trt)\n",
      "s$sequ <- factor(s$sequ)\n",
      "s$period <- factor(s$period)\n",
      "\n",
      "mm1 <- clmm(response ~ sequ  + trt + period  + (1 | id:sequ), s, Hess = TRUE, nAGQ = 10 )\n",
      "\n",
      "print (summary(mm1))\n",
      "exp(cbind(OR =coef(mm1), confint(mm1)))\n"
     ],
     "language": "python",
     "metadata": {},
     "outputs": [
      {
       "metadata": {},
       "output_type": "display_data",
       "text": [
        "Cumulative Link Mixed Model fitted with the adaptive Gauss-Hermite \n",
        "quadrature approximation with 10 quadrature points \n",
        "\n",
        "formula: response ~ sequ + trt + period + (1 | id:sequ)\n",
        "data:    s\n",
        "\n",
        " link  threshold nobs logLik AIC    niter     max.grad cond.H \n",
        " logit flexible  90   -75.51 167.03 477(5453) 1.25e-05 1.3e+03\n",
        "\n",
        "Random effects:\n",
        " Groups  Name        Variance Std.Dev.\n",
        " id:sequ (Intercept) 40       6.325   \n",
        "Number of groups:  id:sequ 45 \n",
        "\n",
        "Coefficients:\n",
        "        Estimate Std. Error z value Pr(>|z|)  \n",
        "sequBA   -0.5483     2.1324  -0.257   0.7971  \n",
        "trtB      1.5285     0.8275   1.847   0.0647 .\n",
        "period2   1.0713     0.7875   1.360   0.1737  \n",
        "---\n",
        "Signif. codes:  0 \u2018***\u2019 0.001 \u2018**\u2019 0.01 \u2018*\u2019 0.05 \u2018.\u2019 0.1 \u2018 \u2019 1\n",
        "\n",
        "Threshold coefficients:\n",
        "    Estimate Std. Error z value\n",
        "1|2  -13.369      4.449  -3.005\n",
        "2|3   -8.351      2.717  -3.074\n",
        "3|4   -5.889      2.183  -2.697\n",
        "4|5    2.683      1.704   1.575\n",
        "                  OR        2.5 %       97.5 %\n",
        "1|2     1.562175e-06 2.550427e-10 9.568553e-03\n",
        "2|3     2.362045e-04 1.149952e-06 4.851728e-02\n",
        "3|4     2.769947e-03 3.836922e-05 1.999677e-01\n",
        "4|5     1.463588e+01 5.184862e-01 4.131430e+02\n",
        "sequBA  5.779449e-01 8.846177e-03 3.775871e+01\n",
        "trtB    4.611149e+00 9.107689e-01 2.334588e+01\n",
        "period2 2.919097e+00 6.235826e-01 1.366480e+01\n"
       ]
      }
     ],
     "prompt_number": 8
    },
    {
     "cell_type": "markdown",
     "metadata": {},
     "source": [
      "> While using the Median we observe that the treatment has some influence in gettign better usability scores. this is bad because one could argue that one treatment is more easy to use and therefore easier to share data. "
     ]
    },
    {
     "cell_type": "markdown",
     "metadata": {},
     "source": [
      "###Using the MODE as measure of centrality"
     ]
    },
    {
     "cell_type": "code",
     "collapsed": false,
     "input": [
      "# f['usability_2'] = f.apply(lambda row: mode([row['ease_2'],row['support_2'],row['time_2']])[0][0], axis=1)\n",
      "# f['usability_1'] = f.apply(lambda row: mode([row['ease_1'],row['support_1'],row['time_1']])[0][0], axis=1)"
     ],
     "language": "python",
     "metadata": {},
     "outputs": [],
     "prompt_number": 9
    },
    {
     "cell_type": "code",
     "collapsed": false,
     "input": [
      "# f['usability_2'] = f.apply(lambda row: mode([row['ease_2'],row['time_2']])[0][0], axis=1)\n",
      "# f['usability_1'] = f.apply(lambda row: mode([row['ease_1'],row['time_1']])[0][0], axis=1)"
     ],
     "language": "python",
     "metadata": {},
     "outputs": [],
     "prompt_number": 10
    },
    {
     "cell_type": "code",
     "collapsed": false,
     "input": [
      "s = f.groupby('usability_1')['usability_1'].count()\n",
      "s.plot(kind='barh')"
     ],
     "language": "python",
     "metadata": {},
     "outputs": [
      {
       "metadata": {},
       "output_type": "pyout",
       "prompt_number": 11,
       "text": [
        "<matplotlib.axes._subplots.AxesSubplot at 0x10b4c2250>"
       ]
      },
      {
       "metadata": {},
       "output_type": "display_data",
       "png": "[encoded data removed]",
       "text": [
        "<matplotlib.figure.Figure at 0x10db05a10>"
       ]
      }
     ],
     "prompt_number": 11
    },
    {
     "cell_type": "code",
     "collapsed": false,
     "input": [
      "s = f.groupby('usability_2')['usability_2'].count()\n",
      "s.plot(kind='barh')"
     ],
     "language": "python",
     "metadata": {},
     "outputs": [
      {
       "metadata": {},
       "output_type": "pyout",
       "prompt_number": 12,
       "text": [
        "<matplotlib.axes._subplots.AxesSubplot at 0x1140a6150>"
       ]
      },
      {
       "metadata": {},
       "output_type": "display_data",
       "png": "[encoded data removed]",
       "text": [
        "<matplotlib.figure.Figure at 0x112d0a090>"
       ]
      }
     ],
     "prompt_number": 12
    },
    {
     "cell_type": "code",
     "collapsed": false,
     "input": [
      "## Getting the formated dataframe\n",
      "full_set = gg.get_rm_ws_df('usability_1','usability_2')\n",
      "full_set.head(7)"
     ],
     "language": "python",
     "metadata": {},
     "outputs": [
      {
       "output_type": "stream",
       "stream": "stdout",
       "text": [
        "rm_ws_dataframe - Droping missing records\n",
        "(45, 5)\n",
        "rm_ws_dataframe - remove missing data \n",
        "(45, 5)\n",
        "rm_ws_dataframe - no duplicates \n",
        "(45, 6)\n"
       ]
      },
      {
       "html": [
        "<div style=\"max-height:1000px;max-width:1500px;overflow:auto;\">\n",
        "<table border=\"1\" class=\"dataframe\">\n",
        "  <thead>\n",
        "    <tr style=\"text-align: right;\">\n",
        "      <th></th>\n",
        "      <th>response</th>\n",
        "      <th>trt</th>\n",
        "      <th>sequ</th>\n",
        "      <th>period</th>\n",
        "      <th>id</th>\n",
        "    </tr>\n",
        "  </thead>\n",
        "  <tbody>\n",
        "    <tr>\n",
        "      <th>4 </th>\n",
        "      <td> 5</td>\n",
        "      <td> A</td>\n",
        "      <td> AB</td>\n",
        "      <td> 1</td>\n",
        "      <td> 2bd5b76b8fac74b062c1a99c9bbc0a75</td>\n",
        "    </tr>\n",
        "    <tr>\n",
        "      <th>7 </th>\n",
        "      <td> 4</td>\n",
        "      <td> A</td>\n",
        "      <td> AB</td>\n",
        "      <td> 1</td>\n",
        "      <td> 3ea2814b0443687ea2400e6c1726d7ab</td>\n",
        "    </tr>\n",
        "    <tr>\n",
        "      <th>9 </th>\n",
        "      <td> 5</td>\n",
        "      <td> A</td>\n",
        "      <td> AB</td>\n",
        "      <td> 1</td>\n",
        "      <td> 4d9db524466a6d05f29fb721f842de77</td>\n",
        "    </tr>\n",
        "    <tr>\n",
        "      <th>10</th>\n",
        "      <td> 3</td>\n",
        "      <td> A</td>\n",
        "      <td> AB</td>\n",
        "      <td> 1</td>\n",
        "      <td> 52d3867f738f6cff74269cf62e3b7251</td>\n",
        "    </tr>\n",
        "    <tr>\n",
        "      <th>11</th>\n",
        "      <td> 5</td>\n",
        "      <td> A</td>\n",
        "      <td> AB</td>\n",
        "      <td> 1</td>\n",
        "      <td> 5b114f95a429eb982fc0b378c64a23f9</td>\n",
        "    </tr>\n",
        "    <tr>\n",
        "      <th>12</th>\n",
        "      <td> 5</td>\n",
        "      <td> A</td>\n",
        "      <td> AB</td>\n",
        "      <td> 1</td>\n",
        "      <td> 690e88138d83a8ec5fea4230b364aae0</td>\n",
        "    </tr>\n",
        "    <tr>\n",
        "      <th>14</th>\n",
        "      <td> 4</td>\n",
        "      <td> A</td>\n",
        "      <td> AB</td>\n",
        "      <td> 1</td>\n",
        "      <td> 6fd7664989b2b16f85c63169595bb66e</td>\n",
        "    </tr>\n",
        "  </tbody>\n",
        "</table>\n",
        "</div>"
       ],
       "metadata": {},
       "output_type": "pyout",
       "prompt_number": 13,
       "text": [
        "    response trt sequ period                                id\n",
        "4          5   A   AB      1  2bd5b76b8fac74b062c1a99c9bbc0a75\n",
        "7          4   A   AB      1  3ea2814b0443687ea2400e6c1726d7ab\n",
        "9          5   A   AB      1  4d9db524466a6d05f29fb721f842de77\n",
        "10         3   A   AB      1  52d3867f738f6cff74269cf62e3b7251\n",
        "11         5   A   AB      1  5b114f95a429eb982fc0b378c64a23f9\n",
        "12         5   A   AB      1  690e88138d83a8ec5fea4230b364aae0\n",
        "14         4   A   AB      1  6fd7664989b2b16f85c63169595bb66e"
       ]
      }
     ],
     "prompt_number": 13
    },
    {
     "cell_type": "markdown",
     "metadata": {},
     "source": [
      "## Using clmm"
     ]
    },
    {
     "cell_type": "code",
     "collapsed": false,
     "input": [
      "%%R -i full_set\n",
      "library(ordinal)\n",
      "\n",
      "s <- data.frame(full_set)\n",
      "s$response <- factor(s$response)\n",
      "s$trt <- factor(s$trt)\n",
      "s$sequ <- factor(s$sequ)\n",
      "s$period <- factor(s$period)\n",
      "\n",
      "mm1 <- clmm(response ~ sequ  + trt + period  + (1 | id:sequ), s, Hess = TRUE, nAGQ = 10 )\n",
      "\n",
      "print (summary(mm1))\n",
      "exp(cbind(OR =coef(mm1), confint(mm1)))\n"
     ],
     "language": "python",
     "metadata": {},
     "outputs": [
      {
       "metadata": {},
       "output_type": "display_data",
       "text": [
        "Cumulative Link Mixed Model fitted with the adaptive Gauss-Hermite \n",
        "quadrature approximation with 10 quadrature points \n",
        "\n",
        "formula: response ~ sequ + trt + period + (1 | id:sequ)\n",
        "data:    s\n",
        "\n",
        " link  threshold nobs logLik AIC    niter     max.grad cond.H \n",
        " logit flexible  90   -75.51 167.03 477(5453) 1.25e-05 1.3e+03\n",
        "\n",
        "Random effects:\n",
        " Groups  Name        Variance Std.Dev.\n",
        " id:sequ (Intercept) 40       6.325   \n",
        "Number of groups:  id:sequ 45 \n",
        "\n",
        "Coefficients:\n",
        "        Estimate Std. Error z value Pr(>|z|)  \n",
        "sequBA   -0.5483     2.1324  -0.257   0.7971  \n",
        "trtB      1.5285     0.8275   1.847   0.0647 .\n",
        "period2   1.0713     0.7875   1.360   0.1737  \n",
        "---\n",
        "Signif. codes:  0 \u2018***\u2019 0.001 \u2018**\u2019 0.01 \u2018*\u2019 0.05 \u2018.\u2019 0.1 \u2018 \u2019 1\n",
        "\n",
        "Threshold coefficients:\n",
        "    Estimate Std. Error z value\n",
        "1|2  -13.369      4.449  -3.005\n",
        "2|3   -8.351      2.717  -3.074\n",
        "3|4   -5.889      2.183  -2.697\n",
        "4|5    2.683      1.704   1.575\n",
        "                  OR        2.5 %       97.5 %\n",
        "1|2     1.562175e-06 2.550427e-10 9.568553e-03\n",
        "2|3     2.362045e-04 1.149952e-06 4.851728e-02\n",
        "3|4     2.769947e-03 3.836922e-05 1.999677e-01\n",
        "4|5     1.463588e+01 5.184862e-01 4.131430e+02\n",
        "sequBA  5.779449e-01 8.846177e-03 3.775871e+01\n",
        "trtB    4.611149e+00 9.107689e-01 2.334588e+01\n",
        "period2 2.919097e+00 6.235826e-01 1.366480e+01\n"
       ]
      }
     ],
     "prompt_number": 18
    },
    {
     "cell_type": "code",
     "collapsed": false,
     "input": [
      " %%R -i full_set\n",
      "library(ordinal)\n",
      "\n",
      "    s <- data.frame(full_set)\n",
      "    s$response <- factor(s$response)\n",
      "    s$trt <- factor(s$trt)\n",
      "    s$sequ <- factor(s$sequ)\n",
      "    s$period <- factor(s$period)\n",
      "\n",
      "\n",
      "    mm2 <- clmm(response ~ sequ  + period +(1 | id:sequ), s, Hess = TRUE )\n",
      "    \n",
      "\n",
      "    print (summary(mm2))\n",
      "##    exp(cbind(OR =coef(mm2), confint(mm2)))\n",
      "    "
     ],
     "language": "python",
     "metadata": {},
     "outputs": [
      {
       "metadata": {},
       "output_type": "display_data",
       "text": [
        "Cumulative Link Mixed Model fitted with the Laplace approximation\n",
        "\n",
        "formula: response ~ sequ + period + (1 | id:sequ)\n",
        "data:    s\n",
        "\n",
        " link  threshold nobs logLik AIC    niter     max.grad cond.H \n",
        " logit flexible  90   -74.28 162.57 394(3848) 5.01e-05 1.1e+03\n",
        "\n",
        "Random effects:\n",
        " Groups  Name        Variance Std.Dev.\n",
        " id:sequ (Intercept) 129.9    11.4    \n",
        "Number of groups:  id:sequ 45 \n",
        "\n",
        "Coefficients:\n",
        "        Estimate Std. Error z value Pr(>|z|)\n",
        "sequBA   -0.5163     1.8711  -0.276    0.783\n",
        "period2   1.2696     0.8540   1.487    0.137\n",
        "\n",
        "Threshold coefficients:\n",
        "    Estimate Std. Error z value\n",
        "1|2  -18.705      4.692  -3.986\n",
        "2|3  -10.589      2.493  -4.248\n",
        "3|4   -7.162      1.612  -4.444\n",
        "4|5    6.058      2.773   2.184\n"
       ]
      }
     ],
     "prompt_number": 15
    },
    {
     "cell_type": "code",
     "collapsed": false,
     "input": [
      "%%R \n",
      "anova(mm2, mm1)"
     ],
     "language": "python",
     "metadata": {},
     "outputs": [
      {
       "metadata": {},
       "output_type": "display_data",
       "text": [
        "Likelihood ratio tests of cumulative link models:\n",
        " \n",
        "    formula:                                       link: threshold:\n",
        "mm2 response ~ sequ + period + (1 | id:sequ)       logit flexible  \n",
        "mm1 response ~ sequ + trt + period + (1 | id:sequ) logit flexible  \n",
        "\n",
        "    no.par    AIC  logLik LR.stat df Pr(>Chisq)\n",
        "mm2      7 162.57 -74.285                      \n",
        "mm1      8 167.03 -75.514 -2.4581  1          1\n"
       ]
      }
     ],
     "prompt_number": 16
    },
    {
     "cell_type": "markdown",
     "metadata": {},
     "source": [
      "> While using the Mode we observe that the treatment has some influence in gettign better usability scores. this is bad because one could argue that one treatment is more easy to use and therefore easier to share data."
     ]
    },
    {
     "cell_type": "markdown",
     "metadata": {},
     "source": [
      "> under both measures of centrality the treatment came out statistically significant and therefore this could indicate than one treatment is beter tna the other. Nevertheless using the median give the lowest significance and is a better method for centrality so we ca say the design are almost the same."
     ]
    },
    {
     "cell_type": "code",
     "collapsed": false,
     "input": [],
     "language": "python",
     "metadata": {},
     "outputs": []
    }
   ],
   "metadata": {}
  }
 ]
}