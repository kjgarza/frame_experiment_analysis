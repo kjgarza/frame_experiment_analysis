{
 "metadata": {
  "gist_id": "2cd6483f3b2326ebed70",
  "name": "",
  "notify_time": "5",
  "signature": "sha256:de113bc6c2c6fa33df99e1ade86b6656a0a9aac8965a2e0d6f3e20085daecf8c"
 },
 "nbformat": 3,
 "nbformat_minor": 0,
 "worksheets": [
  {
   "cells": [
    {
     "cell_type": "markdown",
     "metadata": {},
     "source": [
      "# Usability Evaluation\n",
      "\n",
      "<i>Created by Kristian G</i>\n"
     ]
    },
    {
     "cell_type": "markdown",
     "metadata": {},
     "source": [
      "Preliminaries"
     ]
    },
    {
     "cell_type": "code",
     "collapsed": false,
     "input": [
      "%matplotlib inline\n",
      "import numpy as np\n",
      "import pandas as pd\n",
      "import matplotlib.pyplot as plt\n",
      "from scipy.stats import mode\n",
      "from ggplot import *\n",
      "import json\n",
      "from frame_experiment_table import FrameExperimentTable\n",
      "%pylab inline\n",
      "# %load_ext rmagic\n",
      "%load_ext rpy2.ipython\n",
      "import pylab\n",
      "from __future__ import division\n",
      "import seaborn as sns\n",
      "sns.set_style(\"whitegrid\", {'font.family': [u'serif']})"
     ],
     "language": "python",
     "metadata": {},
     "outputs": [
      {
       "output_type": "stream",
       "stream": "stdout",
       "text": [
        "Populating the interactive namespace from numpy and matplotlib\n"
       ]
      },
      {
       "output_type": "stream",
       "stream": "stderr",
       "text": [
        "WARNING: pylab import has clobbered these variables: ['xlim', 'ylim']\n",
        "`%matplotlib` prevents importing * from pylab and numpy\n"
       ]
      }
     ],
     "prompt_number": 1
    },
    {
     "cell_type": "code",
     "collapsed": false,
     "input": [
      "%%R\n",
      "rm(list=ls())"
     ],
     "language": "python",
     "metadata": {},
     "outputs": [],
     "prompt_number": 2
    },
    {
     "cell_type": "markdown",
     "metadata": {},
     "source": [
      "#Load dataset"
     ]
    },
    {
     "cell_type": "code",
     "collapsed": false,
     "input": [
      "picture_foler = \"/Users/kristian/Dropbox/exp_frame_effects/Images/\"\n",
      "\n",
      "gg = FrameExperimentTable('logs/data_scenario_changed')\n",
      "# gg.add_records('logs/data_incremental_file','new')\n",
      "# gg.add_records_csv('logs/data_scramble_filled_csv.csv')\n",
      "# gg.add_records('logs/data_scenario_changed','new')\n",
      "gg.filter_noise()\n",
      "gg.code_for_stat_ana()\n",
      "gg.code_survey_numeric()\n",
      "\n",
      "print ''"
     ],
     "language": "python",
     "metadata": {},
     "outputs": [
      {
       "output_type": "stream",
       "stream": "stdout",
       "text": [
        "(55, 40)\n",
        "classify_field - Fields Excluded"
       ]
      },
      {
       "output_type": "stream",
       "stream": "stdout",
       "text": [
        "\n",
        "(6,)\n",
        "(55, 42)\n",
        "New Usability Columns\n",
        "(55, 44)\n",
        "set([1, 2])"
       ]
      },
      {
       "output_type": "stream",
       "stream": "stdout",
       "text": [
        "\n",
        "multi\n",
        "set([1, 3])\n",
        "multi\n",
        "set([1])\n",
        "e-mail\n",
        "set([1, 2])\n",
        "multi\n",
        "set([1])\n",
        "e-mail\n",
        "set([3])\n",
        "self-depositing\n",
        "set([1, 3])\n",
        "multi\n",
        "set([2])\n",
        "self-depositing\n",
        "set([1, 2])\n",
        "multi\n",
        "set([3])\n",
        "self-depositing\n",
        "set([1])\n",
        "e-mail\n",
        "set([1, 2])\n",
        "multi\n",
        "set([2])\n",
        "self-depositing\n",
        "set([1])\n",
        "e-mail\n",
        "set([1, 2, 3])\n",
        "multi\n",
        "set([1])\n",
        "e-mail\n",
        "set([2])\n",
        "self-depositing\n",
        "set([2])\n",
        "self-depositing\n",
        "set([1, 3])\n",
        "multi\n",
        "set([1])\n",
        "e-mail\n",
        "set([4])\n",
        "Never\n",
        "set([1, 3])\n",
        "multi\n",
        "set([2])\n",
        "self-depositing\n",
        "set([4])\n",
        "Never\n",
        "set([2])\n",
        "self-depositing\n",
        "set([1, 3])\n",
        "multi\n",
        "set([2])\n",
        "self-depositing\n",
        "set([1, 3])\n",
        "multi\n",
        "set([2])\n",
        "self-depositing\n",
        "set([])\n",
        "\n",
        "set([2])\n",
        "self-depositing\n",
        "set([2])\n",
        "self-depositing\n",
        "set([1])\n",
        "e-mail\n",
        "set([2, 3])\n",
        "self-depositing\n",
        "set([2])\n",
        "self-depositing\n",
        "set([])\n",
        "\n",
        "set([4])\n",
        "Never\n",
        "set([])\n",
        "\n",
        "set([3, 4])\n",
        "Never\n",
        "set([])\n",
        "\n",
        "set([1, 2])\n",
        "multi\n",
        "set([1, 2])\n",
        "multi\n",
        "set([4])\n",
        "Never\n",
        "set([])\n",
        "\n",
        "set([1, 2, 3])\n",
        "multi\n",
        "set([2])\n",
        "self-depositing\n",
        "set([2])\n",
        "self-depositing\n",
        "set([3])\n",
        "self-depositing\n",
        "set([1, 2])\n",
        "multi\n",
        "set([1, 2, 3])\n",
        "multi\n",
        "set([])\n",
        "\n",
        "set([1, 2])\n",
        "multi\n",
        "set([2, 3])\n",
        "self-depositing\n",
        "set([2, 3])\n",
        "self-depositing\n",
        "set([1])\n",
        "e-mail\n",
        "Total\n",
        "55\n",
        "Removing testing\n",
        "2\n",
        "Removing Random\n",
        "5\n",
        "Removing Not Life Sciences\n",
        "2\n",
        "Removing Not enlgish skilled\n",
        "5\n",
        "Removing Not Honest\n",
        "6\n",
        "Removing unaware\n",
        "0\n",
        "Removing Not answer\n",
        "1\n",
        "Removing Not answer\n",
        "0\n",
        "Total\n",
        "34\n",
        "(40, 44)\n",
        "\n"
       ]
      },
      {
       "output_type": "stream",
       "stream": "stderr",
       "text": [
        "/Users/kristian/miniconda/lib/python2.7/site-packages/pandas/util/decorators.py:81: FutureWarning: the 'cols' keyword is deprecated, use 'subset' instead\n",
        "  warnings.warn(msg, FutureWarning)\n"
       ]
      }
     ],
     "prompt_number": 3
    },
    {
     "cell_type": "markdown",
     "metadata": {},
     "source": [
      "# Metric\n",
      "\n",
      "Instead of using 3 outputs as the questionary has we use a single output. since for all the measurements (ease, support, time) higher is better we use a measure of centrality of the 3 measurements to compute the usability measure.\n",
      "\n",
      "There are two options for measure of centrality\n",
      "\n",
      "- Median: Median is especially useful with skewed distributions as it draws the line right in the middle of your data set. It provides a better measure of centrality as 50% of your data is above the median. Median can be used with interval or ratio data. **Median is usually the preferred measurement to use with ordinal data**.  http://www.wyzant.com/resources/lessons/math/prealgebra/representing-data\n",
      "- Mode: Mode is best used with categorical (nominal) or discrete data. It is difficult to use it with continuous data because often a single value is not repeated exactly. There often are one or two distinct favorites in categorical or discrete data. Mode has a drawback in that it may not be a measure of centrality if the most common item is away from the rest of the data set. http://www.wyzant.com/resources/lessons/math/prealgebra/representing-data"
     ]
    },
    {
     "cell_type": "markdown",
     "metadata": {},
     "source": [
      "##Using the MEDIAN as measure of centrality"
     ]
    },
    {
     "cell_type": "code",
     "collapsed": false,
     "input": [
      "f = gg.get_anadata()\n",
      "f.head(5)\n",
      "\n",
      "# f['usability_2'] = f.apply(lambda row: np.median([row['ease_2'],row['support_2'],row['time_2']]), axis=1)\n",
      "# f['usability_1'] = f.apply(lambda row: np.median([row['ease_1'],row['support_1'],row['time_1']]), axis=1)\n",
      "# #f['usability_1'] = f.apply(lambda row: mode([row['ease_1'],row['support_1'],row['time_1']])[0][0], axis=1)\n"
     ],
     "language": "python",
     "metadata": {},
     "outputs": [
      {
       "html": [
        "<div style=\"max-height:1000px;max-width:1500px;overflow:auto;\">\n",
        "<table border=\"1\" class=\"dataframe\">\n",
        "  <thead>\n",
        "    <tr style=\"text-align: right;\">\n",
        "      <th></th>\n",
        "      <th>discipline</th>\n",
        "      <th>ease_2</th>\n",
        "      <th>regret_2</th>\n",
        "      <th>support_2</th>\n",
        "      <th>time_2</th>\n",
        "      <th>time_second_evaluation</th>\n",
        "      <th>treatment_eval_2</th>\n",
        "      <th>ease_1</th>\n",
        "      <th>regret_1</th>\n",
        "      <th>support_1</th>\n",
        "      <th>...</th>\n",
        "      <th>data_file_title_2</th>\n",
        "      <th>time_create_2</th>\n",
        "      <th>treatment_2</th>\n",
        "      <th>trial_2</th>\n",
        "      <th>when_to_2</th>\n",
        "      <th>with_who_2</th>\n",
        "      <th>gibberish</th>\n",
        "      <th>field</th>\n",
        "      <th>usability_2</th>\n",
        "      <th>usability_1</th>\n",
        "    </tr>\n",
        "    <tr>\n",
        "      <th>sessionid</th>\n",
        "      <th></th>\n",
        "      <th></th>\n",
        "      <th></th>\n",
        "      <th></th>\n",
        "      <th></th>\n",
        "      <th></th>\n",
        "      <th></th>\n",
        "      <th></th>\n",
        "      <th></th>\n",
        "      <th></th>\n",
        "      <th></th>\n",
        "      <th></th>\n",
        "      <th></th>\n",
        "      <th></th>\n",
        "      <th></th>\n",
        "      <th></th>\n",
        "      <th></th>\n",
        "      <th></th>\n",
        "      <th></th>\n",
        "      <th></th>\n",
        "      <th></th>\n",
        "    </tr>\n",
        "  </thead>\n",
        "  <tbody>\n",
        "    <tr>\n",
        "      <th>0687ef14d441706b211ff0edf9f2ebea</th>\n",
        "      <td>           Biochemistry</td>\n",
        "      <td> 4</td>\n",
        "      <td> 4</td>\n",
        "      <td> 4</td>\n",
        "      <td> 4</td>\n",
        "      <td> 1430731542</td>\n",
        "      <td> B</td>\n",
        "      <td> 4</td>\n",
        "      <td> 3</td>\n",
        "      <td> 4</td>\n",
        "      <td>...</td>\n",
        "      <td>          mydata test</td>\n",
        "      <td> 1430731524</td>\n",
        "      <td> B</td>\n",
        "      <td> 1</td>\n",
        "      <td> nan</td>\n",
        "      <td> 4</td>\n",
        "      <td> True</td>\n",
        "      <td>           biochemistry</td>\n",
        "      <td> 4</td>\n",
        "      <td> 4</td>\n",
        "    </tr>\n",
        "    <tr>\n",
        "      <th>0ddaf25718c6b4c35bf05ae6335150d4</th>\n",
        "      <td>             Biophysics</td>\n",
        "      <td> 4</td>\n",
        "      <td> 2</td>\n",
        "      <td> 3</td>\n",
        "      <td> 4</td>\n",
        "      <td> 1429884067</td>\n",
        "      <td> B</td>\n",
        "      <td> 4</td>\n",
        "      <td> 3</td>\n",
        "      <td> 2</td>\n",
        "      <td>...</td>\n",
        "      <td> 2D PMF NaH exchanger</td>\n",
        "      <td> 1429884034</td>\n",
        "      <td> B</td>\n",
        "      <td> 1</td>\n",
        "      <td> nan</td>\n",
        "      <td> 4</td>\n",
        "      <td> True</td>\n",
        "      <td>             biophysics</td>\n",
        "      <td> 4</td>\n",
        "      <td> 4</td>\n",
        "    </tr>\n",
        "    <tr>\n",
        "      <th>18da94199bf2471a70d0298958543bb4</th>\n",
        "      <td>                Biology</td>\n",
        "      <td> 5</td>\n",
        "      <td> 1</td>\n",
        "      <td> 3</td>\n",
        "      <td> 5</td>\n",
        "      <td> 1430721360</td>\n",
        "      <td> B</td>\n",
        "      <td> 5</td>\n",
        "      <td> 4</td>\n",
        "      <td> 3</td>\n",
        "      <td>...</td>\n",
        "      <td>          My data set</td>\n",
        "      <td> 1430721315</td>\n",
        "      <td> B</td>\n",
        "      <td> 1</td>\n",
        "      <td> nan</td>\n",
        "      <td> 4</td>\n",
        "      <td> True</td>\n",
        "      <td>                biology</td>\n",
        "      <td> 5</td>\n",
        "      <td> 5</td>\n",
        "    </tr>\n",
        "    <tr>\n",
        "      <th>23ba4e6b2b149ba6294bd7e0125b2948</th>\n",
        "      <td> Bioprocess Engineering</td>\n",
        "      <td> 4</td>\n",
        "      <td> 2</td>\n",
        "      <td> 4</td>\n",
        "      <td> 4</td>\n",
        "      <td> 1430470915</td>\n",
        "      <td> B</td>\n",
        "      <td> 4</td>\n",
        "      <td> 2</td>\n",
        "      <td> 4</td>\n",
        "      <td>...</td>\n",
        "      <td>            more data</td>\n",
        "      <td> 1430470882</td>\n",
        "      <td> B</td>\n",
        "      <td> 1</td>\n",
        "      <td> nan</td>\n",
        "      <td> 4</td>\n",
        "      <td> True</td>\n",
        "      <td> bioprocess engineering</td>\n",
        "      <td> 4</td>\n",
        "      <td> 4</td>\n",
        "    </tr>\n",
        "    <tr>\n",
        "      <th>2bd5b76b8fac74b062c1a99c9bbc0a75</th>\n",
        "      <td>        Systems Biology</td>\n",
        "      <td> 5</td>\n",
        "      <td> 3</td>\n",
        "      <td> 5</td>\n",
        "      <td> 5</td>\n",
        "      <td> 1431345215</td>\n",
        "      <td> A</td>\n",
        "      <td> 5</td>\n",
        "      <td> 3</td>\n",
        "      <td> 4</td>\n",
        "      <td>...</td>\n",
        "      <td>  Dataset for paper X</td>\n",
        "      <td> 1431345182</td>\n",
        "      <td> A</td>\n",
        "      <td> 1</td>\n",
        "      <td> nan</td>\n",
        "      <td> 4</td>\n",
        "      <td> True</td>\n",
        "      <td>        systems biology</td>\n",
        "      <td> 5</td>\n",
        "      <td> 5</td>\n",
        "    </tr>\n",
        "  </tbody>\n",
        "</table>\n",
        "<p>5 rows \u00d7 44 columns</p>\n",
        "</div>"
       ],
       "metadata": {},
       "output_type": "pyout",
       "prompt_number": 4,
       "text": [
        "                                              discipline  ease_2  regret_2  \\\n",
        "sessionid                                                                    \n",
        "0687ef14d441706b211ff0edf9f2ebea            Biochemistry       4         4   \n",
        "0ddaf25718c6b4c35bf05ae6335150d4              Biophysics       4         2   \n",
        "18da94199bf2471a70d0298958543bb4                 Biology       5         1   \n",
        "23ba4e6b2b149ba6294bd7e0125b2948  Bioprocess Engineering       4         2   \n",
        "2bd5b76b8fac74b062c1a99c9bbc0a75         Systems Biology       5         3   \n",
        "\n",
        "                                  support_2  time_2  time_second_evaluation  \\\n",
        "sessionid                                                                     \n",
        "0687ef14d441706b211ff0edf9f2ebea          4       4              1430731542   \n",
        "0ddaf25718c6b4c35bf05ae6335150d4          3       4              1429884067   \n",
        "18da94199bf2471a70d0298958543bb4          3       5              1430721360   \n",
        "23ba4e6b2b149ba6294bd7e0125b2948          4       4              1430470915   \n",
        "2bd5b76b8fac74b062c1a99c9bbc0a75          5       5              1431345215   \n",
        "\n",
        "                                 treatment_eval_2  ease_1  regret_1  \\\n",
        "sessionid                                                             \n",
        "0687ef14d441706b211ff0edf9f2ebea                B       4         3   \n",
        "0ddaf25718c6b4c35bf05ae6335150d4                B       4         3   \n",
        "18da94199bf2471a70d0298958543bb4                B       5         4   \n",
        "23ba4e6b2b149ba6294bd7e0125b2948                B       4         2   \n",
        "2bd5b76b8fac74b062c1a99c9bbc0a75                A       5         3   \n",
        "\n",
        "                                  support_1     ...       \\\n",
        "sessionid                                       ...        \n",
        "0687ef14d441706b211ff0edf9f2ebea          4     ...        \n",
        "0ddaf25718c6b4c35bf05ae6335150d4          2     ...        \n",
        "18da94199bf2471a70d0298958543bb4          3     ...        \n",
        "23ba4e6b2b149ba6294bd7e0125b2948          4     ...        \n",
        "2bd5b76b8fac74b062c1a99c9bbc0a75          4     ...        \n",
        "\n",
        "                                     data_file_title_2  time_create_2  \\\n",
        "sessionid                                                               \n",
        "0687ef14d441706b211ff0edf9f2ebea           mydata test     1430731524   \n",
        "0ddaf25718c6b4c35bf05ae6335150d4  2D PMF NaH exchanger     1429884034   \n",
        "18da94199bf2471a70d0298958543bb4           My data set     1430721315   \n",
        "23ba4e6b2b149ba6294bd7e0125b2948             more data     1430470882   \n",
        "2bd5b76b8fac74b062c1a99c9bbc0a75   Dataset for paper X     1431345182   \n",
        "\n",
        "                                 treatment_2 trial_2  when_to_2 with_who_2  \\\n",
        "sessionid                                                                    \n",
        "0687ef14d441706b211ff0edf9f2ebea           B       1        nan          4   \n",
        "0ddaf25718c6b4c35bf05ae6335150d4           B       1        nan          4   \n",
        "18da94199bf2471a70d0298958543bb4           B       1        nan          4   \n",
        "23ba4e6b2b149ba6294bd7e0125b2948           B       1        nan          4   \n",
        "2bd5b76b8fac74b062c1a99c9bbc0a75           A       1        nan          4   \n",
        "\n",
        "                                  gibberish                   field  \\\n",
        "sessionid                                                             \n",
        "0687ef14d441706b211ff0edf9f2ebea       True            biochemistry   \n",
        "0ddaf25718c6b4c35bf05ae6335150d4       True              biophysics   \n",
        "18da94199bf2471a70d0298958543bb4       True                 biology   \n",
        "23ba4e6b2b149ba6294bd7e0125b2948       True  bioprocess engineering   \n",
        "2bd5b76b8fac74b062c1a99c9bbc0a75       True         systems biology   \n",
        "\n",
        "                                  usability_2  usability_1  \n",
        "sessionid                                                   \n",
        "0687ef14d441706b211ff0edf9f2ebea            4            4  \n",
        "0ddaf25718c6b4c35bf05ae6335150d4            4            4  \n",
        "18da94199bf2471a70d0298958543bb4            5            5  \n",
        "23ba4e6b2b149ba6294bd7e0125b2948            4            4  \n",
        "2bd5b76b8fac74b062c1a99c9bbc0a75            5            5  \n",
        "\n",
        "[5 rows x 44 columns]"
       ]
      }
     ],
     "prompt_number": 4
    },
    {
     "cell_type": "code",
     "collapsed": false,
     "input": [
      "s = f.groupby('usability_1')['usability_1'].count()\n",
      "s.plot(kind='barh')"
     ],
     "language": "python",
     "metadata": {},
     "outputs": [
      {
       "metadata": {},
       "output_type": "pyout",
       "prompt_number": 5,
       "text": [
        "<matplotlib.axes._subplots.AxesSubplot at 0x10c624b90>"
       ]
      },
      {
       "metadata": {},
       "output_type": "display_data",
       "png": "[encoded data removed]",
       "text": [
        "<matplotlib.figure.Figure at 0x10c624b10>"
       ]
      }
     ],
     "prompt_number": 5
    },
    {
     "cell_type": "code",
     "collapsed": false,
     "input": [
      "s = f.groupby('usability_2')['usability_2'].count()\n",
      "s.plot(kind='barh')"
     ],
     "language": "python",
     "metadata": {},
     "outputs": [
      {
       "metadata": {},
       "output_type": "pyout",
       "prompt_number": 6,
       "text": [
        "<matplotlib.axes._subplots.AxesSubplot at 0x10c8e0e50>"
       ]
      },
      {
       "metadata": {},
       "output_type": "display_data",
       "png": "[encoded data removed]",
       "text": [
        "<matplotlib.figure.Figure at 0x10c8f3050>"
       ]
      }
     ],
     "prompt_number": 6
    },
    {
     "cell_type": "code",
     "collapsed": false,
     "input": [
      "## Getting the formated dataframe\n",
      "full_set = gg.get_rm_ws_df('usability_1','usability_2')\n",
      "full_set.head(7)"
     ],
     "language": "python",
     "metadata": {},
     "outputs": [
      {
       "output_type": "stream",
       "stream": "stdout",
       "text": [
        "rm_ws_dataframe - Droping missing records\n",
        "(40, 5)\n",
        "rm_ws_dataframe - remove missing data \n",
        "(40, 5)\n",
        "rm_ws_dataframe - no duplicates \n",
        "(80, 5)\n",
        "4    43\n",
        "5    26\n",
        "3     5\n",
        "2     4\n",
        "1     2\n",
        "dtype: int64"
       ]
      },
      {
       "output_type": "stream",
       "stream": "stdout",
       "text": [
        "\n"
       ]
      },
      {
       "html": [
        "<div style=\"max-height:1000px;max-width:1500px;overflow:auto;\">\n",
        "<table border=\"1\" class=\"dataframe\">\n",
        "  <thead>\n",
        "    <tr style=\"text-align: right;\">\n",
        "      <th></th>\n",
        "      <th>response</th>\n",
        "      <th>trt</th>\n",
        "      <th>sequ</th>\n",
        "      <th>period</th>\n",
        "      <th>id</th>\n",
        "    </tr>\n",
        "  </thead>\n",
        "  <tbody>\n",
        "    <tr>\n",
        "      <th>0</th>\n",
        "      <td> 4</td>\n",
        "      <td> A</td>\n",
        "      <td> AB</td>\n",
        "      <td> 1</td>\n",
        "      <td> 0687ef14d441706b211ff0edf9f2ebea</td>\n",
        "    </tr>\n",
        "    <tr>\n",
        "      <th>1</th>\n",
        "      <td> 4</td>\n",
        "      <td> A</td>\n",
        "      <td> AB</td>\n",
        "      <td> 1</td>\n",
        "      <td> 0ddaf25718c6b4c35bf05ae6335150d4</td>\n",
        "    </tr>\n",
        "    <tr>\n",
        "      <th>2</th>\n",
        "      <td> 5</td>\n",
        "      <td> A</td>\n",
        "      <td> AB</td>\n",
        "      <td> 1</td>\n",
        "      <td> 18da94199bf2471a70d0298958543bb4</td>\n",
        "    </tr>\n",
        "    <tr>\n",
        "      <th>3</th>\n",
        "      <td> 4</td>\n",
        "      <td> A</td>\n",
        "      <td> AB</td>\n",
        "      <td> 1</td>\n",
        "      <td> 23ba4e6b2b149ba6294bd7e0125b2948</td>\n",
        "    </tr>\n",
        "    <tr>\n",
        "      <th>5</th>\n",
        "      <td> 5</td>\n",
        "      <td> A</td>\n",
        "      <td> AB</td>\n",
        "      <td> 1</td>\n",
        "      <td> 2be130732b05502a4a631bc01291b25b</td>\n",
        "    </tr>\n",
        "    <tr>\n",
        "      <th>6</th>\n",
        "      <td> 5</td>\n",
        "      <td> A</td>\n",
        "      <td> AB</td>\n",
        "      <td> 1</td>\n",
        "      <td> 38c7d17c9d41c293afe9d368d45a629c</td>\n",
        "    </tr>\n",
        "    <tr>\n",
        "      <th>8</th>\n",
        "      <td> 4</td>\n",
        "      <td> A</td>\n",
        "      <td> AB</td>\n",
        "      <td> 1</td>\n",
        "      <td> 4306bad121fb3ad1fb2365dda1a32440</td>\n",
        "    </tr>\n",
        "  </tbody>\n",
        "</table>\n",
        "</div>"
       ],
       "metadata": {},
       "output_type": "pyout",
       "prompt_number": 7,
       "text": [
        "   response trt sequ period                                id\n",
        "0         4   A   AB      1  0687ef14d441706b211ff0edf9f2ebea\n",
        "1         4   A   AB      1  0ddaf25718c6b4c35bf05ae6335150d4\n",
        "2         5   A   AB      1  18da94199bf2471a70d0298958543bb4\n",
        "3         4   A   AB      1  23ba4e6b2b149ba6294bd7e0125b2948\n",
        "5         5   A   AB      1  2be130732b05502a4a631bc01291b25b\n",
        "6         5   A   AB      1  38c7d17c9d41c293afe9d368d45a629c\n",
        "8         4   A   AB      1  4306bad121fb3ad1fb2365dda1a32440"
       ]
      }
     ],
     "prompt_number": 7
    },
    {
     "cell_type": "markdown",
     "metadata": {},
     "source": [
      "## Carry OVer effect check\n",
      "\n",
      "Just frist interaction for sequence"
     ]
    },
    {
     "cell_type": "code",
     "collapsed": false,
     "input": [
      "co_check_df = full_set[full_set['period'] == '1']"
     ],
     "language": "python",
     "metadata": {},
     "outputs": [],
     "prompt_number": 8
    },
    {
     "cell_type": "code",
     "collapsed": false,
     "input": [
      "%%R -i co_check_df\n",
      "library(ordinal)\n",
      "\n",
      "\n",
      "s <- data.frame(co_check_df)\n",
      "s$response <- factor(s$response)\n",
      "s$trt <- factor(s$trt)\n",
      "s$sequ <- factor(s$sequ)\n",
      "s$period <- factor(s$period)\n",
      "\n",
      "clm <- clm(response ~ sequ  , data=s, link=\"loglog\",Hess = TRUE, nAGQ = 10, threshold=\"symmetric\"  )\n",
      "\n",
      "print (summary(clm))\n",
      "exp(cbind(OR =coef(clm), confint(clm)))\n",
      "print(exp(cbind(OR =coef(clm), confint(clm))))"
     ],
     "language": "python",
     "metadata": {},
     "outputs": [
      {
       "metadata": {},
       "output_type": "display_data",
       "text": [
        "formula: response ~ sequ\n",
        "data:    s\n",
        "\n",
        " link   threshold nobs logLik AIC    niter max.grad cond.H \n",
        " loglog symmetric 40   -50.03 108.06 4(1)  1.53e-07 1.8e+01\n",
        "\n",
        "Coefficients:\n",
        "       Estimate Std. Error z value Pr(>|z|)\n",
        "sequBA  -0.4731     0.3524  -1.342     0.18\n",
        "\n",
        "Threshold coefficients:\n",
        "          Estimate Std. Error z value\n",
        "central.1  -0.9720     0.2814  -3.453\n",
        "central.2  -0.6051     0.2604  -2.323\n",
        "spacing.1   1.1929     0.2055   5.804\n",
        "              OR     2.5 %   97.5 %\n",
        "sequBA 0.3783444 0.3094822 1.243319\n"
       ]
      }
     ],
     "prompt_number": 9
    },
    {
     "cell_type": "markdown",
     "metadata": {},
     "source": [
      "### check for model"
     ]
    },
    {
     "cell_type": "code",
     "collapsed": false,
     "input": [
      "%%R -i full_set\n",
      "library(ordinal)\n",
      "\n",
      "s <- data.frame(full_set)\n",
      "s$response <- factor(s$response)\n",
      "s$trt <- factor(s$trt)\n",
      "s$sequ <- factor(s$sequ)\n",
      "s$period <- factor(s$period)\n",
      "\n",
      "mm1 <- clmm(response ~ sequ  + trt + period  + (1 | id:sequ), s, Hess = TRUE, nAGQ = 10, threshold=\"symmetric\" )\n",
      "clmm.notrt <-clmm(response ~ sequ  + period + (1 | id:sequ), s,  Hess = TRUE, nAGQ = 10, threshold=\"symmetric\" )\n",
      "\n",
      "print (summary(mm1))\n",
      "print(exp(cbind(OR =coef(mm1), confint(mm1))))\n",
      "\n",
      "print(anova(mm1, clmm.notrt))\n",
      "\n"
     ],
     "language": "python",
     "metadata": {},
     "outputs": [
      {
       "metadata": {},
       "output_type": "display_data",
       "text": [
        "Cumulative Link Mixed Model fitted with the adaptive Gauss-Hermite \n",
        "quadrature approximation with 10 quadrature points \n",
        "\n",
        "formula: response ~ sequ + trt + period + (1 | id:sequ)\n",
        "data:    s\n",
        "\n",
        " link  threshold nobs logLik AIC    niter     max.grad cond.H \n",
        " logit symmetric 80   -70.36 154.72 304(2058) 7.11e-06 7.5e+02\n",
        "\n",
        "Random effects:\n",
        " Groups  Name        Variance Std.Dev.\n",
        " id:sequ (Intercept) 38.04    6.168   \n",
        "Number of groups:  id:sequ 40 \n",
        "\n",
        "Coefficients:\n",
        "        Estimate Std. Error z value Pr(>|z|)  \n",
        "sequBA   -0.3957     2.1682  -0.182    0.855  \n",
        "trtB     -1.5955     0.8646  -1.845    0.065 .\n",
        "period2   1.0996     0.8161   1.347    0.178  \n",
        "---\n",
        "Signif. codes:  0 \u2018***\u2019 0.001 \u2018**\u2019 0.01 \u2018*\u2019 0.05 \u2018.\u2019 0.1 \u2018 \u2019 1\n",
        "\n",
        "Threshold coefficients:\n",
        "          Estimate Std. Error z value\n",
        "central.1   -8.574      2.905  -2.951\n",
        "central.2   -6.142      2.354  -2.609\n",
        "spacing.1    8.053      2.212   3.641\n",
        "                    OR        2.5 %       97.5 %\n",
        "central.1 1.889328e-04 6.359205e-07 5.613215e-02\n",
        "central.2 2.150661e-03 2.130817e-05 2.170690e-01\n",
        "spacing.1 3.144152e+03 4.116793e+01 2.401309e+05\n",
        "sequBA    6.732374e-01 9.606944e-03 4.717927e+01\n",
        "trtB      2.028121e-01 3.725170e-02 1.104184e+00\n",
        "period2   3.002850e+00 6.065323e-01 1.486666e+01\n",
        "Likelihood ratio tests of cumulative link models:\n",
        " \n",
        "           formula:                                       link: threshold:\n",
        "clmm.notrt response ~ sequ + period + (1 | id:sequ)       logit symmetric \n",
        "mm1        response ~ sequ + trt + period + (1 | id:sequ) logit symmetric \n",
        "\n",
        "           no.par    AIC logLik LR.stat df Pr(>Chisq)  \n",
        "clmm.notrt      6 157.30 -72.65                        \n",
        "mm1             7 154.72 -70.36  4.5797  1    0.03235 *\n",
        "---\n",
        "Signif. codes:  0 \u2018***\u2019 0.001 \u2018**\u2019 0.01 \u2018*\u2019 0.05 \u2018.\u2019 0.1 \u2018 \u2019 1\n"
       ]
      }
     ],
     "prompt_number": 10
    },
    {
     "cell_type": "markdown",
     "metadata": {},
     "source": [
      "> While using the Median we observe that the treatment has some influence in gettign better usability scores. this is bad because one could argue that one treatment is more easy to use and therefore easier to share data. "
     ]
    },
    {
     "cell_type": "code",
     "collapsed": false,
     "input": [
      "%%R\n",
      "links <- c(\"logistic\", \"probit\", \"cloglog\", \"loglog\", \"cauchit\")\n",
      "sapply(links, function(link) {  clmm2(response ~ trt + period + sequ,random=id, data=s, link=link ,Hess = TRUE, nAGQ = 10)$logLik })\n",
      "\n"
     ],
     "language": "python",
     "metadata": {},
     "outputs": [
      {
       "output_type": "stream",
       "stream": "stdout",
       "text": [
        "Error in eval(expr, envir, enclos) : \n",
        "  NA/NaN/Inf in foreign function call (arg 9)\n",
        "In addition: There were 50 or more warnings (use warnings() to see the first 50)\n",
        "Error in eval(expr, envir, enclos) : \n",
        "  NA/NaN/Inf in foreign function call (arg 9)\n"
       ]
      }
     ],
     "prompt_number": 11
    },
    {
     "cell_type": "markdown",
     "metadata": {},
     "source": [
      "###Using the MODE as measure of centrality"
     ]
    },
    {
     "cell_type": "code",
     "collapsed": false,
     "input": [
      "f['usability_2'] = f.apply(lambda row: mode([row['ease_2'],row['support_2'],row['time_2']])[0][0], axis=1)\n",
      "f['usability_1'] = f.apply(lambda row: mode([row['ease_1'],row['support_1'],row['time_1']])[0][0], axis=1)"
     ],
     "language": "python",
     "metadata": {},
     "outputs": [],
     "prompt_number": 12
    },
    {
     "cell_type": "code",
     "collapsed": false,
     "input": [
      "s = f.groupby('usability_1')['usability_1'].count()\n",
      "s.plot(kind='barh')"
     ],
     "language": "python",
     "metadata": {},
     "outputs": [
      {
       "metadata": {},
       "output_type": "pyout",
       "prompt_number": 13,
       "text": [
        "<matplotlib.axes._subplots.AxesSubplot at 0x105e5a290>"
       ]
      },
      {
       "metadata": {},
       "output_type": "display_data",
       "png": "[encoded data removed]",
       "text": [
        "<matplotlib.figure.Figure at 0x10c8f3450>"
       ]
      }
     ],
     "prompt_number": 13
    },
    {
     "cell_type": "code",
     "collapsed": false,
     "input": [
      "s = f.groupby('usability_2')['usability_2'].count()\n",
      "s.plot(kind='barh')"
     ],
     "language": "python",
     "metadata": {},
     "outputs": [
      {
       "metadata": {},
       "output_type": "pyout",
       "prompt_number": 14,
       "text": [
        "<matplotlib.axes._subplots.AxesSubplot at 0x10e30ab10>"
       ]
      },
      {
       "metadata": {},
       "output_type": "display_data",
       "png": "[encoded data removed]",
       "text": [
        "<matplotlib.figure.Figure at 0x1155d8310>"
       ]
      }
     ],
     "prompt_number": 14
    },
    {
     "cell_type": "code",
     "collapsed": false,
     "input": [
      "## Getting the formated dataframe\n",
      "full_set = gg.get_rm_ws_df('usability_1','usability_2')\n",
      "full_set.head(7)"
     ],
     "language": "python",
     "metadata": {},
     "outputs": [
      {
       "output_type": "stream",
       "stream": "stdout",
       "text": [
        "rm_ws_dataframe - Droping missing records\n",
        "(40, 5)\n",
        "rm_ws_dataframe - remove missing data \n",
        "(40, 5)\n",
        "rm_ws_dataframe - no duplicates \n",
        "(80, 5)\n",
        "4    43\n",
        "5    26\n",
        "3     5\n",
        "2     4\n",
        "1     2\n",
        "dtype: int64\n"
       ]
      },
      {
       "html": [
        "<div style=\"max-height:1000px;max-width:1500px;overflow:auto;\">\n",
        "<table border=\"1\" class=\"dataframe\">\n",
        "  <thead>\n",
        "    <tr style=\"text-align: right;\">\n",
        "      <th></th>\n",
        "      <th>response</th>\n",
        "      <th>trt</th>\n",
        "      <th>sequ</th>\n",
        "      <th>period</th>\n",
        "      <th>id</th>\n",
        "    </tr>\n",
        "  </thead>\n",
        "  <tbody>\n",
        "    <tr>\n",
        "      <th>0</th>\n",
        "      <td> 4</td>\n",
        "      <td> A</td>\n",
        "      <td> AB</td>\n",
        "      <td> 1</td>\n",
        "      <td> 0687ef14d441706b211ff0edf9f2ebea</td>\n",
        "    </tr>\n",
        "    <tr>\n",
        "      <th>1</th>\n",
        "      <td> 4</td>\n",
        "      <td> A</td>\n",
        "      <td> AB</td>\n",
        "      <td> 1</td>\n",
        "      <td> 0ddaf25718c6b4c35bf05ae6335150d4</td>\n",
        "    </tr>\n",
        "    <tr>\n",
        "      <th>2</th>\n",
        "      <td> 5</td>\n",
        "      <td> A</td>\n",
        "      <td> AB</td>\n",
        "      <td> 1</td>\n",
        "      <td> 18da94199bf2471a70d0298958543bb4</td>\n",
        "    </tr>\n",
        "    <tr>\n",
        "      <th>3</th>\n",
        "      <td> 4</td>\n",
        "      <td> A</td>\n",
        "      <td> AB</td>\n",
        "      <td> 1</td>\n",
        "      <td> 23ba4e6b2b149ba6294bd7e0125b2948</td>\n",
        "    </tr>\n",
        "    <tr>\n",
        "      <th>5</th>\n",
        "      <td> 5</td>\n",
        "      <td> A</td>\n",
        "      <td> AB</td>\n",
        "      <td> 1</td>\n",
        "      <td> 2be130732b05502a4a631bc01291b25b</td>\n",
        "    </tr>\n",
        "    <tr>\n",
        "      <th>6</th>\n",
        "      <td> 5</td>\n",
        "      <td> A</td>\n",
        "      <td> AB</td>\n",
        "      <td> 1</td>\n",
        "      <td> 38c7d17c9d41c293afe9d368d45a629c</td>\n",
        "    </tr>\n",
        "    <tr>\n",
        "      <th>8</th>\n",
        "      <td> 4</td>\n",
        "      <td> A</td>\n",
        "      <td> AB</td>\n",
        "      <td> 1</td>\n",
        "      <td> 4306bad121fb3ad1fb2365dda1a32440</td>\n",
        "    </tr>\n",
        "  </tbody>\n",
        "</table>\n",
        "</div>"
       ],
       "metadata": {},
       "output_type": "pyout",
       "prompt_number": 15,
       "text": [
        "   response trt sequ period                                id\n",
        "0         4   A   AB      1  0687ef14d441706b211ff0edf9f2ebea\n",
        "1         4   A   AB      1  0ddaf25718c6b4c35bf05ae6335150d4\n",
        "2         5   A   AB      1  18da94199bf2471a70d0298958543bb4\n",
        "3         4   A   AB      1  23ba4e6b2b149ba6294bd7e0125b2948\n",
        "5         5   A   AB      1  2be130732b05502a4a631bc01291b25b\n",
        "6         5   A   AB      1  38c7d17c9d41c293afe9d368d45a629c\n",
        "8         4   A   AB      1  4306bad121fb3ad1fb2365dda1a32440"
       ]
      }
     ],
     "prompt_number": 15
    },
    {
     "cell_type": "markdown",
     "metadata": {},
     "source": [
      "## Using clmm"
     ]
    },
    {
     "cell_type": "markdown",
     "metadata": {},
     "source": [
      "###check carryover using grizzle"
     ]
    },
    {
     "cell_type": "code",
     "collapsed": false,
     "input": [
      "\n",
      "ss =  gg.code_for_stat_ana()\n",
      "\n",
      "ss['usability_2'] = ss.apply(lambda row: np.median([row['ease_2'],row['support_2'],row['time_2']]), axis=1)\n",
      "ss['usability_1'] = ss.apply(lambda row: np.median([row['ease_1'],row['support_1'],row['time_1']]), axis=1)\n",
      "\n",
      "\n",
      "\n",
      "ss['sequ'] = ss['treatment_eval_1']\n",
      "ss['sequ'] = ss['sequ'].replace(['A','B'],['AB','BA'])\n",
      "ss['sum']  = ss['usability_1'].astype('int') + ss['usability_2'].astype('int')\n",
      "ss['diff'] =  ss['usability_1'].astype('int') - ss['usability_2'].astype('int')\n",
      "xx =  ss[['treatment_eval_1','diff','sum']]\n",
      "AB = xx[xx['treatment_eval_1'] == 'A']\n",
      "BA = xx[xx['treatment_eval_1'] == 'B']\n",
      "sum1= AB['sum'].sum()/AB.shape[0]\n",
      "sum2= BA['sum'].sum()/BA.shape[0]\n",
      "diff1= AB['diff'].sum()/AB.shape[0]\n",
      "diff2= BA['diff'].sum()/BA.shape[0]\n",
      "\n",
      "print sum1 - sum2\n",
      "print (diff1 - diff2)/2\n"
     ],
     "language": "python",
     "metadata": {},
     "outputs": [
      {
       "output_type": "stream",
       "stream": "stdout",
       "text": [
        "(40, 44)\n",
        "0.167919799499\n",
        "0.169172932331\n"
       ]
      }
     ],
     "prompt_number": 16
    },
    {
     "cell_type": "code",
     "collapsed": false,
     "input": [
      "ll =  ss[['sequ','usability_1','usability_2']]\n",
      "ll.columns = ['Sequence','Period 1','Period 2']\n",
      "ll['Sequence'] = ll['Sequence'].replace(['AB','BA'],['Ctrl-Exp','Exp-Ctrl'])\n",
      "\n",
      "\n",
      "ll.groupby(['Sequence']).mean().transpose().plot(marker='o').set_ylabel(\"Usability (Sum of Means)\")\n",
      "\n",
      "savefig(picture_foler+'usabilityCarryPlt.png', bbox_inches='tight')\n",
      "ll.groupby(['Sequence']).median().transpose().plot(marker='o').set_ylabel(\"Usability (Sum of Medians)\")\n",
      "\n"
     ],
     "language": "python",
     "metadata": {},
     "outputs": [
      {
       "output_type": "stream",
       "stream": "stderr",
       "text": [
        "-c:3: SettingWithCopyWarning: \n",
        "A value is trying to be set on a copy of a slice from a DataFrame.\n",
        "Try using .loc[row_indexer,col_indexer] = value instead\n",
        "\n",
        "See the the caveats in the documentation: http://pandas.pydata.org/pandas-docs/stable/indexing.html#indexing-view-versus-copy\n"
       ]
      },
      {
       "metadata": {},
       "output_type": "pyout",
       "prompt_number": 17,
       "text": [
        "<matplotlib.text.Text at 0x118969350>"
       ]
      },
      {
       "metadata": {},
       "output_type": "display_data",
       "png": "[encoded data removed]",
       "text": [
        "<matplotlib.figure.Figure at 0x11893df10>"
       ]
      },
      {
       "metadata": {},
       "output_type": "display_data",
       "png": "[encoded data removed]",
       "text": [
        "<matplotlib.figure.Figure at 0x1189bd290>"
       ]
      }
     ],
     "prompt_number": 17
    },
    {
     "cell_type": "code",
     "collapsed": false,
     "input": [
      "%%R -i ss\n",
      "\n",
      "print(aggregate(ss$sum, by=list(ss$treatment_eval_1), mean))\n",
      "print(wilcox.test(ss$sum~factor(ss$treatment_eval_1),paired = FALSE, conf.int = TRUE))\n",
      "print(wilcox.test(ss$diff~factor(ss$treatment_eval_1),paired = FALSE, conf.int = TRUE))\n",
      "print(wilcox.test(ss$usability_1~factor(ss$treatment_eval_1),paired = FALSE, alternative =\"g\"  ))\n"
     ],
     "language": "python",
     "metadata": {},
     "outputs": [
      {
       "metadata": {},
       "output_type": "display_data",
       "text": [
        "  Group.1        x\n",
        "1       A 8.263158\n",
        "2       B 8.095238\n",
        "\n",
        "\tWilcoxon rank sum test with continuity correction\n",
        "\n",
        "data:  ss$sum by factor(ss$treatment_eval_1)\n",
        "W = 196.5, p-value = 0.9422\n",
        "alternative hypothesis: true location shift is not equal to 0\n",
        "95 percent confidence interval:\n",
        " -0.9999861  0.9999656\n",
        "sample estimates:\n",
        "difference in location \n",
        "         -6.392654e-06 \n",
        "\n",
        "\n",
        "\tWilcoxon rank sum test with continuity correction\n",
        "\n",
        "data:  ss$diff by factor(ss$treatment_eval_1)\n",
        "W = 253, p-value = 0.03953\n",
        "alternative hypothesis: true location shift is not equal to 0\n",
        "95 percent confidence interval:\n",
        " -2.051167e-05  5.749206e-05\n",
        "sample estimates:\n",
        "difference in location \n",
        "          4.943072e-05 \n",
        "\n",
        "\n",
        "\tWilcoxon rank sum test with continuity correction\n",
        "\n",
        "data:  ss$usability_1 by factor(ss$treatment_eval_1)\n",
        "W = 223, p-value = 0.2468\n",
        "alternative hypothesis: true location shift is greater than 0\n",
        "\n"
       ]
      }
     ],
     "prompt_number": 18
    },
    {
     "cell_type": "markdown",
     "metadata": {},
     "source": [
      "###Actual model"
     ]
    },
    {
     "cell_type": "code",
     "collapsed": false,
     "input": [
      "%%R -i full_set\n",
      "library(ordinal)\n",
      "\n",
      "s <- data.frame(full_set)\n",
      "s$response <- factor(s$response)\n",
      "s$trt <- factor(s$trt)\n",
      "s$sequ <- factor(s$sequ)\n",
      "s$period <- factor(s$period)\n",
      "\n",
      "clmm.full <- clmm(response ~ sequ  + period + trt + (1 | id:sequ), s, Hess = TRUE, nAGQ = 10 )\n",
      "clmm.notrt <-clmm(response ~ sequ  + period + (1 | id:sequ), s,  Hess = TRUE, nAGQ = 10 )\n",
      "\n",
      "print (summary(clmm.full))\n",
      "print(exp(cbind(OR =coef(clmm.full), confint(clmm.full))))\n",
      "\n",
      "print(anova(clmm.full, clmm.notrt))"
     ],
     "language": "python",
     "metadata": {},
     "outputs": [
      {
       "metadata": {},
       "output_type": "display_data",
       "text": [
        "Cumulative Link Mixed Model fitted with the adaptive Gauss-Hermite \n",
        "quadrature approximation with 10 quadrature points \n",
        "\n",
        "formula: response ~ sequ + period + trt + (1 | id:sequ)\n",
        "data:    s\n",
        "\n",
        " link  threshold nobs logLik AIC    niter     max.grad cond.H \n",
        " logit flexible  80   -69.63 155.25 443(3963) 1.46e-05 1.3e+03\n",
        "\n",
        "Random effects:\n",
        " Groups  Name        Variance Std.Dev.\n",
        " id:sequ (Intercept) 32.11    5.667   \n",
        "Number of groups:  id:sequ 40 \n",
        "\n",
        "Coefficients:\n",
        "        Estimate Std. Error z value Pr(>|z|)  \n",
        "sequBA   -0.2516     2.0003  -0.126   0.8999  \n",
        "period2   1.0530     0.7787   1.352   0.1763  \n",
        "trtB     -1.5292     0.8237  -1.857   0.0634 .\n",
        "---\n",
        "Signif. codes:  0 \u2018***\u2019 0.001 \u2018**\u2019 0.01 \u2018*\u2019 0.05 \u2018.\u2019 0.1 \u2018 \u2019 1\n",
        "\n",
        "Threshold coefficients:\n",
        "    Estimate Std. Error z value\n",
        "1|2  -13.246      4.431  -2.989\n",
        "2|3   -8.556      2.800  -3.056\n",
        "3|4   -6.202      2.278  -2.722\n",
        "4|5    2.002      1.614   1.241\n",
        "                  OR        2.5 %       97.5 %\n",
        "1|2     1.767833e-06 2.989259e-10   0.01045488\n",
        "2|3     1.923983e-04 7.957659e-07   0.04651759\n",
        "3|4     2.026330e-03 2.331277e-05   0.17612715\n",
        "4|5     7.405353e+00 3.133561e-01 175.00614673\n",
        "sequBA  7.775383e-01 1.541954e-02  39.20778350\n",
        "period2 2.866140e+00 6.229272e-01  13.18734370\n",
        "trtB    2.166998e-01 4.312860e-02   1.08880835\n",
        "Likelihood ratio tests of cumulative link models:\n",
        " \n",
        "           formula:                                       link: threshold:\n",
        "clmm.notrt response ~ sequ + period + (1 | id:sequ)       logit flexible  \n",
        "clmm.full  response ~ sequ + period + trt + (1 | id:sequ) logit flexible  \n",
        "\n",
        "           no.par    AIC  logLik LR.stat df Pr(>Chisq)  \n",
        "clmm.notrt      7 157.71 -71.853                        \n",
        "clmm.full       8 155.25 -69.626  4.4544  1    0.03481 *\n",
        "---\n",
        "Signif. codes:  0 \u2018***\u2019 0.001 \u2018**\u2019 0.01 \u2018*\u2019 0.05 \u2018.\u2019 0.1 \u2018 \u2019 1\n"
       ]
      }
     ],
     "prompt_number": 24
    },
    {
     "cell_type": "code",
     "collapsed": false,
     "input": [
      "%%R\n",
      "source('regression_plots.r')\n",
      "\n",
      "\n",
      "plot_odds(clmm.full,'Odds ratios and CI')\n",
      "\n",
      "##rm(list=ls())"
     ],
     "language": "python",
     "metadata": {},
     "outputs": [
      {
       "metadata": {},
       "output_type": "display_data",
       "png": "[encoded data removed]"
      }
     ],
     "prompt_number": 25
    },
    {
     "cell_type": "code",
     "collapsed": false,
     "input": [
      "%%R\n",
      "\n",
      "library(texreg)\n",
      "source('clmm_extractor.r')\n",
      "\n",
      "texreg(list(clmm.notrt ,clmm.full ), ci.force = TRUE, ci.test = 1, ci.force.level = 0.95 , float.pos = \"tb\",\n",
      "      caption = \"Usability Evaluation CMML\",  use.packages = FALSE, single.row = FALSE, custom.coef.names=c(\"Sequence\",\"Period\",\"Treatment\"),\n",
      "      custom.model.names = c(\"without Treatment\", \"with Treatment\"),label=\"table:Usability_Evaluation\")\n",
      "\n"
     ],
     "language": "python",
     "metadata": {},
     "outputs": [
      {
       "metadata": {},
       "output_type": "display_data",
       "text": [
        "\n",
        "\\begin{table}[tb]\n",
        "\\begin{center}\n",
        "\\begin{tabular}{l c c }\n",
        "\\hline\n",
        "               & without Treatment & with Treatment \\\\\n",
        "\\hline\n",
        "Sequence       & $0.80$           & $0.78$           \\\\\n",
        "               & $[0.03;\\ 22.89]$ & $[0.02;\\ 39.21]$ \\\\\n",
        "Period         & $2.51$           & $2.87$           \\\\\n",
        "               & $[0.67;\\ 9.45]$  & $[0.62;\\ 13.19]$ \\\\\n",
        "Treatment      &                  & $0.22$           \\\\\n",
        "               &                  & $[0.04;\\ 1.09]$  \\\\\n",
        "\\hline\n",
        "AIC            & 157.71           & 155.25           \\\\\n",
        "BIC            & 174.38           & 174.31           \\\\\n",
        "Log Likelihood & -71.85           & -69.63           \\\\\n",
        "Num. obs.      & 80               & 80               \\\\\n",
        "\\hline\n",
        "\\multicolumn{3}{l}{\\scriptsize{$^*$ 1 outside the confidence interval}}\n",
        "\\end{tabular}\n",
        "\\caption{Usability Evaluation CMML}\n",
        "\\label{table:Usability_Evaluation}\n",
        "\\end{center}\n",
        "\\end{table}\n",
        " FALSE"
       ]
      }
     ],
     "prompt_number": 26
    },
    {
     "cell_type": "code",
     "collapsed": false,
     "input": [
      " %%R -i full_set\n",
      "library(ordinal)\n",
      "\n",
      "    s <- data.frame(full_set)\n",
      "    s$response <- factor(s$response)\n",
      "    s$trt <- factor(s$trt)\n",
      "    s$sequ <- factor(s$sequ)\n",
      "    s$period <- factor(s$period)\n",
      "\n",
      "\n",
      "    mm2 <- clmm(response ~ sequ  + period +(1 | id:sequ), s, Hess = TRUE )\n",
      "    \n",
      "\n",
      "    print (summary(mm2))\n",
      "##    exp(cbind(OR =coef(mm2), confint(mm2)))\n",
      "    "
     ],
     "language": "python",
     "metadata": {},
     "outputs": [
      {
       "metadata": {},
       "output_type": "display_data",
       "text": [
        "Cumulative Link Mixed Model fitted with the Laplace approximation\n",
        "\n",
        "formula: response ~ sequ + period + (1 | id:sequ)\n",
        "data:    s\n",
        "\n",
        " link  threshold nobs logLik AIC    niter     max.grad cond.H \n",
        " logit flexible  80   -67.72 149.44 404(3144) 2.36e-05 9.9e+02\n",
        "\n",
        "Random effects:\n",
        " Groups  Name        Variance Std.Dev.\n",
        " id:sequ (Intercept) 118.8    10.9    \n",
        "Number of groups:  id:sequ 40 \n",
        "\n",
        "Coefficients:\n",
        "        Estimate Std. Error z value Pr(>|z|)\n",
        "sequBA   0.02149    1.69794   0.013    0.990\n",
        "period2  1.37625    0.88302   1.559    0.119\n",
        "\n",
        "Threshold coefficients:\n",
        "    Estimate Std. Error z value\n",
        "1|2  -17.901      4.425  -4.046\n",
        "2|3   -9.920      2.393  -4.145\n",
        "3|4   -6.527      1.493  -4.371\n",
        "4|5    6.750      2.049   3.295\n"
       ]
      }
     ],
     "prompt_number": 22
    },
    {
     "cell_type": "code",
     "collapsed": false,
     "input": [
      "%%R \n",
      "anova(mm2, mm1)"
     ],
     "language": "python",
     "metadata": {},
     "outputs": [
      {
       "metadata": {},
       "output_type": "display_data",
       "text": [
        "Likelihood ratio tests of cumulative link models:\n",
        " \n",
        "    formula:                                       link: threshold:\n",
        "mm2 response ~ sequ + period + (1 | id:sequ)       logit flexible  \n",
        "mm1 response ~ sequ + trt + period + (1 | id:sequ) logit symmetric \n",
        "\n",
        "    no.par    AIC  logLik LR.stat df Pr(>Chisq)\n",
        "mm2      7 149.44 -67.722                      \n",
        "mm1      7 154.72 -70.360 -5.2758  0           \n"
       ]
      }
     ],
     "prompt_number": 23
    },
    {
     "cell_type": "markdown",
     "metadata": {},
     "source": [
      "> While using the Mode we observe that the treatment has some influence in gettign better usability scores. this is bad because one could argue that one treatment is more easy to use and therefore easier to share data."
     ]
    },
    {
     "cell_type": "markdown",
     "metadata": {},
     "source": [
      "> under both measures of centrality the treatment came out statistically significant and therefore this could indicate than one treatment is beter tna the other. Nevertheless using the median give the lowest significance and is a better method for centrality so we ca say the design are almost the same."
     ]
    },
    {
     "cell_type": "code",
     "collapsed": false,
     "input": [],
     "language": "python",
     "metadata": {},
     "outputs": [],
     "prompt_number": 23
    },
    {
     "cell_type": "code",
     "collapsed": false,
     "input": [],
     "language": "python",
     "metadata": {},
     "outputs": [],
     "prompt_number": 23
    }
   ],
   "metadata": {}
  }
 ]
}