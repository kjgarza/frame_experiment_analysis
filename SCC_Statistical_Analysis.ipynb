{
 "cells": [
  {
   "cell_type": "markdown",
   "metadata": {},
   "source": [
    "#Frame Experiment Statistical Within Subject Analysis\n",
    "\n",
    "<i>Created by Kristian G</i>"
   ]
  },
  {
   "cell_type": "markdown",
   "metadata": {},
   "source": [
    "Preliminaries"
   ]
  },
  {
   "cell_type": "code",
   "execution_count": 6,
   "metadata": {
    "collapsed": false
   },
   "outputs": [],
   "source": [
    "%matplotlib inline\n",
    "import numpy as np\n",
    "import pandas as pd\n",
    "import matplotlib.pyplot as plt\n",
    "from extract_data import datatoFrame\n",
    "from code_data import *\n",
    "from ggplot import *\n",
    "import json\n",
    "from frame_experiment_table import FrameExperimentTable"
   ]
  },
  {
   "cell_type": "code",
   "execution_count": 7,
   "metadata": {
    "collapsed": false
   },
   "outputs": [
    {
     "name": "stdout",
     "output_type": "stream",
     "text": [
      "Populating the interactive namespace from numpy and matplotlib\n",
      "The rpy2.ipython extension is already loaded. To reload it, use:\n",
      "  %reload_ext rpy2.ipython\n"
     ]
    },
    {
     "name": "stderr",
     "output_type": "stream",
     "text": [
      "WARNING: pylab import has clobbered these variables: ['f', 'xlim', 'pylab', 'ylim']\n",
      "`%matplotlib` prevents importing * from pylab and numpy\n"
     ]
    }
   ],
   "source": [
    "%pylab inline\n",
    "# %load_ext rmagic\n",
    "%load_ext rpy2.ipython\n",
    "import pylab\n",
    "%R rm(list=ls())"
   ]
  },
  {
   "cell_type": "markdown",
   "metadata": {},
   "source": [
    "##Load Full dataset"
   ]
  },
  {
   "cell_type": "code",
   "execution_count": 8,
   "metadata": {
    "collapsed": false
   },
   "outputs": [
    {
     "name": "stdout",
     "output_type": "stream",
     "text": [
      "(55, 40)\n",
      "classify_field - Fields Excluded\n",
      "(6,)\n",
      "(55, 42)\n",
      "New Usability Columns\n",
      "(55, 44)\n",
      "set([1, 2])\n",
      "multi\n",
      "set([1, 3])\n",
      "multi\n",
      "set([1])\n",
      "e-mail\n",
      "set([1, 2])\n",
      "multi\n",
      "set([1])\n",
      "e-mail\n",
      "set([3])\n",
      "self-depositing\n",
      "set([1, 3])\n",
      "multi\n",
      "set([2])\n",
      "self-depositing\n",
      "set([1, 2])\n",
      "multi\n",
      "set([3])\n",
      "self-depositing\n",
      "set([1])\n",
      "e-mail\n",
      "set([1, 2])\n",
      "multi\n",
      "set([2])\n",
      "self-depositing\n",
      "set([1])\n",
      "e-mail\n",
      "set([1, 2, 3])\n",
      "multi\n",
      "set([1])\n",
      "e-mail\n",
      "set([2])\n",
      "self-depositing\n",
      "set([2])\n",
      "self-depositing\n",
      "set([1, 3])\n",
      "multi\n",
      "set([1])\n",
      "e-mail\n",
      "set([4])\n",
      "Never\n",
      "set([1, 3])\n",
      "multi\n",
      "set([2])\n",
      "self-depositing\n",
      "set([4])\n",
      "Never\n",
      "set([2])\n",
      "self-depositing\n",
      "set([1, 3])\n",
      "multi\n",
      "set([2])\n",
      "self-depositing\n",
      "set([1, 3])\n",
      "multi\n",
      "set([2])\n",
      "self-depositing\n",
      "set([])\n",
      "\n",
      "set([2])\n",
      "self-depositing\n",
      "set([2])\n",
      "self-depositing\n",
      "set([1])\n",
      "e-mail\n",
      "set([2, 3])\n",
      "self-depositing\n",
      "set([2])\n",
      "self-depositing\n",
      "set([])\n",
      "\n",
      "set([4])\n",
      "Never\n",
      "set([])\n",
      "\n",
      "set([3, 4])\n",
      "Never\n",
      "set([])\n",
      "\n",
      "set([1, 2])\n",
      "multi\n",
      "set([1, 2])\n",
      "multi\n",
      "set([4])\n",
      "Never\n",
      "set([])\n",
      "\n",
      "set([1, 2, 3])\n",
      "multi\n",
      "set([2])\n",
      "self-depositing\n",
      "set([2])\n",
      "self-depositing\n",
      "set([3])\n",
      "self-depositing\n",
      "set([1, 2])\n",
      "multi\n",
      "set([1, 2, 3])\n",
      "multi\n",
      "set([])\n",
      "\n",
      "set([1, 2])\n",
      "multi\n",
      "set([2, 3])\n",
      "self-depositing\n",
      "set([2, 3])\n",
      "self-depositing\n",
      "set([1])\n",
      "e-mail\n",
      "Total\n",
      "55\n",
      "Removing testing\n",
      "2\n",
      "Removing Random\n",
      "5\n",
      "Removing Not Life Sciences\n",
      "2\n",
      "Removing Not enlgish skilled\n",
      "5\n",
      "Removing Not Honest\n",
      "6\n",
      "Removing unaware\n",
      "0\n",
      "Removing Not answer\n",
      "1\n",
      "Removing Not answer\n",
      "0\n",
      "Total\n",
      "34\n",
      "(40, 44)\n",
      "\n"
     ]
    }
   ],
   "source": [
    "new = 1\n",
    "if new == 0: \n",
    "    f = FrameExperimentTable('logs/data_incremental_file')\n",
    "    f.add_records('logs/data_two_records','new')\n",
    "    f.add_records_csv('logs/data_scramble_filled_csv.csv')\n",
    "else:\n",
    "    f = FrameExperimentTable('logs/data_scenario_changed')\n",
    "f.filter_noise()\n",
    "f.code_for_stat_ana()\n",
    "f.code_survey_numeric()\n",
    "print ''"
   ]
  },
  {
   "cell_type": "markdown",
   "metadata": {},
   "source": [
    "#SCC Within Subejcts Analysis \n",
    "\n",
    "When to cannot be done in within subject study because of the lack of subjects and subjects not following the same responses.\n",
    "This could be done only a between subject experiment.\n",
    "\n",
    "\n",
    "So what we will run is a between subjects experiment as:\n",
    "\n",
    "1. Subjects were all independent and just have one intervention\n",
    "1. \n",
    "\n",
    "I can do a wthin subjects if i combine levels"
   ]
  },
  {
   "cell_type": "code",
   "execution_count": 9,
   "metadata": {
    "collapsed": false
   },
   "outputs": [
    {
     "name": "stdout",
     "output_type": "stream",
     "text": [
      "rm_ws_dataframe - Droping missing records\n",
      "(40, 5)\n",
      "rm_ws_dataframe - remove missing data \n",
      "(40, 5)\n",
      "rm_ws_dataframe - no duplicates \n",
      "(80, 5)\n",
      "nan    64\n",
      "6m      6\n",
      "10y     6\n",
      "1y      3\n",
      "3y      1\n",
      "dtype: int64\n"
     ]
    }
   ],
   "source": [
    "d = f.get_rm_ws_df('when_to_1','when_to_2')\n",
    "d = d.dropna()\n",
    "d = d[d.response != 'null']\n",
    "d = d[d.response != 'nan']\n",
    "treatment = pd.DataFrame({'SCC Embargo' : d.response[(d['trt'] == 'B') & (d['period'] == '2')] })\n",
    "control = pd.DataFrame({'Free Choice Embargo' :d.response[(d['trt'] == 'A') & (d['period'] == '1')] })"
   ]
  },
  {
   "cell_type": "markdown",
   "metadata": {},
   "source": [
    "#### Control -> treamtent  Comparison"
   ]
  },
  {
   "cell_type": "code",
   "execution_count": 11,
   "metadata": {
    "collapsed": false
   },
   "outputs": [
    {
     "name": "stdout",
     "output_type": "stream",
     "text": [
      "\n",
      "Error in do.call(\"gList\", grobs) : could not find function \"gList\"\n"
     ]
    },
    {
     "name": "stderr",
     "output_type": "stream",
     "text": [
      "/Users/kristian/miniconda/lib/python2.7/site-packages/rpy2/robjects/functions.py:106: UserWarning: Error in dev.off() : \n",
      "  QuartzBitmap_Output - unable to open file '/var/folders/hk/r83tf3z95rs1gqcjf02dq2jr0000gp/T/tmpvqdOF_/Rplots001.png'\n",
      "\n",
      "  res = super(Function, self).__call__(*new_args, **new_kwargs)\n"
     ]
    },
    {
     "ename": "RRuntimeError",
     "evalue": "Error in dev.off() : \n  QuartzBitmap_Output - unable to open file '/var/folders/hk/r83tf3z95rs1gqcjf02dq2jr0000gp/T/tmpvqdOF_/Rplots001.png'\n",
     "output_type": "error",
     "traceback": [
      "\u001b[0;31m---------------------------------------------------------------------------\u001b[0m",
      "\u001b[0;31mRRuntimeError\u001b[0m                             Traceback (most recent call last)",
      "\u001b[0;32m<ipython-input-11-867450763e0e>\u001b[0m in \u001b[0;36m<module>\u001b[0;34m()\u001b[0m\n\u001b[0;32m----> 1\u001b[0;31m \u001b[0mget_ipython\u001b[0m\u001b[0;34m(\u001b[0m\u001b[0;34m)\u001b[0m\u001b[0;34m.\u001b[0m\u001b[0mrun_cell_magic\u001b[0m\u001b[0;34m(\u001b[0m\u001b[0;34mu'R'\u001b[0m\u001b[0;34m,\u001b[0m \u001b[0;34mu'-i treatment -i control'\u001b[0m\u001b[0;34m,\u001b[0m \u001b[0;34mu'source(\"stacked_bars.R\")\\ngraph_when(treatment, control, \"Preferences Comparison, sequence Control -> Treatment\")'\u001b[0m\u001b[0;34m)\u001b[0m\u001b[0;34m\u001b[0m\u001b[0m\n\u001b[0m",
      "\u001b[0;32m/Users/kristian/miniconda/lib/python2.7/site-packages/IPython/core/interactiveshell.pyc\u001b[0m in \u001b[0;36mrun_cell_magic\u001b[0;34m(self, magic_name, line, cell)\u001b[0m\n\u001b[1;32m   2291\u001b[0m             \u001b[0mmagic_arg_s\u001b[0m \u001b[0;34m=\u001b[0m \u001b[0mself\u001b[0m\u001b[0;34m.\u001b[0m\u001b[0mvar_expand\u001b[0m\u001b[0;34m(\u001b[0m\u001b[0mline\u001b[0m\u001b[0;34m,\u001b[0m \u001b[0mstack_depth\u001b[0m\u001b[0;34m)\u001b[0m\u001b[0;34m\u001b[0m\u001b[0m\n\u001b[1;32m   2292\u001b[0m             \u001b[0;32mwith\u001b[0m \u001b[0mself\u001b[0m\u001b[0;34m.\u001b[0m\u001b[0mbuiltin_trap\u001b[0m\u001b[0;34m:\u001b[0m\u001b[0;34m\u001b[0m\u001b[0m\n\u001b[0;32m-> 2293\u001b[0;31m                 \u001b[0mresult\u001b[0m \u001b[0;34m=\u001b[0m \u001b[0mfn\u001b[0m\u001b[0;34m(\u001b[0m\u001b[0mmagic_arg_s\u001b[0m\u001b[0;34m,\u001b[0m \u001b[0mcell\u001b[0m\u001b[0;34m)\u001b[0m\u001b[0;34m\u001b[0m\u001b[0m\n\u001b[0m\u001b[1;32m   2294\u001b[0m             \u001b[0;32mreturn\u001b[0m \u001b[0mresult\u001b[0m\u001b[0;34m\u001b[0m\u001b[0m\n\u001b[1;32m   2295\u001b[0m \u001b[0;34m\u001b[0m\u001b[0m\n",
      "\u001b[0;32m/Users/kristian/miniconda/lib/python2.7/site-packages/rpy2/ipython/rmagic.pyc\u001b[0m in \u001b[0;36mR\u001b[0;34m(self, line, cell, local_ns)\u001b[0m\n",
      "\u001b[0;32m/Users/kristian/miniconda/lib/python2.7/site-packages/IPython/core/magic.pyc\u001b[0m in \u001b[0;36m<lambda>\u001b[0;34m(f, *a, **k)\u001b[0m\n\u001b[1;32m    191\u001b[0m     \u001b[0;31m# but it's overkill for just that one bit of state.\u001b[0m\u001b[0;34m\u001b[0m\u001b[0;34m\u001b[0m\u001b[0m\n\u001b[1;32m    192\u001b[0m     \u001b[0;32mdef\u001b[0m \u001b[0mmagic_deco\u001b[0m\u001b[0;34m(\u001b[0m\u001b[0marg\u001b[0m\u001b[0;34m)\u001b[0m\u001b[0;34m:\u001b[0m\u001b[0;34m\u001b[0m\u001b[0m\n\u001b[0;32m--> 193\u001b[0;31m         \u001b[0mcall\u001b[0m \u001b[0;34m=\u001b[0m \u001b[0;32mlambda\u001b[0m \u001b[0mf\u001b[0m\u001b[0;34m,\u001b[0m \u001b[0;34m*\u001b[0m\u001b[0ma\u001b[0m\u001b[0;34m,\u001b[0m \u001b[0;34m**\u001b[0m\u001b[0mk\u001b[0m\u001b[0;34m:\u001b[0m \u001b[0mf\u001b[0m\u001b[0;34m(\u001b[0m\u001b[0;34m*\u001b[0m\u001b[0ma\u001b[0m\u001b[0;34m,\u001b[0m \u001b[0;34m**\u001b[0m\u001b[0mk\u001b[0m\u001b[0;34m)\u001b[0m\u001b[0;34m\u001b[0m\u001b[0m\n\u001b[0m\u001b[1;32m    194\u001b[0m \u001b[0;34m\u001b[0m\u001b[0m\n\u001b[1;32m    195\u001b[0m         \u001b[0;32mif\u001b[0m \u001b[0mcallable\u001b[0m\u001b[0;34m(\u001b[0m\u001b[0marg\u001b[0m\u001b[0;34m)\u001b[0m\u001b[0;34m:\u001b[0m\u001b[0;34m\u001b[0m\u001b[0m\n",
      "\u001b[0;32m/Users/kristian/miniconda/lib/python2.7/site-packages/rpy2/ipython/rmagic.pyc\u001b[0m in \u001b[0;36mR\u001b[0;34m(self, line, cell, local_ns)\u001b[0m\n\u001b[1;32m    693\u001b[0m         \u001b[0;32mfinally\u001b[0m\u001b[0;34m:\u001b[0m\u001b[0;34m\u001b[0m\u001b[0m\n\u001b[1;32m    694\u001b[0m             \u001b[0;32mif\u001b[0m \u001b[0mself\u001b[0m\u001b[0;34m.\u001b[0m\u001b[0mdevice\u001b[0m \u001b[0;32min\u001b[0m \u001b[0;34m[\u001b[0m\u001b[0;34m'png'\u001b[0m\u001b[0;34m,\u001b[0m \u001b[0;34m'svg'\u001b[0m\u001b[0;34m]\u001b[0m\u001b[0;34m:\u001b[0m\u001b[0;34m\u001b[0m\u001b[0m\n\u001b[0;32m--> 695\u001b[0;31m                 \u001b[0mro\u001b[0m\u001b[0;34m.\u001b[0m\u001b[0mr\u001b[0m\u001b[0;34m(\u001b[0m\u001b[0;34m'dev.off()'\u001b[0m\u001b[0;34m)\u001b[0m\u001b[0;34m\u001b[0m\u001b[0m\n\u001b[0m\u001b[1;32m    696\u001b[0m \u001b[0;34m\u001b[0m\u001b[0m\n\u001b[1;32m    697\u001b[0m         \u001b[0;32mif\u001b[0m \u001b[0mtext_output\u001b[0m\u001b[0;34m:\u001b[0m\u001b[0;34m\u001b[0m\u001b[0m\n",
      "\u001b[0;32m/Users/kristian/miniconda/lib/python2.7/site-packages/rpy2/robjects/__init__.pyc\u001b[0m in \u001b[0;36m__call__\u001b[0;34m(self, string)\u001b[0m\n\u001b[1;32m    317\u001b[0m     \u001b[0;32mdef\u001b[0m \u001b[0m__call__\u001b[0m\u001b[0;34m(\u001b[0m\u001b[0mself\u001b[0m\u001b[0;34m,\u001b[0m \u001b[0mstring\u001b[0m\u001b[0;34m)\u001b[0m\u001b[0;34m:\u001b[0m\u001b[0;34m\u001b[0m\u001b[0m\n\u001b[1;32m    318\u001b[0m         \u001b[0mp\u001b[0m \u001b[0;34m=\u001b[0m \u001b[0m_rparse\u001b[0m\u001b[0;34m(\u001b[0m\u001b[0mtext\u001b[0m\u001b[0;34m=\u001b[0m\u001b[0mStrSexpVector\u001b[0m\u001b[0;34m(\u001b[0m\u001b[0;34m(\u001b[0m\u001b[0mstring\u001b[0m\u001b[0;34m,\u001b[0m\u001b[0;34m)\u001b[0m\u001b[0;34m)\u001b[0m\u001b[0;34m)\u001b[0m\u001b[0;34m\u001b[0m\u001b[0m\n\u001b[0;32m--> 319\u001b[0;31m         \u001b[0mres\u001b[0m \u001b[0;34m=\u001b[0m \u001b[0mself\u001b[0m\u001b[0;34m.\u001b[0m\u001b[0meval\u001b[0m\u001b[0;34m(\u001b[0m\u001b[0mp\u001b[0m\u001b[0;34m)\u001b[0m\u001b[0;34m\u001b[0m\u001b[0m\n\u001b[0m\u001b[1;32m    320\u001b[0m         \u001b[0;32mreturn\u001b[0m \u001b[0mconversion\u001b[0m\u001b[0;34m.\u001b[0m\u001b[0mri2py\u001b[0m\u001b[0;34m(\u001b[0m\u001b[0mres\u001b[0m\u001b[0;34m)\u001b[0m\u001b[0;34m\u001b[0m\u001b[0m\n\u001b[1;32m    321\u001b[0m \u001b[0;34m\u001b[0m\u001b[0m\n",
      "\u001b[0;32m/Users/kristian/miniconda/lib/python2.7/site-packages/rpy2/robjects/functions.pyc\u001b[0m in \u001b[0;36m__call__\u001b[0;34m(self, *args, **kwargs)\u001b[0m\n\u001b[1;32m    176\u001b[0m                 \u001b[0mv\u001b[0m \u001b[0;34m=\u001b[0m \u001b[0mkwargs\u001b[0m\u001b[0;34m.\u001b[0m\u001b[0mpop\u001b[0m\u001b[0;34m(\u001b[0m\u001b[0mk\u001b[0m\u001b[0;34m)\u001b[0m\u001b[0;34m\u001b[0m\u001b[0m\n\u001b[1;32m    177\u001b[0m                 \u001b[0mkwargs\u001b[0m\u001b[0;34m[\u001b[0m\u001b[0mr_k\u001b[0m\u001b[0;34m]\u001b[0m \u001b[0;34m=\u001b[0m \u001b[0mv\u001b[0m\u001b[0;34m\u001b[0m\u001b[0m\n\u001b[0;32m--> 178\u001b[0;31m         \u001b[0;32mreturn\u001b[0m \u001b[0msuper\u001b[0m\u001b[0;34m(\u001b[0m\u001b[0mSignatureTranslatedFunction\u001b[0m\u001b[0;34m,\u001b[0m \u001b[0mself\u001b[0m\u001b[0;34m)\u001b[0m\u001b[0;34m.\u001b[0m\u001b[0m__call__\u001b[0m\u001b[0;34m(\u001b[0m\u001b[0;34m*\u001b[0m\u001b[0margs\u001b[0m\u001b[0;34m,\u001b[0m \u001b[0;34m**\u001b[0m\u001b[0mkwargs\u001b[0m\u001b[0;34m)\u001b[0m\u001b[0;34m\u001b[0m\u001b[0m\n\u001b[0m\u001b[1;32m    179\u001b[0m \u001b[0;34m\u001b[0m\u001b[0m\n\u001b[1;32m    180\u001b[0m \u001b[0mpattern_link\u001b[0m \u001b[0;34m=\u001b[0m \u001b[0mre\u001b[0m\u001b[0;34m.\u001b[0m\u001b[0mcompile\u001b[0m\u001b[0;34m(\u001b[0m\u001b[0;34mr'\\\\link\\{(.+?)\\}'\u001b[0m\u001b[0;34m)\u001b[0m\u001b[0;34m\u001b[0m\u001b[0m\n",
      "\u001b[0;32m/Users/kristian/miniconda/lib/python2.7/site-packages/rpy2/robjects/functions.pyc\u001b[0m in \u001b[0;36m__call__\u001b[0;34m(self, *args, **kwargs)\u001b[0m\n\u001b[1;32m    104\u001b[0m         \u001b[0;32mfor\u001b[0m \u001b[0mk\u001b[0m\u001b[0;34m,\u001b[0m \u001b[0mv\u001b[0m \u001b[0;32min\u001b[0m \u001b[0mkwargs\u001b[0m\u001b[0;34m.\u001b[0m\u001b[0mitems\u001b[0m\u001b[0;34m(\u001b[0m\u001b[0;34m)\u001b[0m\u001b[0;34m:\u001b[0m\u001b[0;34m\u001b[0m\u001b[0m\n\u001b[1;32m    105\u001b[0m             \u001b[0mnew_kwargs\u001b[0m\u001b[0;34m[\u001b[0m\u001b[0mk\u001b[0m\u001b[0;34m]\u001b[0m \u001b[0;34m=\u001b[0m \u001b[0mconversion\u001b[0m\u001b[0;34m.\u001b[0m\u001b[0mpy2ri\u001b[0m\u001b[0;34m(\u001b[0m\u001b[0mv\u001b[0m\u001b[0;34m)\u001b[0m\u001b[0;34m\u001b[0m\u001b[0m\n\u001b[0;32m--> 106\u001b[0;31m         \u001b[0mres\u001b[0m \u001b[0;34m=\u001b[0m \u001b[0msuper\u001b[0m\u001b[0;34m(\u001b[0m\u001b[0mFunction\u001b[0m\u001b[0;34m,\u001b[0m \u001b[0mself\u001b[0m\u001b[0;34m)\u001b[0m\u001b[0;34m.\u001b[0m\u001b[0m__call__\u001b[0m\u001b[0;34m(\u001b[0m\u001b[0;34m*\u001b[0m\u001b[0mnew_args\u001b[0m\u001b[0;34m,\u001b[0m \u001b[0;34m**\u001b[0m\u001b[0mnew_kwargs\u001b[0m\u001b[0;34m)\u001b[0m\u001b[0;34m\u001b[0m\u001b[0m\n\u001b[0m\u001b[1;32m    107\u001b[0m         \u001b[0mres\u001b[0m \u001b[0;34m=\u001b[0m \u001b[0mconversion\u001b[0m\u001b[0;34m.\u001b[0m\u001b[0mri2ro\u001b[0m\u001b[0;34m(\u001b[0m\u001b[0mres\u001b[0m\u001b[0;34m)\u001b[0m\u001b[0;34m\u001b[0m\u001b[0m\n\u001b[1;32m    108\u001b[0m         \u001b[0;32mreturn\u001b[0m \u001b[0mres\u001b[0m\u001b[0;34m\u001b[0m\u001b[0m\n",
      "\u001b[0;31mRRuntimeError\u001b[0m: Error in dev.off() : \n  QuartzBitmap_Output - unable to open file '/var/folders/hk/r83tf3z95rs1gqcjf02dq2jr0000gp/T/tmpvqdOF_/Rplots001.png'\n"
     ]
    }
   ],
   "source": [
    "%%R -i treatment -i control\n",
    "source(\"stacked_bars.R\")\n",
    "graph_when(treatment, control, \"Preferences Comparison, sequence Control -> Treatment\")"
   ]
  },
  {
   "cell_type": "markdown",
   "metadata": {},
   "source": [
    "#### First period Comparison"
   ]
  },
  {
   "cell_type": "code",
   "execution_count": null,
   "metadata": {
    "collapsed": false
   },
   "outputs": [],
   "source": [
    "treatment = pd.DataFrame({'Treatment' : d.response[(d['trt'] == 'B') & (d['period'] == '1')] })\n",
    "control = pd.DataFrame({'Control' :d.response[(d['trt'] == 'A') & (d['period'] == '1')] })"
   ]
  },
  {
   "cell_type": "code",
   "execution_count": null,
   "metadata": {
    "collapsed": false
   },
   "outputs": [],
   "source": [
    "%%R -i treatment -i control\n",
    "source(\"stacked_bars.R\")\n",
    "graph_when(treatment, control, \"Preferences Comparison, First Period\")"
   ]
  },
  {
   "cell_type": "code",
   "execution_count": null,
   "metadata": {
    "collapsed": false
   },
   "outputs": [],
   "source": [
    "d['response'] = d['response'].replace(['10y','later','3y','1y','6m'],[5,5,4,3,2]) \n"
   ]
  },
  {
   "cell_type": "code",
   "execution_count": null,
   "metadata": {
    "collapsed": false
   },
   "outputs": [],
   "source": [
    "treatment = d.response[d.trt =='B']\n",
    "control = d.response[d.trt =='A'][0:7]\n",
    "print treatment.shape\n",
    "print control.shape\n"
   ]
  },
  {
   "cell_type": "markdown",
   "metadata": {},
   "source": [
    "The Kruskal–Wallis one-way analysis of variance by ranks (named after William Kruskal and W. Allen Wallis) is a non-parametric method for testing whether samples originate from the same distribution.[1][2][3] It is used for comparing two or more samples that are independent, and that may have different sample sizes, and extends the Mann–Whitney U test to more than two groups. The parametric equivalent of the Kruskal-Wallis test is the one-way analysis of variance (ANOVA). When rejecting the null hypothesis of the Kruskal-Wallis test, then at least one sample stochastically dominates at least one other sample. The test does not identify where this stochastic dominance occurs or for how many pairs of groups stochastic dominance obtains. Dunn's test[4] would help analyze the specific sample pairs for stochastic dominance."
   ]
  },
  {
   "cell_type": "code",
   "execution_count": null,
   "metadata": {
    "collapsed": false
   },
   "outputs": [],
   "source": [
    "%%R -i treatment -i control \n",
    "data<-data.frame(control,treatment)\n",
    "\n",
    "print(str(data))\n",
    "print(summary(data))\n",
    "print(chisq.test(data))\n",
    "print(fisher.test(data))\n",
    "\n",
    "kruskal.test(control ~ treatment,data=data)\n",
    "\n",
    "\n",
    "##wilcox.test(control~treatment,data=data, paired=FALSE,conf.int = TRUE, conf.level = 0.95, alternative = \"g\")"
   ]
  },
  {
   "cell_type": "markdown",
   "metadata": {},
   "source": [
    "###this is extra"
   ]
  },
  {
   "cell_type": "code",
   "execution_count": null,
   "metadata": {
    "collapsed": false
   },
   "outputs": [],
   "source": [
    "%%R -i d \n",
    "library(MASS)\n",
    "library(lme4)\n",
    "library(qqman)\n",
    "\n",
    "s <- data.frame(d)\n",
    "s$response <- factor(s$response)\n",
    "s$trt <- factor(s$trt)\n",
    "s$sequ <- factor(s$sequ)\n",
    "s$period <- factor(s$period)\n",
    "\n",
    "s <- within(s, Grp <- factor(id:sequ))\n",
    "\n",
    "options(contrasts = c(factor = \"contr.SAS\",ordered = \"contr.poly\")) \n",
    "mm1 <- lmer(response ~ sequ  + trt + period  + (sequ:trt) + (1 | id:sequ), s )\n",
    "print(summary(mm1))\n",
    "print(anova(mm1))\n",
    " \n",
    "plot(fitted(mm1),residuals(mm1))\n",
    "\n",
    "res_lme=residuals(mm1)\n"
   ]
  },
  {
   "cell_type": "code",
   "execution_count": null,
   "metadata": {
    "collapsed": false
   },
   "outputs": [],
   "source": [
    "%%R -i d\n",
    "library(ordinal)\n",
    "library(lme4)\n",
    "\n",
    "s <- data.frame(d)\n",
    "s$response <- factor(s$response)\n",
    "s$trt <- factor(s$trt)\n",
    "s$sequ <- factor(s$sequ)\n",
    "s$period <- factor(s$period)\n",
    "\n",
    "s <- within(s, Grp <- factor(id:sequ))\n",
    "\n",
    "mm2 <- clmm(response ~ sequ  + trt + period  +(1 | id:sequ), s, link=\"probit\", Hess = TRUE )\n",
    "\n",
    "\n",
    "print (summary(mm2))\n",
    "\n",
    "###exp(cbind(OR =coef(mm2), confint(mm2)))\n",
    "\n",
    "plot(fitted(mm2),residuals(mm2))"
   ]
  },
  {
   "cell_type": "code",
   "execution_count": null,
   "metadata": {
    "collapsed": false
   },
   "outputs": [],
   "source": []
  }
 ],
 "metadata": {
  "kernelspec": {
   "display_name": "Python 2",
   "language": "python",
   "name": "python2"
  },
  "language_info": {
   "codemirror_mode": {
    "name": "ipython",
    "version": 2
   },
   "file_extension": ".py",
   "mimetype": "text/x-python",
   "name": "python",
   "nbconvert_exporter": "python",
   "pygments_lexer": "ipython2",
   "version": "2.7.11"
  },
  "notify_time": "5"
 },
 "nbformat": 4,
 "nbformat_minor": 0
}
