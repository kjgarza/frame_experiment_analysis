{
 "metadata": {
  "name": "",
  "notify_time": "5",
  "signature": "sha256:5006c2a54b1979cf94be080ee8cbe06395c2015a0f7099c6d14eec2be0c6dd11"
 },
 "nbformat": 3,
 "nbformat_minor": 0,
 "worksheets": [
  {
   "cells": [
    {
     "cell_type": "markdown",
     "metadata": {},
     "source": [
      "#Frame Experiment Statistical Within Subject Analysis\n",
      "\n",
      "<i>Created by Kristian G</i>"
     ]
    },
    {
     "cell_type": "markdown",
     "metadata": {},
     "source": [
      "Preliminaries"
     ]
    },
    {
     "cell_type": "code",
     "collapsed": false,
     "input": [
      "%matplotlib inline\n",
      "import numpy as np\n",
      "import pandas as pd\n",
      "import matplotlib.pyplot as plt\n",
      "from extract_data import datatoFrame\n",
      "from code_data import *\n",
      "from ggplot import *\n",
      "import json\n",
      "from frame_experiment_table import FrameExperimentTable"
     ],
     "language": "python",
     "metadata": {},
     "outputs": [],
     "prompt_number": 5
    },
    {
     "cell_type": "code",
     "collapsed": false,
     "input": [
      "%pylab inline\n",
      "# %load_ext rmagic\n",
      "%load_ext rpy2.ipython\n",
      "import pylab\n",
      "%R rm(list=ls())"
     ],
     "language": "python",
     "metadata": {},
     "outputs": [
      {
       "output_type": "stream",
       "stream": "stdout",
       "text": [
        "Populating the interactive namespace from numpy and matplotlib\n",
        "The rpy2.ipython extension is already loaded. To reload it, use:\n",
        "  %reload_ext rpy2.ipython\n"
       ]
      },
      {
       "output_type": "stream",
       "stream": "stderr",
       "text": [
        "WARNING: pylab import has clobbered these variables: ['f', 'xlim', 'pylab', 'ylim']\n",
        "`%matplotlib` prevents importing * from pylab and numpy\n"
       ]
      }
     ],
     "prompt_number": 6
    },
    {
     "cell_type": "markdown",
     "metadata": {},
     "source": [
      "##Load Full dataset"
     ]
    },
    {
     "cell_type": "code",
     "collapsed": false,
     "input": [
      "new = 1\n",
      "if new == 0: \n",
      "    f = FrameExperimentTable('logs/data_incremental_file')\n",
      "    f.add_records('logs/data_two_records','new')\n",
      "    f.add_records_csv('logs/data_scramble_filled_csv.csv')\n",
      "else:\n",
      "    f = FrameExperimentTable('logs/data_scenario_changed')\n",
      "f.filter_noise()\n",
      "f.code_for_stat_ana()\n",
      "f.code_survey_numeric()\n",
      "print ''"
     ],
     "language": "python",
     "metadata": {},
     "outputs": [
      {
       "output_type": "stream",
       "stream": "stdout",
       "text": [
        "(55, 40)\n",
        "classify_field - Fields Excluded"
       ]
      },
      {
       "output_type": "stream",
       "stream": "stdout",
       "text": [
        "\n",
        "(6,)\n",
        "(55, 42)\n",
        "New Usability Columns\n",
        "(55, 44)\n",
        "set([1, 2])"
       ]
      },
      {
       "output_type": "stream",
       "stream": "stdout",
       "text": [
        "\n",
        "multi\n",
        "set([1, 3])\n",
        "multi\n",
        "set([1])\n",
        "e-mail\n",
        "set([1, 2])\n",
        "multi\n",
        "set([1])\n",
        "e-mail\n",
        "set([3])\n",
        "self-depositing\n",
        "set([1, 3])\n",
        "multi\n",
        "set([2])\n",
        "self-depositing\n",
        "set([1, 2])\n",
        "multi\n",
        "set([3])\n",
        "self-depositing\n",
        "set([1])\n",
        "e-mail\n",
        "set([1, 2])\n",
        "multi\n",
        "set([2])\n",
        "self-depositing\n",
        "set([1])\n",
        "e-mail\n",
        "set([1, 2, 3])\n",
        "multi\n",
        "set([1])\n",
        "e-mail\n",
        "set([2])\n",
        "self-depositing\n",
        "set([2])\n",
        "self-depositing\n",
        "set([1, 3])\n",
        "multi\n",
        "set([1])\n",
        "e-mail\n",
        "set([4])\n",
        "Never\n",
        "set([1, 3])\n",
        "multi\n",
        "set([2])\n",
        "self-depositing\n",
        "set([4])\n",
        "Never\n",
        "set([2])\n",
        "self-depositing\n",
        "set([1, 3])\n",
        "multi\n",
        "set([2])\n",
        "self-depositing\n",
        "set([1, 3])\n",
        "multi\n",
        "set([2])\n",
        "self-depositing\n",
        "set([])\n",
        "\n",
        "set([2])\n",
        "self-depositing\n",
        "set([2])\n",
        "self-depositing\n",
        "set([1])\n",
        "e-mail\n",
        "set([2, 3])\n",
        "self-depositing\n",
        "set([2])\n",
        "self-depositing\n",
        "set([])\n",
        "\n",
        "set([4])\n",
        "Never\n",
        "set([])\n",
        "\n",
        "set([3, 4])\n",
        "Never\n",
        "set([])\n",
        "\n",
        "set([1, 2])\n",
        "multi\n",
        "set([1, 2])\n",
        "multi\n",
        "set([4])\n",
        "Never\n",
        "set([])\n",
        "\n",
        "set([1, 2, 3])\n",
        "multi\n",
        "set([2])\n",
        "self-depositing\n",
        "set([2])\n",
        "self-depositing\n",
        "set([3])\n",
        "self-depositing\n",
        "set([1, 2])\n",
        "multi\n",
        "set([1, 2, 3])\n",
        "multi\n",
        "set([])\n",
        "\n",
        "set([1, 2])\n",
        "multi\n",
        "set([2, 3])\n",
        "self-depositing\n",
        "set([2, 3])\n",
        "self-depositing\n",
        "set([1])\n",
        "e-mail\n",
        "Total\n",
        "55\n",
        "Removing testing\n",
        "2\n",
        "Removing Random\n",
        "5\n",
        "Removing Not Life Sciences\n",
        "2\n",
        "Removing Not enlgish skilled\n",
        "5\n",
        "Removing Not Honest\n",
        "6\n",
        "Removing unaware\n",
        "0\n",
        "Removing Not answer\n",
        "1\n",
        "Removing Not answer\n",
        "0\n",
        "Total\n",
        "34\n",
        "(40, 44)\n",
        "\n"
       ]
      }
     ],
     "prompt_number": 20
    },
    {
     "cell_type": "markdown",
     "metadata": {},
     "source": [
      "#SCC Within Subejcts Analysis \n",
      "\n",
      "When to cannot be done in within subject study because of the lack of subjects and subjects not following the same responses.\n",
      "This could be done only a between subject experiment.\n",
      "\n",
      "\n",
      "So what we will run is a between subjects experiment as:\n",
      "\n",
      "1. Subjects were all independent and just have one intervention\n",
      "1. \n",
      "\n",
      "I can do a wthin subjects if i combine levels"
     ]
    },
    {
     "cell_type": "code",
     "collapsed": false,
     "input": [
      "d = f.get_rm_ws_df('when_to_1','when_to_2')\n",
      "d = d.dropna()\n",
      "d = d[d.response != 'null']\n",
      "d = d[d.response != 'nan']\n",
      "treatment = pd.DataFrame({'SCC Embargo' : d.response[(d['trt'] == 'B') & (d['period'] == '2')] })\n",
      "control = pd.DataFrame({'Free Choice Embargo' :d.response[(d['trt'] == 'A') & (d['period'] == '1')] })"
     ],
     "language": "python",
     "metadata": {},
     "outputs": [
      {
       "output_type": "stream",
       "stream": "stdout",
       "text": [
        "rm_ws_dataframe - Droping missing records\n",
        "(40, 5)\n",
        "rm_ws_dataframe - remove missing data \n",
        "(40, 5)\n",
        "rm_ws_dataframe - no duplicates \n",
        "(80, 5)\n",
        "nan    64\n",
        "6m      8\n",
        "10y     6\n",
        "3y      1\n",
        "1y      1\n",
        "dtype: int64\n"
       ]
      }
     ],
     "prompt_number": 21
    },
    {
     "cell_type": "markdown",
     "metadata": {},
     "source": [
      "#### Control -> treamtent  Comparison"
     ]
    },
    {
     "cell_type": "code",
     "collapsed": false,
     "input": [
      "%%R -i treatment -i control\n",
      "source(\"stacked_bars.R\")\n",
      "graph_when(treatment, control, \"Preferences Comparison, sequence Control -> Treatment\")"
     ],
     "language": "python",
     "metadata": {},
     "outputs": [
      {
       "metadata": {},
       "output_type": "display_data",
       "png": "[encoded data removed]"
      }
     ],
     "prompt_number": 22
    },
    {
     "cell_type": "markdown",
     "metadata": {},
     "source": [
      "#### First period Comparison"
     ]
    },
    {
     "cell_type": "code",
     "collapsed": false,
     "input": [
      "treatment = pd.DataFrame({'SCC Embargo' : d.response[(d['trt'] == 'B') & (d['period'] == '1')] })\n",
      "control = pd.DataFrame({'Free Choice Embargo' :d.response[(d['trt'] == 'A') & (d['period'] == '1')] })"
     ],
     "language": "python",
     "metadata": {},
     "outputs": [],
     "prompt_number": 23
    },
    {
     "cell_type": "code",
     "collapsed": false,
     "input": [
      "%%R -i treatment -i control\n",
      "source(\"stacked_bars.R\")\n",
      "graph_when(treatment, control, \"Preferences Comparison, First Period\")"
     ],
     "language": "python",
     "metadata": {},
     "outputs": [
      {
       "metadata": {},
       "output_type": "display_data",
       "png": "[encoded data removed]"
      }
     ],
     "prompt_number": 24
    },
    {
     "cell_type": "code",
     "collapsed": false,
     "input": [
      "d['response'] = d['response'].replace(['10y','later','3y','1y','6m'],[5,5,4,3,2]) \n"
     ],
     "language": "python",
     "metadata": {},
     "outputs": [],
     "prompt_number": 25
    },
    {
     "cell_type": "code",
     "collapsed": false,
     "input": [
      "treatment = d.response[d.trt =='B']\n",
      "control = d.response[d.trt =='A'][0:7]\n",
      "print treatment.shape\n",
      "print control.shape\n"
     ],
     "language": "python",
     "metadata": {},
     "outputs": [
      {
       "output_type": "stream",
       "stream": "stdout",
       "text": [
        "(6,)\n",
        "(7,)\n"
       ]
      }
     ],
     "prompt_number": 26
    },
    {
     "cell_type": "markdown",
     "metadata": {},
     "source": [
      "The Kruskal\u2013Wallis one-way analysis of variance by ranks (named after William Kruskal and W. Allen Wallis) is a non-parametric method for testing whether samples originate from the same distribution.[1][2][3] It is used for comparing two or more samples that are independent, and that may have different sample sizes, and extends the Mann\u2013Whitney U test to more than two groups. The parametric equivalent of the Kruskal-Wallis test is the one-way analysis of variance (ANOVA). When rejecting the null hypothesis of the Kruskal-Wallis test, then at least one sample stochastically dominates at least one other sample. The test does not identify where this stochastic dominance occurs or for how many pairs of groups stochastic dominance obtains. Dunn's test[4] would help analyze the specific sample pairs for stochastic dominance."
     ]
    },
    {
     "cell_type": "code",
     "collapsed": false,
     "input": [
      "%%R -i treatment -i control \n",
      "data<-data.frame(control,treatment)\n",
      "\n",
      "print(str(data))\n",
      "print(summary(data))\n",
      "print(chisq.test(data))\n",
      "print(fisher.test(data))\n",
      "\n",
      "kruskal.test(control ~ treatment,data=data)\n",
      "\n",
      "\n",
      "##wilcox.test(control~treatment,data=data, paired=FALSE,conf.int = TRUE, conf.level = 0.95, alternative = \"g\")"
     ],
     "language": "python",
     "metadata": {},
     "outputs": [
      {
       "metadata": {},
       "output_type": "display_data",
       "text": [
        "'data.frame':\t7 obs. of  2 variables:\n",
        " $ control  : int [1:7(1d)] 5 5 5 2 5 3 3\n",
        " $ treatment: int [1:7(1d)] 3 2 5 3 2 2 4\n",
        "NULL\n",
        "    control    treatment  \n",
        " Min.   :2   Min.   :2.0  \n",
        " 1st Qu.:3   1st Qu.:2.0  \n",
        " Median :5   Median :3.0  \n",
        " Mean   :4   Mean   :3.0  \n",
        " 3rd Qu.:5   3rd Qu.:3.5  \n",
        " Max.   :5   Max.   :5.0  \n",
        "\n",
        "\tPearson's Chi-squared test\n",
        "\n",
        "data:  data\n",
        "X-squared = 2.6688, df = 6, p-value = 0.8491\n",
        "\n",
        "\n",
        "\tFisher's Exact Test for Count Data\n",
        "\n",
        "data:  data\n",
        "p-value = 0.8732\n",
        "alternative hypothesis: two.sided\n",
        "\n",
        "\n",
        "\tKruskal-Wallis rank sum test\n",
        "\n",
        "data:  control by treatment\n",
        "Kruskal-Wallis chi-squared = 1.7, df = 3, p-value = 0.6369\n",
        "\n"
       ]
      }
     ],
     "prompt_number": 10
    },
    {
     "cell_type": "markdown",
     "metadata": {},
     "source": [
      "###this is extra"
     ]
    },
    {
     "cell_type": "code",
     "collapsed": false,
     "input": [
      "%%R -i d \n",
      "library(MASS)\n",
      "library(lme4)\n",
      "library(qqman)\n",
      "\n",
      "s <- data.frame(d)\n",
      "s$response <- factor(s$response)\n",
      "s$trt <- factor(s$trt)\n",
      "s$sequ <- factor(s$sequ)\n",
      "s$period <- factor(s$period)\n",
      "\n",
      "s <- within(s, Grp <- factor(id:sequ))\n",
      "\n",
      "options(contrasts = c(factor = \"contr.SAS\",ordered = \"contr.poly\")) \n",
      "mm1 <- lmer(response ~ sequ  + trt + period  + (sequ:trt) + (1 | id:sequ), s )\n",
      "print(summary(mm1))\n",
      "print(anova(mm1))\n",
      " \n",
      "plot(fitted(mm1),residuals(mm1))\n",
      "\n",
      "res_lme=residuals(mm1)\n"
     ],
     "language": "python",
     "metadata": {},
     "outputs": [
      {
       "metadata": {},
       "output_type": "display_data",
       "text": [
        "fixed-effect model matrix is rank deficient so dropping 1 column / coefficient\n",
        "Linear mixed model fit by REML ['lmerMod']\n",
        "Formula: response ~ sequ + trt + period + (sequ:trt) + (1 | id:sequ)\n",
        "   Data: s\n",
        "\n",
        "REML criterion at convergence: 49.3\n",
        "\n",
        "Scaled residuals: \n",
        "     Min       1Q   Median       3Q      Max \n",
        "-1.14836 -0.37390  0.07019  0.36003  1.26017 \n",
        "\n",
        "Random effects:\n",
        " Groups   Name        Variance Std.Dev.\n",
        " id:sequ  (Intercept) 1.3071   1.1433  \n",
        " Residual             0.3604   0.6004  \n",
        "Number of obs: 18, groups:  id:sequ, 11\n",
        "\n",
        "Fixed effects:\n",
        "            Estimate Std. Error t value\n",
        "(Intercept)   3.1013     0.5368   5.778\n",
        "sequAB       -0.3513     0.7842  -0.448\n",
        "trtA         -0.6554     0.3185  -2.058\n",
        "period1      -0.1013     0.3185  -0.318\n",
        "\n",
        "Correlation of Fixed Effects:\n",
        "        (Intr) sequAB trtA  \n",
        "sequAB  -0.578              \n",
        "trtA    -0.241 -0.015       \n",
        "period1 -0.443  0.123  0.153\n",
        "Analysis of Variance Table\n",
        "       Df  Sum Sq Mean Sq F value\n",
        "sequ    1 0.08408 0.08408  0.2333\n",
        "trt     1 1.49003 1.49003  4.1341\n",
        "period  1 0.03650 0.03650  0.1013\n"
       ]
      },
      {
       "metadata": {},
       "output_type": "display_data",
       "png": "[encoded data removed]"
      }
     ],
     "prompt_number": 27
    },
    {
     "cell_type": "code",
     "collapsed": false,
     "input": [
      "%%R -i d\n",
      "library(ordinal)\n",
      "library(lme4)\n",
      "\n",
      "s <- data.frame(d)\n",
      "s$response <- factor(s$response)\n",
      "s$trt <- factor(s$trt)\n",
      "s$sequ <- factor(s$sequ)\n",
      "s$period <- factor(s$period)\n",
      "\n",
      "s <- within(s, Grp <- factor(id:sequ))\n",
      "\n",
      "mm2 <- clmm(response ~ sequ  + trt + period  +(1 | id:sequ), s, link=\"probit\", Hess = TRUE )\n",
      "\n",
      "\n",
      "print (summary(mm2))\n",
      "\n",
      "###exp(cbind(OR =coef(mm2), confint(mm2)))\n",
      "\n",
      "plot(fitted(mm2),residuals(mm2))"
     ],
     "language": "python",
     "metadata": {},
     "outputs": [
      {
       "metadata": {},
       "output_type": "display_data",
       "text": [
        "\n",
        "Attaching package: \u2018ordinal\u2019\n",
        "\n",
        "The following objects are masked from \u2018package:lme4\u2019:\n",
        "\n",
        "    ranef, VarCorr\n",
        "\n",
        "Cumulative Link Mixed Model fitted with the Laplace approximation\n",
        "\n",
        "formula: response ~ sequ + trt + period + (1 | id:sequ)\n",
        "data:    s\n",
        "\n",
        " link   threshold nobs logLik AIC   niter     max.grad cond.H \n",
        " probit flexible  18   -17.28 48.55 354(1639) 3.15e-05 4.5e+02\n",
        "\n",
        "Random effects:\n",
        " Groups  Name        Variance Std.Dev.\n",
        " id:sequ (Intercept) 12.13    3.483   \n",
        "Number of groups:  id:sequ 11 \n",
        "\n",
        "Coefficients:\n",
        "        Estimate Std. Error z value Pr(>|z|)\n",
        "sequAB   -1.8285     3.2623  -0.560    0.575\n",
        "trtA     -2.5374     2.0790  -1.221    0.222\n",
        "period1  -0.7944     1.3605  -0.584    0.559\n",
        "\n",
        "Threshold coefficients:\n",
        "    Estimate Std. Error z value\n",
        "2|3   -5.118      4.829  -1.060\n",
        "3|4   -1.755      2.676  -0.656\n",
        "4|5   -1.197      2.509  -0.477\n"
       ]
      },
      {
       "metadata": {},
       "output_type": "display_data",
       "png": "[encoded data removed]"
      }
     ],
     "prompt_number": 11
    },
    {
     "cell_type": "code",
     "collapsed": false,
     "input": [],
     "language": "python",
     "metadata": {},
     "outputs": []
    }
   ],
   "metadata": {}
  }
 ]
}