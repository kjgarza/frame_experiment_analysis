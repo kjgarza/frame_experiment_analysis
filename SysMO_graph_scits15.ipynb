{
 "metadata": {
  "name": "",
  "signature": "sha256:f44725a936d9a0812ce6fa2571857d076689a3439a6692556648c7a1c323a09d"
 },
 "nbformat": 3,
 "nbformat_minor": 0,
 "worksheets": [
  {
   "cells": [
    {
     "cell_type": "code",
     "collapsed": false,
     "input": [
      "\n",
      "from IPython.html.widgets import interact, interactive, fixed\n",
      "from IPython.html import widgets\n",
      "%matplotlib inline\n",
      "import numpy as np\n",
      "import pandas as pd\n",
      "import seaborn\n",
      "import matplotlib.pyplot as plt\n",
      "from ggplot import *\n",
      "import json\n",
      "%pylab inline\n",
      "# %load_ext rmagic\n",
      "%load_ext rpy2.ipython\n",
      "import pylab\n",
      "\n"
     ],
     "language": "python",
     "metadata": {},
     "outputs": [
      {
       "output_type": "stream",
       "stream": "stdout",
       "text": [
        "Populating the interactive namespace from numpy and matplotlib\n",
        "The rpy2.ipython extension is already loaded. To reload it, use:\n",
        "  %reload_ext rpy2.ipython\n"
       ]
      },
      {
       "output_type": "stream",
       "stream": "stderr",
       "text": [
        "WARNING: pylab import has clobbered these variables: ['f', 'xlim', 'interactive', 'pylab', 'ylim']\n",
        "`%matplotlib` prevents importing * from pylab and numpy\n"
       ]
      }
     ],
     "prompt_number": 110
    },
    {
     "cell_type": "code",
     "collapsed": false,
     "input": [
      "data = pd.DataFrame({'project':['silicoTrip','sumo','moses','cosmic','bacell'],'open':[17,18,17,2,30],'closed':[16,55,7,80,66]})"
     ],
     "language": "python",
     "metadata": {},
     "outputs": [],
     "prompt_number": 160
    },
    {
     "cell_type": "code",
     "collapsed": true,
     "input": [
      "data\n",
      "data.set_index(data.project)"
     ],
     "language": "python",
     "metadata": {},
     "outputs": [
      {
       "html": [
        "<div style=\"max-height:1000px;max-width:1500px;overflow:auto;\">\n",
        "<table border=\"1\" class=\"dataframe\">\n",
        "  <thead>\n",
        "    <tr style=\"text-align: right;\">\n",
        "      <th></th>\n",
        "      <th>closed</th>\n",
        "      <th>open</th>\n",
        "      <th>project</th>\n",
        "    </tr>\n",
        "    <tr>\n",
        "      <th>project</th>\n",
        "      <th></th>\n",
        "      <th></th>\n",
        "      <th></th>\n",
        "    </tr>\n",
        "  </thead>\n",
        "  <tbody>\n",
        "    <tr>\n",
        "      <th>silicoTrip</th>\n",
        "      <td> 16</td>\n",
        "      <td> 17</td>\n",
        "      <td> silicoTrip</td>\n",
        "    </tr>\n",
        "    <tr>\n",
        "      <th>sumo</th>\n",
        "      <td> 55</td>\n",
        "      <td> 18</td>\n",
        "      <td>       sumo</td>\n",
        "    </tr>\n",
        "    <tr>\n",
        "      <th>moses</th>\n",
        "      <td>  7</td>\n",
        "      <td> 17</td>\n",
        "      <td>      moses</td>\n",
        "    </tr>\n",
        "    <tr>\n",
        "      <th>cosmic</th>\n",
        "      <td> 80</td>\n",
        "      <td>  2</td>\n",
        "      <td>     cosmic</td>\n",
        "    </tr>\n",
        "    <tr>\n",
        "      <th>bacell</th>\n",
        "      <td> 66</td>\n",
        "      <td> 30</td>\n",
        "      <td>     bacell</td>\n",
        "    </tr>\n",
        "  </tbody>\n",
        "</table>\n",
        "</div>"
       ],
       "metadata": {},
       "output_type": "pyout",
       "prompt_number": 174,
       "text": [
        "            closed  open     project\n",
        "project                             \n",
        "silicoTrip      16    17  silicoTrip\n",
        "sumo            55    18        sumo\n",
        "moses            7    17       moses\n",
        "cosmic          80     2      cosmic\n",
        "bacell          66    30      bacell"
       ]
      }
     ],
     "prompt_number": 174
    },
    {
     "cell_type": "code",
     "collapsed": false,
     "input": [
      "def f(x,w):\n",
      "    y = x*(16/9)\n",
      "    datac.plot(kind=w,color=['red','purple'],alpha=0.5, figsize=(y, 8), fontsize=20,x='project')\n"
     ],
     "language": "python",
     "metadata": {},
     "outputs": [],
     "prompt_number": 187
    },
    {
     "cell_type": "code",
     "collapsed": false,
     "input": [
      "interact(f,x=3,w='bar')"
     ],
     "language": "python",
     "metadata": {},
     "outputs": [
      {
       "metadata": {},
       "output_type": "display_data",
       "png": "[encoded data removed]",
       "text": [
        "<matplotlib.figure.Figure at 0x1183e21d0>"
       ]
      }
     ],
     "prompt_number": 190
    },
    {
     "cell_type": "code",
     "collapsed": false,
     "input": [
      "data.plot(kind='bar',color=['red','purple'],alpha=0.5, figsize=(6, 8), fontsize=20,x='project')\n"
     ],
     "language": "python",
     "metadata": {},
     "outputs": [
      {
       "metadata": {},
       "output_type": "pyout",
       "prompt_number": 178,
       "text": [
        "<matplotlib.axes._subplots.AxesSubplot at 0x118e46ad0>"
       ]
      },
      {
       "metadata": {},
       "output_type": "display_data",
       "png": "[encoded data removed]",
       "text": [
        "<matplotlib.figure.Figure at 0x115b5dfd0>"
       ]
      }
     ],
     "prompt_number": 178
    },
    {
     "cell_type": "code",
     "collapsed": false,
     "input": [],
     "language": "python",
     "metadata": {},
     "outputs": [],
     "prompt_number": 177
    },
    {
     "cell_type": "code",
     "collapsed": false,
     "input": [],
     "language": "python",
     "metadata": {},
     "outputs": [],
     "prompt_number": 177
    },
    {
     "cell_type": "code",
     "collapsed": false,
     "input": [],
     "language": "python",
     "metadata": {},
     "outputs": [],
     "prompt_number": 177
    },
    {
     "cell_type": "code",
     "collapsed": false,
     "input": [],
     "language": "python",
     "metadata": {},
     "outputs": []
    }
   ],
   "metadata": {}
  }
 ]
}