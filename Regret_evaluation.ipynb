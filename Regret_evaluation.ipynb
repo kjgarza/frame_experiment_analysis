{
 "metadata": {
  "gist_id": "2cd6483f3b2326ebed70",
  "name": "",
  "notify_time": "5",
  "signature": "sha256:aaedb30b8242b720cd721cce3146ac8627bcce285831e92b4e190dee70adfb4f"
 },
 "nbformat": 3,
 "nbformat_minor": 0,
 "worksheets": [
  {
   "cells": [
    {
     "cell_type": "markdown",
     "metadata": {},
     "source": [
      "# Regret Evaluation\n",
      "\n",
      "<i>Created by Kristian G</i>\n"
     ]
    },
    {
     "cell_type": "markdown",
     "metadata": {},
     "source": [
      "Preliminaries"
     ]
    },
    {
     "cell_type": "code",
     "collapsed": false,
     "input": [
      "%matplotlib inline\n",
      "import numpy as np\n",
      "import pandas as pd\n",
      "import matplotlib.pyplot as plt\n",
      "from scipy.stats import mode\n",
      "from ggplot import *\n",
      "import json\n",
      "from frame_experiment_table import FrameExperimentTable\n",
      "%pylab inline\n",
      "# %load_ext rmagic\n",
      "%load_ext rpy2.ipython\n",
      "import pylab\n",
      "from __future__ import division\n",
      "\n",
      "import seaborn as sns\n",
      "sns.set_style(\"whitegrid\", {'font.family': [u'serif']})"
     ],
     "language": "python",
     "metadata": {},
     "outputs": [
      {
       "output_type": "stream",
       "stream": "stdout",
       "text": [
        "Populating the interactive namespace from numpy and matplotlib\n"
       ]
      },
      {
       "output_type": "stream",
       "stream": "stderr",
       "text": [
        "WARNING: pylab import has clobbered these variables: ['xlim', 'ylim']\n",
        "`%matplotlib` prevents importing * from pylab and numpy\n"
       ]
      }
     ],
     "prompt_number": 1
    },
    {
     "cell_type": "code",
     "collapsed": false,
     "input": [
      "%%R\n",
      "rm(list=ls())"
     ],
     "language": "python",
     "metadata": {},
     "outputs": [],
     "prompt_number": 2
    },
    {
     "cell_type": "markdown",
     "metadata": {},
     "source": [
      "##Load dataset"
     ]
    },
    {
     "cell_type": "code",
     "collapsed": false,
     "input": [
      "picture_foler = \"/Users/kristian/Dropbox/exp_frame_effects/Images/\"\n",
      "gg = FrameExperimentTable('logs/data_scenario_changed')\n",
      "# gg.add_records('logs/data_incremental_file','new')\n",
      "# gg.add_records_csv('logs/data_scramble_filled_csv.csv')\n",
      "# gg.add_records('logs/data_scenario_changed','new')\n",
      "gg.filter_noise()\n",
      "gg.code_for_stat_ana()\n",
      "gg.code_survey_numeric()\n",
      "\n",
      "print ''"
     ],
     "language": "python",
     "metadata": {},
     "outputs": [
      {
       "output_type": "stream",
       "stream": "stdout",
       "text": [
        "(55, 40)\n",
        "classify_field - Fields Excluded"
       ]
      },
      {
       "output_type": "stream",
       "stream": "stdout",
       "text": [
        "\n",
        "(6,)\n",
        "(55, 42)\n",
        "New Usability Columns\n",
        "(55, 44)\n",
        "set([1, 2])"
       ]
      },
      {
       "output_type": "stream",
       "stream": "stdout",
       "text": [
        "\n",
        "multi\n",
        "set([1, 3])\n",
        "multi\n",
        "set([1])\n",
        "e-mail\n",
        "set([1, 2])\n",
        "multi\n",
        "set([1])\n",
        "e-mail\n",
        "set([3])\n",
        "self-depositing\n",
        "set([1, 3])\n",
        "multi\n",
        "set([2])\n",
        "self-depositing\n",
        "set([1, 2])\n",
        "multi\n",
        "set([3])\n",
        "self-depositing\n",
        "set([1])\n",
        "e-mail\n",
        "set([1, 2])\n",
        "multi\n",
        "set([2])\n",
        "self-depositing\n",
        "set([1])\n",
        "e-mail\n",
        "set([1, 2, 3])\n",
        "multi\n",
        "set([1])\n",
        "e-mail\n",
        "set([2])\n",
        "self-depositing\n",
        "set([2])\n",
        "self-depositing\n",
        "set([1, 3])\n",
        "multi\n",
        "set([1])\n",
        "e-mail\n",
        "set([4])\n",
        "Never\n",
        "set([1, 3])\n",
        "multi\n",
        "set([2])\n",
        "self-depositing\n",
        "set([4])\n",
        "Never\n",
        "set([2])\n",
        "self-depositing\n",
        "set([1, 3])\n",
        "multi\n",
        "set([2])\n",
        "self-depositing\n",
        "set([1, 3])\n",
        "multi\n",
        "set([2])\n",
        "self-depositing\n",
        "set([])\n",
        "\n",
        "set([2])\n",
        "self-depositing\n",
        "set([2])\n",
        "self-depositing\n",
        "set([1])\n",
        "e-mail\n",
        "set([2, 3])\n",
        "self-depositing\n",
        "set([2])\n",
        "self-depositing\n",
        "set([])\n",
        "\n",
        "set([4])\n",
        "Never\n",
        "set([])\n",
        "\n",
        "set([3, 4])\n",
        "Never\n",
        "set([])\n",
        "\n",
        "set([1, 2])\n",
        "multi\n",
        "set([1, 2])\n",
        "multi\n",
        "set([4])\n",
        "Never\n",
        "set([])\n",
        "\n",
        "set([1, 2, 3])\n",
        "multi\n",
        "set([2])\n",
        "self-depositing\n",
        "set([2])\n",
        "self-depositing\n",
        "set([3])\n",
        "self-depositing\n",
        "set([1, 2])\n",
        "multi\n",
        "set([1, 2, 3])\n",
        "multi\n",
        "set([])\n",
        "\n",
        "set([1, 2])\n",
        "multi\n",
        "set([2, 3])\n",
        "self-depositing\n",
        "set([2, 3])\n",
        "self-depositing\n",
        "set([1])\n",
        "e-mail\n",
        "Total\n",
        "55\n",
        "Removing testing\n",
        "2\n",
        "Removing Random\n",
        "5\n",
        "Removing Not Life Sciences\n",
        "2\n",
        "Removing Not enlgish skilled\n",
        "5\n",
        "Removing Not Honest\n",
        "6\n",
        "Removing unaware\n",
        "0\n",
        "Removing Not answer\n",
        "1\n",
        "Removing Not answer\n",
        "0\n",
        "Total\n",
        "34\n",
        "(40, 44)\n",
        "\n"
       ]
      },
      {
       "output_type": "stream",
       "stream": "stderr",
       "text": [
        "/Users/kristian/miniconda/lib/python2.7/site-packages/pandas/util/decorators.py:81: FutureWarning: the 'cols' keyword is deprecated, use 'subset' instead\n",
        "  warnings.warn(msg, FutureWarning)\n"
       ]
      }
     ],
     "prompt_number": 3
    },
    {
     "cell_type": "markdown",
     "metadata": {},
     "source": [
      "## Metric\n",
      "\n",
      "Instead of using 3 outputs as the questionary has we use a single output. since for all the measurements (ease, support, time) higher is better we use a measure of centrality of the 3 measurements to compute the usability measure.\n",
      "\n",
      "There are two options for measure of centrality\n",
      "\n",
      "- Median: Median is especially useful with skewed distributions as it draws the line right in the middle of your data set. It provides a better measure of centrality as 50% of your data is above the median. Median can be used with interval or ratio data. **Median is usually the preferred measurement to use with ordinal data**.  http://www.wyzant.com/resources/lessons/math/prealgebra/representing-data\n",
      "- Mode: Mode is best used with categorical (nominal) or discrete data. It is difficult to use it with continuous data because often a single value is not repeated exactly. There often are one or two distinct favorites in categorical or discrete data. Mode has a drawback in that it may not be a measure of centrality if the most common item is away from the rest of the data set. http://www.wyzant.com/resources/lessons/math/prealgebra/representing-data"
     ]
    },
    {
     "cell_type": "markdown",
     "metadata": {},
     "source": [
      "###Using the MEDIAN as measure of centrality"
     ]
    },
    {
     "cell_type": "code",
     "collapsed": false,
     "input": [
      "f = gg.get_anadata()\n",
      "f.head(5)\n",
      "\n",
      "# f['usability_2'] = f.apply(lambda row: np.median([row['ease_2'],row['support_2'],row['time_2']]), axis=1)\n",
      "# f['usability_1'] = f.apply(lambda row: np.median([row['ease_1'],row['support_1'],row['time_1']]), axis=1)\n",
      "##f['usability_1'] = f.apply(lambda row: mode([row['ease_1'],row['support_1'],row['time_1']])[0][0], axis=1)\n"
     ],
     "language": "python",
     "metadata": {},
     "outputs": [
      {
       "html": [
        "<div style=\"max-height:1000px;max-width:1500px;overflow:auto;\">\n",
        "<table border=\"1\" class=\"dataframe\">\n",
        "  <thead>\n",
        "    <tr style=\"text-align: right;\">\n",
        "      <th></th>\n",
        "      <th>discipline</th>\n",
        "      <th>ease_2</th>\n",
        "      <th>regret_2</th>\n",
        "      <th>support_2</th>\n",
        "      <th>time_2</th>\n",
        "      <th>time_second_evaluation</th>\n",
        "      <th>treatment_eval_2</th>\n",
        "      <th>ease_1</th>\n",
        "      <th>regret_1</th>\n",
        "      <th>support_1</th>\n",
        "      <th>...</th>\n",
        "      <th>data_file_title_2</th>\n",
        "      <th>time_create_2</th>\n",
        "      <th>treatment_2</th>\n",
        "      <th>trial_2</th>\n",
        "      <th>when_to_2</th>\n",
        "      <th>with_who_2</th>\n",
        "      <th>gibberish</th>\n",
        "      <th>field</th>\n",
        "      <th>usability_2</th>\n",
        "      <th>usability_1</th>\n",
        "    </tr>\n",
        "    <tr>\n",
        "      <th>sessionid</th>\n",
        "      <th></th>\n",
        "      <th></th>\n",
        "      <th></th>\n",
        "      <th></th>\n",
        "      <th></th>\n",
        "      <th></th>\n",
        "      <th></th>\n",
        "      <th></th>\n",
        "      <th></th>\n",
        "      <th></th>\n",
        "      <th></th>\n",
        "      <th></th>\n",
        "      <th></th>\n",
        "      <th></th>\n",
        "      <th></th>\n",
        "      <th></th>\n",
        "      <th></th>\n",
        "      <th></th>\n",
        "      <th></th>\n",
        "      <th></th>\n",
        "      <th></th>\n",
        "    </tr>\n",
        "  </thead>\n",
        "  <tbody>\n",
        "    <tr>\n",
        "      <th>0687ef14d441706b211ff0edf9f2ebea</th>\n",
        "      <td>           Biochemistry</td>\n",
        "      <td> 4</td>\n",
        "      <td> 4</td>\n",
        "      <td> 4</td>\n",
        "      <td> 4</td>\n",
        "      <td> 1430731542</td>\n",
        "      <td> B</td>\n",
        "      <td> 4</td>\n",
        "      <td> 3</td>\n",
        "      <td> 4</td>\n",
        "      <td>...</td>\n",
        "      <td>          mydata test</td>\n",
        "      <td> 1430731524</td>\n",
        "      <td> B</td>\n",
        "      <td> 1</td>\n",
        "      <td> nan</td>\n",
        "      <td> 4</td>\n",
        "      <td> True</td>\n",
        "      <td>           biochemistry</td>\n",
        "      <td> 4</td>\n",
        "      <td> 4</td>\n",
        "    </tr>\n",
        "    <tr>\n",
        "      <th>0ddaf25718c6b4c35bf05ae6335150d4</th>\n",
        "      <td>             Biophysics</td>\n",
        "      <td> 4</td>\n",
        "      <td> 2</td>\n",
        "      <td> 3</td>\n",
        "      <td> 4</td>\n",
        "      <td> 1429884067</td>\n",
        "      <td> B</td>\n",
        "      <td> 4</td>\n",
        "      <td> 3</td>\n",
        "      <td> 2</td>\n",
        "      <td>...</td>\n",
        "      <td> 2D PMF NaH exchanger</td>\n",
        "      <td> 1429884034</td>\n",
        "      <td> B</td>\n",
        "      <td> 1</td>\n",
        "      <td> nan</td>\n",
        "      <td> 4</td>\n",
        "      <td> True</td>\n",
        "      <td>             biophysics</td>\n",
        "      <td> 4</td>\n",
        "      <td> 4</td>\n",
        "    </tr>\n",
        "    <tr>\n",
        "      <th>18da94199bf2471a70d0298958543bb4</th>\n",
        "      <td>                Biology</td>\n",
        "      <td> 5</td>\n",
        "      <td> 1</td>\n",
        "      <td> 3</td>\n",
        "      <td> 5</td>\n",
        "      <td> 1430721360</td>\n",
        "      <td> B</td>\n",
        "      <td> 5</td>\n",
        "      <td> 4</td>\n",
        "      <td> 3</td>\n",
        "      <td>...</td>\n",
        "      <td>          My data set</td>\n",
        "      <td> 1430721315</td>\n",
        "      <td> B</td>\n",
        "      <td> 1</td>\n",
        "      <td> nan</td>\n",
        "      <td> 4</td>\n",
        "      <td> True</td>\n",
        "      <td>                biology</td>\n",
        "      <td> 5</td>\n",
        "      <td> 5</td>\n",
        "    </tr>\n",
        "    <tr>\n",
        "      <th>23ba4e6b2b149ba6294bd7e0125b2948</th>\n",
        "      <td> Bioprocess Engineering</td>\n",
        "      <td> 4</td>\n",
        "      <td> 2</td>\n",
        "      <td> 4</td>\n",
        "      <td> 4</td>\n",
        "      <td> 1430470915</td>\n",
        "      <td> B</td>\n",
        "      <td> 4</td>\n",
        "      <td> 2</td>\n",
        "      <td> 4</td>\n",
        "      <td>...</td>\n",
        "      <td>            more data</td>\n",
        "      <td> 1430470882</td>\n",
        "      <td> B</td>\n",
        "      <td> 1</td>\n",
        "      <td> nan</td>\n",
        "      <td> 4</td>\n",
        "      <td> True</td>\n",
        "      <td> bioprocess engineering</td>\n",
        "      <td> 4</td>\n",
        "      <td> 4</td>\n",
        "    </tr>\n",
        "    <tr>\n",
        "      <th>2bd5b76b8fac74b062c1a99c9bbc0a75</th>\n",
        "      <td>        Systems Biology</td>\n",
        "      <td> 5</td>\n",
        "      <td> 3</td>\n",
        "      <td> 5</td>\n",
        "      <td> 5</td>\n",
        "      <td> 1431345215</td>\n",
        "      <td> A</td>\n",
        "      <td> 5</td>\n",
        "      <td> 3</td>\n",
        "      <td> 4</td>\n",
        "      <td>...</td>\n",
        "      <td>  Dataset for paper X</td>\n",
        "      <td> 1431345182</td>\n",
        "      <td> A</td>\n",
        "      <td> 1</td>\n",
        "      <td> nan</td>\n",
        "      <td> 4</td>\n",
        "      <td> True</td>\n",
        "      <td>        systems biology</td>\n",
        "      <td> 5</td>\n",
        "      <td> 5</td>\n",
        "    </tr>\n",
        "  </tbody>\n",
        "</table>\n",
        "<p>5 rows \u00d7 44 columns</p>\n",
        "</div>"
       ],
       "metadata": {},
       "output_type": "pyout",
       "prompt_number": 4,
       "text": [
        "                                              discipline  ease_2  regret_2  \\\n",
        "sessionid                                                                    \n",
        "0687ef14d441706b211ff0edf9f2ebea            Biochemistry       4         4   \n",
        "0ddaf25718c6b4c35bf05ae6335150d4              Biophysics       4         2   \n",
        "18da94199bf2471a70d0298958543bb4                 Biology       5         1   \n",
        "23ba4e6b2b149ba6294bd7e0125b2948  Bioprocess Engineering       4         2   \n",
        "2bd5b76b8fac74b062c1a99c9bbc0a75         Systems Biology       5         3   \n",
        "\n",
        "                                  support_2  time_2  time_second_evaluation  \\\n",
        "sessionid                                                                     \n",
        "0687ef14d441706b211ff0edf9f2ebea          4       4              1430731542   \n",
        "0ddaf25718c6b4c35bf05ae6335150d4          3       4              1429884067   \n",
        "18da94199bf2471a70d0298958543bb4          3       5              1430721360   \n",
        "23ba4e6b2b149ba6294bd7e0125b2948          4       4              1430470915   \n",
        "2bd5b76b8fac74b062c1a99c9bbc0a75          5       5              1431345215   \n",
        "\n",
        "                                 treatment_eval_2  ease_1  regret_1  \\\n",
        "sessionid                                                             \n",
        "0687ef14d441706b211ff0edf9f2ebea                B       4         3   \n",
        "0ddaf25718c6b4c35bf05ae6335150d4                B       4         3   \n",
        "18da94199bf2471a70d0298958543bb4                B       5         4   \n",
        "23ba4e6b2b149ba6294bd7e0125b2948                B       4         2   \n",
        "2bd5b76b8fac74b062c1a99c9bbc0a75                A       5         3   \n",
        "\n",
        "                                  support_1     ...       \\\n",
        "sessionid                                       ...        \n",
        "0687ef14d441706b211ff0edf9f2ebea          4     ...        \n",
        "0ddaf25718c6b4c35bf05ae6335150d4          2     ...        \n",
        "18da94199bf2471a70d0298958543bb4          3     ...        \n",
        "23ba4e6b2b149ba6294bd7e0125b2948          4     ...        \n",
        "2bd5b76b8fac74b062c1a99c9bbc0a75          4     ...        \n",
        "\n",
        "                                     data_file_title_2  time_create_2  \\\n",
        "sessionid                                                               \n",
        "0687ef14d441706b211ff0edf9f2ebea           mydata test     1430731524   \n",
        "0ddaf25718c6b4c35bf05ae6335150d4  2D PMF NaH exchanger     1429884034   \n",
        "18da94199bf2471a70d0298958543bb4           My data set     1430721315   \n",
        "23ba4e6b2b149ba6294bd7e0125b2948             more data     1430470882   \n",
        "2bd5b76b8fac74b062c1a99c9bbc0a75   Dataset for paper X     1431345182   \n",
        "\n",
        "                                 treatment_2 trial_2  when_to_2 with_who_2  \\\n",
        "sessionid                                                                    \n",
        "0687ef14d441706b211ff0edf9f2ebea           B       1        nan          4   \n",
        "0ddaf25718c6b4c35bf05ae6335150d4           B       1        nan          4   \n",
        "18da94199bf2471a70d0298958543bb4           B       1        nan          4   \n",
        "23ba4e6b2b149ba6294bd7e0125b2948           B       1        nan          4   \n",
        "2bd5b76b8fac74b062c1a99c9bbc0a75           A       1        nan          4   \n",
        "\n",
        "                                  gibberish                   field  \\\n",
        "sessionid                                                             \n",
        "0687ef14d441706b211ff0edf9f2ebea       True            biochemistry   \n",
        "0ddaf25718c6b4c35bf05ae6335150d4       True              biophysics   \n",
        "18da94199bf2471a70d0298958543bb4       True                 biology   \n",
        "23ba4e6b2b149ba6294bd7e0125b2948       True  bioprocess engineering   \n",
        "2bd5b76b8fac74b062c1a99c9bbc0a75       True         systems biology   \n",
        "\n",
        "                                  usability_2  usability_1  \n",
        "sessionid                                                   \n",
        "0687ef14d441706b211ff0edf9f2ebea            4            4  \n",
        "0ddaf25718c6b4c35bf05ae6335150d4            4            4  \n",
        "18da94199bf2471a70d0298958543bb4            5            5  \n",
        "23ba4e6b2b149ba6294bd7e0125b2948            4            4  \n",
        "2bd5b76b8fac74b062c1a99c9bbc0a75            5            5  \n",
        "\n",
        "[5 rows x 44 columns]"
       ]
      }
     ],
     "prompt_number": 4
    },
    {
     "cell_type": "code",
     "collapsed": false,
     "input": [
      "s = f.groupby('regret_1')['regret_1'].count()\n",
      "s.plot(kind='barh')"
     ],
     "language": "python",
     "metadata": {},
     "outputs": [
      {
       "metadata": {},
       "output_type": "pyout",
       "prompt_number": 5,
       "text": [
        "<matplotlib.axes._subplots.AxesSubplot at 0x1067826d0>"
       ]
      },
      {
       "metadata": {},
       "output_type": "display_data",
       "png": "[encoded data removed]",
       "text": [
        "<matplotlib.figure.Figure at 0x10c6082d0>"
       ]
      }
     ],
     "prompt_number": 5
    },
    {
     "cell_type": "code",
     "collapsed": false,
     "input": [
      "s = f.groupby('regret_2')['regret_2'].count()\n",
      "s.plot(kind='barh')"
     ],
     "language": "python",
     "metadata": {},
     "outputs": [
      {
       "metadata": {},
       "output_type": "pyout",
       "prompt_number": 6,
       "text": [
        "<matplotlib.axes._subplots.AxesSubplot at 0x10c8c5d50>"
       ]
      },
      {
       "metadata": {},
       "output_type": "display_data",
       "png": "[encoded data removed]",
       "text": [
        "<matplotlib.figure.Figure at 0x10c8d71d0>"
       ]
      }
     ],
     "prompt_number": 6
    },
    {
     "cell_type": "code",
     "collapsed": false,
     "input": [
      "## Getting the formated dataframe\n",
      "full_set = gg.get_rm_ws_df('regret_1','regret_2')\n",
      "full_set2 = gg.get_rm_ws_df('with_who_1','with_who_2')\n",
      "full_set3 = gg.get_rm_ws_df('when_to_1','when_to_2')\n",
      "\n",
      "new_data_full= full_set\n",
      "new_data_full['with_who'] = full_set2.response\n",
      "new_data_full['when_to'] = full_set3.response\n",
      "(new_data_full.head(7))\n",
      "new_data_full['when_to'] = new_data_full['when_to'].replace(['nan','6m','1y','3y','10y'],[0,1,2,6,20])\n",
      "\n",
      "\n",
      "# full_set_var = gg.add_survey_data(new_data_full,'man_hours')\n",
      "\n",
      "# full_set_var.ix[np.random.choice(full_set_var.index.values, 10)]\n",
      "\n"
     ],
     "language": "python",
     "metadata": {},
     "outputs": [
      {
       "output_type": "stream",
       "stream": "stdout",
       "text": [
        "rm_ws_dataframe - Droping missing records\n",
        "(40, 5)\n",
        "rm_ws_dataframe - remove missing data \n",
        "(40, 5)\n",
        "rm_ws_dataframe - no duplicates \n",
        "(80, 5)\n",
        "3    26\n",
        "2    21\n",
        "1    18\n",
        "4    14\n",
        "5     1\n",
        "dtype: int64"
       ]
      },
      {
       "output_type": "stream",
       "stream": "stdout",
       "text": [
        "\n",
        "rm_ws_dataframe - Droping missing records\n",
        "(40, 5)\n",
        "rm_ws_dataframe - remove missing data \n",
        "(40, 5)\n",
        "rm_ws_dataframe - no duplicates \n",
        "(80, 5)\n",
        "4    63\n",
        "3    10\n",
        "2     7\n",
        "dtype: int64\n",
        "rm_ws_dataframe - Droping missing records\n",
        "(40, 5)\n",
        "rm_ws_dataframe - remove missing data \n",
        "(40, 5)\n",
        "rm_ws_dataframe - no duplicates \n",
        "(80, 5)\n",
        "nan    64\n",
        "6m      8\n",
        "10y     6\n",
        "3y      1\n",
        "1y      1\n",
        "dtype: int64\n"
       ]
      }
     ],
     "prompt_number": 7
    },
    {
     "cell_type": "markdown",
     "metadata": {},
     "source": [
      "##Check for Corrlation between the two vairbales who and when"
     ]
    },
    {
     "cell_type": "code",
     "collapsed": false,
     "input": [
      "new_data_full['with_who'] = new_data_full['with_who'].astype('int')\n",
      "new_data_full['when_to'] = new_data_full['when_to'].astype('int')\n",
      "new_data_full.plot(x='when_to', y='with_who', kind='hexbin', gridsize=5, reduce_C_function=np.max)\n"
     ],
     "language": "python",
     "metadata": {},
     "outputs": [
      {
       "metadata": {},
       "output_type": "pyout",
       "prompt_number": 8,
       "text": [
        "<matplotlib.axes._subplots.AxesSubplot at 0x10e277a10>"
       ]
      },
      {
       "metadata": {},
       "output_type": "display_data",
       "png": "[encoded data removed]",
       "text": [
        "<matplotlib.figure.Figure at 0x10cf0b450>"
       ]
      }
     ],
     "prompt_number": 8
    },
    {
     "cell_type": "markdown",
     "metadata": {},
     "source": [
      ">IS not that this two measures are corralated. They are counfounded due to the design. Then you can use one or te other variable in the experiment. it really doesn't matter. However you should use with_WHO becuase all of the mexperience that one at least."
     ]
    },
    {
     "cell_type": "markdown",
     "metadata": {},
     "source": [
      "## Check for Carry over effects"
     ]
    },
    {
     "cell_type": "markdown",
     "metadata": {},
     "source": [
      "###Grizzzle Method"
     ]
    },
    {
     "cell_type": "code",
     "collapsed": false,
     "input": [
      "ss =  gg.code_for_stat_ana()\n",
      "# ss['usability_2'] = ss.apply(lambda row: np.median([row['ease_2'],row['support_2'],row['time_2']]), axis=1)\n",
      "# ss['usability_1'] = ss.apply(lambda row: np.median([row['ease_1'],row['support_1'],row['time_1']]), axis=1)\n",
      "ss['sequ'] = ss['treatment_eval_1']\n",
      "ss['sequ'] = ss['sequ'].replace(['A','B'],['AB','BA'])\n",
      "ss['sum']  = ss['regret_1'].astype('int') + ss['regret_2'].astype('int')\n",
      "ss['diff'] =  ss['regret_1'].astype('int') - ss['regret_2'].astype('int')\n",
      "xx =  ss[['treatment_eval_1','diff','sum']]\n",
      "AB = xx[xx['treatment_eval_1'] == 'A']\n",
      "BA = xx[xx['treatment_eval_1'] == 'B']\n",
      "sum1= AB['sum'].sum()/AB.shape[0]\n",
      "sum2= BA['sum'].sum()/BA.shape[0]\n",
      "diff1= AB['diff'].sum()/AB.shape[0]\n",
      "diff2= BA['diff'].sum()/BA.shape[0]\n",
      "\n",
      "print sum1 - sum2\n",
      "print (diff1 - diff2)/2\n",
      "\n",
      "ll =  ss[['sequ','regret_1','regret_2']]\n",
      "ll.columns = ['Sequence','Period 1','Period 2']\n",
      "ll['Sequence'] = ll['Sequence'].replace(['AB','BA'],['Ctrl-Exp','Exp-Ctrl'])\n",
      "\n",
      "\n",
      "ll.groupby(['Sequence']).mean().transpose().plot(marker='o').set_ylabel(\"Regret (Sum of Means)\")\n",
      "savefig(picture_foler+'regretCarryPlt.png', bbox_inches='tight')\n",
      "ll.groupby(['Sequence']).median().transpose().plot(marker='o').set_ylabel(\"Regret (Sum of Medians)\")"
     ],
     "language": "python",
     "metadata": {},
     "outputs": [
      {
       "output_type": "stream",
       "stream": "stdout",
       "text": [
        "(40, 44)\n",
        "1.05012531328\n",
        "0.384711779449\n"
       ]
      },
      {
       "metadata": {},
       "output_type": "pyout",
       "prompt_number": 12,
       "text": [
        "<matplotlib.text.Text at 0x112a2d1d0>"
       ]
      },
      {
       "metadata": {},
       "output_type": "display_data",
       "png": "[encoded data removed]",
       "text": [
        "<matplotlib.figure.Figure at 0x115712c50>"
       ]
      },
      {
       "metadata": {},
       "output_type": "display_data",
       "png": "[encoded data removed]",
       "text": [
        "<matplotlib.figure.Figure at 0x10ff69a50>"
       ]
      }
     ],
     "prompt_number": 12
    },
    {
     "cell_type": "code",
     "collapsed": false,
     "input": [
      "%%R -i ss\n",
      "\n",
      "ss$with_who_1<-factor(ss$with_who_1)\n",
      "\n",
      "\n",
      "print(aggregate(ss$sum, by=list(ss$treatment_eval_1), mean))\n",
      "print(wilcox.test(ss$sum~factor(ss$treatment_eval_1),paired = FALSE))\n",
      "print(wilcox.test(ss$diff~factor(ss$treatment_eval_1),paired = FALSE))\n",
      "print(wilcox.test(ss$regret_1~factor(ss$treatment_eval_1),paired = FALSE, conf.int=TRUE ))\n",
      "print(friedman.test(regret_1~treatment_eval_1 | with_who_1, data=ss ))\n"
     ],
     "language": "python",
     "metadata": {},
     "outputs": []
    },
    {
     "cell_type": "markdown",
     "metadata": {},
     "source": [
      "### My method for Carry over"
     ]
    },
    {
     "cell_type": "code",
     "collapsed": false,
     "input": [
      "co_check_df = new_data_full[new_data_full['period'] == '1']"
     ],
     "language": "python",
     "metadata": {},
     "outputs": []
    },
    {
     "cell_type": "code",
     "collapsed": false,
     "input": [
      "%%R -i co_check_df\n",
      "library(ordinal)\n",
      "\n",
      "\n",
      "s <- data.frame(co_check_df)\n",
      "s$response <- factor(s$response)\n",
      "s$trt <- factor(s$trt)\n",
      "s$sequ <- factor(s$sequ)\n",
      "s$period <- factor(s$period)\n",
      "\n",
      "clm <- clm(response ~ sequ , data=s, link=\"loglog\",Hess = TRUE, nAGQ = 10, threshold=\"symmetric\"  )\n",
      "\n",
      "print (summary(clm))\n",
      "exp(cbind(OR =coef(clm), confint(clm)))\n",
      "print(exp(cbind(OR =coef(clm), confint(clm))))"
     ],
     "language": "python",
     "metadata": {},
     "outputs": []
    },
    {
     "cell_type": "markdown",
     "metadata": {},
     "source": [
      "##Check for with link model to use\n",
      "\n",
      "Higher Likehood ratio is best"
     ]
    },
    {
     "cell_type": "code",
     "collapsed": false,
     "input": [
      "%%R -i new_data_full\n",
      "\n",
      "s <- data.frame(new_data_full)\n",
      "s$response <- factor(s$response)\n",
      "s$trt <- factor(s$trt)\n",
      "s$sequ <- factor(s$sequ)\n",
      "s$period <- factor(s$period)\n",
      "s$when_to <- factor(s$when_to)\n",
      "s$with_who <- as.numeric(s$with_who)\n",
      "\n",
      "links <- c(\"logit\", \"probit\", \"cloglog\", \"loglog\")\n",
      "sapply(links, function(link) {  clmm(response ~ trt + period + sequ + (1 | with_who )+ (1 | id:sequ) , s, link=link ,Hess = TRUE, threshold=\"flexible\")$logLik })\n",
      "\n"
     ],
     "language": "python",
     "metadata": {},
     "outputs": []
    },
    {
     "cell_type": "markdown",
     "metadata": {},
     "source": [
      "##Check for with threshold to use\n",
      "\n",
      "Higher Likehood ratio is best"
     ]
    },
    {
     "cell_type": "code",
     "collapsed": false,
     "input": [
      "%%R -i new_data_full\n",
      "\n",
      "s <- data.frame(new_data_full)\n",
      "s$response <- factor(s$response)\n",
      "s$trt <- factor(s$trt)\n",
      "s$sequ <- factor(s$sequ)\n",
      "s$period <- factor(s$period)\n",
      "s$when_to <- factor(s$when_to)\n",
      "s$with_who <- as.numeric(s$with_who)\n",
      "\n",
      "thresholds <- c(\"equidistant\", \"symmetric\")\n",
      " \n",
      "anov<-function(threshold){\n",
      "mt2 <- clmm(response ~ trt + period + sequ + (1 | with_who )+ (1 | id:sequ) , s, link=\"loglog\" ,Hess = TRUE, threshold=threshold)\n",
      "x1 <- clmm(response ~ trt + period + sequ + (1 | with_who )+ (1 | id:sequ) , s, link=\"loglog\" ,Hess = TRUE, threshold=\"flexible\")\n",
      "summa<-anova(x1, mt2)\n",
      "(summa$'Pr(>Chisq)'[2])\n",
      "}\n",
      "\n",
      "sapply(thresholds, anov)\n"
     ],
     "language": "python",
     "metadata": {},
     "outputs": []
    },
    {
     "cell_type": "markdown",
     "metadata": {},
     "source": [
      "> Since the p-value is significant there is argument agianst using anyother threshold"
     ]
    },
    {
     "cell_type": "markdown",
     "metadata": {},
     "source": [
      "##\u00a0Effects on Regret due to PREFERENCE and/or the Design"
     ]
    },
    {
     "cell_type": "markdown",
     "metadata": {},
     "source": [
      "The regret analysis present a variation with other analysis. \n",
      "\n",
      "The response is what users selected in the survey and the responses of the experiment are now a parameter in the model. \n",
      "\n",
      "But is a fix effect or a random effect??"
     ]
    },
    {
     "cell_type": "code",
     "collapsed": false,
     "input": [
      "%%R -i new_data_full\n",
      "library(ordinal)\n",
      "library(MASS)\n",
      "\n",
      "s <- data.frame(new_data_full)\n",
      "s$response <- factor(s$response)\n",
      "s$trt <- factor(s$trt)\n",
      "s$sequ <- factor(s$sequ)\n",
      "s$period <- factor(s$period)\n",
      "s$when_to <- (s$when_to)\n",
      "s$with_who <- (s$with_who)\n",
      "\n",
      "regret.mm.who <- clmm(response ~ sequ  + trt + period  + (1 | with_who) + (1 | id:sequ), s, link=\"loglog\", Hess = TRUE, threshold=\"flexible\")\n",
      "regret.mm.whe <- clmm(response ~ sequ  + trt + period  + (1 | when_to) + (1 | id:sequ), s, link=\"loglog\", Hess = TRUE, threshold=\"flexible\")\n",
      "regret.mm <- clmm(response ~ sequ  + trt + period  + (1 | id:sequ), s, link=\"loglog\", Hess = TRUE,  threshold=\"flexible\")\n"
     ],
     "language": "python",
     "metadata": {},
     "outputs": []
    },
    {
     "cell_type": "markdown",
     "metadata": {},
     "source": [
      "regret.mm.who is a model when we look at the effects ON Regret By who they share with   \n",
      "regret.mm.whe is a model when we look at the effects ON Regret By when they share with   \n",
      "regret.mm is a model when we look at the effects ON Regret By who the experimental design   "
     ]
    },
    {
     "cell_type": "code",
     "collapsed": false,
     "input": [
      "%%R\n",
      "\n",
      "print(\"***********\")\n",
      "print(summary(regret.mm))\n",
      "print(\"***********\")\n",
      "print(summary(regret.mm.who))\n",
      "##print(\"***********\")\n",
      "##print(summary(regret.mm.whe))\n",
      "\n",
      "\n",
      "##print(\"------------\")\n",
      "##print(anova(regret.mm.whe, regret.mm))\n",
      "print(\"------------\")\n",
      "print(anova(regret.mm.who, regret.mm))\n",
      "##print(\"------------\")\n",
      "##print(anova(regret.mm.who, regret.mm.whe))\n"
     ],
     "language": "python",
     "metadata": {},
     "outputs": []
    },
    {
     "cell_type": "markdown",
     "metadata": {},
     "source": [
      "> The model with random variables explains a bit more of the phenomenon but explains as much as it does with either vairbales.\n",
      "> unfortunately in CMML we can not use NGA and only 2 randowm variables can be included in the model    \n",
      "\n",
      "> regret.mm IT can been said the either treatment do not affect regret\n",
      "> but adding their choices to the model changes the outcome, so their choices are mapped to their regret\n"
     ]
    },
    {
     "cell_type": "code",
     "collapsed": false,
     "input": [
      "%%R\n",
      "\n",
      "\n",
      "library(texreg)\n",
      "source('clmm_extractor.r')\n",
      "\n",
      "texreg(list(regret.mm.who), ci.force = TRUE, ci.test = 1, ci.force.level = 0.95 , float.pos = \"tb\",\n",
      "      caption = \"Regret CLMM model\",  use.packages = FALSE, single.row = FALSE, custom.coef.names=c(\"Sequence\",\"Period\",\"Treatment\",\"Accessibility\"),\n",
      "      custom.model.names = c(\"CLMM model\"),)\n",
      "\n"
     ],
     "language": "python",
     "metadata": {},
     "outputs": []
    },
    {
     "cell_type": "code",
     "collapsed": false,
     "input": [
      "%%R\n",
      "plot_odds(regret.mm.who,'Odds ratios and CI')   \n",
      "\n"
     ],
     "language": "python",
     "metadata": {},
     "outputs": []
    },
    {
     "cell_type": "markdown",
     "metadata": {},
     "source": [
      "## Check first period as a Oridnal Logistical Regresion model\n",
      "\n",
      "\n",
      "we do OLR becasue we have 2 or more IVs (independent groups) they are odinal. We cannot use friedman or wilconxo without loosing one of those vairbales. \n",
      "But the ORL is only for binary outputs not ordinal like we have. so we need CLM but since both accessibility and treatment would be fixed variels."
     ]
    },
    {
     "cell_type": "code",
     "collapsed": false,
     "input": [
      "first_period_data = new_data_full[new_data_full['period'] == \"1\"]\n",
      "first_period_data.head(10)"
     ],
     "language": "python",
     "metadata": {},
     "outputs": []
    },
    {
     "cell_type": "code",
     "collapsed": false,
     "input": [
      "%%R -i first_period_data\n",
      "\n",
      "s <- data.frame(first_period_data)\n",
      "s$response <- factor(s$response)\n",
      "s$trt <- factor(s$trt)\n",
      "s$sequ <- factor(s$sequ)\n",
      "s$period <- factor(s$period)\n",
      "s$when_to <- (s$when_to)\n",
      "s$with_who <- factor(s$with_who)\n",
      "\n",
      "regret.olr.who <- polr(response ~ trt + with_who, data=s, Hess = TRUE)\n",
      "regret.clm.who <- clm(response ~ trt + with_who, data=s, Hess = TRUE)\n"
     ],
     "language": "python",
     "metadata": {},
     "outputs": []
    },
    {
     "cell_type": "code",
     "collapsed": false,
     "input": [
      "%%R\n",
      "print(summary(regret.olr.who))\n",
      "print(summary(regret.clm.who))\n",
      "plot_odds(regret.olr.who,'Odds ratios and CI')   \n"
     ],
     "language": "python",
     "metadata": {},
     "outputs": []
    },
    {
     "cell_type": "markdown",
     "metadata": {},
     "source": [
      "## ~~Effects on Regret with Who as a Fixed variable and when_to as Random~~"
     ]
    },
    {
     "cell_type": "markdown",
     "metadata": {},
     "source": [
      "Not needed anymore because bot hvariables are confounded"
     ]
    },
    {
     "cell_type": "code",
     "collapsed": false,
     "input": [
      "%%R -i new_data_full\n",
      "\n",
      "s <- data.frame(new_data_full)\n",
      "s$response <- factor(s$response)\n",
      "s$trt <- factor(s$trt)\n",
      "s$sequ <- factor(s$sequ)\n",
      "s$period <- factor(s$period)\n",
      "s$when_to <- (s$when_to)\n",
      "s$with_who <- (s$with_who)\n",
      "\n",
      "regret.mm.who <- clmm(response ~ sequ  + trt + period  + with_who + (1 | when_to) + (1 | id:sequ), s, link=\"loglog\", Hess = TRUE, threshold=\"flexible\")\n",
      "regret.mm   <- clmm(response ~ sequ  + trt + period  + (1 | id:sequ), s, link=\"loglog\", Hess = TRUE,  threshold=\"flexible\")\n"
     ],
     "language": "python",
     "metadata": {},
     "outputs": []
    },
    {
     "cell_type": "code",
     "collapsed": false,
     "input": [
      "%%R\n",
      "\n",
      "print(\"***********\")\n",
      "print(summary(regret.mm))\n",
      "print(\"***********\")\n",
      "print(summary(regret.mm.who))\n",
      "print(\"***********\")\n",
      "\n",
      "\n",
      "print(\"------------\")\n",
      "print(anova(regret.mm.who, regret.mm))\n"
     ],
     "language": "python",
     "metadata": {},
     "outputs": []
    },
    {
     "cell_type": "markdown",
     "metadata": {},
     "source": [
      "## CMML Model"
     ]
    },
    {
     "cell_type": "code",
     "collapsed": false,
     "input": [
      "%%R -i new_data_full -o mm1\n",
      "library(ordinal)\n",
      "library(MASS)\n",
      "\n",
      "s <- data.frame(new_data_full)\n",
      "s$response <- factor(s$response)\n",
      "s$trt <- factor(s$trt)\n",
      "s$sequ <- factor(s$sequ)\n",
      "s$period <- factor(s$period)\n",
      "s$when_to <- factor(s$when_to)\n",
      "s$with_who <- as.numeric(s$with_who)\n",
      "\n",
      "\n",
      "##mm1 <- clmm(response ~ sequ  + trt + period   + (1 | id:sequ), s, link=\"loglog\", Hess = TRUE, nAGQ = 10 )\n",
      "mm1 <- clmm(response ~ sequ  + trt + period  + (1 | when_to) + (1 | id:sequ), s, link=\"loglog\", Hess = TRUE, threshold=\"symmetric\")\n",
      "mm2 <- clmm(response ~ sequ  + period  + (1 | when_to) + (1 | id:sequ), s, link=\"loglog\", Hess = TRUE, threshold=\"symmetric\")\n",
      "\n",
      "##step <- stepAIC(mm1)\n",
      "\n",
      "#print ((step$anova ))\n",
      "\n",
      "print (summary(mm1))\n",
      "print(exp(cbind(OR =coef(mm1), confint(mm1))))\n",
      "\n",
      "source('regression_plots.r')\n",
      "plot_odds(mm1,'Odds ratios and CI')\n",
      "\n",
      "print(anova(mm1,mm2))\n"
     ],
     "language": "python",
     "metadata": {},
     "outputs": []
    },
    {
     "cell_type": "code",
     "collapsed": false,
     "input": [
      " %%R -i full_set -o mm1 -o mm2\n",
      "library(ordinal)\n",
      "\n",
      "s <- data.frame(new_data_full)\n",
      "s$response <- factor(s$response)\n",
      "s$trt <- factor(s$trt)\n",
      "s$sequ <- factor(s$sequ)\n",
      "s$period <- factor(s$period)\n",
      "s$when_to <- factor(s$when_to)\n",
      "s$with_who <- as.numeric(s$with_who)\n",
      "\n",
      "\n",
      "mm1 <- clmm(response ~ sequ  + trt + period   + (1 | id:sequ), s, link=\"loglog\", Hess = TRUE, nAGQ = 7, threshold=\"symmetric\" )\n",
      "mm2 <- clmm(response ~ sequ  + period + (1 | id:sequ), s, link=\"loglog\", Hess = TRUE, nAGQ = 7, threshold=\"symmetric\" )\n",
      "    \n",
      "\n",
      "    print (summary(mm1))\n",
      "##    exp(cbind(OR =coef(mm2), confint(mm2)))\n",
      "plot_odds(mm1,'Odds ratios and CI')   "
     ],
     "language": "python",
     "metadata": {},
     "outputs": []
    },
    {
     "cell_type": "code",
     "collapsed": false,
     "input": [
      "%%R \n",
      "anova(mm2, mm1)"
     ],
     "language": "python",
     "metadata": {},
     "outputs": []
    },
    {
     "cell_type": "markdown",
     "metadata": {},
     "source": [
      "> The significant effect of the treatment is interesting it probabibly means that the impression give by the first treatment is important. Since the relation is positive this means that the AB sequence tends to bring more regretful responses than the BA sequecen?"
     ]
    },
    {
     "cell_type": "code",
     "collapsed": false,
     "input": [
      "%%R -i mm1\n",
      "\n",
      "library(texreg)\n",
      "source('clmm_extractor.r')\n",
      "\n",
      "##screenreg\n",
      "\n",
      "screenreg(mm1, ci.force = TRUE, ci.test = 1, ci.force.level = 0.95 , float.pos = \"tb\",\n",
      "      caption = \"Enforcing confidence intervals.\",  use.packages = FALSE, single.row = FALSE,\n",
      "      custom.model.names = c(\"Regret\"),\n",
      "      )"
     ],
     "language": "python",
     "metadata": {},
     "outputs": []
    },
    {
     "cell_type": "markdown",
     "metadata": {},
     "source": [
      ">sequence group effect is confirmed. what it means we can only use the first period. but actually we find an effect even then"
     ]
    },
    {
     "cell_type": "code",
     "collapsed": false,
     "input": [],
     "language": "python",
     "metadata": {},
     "outputs": []
    },
    {
     "cell_type": "code",
     "collapsed": false,
     "input": [],
     "language": "python",
     "metadata": {},
     "outputs": []
    },
    {
     "cell_type": "code",
     "collapsed": false,
     "input": [],
     "language": "python",
     "metadata": {},
     "outputs": []
    }
   ],
   "metadata": {}
  }
 ]
}