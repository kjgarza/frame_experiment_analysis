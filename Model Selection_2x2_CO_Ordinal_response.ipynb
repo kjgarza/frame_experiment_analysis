{
 "metadata": {
  "name": "",
  "signature": "sha256:e911d631665952b9a78560096f09afef7d3d5e111322bb8831747fa9acfe06f2"
 },
 "nbformat": 3,
 "nbformat_minor": 0,
 "worksheets": [
  {
   "cells": [
    {
     "cell_type": "markdown",
     "metadata": {},
     "source": [
      "#Model Selection for 2x2 Crossover Experiment with Ordinal response\n",
      "\n",
      "<i>Created by Kristian G</i>"
     ]
    },
    {
     "cell_type": "markdown",
     "metadata": {},
     "source": [
      "| Study    | Binary | Ordinal | Hirar | Repeated | Crossover |\n",
      "|----------|--------|---------|-------|----------|-----------|\n",
      "| **Full**     |        |         |       |          |           |\n",
      "| CLMM     |        | x       | x     | x        | x         |\n",
      "| CLMM2    |        | x       | x     | x        | x         |\n",
      "| **Branches** |        |         |       |          |           |\n",
      "| POLR   (b)  |        | x       |       |          |           |\n",
      "| CLM    (w/b) | x      | x       | x     |          |           |\n",
      "| REPOLR (w)  |        | x       |       | x        |           |\n",
      "| WILCOX (w/b) | x      |         |       |          |           |\n",
      "| GLMER   (b)  | x      |         |     x  |          |           |\n",
      "| GLM     (w/b) | x      |         | x     | x        |           |\n"
     ]
    },
    {
     "cell_type": "markdown",
     "metadata": {},
     "source": [
      "# Full Analysis "
     ]
    },
    {
     "cell_type": "code",
     "collapsed": false,
     "input": [
      "%matplotlib inline\n",
      "import numpy as np\n",
      "import pandas as pd\n",
      "import matplotlib.pyplot as plt\n",
      "from extract_data import datatoFrame\n",
      "from code_data import *\n",
      "from ggplot import *\n",
      "import json\n",
      "from frame_experiment_table import FrameExperimentTable\n",
      "%pylab inline\n",
      "# %load_ext rmagic\n",
      "%load_ext rpy2.ipython\n",
      "import pylab"
     ],
     "language": "python",
     "metadata": {},
     "outputs": [
      {
       "output_type": "stream",
       "stream": "stdout",
       "text": [
        "Populating the interactive namespace from numpy and matplotlib\n"
       ]
      },
      {
       "output_type": "stream",
       "stream": "stderr",
       "text": [
        "WARNING: pylab import has clobbered these variables: ['xlim', 'ylim']\n",
        "`%matplotlib` prevents importing * from pylab and numpy\n"
       ]
      }
     ],
     "prompt_number": 1
    },
    {
     "cell_type": "code",
     "collapsed": false,
     "input": [
      "%%R\n",
      "rm(list=ls())"
     ],
     "language": "python",
     "metadata": {},
     "outputs": [],
     "prompt_number": 2
    },
    {
     "cell_type": "markdown",
     "metadata": {},
     "source": [
      "New need to select the model for a 2x2 Crossover Experiment with Ordinal response we are considering:\n",
      "\n",
      "- Mixed Models\n",
      "- Cumulative Link Mixed Models"
     ]
    },
    {
     "cell_type": "code",
     "collapsed": false,
     "input": [
      "new = 0\n",
      "if new == 0: \n",
      "    c = FrameExperimentTable('logs/data_incremental_file')\n",
      "    c.add_records('logs/data_two_records','new')\n",
      "    c.add_records('logs/data_scenario_changed','new')\n",
      "    c.add_records_csv('logs/data_scramble_filled_csv.csv')\n",
      "else:\n",
      "    c = FrameExperimentTable('logs/data_scenario_changed')\n",
      "c.filter_noise()\n",
      "c.code_for_stat_ana()\n",
      "c.code_survey_numeric()\n",
      "new_data = c.get_rm_ws_dataframe()"
     ],
     "language": "python",
     "metadata": {},
     "outputs": [
      {
       "output_type": "stream",
       "stream": "stdout",
       "text": [
        "(19, 40)\n",
        "classify_field - Fields Excluded"
       ]
      },
      {
       "output_type": "stream",
       "stream": "stdout",
       "text": [
        "\n",
        "(48,)\n",
        "(145, 42)\n",
        "New Usability Columns\n",
        "(145, 44)\n",
        "(76, 44)\n",
        "rm_ws_dataframe - Droping missing records"
       ]
      },
      {
       "output_type": "stream",
       "stream": "stdout",
       "text": [
        "\n",
        "(73, 5)\n",
        "rm_ws_dataframe - remove missing data \n",
        "(69, 5)\n",
        "rm_ws_dataframe - no duplicates "
       ]
      },
      {
       "output_type": "stream",
       "stream": "stdout",
       "text": [
        "\n",
        "(69, 6)\n"
       ]
      }
     ],
     "prompt_number": 7
    },
    {
     "cell_type": "markdown",
     "metadata": {},
     "source": [
      "## Mixed Model using LMER"
     ]
    },
    {
     "cell_type": "code",
     "collapsed": false,
     "input": [
      "%%R -i to_SAS \n",
      "library(lme4)\n",
      "\n",
      "\n",
      "getlmer<- function(to_SAS){\n",
      "\n",
      "    s <- data.frame(to_SAS)\n",
      "    s$response <- factor(s$response)\n",
      "    s$trt <- factor(s$trt)\n",
      "    s$sequ <- factor(s$sequ)\n",
      "    s$period <- factor(s$period)\n",
      "    ##s <- within(s, Grp <- factor(id:sequ))\n",
      "    ##options(contrasts = c(factor = \"contr.SAS\",ordered = \"contr.poly\")) \n",
      "    ##mm1 <- lmer(response ~ sequ  + trt + period  + (sequ:trt) + (1 | id:sequ), s )\n",
      "    mm1 <- lmer(response ~ sequ  + trt + period  +  (1 | id:sequ), s )\n",
      "    print(summary(mm1))\n",
      "    print(anova(mm1))\n",
      "    plot(fitted(mm1),residuals(mm1))\n",
      "    res_lme=residuals(mm1)\n",
      "    ##plot(res_lme)\n",
      "    ##qqnorm(res_lme)\n",
      "    ##qqline(res_lme)\n",
      "}\n",
      "\n",
      "model1<- getlmer(to_SAS)\n"
     ],
     "language": "python",
     "metadata": {},
     "outputs": [
      {
       "metadata": {},
       "output_type": "display_data",
       "text": [
        "Linear mixed model fit by REML ['lmerMod']\n",
        "Formula: response ~ sequ + trt + period + (1 | id:sequ)\n",
        "   Data: s\n",
        "\n",
        "REML criterion at convergence: 142.3\n",
        "\n",
        "Scaled residuals: \n",
        "     Min       1Q   Median       3Q      Max \n",
        "-2.84498 -0.30152  0.06393  0.18848  2.13695 \n",
        "\n",
        "Random effects:\n",
        " Groups   Name        Variance Std.Dev.\n",
        " id:sequ  (Intercept) 0.2478   0.4978  \n",
        " Residual             0.1119   0.3345  \n",
        "Number of obs: 90, groups:  id:sequ, 45\n",
        "\n",
        "Fixed effects:\n",
        "            Estimate Std. Error t value\n",
        "(Intercept)  2.47619    0.13088  18.920\n",
        "sequBA       0.12798    0.16468   0.777\n",
        "trtB         0.18750    0.07068   2.653\n",
        "period2      0.14583    0.07068   2.063\n",
        "\n",
        "Correlation of Fixed Effects:\n",
        "        (Intr) sequBA trtB  \n",
        "sequBA  -0.671              \n",
        "trtB    -0.288  0.000       \n",
        "period2 -0.288  0.000  0.067\n",
        "Analysis of Variance Table\n",
        "       Df  Sum Sq Mean Sq F value\n",
        "sequ    1 0.06759 0.06759  0.6039\n",
        "trt     1 0.71111 0.71111  6.3538\n",
        "period  1 0.47639 0.47639  4.2566\n"
       ]
      },
      {
       "metadata": {},
       "output_type": "display_data",
       "png": "[encoded data removed]"
      }
     ],
     "prompt_number": 70
    },
    {
     "cell_type": "markdown",
     "metadata": {},
     "source": [
      "## Mixed Model using CLMM"
     ]
    },
    {
     "cell_type": "code",
     "collapsed": false,
     "input": [
      "to_SAS = c.get_rm_ws_dataframe()\n"
     ],
     "language": "python",
     "metadata": {},
     "outputs": [
      {
       "output_type": "stream",
       "stream": "stdout",
       "text": [
        "rm_ws_dataframe - Droping missing records\n",
        "(45, 5)\n",
        "rm_ws_dataframe - remove missing data \n",
        "(45, 5)\n",
        "rm_ws_dataframe - no duplicates \n",
        "(45, 6)\n"
       ]
      }
     ],
     "prompt_number": 71
    },
    {
     "cell_type": "code",
     "collapsed": false,
     "input": [
      "%%R -i to_SAS\n",
      "library(ordinal)\n",
      "print(ls())\n",
      "\n",
      "f <- data.frame(to_SAS)\n",
      "f$response <- factor(f$response)\n",
      "f$trt <- factor(f$trt)\n",
      "f$sequ <- factor(f$sequ)\n",
      "f$period <- factor(f$period)\n",
      "mm2 <- clmm(response ~ sequ  + trt + period  + (1 | id:sequ), f,link=\"probit\",  Hess = TRUE, nAGQ = 10  )\n",
      "\n",
      "\n",
      "print (summary(mm2))\n",
      "exp(cbind(OR =coef(mm2), confint(mm2)))\n",
      "\n",
      "print(exp(cbind(OR =coef(mm2), confint(mm2))))\n",
      "    \n",
      "source('regression_plots.r')\n",
      "\n",
      "plot_odds(model2,'Odds ratios and CI')\n"
     ],
     "language": "python",
     "metadata": {},
     "outputs": [
      {
       "output_type": "stream",
       "stream": "stdout",
       "text": [
        "[1] \"getlmer\" \"model1\"  \"to_SAS\" \n",
        "Cumulative Link Mixed Model fitted with the adaptive Gauss-Hermite \n",
        "quadrature approximation with 10 quadrature points \n",
        "\n",
        "formula: response ~ sequ + trt + period + (1 | id:sequ)\n",
        "data:    f\n",
        "\n",
        " link   threshold nobs logLik AIC    niter     max.grad cond.H \n",
        " probit flexible  90   -44.56 101.12 237(1120) 1.72e-05 4.3e+02\n",
        "\n",
        "Random effects:\n",
        " Groups  Name        Variance Std.Dev.\n",
        " id:sequ (Intercept) 27.37    5.231   \n",
        "Number of groups:  id:sequ 45 \n",
        "\n",
        "Coefficients:\n",
        "        Estimate Std. Error z value Pr(>|z|)  \n",
        "sequBA    0.4738     1.6639   0.285   0.7758  \n",
        "trtB      1.5768     0.7549   2.089   0.0367 *\n",
        "period2   0.8697     0.6615   1.315   0.1886  \n",
        "---\n",
        "Signif. codes:  0 \u2018***\u2019 0.001 \u2018**\u2019 0.01 \u2018*\u2019 0.05 \u2018.\u2019 0.1 \u2018 \u2019 1\n",
        "\n",
        "Threshold coefficients:\n",
        "    Estimate Std. Error z value\n",
        "2|3   -5.705      2.057  -2.774\n",
        "3|4   -2.827      1.742  -1.622\n",
        "                 OR        2.5 %     97.5 %\n",
        "2|3     0.003327681 5.908457e-05  0.1874171\n",
        "3|4     0.059211972 1.946371e-03  1.8013303\n",
        "sequBA  1.606077871 6.158485e-02 41.8850794\n",
        "trtB    4.839456607 1.102215e+00 21.2484334\n",
        "period2 2.386210629 6.525770e-01  8.7254092\n",
        "Error in coef(x) : object 'model2' not found\n"
       ]
      }
     ],
     "prompt_number": 72
    },
    {
     "cell_type": "markdown",
     "metadata": {},
     "source": [
      "## Mixed Model using CLMM2"
     ]
    },
    {
     "cell_type": "code",
     "collapsed": false,
     "input": [
      "%%R\n",
      "\n",
      "mm8 <- clmm2(response ~ sequ  + trt + period , random=id, data=f, link=\"probit\",Hess = TRUE, nAGQ = 10  )\n",
      "\n",
      "print(summary(mm8))\n",
      "print(exp(cbind(OR =coef(mm8), confint(mm8))))\n"
     ],
     "language": "python",
     "metadata": {},
     "outputs": [
      {
       "metadata": {},
       "output_type": "display_data",
       "text": [
        "Cumulative Link Mixed Model fitted with the adaptive Gauss-Hermite \n",
        "quadrature approximation with 10 quadrature points\n",
        "\n",
        "Call:\n",
        "clmm2(location = response ~ sequ + trt + period, random = id, \n",
        "    data = f, Hess = TRUE, link = \"probit\", nAGQ = 10)\n",
        "\n",
        "Random effects:\n",
        "        Var  Std.Dev\n",
        "id 27.36553 5.231207\n",
        "\n",
        "Location coefficients:\n",
        "        Estimate Std. Error z value Pr(>|z|) \n",
        "sequBA   0.4738   1.6639     0.2848 0.7758320\n",
        "trtB     1.5768   0.7548     2.0889 0.0367177\n",
        "period2  0.8697   0.6615     1.3147 0.1885985\n",
        "\n",
        "No scale coefficients\n",
        "\n",
        "Threshold coefficients:\n",
        "    Estimate Std. Error z value\n",
        "2|3 -5.7055   2.0567    -2.7741\n",
        "3|4 -2.8266   1.7424    -1.6222\n",
        "\n",
        "log-likelihood: -44.55751 \n",
        "AIC: 101.115 \n",
        "Condition number of Hessian: 434.3575 \n",
        "               OR 2.5 % 97.5 %\n",
        "stDev 0.003327696    NA     NA\n"
       ]
      }
     ],
     "prompt_number": 73
    },
    {
     "cell_type": "code",
     "collapsed": false,
     "input": [
      "%%R\n",
      "\n",
      "mm2 <- clmm(response ~ sequ  + trt + period  + (1 | id:sequ), f,link=\"probit\",  Hess = TRUE, nAGQ = 10  )\n",
      "mmx2 <- clmm(response ~ sequ  + trt + period  + (1 | id:sequ), f,link=\"logit\",  Hess = TRUE, nAGQ = 10  )\n",
      "mmc2 <- clmm(response ~ sequ  + trt + period  + (1 | id:sequ), f,link=\"probit\",  Hess = TRUE )\n",
      "mmv2 <- clmm(response ~ sequ  + trt + period  + (1 | id:sequ), f,link=\"logit\",  Hess = TRUE  )\n",
      "\n",
      "print(anova(mm2,mmx2,mmc2,mmv2))\n",
      "print(coef(mm2))"
     ],
     "language": "python",
     "metadata": {},
     "outputs": [
      {
       "metadata": {},
       "output_type": "display_data",
       "text": [
        "Likelihood ratio tests of cumulative link models:\n",
        " \n",
        "     formula:                                       link:  threshold:\n",
        "mm2  response ~ sequ + trt + period + (1 | id:sequ) probit flexible  \n",
        "mmx2 response ~ sequ + trt + period + (1 | id:sequ) logit  flexible  \n",
        "mmc2 response ~ sequ + trt + period + (1 | id:sequ) probit flexible  \n",
        "mmv2 response ~ sequ + trt + period + (1 | id:sequ) logit  flexible  \n",
        "\n",
        "     no.par     AIC  logLik LR.stat df Pr(>Chisq)\n",
        "mm2       6 101.115 -44.558                      \n",
        "mmx2      6 101.295 -44.648  -0.180  0           \n",
        "mmc2      6  85.043 -36.521  16.252  0           \n",
        "mmv2      6  87.926 -37.963  -2.883  0           \n",
        "       2|3        3|4     sequBA       trtB    period2 \n",
        "-5.7054796 -2.8266315  0.4737951  1.5768024  0.8697066 \n"
       ]
      }
     ],
     "prompt_number": 74
    },
    {
     "cell_type": "markdown",
     "metadata": {},
     "source": [
      "##Binary Analysis\n",
      "\n",
      "Merging all other categories and making a binary logistics regsion.\n",
      "Using glm does not consider the structure"
     ]
    },
    {
     "cell_type": "code",
     "collapsed": false,
     "input": [
      "binary_data = c.get_rm_ws_dataframe()\n",
      "binary_data['response'] = binary_data['response'].replace([1,2,3],[1,1,1])\n",
      "binary_data['response'] = binary_data['response'].replace([4],[2])\n"
     ],
     "language": "python",
     "metadata": {},
     "outputs": [
      {
       "output_type": "stream",
       "stream": "stdout",
       "text": [
        "rm_ws_dataframe - Droping missing records\n",
        "(45, 5)\n",
        "rm_ws_dataframe - remove missing data \n",
        "(45, 5)\n",
        "rm_ws_dataframe - no duplicates \n",
        "(45, 6)\n"
       ]
      }
     ],
     "prompt_number": 75
    },
    {
     "cell_type": "code",
     "collapsed": false,
     "input": [
      "%%R -i binary_data\n",
      "source('regression_plots.r')\n",
      "\n",
      "    s <- data.frame(binary_data)\n",
      "    s$response <- factor(s$response)\n",
      "    s$trt <- factor(s$trt)\n",
      "    s$sequ <- factor(s$sequ)\n",
      "    s$period <- factor(s$period)\n",
      "\n",
      "    ##s <- within(s, Grp <- factor(id:sequ))\n",
      "\n",
      "    mm4 <- glm(response ~ trt + period + sequ , data=s, family=\"binomial\" )\n",
      "\n",
      "    ##mm4 <-clmm(response ~ sequ  +trt+ period + (1 | id:sequ), s,  link=\"probit\",Hess = TRUE, nAGQ = 10 )\n",
      "\n",
      "    \n",
      "    print (summary(mm4))\n",
      "    exp(cbind(OR =coef(mm4), confint(mm4)))\n",
      "    print(exp(cbind(OR =coef(mm4), confint(mm4))))\n",
      "\n",
      "print(exp(coef(mm4)))\n",
      "plot_odds(mm4,'Odds ratios and CI')\n"
     ],
     "language": "python",
     "metadata": {},
     "outputs": [
      {
       "metadata": {},
       "output_type": "display_data",
       "text": [
        "\n",
        "Call:\n",
        "glm(formula = response ~ trt + period + sequ, family = \"binomial\", \n",
        "    data = s)\n",
        "\n",
        "Deviance Residuals: \n",
        "    Min       1Q   Median       3Q      Max  \n",
        "-2.0393   0.5168   0.6039   0.6501   0.9794  \n",
        "\n",
        "Coefficients:\n",
        "            Estimate Std. Error z value Pr(>|z|)\n",
        "(Intercept)   0.4855     0.4494   1.080    0.280\n",
        "trtB          0.6489     0.5458   1.189    0.234\n",
        "period2       0.3125     0.5458   0.572    0.567\n",
        "sequBA        0.8115     0.5458   1.487    0.137\n",
        "\n",
        "(Dispersion parameter for binomial family taken to be 1)\n",
        "\n",
        "    Null deviance: 92.777  on 89  degrees of freedom\n",
        "Residual deviance: 88.072  on 86  degrees of freedom\n",
        "AIC: 96.072\n",
        "\n",
        "Number of Fisher Scoring iterations: 4\n",
        "\n",
        "Waiting for profiling to be done...\n",
        "Waiting for profiling to be done...\n",
        "                  OR     2.5 %   97.5 %\n",
        "(Intercept) 1.625000 0.6849313 4.104937\n",
        "trtB        1.913515 0.6635838 5.825357\n",
        "period2     1.366796 0.4600196 4.050887\n",
        "sequBA      2.251194 0.7810974 6.856291\n",
        "(Intercept)        trtB     period2      sequBA \n",
        "   1.625000    1.913515    1.366796    2.251194 \n",
        "Waiting for profiling to be done...\n"
       ]
      },
      {
       "metadata": {},
       "output_type": "display_data",
       "png": "[encoded data removed]"
      }
     ],
     "prompt_number": 76
    },
    {
     "cell_type": "markdown",
     "metadata": {},
     "source": [
      "#Brancehs Analysis\n",
      "\n",
      "\n",
      "just with the fist measure so becasue none of these package is for structured data. Checkin http://www.r-bloggers.com/ordinal-data/\n",
      "\n",
      "We do some filtering and plot the data just to get an idea.\n"
     ]
    },
    {
     "cell_type": "code",
     "collapsed": false,
     "input": [
      "data_n = c.get_rm_ws_dataframe()\n",
      "data_n =  data_n[data_n['sequ'] == 'AB' ]\n",
      "data_n = data_n.sort(['id','period'])\n",
      "data_n.head(10)"
     ],
     "language": "python",
     "metadata": {},
     "outputs": [
      {
       "output_type": "stream",
       "stream": "stdout",
       "text": [
        "rm_ws_dataframe - Droping missing records\n",
        "(73, 5)\n",
        "rm_ws_dataframe - remove missing data \n",
        "(69, 5)\n",
        "rm_ws_dataframe - no duplicates "
       ]
      },
      {
       "output_type": "stream",
       "stream": "stdout",
       "text": [
        "\n",
        "(69, 6)\n"
       ]
      },
      {
       "html": [
        "<div style=\"max-height:1000px;max-width:1500px;overflow:auto;\">\n",
        "<table border=\"1\" class=\"dataframe\">\n",
        "  <thead>\n",
        "    <tr style=\"text-align: right;\">\n",
        "      <th></th>\n",
        "      <th>response</th>\n",
        "      <th>trt</th>\n",
        "      <th>sequ</th>\n",
        "      <th>period</th>\n",
        "      <th>id</th>\n",
        "    </tr>\n",
        "  </thead>\n",
        "  <tbody>\n",
        "    <tr>\n",
        "      <th>0 </th>\n",
        "      <td> 4</td>\n",
        "      <td> A</td>\n",
        "      <td> AB</td>\n",
        "      <td> 1</td>\n",
        "      <td> 03ebd33fe07a1226f3b98aa8aa13e76e</td>\n",
        "    </tr>\n",
        "    <tr>\n",
        "      <th>69</th>\n",
        "      <td> 4</td>\n",
        "      <td> B</td>\n",
        "      <td> AB</td>\n",
        "      <td> 2</td>\n",
        "      <td> 03ebd33fe07a1226f3b98aa8aa13e76e</td>\n",
        "    </tr>\n",
        "    <tr>\n",
        "      <th>17</th>\n",
        "      <td> 4</td>\n",
        "      <td> A</td>\n",
        "      <td> AB</td>\n",
        "      <td> 1</td>\n",
        "      <td> 0687ef14d441706b211ff0edf9f2ebea</td>\n",
        "    </tr>\n",
        "    <tr>\n",
        "      <th>86</th>\n",
        "      <td> 4</td>\n",
        "      <td> B</td>\n",
        "      <td> AB</td>\n",
        "      <td> 2</td>\n",
        "      <td> 0687ef14d441706b211ff0edf9f2ebea</td>\n",
        "    </tr>\n",
        "    <tr>\n",
        "      <th>18</th>\n",
        "      <td> 2</td>\n",
        "      <td> A</td>\n",
        "      <td> AB</td>\n",
        "      <td> 1</td>\n",
        "      <td> 0ddaf25718c6b4c35bf05ae6335150d4</td>\n",
        "    </tr>\n",
        "    <tr>\n",
        "      <th>87</th>\n",
        "      <td> 4</td>\n",
        "      <td> B</td>\n",
        "      <td> AB</td>\n",
        "      <td> 2</td>\n",
        "      <td> 0ddaf25718c6b4c35bf05ae6335150d4</td>\n",
        "    </tr>\n",
        "    <tr>\n",
        "      <th>19</th>\n",
        "      <td> 4</td>\n",
        "      <td> A</td>\n",
        "      <td> AB</td>\n",
        "      <td> 1</td>\n",
        "      <td> 18da94199bf2471a70d0298958543bb4</td>\n",
        "    </tr>\n",
        "    <tr>\n",
        "      <th>88</th>\n",
        "      <td> 4</td>\n",
        "      <td> B</td>\n",
        "      <td> AB</td>\n",
        "      <td> 2</td>\n",
        "      <td> 18da94199bf2471a70d0298958543bb4</td>\n",
        "    </tr>\n",
        "    <tr>\n",
        "      <th>20</th>\n",
        "      <td> 4</td>\n",
        "      <td> A</td>\n",
        "      <td> AB</td>\n",
        "      <td> 1</td>\n",
        "      <td> 23ba4e6b2b149ba6294bd7e0125b2948</td>\n",
        "    </tr>\n",
        "    <tr>\n",
        "      <th>89</th>\n",
        "      <td> 4</td>\n",
        "      <td> B</td>\n",
        "      <td> AB</td>\n",
        "      <td> 2</td>\n",
        "      <td> 23ba4e6b2b149ba6294bd7e0125b2948</td>\n",
        "    </tr>\n",
        "  </tbody>\n",
        "</table>\n",
        "</div>"
       ],
       "metadata": {},
       "output_type": "pyout",
       "prompt_number": 16,
       "text": [
        "    response trt sequ period                                id\n",
        "0          4   A   AB      1  03ebd33fe07a1226f3b98aa8aa13e76e\n",
        "69         4   B   AB      2  03ebd33fe07a1226f3b98aa8aa13e76e\n",
        "17         4   A   AB      1  0687ef14d441706b211ff0edf9f2ebea\n",
        "86         4   B   AB      2  0687ef14d441706b211ff0edf9f2ebea\n",
        "18         2   A   AB      1  0ddaf25718c6b4c35bf05ae6335150d4\n",
        "87         4   B   AB      2  0ddaf25718c6b4c35bf05ae6335150d4\n",
        "19         4   A   AB      1  18da94199bf2471a70d0298958543bb4\n",
        "88         4   B   AB      2  18da94199bf2471a70d0298958543bb4\n",
        "20         4   A   AB      1  23ba4e6b2b149ba6294bd7e0125b2948\n",
        "89         4   B   AB      2  23ba4e6b2b149ba6294bd7e0125b2948"
       ]
      }
     ],
     "prompt_number": 16
    },
    {
     "cell_type": "markdown",
     "metadata": {},
     "source": [
      "## Repolr and polr\n",
      "For this design the main comparison is the first interaction Treatment vs Control. All the others interactions are controls to see there is not bias.\n",
      "\n",
      "- T1 = T2\n",
      "- C1 = C2\n",
      "\n",
      "\n",
      "The difference between T and C must be very similar\n",
      "\n",
      "T1-C1 = T1-C2 = C1-T2 = C2-T2\n",
      "\n",
      "\n",
      "Paired\n",
      "- T1-C2 \n",
      "- C1-T2 \n",
      "\n",
      "Unpaired\n",
      "- T1-C1\n",
      "- C2-T2"
     ]
    },
    {
     "cell_type": "code",
     "collapsed": false,
     "input": [
      "%%R -i data_n\n",
      "library(repolr)\n",
      "s <- data.frame(data_n)\n",
      "s$response <- factor(s$response)\n",
      "s$trt <- factor(s$trt)\n",
      "s$sequ <- factor(s$sequ)\n",
      "s$period <- factor(s$period)\n",
      "\n",
      "\n",
      " ## fit uniform correlation model to achilles tendon rupture data\n",
      "    fitted.mod <- repolr(formula=response~trt*period, subjects=\"id\",\n",
      "    data=s, categories=4, times=c(1,2), corstr=\"uniform\", tol=0.01,\n",
      "    scalevalue=1, alpha=0.5, po.test=TRUE, fixed=FALSE)\n",
      "    summary(fitted.mod[[\"gee\"]])\n",
      "    fitted.mod[[\"corr\"]]\n",
      "\n"
     ],
     "language": "python",
     "metadata": {},
     "outputs": [
      {
       "output_type": "stream",
       "stream": "stdout",
       "text": [
        " working correlation model:  uniform \n",
        "Beginning Cgee S-function, @(#) geeformula.q 4.13 98/01/27\n",
        "Error in gee(formula, data = exdata$exdata, id = exdata$exdata$subjects,  : \n",
        "  rank-deficient model matrix\n",
        "In addition: Warning messages:\n",
        "1: In Ops.factor(data[, j], i) : \u2018<=\u2019 not meaningful for factors\n",
        "2: In Ops.factor(data[, j], i) : \u2018<=\u2019 not meaningful for factors\n",
        "3: In Ops.factor(data[, j], i) : \u2018<=\u2019 not meaningful for factors\n",
        "Error in gee(formula, data = exdata$exdata, id = exdata$exdata$subjects,  : \n",
        "  rank-deficient model matrix\n"
       ]
      }
     ],
     "prompt_number": 23
    },
    {
     "cell_type": "code",
     "collapsed": false,
     "input": [
      "data =  data_n[data_n['period'] == '1' ]"
     ],
     "language": "python",
     "metadata": {},
     "outputs": []
    },
    {
     "cell_type": "code",
     "collapsed": false,
     "input": [
      "%%R -i data\n",
      "\n",
      "\n",
      "s <- data.frame(data)\n",
      "s$response <- factor(s$response)\n",
      "s$trt <- factor(s$trt)\n",
      "s$sequ <- factor(s$sequ)\n",
      "s$period <- factor(s$period)\n",
      "\n",
      "\n",
      "mosaicplot(\n",
      "    xtabs( ~trt + factor(response,levels=1:4) ,data=s),\n",
      "    color=colorRampPalette(c('green','red'))(5),\n",
      "    main='',\n",
      "    ylab='Response')\n",
      "\n"
     ],
     "language": "python",
     "metadata": {},
     "outputs": [
      {
       "metadata": {},
       "output_type": "display_data",
       "png": "[encoded data removed]"
      }
     ],
     "prompt_number": 78
    },
    {
     "cell_type": "markdown",
     "metadata": {},
     "source": [
      "##polr\n",
      "The first statistically correct way to look at the data is polr from the MASS package. Unfortunately I dislike the output a bit. For instance, base level (cheese A) is ignored in some output. I am not so sure how to interpret the difference between cheese A and cheese B as -3 except for the observation that it is significant and cheese A is better. A thing not obvious documented is the possibility to get proportions for the categories as predictions. So, I can learn that the model has for cheese A 17% of the people in the top 2 box. I am sure top 2 box is a parameter I won't have to explain to my product manager. No confidence interval for it though."
     ]
    },
    {
     "cell_type": "code",
     "collapsed": false,
     "input": [
      "%%R \n",
      "library(MASS)\n",
      "Res.polr <- polr( response ~ trt , data=s )\n",
      "summary(Res.polr)\n"
     ],
     "language": "python",
     "metadata": {},
     "outputs": [
      {
       "metadata": {},
       "output_type": "display_data",
       "text": [
        "\n",
        "Re-fitting to get Hessian\n",
        "\n",
        "Call:\n",
        "polr(formula = response ~ trt, data = s)\n",
        "\n",
        "Coefficients:\n",
        "     Value Std. Error t value\n",
        "trtB 1.361     0.7567   1.798\n",
        "\n",
        "Intercepts:\n",
        "    Value   Std. Error t value\n",
        "2|3 -1.5537  0.5314    -2.9236\n",
        "3|4 -0.5458  0.4413    -1.2368\n",
        "\n",
        "Residual Deviance: 61.63528 \n",
        "AIC: 67.63528 \n"
       ]
      }
     ],
     "prompt_number": 79
    },
    {
     "cell_type": "code",
     "collapsed": false,
     "input": [
      "%%R \n",
      "confint(Res.polr)"
     ],
     "language": "python",
     "metadata": {},
     "outputs": [
      {
       "metadata": {},
       "output_type": "display_data",
       "text": [
        "Waiting for profiling to be done...\n",
        "\n",
        "Re-fitting to get Hessian\n",
        "\n",
        "      2.5 %      97.5 % \n",
        "-0.04799421  3.00264606 \n"
       ]
      }
     ],
     "prompt_number": 80
    },
    {
     "cell_type": "code",
     "collapsed": false,
     "input": [
      "%%R \n",
      "confint(glht(Res.polr,linfct=mcp(trt='B')))"
     ],
     "language": "python",
     "metadata": {},
     "outputs": [
      {
       "output_type": "stream",
       "stream": "stdout",
       "text": [
        "Error in confint(glht(Res.polr, linfct = mcp(trt = \"B\"))) : \n",
        "  could not find function \"glht\"\n",
        "In addition: Warning message:\n",
        "In cbind(OR = coef(mm8), confint(mm8)) :\n",
        "  number of rows of result is not a multiple of vector length (arg 1)\n",
        "Error in confint(glht(Res.polr, linfct = mcp(trt = \"B\"))) : \n",
        "  could not find function \"glht\"\n"
       ]
      }
     ],
     "prompt_number": 81
    },
    {
     "cell_type": "markdown",
     "metadata": {},
     "source": [
      "##clm\n",
      "Clm is from the ordinal package. As this package is dedicated to ordinal data it is clearly a bit more advanced than polr. The package has the possibility to use mixed models and multiplicative scale effects. These are things I won't use now, but would like to use or look at once I have panelist data. For now clm function is enough. I am now able to make an overall statement about product differences (polr did not calculate the equivalent of model Res.clm0), although I might use 3 degrees of freedom rather than 1. There is also a confidence interval for the proportion subjects selecting a category.\n"
     ]
    },
    {
     "cell_type": "code",
     "collapsed": false,
     "input": [
      "%%R \n",
      "library(ordinal)\n",
      "Res.clm <- clm(response ~ trt,data=s)\n",
      "summary(Res.clm)"
     ],
     "language": "python",
     "metadata": {},
     "outputs": [
      {
       "metadata": {},
       "output_type": "display_data",
       "text": [
        "formula: response ~ trt\n",
        "data:    s\n",
        "\n",
        " link  threshold nobs logLik AIC   niter max.grad cond.H \n",
        " logit flexible  45   -30.82 67.64 5(0)  2.38e-09 1.2e+01\n",
        "\n",
        "Coefficients:\n",
        "     Estimate Std. Error z value Pr(>|z|)  \n",
        "trtB   1.3610     0.7567   1.799   0.0721 .\n",
        "---\n",
        "Signif. codes:  0 \u2018***\u2019 0.001 \u2018**\u2019 0.01 \u2018*\u2019 0.05 \u2018.\u2019 0.1 \u2018 \u2019 1\n",
        "\n",
        "Threshold coefficients:\n",
        "    Estimate Std. Error z value\n",
        "2|3  -1.5535     0.5314  -2.923\n",
        "3|4  -0.5457     0.4413  -1.237\n"
       ]
      }
     ],
     "prompt_number": 82
    },
    {
     "cell_type": "code",
     "collapsed": false,
     "input": [],
     "language": "python",
     "metadata": {},
     "outputs": [],
     "prompt_number": 82
    },
    {
     "cell_type": "code",
     "collapsed": false,
     "input": [],
     "language": "python",
     "metadata": {},
     "outputs": [],
     "prompt_number": 82
    },
    {
     "cell_type": "code",
     "collapsed": false,
     "input": [
      "%%R  \n",
      "confint(Res.clm)"
     ],
     "language": "python",
     "metadata": {},
     "outputs": [
      {
       "metadata": {},
       "output_type": "display_data",
       "text": [
        "           2.5 %  97.5 %\n",
        "trtB -0.04799016 3.00253\n"
       ]
      }
     ],
     "prompt_number": 83
    },
    {
     "cell_type": "code",
     "collapsed": false,
     "input": [],
     "language": "python",
     "metadata": {},
     "outputs": [],
     "prompt_number": 83
    },
    {
     "cell_type": "code",
     "collapsed": false,
     "input": [
      "%%R \n",
      "Res.clm0 <- clm(response ~ .,data=s)\n",
      "anova(Res.clm0,Res.clm)"
     ],
     "language": "python",
     "metadata": {},
     "outputs": [
      {
       "output_type": "stream",
       "stream": "stdout",
       "text": [
        "Error in `contrasts<-`(`*tmp*`, value = contr.funs[1 + isOF[nn]]) : \n",
        "  contrasts can be applied only to factors with 2 or more levels\n"
       ]
      }
     ],
     "prompt_number": 84
    },
    {
     "cell_type": "code",
     "collapsed": false,
     "input": [],
     "language": "python",
     "metadata": {},
     "outputs": [],
     "prompt_number": 84
    },
    {
     "cell_type": "code",
     "collapsed": false,
     "input": [],
     "language": "python",
     "metadata": {},
     "outputs": [],
     "prompt_number": 84
    },
    {
     "cell_type": "code",
     "collapsed": false,
     "input": [],
     "language": "python",
     "metadata": {},
     "outputs": []
    }
   ],
   "metadata": {}
  }
 ]
}