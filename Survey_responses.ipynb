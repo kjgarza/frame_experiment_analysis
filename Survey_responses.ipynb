{
 "metadata": {
  "name": "",
  "signature": "sha256:ca6c0e3cde437b76c5e301e034aa11aaaf08d33607b40838df640ce67781a9b9"
 },
 "nbformat": 3,
 "nbformat_minor": 0,
 "worksheets": [
  {
   "cells": [
    {
     "cell_type": "code",
     "collapsed": false,
     "input": [
      "%matplotlib inline\n",
      "import numpy as np\n",
      "import pandas as pd\n",
      "import matplotlib.pyplot as plt\n",
      "from ggplot import *\n",
      "import json\n",
      "from frame_experiment_table import FrameExperimentTable\n",
      "from __future__ import division"
     ],
     "language": "python",
     "metadata": {},
     "outputs": [],
     "prompt_number": 1
    },
    {
     "cell_type": "code",
     "collapsed": false,
     "input": [
      "%pylab inline\n",
      "%load_ext rpy2.ipython\n",
      "%reload_ext rpy2.ipython\n",
      "import pylab\n",
      "%R rm(list=ls())"
     ],
     "language": "python",
     "metadata": {},
     "outputs": [
      {
       "output_type": "stream",
       "stream": "stdout",
       "text": [
        "Populating the interactive namespace from numpy and matplotlib\n"
       ]
      },
      {
       "output_type": "stream",
       "stream": "stderr",
       "text": [
        "WARNING: pylab import has clobbered these variables: ['xlim', 'ylim']\n",
        "`%matplotlib` prevents importing * from pylab and numpy\n"
       ]
      }
     ],
     "prompt_number": 2
    },
    {
     "cell_type": "markdown",
     "metadata": {},
     "source": [
      "#Load data"
     ]
    },
    {
     "cell_type": "code",
     "collapsed": false,
     "input": [
      "new = 1\n",
      "if new == 0: \n",
      "    f = FrameExperimentTable('logs/data_incremental_file')\n",
      "    f.add_records('logs/data_two_records','new')\n",
      "    f.add_records_csv('logs/data_scramble_filled_csv.csv')\n",
      "else:\n",
      "    f = FrameExperimentTable('logs/data_scenario_changed')\n",
      "f.filter_noise()\n",
      "f.code_for_stat_ana()\n",
      "f.code_survey_numeric()\n",
      "new_data = f.get_rm_ws_dataframe()"
     ],
     "language": "python",
     "metadata": {},
     "outputs": [
      {
       "output_type": "stream",
       "stream": "stdout",
       "text": [
        "(55, 40)\n",
        "classify_field - Fields Excluded"
       ]
      },
      {
       "output_type": "stream",
       "stream": "stdout",
       "text": [
        "\n",
        "(6,)\n",
        "(55, 42)\n",
        "New Usability Columns\n",
        "(55, 44)\n",
        "set([1, 2])"
       ]
      },
      {
       "output_type": "stream",
       "stream": "stdout",
       "text": [
        "\n",
        "multi\n",
        "set([1, 3])\n",
        "multi\n",
        "set([1])\n",
        "e-mail\n",
        "set([1, 2])\n",
        "multi\n",
        "set([1])\n",
        "e-mail\n",
        "set([3])\n",
        "self-depositing\n",
        "set([1, 3])\n",
        "multi\n",
        "set([2])\n",
        "self-depositing\n",
        "set([1, 2])\n",
        "multi\n",
        "set([3])\n",
        "self-depositing\n",
        "set([1])\n",
        "e-mail\n",
        "set([1, 2])\n",
        "multi\n",
        "set([2])\n",
        "self-depositing\n",
        "set([1])\n",
        "e-mail\n",
        "set([1, 2, 3])\n",
        "multi\n",
        "set([1])\n",
        "e-mail\n",
        "set([2])\n",
        "self-depositing\n",
        "set([2])\n",
        "self-depositing\n",
        "set([1, 3])\n",
        "multi\n",
        "set([1])\n",
        "e-mail\n",
        "set([4])\n",
        "Never\n",
        "set([1, 3])\n",
        "multi\n",
        "set([2])\n",
        "self-depositing\n",
        "set([4])\n",
        "Never\n",
        "set([2])\n",
        "self-depositing\n",
        "set([1, 3])\n",
        "multi\n",
        "set([2])\n",
        "self-depositing\n",
        "set([1, 3])\n",
        "multi\n",
        "set([2])\n",
        "self-depositing\n",
        "set([])\n",
        "\n",
        "set([2])\n",
        "self-depositing\n",
        "set([2])\n",
        "self-depositing\n",
        "set([1])\n",
        "e-mail\n",
        "set([2, 3])\n",
        "self-depositing\n",
        "set([2])\n",
        "self-depositing\n",
        "set([])\n",
        "\n",
        "set([4])\n",
        "Never\n",
        "set([])\n",
        "\n",
        "set([3, 4])\n",
        "Never\n",
        "set([])\n",
        "\n",
        "set([1, 2])\n",
        "multi\n",
        "set([1, 2])\n",
        "multi\n",
        "set([4])\n",
        "Never\n",
        "set([])\n",
        "\n",
        "set([1, 2, 3])\n",
        "multi\n",
        "set([2])\n",
        "self-depositing\n",
        "set([2])\n",
        "self-depositing\n",
        "set([3])\n",
        "self-depositing\n",
        "set([1, 2])\n",
        "multi\n",
        "set([1, 2, 3])\n",
        "multi\n",
        "set([])\n",
        "\n",
        "set([1, 2])\n",
        "multi\n",
        "set([2, 3])\n",
        "self-depositing\n",
        "set([2, 3])\n",
        "self-depositing\n",
        "set([1])\n",
        "e-mail\n",
        "Total\n",
        "55\n",
        "Removing testing\n",
        "2\n",
        "Removing Random\n",
        "5\n",
        "Removing Not Life Sciences\n",
        "2\n",
        "Removing Not enlgish skilled\n",
        "5\n",
        "Removing Not Honest\n",
        "6\n",
        "Removing unaware\n",
        "0\n",
        "Removing Not answer\n",
        "1\n",
        "Removing Not answer\n",
        "0\n",
        "Total\n",
        "34\n",
        "(40, 44)\n",
        "rm_ws_dataframe - Droping missing records\n",
        "(40, 5)\n",
        "rm_ws_dataframe - remove missing data \n",
        "(40, 5)\n",
        "rm_ws_dataframe - no duplicates "
       ]
      },
      {
       "output_type": "stream",
       "stream": "stdout",
       "text": [
        "\n",
        "(40, 6)\n",
        "4    63\n",
        "3    10\n",
        "2     7\n",
        "dtype: int64"
       ]
      },
      {
       "output_type": "stream",
       "stream": "stdout",
       "text": [
        "\n"
       ]
      },
      {
       "output_type": "stream",
       "stream": "stderr",
       "text": [
        "/Users/kristian/miniconda/lib/python2.7/site-packages/pandas/util/decorators.py:81: FutureWarning: the 'cols' keyword is deprecated, use 'subset' instead\n",
        "  warnings.warn(msg, FutureWarning)\n"
       ]
      }
     ],
     "prompt_number": 3
    },
    {
     "cell_type": "code",
     "collapsed": false,
     "input": [
      "sequ_AB = f.code_for_stat_ana()[f.code_for_stat_ana().treatment_eval_1 == 'B'][['trust','when_best','frequency','updating']]\n",
      "sequ_BA = f.code_for_stat_ana()[f.code_for_stat_ana().treatment_eval_1 == 'A'][['trust','when_best','frequency','updating']]"
     ],
     "language": "python",
     "metadata": {},
     "outputs": [
      {
       "output_type": "stream",
       "stream": "stdout",
       "text": [
        "(40, 44)\n",
        "(40, 44)\n",
        "(40, 44)\n",
        "(40, 44)\n"
       ]
      }
     ],
     "prompt_number": 4
    },
    {
     "cell_type": "markdown",
     "metadata": {},
     "source": [
      "#Trust analysis"
     ]
    },
    {
     "cell_type": "code",
     "collapsed": false,
     "input": [
      "sequ_AB_trust = sequ_AB.groupby('trust')['trust'].count()\n",
      "sequ_BA_trust = sequ_BA.groupby('trust')['trust'].count()\n",
      "sequ_AB_trust.index = ['A', 'B']\n",
      "sequ_BA_trust.index = ['B', 'A']"
     ],
     "language": "python",
     "metadata": {},
     "outputs": [],
     "prompt_number": 5
    },
    {
     "cell_type": "code",
     "collapsed": false,
     "input": [
      "sequ_AB_trust.sort_index().plot(kind='bar', alpha=0.5)\n",
      "sequ_BA_trust.sort_index().plot(kind='bar', color='green', alpha=0.5)"
     ],
     "language": "python",
     "metadata": {},
     "outputs": [
      {
       "metadata": {},
       "output_type": "pyout",
       "prompt_number": 6,
       "text": [
        "<matplotlib.axes._subplots.AxesSubplot at 0x10c521fd0>"
       ]
      },
      {
       "metadata": {},
       "output_type": "display_data",
       "png": "[encoded data removed]",
       "text": [
        "<matplotlib.figure.Figure at 0x10577c390>"
       ]
      }
     ],
     "prompt_number": 6
    },
    {
     "cell_type": "code",
     "collapsed": false,
     "input": [
      "import random as rnd \n",
      "sequ_AB_t = sequ_AB['trust'].replace(['first','second'],['A','B']).dropna().tolist()\n",
      "sequ_BA_t = sequ_BA['trust'].replace(['first','second'],['B','A']).dropna().tolist()\n",
      "sequ_BA_t = [ sequ_BA_t[i] for i in sorted(rnd.sample((xrange(len(sequ_BA_t))),17)) ]\n",
      "len(sequ_BA_t)"
     ],
     "language": "python",
     "metadata": {},
     "outputs": [
      {
       "metadata": {},
       "output_type": "pyout",
       "prompt_number": 7,
       "text": [
        "17"
       ]
      }
     ],
     "prompt_number": 7
    },
    {
     "cell_type": "code",
     "collapsed": false,
     "input": [
      "%%R -i  sequ_AB_t -i sequ_BA_t\n",
      "library(MASS) \n",
      "tbl = table(sequ_AB_t, sequ_BA_t) \n",
      "print(tbl)\n",
      "chisq.test(tbl) "
     ],
     "language": "python",
     "metadata": {},
     "outputs": [
      {
       "metadata": {},
       "output_type": "display_data",
       "text": [
        "         sequ_BA_t\n",
        "sequ_AB_t A B\n",
        "        A 5 5\n",
        "        B 5 2\n",
        "\n",
        "\tPearson's Chi-squared test with Yates' continuity correction\n",
        "\n",
        "data:  tbl\n",
        "X-squared = 0.1466, df = 1, p-value = 0.7018\n",
        "\n"
       ]
      }
     ],
     "prompt_number": 8
    },
    {
     "cell_type": "markdown",
     "metadata": {},
     "source": [
      "> even when the control is more trusted there is not statistical significance on this result"
     ]
    },
    {
     "cell_type": "markdown",
     "metadata": {},
     "source": [
      "# When best analysis"
     ]
    },
    {
     "cell_type": "code",
     "collapsed": false,
     "input": [
      "sequ_AB_when_best = sequ_AB.groupby('when_best')['when_best'].count()\n",
      "sequ_BA_when_best = sequ_BA.groupby('when_best')['when_best'].count()\n",
      "# sequ_AB_when_best = sequ_AB.groupby('when_best')['when_best']\n",
      "# sequ_BA_when_best = sequ_BA.groupby('when_best')['when_best']\n"
     ],
     "language": "python",
     "metadata": {},
     "outputs": [],
     "prompt_number": 9
    },
    {
     "cell_type": "code",
     "collapsed": false,
     "input": [
      "sequ_BA_when_best.sort_index().plot(kind='bar', color='green', alpha=0.5)\n"
     ],
     "language": "python",
     "metadata": {},
     "outputs": [
      {
       "metadata": {},
       "output_type": "pyout",
       "prompt_number": 10,
       "text": [
        "<matplotlib.axes._subplots.AxesSubplot at 0x10577c150>"
       ]
      },
      {
       "metadata": {},
       "output_type": "display_data",
       "png": "[encoded data removed]",
       "text": [
        "<matplotlib.figure.Figure at 0x10ce26610>"
       ]
      }
     ],
     "prompt_number": 10
    },
    {
     "cell_type": "code",
     "collapsed": false,
     "input": [
      "sequ_AB_when_best.sort_index().plot(kind='bar', alpha=0.5)"
     ],
     "language": "python",
     "metadata": {},
     "outputs": [
      {
       "metadata": {},
       "output_type": "pyout",
       "prompt_number": 11,
       "text": [
        "<matplotlib.axes._subplots.AxesSubplot at 0x10ce4f310>"
       ]
      },
      {
       "metadata": {},
       "output_type": "display_data",
       "png": "[encoded data removed]",
       "text": [
        "<matplotlib.figure.Figure at 0x10c7ec650>"
       ]
      }
     ],
     "prompt_number": 11
    },
    {
     "cell_type": "code",
     "collapsed": false,
     "input": [
      "sequ_AB_when_best = sequ_AB['when_best']\n",
      "sequ_BA_when_best = sequ_BA['when_best']"
     ],
     "language": "python",
     "metadata": {},
     "outputs": [],
     "prompt_number": 12
    },
    {
     "cell_type": "code",
     "collapsed": false,
     "input": [
      "%%R -i  sequ_AB_when_best -i sequ_BA_when_best\n",
      "\n",
      "wilcox.test(sequ_AB_when_best, sequ_BA_when_best, conf.int = TRUE, conf.level = 0.95, paired=FALSE)"
     ],
     "language": "python",
     "metadata": {},
     "outputs": [
      {
       "metadata": {},
       "output_type": "display_data",
       "text": [
        "\n",
        "\tWilcoxon rank sum test with continuity correction\n",
        "\n",
        "data:  sequ_AB_when_best and sequ_BA_when_best\n",
        "W = 223.5, p-value = 0.417\n",
        "alternative hypothesis: true location shift is not equal to 0\n",
        "95 percent confidence interval:\n",
        " -1.859681e-05  7.830231e-07\n",
        "sample estimates:\n",
        "difference in location \n",
        "          4.468831e-05 \n",
        "\n"
       ]
      }
     ],
     "prompt_number": 13
    },
    {
     "cell_type": "code",
     "collapsed": false,
     "input": [
      "seqf = sequ_AB_when_best.tolist()\n",
      "seqs = sequ_BA_when_best.tolist()\n",
      "seqf = seqf[0:19]"
     ],
     "language": "python",
     "metadata": {},
     "outputs": [],
     "prompt_number": 14
    },
    {
     "cell_type": "code",
     "collapsed": false,
     "input": [
      "%%R -i  seqf -i seqs\n",
      "library(MASS) \n",
      "tbl = table(seqf, seqs) \n",
      "print(tbl)\n",
      "chisq.test(tbl) "
     ],
     "language": "python",
     "metadata": {},
     "outputs": [
      {
       "metadata": {},
       "output_type": "display_data",
       "text": [
        "    seqs\n",
        "seqf  4  5  6\n",
        "   2  0  1  0\n",
        "   4  0  1  0\n",
        "   5  1 11  2\n",
        "   6  2  1  0\n",
        "\n",
        "\tPearson's Chi-squared test\n",
        "\n",
        "data:  tbl\n",
        "X-squared = 7.5074, df = 6, p-value = 0.2765\n",
        "\n"
       ]
      }
     ],
     "prompt_number": 15
    },
    {
     "cell_type": "markdown",
     "metadata": {},
     "source": [
      "# Frenqeucy analysis"
     ]
    },
    {
     "cell_type": "code",
     "collapsed": false,
     "input": [
      "sequ_fr = f.code_for_stat_ana().groupby('frequency')['frequency'].count()\n",
      "sequ_fr.sort_index().plot(kind='bar')"
     ],
     "language": "python",
     "metadata": {},
     "outputs": [
      {
       "output_type": "stream",
       "stream": "stdout",
       "text": [
        "(40, 44)\n"
       ]
      },
      {
       "metadata": {},
       "output_type": "pyout",
       "prompt_number": 16,
       "text": [
        "<matplotlib.axes._subplots.AxesSubplot at 0x10e1dd810>"
       ]
      },
      {
       "metadata": {},
       "output_type": "display_data",
       "png": "[encoded data removed]",
       "text": [
        "<matplotlib.figure.Figure at 0x10e1e74d0>"
       ]
      }
     ],
     "prompt_number": 16
    },
    {
     "cell_type": "code",
     "collapsed": false,
     "input": [
      "sequ_AB_fr = sequ_AB.groupby('frequency')['frequency'].count()\n",
      "sequ_BA_fr = sequ_BA.groupby('frequency')['frequency'].count()"
     ],
     "language": "python",
     "metadata": {},
     "outputs": [],
     "prompt_number": 17
    },
    {
     "cell_type": "code",
     "collapsed": false,
     "input": [],
     "language": "python",
     "metadata": {},
     "outputs": [],
     "prompt_number": 17
    },
    {
     "cell_type": "code",
     "collapsed": false,
     "input": [
      "sequ_AB_fr.sort_index().plot(kind='bar', alpha=0.5)"
     ],
     "language": "python",
     "metadata": {},
     "outputs": [
      {
       "metadata": {},
       "output_type": "pyout",
       "prompt_number": 18,
       "text": [
        "<matplotlib.axes._subplots.AxesSubplot at 0x11348a250>"
       ]
      },
      {
       "metadata": {},
       "output_type": "display_data",
       "png": "[encoded data removed]",
       "text": [
        "<matplotlib.figure.Figure at 0x113778150>"
       ]
      }
     ],
     "prompt_number": 18
    },
    {
     "cell_type": "code",
     "collapsed": false,
     "input": [
      "sequ_BA_fr.sort_index().plot(kind='bar', alpha=0.5)"
     ],
     "language": "python",
     "metadata": {},
     "outputs": [
      {
       "metadata": {},
       "output_type": "pyout",
       "prompt_number": 19,
       "text": [
        "<matplotlib.axes._subplots.AxesSubplot at 0x10e1c0a90>"
       ]
      },
      {
       "metadata": {},
       "output_type": "display_data",
       "png": "[encoded data removed]",
       "text": [
        "<matplotlib.figure.Figure at 0x1137a8e50>"
       ]
      }
     ],
     "prompt_number": 19
    },
    {
     "cell_type": "code",
     "collapsed": false,
     "input": [
      "sequ_AB_f = sequ_AB['frequency'].dropna().tolist()\n",
      "sequ_BA_f = sequ_BA['frequency'].dropna().tolist()\n",
      "seqs = sequ_AB_f\n",
      "seqf = sequ_BA_f\n",
      "seqs =  [ seqs[i] for i in sorted(rnd.sample((xrange(len(seqs))),18)) ]\n",
      "len(seqs)"
     ],
     "language": "python",
     "metadata": {},
     "outputs": [
      {
       "metadata": {},
       "output_type": "pyout",
       "prompt_number": 20,
       "text": [
        "18"
       ]
      }
     ],
     "prompt_number": 20
    },
    {
     "cell_type": "code",
     "collapsed": false,
     "input": [
      "%%R -i  seqs -i seqf\n",
      "library(MASS) \n",
      "tbl = table(seqs, seqf) \n",
      "print(tbl)\n",
      "chisq.test(tbl) "
     ],
     "language": "python",
     "metadata": {},
     "outputs": [
      {
       "metadata": {},
       "output_type": "display_data",
       "text": [
        "    seqf\n",
        "seqs 1 2 3 4 5\n",
        "   1 0 0 0 1 0\n",
        "   2 2 1 2 1 0\n",
        "   3 0 1 0 2 0\n",
        "   4 1 0 0 0 1\n",
        "   5 0 0 0 5 1\n",
        "\n",
        "\tPearson's Chi-squared test\n",
        "\n",
        "data:  tbl\n",
        "X-squared = 18.8333, df = 16, p-value = 0.2774\n",
        "\n"
       ]
      }
     ],
     "prompt_number": 21
    },
    {
     "cell_type": "code",
     "collapsed": false,
     "input": [],
     "language": "python",
     "metadata": {},
     "outputs": [],
     "prompt_number": 21
    },
    {
     "cell_type": "code",
     "collapsed": false,
     "input": [
      "sequ_up = f.code_for_stat_ana().groupby('updating')['updating'].count()\n",
      "sequ_up.sort_index().plot(kind='bar')\n",
      "sequ_AB_up = sequ_AB.groupby('updating')['updating'].count()\n",
      "sequ_BA_up = sequ_BA.groupby('updating')['updating'].count()"
     ],
     "language": "python",
     "metadata": {},
     "outputs": [
      {
       "output_type": "stream",
       "stream": "stdout",
       "text": [
        "(40, 44)\n"
       ]
      },
      {
       "metadata": {},
       "output_type": "display_data",
       "png": "[encoded data removed]",
       "text": [
        "<matplotlib.figure.Figure at 0x115d3a950>"
       ]
      }
     ],
     "prompt_number": 26
    },
    {
     "cell_type": "code",
     "collapsed": false,
     "input": [
      "sequ_BA_up.sort_index().plot(kind='bar', alpha=0.5, color='green')\n",
      "sequ_AB_up.sort_index().plot(kind='bar', alpha=0.5)\n"
     ],
     "language": "python",
     "metadata": {},
     "outputs": [
      {
       "metadata": {},
       "output_type": "pyout",
       "prompt_number": 29,
       "text": [
        "<matplotlib.axes._subplots.AxesSubplot at 0x10fb5cb10>"
       ]
      },
      {
       "metadata": {},
       "output_type": "display_data",
       "png": "[encoded data removed]",
       "text": [
        "<matplotlib.figure.Figure at 0x115cd3450>"
       ]
      }
     ],
     "prompt_number": 29
    },
    {
     "cell_type": "code",
     "collapsed": false,
     "input": [
      "16/len(sequ_up)"
     ],
     "language": "python",
     "metadata": {},
     "outputs": [
      {
       "metadata": {},
       "output_type": "pyout",
       "prompt_number": 24,
       "text": [
        "16.0"
       ]
      }
     ],
     "prompt_number": 24
    },
    {
     "cell_type": "code",
     "collapsed": false,
     "input": [
      "f.code_for_stat_ana().groupby('updating')['updating']"
     ],
     "language": "python",
     "metadata": {},
     "outputs": [
      {
       "output_type": "stream",
       "stream": "stdout",
       "text": [
        "(40, 44)\n"
       ]
      },
      {
       "metadata": {},
       "output_type": "pyout",
       "prompt_number": 25,
       "text": [
        "<pandas.core.groupby.SeriesGroupBy object at 0x115e05550>"
       ]
      }
     ],
     "prompt_number": 25
    },
    {
     "cell_type": "code",
     "collapsed": false,
     "input": [],
     "language": "python",
     "metadata": {},
     "outputs": []
    }
   ],
   "metadata": {}
  }
 ]
}