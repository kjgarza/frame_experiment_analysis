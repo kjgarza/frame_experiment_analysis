{
 "metadata": {
  "name": "",
  "signature": "sha256:472aba58728426a9239f21df4499dc3f368e0793427deb89b240f6ba8731bac5"
 },
 "nbformat": 3,
 "nbformat_minor": 0,
 "worksheets": [
  {
   "cells": [
    {
     "cell_type": "markdown",
     "metadata": {},
     "source": [
      "# Frame Experiment Analysis\n",
      "\n",
      "<i>Created by Kristian G</i>"
     ]
    },
    {
     "cell_type": "heading",
     "level": 3,
     "metadata": {},
     "source": [
      "Preliminaries"
     ]
    },
    {
     "cell_type": "code",
     "collapsed": false,
     "input": [
      "%matplotlib inline\n",
      "import numpy as np\n",
      "import pandas as pd\n",
      "import matplotlib.pyplot as plt\n",
      "import seaborn as sns\n",
      "from extract_data import datatoFrame\n",
      "from code_data import *\n",
      "from wordcloud import WordCloud\n",
      "from ggplot import *\n",
      "import json"
     ],
     "language": "python",
     "metadata": {},
     "outputs": [],
     "prompt_number": 2
    },
    {
     "cell_type": "code",
     "collapsed": false,
     "input": [
      "#seaborn settings\n",
      "sns.set_palette(\"deep\", desat=.6)\n",
      "sns.set_context(rc={\"figure.figsize\": (8,4)})"
     ],
     "language": "python",
     "metadata": {},
     "outputs": [],
     "prompt_number": 3
    },
    {
     "cell_type": "heading",
     "level": 3,
     "metadata": {},
     "source": [
      "Load Data Sets"
     ]
    },
    {
     "cell_type": "code",
     "collapsed": false,
     "input": [
      "data1 = datatoFrame('logs/data_jennifer_bham', 'dummy4', 'old')\n",
      "data2 = datatoFrame('logs/data_two_records', 'dummy4','new')\n",
      "# data = datatoFrame('logs/delete_scrambledata', 'dummy5')\n",
      "\n",
      "mydict = pd.DataFrame.from_csv('logs/data_scramble_in_csv.csv', sep=',', index_col=0)\n",
      "data = mydict\n",
      "data1"
     ],
     "language": "python",
     "metadata": {},
     "outputs": [
      {
       "html": [
        "<div style=\"max-height:1000px;max-width:1500px;overflow:auto;\">\n",
        "<table border=\"1\" class=\"dataframe\">\n",
        "  <thead>\n",
        "    <tr style=\"text-align: right;\">\n",
        "      <th></th>\n",
        "      <th>data_file_title_1</th>\n",
        "      <th>time_create</th>\n",
        "      <th>when_to_1</th>\n",
        "      <th>with_who_1</th>\n",
        "    </tr>\n",
        "    <tr>\n",
        "      <th>sessionid</th>\n",
        "      <th></th>\n",
        "      <th></th>\n",
        "      <th></th>\n",
        "      <th></th>\n",
        "    </tr>\n",
        "  </thead>\n",
        "  <tbody>\n",
        "    <tr>\n",
        "      <th>73cd08d3f841f5a9f085fd88a7694216</th>\n",
        "      <td> My Dataset</td>\n",
        "      <td> 1423313906</td>\n",
        "      <td>NaN</td>\n",
        "      <td> public</td>\n",
        "    </tr>\n",
        "  </tbody>\n",
        "</table>\n",
        "</div>"
       ],
       "metadata": {},
       "output_type": "pyout",
       "prompt_number": 4,
       "text": [
        "                                 data_file_title_1  time_create  when_to_1  \\\n",
        "sessionid                                                                    \n",
        "73cd08d3f841f5a9f085fd88a7694216        My Dataset   1423313906        NaN   \n",
        "\n",
        "                                 with_who_1  \n",
        "sessionid                                    \n",
        "73cd08d3f841f5a9f085fd88a7694216     public  "
       ]
      }
     ],
     "prompt_number": 4
    },
    {
     "cell_type": "code",
     "collapsed": false,
     "input": [
      "pieces = [data, data1, data2]\n",
      "concatenated = pd.concat(pieces)\n",
      "#Validating tools\n",
      "# concatenated = datatoFrame('logs/delete_validation_data2', 'dummy5','new')\n",
      "\n",
      "concatenated"
     ],
     "language": "python",
     "metadata": {},
     "outputs": [
      {
       "html": [
        "<div style=\"max-height:1000px;max-width:1500px;overflow:auto;\">\n",
        "<table border=\"1\" class=\"dataframe\">\n",
        "  <thead>\n",
        "    <tr style=\"text-align: right;\">\n",
        "      <th></th>\n",
        "      <th>academic</th>\n",
        "      <th>awareness</th>\n",
        "      <th>data_file_title_1</th>\n",
        "      <th>data_file_title_2</th>\n",
        "      <th>discipline</th>\n",
        "      <th>ease_1</th>\n",
        "      <th>ease_2</th>\n",
        "      <th>frequency</th>\n",
        "      <th>honest</th>\n",
        "      <th>howmany</th>\n",
        "      <th>...</th>\n",
        "      <th>trial_2</th>\n",
        "      <th>trust</th>\n",
        "      <th>updating</th>\n",
        "      <th>ways</th>\n",
        "      <th>when_best</th>\n",
        "      <th>when_to_1</th>\n",
        "      <th>when_to_2</th>\n",
        "      <th>with_who_1</th>\n",
        "      <th>with_who_2</th>\n",
        "      <th>year_born</th>\n",
        "    </tr>\n",
        "    <tr>\n",
        "      <th>sessionid</th>\n",
        "      <th></th>\n",
        "      <th></th>\n",
        "      <th></th>\n",
        "      <th></th>\n",
        "      <th></th>\n",
        "      <th></th>\n",
        "      <th></th>\n",
        "      <th></th>\n",
        "      <th></th>\n",
        "      <th></th>\n",
        "      <th></th>\n",
        "      <th></th>\n",
        "      <th></th>\n",
        "      <th></th>\n",
        "      <th></th>\n",
        "      <th></th>\n",
        "      <th></th>\n",
        "      <th></th>\n",
        "      <th></th>\n",
        "      <th></th>\n",
        "      <th></th>\n",
        "    </tr>\n",
        "  </thead>\n",
        "  <tbody>\n",
        "    <tr>\n",
        "      <th>b4bd8ddfbcf302338f7898eec8382690</th>\n",
        "      <td>  1</td>\n",
        "      <td>          NaN</td>\n",
        "      <td>                NaN</td>\n",
        "      <td>                NaN</td>\n",
        "      <td>             NaN</td>\n",
        "      <td>  5</td>\n",
        "      <td>  5</td>\n",
        "      <td>NaN</td>\n",
        "      <td> NaN</td>\n",
        "      <td>             NaN</td>\n",
        "      <td>...</td>\n",
        "      <td>NaN</td>\n",
        "      <td>    NaN</td>\n",
        "      <td> NaN</td>\n",
        "      <td>    NaN</td>\n",
        "      <td>NaN</td>\n",
        "      <td>       null</td>\n",
        "      <td>  null</td>\n",
        "      <td>        public</td>\n",
        "      <td>        public</td>\n",
        "      <td>  NaN</td>\n",
        "    </tr>\n",
        "    <tr>\n",
        "      <th>90c08c4bb24fd7715f6dce58d09061f4</th>\n",
        "      <td>  1</td>\n",
        "      <td>          NaN</td>\n",
        "      <td>                NaN</td>\n",
        "      <td>                NaN</td>\n",
        "      <td>             NaN</td>\n",
        "      <td>  4</td>\n",
        "      <td>NaN</td>\n",
        "      <td>NaN</td>\n",
        "      <td> NaN</td>\n",
        "      <td>             NaN</td>\n",
        "      <td>...</td>\n",
        "      <td>NaN</td>\n",
        "      <td>    NaN</td>\n",
        "      <td> NaN</td>\n",
        "      <td>    NaN</td>\n",
        "      <td>NaN</td>\n",
        "      <td>       null</td>\n",
        "      <td>   NaN</td>\n",
        "      <td>        public</td>\n",
        "      <td>           NaN</td>\n",
        "      <td>  NaN</td>\n",
        "    </tr>\n",
        "    <tr>\n",
        "      <th>2916e59453604e0bf19d4b3b60b75fdd</th>\n",
        "      <td>  1</td>\n",
        "      <td>          NaN</td>\n",
        "      <td>                NaN</td>\n",
        "      <td>                NaN</td>\n",
        "      <td>             NaN</td>\n",
        "      <td>  4</td>\n",
        "      <td>  4</td>\n",
        "      <td>NaN</td>\n",
        "      <td> NaN</td>\n",
        "      <td>             NaN</td>\n",
        "      <td>...</td>\n",
        "      <td>NaN</td>\n",
        "      <td>    NaN</td>\n",
        "      <td> NaN</td>\n",
        "      <td>    NaN</td>\n",
        "      <td>NaN</td>\n",
        "      <td>       null</td>\n",
        "      <td>   NaN</td>\n",
        "      <td>        public</td>\n",
        "      <td>        public</td>\n",
        "      <td>  NaN</td>\n",
        "    </tr>\n",
        "    <tr>\n",
        "      <th>f9f6ae29cb7fdbe8995e496792d87aac</th>\n",
        "      <td>NaN</td>\n",
        "      <td>          NaN</td>\n",
        "      <td>                NaN</td>\n",
        "      <td>                NaN</td>\n",
        "      <td>             NaN</td>\n",
        "      <td>  4</td>\n",
        "      <td>NaN</td>\n",
        "      <td>NaN</td>\n",
        "      <td> NaN</td>\n",
        "      <td>             NaN</td>\n",
        "      <td>...</td>\n",
        "      <td>NaN</td>\n",
        "      <td>    NaN</td>\n",
        "      <td> NaN</td>\n",
        "      <td>    NaN</td>\n",
        "      <td>NaN</td>\n",
        "      <td> 02/28/2015</td>\n",
        "      <td>   NaN</td>\n",
        "      <td> collaborators</td>\n",
        "      <td>           NaN</td>\n",
        "      <td>  NaN</td>\n",
        "    </tr>\n",
        "    <tr>\n",
        "      <th>28d0f45805f4a2e9ec4d8fe4cf2e517e</th>\n",
        "      <td>  2</td>\n",
        "      <td>          NaN</td>\n",
        "      <td>                NaN</td>\n",
        "      <td>                NaN</td>\n",
        "      <td>             NaN</td>\n",
        "      <td>  4</td>\n",
        "      <td>  4</td>\n",
        "      <td>NaN</td>\n",
        "      <td> NaN</td>\n",
        "      <td>             NaN</td>\n",
        "      <td>...</td>\n",
        "      <td>NaN</td>\n",
        "      <td>    NaN</td>\n",
        "      <td> NaN</td>\n",
        "      <td>    NaN</td>\n",
        "      <td>NaN</td>\n",
        "      <td>       null</td>\n",
        "      <td>   NaN</td>\n",
        "      <td>        public</td>\n",
        "      <td>        public</td>\n",
        "      <td>  NaN</td>\n",
        "    </tr>\n",
        "    <tr>\n",
        "      <th>0ad6197707803a31a98aa69dccc39bad</th>\n",
        "      <td>  1</td>\n",
        "      <td>          NaN</td>\n",
        "      <td>                NaN</td>\n",
        "      <td>                NaN</td>\n",
        "      <td>             NaN</td>\n",
        "      <td>  5</td>\n",
        "      <td>  5</td>\n",
        "      <td>NaN</td>\n",
        "      <td> NaN</td>\n",
        "      <td>             NaN</td>\n",
        "      <td>...</td>\n",
        "      <td>NaN</td>\n",
        "      <td>    NaN</td>\n",
        "      <td> NaN</td>\n",
        "      <td>    NaN</td>\n",
        "      <td>NaN</td>\n",
        "      <td>       null</td>\n",
        "      <td>  null</td>\n",
        "      <td>        public</td>\n",
        "      <td>        public</td>\n",
        "      <td>  NaN</td>\n",
        "    </tr>\n",
        "    <tr>\n",
        "      <th>3068cc431534949de153e1b77a9ae420</th>\n",
        "      <td>NaN</td>\n",
        "      <td>          NaN</td>\n",
        "      <td>                NaN</td>\n",
        "      <td>                NaN</td>\n",
        "      <td>             NaN</td>\n",
        "      <td>  4</td>\n",
        "      <td>  4</td>\n",
        "      <td>NaN</td>\n",
        "      <td> NaN</td>\n",
        "      <td>             NaN</td>\n",
        "      <td>...</td>\n",
        "      <td>NaN</td>\n",
        "      <td>    NaN</td>\n",
        "      <td> NaN</td>\n",
        "      <td>    NaN</td>\n",
        "      <td>NaN</td>\n",
        "      <td>       null</td>\n",
        "      <td>     1</td>\n",
        "      <td>        public</td>\n",
        "      <td> collaborators</td>\n",
        "      <td>  NaN</td>\n",
        "    </tr>\n",
        "    <tr>\n",
        "      <th>d8695dead80bb8f3ba0caa25e5ca785c</th>\n",
        "      <td>  2</td>\n",
        "      <td>          NaN</td>\n",
        "      <td>                NaN</td>\n",
        "      <td>                NaN</td>\n",
        "      <td>             NaN</td>\n",
        "      <td>  4</td>\n",
        "      <td>NaN</td>\n",
        "      <td>NaN</td>\n",
        "      <td> NaN</td>\n",
        "      <td>             NaN</td>\n",
        "      <td>...</td>\n",
        "      <td>NaN</td>\n",
        "      <td>    NaN</td>\n",
        "      <td> NaN</td>\n",
        "      <td>    NaN</td>\n",
        "      <td>NaN</td>\n",
        "      <td>       null</td>\n",
        "      <td>   NaN</td>\n",
        "      <td>        public</td>\n",
        "      <td>           NaN</td>\n",
        "      <td>  NaN</td>\n",
        "    </tr>\n",
        "    <tr>\n",
        "      <th>4379192aef2087ff9a349056bcbb6bb4</th>\n",
        "      <td>  1</td>\n",
        "      <td>          NaN</td>\n",
        "      <td>                NaN</td>\n",
        "      <td>                NaN</td>\n",
        "      <td>             NaN</td>\n",
        "      <td>  1</td>\n",
        "      <td>  4</td>\n",
        "      <td>NaN</td>\n",
        "      <td> NaN</td>\n",
        "      <td>             NaN</td>\n",
        "      <td>...</td>\n",
        "      <td>NaN</td>\n",
        "      <td>    NaN</td>\n",
        "      <td> NaN</td>\n",
        "      <td>    NaN</td>\n",
        "      <td>NaN</td>\n",
        "      <td>          1</td>\n",
        "      <td>     1</td>\n",
        "      <td> collaborators</td>\n",
        "      <td> collaborators</td>\n",
        "      <td>  NaN</td>\n",
        "    </tr>\n",
        "    <tr>\n",
        "      <th>8ed6774338c3fee17bbdca2dfbc7f1d6</th>\n",
        "      <td>  2</td>\n",
        "      <td>          NaN</td>\n",
        "      <td>                NaN</td>\n",
        "      <td>                NaN</td>\n",
        "      <td>             NaN</td>\n",
        "      <td>  4</td>\n",
        "      <td>  4</td>\n",
        "      <td>NaN</td>\n",
        "      <td> NaN</td>\n",
        "      <td>             NaN</td>\n",
        "      <td>...</td>\n",
        "      <td>NaN</td>\n",
        "      <td>    NaN</td>\n",
        "      <td> NaN</td>\n",
        "      <td>    NaN</td>\n",
        "      <td>NaN</td>\n",
        "      <td>          1</td>\n",
        "      <td> later</td>\n",
        "      <td> collaborators</td>\n",
        "      <td> collaborators</td>\n",
        "      <td>  NaN</td>\n",
        "    </tr>\n",
        "    <tr>\n",
        "      <th>f1deeddb2588e790d7425adfa7ffb307</th>\n",
        "      <td>  1</td>\n",
        "      <td>          NaN</td>\n",
        "      <td>                NaN</td>\n",
        "      <td>                NaN</td>\n",
        "      <td>             NaN</td>\n",
        "      <td>  4</td>\n",
        "      <td>  4</td>\n",
        "      <td>NaN</td>\n",
        "      <td> NaN</td>\n",
        "      <td>             NaN</td>\n",
        "      <td>...</td>\n",
        "      <td>NaN</td>\n",
        "      <td>    NaN</td>\n",
        "      <td> NaN</td>\n",
        "      <td>    NaN</td>\n",
        "      <td>NaN</td>\n",
        "      <td>       null</td>\n",
        "      <td>   NaN</td>\n",
        "      <td>        public</td>\n",
        "      <td>        public</td>\n",
        "      <td>  NaN</td>\n",
        "    </tr>\n",
        "    <tr>\n",
        "      <th>a3fb71f8688c810c126ede0a989b79cc</th>\n",
        "      <td>  1</td>\n",
        "      <td>          NaN</td>\n",
        "      <td>                NaN</td>\n",
        "      <td>                NaN</td>\n",
        "      <td>             NaN</td>\n",
        "      <td>  4</td>\n",
        "      <td>  2</td>\n",
        "      <td>NaN</td>\n",
        "      <td> NaN</td>\n",
        "      <td>             NaN</td>\n",
        "      <td>...</td>\n",
        "      <td>NaN</td>\n",
        "      <td>    NaN</td>\n",
        "      <td> NaN</td>\n",
        "      <td>    NaN</td>\n",
        "      <td>NaN</td>\n",
        "      <td>      later</td>\n",
        "      <td> later</td>\n",
        "      <td> collaborators</td>\n",
        "      <td>       private</td>\n",
        "      <td>  NaN</td>\n",
        "    </tr>\n",
        "    <tr>\n",
        "      <th>d1cf1e2bd3e41f2bd3576a32593e2f73</th>\n",
        "      <td>  1</td>\n",
        "      <td>          NaN</td>\n",
        "      <td>                NaN</td>\n",
        "      <td>                NaN</td>\n",
        "      <td>             NaN</td>\n",
        "      <td>  4</td>\n",
        "      <td>  4</td>\n",
        "      <td>NaN</td>\n",
        "      <td> NaN</td>\n",
        "      <td>             NaN</td>\n",
        "      <td>...</td>\n",
        "      <td>NaN</td>\n",
        "      <td>    NaN</td>\n",
        "      <td> NaN</td>\n",
        "      <td>    NaN</td>\n",
        "      <td>NaN</td>\n",
        "      <td>       null</td>\n",
        "      <td>   NaN</td>\n",
        "      <td>        public</td>\n",
        "      <td>        public</td>\n",
        "      <td>  NaN</td>\n",
        "    </tr>\n",
        "    <tr>\n",
        "      <th>NaN</th>\n",
        "      <td>NaN</td>\n",
        "      <td>          NaN</td>\n",
        "      <td>                NaN</td>\n",
        "      <td>                NaN</td>\n",
        "      <td>             NaN</td>\n",
        "      <td>NaN</td>\n",
        "      <td>NaN</td>\n",
        "      <td>NaN</td>\n",
        "      <td> NaN</td>\n",
        "      <td>             NaN</td>\n",
        "      <td>...</td>\n",
        "      <td>NaN</td>\n",
        "      <td>    NaN</td>\n",
        "      <td> NaN</td>\n",
        "      <td>    NaN</td>\n",
        "      <td>NaN</td>\n",
        "      <td>        NaN</td>\n",
        "      <td>   NaN</td>\n",
        "      <td>           NaN</td>\n",
        "      <td>           NaN</td>\n",
        "      <td>  NaN</td>\n",
        "    </tr>\n",
        "    <tr>\n",
        "      <th>73cd08d3f841f5a9f085fd88a7694216</th>\n",
        "      <td>NaN</td>\n",
        "      <td>          NaN</td>\n",
        "      <td>         My Dataset</td>\n",
        "      <td>                NaN</td>\n",
        "      <td>             NaN</td>\n",
        "      <td>NaN</td>\n",
        "      <td>NaN</td>\n",
        "      <td>NaN</td>\n",
        "      <td> NaN</td>\n",
        "      <td>             NaN</td>\n",
        "      <td>...</td>\n",
        "      <td>NaN</td>\n",
        "      <td>    NaN</td>\n",
        "      <td> NaN</td>\n",
        "      <td>    NaN</td>\n",
        "      <td>NaN</td>\n",
        "      <td>        NaN</td>\n",
        "      <td>   NaN</td>\n",
        "      <td>        public</td>\n",
        "      <td>           NaN</td>\n",
        "      <td>  NaN</td>\n",
        "    </tr>\n",
        "    <tr>\n",
        "      <th>68ec3fb55059c118977c24cbd4fca91c</th>\n",
        "      <td>  1</td>\n",
        "      <td>       [u'3']</td>\n",
        "      <td>         My DATASET</td>\n",
        "      <td>        my datatset</td>\n",
        "      <td>         Biology</td>\n",
        "      <td>  4</td>\n",
        "      <td>  4</td>\n",
        "      <td>  5</td>\n",
        "      <td>  on</td>\n",
        "      <td> between 2 and 4</td>\n",
        "      <td>...</td>\n",
        "      <td>  1</td>\n",
        "      <td> second</td>\n",
        "      <td> NaN</td>\n",
        "      <td> [u'4']</td>\n",
        "      <td>  5</td>\n",
        "      <td>        NaN</td>\n",
        "      <td>   NaN</td>\n",
        "      <td>        public</td>\n",
        "      <td>        public</td>\n",
        "      <td> 1978</td>\n",
        "    </tr>\n",
        "    <tr>\n",
        "      <th>c2026cc168583afd72bbfbb284c0f1e9</th>\n",
        "      <td>  1</td>\n",
        "      <td>       [u'1']</td>\n",
        "      <td>               Test</td>\n",
        "      <td>              test2</td>\n",
        "      <td>  Bioinformatics</td>\n",
        "      <td>  5</td>\n",
        "      <td>  5</td>\n",
        "      <td>  5</td>\n",
        "      <td>  on</td>\n",
        "      <td> between 2 and 4</td>\n",
        "      <td>...</td>\n",
        "      <td>  1</td>\n",
        "      <td>  first</td>\n",
        "      <td> NaN</td>\n",
        "      <td> [u'2']</td>\n",
        "      <td>  5</td>\n",
        "      <td>          6</td>\n",
        "      <td>   NaN</td>\n",
        "      <td> stackeholders</td>\n",
        "      <td>        public</td>\n",
        "      <td> 1987</td>\n",
        "    </tr>\n",
        "    <tr>\n",
        "      <th>9f739b36a1f91569017b5ab36be07f7f</th>\n",
        "      <td>  1</td>\n",
        "      <td> [u'1', u'3']</td>\n",
        "      <td> My lipidomics data</td>\n",
        "      <td> My lipidomics data</td>\n",
        "      <td> Systems Biology</td>\n",
        "      <td>  4</td>\n",
        "      <td>  4</td>\n",
        "      <td>  4</td>\n",
        "      <td>  on</td>\n",
        "      <td> between 2 and 4</td>\n",
        "      <td>...</td>\n",
        "      <td>  1</td>\n",
        "      <td>  first</td>\n",
        "      <td>  on</td>\n",
        "      <td> [u'2']</td>\n",
        "      <td>  5</td>\n",
        "      <td>          1</td>\n",
        "      <td> later</td>\n",
        "      <td>       private</td>\n",
        "      <td>       private</td>\n",
        "      <td> 1975</td>\n",
        "    </tr>\n",
        "    <tr>\n",
        "      <th>66f12cf71b45603b5b5bded2142fb89c</th>\n",
        "      <td>  1</td>\n",
        "      <td>       [u'3']</td>\n",
        "      <td>          mydataset</td>\n",
        "      <td>          mydataset</td>\n",
        "      <td>    Cell Biology</td>\n",
        "      <td>  4</td>\n",
        "      <td>  4</td>\n",
        "      <td>  5</td>\n",
        "      <td>  on</td>\n",
        "      <td>         only me</td>\n",
        "      <td>...</td>\n",
        "      <td>  1</td>\n",
        "      <td> second</td>\n",
        "      <td> NaN</td>\n",
        "      <td> [u'1']</td>\n",
        "      <td>  5</td>\n",
        "      <td>        NaN</td>\n",
        "      <td>   NaN</td>\n",
        "      <td>        public</td>\n",
        "      <td>        public</td>\n",
        "      <td> 1986</td>\n",
        "    </tr>\n",
        "  </tbody>\n",
        "</table>\n",
        "<p>19 rows \u00d7 39 columns</p>\n",
        "</div>"
       ],
       "metadata": {},
       "output_type": "pyout",
       "prompt_number": 5,
       "text": [
        "                                  academic     awareness   data_file_title_1  \\\n",
        "sessionid                                                                      \n",
        "b4bd8ddfbcf302338f7898eec8382690         1           NaN                 NaN   \n",
        "90c08c4bb24fd7715f6dce58d09061f4         1           NaN                 NaN   \n",
        "2916e59453604e0bf19d4b3b60b75fdd         1           NaN                 NaN   \n",
        "f9f6ae29cb7fdbe8995e496792d87aac       NaN           NaN                 NaN   \n",
        "28d0f45805f4a2e9ec4d8fe4cf2e517e         2           NaN                 NaN   \n",
        "0ad6197707803a31a98aa69dccc39bad         1           NaN                 NaN   \n",
        "3068cc431534949de153e1b77a9ae420       NaN           NaN                 NaN   \n",
        "d8695dead80bb8f3ba0caa25e5ca785c         2           NaN                 NaN   \n",
        "4379192aef2087ff9a349056bcbb6bb4         1           NaN                 NaN   \n",
        "8ed6774338c3fee17bbdca2dfbc7f1d6         2           NaN                 NaN   \n",
        "f1deeddb2588e790d7425adfa7ffb307         1           NaN                 NaN   \n",
        "a3fb71f8688c810c126ede0a989b79cc         1           NaN                 NaN   \n",
        "d1cf1e2bd3e41f2bd3576a32593e2f73         1           NaN                 NaN   \n",
        "NaN                                    NaN           NaN                 NaN   \n",
        "73cd08d3f841f5a9f085fd88a7694216       NaN           NaN          My Dataset   \n",
        "68ec3fb55059c118977c24cbd4fca91c         1        [u'3']          My DATASET   \n",
        "c2026cc168583afd72bbfbb284c0f1e9         1        [u'1']                Test   \n",
        "9f739b36a1f91569017b5ab36be07f7f         1  [u'1', u'3']  My lipidomics data   \n",
        "66f12cf71b45603b5b5bded2142fb89c         1        [u'3']           mydataset   \n",
        "\n",
        "                                   data_file_title_2       discipline  ease_1  \\\n",
        "sessionid                                                                       \n",
        "b4bd8ddfbcf302338f7898eec8382690                 NaN              NaN       5   \n",
        "90c08c4bb24fd7715f6dce58d09061f4                 NaN              NaN       4   \n",
        "2916e59453604e0bf19d4b3b60b75fdd                 NaN              NaN       4   \n",
        "f9f6ae29cb7fdbe8995e496792d87aac                 NaN              NaN       4   \n",
        "28d0f45805f4a2e9ec4d8fe4cf2e517e                 NaN              NaN       4   \n",
        "0ad6197707803a31a98aa69dccc39bad                 NaN              NaN       5   \n",
        "3068cc431534949de153e1b77a9ae420                 NaN              NaN       4   \n",
        "d8695dead80bb8f3ba0caa25e5ca785c                 NaN              NaN       4   \n",
        "4379192aef2087ff9a349056bcbb6bb4                 NaN              NaN       1   \n",
        "8ed6774338c3fee17bbdca2dfbc7f1d6                 NaN              NaN       4   \n",
        "f1deeddb2588e790d7425adfa7ffb307                 NaN              NaN       4   \n",
        "a3fb71f8688c810c126ede0a989b79cc                 NaN              NaN       4   \n",
        "d1cf1e2bd3e41f2bd3576a32593e2f73                 NaN              NaN       4   \n",
        "NaN                                              NaN              NaN     NaN   \n",
        "73cd08d3f841f5a9f085fd88a7694216                 NaN              NaN     NaN   \n",
        "68ec3fb55059c118977c24cbd4fca91c         my datatset          Biology       4   \n",
        "c2026cc168583afd72bbfbb284c0f1e9               test2   Bioinformatics       5   \n",
        "9f739b36a1f91569017b5ab36be07f7f  My lipidomics data  Systems Biology       4   \n",
        "66f12cf71b45603b5b5bded2142fb89c           mydataset     Cell Biology       4   \n",
        "\n",
        "                                  ease_2  frequency honest          howmany  \\\n",
        "sessionid                                                                     \n",
        "b4bd8ddfbcf302338f7898eec8382690       5        NaN    NaN              NaN   \n",
        "90c08c4bb24fd7715f6dce58d09061f4     NaN        NaN    NaN              NaN   \n",
        "2916e59453604e0bf19d4b3b60b75fdd       4        NaN    NaN              NaN   \n",
        "f9f6ae29cb7fdbe8995e496792d87aac     NaN        NaN    NaN              NaN   \n",
        "28d0f45805f4a2e9ec4d8fe4cf2e517e       4        NaN    NaN              NaN   \n",
        "0ad6197707803a31a98aa69dccc39bad       5        NaN    NaN              NaN   \n",
        "3068cc431534949de153e1b77a9ae420       4        NaN    NaN              NaN   \n",
        "d8695dead80bb8f3ba0caa25e5ca785c     NaN        NaN    NaN              NaN   \n",
        "4379192aef2087ff9a349056bcbb6bb4       4        NaN    NaN              NaN   \n",
        "8ed6774338c3fee17bbdca2dfbc7f1d6       4        NaN    NaN              NaN   \n",
        "f1deeddb2588e790d7425adfa7ffb307       4        NaN    NaN              NaN   \n",
        "a3fb71f8688c810c126ede0a989b79cc       2        NaN    NaN              NaN   \n",
        "d1cf1e2bd3e41f2bd3576a32593e2f73       4        NaN    NaN              NaN   \n",
        "NaN                                  NaN        NaN    NaN              NaN   \n",
        "73cd08d3f841f5a9f085fd88a7694216     NaN        NaN    NaN              NaN   \n",
        "68ec3fb55059c118977c24cbd4fca91c       4          5     on  between 2 and 4   \n",
        "c2026cc168583afd72bbfbb284c0f1e9       5          5     on  between 2 and 4   \n",
        "9f739b36a1f91569017b5ab36be07f7f       4          4     on  between 2 and 4   \n",
        "66f12cf71b45603b5b5bded2142fb89c       4          5     on          only me   \n",
        "\n",
        "                                    ...     trial_2   trust  updating    ways  \\\n",
        "sessionid                           ...                                         \n",
        "b4bd8ddfbcf302338f7898eec8382690    ...         NaN     NaN       NaN     NaN   \n",
        "90c08c4bb24fd7715f6dce58d09061f4    ...         NaN     NaN       NaN     NaN   \n",
        "2916e59453604e0bf19d4b3b60b75fdd    ...         NaN     NaN       NaN     NaN   \n",
        "f9f6ae29cb7fdbe8995e496792d87aac    ...         NaN     NaN       NaN     NaN   \n",
        "28d0f45805f4a2e9ec4d8fe4cf2e517e    ...         NaN     NaN       NaN     NaN   \n",
        "0ad6197707803a31a98aa69dccc39bad    ...         NaN     NaN       NaN     NaN   \n",
        "3068cc431534949de153e1b77a9ae420    ...         NaN     NaN       NaN     NaN   \n",
        "d8695dead80bb8f3ba0caa25e5ca785c    ...         NaN     NaN       NaN     NaN   \n",
        "4379192aef2087ff9a349056bcbb6bb4    ...         NaN     NaN       NaN     NaN   \n",
        "8ed6774338c3fee17bbdca2dfbc7f1d6    ...         NaN     NaN       NaN     NaN   \n",
        "f1deeddb2588e790d7425adfa7ffb307    ...         NaN     NaN       NaN     NaN   \n",
        "a3fb71f8688c810c126ede0a989b79cc    ...         NaN     NaN       NaN     NaN   \n",
        "d1cf1e2bd3e41f2bd3576a32593e2f73    ...         NaN     NaN       NaN     NaN   \n",
        "NaN                                 ...         NaN     NaN       NaN     NaN   \n",
        "73cd08d3f841f5a9f085fd88a7694216    ...         NaN     NaN       NaN     NaN   \n",
        "68ec3fb55059c118977c24cbd4fca91c    ...           1  second       NaN  [u'4']   \n",
        "c2026cc168583afd72bbfbb284c0f1e9    ...           1   first       NaN  [u'2']   \n",
        "9f739b36a1f91569017b5ab36be07f7f    ...           1   first        on  [u'2']   \n",
        "66f12cf71b45603b5b5bded2142fb89c    ...           1  second       NaN  [u'1']   \n",
        "\n",
        "                                  when_best   when_to_1  when_to_2  \\\n",
        "sessionid                                                            \n",
        "b4bd8ddfbcf302338f7898eec8382690        NaN        null       null   \n",
        "90c08c4bb24fd7715f6dce58d09061f4        NaN        null        NaN   \n",
        "2916e59453604e0bf19d4b3b60b75fdd        NaN        null        NaN   \n",
        "f9f6ae29cb7fdbe8995e496792d87aac        NaN  02/28/2015        NaN   \n",
        "28d0f45805f4a2e9ec4d8fe4cf2e517e        NaN        null        NaN   \n",
        "0ad6197707803a31a98aa69dccc39bad        NaN        null       null   \n",
        "3068cc431534949de153e1b77a9ae420        NaN        null          1   \n",
        "d8695dead80bb8f3ba0caa25e5ca785c        NaN        null        NaN   \n",
        "4379192aef2087ff9a349056bcbb6bb4        NaN           1          1   \n",
        "8ed6774338c3fee17bbdca2dfbc7f1d6        NaN           1      later   \n",
        "f1deeddb2588e790d7425adfa7ffb307        NaN        null        NaN   \n",
        "a3fb71f8688c810c126ede0a989b79cc        NaN       later      later   \n",
        "d1cf1e2bd3e41f2bd3576a32593e2f73        NaN        null        NaN   \n",
        "NaN                                     NaN         NaN        NaN   \n",
        "73cd08d3f841f5a9f085fd88a7694216        NaN         NaN        NaN   \n",
        "68ec3fb55059c118977c24cbd4fca91c          5         NaN        NaN   \n",
        "c2026cc168583afd72bbfbb284c0f1e9          5           6        NaN   \n",
        "9f739b36a1f91569017b5ab36be07f7f          5           1      later   \n",
        "66f12cf71b45603b5b5bded2142fb89c          5         NaN        NaN   \n",
        "\n",
        "                                     with_who_1     with_who_2  year_born  \n",
        "sessionid                                                                  \n",
        "b4bd8ddfbcf302338f7898eec8382690         public         public        NaN  \n",
        "90c08c4bb24fd7715f6dce58d09061f4         public            NaN        NaN  \n",
        "2916e59453604e0bf19d4b3b60b75fdd         public         public        NaN  \n",
        "f9f6ae29cb7fdbe8995e496792d87aac  collaborators            NaN        NaN  \n",
        "28d0f45805f4a2e9ec4d8fe4cf2e517e         public         public        NaN  \n",
        "0ad6197707803a31a98aa69dccc39bad         public         public        NaN  \n",
        "3068cc431534949de153e1b77a9ae420         public  collaborators        NaN  \n",
        "d8695dead80bb8f3ba0caa25e5ca785c         public            NaN        NaN  \n",
        "4379192aef2087ff9a349056bcbb6bb4  collaborators  collaborators        NaN  \n",
        "8ed6774338c3fee17bbdca2dfbc7f1d6  collaborators  collaborators        NaN  \n",
        "f1deeddb2588e790d7425adfa7ffb307         public         public        NaN  \n",
        "a3fb71f8688c810c126ede0a989b79cc  collaborators        private        NaN  \n",
        "d1cf1e2bd3e41f2bd3576a32593e2f73         public         public        NaN  \n",
        "NaN                                         NaN            NaN        NaN  \n",
        "73cd08d3f841f5a9f085fd88a7694216         public            NaN        NaN  \n",
        "68ec3fb55059c118977c24cbd4fca91c         public         public       1978  \n",
        "c2026cc168583afd72bbfbb284c0f1e9  stackeholders         public       1987  \n",
        "9f739b36a1f91569017b5ab36be07f7f        private        private       1975  \n",
        "66f12cf71b45603b5b5bded2142fb89c         public         public       1986  \n",
        "\n",
        "[19 rows x 39 columns]"
       ]
      }
     ],
     "prompt_number": 5
    },
    {
     "cell_type": "code",
     "collapsed": false,
     "input": [
      "data2.ix[:,:'academic']"
     ],
     "language": "python",
     "metadata": {},
     "outputs": [
      {
       "html": [
        "<div style=\"max-height:1000px;max-width:1500px;overflow:auto;\">\n",
        "<table border=\"1\" class=\"dataframe\">\n",
        "  <thead>\n",
        "    <tr style=\"text-align: right;\">\n",
        "      <th></th>\n",
        "      <th>discipline</th>\n",
        "      <th>ease_2</th>\n",
        "      <th>regret_2</th>\n",
        "      <th>support_2</th>\n",
        "      <th>time_2</th>\n",
        "      <th>time_second_evaluation</th>\n",
        "      <th>treatment_eval_2</th>\n",
        "      <th>ease_1</th>\n",
        "      <th>regret_1</th>\n",
        "      <th>support_1</th>\n",
        "      <th>time_1</th>\n",
        "      <th>time_first_evaluation</th>\n",
        "      <th>treatment_eval_1</th>\n",
        "      <th>data_file_title_1</th>\n",
        "      <th>time_create_1</th>\n",
        "      <th>treatment_1</th>\n",
        "      <th>trial_1</th>\n",
        "      <th>when_to_1</th>\n",
        "      <th>with_who_1</th>\n",
        "      <th>academic</th>\n",
        "    </tr>\n",
        "    <tr>\n",
        "      <th>sessionid</th>\n",
        "      <th></th>\n",
        "      <th></th>\n",
        "      <th></th>\n",
        "      <th></th>\n",
        "      <th></th>\n",
        "      <th></th>\n",
        "      <th></th>\n",
        "      <th></th>\n",
        "      <th></th>\n",
        "      <th></th>\n",
        "      <th></th>\n",
        "      <th></th>\n",
        "      <th></th>\n",
        "      <th></th>\n",
        "      <th></th>\n",
        "      <th></th>\n",
        "      <th></th>\n",
        "      <th></th>\n",
        "      <th></th>\n",
        "      <th></th>\n",
        "    </tr>\n",
        "  </thead>\n",
        "  <tbody>\n",
        "    <tr>\n",
        "      <th>68ec3fb55059c118977c24cbd4fca91c</th>\n",
        "      <td>         Biology</td>\n",
        "      <td> 4</td>\n",
        "      <td> 2</td>\n",
        "      <td> 4</td>\n",
        "      <td> 4</td>\n",
        "      <td> 1423476842</td>\n",
        "      <td> cite DataLabour</td>\n",
        "      <td> 4</td>\n",
        "      <td> 3</td>\n",
        "      <td> 4</td>\n",
        "      <td> 4</td>\n",
        "      <td> 1423476623</td>\n",
        "      <td>  Jam Share Data</td>\n",
        "      <td>         My DATASET</td>\n",
        "      <td> 1423476579</td>\n",
        "      <td>  Jam Share Data</td>\n",
        "      <td> 0</td>\n",
        "      <td>NaN</td>\n",
        "      <td>        public</td>\n",
        "      <td> 1</td>\n",
        "    </tr>\n",
        "    <tr>\n",
        "      <th>c2026cc168583afd72bbfbb284c0f1e9</th>\n",
        "      <td>  Bioinformatics</td>\n",
        "      <td> 5</td>\n",
        "      <td> 3</td>\n",
        "      <td> 4</td>\n",
        "      <td> 5</td>\n",
        "      <td> 1423477633</td>\n",
        "      <td>  Jam Share Data</td>\n",
        "      <td> 5</td>\n",
        "      <td> 3</td>\n",
        "      <td> 4</td>\n",
        "      <td> 5</td>\n",
        "      <td> 1423477410</td>\n",
        "      <td> cite DataLabour</td>\n",
        "      <td>               Test</td>\n",
        "      <td> 1423477358</td>\n",
        "      <td> cite DataLabour</td>\n",
        "      <td> 0</td>\n",
        "      <td>  6</td>\n",
        "      <td> stackeholders</td>\n",
        "      <td> 1</td>\n",
        "    </tr>\n",
        "    <tr>\n",
        "      <th>9f739b36a1f91569017b5ab36be07f7f</th>\n",
        "      <td> Systems Biology</td>\n",
        "      <td> 4</td>\n",
        "      <td> 3</td>\n",
        "      <td> 4</td>\n",
        "      <td> 4</td>\n",
        "      <td> 1423758565</td>\n",
        "      <td>  Jam Share Data</td>\n",
        "      <td> 4</td>\n",
        "      <td> 3</td>\n",
        "      <td> 4</td>\n",
        "      <td> 4</td>\n",
        "      <td> 1423758380</td>\n",
        "      <td> cite DataLabour</td>\n",
        "      <td> My lipidomics data</td>\n",
        "      <td> 1423758337</td>\n",
        "      <td> cite DataLabour</td>\n",
        "      <td> 0</td>\n",
        "      <td>  1</td>\n",
        "      <td>       private</td>\n",
        "      <td> 1</td>\n",
        "    </tr>\n",
        "    <tr>\n",
        "      <th>66f12cf71b45603b5b5bded2142fb89c</th>\n",
        "      <td>    Cell Biology</td>\n",
        "      <td> 4</td>\n",
        "      <td> 1</td>\n",
        "      <td> 3</td>\n",
        "      <td> 4</td>\n",
        "      <td> 1423759096</td>\n",
        "      <td> cite DataLabour</td>\n",
        "      <td> 4</td>\n",
        "      <td> 3</td>\n",
        "      <td> 3</td>\n",
        "      <td> 4</td>\n",
        "      <td> 1423758937</td>\n",
        "      <td>  Jam Share Data</td>\n",
        "      <td>          mydataset</td>\n",
        "      <td> 1423758879</td>\n",
        "      <td>  Jam Share Data</td>\n",
        "      <td> 0</td>\n",
        "      <td>NaN</td>\n",
        "      <td>        public</td>\n",
        "      <td> 1</td>\n",
        "    </tr>\n",
        "  </tbody>\n",
        "</table>\n",
        "</div>"
       ],
       "metadata": {},
       "output_type": "pyout",
       "prompt_number": 6,
       "text": [
        "                                       discipline  ease_2  regret_2  \\\n",
        "sessionid                                                             \n",
        "68ec3fb55059c118977c24cbd4fca91c          Biology       4         2   \n",
        "c2026cc168583afd72bbfbb284c0f1e9   Bioinformatics       5         3   \n",
        "9f739b36a1f91569017b5ab36be07f7f  Systems Biology       4         3   \n",
        "66f12cf71b45603b5b5bded2142fb89c     Cell Biology       4         1   \n",
        "\n",
        "                                  support_2  time_2  time_second_evaluation  \\\n",
        "sessionid                                                                     \n",
        "68ec3fb55059c118977c24cbd4fca91c          4       4              1423476842   \n",
        "c2026cc168583afd72bbfbb284c0f1e9          4       5              1423477633   \n",
        "9f739b36a1f91569017b5ab36be07f7f          4       4              1423758565   \n",
        "66f12cf71b45603b5b5bded2142fb89c          3       4              1423759096   \n",
        "\n",
        "                                 treatment_eval_2  ease_1  regret_1  \\\n",
        "sessionid                                                             \n",
        "68ec3fb55059c118977c24cbd4fca91c  cite DataLabour       4         3   \n",
        "c2026cc168583afd72bbfbb284c0f1e9   Jam Share Data       5         3   \n",
        "9f739b36a1f91569017b5ab36be07f7f   Jam Share Data       4         3   \n",
        "66f12cf71b45603b5b5bded2142fb89c  cite DataLabour       4         3   \n",
        "\n",
        "                                  support_1  time_1  time_first_evaluation  \\\n",
        "sessionid                                                                    \n",
        "68ec3fb55059c118977c24cbd4fca91c          4       4             1423476623   \n",
        "c2026cc168583afd72bbfbb284c0f1e9          4       5             1423477410   \n",
        "9f739b36a1f91569017b5ab36be07f7f          4       4             1423758380   \n",
        "66f12cf71b45603b5b5bded2142fb89c          3       4             1423758937   \n",
        "\n",
        "                                 treatment_eval_1   data_file_title_1  \\\n",
        "sessionid                                                               \n",
        "68ec3fb55059c118977c24cbd4fca91c   Jam Share Data          My DATASET   \n",
        "c2026cc168583afd72bbfbb284c0f1e9  cite DataLabour                Test   \n",
        "9f739b36a1f91569017b5ab36be07f7f  cite DataLabour  My lipidomics data   \n",
        "66f12cf71b45603b5b5bded2142fb89c   Jam Share Data           mydataset   \n",
        "\n",
        "                                  time_create_1      treatment_1  trial_1  \\\n",
        "sessionid                                                                   \n",
        "68ec3fb55059c118977c24cbd4fca91c     1423476579   Jam Share Data        0   \n",
        "c2026cc168583afd72bbfbb284c0f1e9     1423477358  cite DataLabour        0   \n",
        "9f739b36a1f91569017b5ab36be07f7f     1423758337  cite DataLabour        0   \n",
        "66f12cf71b45603b5b5bded2142fb89c     1423758879   Jam Share Data        0   \n",
        "\n",
        "                                  when_to_1     with_who_1  academic  \n",
        "sessionid                                                             \n",
        "68ec3fb55059c118977c24cbd4fca91c        NaN         public         1  \n",
        "c2026cc168583afd72bbfbb284c0f1e9          6  stackeholders         1  \n",
        "9f739b36a1f91569017b5ab36be07f7f          1        private         1  \n",
        "66f12cf71b45603b5b5bded2142fb89c        NaN         public         1  "
       ]
      }
     ],
     "prompt_number": 6
    },
    {
     "cell_type": "code",
     "collapsed": false,
     "input": [
      "data2.ix[:,'academic':]"
     ],
     "language": "python",
     "metadata": {},
     "outputs": [
      {
       "html": [
        "<div style=\"max-height:1000px;max-width:1500px;overflow:auto;\">\n",
        "<table border=\"1\" class=\"dataframe\">\n",
        "  <thead>\n",
        "    <tr style=\"text-align: right;\">\n",
        "      <th></th>\n",
        "      <th>academic</th>\n",
        "      <th>awareness</th>\n",
        "      <th>frequency</th>\n",
        "      <th>honest</th>\n",
        "      <th>howmany</th>\n",
        "      <th>materials_type</th>\n",
        "      <th>time_awareness_evaluation</th>\n",
        "      <th>tongue</th>\n",
        "      <th>trust</th>\n",
        "      <th>updating</th>\n",
        "      <th>ways</th>\n",
        "      <th>when_best</th>\n",
        "      <th>year_born</th>\n",
        "      <th>data_file_title_2</th>\n",
        "      <th>time_create_2</th>\n",
        "      <th>treatment_2</th>\n",
        "      <th>trial_2</th>\n",
        "      <th>when_to_2</th>\n",
        "      <th>with_who_2</th>\n",
        "    </tr>\n",
        "    <tr>\n",
        "      <th>sessionid</th>\n",
        "      <th></th>\n",
        "      <th></th>\n",
        "      <th></th>\n",
        "      <th></th>\n",
        "      <th></th>\n",
        "      <th></th>\n",
        "      <th></th>\n",
        "      <th></th>\n",
        "      <th></th>\n",
        "      <th></th>\n",
        "      <th></th>\n",
        "      <th></th>\n",
        "      <th></th>\n",
        "      <th></th>\n",
        "      <th></th>\n",
        "      <th></th>\n",
        "      <th></th>\n",
        "      <th></th>\n",
        "      <th></th>\n",
        "    </tr>\n",
        "  </thead>\n",
        "  <tbody>\n",
        "    <tr>\n",
        "      <th>68ec3fb55059c118977c24cbd4fca91c</th>\n",
        "      <td> 1</td>\n",
        "      <td>       [u'3']</td>\n",
        "      <td> 5</td>\n",
        "      <td> on</td>\n",
        "      <td> between 2 and 4</td>\n",
        "      <td> data in spreadsheets</td>\n",
        "      <td> 1423476906</td>\n",
        "      <td>            [u\"I'm a native English speaker\", u'']</td>\n",
        "      <td> second</td>\n",
        "      <td> NaN</td>\n",
        "      <td> [u'4']</td>\n",
        "      <td> 5</td>\n",
        "      <td> 1978</td>\n",
        "      <td>        my datatset</td>\n",
        "      <td> 1423476812</td>\n",
        "      <td> cite DataLabour</td>\n",
        "      <td> 1</td>\n",
        "      <td>   NaN</td>\n",
        "      <td>  public</td>\n",
        "    </tr>\n",
        "    <tr>\n",
        "      <th>c2026cc168583afd72bbfbb284c0f1e9</th>\n",
        "      <td> 1</td>\n",
        "      <td>       [u'1']</td>\n",
        "      <td> 5</td>\n",
        "      <td> on</td>\n",
        "      <td> between 2 and 4</td>\n",
        "      <td>    MS data: raw,mzml</td>\n",
        "      <td> 1423477747</td>\n",
        "      <td>            [u\"I'm a native English speaker\", u'']</td>\n",
        "      <td>  first</td>\n",
        "      <td> NaN</td>\n",
        "      <td> [u'2']</td>\n",
        "      <td> 5</td>\n",
        "      <td> 1987</td>\n",
        "      <td>              test2</td>\n",
        "      <td> 1423477586</td>\n",
        "      <td>  Jam Share Data</td>\n",
        "      <td> 1</td>\n",
        "      <td>   NaN</td>\n",
        "      <td>  public</td>\n",
        "    </tr>\n",
        "    <tr>\n",
        "      <th>9f739b36a1f91569017b5ab36be07f7f</th>\n",
        "      <td> 1</td>\n",
        "      <td> [u'1', u'3']</td>\n",
        "      <td> 4</td>\n",
        "      <td> on</td>\n",
        "      <td> between 2 and 4</td>\n",
        "      <td> Mathematical models </td>\n",
        "      <td> 1423758680</td>\n",
        "      <td> [u'I have lived in an English speaking country...</td>\n",
        "      <td>  first</td>\n",
        "      <td>  on</td>\n",
        "      <td> [u'2']</td>\n",
        "      <td> 5</td>\n",
        "      <td> 1975</td>\n",
        "      <td> My lipidomics data</td>\n",
        "      <td> 1423758534</td>\n",
        "      <td>  Jam Share Data</td>\n",
        "      <td> 1</td>\n",
        "      <td> later</td>\n",
        "      <td> private</td>\n",
        "    </tr>\n",
        "    <tr>\n",
        "      <th>66f12cf71b45603b5b5bded2142fb89c</th>\n",
        "      <td> 1</td>\n",
        "      <td>       [u'3']</td>\n",
        "      <td> 5</td>\n",
        "      <td> on</td>\n",
        "      <td>         only me</td>\n",
        "      <td>    western blot TIFF</td>\n",
        "      <td> 1423759189</td>\n",
        "      <td>            [u\"I'm a native English speaker\", u'']</td>\n",
        "      <td> second</td>\n",
        "      <td> NaN</td>\n",
        "      <td> [u'1']</td>\n",
        "      <td> 5</td>\n",
        "      <td> 1986</td>\n",
        "      <td>          mydataset</td>\n",
        "      <td> 1423759071</td>\n",
        "      <td> cite DataLabour</td>\n",
        "      <td> 1</td>\n",
        "      <td>   NaN</td>\n",
        "      <td>  public</td>\n",
        "    </tr>\n",
        "  </tbody>\n",
        "</table>\n",
        "</div>"
       ],
       "metadata": {},
       "output_type": "pyout",
       "prompt_number": 7,
       "text": [
        "                                  academic     awareness  frequency honest  \\\n",
        "sessionid                                                                    \n",
        "68ec3fb55059c118977c24cbd4fca91c         1        [u'3']          5     on   \n",
        "c2026cc168583afd72bbfbb284c0f1e9         1        [u'1']          5     on   \n",
        "9f739b36a1f91569017b5ab36be07f7f         1  [u'1', u'3']          4     on   \n",
        "66f12cf71b45603b5b5bded2142fb89c         1        [u'3']          5     on   \n",
        "\n",
        "                                          howmany        materials_type  \\\n",
        "sessionid                                                                 \n",
        "68ec3fb55059c118977c24cbd4fca91c  between 2 and 4  data in spreadsheets   \n",
        "c2026cc168583afd72bbfbb284c0f1e9  between 2 and 4     MS data: raw,mzml   \n",
        "9f739b36a1f91569017b5ab36be07f7f  between 2 and 4  Mathematical models    \n",
        "66f12cf71b45603b5b5bded2142fb89c          only me     western blot TIFF   \n",
        "\n",
        "                                  time_awareness_evaluation  \\\n",
        "sessionid                                                     \n",
        "68ec3fb55059c118977c24cbd4fca91c                 1423476906   \n",
        "c2026cc168583afd72bbfbb284c0f1e9                 1423477747   \n",
        "9f739b36a1f91569017b5ab36be07f7f                 1423758680   \n",
        "66f12cf71b45603b5b5bded2142fb89c                 1423759189   \n",
        "\n",
        "                                                                             tongue  \\\n",
        "sessionid                                                                             \n",
        "68ec3fb55059c118977c24cbd4fca91c             [u\"I'm a native English speaker\", u'']   \n",
        "c2026cc168583afd72bbfbb284c0f1e9             [u\"I'm a native English speaker\", u'']   \n",
        "9f739b36a1f91569017b5ab36be07f7f  [u'I have lived in an English speaking country...   \n",
        "66f12cf71b45603b5b5bded2142fb89c             [u\"I'm a native English speaker\", u'']   \n",
        "\n",
        "                                   trust updating    ways  when_best  \\\n",
        "sessionid                                                              \n",
        "68ec3fb55059c118977c24cbd4fca91c  second      NaN  [u'4']          5   \n",
        "c2026cc168583afd72bbfbb284c0f1e9   first      NaN  [u'2']          5   \n",
        "9f739b36a1f91569017b5ab36be07f7f   first       on  [u'2']          5   \n",
        "66f12cf71b45603b5b5bded2142fb89c  second      NaN  [u'1']          5   \n",
        "\n",
        "                                  year_born   data_file_title_2  \\\n",
        "sessionid                                                         \n",
        "68ec3fb55059c118977c24cbd4fca91c       1978         my datatset   \n",
        "c2026cc168583afd72bbfbb284c0f1e9       1987               test2   \n",
        "9f739b36a1f91569017b5ab36be07f7f       1975  My lipidomics data   \n",
        "66f12cf71b45603b5b5bded2142fb89c       1986           mydataset   \n",
        "\n",
        "                                  time_create_2      treatment_2  trial_2  \\\n",
        "sessionid                                                                   \n",
        "68ec3fb55059c118977c24cbd4fca91c     1423476812  cite DataLabour        1   \n",
        "c2026cc168583afd72bbfbb284c0f1e9     1423477586   Jam Share Data        1   \n",
        "9f739b36a1f91569017b5ab36be07f7f     1423758534   Jam Share Data        1   \n",
        "66f12cf71b45603b5b5bded2142fb89c     1423759071  cite DataLabour        1   \n",
        "\n",
        "                                 when_to_2 with_who_2  \n",
        "sessionid                                              \n",
        "68ec3fb55059c118977c24cbd4fca91c       NaN     public  \n",
        "c2026cc168583afd72bbfbb284c0f1e9       NaN     public  \n",
        "9f739b36a1f91569017b5ab36be07f7f     later    private  \n",
        "66f12cf71b45603b5b5bded2142fb89c       NaN     public  "
       ]
      }
     ],
     "prompt_number": 7
    },
    {
     "cell_type": "code",
     "collapsed": false,
     "input": [
      "df_filtered = concatenated"
     ],
     "language": "python",
     "metadata": {},
     "outputs": [],
     "prompt_number": 8
    },
    {
     "cell_type": "code",
     "collapsed": false,
     "input": [
      "df_filtered.ix[:,'treatment_eval_1':]"
     ],
     "language": "python",
     "metadata": {},
     "outputs": [
      {
       "html": [
        "<div style=\"max-height:1000px;max-width:1500px;overflow:auto;\">\n",
        "<table border=\"1\" class=\"dataframe\">\n",
        "  <thead>\n",
        "    <tr style=\"text-align: right;\">\n",
        "      <th></th>\n",
        "      <th>treatment_eval_1</th>\n",
        "      <th>treatment_eval_2</th>\n",
        "      <th>trial_1</th>\n",
        "      <th>trial_2</th>\n",
        "      <th>trust</th>\n",
        "      <th>updating</th>\n",
        "      <th>ways</th>\n",
        "      <th>when_best</th>\n",
        "      <th>when_to_1</th>\n",
        "      <th>when_to_2</th>\n",
        "      <th>with_who_1</th>\n",
        "      <th>with_who_2</th>\n",
        "      <th>year_born</th>\n",
        "    </tr>\n",
        "    <tr>\n",
        "      <th>sessionid</th>\n",
        "      <th></th>\n",
        "      <th></th>\n",
        "      <th></th>\n",
        "      <th></th>\n",
        "      <th></th>\n",
        "      <th></th>\n",
        "      <th></th>\n",
        "      <th></th>\n",
        "      <th></th>\n",
        "      <th></th>\n",
        "      <th></th>\n",
        "      <th></th>\n",
        "      <th></th>\n",
        "    </tr>\n",
        "  </thead>\n",
        "  <tbody>\n",
        "    <tr>\n",
        "      <th>b4bd8ddfbcf302338f7898eec8382690</th>\n",
        "      <td> cite DataLabour</td>\n",
        "      <td> cite DataLabour</td>\n",
        "      <td>NaN</td>\n",
        "      <td>NaN</td>\n",
        "      <td>    NaN</td>\n",
        "      <td> NaN</td>\n",
        "      <td>    NaN</td>\n",
        "      <td>NaN</td>\n",
        "      <td>       null</td>\n",
        "      <td>  null</td>\n",
        "      <td>        public</td>\n",
        "      <td>        public</td>\n",
        "      <td>  NaN</td>\n",
        "    </tr>\n",
        "    <tr>\n",
        "      <th>90c08c4bb24fd7715f6dce58d09061f4</th>\n",
        "      <td> cite DataLabour</td>\n",
        "      <td>             NaN</td>\n",
        "      <td>NaN</td>\n",
        "      <td>NaN</td>\n",
        "      <td>    NaN</td>\n",
        "      <td> NaN</td>\n",
        "      <td>    NaN</td>\n",
        "      <td>NaN</td>\n",
        "      <td>       null</td>\n",
        "      <td>   NaN</td>\n",
        "      <td>        public</td>\n",
        "      <td>           NaN</td>\n",
        "      <td>  NaN</td>\n",
        "    </tr>\n",
        "    <tr>\n",
        "      <th>2916e59453604e0bf19d4b3b60b75fdd</th>\n",
        "      <td> cite DataLabour</td>\n",
        "      <td>  Jam Share Data</td>\n",
        "      <td>NaN</td>\n",
        "      <td>NaN</td>\n",
        "      <td>    NaN</td>\n",
        "      <td> NaN</td>\n",
        "      <td>    NaN</td>\n",
        "      <td>NaN</td>\n",
        "      <td>       null</td>\n",
        "      <td>   NaN</td>\n",
        "      <td>        public</td>\n",
        "      <td>        public</td>\n",
        "      <td>  NaN</td>\n",
        "    </tr>\n",
        "    <tr>\n",
        "      <th>f9f6ae29cb7fdbe8995e496792d87aac</th>\n",
        "      <td>  Jam Share Data</td>\n",
        "      <td>             NaN</td>\n",
        "      <td>NaN</td>\n",
        "      <td>NaN</td>\n",
        "      <td>    NaN</td>\n",
        "      <td> NaN</td>\n",
        "      <td>    NaN</td>\n",
        "      <td>NaN</td>\n",
        "      <td> 02/28/2015</td>\n",
        "      <td>   NaN</td>\n",
        "      <td> collaborators</td>\n",
        "      <td>           NaN</td>\n",
        "      <td>  NaN</td>\n",
        "    </tr>\n",
        "    <tr>\n",
        "      <th>28d0f45805f4a2e9ec4d8fe4cf2e517e</th>\n",
        "      <td> cite DataLabour</td>\n",
        "      <td>  Jam Share Data</td>\n",
        "      <td>NaN</td>\n",
        "      <td>NaN</td>\n",
        "      <td>    NaN</td>\n",
        "      <td> NaN</td>\n",
        "      <td>    NaN</td>\n",
        "      <td>NaN</td>\n",
        "      <td>       null</td>\n",
        "      <td>   NaN</td>\n",
        "      <td>        public</td>\n",
        "      <td>        public</td>\n",
        "      <td>  NaN</td>\n",
        "    </tr>\n",
        "    <tr>\n",
        "      <th>0ad6197707803a31a98aa69dccc39bad</th>\n",
        "      <td> cite DataLabour</td>\n",
        "      <td> cite DataLabour</td>\n",
        "      <td>NaN</td>\n",
        "      <td>NaN</td>\n",
        "      <td>    NaN</td>\n",
        "      <td> NaN</td>\n",
        "      <td>    NaN</td>\n",
        "      <td>NaN</td>\n",
        "      <td>       null</td>\n",
        "      <td>  null</td>\n",
        "      <td>        public</td>\n",
        "      <td>        public</td>\n",
        "      <td>  NaN</td>\n",
        "    </tr>\n",
        "    <tr>\n",
        "      <th>3068cc431534949de153e1b77a9ae420</th>\n",
        "      <td> cite DataLabour</td>\n",
        "      <td> cite DataLabour</td>\n",
        "      <td>NaN</td>\n",
        "      <td>NaN</td>\n",
        "      <td>    NaN</td>\n",
        "      <td> NaN</td>\n",
        "      <td>    NaN</td>\n",
        "      <td>NaN</td>\n",
        "      <td>       null</td>\n",
        "      <td>     1</td>\n",
        "      <td>        public</td>\n",
        "      <td> collaborators</td>\n",
        "      <td>  NaN</td>\n",
        "    </tr>\n",
        "    <tr>\n",
        "      <th>d8695dead80bb8f3ba0caa25e5ca785c</th>\n",
        "      <td> cite DataLabour</td>\n",
        "      <td>             NaN</td>\n",
        "      <td>NaN</td>\n",
        "      <td>NaN</td>\n",
        "      <td>    NaN</td>\n",
        "      <td> NaN</td>\n",
        "      <td>    NaN</td>\n",
        "      <td>NaN</td>\n",
        "      <td>       null</td>\n",
        "      <td>   NaN</td>\n",
        "      <td>        public</td>\n",
        "      <td>           NaN</td>\n",
        "      <td>  NaN</td>\n",
        "    </tr>\n",
        "    <tr>\n",
        "      <th>4379192aef2087ff9a349056bcbb6bb4</th>\n",
        "      <td> cite DataLabour</td>\n",
        "      <td> cite DataLabour</td>\n",
        "      <td>NaN</td>\n",
        "      <td>NaN</td>\n",
        "      <td>    NaN</td>\n",
        "      <td> NaN</td>\n",
        "      <td>    NaN</td>\n",
        "      <td>NaN</td>\n",
        "      <td>          1</td>\n",
        "      <td>     1</td>\n",
        "      <td> collaborators</td>\n",
        "      <td> collaborators</td>\n",
        "      <td>  NaN</td>\n",
        "    </tr>\n",
        "    <tr>\n",
        "      <th>8ed6774338c3fee17bbdca2dfbc7f1d6</th>\n",
        "      <td> cite DataLabour</td>\n",
        "      <td>  Jam Share Data</td>\n",
        "      <td>NaN</td>\n",
        "      <td>NaN</td>\n",
        "      <td>    NaN</td>\n",
        "      <td> NaN</td>\n",
        "      <td>    NaN</td>\n",
        "      <td>NaN</td>\n",
        "      <td>          1</td>\n",
        "      <td> later</td>\n",
        "      <td> collaborators</td>\n",
        "      <td> collaborators</td>\n",
        "      <td>  NaN</td>\n",
        "    </tr>\n",
        "    <tr>\n",
        "      <th>f1deeddb2588e790d7425adfa7ffb307</th>\n",
        "      <td> cite DataLabour</td>\n",
        "      <td>  Jam Share Data</td>\n",
        "      <td>NaN</td>\n",
        "      <td>NaN</td>\n",
        "      <td>    NaN</td>\n",
        "      <td> NaN</td>\n",
        "      <td>    NaN</td>\n",
        "      <td>NaN</td>\n",
        "      <td>       null</td>\n",
        "      <td>   NaN</td>\n",
        "      <td>        public</td>\n",
        "      <td>        public</td>\n",
        "      <td>  NaN</td>\n",
        "    </tr>\n",
        "    <tr>\n",
        "      <th>a3fb71f8688c810c126ede0a989b79cc</th>\n",
        "      <td>  Jam Share Data</td>\n",
        "      <td>  Jam Share Data</td>\n",
        "      <td>NaN</td>\n",
        "      <td>NaN</td>\n",
        "      <td>    NaN</td>\n",
        "      <td> NaN</td>\n",
        "      <td>    NaN</td>\n",
        "      <td>NaN</td>\n",
        "      <td>      later</td>\n",
        "      <td> later</td>\n",
        "      <td> collaborators</td>\n",
        "      <td>       private</td>\n",
        "      <td>  NaN</td>\n",
        "    </tr>\n",
        "    <tr>\n",
        "      <th>d1cf1e2bd3e41f2bd3576a32593e2f73</th>\n",
        "      <td> cite DataLabour</td>\n",
        "      <td>  Jam Share Data</td>\n",
        "      <td>NaN</td>\n",
        "      <td>NaN</td>\n",
        "      <td>    NaN</td>\n",
        "      <td> NaN</td>\n",
        "      <td>    NaN</td>\n",
        "      <td>NaN</td>\n",
        "      <td>       null</td>\n",
        "      <td>   NaN</td>\n",
        "      <td>        public</td>\n",
        "      <td>        public</td>\n",
        "      <td>  NaN</td>\n",
        "    </tr>\n",
        "    <tr>\n",
        "      <th>NaN</th>\n",
        "      <td>             NaN</td>\n",
        "      <td>             NaN</td>\n",
        "      <td>NaN</td>\n",
        "      <td>NaN</td>\n",
        "      <td>    NaN</td>\n",
        "      <td> NaN</td>\n",
        "      <td>    NaN</td>\n",
        "      <td>NaN</td>\n",
        "      <td>        NaN</td>\n",
        "      <td>   NaN</td>\n",
        "      <td>           NaN</td>\n",
        "      <td>           NaN</td>\n",
        "      <td>  NaN</td>\n",
        "    </tr>\n",
        "    <tr>\n",
        "      <th>73cd08d3f841f5a9f085fd88a7694216</th>\n",
        "      <td>             NaN</td>\n",
        "      <td>             NaN</td>\n",
        "      <td>NaN</td>\n",
        "      <td>NaN</td>\n",
        "      <td>    NaN</td>\n",
        "      <td> NaN</td>\n",
        "      <td>    NaN</td>\n",
        "      <td>NaN</td>\n",
        "      <td>        NaN</td>\n",
        "      <td>   NaN</td>\n",
        "      <td>        public</td>\n",
        "      <td>           NaN</td>\n",
        "      <td>  NaN</td>\n",
        "    </tr>\n",
        "    <tr>\n",
        "      <th>68ec3fb55059c118977c24cbd4fca91c</th>\n",
        "      <td>  Jam Share Data</td>\n",
        "      <td> cite DataLabour</td>\n",
        "      <td>  0</td>\n",
        "      <td>  1</td>\n",
        "      <td> second</td>\n",
        "      <td> NaN</td>\n",
        "      <td> [u'4']</td>\n",
        "      <td>  5</td>\n",
        "      <td>        NaN</td>\n",
        "      <td>   NaN</td>\n",
        "      <td>        public</td>\n",
        "      <td>        public</td>\n",
        "      <td> 1978</td>\n",
        "    </tr>\n",
        "    <tr>\n",
        "      <th>c2026cc168583afd72bbfbb284c0f1e9</th>\n",
        "      <td> cite DataLabour</td>\n",
        "      <td>  Jam Share Data</td>\n",
        "      <td>  0</td>\n",
        "      <td>  1</td>\n",
        "      <td>  first</td>\n",
        "      <td> NaN</td>\n",
        "      <td> [u'2']</td>\n",
        "      <td>  5</td>\n",
        "      <td>          6</td>\n",
        "      <td>   NaN</td>\n",
        "      <td> stackeholders</td>\n",
        "      <td>        public</td>\n",
        "      <td> 1987</td>\n",
        "    </tr>\n",
        "    <tr>\n",
        "      <th>9f739b36a1f91569017b5ab36be07f7f</th>\n",
        "      <td> cite DataLabour</td>\n",
        "      <td>  Jam Share Data</td>\n",
        "      <td>  0</td>\n",
        "      <td>  1</td>\n",
        "      <td>  first</td>\n",
        "      <td>  on</td>\n",
        "      <td> [u'2']</td>\n",
        "      <td>  5</td>\n",
        "      <td>          1</td>\n",
        "      <td> later</td>\n",
        "      <td>       private</td>\n",
        "      <td>       private</td>\n",
        "      <td> 1975</td>\n",
        "    </tr>\n",
        "    <tr>\n",
        "      <th>66f12cf71b45603b5b5bded2142fb89c</th>\n",
        "      <td>  Jam Share Data</td>\n",
        "      <td> cite DataLabour</td>\n",
        "      <td>  0</td>\n",
        "      <td>  1</td>\n",
        "      <td> second</td>\n",
        "      <td> NaN</td>\n",
        "      <td> [u'1']</td>\n",
        "      <td>  5</td>\n",
        "      <td>        NaN</td>\n",
        "      <td>   NaN</td>\n",
        "      <td>        public</td>\n",
        "      <td>        public</td>\n",
        "      <td> 1986</td>\n",
        "    </tr>\n",
        "  </tbody>\n",
        "</table>\n",
        "</div>"
       ],
       "metadata": {},
       "output_type": "pyout",
       "prompt_number": 9,
       "text": [
        "                                 treatment_eval_1 treatment_eval_2  trial_1  \\\n",
        "sessionid                                                                     \n",
        "b4bd8ddfbcf302338f7898eec8382690  cite DataLabour  cite DataLabour      NaN   \n",
        "90c08c4bb24fd7715f6dce58d09061f4  cite DataLabour              NaN      NaN   \n",
        "2916e59453604e0bf19d4b3b60b75fdd  cite DataLabour   Jam Share Data      NaN   \n",
        "f9f6ae29cb7fdbe8995e496792d87aac   Jam Share Data              NaN      NaN   \n",
        "28d0f45805f4a2e9ec4d8fe4cf2e517e  cite DataLabour   Jam Share Data      NaN   \n",
        "0ad6197707803a31a98aa69dccc39bad  cite DataLabour  cite DataLabour      NaN   \n",
        "3068cc431534949de153e1b77a9ae420  cite DataLabour  cite DataLabour      NaN   \n",
        "d8695dead80bb8f3ba0caa25e5ca785c  cite DataLabour              NaN      NaN   \n",
        "4379192aef2087ff9a349056bcbb6bb4  cite DataLabour  cite DataLabour      NaN   \n",
        "8ed6774338c3fee17bbdca2dfbc7f1d6  cite DataLabour   Jam Share Data      NaN   \n",
        "f1deeddb2588e790d7425adfa7ffb307  cite DataLabour   Jam Share Data      NaN   \n",
        "a3fb71f8688c810c126ede0a989b79cc   Jam Share Data   Jam Share Data      NaN   \n",
        "d1cf1e2bd3e41f2bd3576a32593e2f73  cite DataLabour   Jam Share Data      NaN   \n",
        "NaN                                           NaN              NaN      NaN   \n",
        "73cd08d3f841f5a9f085fd88a7694216              NaN              NaN      NaN   \n",
        "68ec3fb55059c118977c24cbd4fca91c   Jam Share Data  cite DataLabour        0   \n",
        "c2026cc168583afd72bbfbb284c0f1e9  cite DataLabour   Jam Share Data        0   \n",
        "9f739b36a1f91569017b5ab36be07f7f  cite DataLabour   Jam Share Data        0   \n",
        "66f12cf71b45603b5b5bded2142fb89c   Jam Share Data  cite DataLabour        0   \n",
        "\n",
        "                                  trial_2   trust updating    ways  when_best  \\\n",
        "sessionid                                                                       \n",
        "b4bd8ddfbcf302338f7898eec8382690      NaN     NaN      NaN     NaN        NaN   \n",
        "90c08c4bb24fd7715f6dce58d09061f4      NaN     NaN      NaN     NaN        NaN   \n",
        "2916e59453604e0bf19d4b3b60b75fdd      NaN     NaN      NaN     NaN        NaN   \n",
        "f9f6ae29cb7fdbe8995e496792d87aac      NaN     NaN      NaN     NaN        NaN   \n",
        "28d0f45805f4a2e9ec4d8fe4cf2e517e      NaN     NaN      NaN     NaN        NaN   \n",
        "0ad6197707803a31a98aa69dccc39bad      NaN     NaN      NaN     NaN        NaN   \n",
        "3068cc431534949de153e1b77a9ae420      NaN     NaN      NaN     NaN        NaN   \n",
        "d8695dead80bb8f3ba0caa25e5ca785c      NaN     NaN      NaN     NaN        NaN   \n",
        "4379192aef2087ff9a349056bcbb6bb4      NaN     NaN      NaN     NaN        NaN   \n",
        "8ed6774338c3fee17bbdca2dfbc7f1d6      NaN     NaN      NaN     NaN        NaN   \n",
        "f1deeddb2588e790d7425adfa7ffb307      NaN     NaN      NaN     NaN        NaN   \n",
        "a3fb71f8688c810c126ede0a989b79cc      NaN     NaN      NaN     NaN        NaN   \n",
        "d1cf1e2bd3e41f2bd3576a32593e2f73      NaN     NaN      NaN     NaN        NaN   \n",
        "NaN                                   NaN     NaN      NaN     NaN        NaN   \n",
        "73cd08d3f841f5a9f085fd88a7694216      NaN     NaN      NaN     NaN        NaN   \n",
        "68ec3fb55059c118977c24cbd4fca91c        1  second      NaN  [u'4']          5   \n",
        "c2026cc168583afd72bbfbb284c0f1e9        1   first      NaN  [u'2']          5   \n",
        "9f739b36a1f91569017b5ab36be07f7f        1   first       on  [u'2']          5   \n",
        "66f12cf71b45603b5b5bded2142fb89c        1  second      NaN  [u'1']          5   \n",
        "\n",
        "                                   when_to_1 when_to_2     with_who_1  \\\n",
        "sessionid                                                               \n",
        "b4bd8ddfbcf302338f7898eec8382690        null      null         public   \n",
        "90c08c4bb24fd7715f6dce58d09061f4        null       NaN         public   \n",
        "2916e59453604e0bf19d4b3b60b75fdd        null       NaN         public   \n",
        "f9f6ae29cb7fdbe8995e496792d87aac  02/28/2015       NaN  collaborators   \n",
        "28d0f45805f4a2e9ec4d8fe4cf2e517e        null       NaN         public   \n",
        "0ad6197707803a31a98aa69dccc39bad        null      null         public   \n",
        "3068cc431534949de153e1b77a9ae420        null         1         public   \n",
        "d8695dead80bb8f3ba0caa25e5ca785c        null       NaN         public   \n",
        "4379192aef2087ff9a349056bcbb6bb4           1         1  collaborators   \n",
        "8ed6774338c3fee17bbdca2dfbc7f1d6           1     later  collaborators   \n",
        "f1deeddb2588e790d7425adfa7ffb307        null       NaN         public   \n",
        "a3fb71f8688c810c126ede0a989b79cc       later     later  collaborators   \n",
        "d1cf1e2bd3e41f2bd3576a32593e2f73        null       NaN         public   \n",
        "NaN                                      NaN       NaN            NaN   \n",
        "73cd08d3f841f5a9f085fd88a7694216         NaN       NaN         public   \n",
        "68ec3fb55059c118977c24cbd4fca91c         NaN       NaN         public   \n",
        "c2026cc168583afd72bbfbb284c0f1e9           6       NaN  stackeholders   \n",
        "9f739b36a1f91569017b5ab36be07f7f           1     later        private   \n",
        "66f12cf71b45603b5b5bded2142fb89c         NaN       NaN         public   \n",
        "\n",
        "                                     with_who_2  year_born  \n",
        "sessionid                                                   \n",
        "b4bd8ddfbcf302338f7898eec8382690         public        NaN  \n",
        "90c08c4bb24fd7715f6dce58d09061f4            NaN        NaN  \n",
        "2916e59453604e0bf19d4b3b60b75fdd         public        NaN  \n",
        "f9f6ae29cb7fdbe8995e496792d87aac            NaN        NaN  \n",
        "28d0f45805f4a2e9ec4d8fe4cf2e517e         public        NaN  \n",
        "0ad6197707803a31a98aa69dccc39bad         public        NaN  \n",
        "3068cc431534949de153e1b77a9ae420  collaborators        NaN  \n",
        "d8695dead80bb8f3ba0caa25e5ca785c            NaN        NaN  \n",
        "4379192aef2087ff9a349056bcbb6bb4  collaborators        NaN  \n",
        "8ed6774338c3fee17bbdca2dfbc7f1d6  collaborators        NaN  \n",
        "f1deeddb2588e790d7425adfa7ffb307         public        NaN  \n",
        "a3fb71f8688c810c126ede0a989b79cc        private        NaN  \n",
        "d1cf1e2bd3e41f2bd3576a32593e2f73         public        NaN  \n",
        "NaN                                         NaN        NaN  \n",
        "73cd08d3f841f5a9f085fd88a7694216            NaN        NaN  \n",
        "68ec3fb55059c118977c24cbd4fca91c         public       1978  \n",
        "c2026cc168583afd72bbfbb284c0f1e9         public       1987  \n",
        "9f739b36a1f91569017b5ab36be07f7f        private       1975  \n",
        "66f12cf71b45603b5b5bded2142fb89c         public       1986  "
       ]
      }
     ],
     "prompt_number": 9
    },
    {
     "cell_type": "code",
     "collapsed": false,
     "input": [
      "#     df_filtered = series\n",
      "df_filtered['measure_2'] = pd.Series(0, index=df_filtered.index)\n",
      "df_filtered['measure_1'] = pd.Series(0, index=df_filtered.index)\n",
      "dx = df_filtered[df_filtered['treatment_eval_1'] == 'Jam Share Data']\n",
      "\n",
      "def windchill(t,w):\n",
      "    r = \"\"\n",
      "    if t == 'Jam Share Data':\n",
      "        if w == 'public':\n",
      "                r = 5\n",
      "        elif w == 'collaborators':\n",
      "                r = 1\n",
      "        elif w == 'stakeholders':\n",
      "                r = 1\n",
      "        elif w == 'private':\n",
      "                r = 1\n",
      "    elif t == 'cite DataLabour':\n",
      "        if w == 'public':\n",
      "                r = 5\n",
      "        elif w == 'collaborators':\n",
      "                r = 3\n",
      "        elif w == 'stakeholders':\n",
      "                r = 4\n",
      "        elif w == 'private':\n",
      "                r = 1\n",
      "    return r\n",
      "    \n",
      "df_filtered['measure_1'] = df_filtered.apply(lambda row: windchill(row['treatment_eval_1'], row['with_who_1']), axis=1)\n",
      "df_filtered['measure_2'] = df_filtered.apply(lambda row: windchill(row['treatment_eval_2'], row['with_who_2']), axis=1)\n"
     ],
     "language": "python",
     "metadata": {},
     "outputs": [],
     "prompt_number": 10
    },
    {
     "cell_type": "code",
     "collapsed": false,
     "input": [
      "df_filtered.head(10)\n",
      "pd.DataFrame.to_csv(df_filtered,'logs/data_coded_csv')"
     ],
     "language": "python",
     "metadata": {},
     "outputs": [],
     "prompt_number": 11
    },
    {
     "cell_type": "markdown",
     "metadata": {},
     "source": [
      "###Is a treatment better than the other one?\n",
      "Comparison all Control vs All Treatment\n",
      "#### Sharing Behaviour\n"
     ]
    },
    {
     "cell_type": "code",
     "collapsed": false,
     "input": [
      "x= df_filtered\n",
      "y = x[x['treatment_eval_1'] == 'Jam Share Data']\n",
      "s = x[x['treatment_eval_2'] == 'Jam Share Data']\n",
      "\n",
      "y2 = y.reset_index()\n",
      "s2 = s.reset_index()\n",
      "\n",
      "alltheJam = y2['measure_1'].append(s2['measure_2'])\n",
      "\n",
      "y = x[x['treatment_eval_1'] == 'cite DataLabour']\n",
      "s = x[x['treatment_eval_2'] == 'cite DataLabour']\n",
      "\n",
      "y2 = y.reset_index()\n",
      "s2 = s.reset_index()\n",
      "\n",
      "alltheCite = y2['measure_1'].append(s2['measure_2'])\n"
     ],
     "language": "python",
     "metadata": {},
     "outputs": [],
     "prompt_number": 12
    },
    {
     "cell_type": "code",
     "collapsed": false,
     "input": [
      "sns.boxplot([alltheJam.convert_objects(convert_numeric=True).fillna(0), alltheCite.convert_objects(convert_numeric=True).fillna(0)],  names=[\"Product:LOSS\",\"Product:GAIN\" ], color=\"pastel\",   widths=.5)"
     ],
     "language": "python",
     "metadata": {},
     "outputs": [
      {
       "metadata": {},
       "output_type": "pyout",
       "prompt_number": 13,
       "text": [
        "<matplotlib.axes._subplots.AxesSubplot at 0x10db86390>"
       ]
      },
      {
       "metadata": {},
       "output_type": "display_data",
       "png": "[encoded data removed]",
       "text": [
        "<matplotlib.figure.Figure at 0x104485250>"
       ]
      }
     ],
     "prompt_number": 13
    },
    {
     "cell_type": "code",
     "collapsed": false,
     "input": [
      "%pylab inline\n",
      "%load_ext rmagic\n",
      "import pylab"
     ],
     "language": "python",
     "metadata": {},
     "outputs": [
      {
       "output_type": "stream",
       "stream": "stdout",
       "text": [
        "Populating the interactive namespace from numpy and matplotlib\n"
       ]
      },
      {
       "output_type": "stream",
       "stream": "stderr",
       "text": [
        "WARNING: pylab import has clobbered these variables: ['xlim', 'ylim']\n",
        "`%matplotlib` prevents importing * from pylab and numpy\n"
       ]
      }
     ],
     "prompt_number": 14
    },
    {
     "cell_type": "code",
     "collapsed": false,
     "input": [
      "%%R\n",
      "require(likert)\n",
      "require(reshape)\n",
      "library(RColorBrewer)\n",
      "cc <-brewer.pal(5, \"PuBu\")\n",
      "mydata = read.csv(\"../../delete_two_records_csv\")\n",
      "#   mydata2 <- mydata[c(\"measure_1\", \"measure_2\")] \n",
      "  mydata2 <- mydata[c(\"ease_1\",\"ease_2\",  \"time_1\",\"time_2\",\"support_1\",\"support_2\")] \n",
      "  # mydata2 <- mydata\n",
      "  DFG <- lapply(mydata2, factor, levels = 1:5)\n",
      "  d <- data.frame(DFG)\n",
      "  df24<-likert(d)\n",
      "  plot(df24, color=cc, center=3, plot.percents=TRUE, plot.percent.low=TRUE, plot.percent.neutral=FALSE,plot.percent.high=TRUE, ordered=FALSE, group.order=names(d))"
     ],
     "language": "python",
     "metadata": {},
     "outputs": [
      {
       "metadata": {},
       "output_type": "display_data",
       "text": [
        "Loading required package: likert\n",
        "Loading required package: ggplot2\n",
        "Loading required package: xtable\n",
        "Loading required package: reshape\n"
       ]
      },
      {
       "metadata": {},
       "output_type": "display_data",
       "png": "[encoded data removed]"
      }
     ],
     "prompt_number": 15
    },
    {
     "cell_type": "code",
     "collapsed": false,
     "input": [
      "%%R\n",
      "require(likert)\n",
      "require(reshape)\n",
      "library(RColorBrewer)\n",
      "cc <-brewer.pal(5, \"PuBu\")\n",
      "mydata = read.csv(\"../../delete_two_records_csv\")\n",
      "#   mydata2 <- mydata[c(\"measure_1\", \"measure_2\")] \n",
      "  mydata2 <- mydata[c(\"measure_1\",\"measure_2\")] \n",
      "  # mydata2 <- mydata\n",
      "  DFG <- lapply(mydata2, factor, levels = 1:5)\n",
      "  d <- data.frame(DFG)\n",
      "  df24<-likert(d)\n",
      "  plot(df24, color=cc, center=3, plot.percents=TRUE, plot.percent.neutral=FALSE,plot.percent.low=FALSE, plot.percent.high=FALSE, ordered=FALSE, group.order=names(d))"
     ],
     "language": "python",
     "metadata": {},
     "outputs": [
      {
       "metadata": {},
       "output_type": "display_data",
       "png": "[encoded data removed]"
      }
     ],
     "prompt_number": 16
    },
    {
     "cell_type": "code",
     "collapsed": false,
     "input": [
      "%%R\n",
      "require(likert)\n",
      "require(reshape)\n",
      "library(RColorBrewer)\n",
      "cc <-brewer.pal(5, \"PuBu\")\n",
      "mydata = read.csv(\"../../delete_two_records_csv\")\n",
      "#   mydata2 <- mydata[c(\"measure_1\", \"measure_2\")] \n",
      "  mydata2 <- mydata[c(\"regret_1\",\"regret_2\")] \n",
      "  # mydata2 <- mydata\n",
      "  DFG <- lapply(mydata2, factor, levels = 1:5)\n",
      "  d <- data.frame(DFG)\n",
      "  df24<-likert(d)\n",
      "  plot(df24, color=cc, center=3,  plot.percent.low=TRUE, plot.percent.high=TRUE, ordered=FALSE, group.order=names(d))"
     ],
     "language": "python",
     "metadata": {},
     "outputs": [
      {
       "metadata": {},
       "output_type": "display_data",
       "png": "[encoded data removed]"
      }
     ],
     "prompt_number": 54
    },
    {
     "cell_type": "code",
     "collapsed": false,
     "input": [
      "%%R\n",
      "require(likert)\n",
      "require(reshape)\n",
      "library(RColorBrewer)\n",
      "library(plyr)\n",
      "cc <-brewer.pal(5, \"PuBu\")\n",
      "mydata = read.csv(\"../../delete_two_records_csv\")\n",
      "\n",
      "Product_Gain <- c(mydata$measure_1[mydata$treatment_eval_1 == 'cite DataLabour'], mydata$measure_2[mydata$treatment_eval_2 == 'cite DataLabour'])\n",
      "Product_Loss <- c(mydata$measure_1[mydata$treatment_eval_1 == 'Jam Share Data'], mydata$measure_2[mydata$treatment_eval_2 == 'Jam Share Data'])\n",
      "#Product_Gain <- c(mydata$regret_1[mydata$treatment_eval_1 == 'cite DataLabour'], mydata$regret_2[mydata$treatment_eval_2 == 'cite DataLabour'])\n",
      "#Product_Loss <- c(mydata$regret_1[mydata$treatment_eval_1 == 'Jam Share Data'], mydata$regret_2[mydata$treatment_eval_2 == 'Jam Share Data'])\n",
      "   \n",
      "  likertLabels<- c(\"Strongly disagree\", \"Disagree\", \"Neither\", \"Agree\", \"Strongly Agree\")\n",
      "  \n",
      "   dAlcite <- data.frame(Product_Gain)\n",
      "   dAshare <- data.frame(Product_Loss)\n",
      "   myList5 <- list(dAshare, dAlcite)\n",
      "   junto <-do.call(rbind.fill, myList5)\n",
      "   djunto <- data.frame(junto)\n",
      "   mydata2 <- junto\n",
      "#   DFG2 <- lapply(mydata2, factor, labels = likertLabels)\n",
      "#   DFG <- lapply(DFG2, factor, levels = likertLabels)\n",
      "\n",
      "DFG <- lapply(mydata2, factor, levels = 1:5)\n",
      "d <- data.frame(DFG)\n",
      "df24<-likert(d)\n",
      "s<- plot(df24, color=cc, center=3,plot.percents=TRUE, plot.percent.neutral=FALSE,plot.percent.low=FALSE, plot.percent.high=FALSE, ordered=FALSE, group.order=names(d)) \n",
      "s "
     ],
     "language": "python",
     "metadata": {},
     "outputs": [
      {
       "metadata": {},
       "output_type": "display_data",
       "png": "[encoded data removed]"
      }
     ],
     "prompt_number": 53
    },
    {
     "cell_type": "code",
     "collapsed": false,
     "input": [
      "%%R\n",
      "require(likert)\n",
      "require(reshape)\n",
      "library(RColorBrewer)\n",
      "library(plyr)\n",
      "cc <-brewer.pal(5, \"PuBu\")\n",
      "mydata = read.csv(\"../../delete_two_records_csv\")\n",
      "\n",
      "#Product_Gain <- c(mydata$measure_1[mydata$treatment_eval_1 == 'cite DataLabour'], mydata$measure_2[mydata$treatment_eval_2 == 'cite DataLabour'])\n",
      "#Product_Loss <- c(mydata$measure_1[mydata$treatment_eval_1 == 'Jam Share Data'], mydata$measure_2[mydata$treatment_eval_2 == 'Jam Share Data'])\n",
      "Product_Gain <- c(mydata$regret_1[mydata$treatment_eval_1 == 'cite DataLabour'], mydata$regret_2[mydata$treatment_eval_2 == 'cite DataLabour'])\n",
      "Product_Loss <- c(mydata$regret_1[mydata$treatment_eval_1 == 'Jam Share Data'], mydata$regret_2[mydata$treatment_eval_2 == 'Jam Share Data'])\n",
      "   \n",
      "  likertLabels<- c(\"Strongly disagree\", \"Disagree\", \"Neither\", \"Agree\", \"Strongly Agree\")\n",
      "  \n",
      "   dAlcite <- data.frame(Product_Gain)\n",
      "   dAshare <- data.frame(Product_Loss)\n",
      "   myList5 <- list(dAshare, dAlcite)\n",
      "   junto <-do.call(rbind.fill, myList5)\n",
      "   djunto <- data.frame(junto)\n",
      "   mydata2 <- junto\n",
      "#   DFG2 <- lapply(mydata2, factor, labels = likertLabels)\n",
      "#   DFG <- lapply(DFG2, factor, levels = likertLabels)\n",
      "\n",
      "DFG <- lapply(mydata2, factor, levels = 1:5)\n",
      "d <- data.frame(DFG)\n",
      "df24<-likert(d)\n",
      "s<- plot(df24, color=cc, center=3,plot.percents=TRUE, plot.percent.low=FALSE, plot.percent.neutral=FALSE,plot.percent.high=FALSE, ordered=FALSE, group.order=names(d)) \n",
      "  s "
     ],
     "language": "python",
     "metadata": {},
     "outputs": [
      {
       "metadata": {},
       "output_type": "display_data",
       "png": "[encoded data removed]"
      }
     ],
     "prompt_number": 52
    },
    {
     "cell_type": "code",
     "collapsed": false,
     "input": [
      "%%R\n",
      "require(likert)\n",
      "require(reshape)\n",
      "library(RColorBrewer)\n",
      "library(plyr)\n",
      "cc <-brewer.pal(5, \"PuBu\")\n",
      "mydata = read.csv(\"../../delete_two_records_csv\")\n",
      "\n",
      "Product_Gain_support <- c(mydata$support_1[mydata$treatment_eval_1 == 'cite DataLabour'], mydata$support_2[mydata$treatment_eval_2 == 'cite DataLabour'])\n",
      "Product_Loss_support <- c(mydata$support_1[mydata$treatment_eval_1 == 'Jam Share Data'], mydata$support_2[mydata$treatment_eval_2 == 'Jam Share Data'])   \n",
      "Product_Gain_ease <- c(mydata$ease_1[mydata$treatment_eval_1 == 'cite DataLabour'], mydata$ease_2[mydata$treatment_eval_2 == 'cite DataLabour'])\n",
      "Product_Loss_ease <- c(mydata$ease_1[mydata$treatment_eval_1 == 'Jam Share Data'], mydata$ease_2[mydata$treatment_eval_2 == 'Jam Share Data'])     \n",
      "Product_Gain_time <- c(mydata$time_1[mydata$treatment_eval_1 == 'cite DataLabour'], mydata$time_2[mydata$treatment_eval_2 == 'cite DataLabour'])\n",
      "Product_Loss_time <- c(mydata$time_1[mydata$treatment_eval_1 == 'Jam Share Data'], mydata$time_2[mydata$treatment_eval_2 == 'Jam Share Data'])\n",
      "  \n",
      "  likertLabels<- c(\"Strongly disagree\", \"Disagree\", \"Neither\", \"Agree\", \"Strongly Agree\")\n",
      "  \n",
      "   dProduct_Gain_support <- data.frame(Product_Gain_support)\n",
      "   dProduct_Loss_support <- data.frame(Product_Loss_support)\n",
      "   dProduct_Gain_ease <- data.frame(Product_Gain_ease)\n",
      "   dProduct_Loss_ease <- data.frame(Product_Loss_ease)\n",
      "   dProduct_Gain_time <- data.frame(Product_Gain_time)\n",
      "   dProduct_Loss_time <- data.frame(Product_Loss_time)\n",
      "\n",
      "    myList5 <- list(dProduct_Gain_support,dProduct_Loss_support,dProduct_Gain_ease,dProduct_Loss_ease,dProduct_Gain_time,dProduct_Loss_time)\n",
      "    junto <-do.call(rbind.fill, myList5)\n",
      "    djunto <- data.frame(junto)\n",
      "   mydata2 <- junto\n",
      "#   DFG2 <- lapply(mydata2, factor, labels = likertLabels)\n",
      "#   DFG <- lapply(DFG2, factor, levels = likertLabels)\n",
      "\n",
      "\n",
      "   DFG <- lapply(mydata2, factor, levels = 1:5)\n",
      "   d <- data.frame(DFG)\n",
      "   df24<-likert(d)\n",
      "   s<- plot(df24, color=cc, center=3, plot.percent.low=TRUE, plot.percent.high=TRUE, ordered=FALSE, group.order=names(d)) \n",
      "  s "
     ],
     "language": "python",
     "metadata": {},
     "outputs": [
      {
       "metadata": {},
       "output_type": "display_data",
       "png": "[encoded data removed]"
      }
     ],
     "prompt_number": 56
    },
    {
     "cell_type": "markdown",
     "metadata": {},
     "source": [
      "#### Usability"
     ]
    },
    {
     "cell_type": "code",
     "collapsed": false,
     "input": [
      "x= df_filtered\n",
      "y = x[x['treatment_eval_1'] == 'Jam Share Data']\n",
      "s = x[x['treatment_eval_2'] == 'Jam Share Data']\n",
      "\n",
      "y2 = y.reset_index()\n",
      "s2 = s.reset_index()\n",
      "\n",
      "alltheJam = y2['ease_1'].append(s2['ease_2'])\n",
      "\n",
      "y = x[x['treatment_eval_1'] == 'cite DataLabour']\n",
      "s = x[x['treatment_eval_2'] == 'cite DataLabour']\n",
      "\n",
      "y2 = y.reset_index()\n",
      "s2 = s.reset_index()\n",
      "\n",
      "alltheCite = y2['ease_1'].append(s2['ease_2'])"
     ],
     "language": "python",
     "metadata": {},
     "outputs": [],
     "prompt_number": 14
    },
    {
     "cell_type": "markdown",
     "metadata": {},
     "source": [
      ">Ease"
     ]
    },
    {
     "cell_type": "code",
     "collapsed": false,
     "input": [
      "sns.boxplot([alltheJam.convert_objects(convert_numeric=True).fillna(0), alltheCite.convert_objects(convert_numeric=True).fillna(0)],  names=[\"Product:LOSS\",\"Product:GAIN\" ], color=\"pastel\",   widths=.5)"
     ],
     "language": "python",
     "metadata": {},
     "outputs": [
      {
       "metadata": {},
       "output_type": "pyout",
       "prompt_number": 15,
       "text": [
        "<matplotlib.axes._subplots.AxesSubplot at 0x10e743ed0>"
       ]
      },
      {
       "metadata": {},
       "output_type": "display_data",
       "png": "[encoded data removed]",
       "text": [
        "<matplotlib.figure.Figure at 0x10e743cd0>"
       ]
      }
     ],
     "prompt_number": 15
    },
    {
     "cell_type": "code",
     "collapsed": false,
     "input": [
      "x= df_filtered\n",
      "y = x[x['treatment_eval_1'] == 'Jam Share Data']\n",
      "s = x[x['treatment_eval_2'] == 'Jam Share Data']\n",
      "alltheJam = y['support_1'].append(s['support_2'])\n",
      "\n",
      "y = x[x['treatment_eval_1'] == 'cite DataLabour']\n",
      "s = x[x['treatment_eval_2'] == 'cite DataLabour']\n",
      "alltheCite = y['support_1'].append(s['support_2'])"
     ],
     "language": "python",
     "metadata": {},
     "outputs": [],
     "prompt_number": 16
    },
    {
     "cell_type": "markdown",
     "metadata": {},
     "source": [
      ">Support"
     ]
    },
    {
     "cell_type": "code",
     "collapsed": false,
     "input": [
      "sns.boxplot([alltheJam.convert_objects(convert_numeric=True).fillna(0), alltheCite.convert_objects(convert_numeric=True).fillna(0)],  names=[\"Product:LOSS\",\"Product:GAIN\" ], color=\"pastel\",   widths=.5)"
     ],
     "language": "python",
     "metadata": {},
     "outputs": [
      {
       "metadata": {},
       "output_type": "pyout",
       "prompt_number": 17,
       "text": [
        "<matplotlib.axes._subplots.AxesSubplot at 0x10d708710>"
       ]
      },
      {
       "metadata": {},
       "output_type": "display_data",
       "png": "[encoded data removed]",
       "text": [
        "<matplotlib.figure.Figure at 0x1054269d0>"
       ]
      }
     ],
     "prompt_number": 17
    },
    {
     "cell_type": "code",
     "collapsed": false,
     "input": [
      "x= df_filtered\n",
      "y = x[x['treatment_eval_1'] == 'Jam Share Data']\n",
      "s = x[x['treatment_eval_2'] == 'Jam Share Data']\n",
      "alltheJam = y['time_1'].append(s['time_2'])\n",
      "\n",
      "y = x[x['treatment_eval_1'] == 'cite DataLabour']\n",
      "s = x[x['treatment_eval_2'] == 'cite DataLabour']\n",
      "alltheCite = y['time_1'].append(s['time_2'])"
     ],
     "language": "python",
     "metadata": {},
     "outputs": [],
     "prompt_number": 18
    },
    {
     "cell_type": "markdown",
     "metadata": {},
     "source": [
      ">Time"
     ]
    },
    {
     "cell_type": "code",
     "collapsed": false,
     "input": [
      "sns.boxplot([alltheJam.convert_objects(convert_numeric=True).fillna(0), alltheCite.convert_objects(convert_numeric=True).fillna(0)],  names=[\"Product:LOSS\",\"Product:GAIN\" ], color=\"pastel\",   widths=.5)"
     ],
     "language": "python",
     "metadata": {},
     "outputs": [
      {
       "metadata": {},
       "output_type": "pyout",
       "prompt_number": 19,
       "text": [
        "<matplotlib.axes._subplots.AxesSubplot at 0x10bf4c210>"
       ]
      },
      {
       "metadata": {},
       "output_type": "display_data",
       "png": "[encoded data removed]",
       "text": [
        "<matplotlib.figure.Figure at 0x10be0e910>"
       ]
      }
     ],
     "prompt_number": 19
    },
    {
     "cell_type": "markdown",
     "metadata": {},
     "source": [
      "> Regret"
     ]
    },
    {
     "cell_type": "code",
     "collapsed": false,
     "input": [
      "x= df_filtered\n",
      "y = x[x['treatment_eval_1'] == 'Jam Share Data']\n",
      "s = x[x['treatment_eval_2'] == 'Jam Share Data']\n",
      "alltheJam = y['regret_1'].append(s['regret_2'])\n",
      "\n",
      "y = x[x['treatment_eval_1'] == 'cite DataLabour']\n",
      "s = x[x['treatment_eval_2'] == 'cite DataLabour']\n",
      "alltheCite = y['regret_1'].append(s['regret_2'])"
     ],
     "language": "python",
     "metadata": {},
     "outputs": [],
     "prompt_number": 20
    },
    {
     "cell_type": "code",
     "collapsed": false,
     "input": [
      "plt.hist(alltheCite)"
     ],
     "language": "python",
     "metadata": {},
     "outputs": [
      {
       "metadata": {},
       "output_type": "pyout",
       "prompt_number": 30,
       "text": [
        "(array([ 3.,  0.,  7.,  0.,  0.,  8.,  0.,  0.,  0.,  1.]),\n",
        " array([ 1. ,  1.4,  1.8,  2.2,  2.6,  3. ,  3.4,  3.8,  4.2,  4.6,  5. ]),\n",
        " <a list of 10 Patch objects>)"
       ]
      },
      {
       "metadata": {},
       "output_type": "display_data",
       "png": "[encoded data removed]",
       "text": [
        "<matplotlib.figure.Figure at 0x10de839d0>"
       ]
      }
     ],
     "prompt_number": 30
    },
    {
     "cell_type": "code",
     "collapsed": false,
     "input": [
      "sns.boxplot([alltheJam.convert_objects(convert_numeric=True).fillna(0), alltheCite.convert_objects(convert_numeric=True).fillna(0)],  names=[\"Product:LOSS\",\"Product:GAIN\" ], color=\"pastel\",   widths=.5)"
     ],
     "language": "python",
     "metadata": {},
     "outputs": [
      {
       "metadata": {},
       "output_type": "pyout",
       "prompt_number": 21,
       "text": [
        "<matplotlib.axes._subplots.AxesSubplot at 0x10ce33550>"
       ]
      },
      {
       "metadata": {},
       "output_type": "display_data",
       "png": "[encoded data removed]",
       "text": [
        "<matplotlib.figure.Figure at 0x10b137ad0>"
       ]
      }
     ],
     "prompt_number": 21
    },
    {
     "cell_type": "markdown",
     "metadata": {},
     "source": [
      "###Is a treatment better than the other one when accounting for framing effects?\n",
      "Comparison Control vs Treatment only in first measure."
     ]
    },
    {
     "cell_type": "markdown",
     "metadata": {},
     "source": [
      "###Are the effects of the sequence?\n",
      "Comparison First vs Second.\n",
      "#### Sharing Behaviour"
     ]
    },
    {
     "cell_type": "code",
     "collapsed": false,
     "input": [
      "x= df_filtered\n",
      "y = x[x['treatment_eval_1'] == 'Jam Share Data']\n",
      "alltheJam = y['measure_1']\n",
      "\n",
      "y = x[x['treatment_eval_1'] == 'cite DataLabour']\n",
      "alltheCite = y['measure_1']"
     ],
     "language": "python",
     "metadata": {},
     "outputs": [],
     "prompt_number": 22
    },
    {
     "cell_type": "code",
     "collapsed": false,
     "input": [
      "sns.boxplot([alltheJam.convert_objects(convert_numeric=True).fillna(0), alltheCite.convert_objects(convert_numeric=True).fillna(0)],  names=[\"Product:LOSS\",\"Product:GAIN\" ], color=\"pastel\",   widths=.5)"
     ],
     "language": "python",
     "metadata": {},
     "outputs": [
      {
       "metadata": {},
       "output_type": "pyout",
       "prompt_number": 23,
       "text": [
        "<matplotlib.axes._subplots.AxesSubplot at 0x10b4c0990>"
       ]
      },
      {
       "metadata": {},
       "output_type": "display_data",
       "png": "[encoded data removed]",
       "text": [
        "<matplotlib.figure.Figure at 0x10bd01190>"
       ]
      }
     ],
     "prompt_number": 23
    },
    {
     "cell_type": "markdown",
     "metadata": {},
     "source": [
      "#### Usability"
     ]
    },
    {
     "cell_type": "code",
     "collapsed": false,
     "input": [
      "x= df_filtered\n",
      "y = x[x['treatment_eval_1'] == 'Jam Share Data']\n",
      "alltheJam = y['time_1']\n",
      "\n",
      "y = x[x['treatment_eval_1'] == 'cite DataLabour']\n",
      "alltheCite = y['time_1']"
     ],
     "language": "python",
     "metadata": {},
     "outputs": [],
     "prompt_number": 24
    },
    {
     "cell_type": "code",
     "collapsed": false,
     "input": [
      "sns.boxplot([alltheJam.convert_objects(convert_numeric=True).fillna(0), alltheCite.convert_objects(convert_numeric=True).fillna(0)],  names=[\"Product:LOSS\",\"Product:GAIN\" ], color=\"pastel\",   widths=.5)"
     ],
     "language": "python",
     "metadata": {},
     "outputs": [
      {
       "metadata": {},
       "output_type": "pyout",
       "prompt_number": 25,
       "text": [
        "<matplotlib.axes._subplots.AxesSubplot at 0x10b102f50>"
       ]
      },
      {
       "metadata": {},
       "output_type": "display_data",
       "png": "[encoded data removed]",
       "text": [
        "<matplotlib.figure.Figure at 0x10b6558d0>"
       ]
      }
     ],
     "prompt_number": 25
    },
    {
     "cell_type": "code",
     "collapsed": false,
     "input": [
      "x= df_filtered\n",
      "y = x[x['treatment_eval_1'] == 'Jam Share Data']\n",
      "alltheJam = y['ease_1']\n",
      "\n",
      "y = x[x['treatment_eval_1'] == 'cite DataLabour']\n",
      "alltheCite = y['ease_1']"
     ],
     "language": "python",
     "metadata": {},
     "outputs": [],
     "prompt_number": 26
    },
    {
     "cell_type": "code",
     "collapsed": false,
     "input": [
      "sns.boxplot([alltheJam.convert_objects(convert_numeric=True).fillna(0), alltheCite.convert_objects(convert_numeric=True).fillna(0)],  names=[\"Product:LOSS\",\"Product:GAIN\" ], color=\"pastel\",   widths=.5)"
     ],
     "language": "python",
     "metadata": {},
     "outputs": [
      {
       "metadata": {},
       "output_type": "pyout",
       "prompt_number": 27,
       "text": [
        "<matplotlib.axes._subplots.AxesSubplot at 0x10bc82dd0>"
       ]
      },
      {
       "metadata": {},
       "output_type": "display_data",
       "png": "[encoded data removed]",
       "text": [
        "<matplotlib.figure.Figure at 0x105a40190>"
       ]
      }
     ],
     "prompt_number": 27
    },
    {
     "cell_type": "code",
     "collapsed": false,
     "input": [
      "x= df_filtered\n",
      "y = x[x['treatment_eval_1'] == 'Jam Share Data']\n",
      "alltheJam = y['support_1']\n",
      "\n",
      "y = x[x['treatment_eval_1'] == 'cite DataLabour']\n",
      "alltheCite = y['support_1']"
     ],
     "language": "python",
     "metadata": {},
     "outputs": [],
     "prompt_number": 28
    },
    {
     "cell_type": "code",
     "collapsed": false,
     "input": [
      "sns.boxplot([alltheJam.convert_objects(convert_numeric=True).fillna(0), alltheCite.convert_objects(convert_numeric=True).fillna(0)],  names=[\"Product:LOSS\",\"Product:GAIN\" ], color=\"pastel\",   widths=.5)"
     ],
     "language": "python",
     "metadata": {},
     "outputs": [
      {
       "metadata": {},
       "output_type": "pyout",
       "prompt_number": 29,
       "text": [
        "<matplotlib.axes._subplots.AxesSubplot at 0x10bd52b90>"
       ]
      },
      {
       "metadata": {},
       "output_type": "display_data",
       "png": "[encoded data removed]",
       "text": [
        "<matplotlib.figure.Figure at 0x10b6d6350>"
       ]
      }
     ],
     "prompt_number": 29
    },
    {
     "cell_type": "markdown",
     "metadata": {},
     "source": [
      "> Regret"
     ]
    },
    {
     "cell_type": "code",
     "collapsed": false,
     "input": [
      "x= df_filtered\n",
      "y = x[x['treatment_eval_1'] == 'Jam Share Data']\n",
      "alltheJam = y['regret_1']\n",
      "\n",
      "y = x[x['treatment_eval_1'] == 'cite DataLabour']\n",
      "alltheCite = y['regret_1']"
     ],
     "language": "python",
     "metadata": {},
     "outputs": [],
     "prompt_number": 30
    },
    {
     "cell_type": "code",
     "collapsed": false,
     "input": [
      "sns.boxplot([alltheJam.convert_objects(convert_numeric=True).fillna(0), alltheCite.convert_objects(convert_numeric=True).fillna(0)],  names=[\"Product:LOSS\",\"Product:GAIN\" ], color=\"pastel\",   widths=.5)"
     ],
     "language": "python",
     "metadata": {},
     "outputs": [
      {
       "metadata": {},
       "output_type": "pyout",
       "prompt_number": 31,
       "text": [
        "<matplotlib.axes._subplots.AxesSubplot at 0x10de47410>"
       ]
      },
      {
       "metadata": {},
       "output_type": "display_data",
       "png": "[encoded data removed]",
       "text": [
        "<matplotlib.figure.Figure at 0x10be4d910>"
       ]
      }
     ],
     "prompt_number": 31
    },
    {
     "cell_type": "markdown",
     "metadata": {},
     "source": [
      "##How the measurements compare by sequence?\n",
      "Comparison all Baseline vs Control vs All Treatment.\n",
      "#### Sharing Behaviour"
     ]
    },
    {
     "cell_type": "code",
     "collapsed": false,
     "input": [
      "sns.boxplot([df_filtered['measure_1'].convert_objects(convert_numeric=True).fillna(0), df_filtered['measure_2'].convert_objects(convert_numeric=True)],  names=[\"First\",\"Second\" ], color=\"coral\",   widths=.5)"
     ],
     "language": "python",
     "metadata": {},
     "outputs": [
      {
       "metadata": {},
       "output_type": "pyout",
       "prompt_number": 32,
       "text": [
        "<matplotlib.axes._subplots.AxesSubplot at 0x10de47450>"
       ]
      },
      {
       "metadata": {},
       "output_type": "display_data",
       "png": "[encoded data removed]",
       "text": [
        "<matplotlib.figure.Figure at 0x10db29110>"
       ]
      }
     ],
     "prompt_number": 32
    },
    {
     "cell_type": "markdown",
     "metadata": {},
     "source": [
      "#### Usability"
     ]
    },
    {
     "cell_type": "code",
     "collapsed": false,
     "input": [
      "sns.boxplot([df_filtered['support_1'].convert_objects(convert_numeric=True).fillna(0), df_filtered['support_2'].convert_objects(convert_numeric=True)],  names=[\"First\",\"Second\" ], color=\"coral\",   widths=.5)"
     ],
     "language": "python",
     "metadata": {},
     "outputs": [
      {
       "metadata": {},
       "output_type": "pyout",
       "prompt_number": 33,
       "text": [
        "<matplotlib.axes._subplots.AxesSubplot at 0x10bb0d0d0>"
       ]
      },
      {
       "metadata": {},
       "output_type": "display_data",
       "png": "[encoded data removed]",
       "text": [
        "<matplotlib.figure.Figure at 0x10db5ba90>"
       ]
      }
     ],
     "prompt_number": 33
    },
    {
     "cell_type": "code",
     "collapsed": false,
     "input": [
      "sns.boxplot([df_filtered['ease_1'].convert_objects(convert_numeric=True).fillna(0), df_filtered['ease_2'].convert_objects(convert_numeric=True)],  names=[\"First\",\"Second\" ], color=\"coral\",   widths=.5)"
     ],
     "language": "python",
     "metadata": {},
     "outputs": [
      {
       "metadata": {},
       "output_type": "pyout",
       "prompt_number": 34,
       "text": [
        "<matplotlib.axes._subplots.AxesSubplot at 0x10d8bc190>"
       ]
      },
      {
       "metadata": {},
       "output_type": "display_data",
       "png": "[encoded data removed]",
       "text": [
        "<matplotlib.figure.Figure at 0x10de7b2d0>"
       ]
      }
     ],
     "prompt_number": 34
    },
    {
     "cell_type": "code",
     "collapsed": false,
     "input": [
      "sns.boxplot([df_filtered['time_1'].convert_objects(convert_numeric=True).fillna(0), df_filtered['time_2'].convert_objects(convert_numeric=True)],  names=[\"First\",\"Second\" ], color=\"coral\",   widths=.5)"
     ],
     "language": "python",
     "metadata": {},
     "outputs": [
      {
       "metadata": {},
       "output_type": "pyout",
       "prompt_number": 35,
       "text": [
        "<matplotlib.axes._subplots.AxesSubplot at 0x10dea5ed0>"
       ]
      },
      {
       "metadata": {},
       "output_type": "display_data",
       "png": "[encoded data removed]",
       "text": [
        "<matplotlib.figure.Figure at 0x10dfd0d10>"
       ]
      }
     ],
     "prompt_number": 35
    },
    {
     "cell_type": "code",
     "collapsed": false,
     "input": [
      "sns.boxplot([df_filtered['regret_1'].convert_objects(convert_numeric=True).fillna(0), df_filtered['regret_2'].convert_objects(convert_numeric=True)],  names=[\"First\",\"Second\" ], color=\"coral\",   widths=.5)"
     ],
     "language": "python",
     "metadata": {},
     "outputs": [
      {
       "metadata": {},
       "output_type": "pyout",
       "prompt_number": 36,
       "text": [
        "<matplotlib.axes._subplots.AxesSubplot at 0x10bb0d850>"
       ]
      },
      {
       "metadata": {},
       "output_type": "display_data",
       "png": "[encoded data removed]",
       "text": [
        "<matplotlib.figure.Figure at 0x10eab4690>"
       ]
      }
     ],
     "prompt_number": 36
    },
    {
     "cell_type": "code",
     "collapsed": false,
     "input": [],
     "language": "python",
     "metadata": {},
     "outputs": [],
     "prompt_number": 36
    },
    {
     "cell_type": "markdown",
     "metadata": {},
     "source": [
      "###How the measurements compare with the opinion of users?\n",
      "Comparison all Baseline vs Control vs All Treatment.\n",
      "#### Sharing Behaviour\n",
      "#### Usability\n"
     ]
    },
    {
     "cell_type": "markdown",
     "metadata": {},
     "source": [
      "### Survey"
     ]
    },
    {
     "cell_type": "code",
     "collapsed": false,
     "input": [],
     "language": "python",
     "metadata": {},
     "outputs": [],
     "prompt_number": 36
    },
    {
     "cell_type": "markdown",
     "metadata": {},
     "source": [
      "### Demographics"
     ]
    },
    {
     "cell_type": "code",
     "collapsed": false,
     "input": [],
     "language": "python",
     "metadata": {},
     "outputs": [],
     "prompt_number": 36
    },
    {
     "cell_type": "code",
     "collapsed": false,
     "input": [
      "text =', '.join(str(x) for x in df_filtered.discipline)\n",
      "wordcloud = WordCloud(font_path='/Library/Fonts/Courier New.ttf').generate(text)\n",
      "plt.imshow(wordcloud)\n",
      "plt.axis(\"off\")\n"
     ],
     "language": "python",
     "metadata": {},
     "outputs": [
      {
       "metadata": {},
       "output_type": "pyout",
       "prompt_number": 37,
       "text": [
        "(-0.5, 399.5, 199.5, -0.5)"
       ]
      },
      {
       "metadata": {},
       "output_type": "display_data",
       "png": "[encoded data removed]",
       "text": [
        "<matplotlib.figure.Figure at 0x10ecb5a90>"
       ]
      }
     ],
     "prompt_number": 37
    },
    {
     "cell_type": "markdown",
     "metadata": {},
     "source": [
      "A similar classification would need to be done for the type of data participants produce/collect."
     ]
    },
    {
     "cell_type": "code",
     "collapsed": false,
     "input": [
      "text =', '.join(str(x) for x in df_filtered.materials_type)\n",
      "wordcloud = WordCloud(font_path='/Library/Fonts/Courier New.ttf', stopwords=\"data, and, with, of, from, analysis\").generate(text)\n",
      "plt.imshow(wordcloud)\n",
      "plt.axis(\"off\")"
     ],
     "language": "python",
     "metadata": {},
     "outputs": [
      {
       "metadata": {},
       "output_type": "pyout",
       "prompt_number": 163,
       "text": [
        "(-0.5, 399.5, 199.5, -0.5)"
       ]
      },
      {
       "metadata": {},
       "output_type": "display_data",
       "png": "[encoded data removed]",
       "text": [
        "<matplotlib.figure.Figure at 0x1153e5810>"
       ]
      }
     ],
     "prompt_number": 163
    },
    {
     "cell_type": "markdown",
     "metadata": {},
     "source": [
      "The sample is mostly consituted by PhD's in their mid-20s."
     ]
    },
    {
     "cell_type": "code",
     "collapsed": false,
     "input": [
      "plt.hist(df_filtered.year_born.dropna())\n"
     ],
     "language": "python",
     "metadata": {},
     "outputs": [
      {
       "metadata": {},
       "output_type": "pyout",
       "prompt_number": 164,
       "text": [
        "(array([ 1.,  0.,  0.,  0.,  0.,  0.,  0.,  0.,  0.,  2.]),\n",
        " array([ 1950.,  1952.,  1954.,  1956.,  1958.,  1960.,  1962.,  1964.,\n",
        "         1966.,  1968.,  1970.]),\n",
        " <a list of 10 Patch objects>)"
       ]
      },
      {
       "metadata": {},
       "output_type": "display_data",
       "png": "[encoded data removed]",
       "text": [
        "<matplotlib.figure.Figure at 0x114814090>"
       ]
      }
     ],
     "prompt_number": 164
    },
    {
     "cell_type": "markdown",
     "metadata": {},
     "source": [
      "The pseudo random allocation of subjects has been balacing the treatment sequence administration fine. \n",
      "\n",
      "- CONTROL: participant that received the CONTROL product first.\n",
      "- TREATMENT: participant that received the TREATMENT product first."
     ]
    },
    {
     "cell_type": "code",
     "collapsed": false,
     "input": [
      "s = df_filtered.groupby('treatment_eval_2')['treatment_eval_2'].count()\n",
      "s.plot(kind='bar')"
     ],
     "language": "python",
     "metadata": {},
     "outputs": [
      {
       "metadata": {},
       "output_type": "pyout",
       "prompt_number": 13,
       "text": [
        "<matplotlib.axes._subplots.AxesSubplot at 0x10c31df10>"
       ]
      },
      {
       "metadata": {},
       "output_type": "display_data",
       "png": "[encoded data removed]",
       "text": [
        "<matplotlib.figure.Figure at 0x10c8ef990>"
       ]
      }
     ],
     "prompt_number": 13
    },
    {
     "cell_type": "code",
     "collapsed": false,
     "input": [
      "s = df_filtered.groupby('treatment_eval_1')['treatment_eval_1'].count()\n",
      "s.plot(kind='bar')"
     ],
     "language": "python",
     "metadata": {},
     "outputs": [
      {
       "metadata": {},
       "output_type": "pyout",
       "prompt_number": 14,
       "text": [
        "<matplotlib.axes._subplots.AxesSubplot at 0x10c96f650>"
       ]
      },
      {
       "metadata": {},
       "output_type": "display_data",
       "png": "[encoded data removed]",
       "text": [
        "<matplotlib.figure.Figure at 0x10cad3550>"
       ]
      }
     ],
     "prompt_number": 14
    },
    {
     "cell_type": "code",
     "collapsed": false,
     "input": [
      "s = df_filtered.groupby('howmany')['howmany'].count()\n",
      "s.plot(kind='bar')"
     ],
     "language": "python",
     "metadata": {},
     "outputs": [
      {
       "metadata": {},
       "output_type": "pyout",
       "prompt_number": 15,
       "text": [
        "<matplotlib.axes._subplots.AxesSubplot at 0x10ccd7450>"
       ]
      },
      {
       "metadata": {},
       "output_type": "display_data",
       "png": "[encoded data removed]",
       "text": [
        "<matplotlib.figure.Figure at 0x10cd34650>"
       ]
      }
     ],
     "prompt_number": 15
    },
    {
     "cell_type": "code",
     "collapsed": false,
     "input": [
      "s = df_filtered.groupby('updating')['updating'].count()\n",
      "s.plot(kind='bar')"
     ],
     "language": "python",
     "metadata": {},
     "outputs": [
      {
       "ename": "TypeError",
       "evalue": "Empty 'Series': no numeric data to plot",
       "output_type": "pyerr",
       "traceback": [
        "\u001b[0;31m---------------------------------------------------------------------------\u001b[0m\n\u001b[0;31mTypeError\u001b[0m                                 Traceback (most recent call last)",
        "\u001b[0;32m<ipython-input-16-2b64512a5744>\u001b[0m in \u001b[0;36m<module>\u001b[0;34m()\u001b[0m\n\u001b[1;32m      1\u001b[0m \u001b[0ms\u001b[0m \u001b[0;34m=\u001b[0m \u001b[0mdf_filtered\u001b[0m\u001b[0;34m.\u001b[0m\u001b[0mgroupby\u001b[0m\u001b[0;34m(\u001b[0m\u001b[0;34m'updating'\u001b[0m\u001b[0;34m)\u001b[0m\u001b[0;34m[\u001b[0m\u001b[0;34m'updating'\u001b[0m\u001b[0;34m]\u001b[0m\u001b[0;34m.\u001b[0m\u001b[0mcount\u001b[0m\u001b[0;34m(\u001b[0m\u001b[0;34m)\u001b[0m\u001b[0;34m\u001b[0m\u001b[0m\n\u001b[0;32m----> 2\u001b[0;31m \u001b[0ms\u001b[0m\u001b[0;34m.\u001b[0m\u001b[0mplot\u001b[0m\u001b[0;34m(\u001b[0m\u001b[0mkind\u001b[0m\u001b[0;34m=\u001b[0m\u001b[0;34m'bar'\u001b[0m\u001b[0;34m)\u001b[0m\u001b[0;34m\u001b[0m\u001b[0m\n\u001b[0m",
        "\u001b[0;32m/Users/kristian/miniconda/lib/python2.7/site-packages/pandas/tools/plotting.pyc\u001b[0m in \u001b[0;36mplot_series\u001b[0;34m(data, kind, ax, figsize, use_index, title, grid, legend, style, logx, logy, loglog, xticks, yticks, xlim, ylim, rot, fontsize, colormap, table, yerr, xerr, label, secondary_y, **kwds)\u001b[0m\n\u001b[1;32m   2509\u001b[0m                  \u001b[0myerr\u001b[0m\u001b[0;34m=\u001b[0m\u001b[0myerr\u001b[0m\u001b[0;34m,\u001b[0m \u001b[0mxerr\u001b[0m\u001b[0;34m=\u001b[0m\u001b[0mxerr\u001b[0m\u001b[0;34m,\u001b[0m\u001b[0;34m\u001b[0m\u001b[0m\n\u001b[1;32m   2510\u001b[0m                  \u001b[0mlabel\u001b[0m\u001b[0;34m=\u001b[0m\u001b[0mlabel\u001b[0m\u001b[0;34m,\u001b[0m \u001b[0msecondary_y\u001b[0m\u001b[0;34m=\u001b[0m\u001b[0msecondary_y\u001b[0m\u001b[0;34m,\u001b[0m\u001b[0;34m\u001b[0m\u001b[0m\n\u001b[0;32m-> 2511\u001b[0;31m                  **kwds)\n\u001b[0m\u001b[1;32m   2512\u001b[0m \u001b[0;34m\u001b[0m\u001b[0m\n\u001b[1;32m   2513\u001b[0m \u001b[0;34m\u001b[0m\u001b[0m\n",
        "\u001b[0;32m/Users/kristian/miniconda/lib/python2.7/site-packages/pandas/tools/plotting.pyc\u001b[0m in \u001b[0;36m_plot\u001b[0;34m(data, x, y, subplots, ax, kind, **kwds)\u001b[0m\n\u001b[1;32m   2315\u001b[0m         \u001b[0mplot_obj\u001b[0m \u001b[0;34m=\u001b[0m \u001b[0mklass\u001b[0m\u001b[0;34m(\u001b[0m\u001b[0mdata\u001b[0m\u001b[0;34m,\u001b[0m \u001b[0msubplots\u001b[0m\u001b[0;34m=\u001b[0m\u001b[0msubplots\u001b[0m\u001b[0;34m,\u001b[0m \u001b[0max\u001b[0m\u001b[0;34m=\u001b[0m\u001b[0max\u001b[0m\u001b[0;34m,\u001b[0m \u001b[0mkind\u001b[0m\u001b[0;34m=\u001b[0m\u001b[0mkind\u001b[0m\u001b[0;34m,\u001b[0m \u001b[0;34m**\u001b[0m\u001b[0mkwds\u001b[0m\u001b[0;34m)\u001b[0m\u001b[0;34m\u001b[0m\u001b[0m\n\u001b[1;32m   2316\u001b[0m \u001b[0;34m\u001b[0m\u001b[0m\n\u001b[0;32m-> 2317\u001b[0;31m     \u001b[0mplot_obj\u001b[0m\u001b[0;34m.\u001b[0m\u001b[0mgenerate\u001b[0m\u001b[0;34m(\u001b[0m\u001b[0;34m)\u001b[0m\u001b[0;34m\u001b[0m\u001b[0m\n\u001b[0m\u001b[1;32m   2318\u001b[0m     \u001b[0mplot_obj\u001b[0m\u001b[0;34m.\u001b[0m\u001b[0mdraw\u001b[0m\u001b[0;34m(\u001b[0m\u001b[0;34m)\u001b[0m\u001b[0;34m\u001b[0m\u001b[0m\n\u001b[1;32m   2319\u001b[0m     \u001b[0;32mreturn\u001b[0m \u001b[0mplot_obj\u001b[0m\u001b[0;34m.\u001b[0m\u001b[0mresult\u001b[0m\u001b[0;34m\u001b[0m\u001b[0m\n",
        "\u001b[0;32m/Users/kristian/miniconda/lib/python2.7/site-packages/pandas/tools/plotting.pyc\u001b[0m in \u001b[0;36mgenerate\u001b[0;34m(self)\u001b[0m\n\u001b[1;32m    919\u001b[0m     \u001b[0;32mdef\u001b[0m \u001b[0mgenerate\u001b[0m\u001b[0;34m(\u001b[0m\u001b[0mself\u001b[0m\u001b[0;34m)\u001b[0m\u001b[0;34m:\u001b[0m\u001b[0;34m\u001b[0m\u001b[0m\n\u001b[1;32m    920\u001b[0m         \u001b[0mself\u001b[0m\u001b[0;34m.\u001b[0m\u001b[0m_args_adjust\u001b[0m\u001b[0;34m(\u001b[0m\u001b[0;34m)\u001b[0m\u001b[0;34m\u001b[0m\u001b[0m\n\u001b[0;32m--> 921\u001b[0;31m         \u001b[0mself\u001b[0m\u001b[0;34m.\u001b[0m\u001b[0m_compute_plot_data\u001b[0m\u001b[0;34m(\u001b[0m\u001b[0;34m)\u001b[0m\u001b[0;34m\u001b[0m\u001b[0m\n\u001b[0m\u001b[1;32m    922\u001b[0m         \u001b[0mself\u001b[0m\u001b[0;34m.\u001b[0m\u001b[0m_setup_subplots\u001b[0m\u001b[0;34m(\u001b[0m\u001b[0;34m)\u001b[0m\u001b[0;34m\u001b[0m\u001b[0m\n\u001b[1;32m    923\u001b[0m         \u001b[0mself\u001b[0m\u001b[0;34m.\u001b[0m\u001b[0m_make_plot\u001b[0m\u001b[0;34m(\u001b[0m\u001b[0;34m)\u001b[0m\u001b[0;34m\u001b[0m\u001b[0m\n",
        "\u001b[0;32m/Users/kristian/miniconda/lib/python2.7/site-packages/pandas/tools/plotting.pyc\u001b[0m in \u001b[0;36m_compute_plot_data\u001b[0;34m(self)\u001b[0m\n\u001b[1;32m    995\u001b[0m         \u001b[0;32mif\u001b[0m \u001b[0mis_empty\u001b[0m\u001b[0;34m:\u001b[0m\u001b[0;34m\u001b[0m\u001b[0m\n\u001b[1;32m    996\u001b[0m             raise TypeError('Empty {0!r}: no numeric data to '\n\u001b[0;32m--> 997\u001b[0;31m                             'plot'.format(numeric_data.__class__.__name__))\n\u001b[0m\u001b[1;32m    998\u001b[0m \u001b[0;34m\u001b[0m\u001b[0m\n\u001b[1;32m    999\u001b[0m         \u001b[0mself\u001b[0m\u001b[0;34m.\u001b[0m\u001b[0mdata\u001b[0m \u001b[0;34m=\u001b[0m \u001b[0mnumeric_data\u001b[0m\u001b[0;34m\u001b[0m\u001b[0m\n",
        "\u001b[0;31mTypeError\u001b[0m: Empty 'Series': no numeric data to plot"
       ]
      }
     ],
     "prompt_number": 16
    },
    {
     "cell_type": "code",
     "collapsed": false,
     "input": [
      "s = df_filtered.groupby('when_best')['when_best'].count()\n",
      "s.plot(kind='bar')"
     ],
     "language": "python",
     "metadata": {},
     "outputs": []
    },
    {
     "cell_type": "code",
     "collapsed": false,
     "input": [
      "df_filtered.groupby('treatment_eval_1').describe()"
     ],
     "language": "python",
     "metadata": {},
     "outputs": [
      {
       "html": [
        "<div style=\"max-height:1000px;max-width:1500px;overflow:auto;\">\n",
        "<table border=\"1\" class=\"dataframe\">\n",
        "  <thead>\n",
        "    <tr style=\"text-align: right;\">\n",
        "      <th></th>\n",
        "      <th></th>\n",
        "      <th>academic</th>\n",
        "      <th>ease_1</th>\n",
        "      <th>ease_2</th>\n",
        "      <th>frequency</th>\n",
        "      <th>regret_1</th>\n",
        "      <th>regret_2</th>\n",
        "      <th>support_1</th>\n",
        "      <th>support_2</th>\n",
        "      <th>time_1</th>\n",
        "      <th>time_2</th>\n",
        "      <th>...</th>\n",
        "      <th>time_create</th>\n",
        "      <th>time_create_1</th>\n",
        "      <th>time_create_2</th>\n",
        "      <th>time_first_evaluation</th>\n",
        "      <th>time_second_evaluation</th>\n",
        "      <th>trial_1</th>\n",
        "      <th>trial_2</th>\n",
        "      <th>updating</th>\n",
        "      <th>when_best</th>\n",
        "      <th>year_born</th>\n",
        "    </tr>\n",
        "    <tr>\n",
        "      <th>treatment_eval_1</th>\n",
        "      <th></th>\n",
        "      <th></th>\n",
        "      <th></th>\n",
        "      <th></th>\n",
        "      <th></th>\n",
        "      <th></th>\n",
        "      <th></th>\n",
        "      <th></th>\n",
        "      <th></th>\n",
        "      <th></th>\n",
        "      <th></th>\n",
        "      <th></th>\n",
        "      <th></th>\n",
        "      <th></th>\n",
        "      <th></th>\n",
        "      <th></th>\n",
        "      <th></th>\n",
        "      <th></th>\n",
        "      <th></th>\n",
        "      <th></th>\n",
        "      <th></th>\n",
        "      <th></th>\n",
        "    </tr>\n",
        "  </thead>\n",
        "  <tbody>\n",
        "    <tr>\n",
        "      <th rowspan=\"8\" valign=\"top\">Jam Share Data</th>\n",
        "      <th>count</th>\n",
        "      <td>  2.000000</td>\n",
        "      <td>  3.000000</td>\n",
        "      <td>  2.000000</td>\n",
        "      <td>  1</td>\n",
        "      <td>  3.000000</td>\n",
        "      <td>  2.00000</td>\n",
        "      <td>  3.000000</td>\n",
        "      <td>  1.000000</td>\n",
        "      <td>  3.000000</td>\n",
        "      <td>  2.000000</td>\n",
        "      <td>...</td>\n",
        "      <td>  0</td>\n",
        "      <td>          1</td>\n",
        "      <td>          1</td>\n",
        "      <td>          1</td>\n",
        "      <td>          1</td>\n",
        "      <td>  1</td>\n",
        "      <td>  1</td>\n",
        "      <td>  0</td>\n",
        "      <td>  1</td>\n",
        "      <td>    1</td>\n",
        "    </tr>\n",
        "    <tr>\n",
        "      <th>mean</th>\n",
        "      <td>  1.000000</td>\n",
        "      <td>  4.000000</td>\n",
        "      <td>  3.000000</td>\n",
        "      <td>  5</td>\n",
        "      <td>  3.333333</td>\n",
        "      <td>  2.00000</td>\n",
        "      <td>  3.666667</td>\n",
        "      <td>  4.000000</td>\n",
        "      <td>  4.333333</td>\n",
        "      <td>  3.000000</td>\n",
        "      <td>...</td>\n",
        "      <td>NaN</td>\n",
        "      <td> 1423476579</td>\n",
        "      <td> 1423476812</td>\n",
        "      <td> 1423476623</td>\n",
        "      <td> 1423476842</td>\n",
        "      <td>  0</td>\n",
        "      <td>  1</td>\n",
        "      <td>NaN</td>\n",
        "      <td>  5</td>\n",
        "      <td> 1978</td>\n",
        "    </tr>\n",
        "    <tr>\n",
        "      <th>std</th>\n",
        "      <td>  0.000000</td>\n",
        "      <td>  0.000000</td>\n",
        "      <td>  1.414214</td>\n",
        "      <td>NaN</td>\n",
        "      <td>  0.577350</td>\n",
        "      <td>  0.00000</td>\n",
        "      <td>  0.577350</td>\n",
        "      <td>       NaN</td>\n",
        "      <td>  0.577350</td>\n",
        "      <td>  1.414214</td>\n",
        "      <td>...</td>\n",
        "      <td>NaN</td>\n",
        "      <td>        NaN</td>\n",
        "      <td>        NaN</td>\n",
        "      <td>        NaN</td>\n",
        "      <td>        NaN</td>\n",
        "      <td>NaN</td>\n",
        "      <td>NaN</td>\n",
        "      <td>NaN</td>\n",
        "      <td>NaN</td>\n",
        "      <td>  NaN</td>\n",
        "    </tr>\n",
        "    <tr>\n",
        "      <th>min</th>\n",
        "      <td>  1.000000</td>\n",
        "      <td>  4.000000</td>\n",
        "      <td>  2.000000</td>\n",
        "      <td>  5</td>\n",
        "      <td>  3.000000</td>\n",
        "      <td>  2.00000</td>\n",
        "      <td>  3.000000</td>\n",
        "      <td>  4.000000</td>\n",
        "      <td>  4.000000</td>\n",
        "      <td>  2.000000</td>\n",
        "      <td>...</td>\n",
        "      <td>NaN</td>\n",
        "      <td> 1423476579</td>\n",
        "      <td> 1423476812</td>\n",
        "      <td> 1423476623</td>\n",
        "      <td> 1423476842</td>\n",
        "      <td>  0</td>\n",
        "      <td>  1</td>\n",
        "      <td>NaN</td>\n",
        "      <td>  5</td>\n",
        "      <td> 1978</td>\n",
        "    </tr>\n",
        "    <tr>\n",
        "      <th>25%</th>\n",
        "      <td>  1.000000</td>\n",
        "      <td>  4.000000</td>\n",
        "      <td>  2.500000</td>\n",
        "      <td>  5</td>\n",
        "      <td>  3.000000</td>\n",
        "      <td>  2.00000</td>\n",
        "      <td>  3.500000</td>\n",
        "      <td>  4.000000</td>\n",
        "      <td>  4.000000</td>\n",
        "      <td>  2.500000</td>\n",
        "      <td>...</td>\n",
        "      <td>NaN</td>\n",
        "      <td> 1423476579</td>\n",
        "      <td> 1423476812</td>\n",
        "      <td> 1423476623</td>\n",
        "      <td> 1423476842</td>\n",
        "      <td>  0</td>\n",
        "      <td>  1</td>\n",
        "      <td>NaN</td>\n",
        "      <td>  5</td>\n",
        "      <td> 1978</td>\n",
        "    </tr>\n",
        "    <tr>\n",
        "      <th>50%</th>\n",
        "      <td>  1.000000</td>\n",
        "      <td>  4.000000</td>\n",
        "      <td>  3.000000</td>\n",
        "      <td>  5</td>\n",
        "      <td>  3.000000</td>\n",
        "      <td>  2.00000</td>\n",
        "      <td>  4.000000</td>\n",
        "      <td>  4.000000</td>\n",
        "      <td>  4.000000</td>\n",
        "      <td>  3.000000</td>\n",
        "      <td>...</td>\n",
        "      <td>NaN</td>\n",
        "      <td> 1423476579</td>\n",
        "      <td> 1423476812</td>\n",
        "      <td> 1423476623</td>\n",
        "      <td> 1423476842</td>\n",
        "      <td>  0</td>\n",
        "      <td>  1</td>\n",
        "      <td>NaN</td>\n",
        "      <td>  5</td>\n",
        "      <td> 1978</td>\n",
        "    </tr>\n",
        "    <tr>\n",
        "      <th>75%</th>\n",
        "      <td>  1.000000</td>\n",
        "      <td>  4.000000</td>\n",
        "      <td>  3.500000</td>\n",
        "      <td>  5</td>\n",
        "      <td>  3.500000</td>\n",
        "      <td>  2.00000</td>\n",
        "      <td>  4.000000</td>\n",
        "      <td>  4.000000</td>\n",
        "      <td>  4.500000</td>\n",
        "      <td>  3.500000</td>\n",
        "      <td>...</td>\n",
        "      <td>NaN</td>\n",
        "      <td> 1423476579</td>\n",
        "      <td> 1423476812</td>\n",
        "      <td> 1423476623</td>\n",
        "      <td> 1423476842</td>\n",
        "      <td>  0</td>\n",
        "      <td>  1</td>\n",
        "      <td>NaN</td>\n",
        "      <td>  5</td>\n",
        "      <td> 1978</td>\n",
        "    </tr>\n",
        "    <tr>\n",
        "      <th>max</th>\n",
        "      <td>  1.000000</td>\n",
        "      <td>  4.000000</td>\n",
        "      <td>  4.000000</td>\n",
        "      <td>  5</td>\n",
        "      <td>  4.000000</td>\n",
        "      <td>  2.00000</td>\n",
        "      <td>  4.000000</td>\n",
        "      <td>  4.000000</td>\n",
        "      <td>  5.000000</td>\n",
        "      <td>  4.000000</td>\n",
        "      <td>...</td>\n",
        "      <td>NaN</td>\n",
        "      <td> 1423476579</td>\n",
        "      <td> 1423476812</td>\n",
        "      <td> 1423476623</td>\n",
        "      <td> 1423476842</td>\n",
        "      <td>  0</td>\n",
        "      <td>  1</td>\n",
        "      <td>NaN</td>\n",
        "      <td>  5</td>\n",
        "      <td> 1978</td>\n",
        "    </tr>\n",
        "    <tr>\n",
        "      <th rowspan=\"8\" valign=\"top\">cite DataLabour</th>\n",
        "      <th>count</th>\n",
        "      <td> 11.000000</td>\n",
        "      <td> 12.000000</td>\n",
        "      <td> 10.000000</td>\n",
        "      <td>  1</td>\n",
        "      <td> 12.000000</td>\n",
        "      <td> 10.00000</td>\n",
        "      <td> 12.000000</td>\n",
        "      <td> 10.000000</td>\n",
        "      <td> 12.000000</td>\n",
        "      <td> 10.000000</td>\n",
        "      <td>...</td>\n",
        "      <td>  0</td>\n",
        "      <td>          1</td>\n",
        "      <td>          1</td>\n",
        "      <td>          1</td>\n",
        "      <td>          1</td>\n",
        "      <td>  1</td>\n",
        "      <td>  1</td>\n",
        "      <td>  0</td>\n",
        "      <td>  1</td>\n",
        "      <td>    1</td>\n",
        "    </tr>\n",
        "    <tr>\n",
        "      <th>mean</th>\n",
        "      <td>  1.272727</td>\n",
        "      <td>  4.000000</td>\n",
        "      <td>  4.300000</td>\n",
        "      <td>  5</td>\n",
        "      <td>  2.166667</td>\n",
        "      <td>  2.70000</td>\n",
        "      <td>  3.666667</td>\n",
        "      <td>  3.800000</td>\n",
        "      <td>  4.083333</td>\n",
        "      <td>  4.300000</td>\n",
        "      <td>...</td>\n",
        "      <td>NaN</td>\n",
        "      <td> 1423477358</td>\n",
        "      <td> 1423477586</td>\n",
        "      <td> 1423477410</td>\n",
        "      <td> 1423477633</td>\n",
        "      <td>  0</td>\n",
        "      <td>  1</td>\n",
        "      <td>NaN</td>\n",
        "      <td>  5</td>\n",
        "      <td> 1987</td>\n",
        "    </tr>\n",
        "    <tr>\n",
        "      <th>std</th>\n",
        "      <td>  0.467099</td>\n",
        "      <td>  1.044466</td>\n",
        "      <td>  0.483046</td>\n",
        "      <td>NaN</td>\n",
        "      <td>  0.717741</td>\n",
        "      <td>  1.05935</td>\n",
        "      <td>  0.984732</td>\n",
        "      <td>  0.632456</td>\n",
        "      <td>  1.083625</td>\n",
        "      <td>  0.483046</td>\n",
        "      <td>...</td>\n",
        "      <td>NaN</td>\n",
        "      <td>        NaN</td>\n",
        "      <td>        NaN</td>\n",
        "      <td>        NaN</td>\n",
        "      <td>        NaN</td>\n",
        "      <td>NaN</td>\n",
        "      <td>NaN</td>\n",
        "      <td>NaN</td>\n",
        "      <td>NaN</td>\n",
        "      <td>  NaN</td>\n",
        "    </tr>\n",
        "    <tr>\n",
        "      <th>min</th>\n",
        "      <td>  1.000000</td>\n",
        "      <td>  1.000000</td>\n",
        "      <td>  4.000000</td>\n",
        "      <td>  5</td>\n",
        "      <td>  1.000000</td>\n",
        "      <td>  1.00000</td>\n",
        "      <td>  1.000000</td>\n",
        "      <td>  3.000000</td>\n",
        "      <td>  1.000000</td>\n",
        "      <td>  4.000000</td>\n",
        "      <td>...</td>\n",
        "      <td>NaN</td>\n",
        "      <td> 1423477358</td>\n",
        "      <td> 1423477586</td>\n",
        "      <td> 1423477410</td>\n",
        "      <td> 1423477633</td>\n",
        "      <td>  0</td>\n",
        "      <td>  1</td>\n",
        "      <td>NaN</td>\n",
        "      <td>  5</td>\n",
        "      <td> 1987</td>\n",
        "    </tr>\n",
        "    <tr>\n",
        "      <th>25%</th>\n",
        "      <td>  1.000000</td>\n",
        "      <td>  4.000000</td>\n",
        "      <td>  4.000000</td>\n",
        "      <td>  5</td>\n",
        "      <td>  2.000000</td>\n",
        "      <td>  2.00000</td>\n",
        "      <td>  3.750000</td>\n",
        "      <td>  3.250000</td>\n",
        "      <td>  4.000000</td>\n",
        "      <td>  4.000000</td>\n",
        "      <td>...</td>\n",
        "      <td>NaN</td>\n",
        "      <td> 1423477358</td>\n",
        "      <td> 1423477586</td>\n",
        "      <td> 1423477410</td>\n",
        "      <td> 1423477633</td>\n",
        "      <td>  0</td>\n",
        "      <td>  1</td>\n",
        "      <td>NaN</td>\n",
        "      <td>  5</td>\n",
        "      <td> 1987</td>\n",
        "    </tr>\n",
        "    <tr>\n",
        "      <th>50%</th>\n",
        "      <td>  1.000000</td>\n",
        "      <td>  4.000000</td>\n",
        "      <td>  4.000000</td>\n",
        "      <td>  5</td>\n",
        "      <td>  2.000000</td>\n",
        "      <td>  3.00000</td>\n",
        "      <td>  4.000000</td>\n",
        "      <td>  4.000000</td>\n",
        "      <td>  4.000000</td>\n",
        "      <td>  4.000000</td>\n",
        "      <td>...</td>\n",
        "      <td>NaN</td>\n",
        "      <td> 1423477358</td>\n",
        "      <td> 1423477586</td>\n",
        "      <td> 1423477410</td>\n",
        "      <td> 1423477633</td>\n",
        "      <td>  0</td>\n",
        "      <td>  1</td>\n",
        "      <td>NaN</td>\n",
        "      <td>  5</td>\n",
        "      <td> 1987</td>\n",
        "    </tr>\n",
        "    <tr>\n",
        "      <th>75%</th>\n",
        "      <td>  1.500000</td>\n",
        "      <td>  4.250000</td>\n",
        "      <td>  4.750000</td>\n",
        "      <td>  5</td>\n",
        "      <td>  3.000000</td>\n",
        "      <td>  3.00000</td>\n",
        "      <td>  4.000000</td>\n",
        "      <td>  4.000000</td>\n",
        "      <td>  5.000000</td>\n",
        "      <td>  4.750000</td>\n",
        "      <td>...</td>\n",
        "      <td>NaN</td>\n",
        "      <td> 1423477358</td>\n",
        "      <td> 1423477586</td>\n",
        "      <td> 1423477410</td>\n",
        "      <td> 1423477633</td>\n",
        "      <td>  0</td>\n",
        "      <td>  1</td>\n",
        "      <td>NaN</td>\n",
        "      <td>  5</td>\n",
        "      <td> 1987</td>\n",
        "    </tr>\n",
        "    <tr>\n",
        "      <th>max</th>\n",
        "      <td>  2.000000</td>\n",
        "      <td>  5.000000</td>\n",
        "      <td>  5.000000</td>\n",
        "      <td>  5</td>\n",
        "      <td>  3.000000</td>\n",
        "      <td>  5.00000</td>\n",
        "      <td>  5.000000</td>\n",
        "      <td>  5.000000</td>\n",
        "      <td>  5.000000</td>\n",
        "      <td>  5.000000</td>\n",
        "      <td>...</td>\n",
        "      <td>NaN</td>\n",
        "      <td> 1423477358</td>\n",
        "      <td> 1423477586</td>\n",
        "      <td> 1423477410</td>\n",
        "      <td> 1423477633</td>\n",
        "      <td>  0</td>\n",
        "      <td>  1</td>\n",
        "      <td>NaN</td>\n",
        "      <td>  5</td>\n",
        "      <td> 1987</td>\n",
        "    </tr>\n",
        "  </tbody>\n",
        "</table>\n",
        "<p>16 rows \u00d7 21 columns</p>\n",
        "</div>"
       ],
       "metadata": {},
       "output_type": "pyout",
       "prompt_number": 17,
       "text": [
        "                         academic     ease_1     ease_2  frequency   regret_1  \\\n",
        "treatment_eval_1                                                                \n",
        "Jam Share Data   count   2.000000   3.000000   2.000000          1   3.000000   \n",
        "                 mean    1.000000   4.000000   3.000000          5   3.333333   \n",
        "                 std     0.000000   0.000000   1.414214        NaN   0.577350   \n",
        "                 min     1.000000   4.000000   2.000000          5   3.000000   \n",
        "                 25%     1.000000   4.000000   2.500000          5   3.000000   \n",
        "                 50%     1.000000   4.000000   3.000000          5   3.000000   \n",
        "                 75%     1.000000   4.000000   3.500000          5   3.500000   \n",
        "                 max     1.000000   4.000000   4.000000          5   4.000000   \n",
        "cite DataLabour  count  11.000000  12.000000  10.000000          1  12.000000   \n",
        "                 mean    1.272727   4.000000   4.300000          5   2.166667   \n",
        "                 std     0.467099   1.044466   0.483046        NaN   0.717741   \n",
        "                 min     1.000000   1.000000   4.000000          5   1.000000   \n",
        "                 25%     1.000000   4.000000   4.000000          5   2.000000   \n",
        "                 50%     1.000000   4.000000   4.000000          5   2.000000   \n",
        "                 75%     1.500000   4.250000   4.750000          5   3.000000   \n",
        "                 max     2.000000   5.000000   5.000000          5   3.000000   \n",
        "\n",
        "                        regret_2  support_1  support_2     time_1     time_2  \\\n",
        "treatment_eval_1                                                               \n",
        "Jam Share Data   count   2.00000   3.000000   1.000000   3.000000   2.000000   \n",
        "                 mean    2.00000   3.666667   4.000000   4.333333   3.000000   \n",
        "                 std     0.00000   0.577350        NaN   0.577350   1.414214   \n",
        "                 min     2.00000   3.000000   4.000000   4.000000   2.000000   \n",
        "                 25%     2.00000   3.500000   4.000000   4.000000   2.500000   \n",
        "                 50%     2.00000   4.000000   4.000000   4.000000   3.000000   \n",
        "                 75%     2.00000   4.000000   4.000000   4.500000   3.500000   \n",
        "                 max     2.00000   4.000000   4.000000   5.000000   4.000000   \n",
        "cite DataLabour  count  10.00000  12.000000  10.000000  12.000000  10.000000   \n",
        "                 mean    2.70000   3.666667   3.800000   4.083333   4.300000   \n",
        "                 std     1.05935   0.984732   0.632456   1.083625   0.483046   \n",
        "                 min     1.00000   1.000000   3.000000   1.000000   4.000000   \n",
        "                 25%     2.00000   3.750000   3.250000   4.000000   4.000000   \n",
        "                 50%     3.00000   4.000000   4.000000   4.000000   4.000000   \n",
        "                 75%     3.00000   4.000000   4.000000   5.000000   4.750000   \n",
        "                 max     5.00000   5.000000   5.000000   5.000000   5.000000   \n",
        "\n",
        "                          ...      time_create  time_create_1  time_create_2  \\\n",
        "treatment_eval_1          ...                                                  \n",
        "Jam Share Data   count    ...                0              1              1   \n",
        "                 mean     ...              NaN     1423476579     1423476812   \n",
        "                 std      ...              NaN            NaN            NaN   \n",
        "                 min      ...              NaN     1423476579     1423476812   \n",
        "                 25%      ...              NaN     1423476579     1423476812   \n",
        "                 50%      ...              NaN     1423476579     1423476812   \n",
        "                 75%      ...              NaN     1423476579     1423476812   \n",
        "                 max      ...              NaN     1423476579     1423476812   \n",
        "cite DataLabour  count    ...                0              1              1   \n",
        "                 mean     ...              NaN     1423477358     1423477586   \n",
        "                 std      ...              NaN            NaN            NaN   \n",
        "                 min      ...              NaN     1423477358     1423477586   \n",
        "                 25%      ...              NaN     1423477358     1423477586   \n",
        "                 50%      ...              NaN     1423477358     1423477586   \n",
        "                 75%      ...              NaN     1423477358     1423477586   \n",
        "                 max      ...              NaN     1423477358     1423477586   \n",
        "\n",
        "                        time_first_evaluation  time_second_evaluation  \\\n",
        "treatment_eval_1                                                        \n",
        "Jam Share Data   count                      1                       1   \n",
        "                 mean              1423476623              1423476842   \n",
        "                 std                      NaN                     NaN   \n",
        "                 min               1423476623              1423476842   \n",
        "                 25%               1423476623              1423476842   \n",
        "                 50%               1423476623              1423476842   \n",
        "                 75%               1423476623              1423476842   \n",
        "                 max               1423476623              1423476842   \n",
        "cite DataLabour  count                      1                       1   \n",
        "                 mean              1423477410              1423477633   \n",
        "                 std                      NaN                     NaN   \n",
        "                 min               1423477410              1423477633   \n",
        "                 25%               1423477410              1423477633   \n",
        "                 50%               1423477410              1423477633   \n",
        "                 75%               1423477410              1423477633   \n",
        "                 max               1423477410              1423477633   \n",
        "\n",
        "                        trial_1  trial_2  updating  when_best  year_born  \n",
        "treatment_eval_1                                                          \n",
        "Jam Share Data   count        1        1         0          1          1  \n",
        "                 mean         0        1       NaN          5       1978  \n",
        "                 std        NaN      NaN       NaN        NaN        NaN  \n",
        "                 min          0        1       NaN          5       1978  \n",
        "                 25%          0        1       NaN          5       1978  \n",
        "                 50%          0        1       NaN          5       1978  \n",
        "                 75%          0        1       NaN          5       1978  \n",
        "                 max          0        1       NaN          5       1978  \n",
        "cite DataLabour  count        1        1         0          1          1  \n",
        "                 mean         0        1       NaN          5       1987  \n",
        "                 std        NaN      NaN       NaN        NaN        NaN  \n",
        "                 min          0        1       NaN          5       1987  \n",
        "                 25%          0        1       NaN          5       1987  \n",
        "                 50%          0        1       NaN          5       1987  \n",
        "                 75%          0        1       NaN          5       1987  \n",
        "                 max          0        1       NaN          5       1987  \n",
        "\n",
        "[16 rows x 21 columns]"
       ]
      }
     ],
     "prompt_number": 17
    },
    {
     "cell_type": "heading",
     "level": 3,
     "metadata": {},
     "source": [
      "Results"
     ]
    },
    {
     "cell_type": "code",
     "collapsed": false,
     "input": [
      "s = df_filtered.groupby(['treatment_eval_2','when_to_2'])['when_to_2'].count()\n",
      "s.plot(kind='bar')\n"
     ],
     "language": "python",
     "metadata": {},
     "outputs": [
      {
       "metadata": {},
       "output_type": "pyout",
       "prompt_number": 18,
       "text": [
        "<matplotlib.axes._subplots.AxesSubplot at 0x10df05ed0>"
       ]
      },
      {
       "metadata": {},
       "output_type": "display_data",
       "png": "[encoded data removed]",
       "text": [
        "<matplotlib.figure.Figure at 0x10df05110>"
       ]
      }
     ],
     "prompt_number": 18
    },
    {
     "cell_type": "code",
     "collapsed": false,
     "input": [
      "s = df_filtered.groupby(['treatment_eval_1','when_to_1'])['when_to_1'].count()\n",
      "s.plot(kind='bar')\n"
     ],
     "language": "python",
     "metadata": {},
     "outputs": [
      {
       "metadata": {},
       "output_type": "pyout",
       "prompt_number": 19,
       "text": [
        "<matplotlib.axes._subplots.AxesSubplot at 0x10df1ca90>"
       ]
      },
      {
       "metadata": {},
       "output_type": "display_data",
       "png": "[encoded data removed]",
       "text": [
        "<matplotlib.figure.Figure at 0x10df36a10>"
       ]
      }
     ],
     "prompt_number": 19
    },
    {
     "cell_type": "markdown",
     "metadata": {},
     "source": [
      "#### Sequence effects in the cross-over study in terms of Usability\n",
      "\n"
     ]
    },
    {
     "cell_type": "code",
     "collapsed": false,
     "input": [
      "sns.boxplot([df_filtered['time_1'].fillna(0), df_filtered['time_2'].fillna(0)],  names=[\"First\", \"Second\"],whis=np.inf, color=\"coral\",  join_rm=True, widths=.5)"
     ],
     "language": "python",
     "metadata": {},
     "outputs": [
      {
       "metadata": {},
       "output_type": "pyout",
       "prompt_number": 20,
       "text": [
        "<matplotlib.axes._subplots.AxesSubplot at 0x10dabc390>"
       ]
      },
      {
       "metadata": {},
       "output_type": "display_data",
       "png": "[encoded data removed]",
       "text": [
        "<matplotlib.figure.Figure at 0x10e2482d0>"
       ]
      }
     ],
     "prompt_number": 20
    },
    {
     "cell_type": "code",
     "collapsed": false,
     "input": [
      "\n",
      "\n",
      "s = pd.DataFrame(df_filtered['with_who_1'])\n",
      "s['question'] = pd.Series((['with_who_1'] * df_filtered['with_who_1'].size), index=s.index)\n",
      "\n",
      "\n",
      "ss = pd.DataFrame(df_filtered['with_who_2'])\n",
      "ss['question'] = pd.Series((['with_who_2'] * df_filtered['with_who_2'].size), index=ss.index)\n",
      "\n",
      "ss.columns = ['with_who', 'question']\n",
      "s.columns = ['with_who', 'question']\n",
      "\n",
      "d = pd.concat([s,ss])\n",
      "\n",
      "\n",
      "ggplot(d.dropna(), aes(x='question', fill='with_who')) + geom_bar()\n",
      "\n",
      "# ggplot(df_filtered, aes('time_1', fill='treatment_eval_1')) + geom_bar() \n",
      "# ggplot(diamonds, aes('color', fill='cut')) + geom_bar() \n"
     ],
     "language": "python",
     "metadata": {},
     "outputs": [
      {
       "metadata": {},
       "output_type": "display_data",
       "png": "[encoded data removed]",
       "text": [
        "<matplotlib.figure.Figure at 0x10ee36590>"
       ]
      },
      {
       "metadata": {},
       "output_type": "pyout",
       "prompt_number": 29,
       "text": [
        "<ggplot: (284194901)>"
       ]
      }
     ],
     "prompt_number": 29
    },
    {
     "cell_type": "markdown",
     "metadata": {},
     "source": [
      "The subjects do seem to think they have more support with the second product even when no additional support is given. There are two posible causes for this:\n",
      "\n",
      "- Learning: the execution of both products is identical and subjects could have become proficient at performing it.\n",
      "- Better understanding of the task: During the application of the experiment users were often confused about what to do the during the first product. Some of the did not understadn the instructions. When they got to the second part of the exercise they had better understanding of what was the purpose of it."
     ]
    },
    {
     "cell_type": "code",
     "collapsed": false,
     "input": [
      "sns.boxplot([df_filtered['support_1'].fillna(0), df_filtered['support_2'].fillna(0)],  names=[\"First\", \"Second\"],whis=np.inf, color=\"coral\",  join_rm=True, widths=.5)"
     ],
     "language": "python",
     "metadata": {},
     "outputs": [
      {
       "metadata": {},
       "output_type": "pyout",
       "prompt_number": 24,
       "text": [
        "<matplotlib.axes._subplots.AxesSubplot at 0x10e74ccd0>"
       ]
      },
      {
       "metadata": {},
       "output_type": "display_data",
       "png": "[encoded data removed]",
       "text": [
        "<matplotlib.figure.Figure at 0x10e7c2190>"
       ]
      }
     ],
     "prompt_number": 24
    },
    {
     "cell_type": "markdown",
     "metadata": {},
     "source": [
      "In terms of ease of execution, results have shown that there is not a clear relation with the sequence. "
     ]
    },
    {
     "cell_type": "code",
     "collapsed": false,
     "input": [
      "# df_filtered2 = df_filtered[df_filtered['treatment'] == 'CONTROL']\n",
      "# df_filtered3 = df_filtered[df_filtered['treatment'] == 'TREATMENT']\n",
      "\n",
      "#sns.boxplot([df_filtered2['ease_1'], df_filtered2['ease_2'].fillna(0)],  names=[\"pre\", \"post\"],whis=np.inf, color=\"coral\",  join_rm=True)\n",
      "\n",
      "#sns.boxplot([df_filtered3['ease_1'], df_filtered3['ease_2'].fillna(0)],  names=[\"pre\", \"post\"],whis=np.inf, color=\"coral\",  join_rm=True)\n",
      "\n",
      "sns.boxplot([df_filtered['ease_1'].fillna(0), df_filtered['ease_2'].fillna(0)],  names=[\"First\", \"Second\"],whis=np.inf, color=\"coral\",  join_rm=True, widths=.5)"
     ],
     "language": "python",
     "metadata": {},
     "outputs": [
      {
       "metadata": {},
       "output_type": "pyout",
       "prompt_number": 25,
       "text": [
        "<matplotlib.axes._subplots.AxesSubplot at 0x10de6bad0>"
       ]
      },
      {
       "metadata": {},
       "output_type": "display_data",
       "png": "[encoded data removed]",
       "text": [
        "<matplotlib.figure.Figure at 0x10e9c9350>"
       ]
      }
     ],
     "prompt_number": 25
    },
    {
     "cell_type": "code",
     "collapsed": false,
     "input": [
      "codes =pd.DataFrame.from_csv('helpers/baseline_codes.csv')\n",
      "#codes.join(df_filtered, on='when_best', how='right', lsuffix='_left', rsuffix='_right')\n",
      "\n",
      "df_filtered.merge(codes, on='when_best', how='left')\n"
     ],
     "language": "python",
     "metadata": {},
     "outputs": [
      {
       "html": [
        "<div style=\"max-height:1000px;max-width:1500px;overflow:auto;\">\n",
        "<table border=\"1\" class=\"dataframe\">\n",
        "  <thead>\n",
        "    <tr style=\"text-align: right;\">\n",
        "      <th></th>\n",
        "      <th>academic</th>\n",
        "      <th>awareness</th>\n",
        "      <th>data_file_title_1</th>\n",
        "      <th>data_file_title_2</th>\n",
        "      <th>discipline</th>\n",
        "      <th>ease_1</th>\n",
        "      <th>ease_2</th>\n",
        "      <th>frequency</th>\n",
        "      <th>honest</th>\n",
        "      <th>howmany</th>\n",
        "      <th>...</th>\n",
        "      <th>trust</th>\n",
        "      <th>updating</th>\n",
        "      <th>ways</th>\n",
        "      <th>when_best</th>\n",
        "      <th>when_to_1</th>\n",
        "      <th>when_to_2</th>\n",
        "      <th>with_who_1</th>\n",
        "      <th>with_who_2</th>\n",
        "      <th>year_born</th>\n",
        "      <th>baseline</th>\n",
        "    </tr>\n",
        "  </thead>\n",
        "  <tbody>\n",
        "    <tr>\n",
        "      <th>0 </th>\n",
        "      <td>  1</td>\n",
        "      <td>    NaN</td>\n",
        "      <td>        NaN</td>\n",
        "      <td>         NaN</td>\n",
        "      <td>            NaN</td>\n",
        "      <td>  5</td>\n",
        "      <td>  5</td>\n",
        "      <td>NaN</td>\n",
        "      <td> NaN</td>\n",
        "      <td>             NaN</td>\n",
        "      <td>...</td>\n",
        "      <td>    NaN</td>\n",
        "      <td>NaN</td>\n",
        "      <td>    NaN</td>\n",
        "      <td>NaN</td>\n",
        "      <td>       null</td>\n",
        "      <td>  null</td>\n",
        "      <td>        public</td>\n",
        "      <td>        public</td>\n",
        "      <td>  NaN</td>\n",
        "      <td>NaN</td>\n",
        "    </tr>\n",
        "    <tr>\n",
        "      <th>1 </th>\n",
        "      <td>  1</td>\n",
        "      <td>    NaN</td>\n",
        "      <td>        NaN</td>\n",
        "      <td>         NaN</td>\n",
        "      <td>            NaN</td>\n",
        "      <td>  4</td>\n",
        "      <td>NaN</td>\n",
        "      <td>NaN</td>\n",
        "      <td> NaN</td>\n",
        "      <td>             NaN</td>\n",
        "      <td>...</td>\n",
        "      <td>    NaN</td>\n",
        "      <td>NaN</td>\n",
        "      <td>    NaN</td>\n",
        "      <td>NaN</td>\n",
        "      <td>       null</td>\n",
        "      <td>   NaN</td>\n",
        "      <td>        public</td>\n",
        "      <td>           NaN</td>\n",
        "      <td>  NaN</td>\n",
        "      <td>NaN</td>\n",
        "    </tr>\n",
        "    <tr>\n",
        "      <th>2 </th>\n",
        "      <td>  1</td>\n",
        "      <td>    NaN</td>\n",
        "      <td>        NaN</td>\n",
        "      <td>         NaN</td>\n",
        "      <td>            NaN</td>\n",
        "      <td>  4</td>\n",
        "      <td>  4</td>\n",
        "      <td>NaN</td>\n",
        "      <td> NaN</td>\n",
        "      <td>             NaN</td>\n",
        "      <td>...</td>\n",
        "      <td>    NaN</td>\n",
        "      <td>NaN</td>\n",
        "      <td>    NaN</td>\n",
        "      <td>NaN</td>\n",
        "      <td>       null</td>\n",
        "      <td>   NaN</td>\n",
        "      <td>        public</td>\n",
        "      <td>        public</td>\n",
        "      <td>  NaN</td>\n",
        "      <td>NaN</td>\n",
        "    </tr>\n",
        "    <tr>\n",
        "      <th>3 </th>\n",
        "      <td>NaN</td>\n",
        "      <td>    NaN</td>\n",
        "      <td>        NaN</td>\n",
        "      <td>         NaN</td>\n",
        "      <td>            NaN</td>\n",
        "      <td>  4</td>\n",
        "      <td>NaN</td>\n",
        "      <td>NaN</td>\n",
        "      <td> NaN</td>\n",
        "      <td>             NaN</td>\n",
        "      <td>...</td>\n",
        "      <td>    NaN</td>\n",
        "      <td>NaN</td>\n",
        "      <td>    NaN</td>\n",
        "      <td>NaN</td>\n",
        "      <td> 02/28/2015</td>\n",
        "      <td>   NaN</td>\n",
        "      <td> collaborators</td>\n",
        "      <td>           NaN</td>\n",
        "      <td>  NaN</td>\n",
        "      <td>NaN</td>\n",
        "    </tr>\n",
        "    <tr>\n",
        "      <th>4 </th>\n",
        "      <td>  2</td>\n",
        "      <td>    NaN</td>\n",
        "      <td>        NaN</td>\n",
        "      <td>         NaN</td>\n",
        "      <td>            NaN</td>\n",
        "      <td>  4</td>\n",
        "      <td>  4</td>\n",
        "      <td>NaN</td>\n",
        "      <td> NaN</td>\n",
        "      <td>             NaN</td>\n",
        "      <td>...</td>\n",
        "      <td>    NaN</td>\n",
        "      <td>NaN</td>\n",
        "      <td>    NaN</td>\n",
        "      <td>NaN</td>\n",
        "      <td>       null</td>\n",
        "      <td>   NaN</td>\n",
        "      <td>        public</td>\n",
        "      <td>        public</td>\n",
        "      <td>  NaN</td>\n",
        "      <td>NaN</td>\n",
        "    </tr>\n",
        "    <tr>\n",
        "      <th>5 </th>\n",
        "      <td>  1</td>\n",
        "      <td>    NaN</td>\n",
        "      <td>        NaN</td>\n",
        "      <td>         NaN</td>\n",
        "      <td>            NaN</td>\n",
        "      <td>  5</td>\n",
        "      <td>  5</td>\n",
        "      <td>NaN</td>\n",
        "      <td> NaN</td>\n",
        "      <td>             NaN</td>\n",
        "      <td>...</td>\n",
        "      <td>    NaN</td>\n",
        "      <td>NaN</td>\n",
        "      <td>    NaN</td>\n",
        "      <td>NaN</td>\n",
        "      <td>       null</td>\n",
        "      <td>  null</td>\n",
        "      <td>        public</td>\n",
        "      <td>        public</td>\n",
        "      <td>  NaN</td>\n",
        "      <td>NaN</td>\n",
        "    </tr>\n",
        "    <tr>\n",
        "      <th>6 </th>\n",
        "      <td>NaN</td>\n",
        "      <td>    NaN</td>\n",
        "      <td>        NaN</td>\n",
        "      <td>         NaN</td>\n",
        "      <td>            NaN</td>\n",
        "      <td>  4</td>\n",
        "      <td>  4</td>\n",
        "      <td>NaN</td>\n",
        "      <td> NaN</td>\n",
        "      <td>             NaN</td>\n",
        "      <td>...</td>\n",
        "      <td>    NaN</td>\n",
        "      <td>NaN</td>\n",
        "      <td>    NaN</td>\n",
        "      <td>NaN</td>\n",
        "      <td>       null</td>\n",
        "      <td>     1</td>\n",
        "      <td>        public</td>\n",
        "      <td> collaborators</td>\n",
        "      <td>  NaN</td>\n",
        "      <td>NaN</td>\n",
        "    </tr>\n",
        "    <tr>\n",
        "      <th>7 </th>\n",
        "      <td>  2</td>\n",
        "      <td>    NaN</td>\n",
        "      <td>        NaN</td>\n",
        "      <td>         NaN</td>\n",
        "      <td>            NaN</td>\n",
        "      <td>  4</td>\n",
        "      <td>NaN</td>\n",
        "      <td>NaN</td>\n",
        "      <td> NaN</td>\n",
        "      <td>             NaN</td>\n",
        "      <td>...</td>\n",
        "      <td>    NaN</td>\n",
        "      <td>NaN</td>\n",
        "      <td>    NaN</td>\n",
        "      <td>NaN</td>\n",
        "      <td>       null</td>\n",
        "      <td>   NaN</td>\n",
        "      <td>        public</td>\n",
        "      <td>           NaN</td>\n",
        "      <td>  NaN</td>\n",
        "      <td>NaN</td>\n",
        "    </tr>\n",
        "    <tr>\n",
        "      <th>8 </th>\n",
        "      <td>  1</td>\n",
        "      <td>    NaN</td>\n",
        "      <td>        NaN</td>\n",
        "      <td>         NaN</td>\n",
        "      <td>            NaN</td>\n",
        "      <td>  1</td>\n",
        "      <td>  4</td>\n",
        "      <td>NaN</td>\n",
        "      <td> NaN</td>\n",
        "      <td>             NaN</td>\n",
        "      <td>...</td>\n",
        "      <td>    NaN</td>\n",
        "      <td>NaN</td>\n",
        "      <td>    NaN</td>\n",
        "      <td>NaN</td>\n",
        "      <td>          1</td>\n",
        "      <td>     1</td>\n",
        "      <td> collaborators</td>\n",
        "      <td> collaborators</td>\n",
        "      <td>  NaN</td>\n",
        "      <td>NaN</td>\n",
        "    </tr>\n",
        "    <tr>\n",
        "      <th>9 </th>\n",
        "      <td>  2</td>\n",
        "      <td>    NaN</td>\n",
        "      <td>        NaN</td>\n",
        "      <td>         NaN</td>\n",
        "      <td>            NaN</td>\n",
        "      <td>  4</td>\n",
        "      <td>  4</td>\n",
        "      <td>NaN</td>\n",
        "      <td> NaN</td>\n",
        "      <td>             NaN</td>\n",
        "      <td>...</td>\n",
        "      <td>    NaN</td>\n",
        "      <td>NaN</td>\n",
        "      <td>    NaN</td>\n",
        "      <td>NaN</td>\n",
        "      <td>          1</td>\n",
        "      <td> later</td>\n",
        "      <td> collaborators</td>\n",
        "      <td> collaborators</td>\n",
        "      <td>  NaN</td>\n",
        "      <td>NaN</td>\n",
        "    </tr>\n",
        "    <tr>\n",
        "      <th>10</th>\n",
        "      <td>  1</td>\n",
        "      <td>    NaN</td>\n",
        "      <td>        NaN</td>\n",
        "      <td>         NaN</td>\n",
        "      <td>            NaN</td>\n",
        "      <td>  4</td>\n",
        "      <td>  4</td>\n",
        "      <td>NaN</td>\n",
        "      <td> NaN</td>\n",
        "      <td>             NaN</td>\n",
        "      <td>...</td>\n",
        "      <td>    NaN</td>\n",
        "      <td>NaN</td>\n",
        "      <td>    NaN</td>\n",
        "      <td>NaN</td>\n",
        "      <td>       null</td>\n",
        "      <td>   NaN</td>\n",
        "      <td>        public</td>\n",
        "      <td>        public</td>\n",
        "      <td>  NaN</td>\n",
        "      <td>NaN</td>\n",
        "    </tr>\n",
        "    <tr>\n",
        "      <th>11</th>\n",
        "      <td>  1</td>\n",
        "      <td>    NaN</td>\n",
        "      <td>        NaN</td>\n",
        "      <td>         NaN</td>\n",
        "      <td>            NaN</td>\n",
        "      <td>  4</td>\n",
        "      <td>  2</td>\n",
        "      <td>NaN</td>\n",
        "      <td> NaN</td>\n",
        "      <td>             NaN</td>\n",
        "      <td>...</td>\n",
        "      <td>    NaN</td>\n",
        "      <td>NaN</td>\n",
        "      <td>    NaN</td>\n",
        "      <td>NaN</td>\n",
        "      <td>      later</td>\n",
        "      <td> later</td>\n",
        "      <td> collaborators</td>\n",
        "      <td>       private</td>\n",
        "      <td>  NaN</td>\n",
        "      <td>NaN</td>\n",
        "    </tr>\n",
        "    <tr>\n",
        "      <th>12</th>\n",
        "      <td>  1</td>\n",
        "      <td>    NaN</td>\n",
        "      <td>        NaN</td>\n",
        "      <td>         NaN</td>\n",
        "      <td>            NaN</td>\n",
        "      <td>  4</td>\n",
        "      <td>  4</td>\n",
        "      <td>NaN</td>\n",
        "      <td> NaN</td>\n",
        "      <td>             NaN</td>\n",
        "      <td>...</td>\n",
        "      <td>    NaN</td>\n",
        "      <td>NaN</td>\n",
        "      <td>    NaN</td>\n",
        "      <td>NaN</td>\n",
        "      <td>       null</td>\n",
        "      <td>   NaN</td>\n",
        "      <td>        public</td>\n",
        "      <td>        public</td>\n",
        "      <td>  NaN</td>\n",
        "      <td>NaN</td>\n",
        "    </tr>\n",
        "    <tr>\n",
        "      <th>13</th>\n",
        "      <td>NaN</td>\n",
        "      <td>    NaN</td>\n",
        "      <td>        NaN</td>\n",
        "      <td>         NaN</td>\n",
        "      <td>            NaN</td>\n",
        "      <td>NaN</td>\n",
        "      <td>NaN</td>\n",
        "      <td>NaN</td>\n",
        "      <td> NaN</td>\n",
        "      <td>             NaN</td>\n",
        "      <td>...</td>\n",
        "      <td>    NaN</td>\n",
        "      <td>NaN</td>\n",
        "      <td>    NaN</td>\n",
        "      <td>NaN</td>\n",
        "      <td>        NaN</td>\n",
        "      <td>   NaN</td>\n",
        "      <td>           NaN</td>\n",
        "      <td>           NaN</td>\n",
        "      <td>  NaN</td>\n",
        "      <td>NaN</td>\n",
        "    </tr>\n",
        "    <tr>\n",
        "      <th>14</th>\n",
        "      <td>NaN</td>\n",
        "      <td>    NaN</td>\n",
        "      <td> My Dataset</td>\n",
        "      <td>         NaN</td>\n",
        "      <td>            NaN</td>\n",
        "      <td>NaN</td>\n",
        "      <td>NaN</td>\n",
        "      <td>NaN</td>\n",
        "      <td> NaN</td>\n",
        "      <td>             NaN</td>\n",
        "      <td>...</td>\n",
        "      <td>    NaN</td>\n",
        "      <td>NaN</td>\n",
        "      <td>    NaN</td>\n",
        "      <td>NaN</td>\n",
        "      <td>        NaN</td>\n",
        "      <td>   NaN</td>\n",
        "      <td>        public</td>\n",
        "      <td>           NaN</td>\n",
        "      <td>  NaN</td>\n",
        "      <td>NaN</td>\n",
        "    </tr>\n",
        "    <tr>\n",
        "      <th>15</th>\n",
        "      <td>  1</td>\n",
        "      <td> [u'3']</td>\n",
        "      <td> My DATASET</td>\n",
        "      <td> my datatset</td>\n",
        "      <td>        Biology</td>\n",
        "      <td>  4</td>\n",
        "      <td>  4</td>\n",
        "      <td>  5</td>\n",
        "      <td>  on</td>\n",
        "      <td> between 2 and 4</td>\n",
        "      <td>...</td>\n",
        "      <td> second</td>\n",
        "      <td>NaN</td>\n",
        "      <td> [u'4']</td>\n",
        "      <td>  5</td>\n",
        "      <td>        NaN</td>\n",
        "      <td>   NaN</td>\n",
        "      <td>        public</td>\n",
        "      <td>        public</td>\n",
        "      <td> 1978</td>\n",
        "      <td>NaN</td>\n",
        "    </tr>\n",
        "    <tr>\n",
        "      <th>16</th>\n",
        "      <td>  1</td>\n",
        "      <td> [u'1']</td>\n",
        "      <td>       Test</td>\n",
        "      <td>       test2</td>\n",
        "      <td> Bioinformatics</td>\n",
        "      <td>  5</td>\n",
        "      <td>  5</td>\n",
        "      <td>  5</td>\n",
        "      <td>  on</td>\n",
        "      <td> between 2 and 4</td>\n",
        "      <td>...</td>\n",
        "      <td>  first</td>\n",
        "      <td>NaN</td>\n",
        "      <td> [u'2']</td>\n",
        "      <td>  5</td>\n",
        "      <td>          6</td>\n",
        "      <td>   NaN</td>\n",
        "      <td> stackeholders</td>\n",
        "      <td>        public</td>\n",
        "      <td> 1987</td>\n",
        "      <td>NaN</td>\n",
        "    </tr>\n",
        "  </tbody>\n",
        "</table>\n",
        "<p>17 rows \u00d7 40 columns</p>\n",
        "</div>"
       ],
       "metadata": {},
       "output_type": "pyout",
       "prompt_number": 28,
       "text": [
        "    academic awareness data_file_title_1 data_file_title_2      discipline  \\\n",
        "0          1       NaN               NaN               NaN             NaN   \n",
        "1          1       NaN               NaN               NaN             NaN   \n",
        "2          1       NaN               NaN               NaN             NaN   \n",
        "3        NaN       NaN               NaN               NaN             NaN   \n",
        "4          2       NaN               NaN               NaN             NaN   \n",
        "5          1       NaN               NaN               NaN             NaN   \n",
        "6        NaN       NaN               NaN               NaN             NaN   \n",
        "7          2       NaN               NaN               NaN             NaN   \n",
        "8          1       NaN               NaN               NaN             NaN   \n",
        "9          2       NaN               NaN               NaN             NaN   \n",
        "10         1       NaN               NaN               NaN             NaN   \n",
        "11         1       NaN               NaN               NaN             NaN   \n",
        "12         1       NaN               NaN               NaN             NaN   \n",
        "13       NaN       NaN               NaN               NaN             NaN   \n",
        "14       NaN       NaN        My Dataset               NaN             NaN   \n",
        "15         1    [u'3']        My DATASET       my datatset         Biology   \n",
        "16         1    [u'1']              Test             test2  Bioinformatics   \n",
        "\n",
        "    ease_1  ease_2  frequency honest          howmany    ...      trust  \\\n",
        "0        5       5        NaN    NaN              NaN    ...        NaN   \n",
        "1        4     NaN        NaN    NaN              NaN    ...        NaN   \n",
        "2        4       4        NaN    NaN              NaN    ...        NaN   \n",
        "3        4     NaN        NaN    NaN              NaN    ...        NaN   \n",
        "4        4       4        NaN    NaN              NaN    ...        NaN   \n",
        "5        5       5        NaN    NaN              NaN    ...        NaN   \n",
        "6        4       4        NaN    NaN              NaN    ...        NaN   \n",
        "7        4     NaN        NaN    NaN              NaN    ...        NaN   \n",
        "8        1       4        NaN    NaN              NaN    ...        NaN   \n",
        "9        4       4        NaN    NaN              NaN    ...        NaN   \n",
        "10       4       4        NaN    NaN              NaN    ...        NaN   \n",
        "11       4       2        NaN    NaN              NaN    ...        NaN   \n",
        "12       4       4        NaN    NaN              NaN    ...        NaN   \n",
        "13     NaN     NaN        NaN    NaN              NaN    ...        NaN   \n",
        "14     NaN     NaN        NaN    NaN              NaN    ...        NaN   \n",
        "15       4       4          5     on  between 2 and 4    ...     second   \n",
        "16       5       5          5     on  between 2 and 4    ...      first   \n",
        "\n",
        "    updating    ways  when_best   when_to_1  when_to_2     with_who_1  \\\n",
        "0        NaN     NaN        NaN        null       null         public   \n",
        "1        NaN     NaN        NaN        null        NaN         public   \n",
        "2        NaN     NaN        NaN        null        NaN         public   \n",
        "3        NaN     NaN        NaN  02/28/2015        NaN  collaborators   \n",
        "4        NaN     NaN        NaN        null        NaN         public   \n",
        "5        NaN     NaN        NaN        null       null         public   \n",
        "6        NaN     NaN        NaN        null          1         public   \n",
        "7        NaN     NaN        NaN        null        NaN         public   \n",
        "8        NaN     NaN        NaN           1          1  collaborators   \n",
        "9        NaN     NaN        NaN           1      later  collaborators   \n",
        "10       NaN     NaN        NaN        null        NaN         public   \n",
        "11       NaN     NaN        NaN       later      later  collaborators   \n",
        "12       NaN     NaN        NaN        null        NaN         public   \n",
        "13       NaN     NaN        NaN         NaN        NaN            NaN   \n",
        "14       NaN     NaN        NaN         NaN        NaN         public   \n",
        "15       NaN  [u'4']          5         NaN        NaN         public   \n",
        "16       NaN  [u'2']          5           6        NaN  stackeholders   \n",
        "\n",
        "       with_who_2  year_born  baseline  \n",
        "0          public        NaN       NaN  \n",
        "1             NaN        NaN       NaN  \n",
        "2          public        NaN       NaN  \n",
        "3             NaN        NaN       NaN  \n",
        "4          public        NaN       NaN  \n",
        "5          public        NaN       NaN  \n",
        "6   collaborators        NaN       NaN  \n",
        "7             NaN        NaN       NaN  \n",
        "8   collaborators        NaN       NaN  \n",
        "9   collaborators        NaN       NaN  \n",
        "10         public        NaN       NaN  \n",
        "11        private        NaN       NaN  \n",
        "12         public        NaN       NaN  \n",
        "13            NaN        NaN       NaN  \n",
        "14            NaN        NaN       NaN  \n",
        "15         public       1978       NaN  \n",
        "16         public       1987       NaN  \n",
        "\n",
        "[17 rows x 40 columns]"
       ]
      }
     ],
     "prompt_number": 28
    },
    {
     "cell_type": "code",
     "collapsed": false,
     "input": [
      "s= code_measures(df_filtered)\n",
      "x = code_baseline(s)\n",
      "\n"
     ],
     "language": "python",
     "metadata": {},
     "outputs": [
      {
       "ename": "KeyError",
       "evalue": "'treatment'",
       "output_type": "pyerr",
       "traceback": [
        "\u001b[0;31m---------------------------------------------------------------------------\u001b[0m\n\u001b[0;31mKeyError\u001b[0m                                  Traceback (most recent call last)",
        "\u001b[0;32m<ipython-input-29-51b8d3645804>\u001b[0m in \u001b[0;36m<module>\u001b[0;34m()\u001b[0m\n\u001b[0;32m----> 1\u001b[0;31m \u001b[0ms\u001b[0m\u001b[0;34m=\u001b[0m \u001b[0mcode_measures\u001b[0m\u001b[0;34m(\u001b[0m\u001b[0mdf_filtered\u001b[0m\u001b[0;34m)\u001b[0m\u001b[0;34m\u001b[0m\u001b[0m\n\u001b[0m\u001b[1;32m      2\u001b[0m \u001b[0mx\u001b[0m \u001b[0;34m=\u001b[0m \u001b[0mcode_baseline\u001b[0m\u001b[0;34m(\u001b[0m\u001b[0ms\u001b[0m\u001b[0;34m)\u001b[0m\u001b[0;34m\u001b[0m\u001b[0m\n\u001b[1;32m      3\u001b[0m \u001b[0;34m\u001b[0m\u001b[0m\n",
        "\u001b[0;32m/Users/kristian/PycharmProjects/Frame_experiment_analysis/code_data.pyc\u001b[0m in \u001b[0;36mcode_measures\u001b[0;34m(series)\u001b[0m\n\u001b[1;32m     58\u001b[0m     \u001b[0mdf_filtered\u001b[0m\u001b[0;34m[\u001b[0m\u001b[0;34m'measure_2'\u001b[0m\u001b[0;34m]\u001b[0m \u001b[0;34m=\u001b[0m \u001b[0mpd\u001b[0m\u001b[0;34m.\u001b[0m\u001b[0mSeries\u001b[0m\u001b[0;34m(\u001b[0m\u001b[0;36m0\u001b[0m\u001b[0;34m,\u001b[0m \u001b[0mindex\u001b[0m\u001b[0;34m=\u001b[0m\u001b[0mdf_filtered\u001b[0m\u001b[0;34m.\u001b[0m\u001b[0mindex\u001b[0m\u001b[0;34m)\u001b[0m\u001b[0;34m\u001b[0m\u001b[0m\n\u001b[1;32m     59\u001b[0m     \u001b[0mdf_filtered\u001b[0m\u001b[0;34m[\u001b[0m\u001b[0;34m'measure_1'\u001b[0m\u001b[0;34m]\u001b[0m \u001b[0;34m=\u001b[0m \u001b[0mpd\u001b[0m\u001b[0;34m.\u001b[0m\u001b[0mSeries\u001b[0m\u001b[0;34m(\u001b[0m\u001b[0;36m0\u001b[0m\u001b[0;34m,\u001b[0m \u001b[0mindex\u001b[0m\u001b[0;34m=\u001b[0m\u001b[0mdf_filtered\u001b[0m\u001b[0;34m.\u001b[0m\u001b[0mindex\u001b[0m\u001b[0;34m)\u001b[0m\u001b[0;34m\u001b[0m\u001b[0m\n\u001b[0;32m---> 60\u001b[0;31m     \u001b[0md\u001b[0m \u001b[0;34m=\u001b[0m \u001b[0mdf_filtered\u001b[0m\u001b[0;34m[\u001b[0m\u001b[0mdf_filtered\u001b[0m\u001b[0;34m[\u001b[0m\u001b[0;34m'treatment'\u001b[0m\u001b[0;34m]\u001b[0m \u001b[0;34m==\u001b[0m \u001b[0;34m'CONTROL'\u001b[0m\u001b[0;34m]\u001b[0m\u001b[0;34m\u001b[0m\u001b[0m\n\u001b[0m\u001b[1;32m     61\u001b[0m \u001b[0;34m\u001b[0m\u001b[0m\n\u001b[1;32m     62\u001b[0m \u001b[0;34m\u001b[0m\u001b[0m\n",
        "\u001b[0;32m/Users/kristian/miniconda/lib/python2.7/site-packages/pandas/core/frame.pyc\u001b[0m in \u001b[0;36m__getitem__\u001b[0;34m(self, key)\u001b[0m\n\u001b[1;32m   1778\u001b[0m             \u001b[0;32mreturn\u001b[0m \u001b[0mself\u001b[0m\u001b[0;34m.\u001b[0m\u001b[0m_getitem_multilevel\u001b[0m\u001b[0;34m(\u001b[0m\u001b[0mkey\u001b[0m\u001b[0;34m)\u001b[0m\u001b[0;34m\u001b[0m\u001b[0m\n\u001b[1;32m   1779\u001b[0m         \u001b[0;32melse\u001b[0m\u001b[0;34m:\u001b[0m\u001b[0;34m\u001b[0m\u001b[0m\n\u001b[0;32m-> 1780\u001b[0;31m             \u001b[0;32mreturn\u001b[0m \u001b[0mself\u001b[0m\u001b[0;34m.\u001b[0m\u001b[0m_getitem_column\u001b[0m\u001b[0;34m(\u001b[0m\u001b[0mkey\u001b[0m\u001b[0;34m)\u001b[0m\u001b[0;34m\u001b[0m\u001b[0m\n\u001b[0m\u001b[1;32m   1781\u001b[0m \u001b[0;34m\u001b[0m\u001b[0m\n\u001b[1;32m   1782\u001b[0m     \u001b[0;32mdef\u001b[0m \u001b[0m_getitem_column\u001b[0m\u001b[0;34m(\u001b[0m\u001b[0mself\u001b[0m\u001b[0;34m,\u001b[0m \u001b[0mkey\u001b[0m\u001b[0;34m)\u001b[0m\u001b[0;34m:\u001b[0m\u001b[0;34m\u001b[0m\u001b[0m\n",
        "\u001b[0;32m/Users/kristian/miniconda/lib/python2.7/site-packages/pandas/core/frame.pyc\u001b[0m in \u001b[0;36m_getitem_column\u001b[0;34m(self, key)\u001b[0m\n\u001b[1;32m   1785\u001b[0m         \u001b[0;31m# get column\u001b[0m\u001b[0;34m\u001b[0m\u001b[0;34m\u001b[0m\u001b[0m\n\u001b[1;32m   1786\u001b[0m         \u001b[0;32mif\u001b[0m \u001b[0mself\u001b[0m\u001b[0;34m.\u001b[0m\u001b[0mcolumns\u001b[0m\u001b[0;34m.\u001b[0m\u001b[0mis_unique\u001b[0m\u001b[0;34m:\u001b[0m\u001b[0;34m\u001b[0m\u001b[0m\n\u001b[0;32m-> 1787\u001b[0;31m             \u001b[0;32mreturn\u001b[0m \u001b[0mself\u001b[0m\u001b[0;34m.\u001b[0m\u001b[0m_get_item_cache\u001b[0m\u001b[0;34m(\u001b[0m\u001b[0mkey\u001b[0m\u001b[0;34m)\u001b[0m\u001b[0;34m\u001b[0m\u001b[0m\n\u001b[0m\u001b[1;32m   1788\u001b[0m \u001b[0;34m\u001b[0m\u001b[0m\n\u001b[1;32m   1789\u001b[0m         \u001b[0;31m# duplicate columns & possible reduce dimensionaility\u001b[0m\u001b[0;34m\u001b[0m\u001b[0;34m\u001b[0m\u001b[0m\n",
        "\u001b[0;32m/Users/kristian/miniconda/lib/python2.7/site-packages/pandas/core/generic.pyc\u001b[0m in \u001b[0;36m_get_item_cache\u001b[0;34m(self, item)\u001b[0m\n\u001b[1;32m   1066\u001b[0m         \u001b[0mres\u001b[0m \u001b[0;34m=\u001b[0m \u001b[0mcache\u001b[0m\u001b[0;34m.\u001b[0m\u001b[0mget\u001b[0m\u001b[0;34m(\u001b[0m\u001b[0mitem\u001b[0m\u001b[0;34m)\u001b[0m\u001b[0;34m\u001b[0m\u001b[0m\n\u001b[1;32m   1067\u001b[0m         \u001b[0;32mif\u001b[0m \u001b[0mres\u001b[0m \u001b[0;32mis\u001b[0m \u001b[0mNone\u001b[0m\u001b[0;34m:\u001b[0m\u001b[0;34m\u001b[0m\u001b[0m\n\u001b[0;32m-> 1068\u001b[0;31m             \u001b[0mvalues\u001b[0m \u001b[0;34m=\u001b[0m \u001b[0mself\u001b[0m\u001b[0;34m.\u001b[0m\u001b[0m_data\u001b[0m\u001b[0;34m.\u001b[0m\u001b[0mget\u001b[0m\u001b[0;34m(\u001b[0m\u001b[0mitem\u001b[0m\u001b[0;34m)\u001b[0m\u001b[0;34m\u001b[0m\u001b[0m\n\u001b[0m\u001b[1;32m   1069\u001b[0m             \u001b[0mres\u001b[0m \u001b[0;34m=\u001b[0m \u001b[0mself\u001b[0m\u001b[0;34m.\u001b[0m\u001b[0m_box_item_values\u001b[0m\u001b[0;34m(\u001b[0m\u001b[0mitem\u001b[0m\u001b[0;34m,\u001b[0m \u001b[0mvalues\u001b[0m\u001b[0;34m)\u001b[0m\u001b[0;34m\u001b[0m\u001b[0m\n\u001b[1;32m   1070\u001b[0m             \u001b[0mcache\u001b[0m\u001b[0;34m[\u001b[0m\u001b[0mitem\u001b[0m\u001b[0;34m]\u001b[0m \u001b[0;34m=\u001b[0m \u001b[0mres\u001b[0m\u001b[0;34m\u001b[0m\u001b[0m\n",
        "\u001b[0;32m/Users/kristian/miniconda/lib/python2.7/site-packages/pandas/core/internals.pyc\u001b[0m in \u001b[0;36mget\u001b[0;34m(self, item, fastpath)\u001b[0m\n\u001b[1;32m   2847\u001b[0m \u001b[0;34m\u001b[0m\u001b[0m\n\u001b[1;32m   2848\u001b[0m             \u001b[0;32mif\u001b[0m \u001b[0;32mnot\u001b[0m \u001b[0misnull\u001b[0m\u001b[0;34m(\u001b[0m\u001b[0mitem\u001b[0m\u001b[0;34m)\u001b[0m\u001b[0;34m:\u001b[0m\u001b[0;34m\u001b[0m\u001b[0m\n\u001b[0;32m-> 2849\u001b[0;31m                 \u001b[0mloc\u001b[0m \u001b[0;34m=\u001b[0m \u001b[0mself\u001b[0m\u001b[0;34m.\u001b[0m\u001b[0mitems\u001b[0m\u001b[0;34m.\u001b[0m\u001b[0mget_loc\u001b[0m\u001b[0;34m(\u001b[0m\u001b[0mitem\u001b[0m\u001b[0;34m)\u001b[0m\u001b[0;34m\u001b[0m\u001b[0m\n\u001b[0m\u001b[1;32m   2850\u001b[0m             \u001b[0;32melse\u001b[0m\u001b[0;34m:\u001b[0m\u001b[0;34m\u001b[0m\u001b[0m\n\u001b[1;32m   2851\u001b[0m                 \u001b[0mindexer\u001b[0m \u001b[0;34m=\u001b[0m \u001b[0mnp\u001b[0m\u001b[0;34m.\u001b[0m\u001b[0marange\u001b[0m\u001b[0;34m(\u001b[0m\u001b[0mlen\u001b[0m\u001b[0;34m(\u001b[0m\u001b[0mself\u001b[0m\u001b[0;34m.\u001b[0m\u001b[0mitems\u001b[0m\u001b[0;34m)\u001b[0m\u001b[0;34m)\u001b[0m\u001b[0;34m[\u001b[0m\u001b[0misnull\u001b[0m\u001b[0;34m(\u001b[0m\u001b[0mself\u001b[0m\u001b[0;34m.\u001b[0m\u001b[0mitems\u001b[0m\u001b[0;34m)\u001b[0m\u001b[0;34m]\u001b[0m\u001b[0;34m\u001b[0m\u001b[0m\n",
        "\u001b[0;32m/Users/kristian/miniconda/lib/python2.7/site-packages/pandas/core/index.pyc\u001b[0m in \u001b[0;36mget_loc\u001b[0;34m(self, key)\u001b[0m\n\u001b[1;32m   1400\u001b[0m         \u001b[0mloc\u001b[0m \u001b[0;34m:\u001b[0m \u001b[0mint\u001b[0m \u001b[0;32mif\u001b[0m \u001b[0munique\u001b[0m \u001b[0mindex\u001b[0m\u001b[0;34m,\u001b[0m \u001b[0mpossibly\u001b[0m \u001b[0mslice\u001b[0m \u001b[0;32mor\u001b[0m \u001b[0mmask\u001b[0m \u001b[0;32mif\u001b[0m \u001b[0;32mnot\u001b[0m\u001b[0;34m\u001b[0m\u001b[0m\n\u001b[1;32m   1401\u001b[0m         \"\"\"\n\u001b[0;32m-> 1402\u001b[0;31m         \u001b[0;32mreturn\u001b[0m \u001b[0mself\u001b[0m\u001b[0;34m.\u001b[0m\u001b[0m_engine\u001b[0m\u001b[0;34m.\u001b[0m\u001b[0mget_loc\u001b[0m\u001b[0;34m(\u001b[0m\u001b[0m_values_from_object\u001b[0m\u001b[0;34m(\u001b[0m\u001b[0mkey\u001b[0m\u001b[0;34m)\u001b[0m\u001b[0;34m)\u001b[0m\u001b[0;34m\u001b[0m\u001b[0m\n\u001b[0m\u001b[1;32m   1403\u001b[0m \u001b[0;34m\u001b[0m\u001b[0m\n\u001b[1;32m   1404\u001b[0m     \u001b[0;32mdef\u001b[0m \u001b[0mget_value\u001b[0m\u001b[0;34m(\u001b[0m\u001b[0mself\u001b[0m\u001b[0;34m,\u001b[0m \u001b[0mseries\u001b[0m\u001b[0;34m,\u001b[0m \u001b[0mkey\u001b[0m\u001b[0;34m)\u001b[0m\u001b[0;34m:\u001b[0m\u001b[0;34m\u001b[0m\u001b[0m\n",
        "\u001b[0;32m/Users/kristian/miniconda/lib/python2.7/site-packages/pandas/index.so\u001b[0m in \u001b[0;36mpandas.index.IndexEngine.get_loc (pandas/index.c:3807)\u001b[0;34m()\u001b[0m\n",
        "\u001b[0;32m/Users/kristian/miniconda/lib/python2.7/site-packages/pandas/index.so\u001b[0m in \u001b[0;36mpandas.index.IndexEngine.get_loc (pandas/index.c:3687)\u001b[0;34m()\u001b[0m\n",
        "\u001b[0;32m/Users/kristian/miniconda/lib/python2.7/site-packages/pandas/hashtable.so\u001b[0m in \u001b[0;36mpandas.hashtable.PyObjectHashTable.get_item (pandas/hashtable.c:12310)\u001b[0;34m()\u001b[0m\n",
        "\u001b[0;32m/Users/kristian/miniconda/lib/python2.7/site-packages/pandas/hashtable.so\u001b[0m in \u001b[0;36mpandas.hashtable.PyObjectHashTable.get_item (pandas/hashtable.c:12261)\u001b[0;34m()\u001b[0m\n",
        "\u001b[0;31mKeyError\u001b[0m: 'treatment'"
       ]
      }
     ],
     "prompt_number": 29
    },
    {
     "cell_type": "code",
     "collapsed": false,
     "input": [
      "x.to_csv(\"coded_df.csv\")"
     ],
     "language": "python",
     "metadata": {},
     "outputs": [
      {
       "ename": "NameError",
       "evalue": "name 'x' is not defined",
       "output_type": "pyerr",
       "traceback": [
        "\u001b[0;31m---------------------------------------------------------------------------\u001b[0m\n\u001b[0;31mNameError\u001b[0m                                 Traceback (most recent call last)",
        "\u001b[0;32m<ipython-input-30-dc7d096918f6>\u001b[0m in \u001b[0;36m<module>\u001b[0;34m()\u001b[0m\n\u001b[0;32m----> 1\u001b[0;31m \u001b[0mx\u001b[0m\u001b[0;34m.\u001b[0m\u001b[0mto_csv\u001b[0m\u001b[0;34m(\u001b[0m\u001b[0;34m\"coded_df.csv\"\u001b[0m\u001b[0;34m)\u001b[0m\u001b[0;34m\u001b[0m\u001b[0m\n\u001b[0m",
        "\u001b[0;31mNameError\u001b[0m: name 'x' is not defined"
       ]
      }
     ],
     "prompt_number": 30
    },
    {
     "cell_type": "markdown",
     "metadata": {},
     "source": [
      "#### Sequence effects in the cross-over study\n",
      "\n",
      "> These analysis of these results is done without considering the qualitative data we have collected troughtout the pilot. Some of these participants would have to be discarded in the basis that they sharing preferences followed a different rational from that of the experimental scenario.\n",
      "\n",
      "This is the aggregated of all the subjects under the two sequences. "
     ]
    },
    {
     "cell_type": "code",
     "collapsed": true,
     "input": [
      "sns.boxplot([x['baseline'], x['measure_1'].fillna(0), x['measure_2'].fillna(0)],  names=[\"baseline\",\"First\", \"Second\"],whis=np.inf, color=\"pastel\",  join_rm=True, widths=.5)"
     ],
     "language": "python",
     "metadata": {},
     "outputs": [
      {
       "metadata": {},
       "output_type": "pyout",
       "prompt_number": 22,
       "text": [
        "<matplotlib.axes._subplots.AxesSubplot at 0x10c70fd90>"
       ]
      },
      {
       "metadata": {},
       "output_type": "display_data",
       "png": "[encoded data removed]",
       "text": [
        "<matplotlib.figure.Figure at 0x10bd49490>"
       ]
      }
     ],
     "prompt_number": 22
    },
    {
     "cell_type": "markdown",
     "metadata": {},
     "source": [
      "#### Products effects without Sequence effects (without carry-over)\n",
      "\n",
      "\n",
      "In order to assess the results without carry-over effects we observerd the effects of the products in their first measure only (t=0) and compared the magainst the baseline.\n",
      "\n",
      "The product framed as GAIN has a more positive effect on openess than the LOSS framed product. This align with our hypothesis. However there are some caveats.\n",
      "\n"
     ]
    },
    {
     "cell_type": "code",
     "collapsed": false,
     "input": [
      "y = x[x['treatment'] == 'TREATMENT']\n",
      "sns.boxplot([y['baseline'], y['measure_1'].fillna(0)],  names=[\"Baseline\",\"Product:GAIN\" ],whis=np.inf, color=\"pastel\",  join_rm=True, widths=.5)\n",
      "\n",
      "print y.measure_1"
     ],
     "language": "python",
     "metadata": {},
     "outputs": [
      {
       "output_type": "stream",
       "stream": "stdout",
       "text": [
        "sessionid\n",
        "846c48d7ca77cecae577d9533df01226    3\n",
        "c8f46d4d7396f2bd6056a74d449e2c41    5\n",
        "c613e1d8edb212114499aff4bf996a8c    4\n",
        "d6471d9c7dc604952ebc33167be33960    5\n",
        "Name: measure_1, dtype: int64\n"
       ]
      },
      {
       "metadata": {},
       "output_type": "display_data",
       "png": "[encoded data removed]",
       "text": [
        "<matplotlib.figure.Figure at 0x10c45f3d0>"
       ]
      }
     ],
     "prompt_number": 23
    },
    {
     "cell_type": "code",
     "collapsed": false,
     "input": [
      "y = x[x['treatment'] == 'CONTROL']\n",
      "sns.boxplot([y['baseline'], y['measure_1'].fillna(0)],  names=[\"Baseline\",\"Product:LOSS\" ],whis=np.inf, color=\"pastel\",  join_rm=True,widths=.5)"
     ],
     "language": "python",
     "metadata": {},
     "outputs": [
      {
       "metadata": {},
       "output_type": "pyout",
       "prompt_number": 24,
       "text": [
        "<matplotlib.axes._subplots.AxesSubplot at 0x10ed39810>"
       ]
      },
      {
       "metadata": {},
       "output_type": "display_data",
       "png": "[encoded data removed]",
       "text": [
        "<matplotlib.figure.Figure at 0x10edde450>"
       ]
      }
     ],
     "prompt_number": 24
    },
    {
     "cell_type": "markdown",
     "metadata": {},
     "source": [
      "#### Products effects within the Sequence  ( with carry-over)"
     ]
    },
    {
     "cell_type": "code",
     "collapsed": false,
     "input": [
      "y = x[x['treatment'] == 'CONTROL']\n",
      "sns.boxplot([y['measure_1'], y['measure_2'].fillna(0)],  names=[\"Product:LOSS\",\"Product:GAIN\" ],whis=np.inf, color=\"pastel\",  join_rm=True, widths=.5)"
     ],
     "language": "python",
     "metadata": {},
     "outputs": [
      {
       "metadata": {},
       "output_type": "pyout",
       "prompt_number": 25,
       "text": [
        "<matplotlib.axes._subplots.AxesSubplot at 0x10ef14d50>"
       ]
      },
      {
       "metadata": {},
       "output_type": "display_data",
       "png": "[encoded data removed]",
       "text": [
        "<matplotlib.figure.Figure at 0x10ef2b190>"
       ]
      }
     ],
     "prompt_number": 25
    },
    {
     "cell_type": "code",
     "collapsed": false,
     "input": [
      "y = x[x['treatment'] == 'TREATMENT']\n",
      "sns.boxplot([y['measure_1'], y['measure_2'].fillna(0)],  names=[\"Product:GAIN\",\"Product:LOSS\" ],whis=np.inf, color=\"pastel\",  join_rm=True, widths=.5)"
     ],
     "language": "python",
     "metadata": {},
     "outputs": [
      {
       "metadata": {},
       "output_type": "pyout",
       "prompt_number": 26,
       "text": [
        "<matplotlib.axes._subplots.AxesSubplot at 0x10f183c50>"
       ]
      },
      {
       "metadata": {},
       "output_type": "display_data",
       "png": "[encoded data removed]",
       "text": [
        "<matplotlib.figure.Figure at 0x10f19e910>"
       ]
      }
     ],
     "prompt_number": 26
    },
    {
     "cell_type": "markdown",
     "metadata": {},
     "source": [
      "### Sequence effects in the cross-over study wihtout considering Structure Complex choice\n"
     ]
    },
    {
     "cell_type": "code",
     "collapsed": false,
     "input": [
      "s= code_measures_wo_scc2(df_filtered)\n",
      "# x = code_baseline(s)\n",
      "x =s "
     ],
     "language": "python",
     "metadata": {},
     "outputs": [
      {
       "output_type": "stream",
       "stream": "stderr",
       "text": [
        "code_data.py:142: SettingWithCopyWarning: \n",
        "A value is trying to be set on a copy of a slice from a DataFrame\n",
        "\n",
        "See the the caveats in the documentation: http://pandas.pydata.org/pandas-docs/stable/indexing.html#indexing-view-versus-copy\n",
        "  d.measure_1[d['with_who_1'] == 'public'] = 5\n",
        "/Users/kristian/miniconda/lib/python2.7/site-packages/pandas/core/generic.py:3368: SettingWithCopyWarning: \n",
        "A value is trying to be set on a copy of a slice from a DataFrame\n",
        "\n",
        "See the the caveats in the documentation: http://pandas.pydata.org/pandas-docs/stable/indexing.html#indexing-view-versus-copy\n",
        "  self._update_inplace(new_data)\n"
       ]
      },
      {
       "output_type": "stream",
       "stream": "stderr",
       "text": [
        "-c:1: SettingWithCopyWarning: \n",
        "A value is trying to be set on a copy of a slice from a DataFrame\n",
        "\n",
        "See the the caveats in the documentation: http://pandas.pydata.org/pandas-docs/stable/indexing.html#indexing-view-versus-copy\n",
        "code_data.py:143: SettingWithCopyWarning: \n",
        "A value is trying to be set on a copy of a slice from a DataFrame\n",
        "\n",
        "See the the caveats in the documentation: http://pandas.pydata.org/pandas-docs/stable/indexing.html#indexing-view-versus-copy\n",
        "  d.measure_1[d['with_who_1'] == 'collaborators'] = 3\n"
       ]
      },
      {
       "output_type": "stream",
       "stream": "stderr",
       "text": [
        "code_data.py:144: SettingWithCopyWarning: \n",
        "A value is trying to be set on a copy of a slice from a DataFrame\n",
        "\n",
        "See the the caveats in the documentation: http://pandas.pydata.org/pandas-docs/stable/indexing.html#indexing-view-versus-copy\n",
        "  d.measure_1[d['with_who_1'] == 'private'] = 1\n",
        "code_data.py:147: SettingWithCopyWarning: \n",
        "A value is trying to be set on a copy of a slice from a DataFrame\n",
        "\n",
        "See the the caveats in the documentation: http://pandas.pydata.org/pandas-docs/stable/indexing.html#indexing-view-versus-copy\n",
        "  d.measure_2[d['with_who_2'] == 'public'] = 5\n"
       ]
      },
      {
       "output_type": "stream",
       "stream": "stderr",
       "text": [
        "code_data.py:148: SettingWithCopyWarning: \n",
        "A value is trying to be set on a copy of a slice from a DataFrame\n",
        "\n",
        "See the the caveats in the documentation: http://pandas.pydata.org/pandas-docs/stable/indexing.html#indexing-view-versus-copy\n",
        "  d.measure_2[d['with_who_2'] == 'collaborators'] = 3\n",
        "code_data.py:149: SettingWithCopyWarning: \n",
        "A value is trying to be set on a copy of a slice from a DataFrame\n",
        "\n",
        "See the the caveats in the documentation: http://pandas.pydata.org/pandas-docs/stable/indexing.html#indexing-view-versus-copy\n",
        "  d.measure_2[d['with_who_2'] == 'private'] = 1\n"
       ]
      },
      {
       "output_type": "stream",
       "stream": "stderr",
       "text": [
        "code_data.py:158: SettingWithCopyWarning: \n",
        "A value is trying to be set on a copy of a slice from a DataFrame\n",
        "\n",
        "See the the caveats in the documentation: http://pandas.pydata.org/pandas-docs/stable/indexing.html#indexing-view-versus-copy\n",
        "  df.measure_2[df['with_who_2'] == 'public'] = 5\n",
        "code_data.py:159: SettingWithCopyWarning: \n",
        "A value is trying to be set on a copy of a slice from a DataFrame\n",
        "\n",
        "See the the caveats in the documentation: http://pandas.pydata.org/pandas-docs/stable/indexing.html#indexing-view-versus-copy\n",
        "  df.measure_2[df['with_who_2'] == 'collaborators'] = 3\n"
       ]
      },
      {
       "output_type": "stream",
       "stream": "stderr",
       "text": [
        "code_data.py:160: SettingWithCopyWarning: \n",
        "A value is trying to be set on a copy of a slice from a DataFrame\n",
        "\n",
        "See the the caveats in the documentation: http://pandas.pydata.org/pandas-docs/stable/indexing.html#indexing-view-versus-copy\n",
        "  df.measure_2[df['with_who_2'] == 'private'] = 1\n",
        "code_data.py:163: SettingWithCopyWarning: \n",
        "A value is trying to be set on a copy of a slice from a DataFrame\n",
        "\n",
        "See the the caveats in the documentation: http://pandas.pydata.org/pandas-docs/stable/indexing.html#indexing-view-versus-copy\n",
        "  df.measure_1[df['with_who_1'] == 'public'] = 5\n"
       ]
      },
      {
       "output_type": "stream",
       "stream": "stderr",
       "text": [
        "code_data.py:164: SettingWithCopyWarning: \n",
        "A value is trying to be set on a copy of a slice from a DataFrame\n",
        "\n",
        "See the the caveats in the documentation: http://pandas.pydata.org/pandas-docs/stable/indexing.html#indexing-view-versus-copy\n",
        "  df.measure_1[df['with_who_1'] == 'collaborators'] = 3\n",
        "code_data.py:165: SettingWithCopyWarning: \n",
        "A value is trying to be set on a copy of a slice from a DataFrame\n",
        "\n",
        "See the the caveats in the documentation: http://pandas.pydata.org/pandas-docs/stable/indexing.html#indexing-view-versus-copy\n",
        "  df.measure_1[df['with_who_1'] == 'private'] = 1\n"
       ]
      }
     ],
     "prompt_number": 32
    },
    {
     "cell_type": "code",
     "collapsed": false,
     "input": [
      "x.to_csv(\"coded_df.csv\")"
     ],
     "language": "python",
     "metadata": {},
     "outputs": [],
     "prompt_number": 33
    },
    {
     "cell_type": "code",
     "collapsed": true,
     "input": [
      "sns.boxplot([x['baseline'], x['measure_1'].fillna(0), x['measure_2'].fillna(0)],  names=[\"baseline\",\"First\", \"Second\"],whis=np.inf, color=\"pastel\",  join_rm=True, widths=.5)"
     ],
     "language": "python",
     "metadata": {},
     "outputs": [
      {
       "ename": "KeyError",
       "evalue": "'baseline'",
       "output_type": "pyerr",
       "traceback": [
        "\u001b[0;31m---------------------------------------------------------------------------\u001b[0m\n\u001b[0;31mKeyError\u001b[0m                                  Traceback (most recent call last)",
        "\u001b[0;32m<ipython-input-34-1e773cafe5a2>\u001b[0m in \u001b[0;36m<module>\u001b[0;34m()\u001b[0m\n\u001b[0;32m----> 1\u001b[0;31m \u001b[0msns\u001b[0m\u001b[0;34m.\u001b[0m\u001b[0mboxplot\u001b[0m\u001b[0;34m(\u001b[0m\u001b[0;34m[\u001b[0m\u001b[0mx\u001b[0m\u001b[0;34m[\u001b[0m\u001b[0;34m'baseline'\u001b[0m\u001b[0;34m]\u001b[0m\u001b[0;34m,\u001b[0m \u001b[0mx\u001b[0m\u001b[0;34m[\u001b[0m\u001b[0;34m'measure_1'\u001b[0m\u001b[0;34m]\u001b[0m\u001b[0;34m.\u001b[0m\u001b[0mfillna\u001b[0m\u001b[0;34m(\u001b[0m\u001b[0;36m0\u001b[0m\u001b[0;34m)\u001b[0m\u001b[0;34m,\u001b[0m \u001b[0mx\u001b[0m\u001b[0;34m[\u001b[0m\u001b[0;34m'measure_2'\u001b[0m\u001b[0;34m]\u001b[0m\u001b[0;34m.\u001b[0m\u001b[0mfillna\u001b[0m\u001b[0;34m(\u001b[0m\u001b[0;36m0\u001b[0m\u001b[0;34m)\u001b[0m\u001b[0;34m]\u001b[0m\u001b[0;34m,\u001b[0m  \u001b[0mnames\u001b[0m\u001b[0;34m=\u001b[0m\u001b[0;34m[\u001b[0m\u001b[0;34m\"baseline\"\u001b[0m\u001b[0;34m,\u001b[0m\u001b[0;34m\"First\"\u001b[0m\u001b[0;34m,\u001b[0m \u001b[0;34m\"Second\"\u001b[0m\u001b[0;34m]\u001b[0m\u001b[0;34m,\u001b[0m\u001b[0mwhis\u001b[0m\u001b[0;34m=\u001b[0m\u001b[0mnp\u001b[0m\u001b[0;34m.\u001b[0m\u001b[0minf\u001b[0m\u001b[0;34m,\u001b[0m \u001b[0mcolor\u001b[0m\u001b[0;34m=\u001b[0m\u001b[0;34m\"pastel\"\u001b[0m\u001b[0;34m,\u001b[0m  \u001b[0mjoin_rm\u001b[0m\u001b[0;34m=\u001b[0m\u001b[0mTrue\u001b[0m\u001b[0;34m,\u001b[0m \u001b[0mwidths\u001b[0m\u001b[0;34m=\u001b[0m\u001b[0;36m.5\u001b[0m\u001b[0;34m)\u001b[0m\u001b[0;34m\u001b[0m\u001b[0m\n\u001b[0m",
        "\u001b[0;32m/Users/kristian/miniconda/lib/python2.7/site-packages/pandas/core/frame.pyc\u001b[0m in \u001b[0;36m__getitem__\u001b[0;34m(self, key)\u001b[0m\n\u001b[1;32m   1778\u001b[0m             \u001b[0;32mreturn\u001b[0m \u001b[0mself\u001b[0m\u001b[0;34m.\u001b[0m\u001b[0m_getitem_multilevel\u001b[0m\u001b[0;34m(\u001b[0m\u001b[0mkey\u001b[0m\u001b[0;34m)\u001b[0m\u001b[0;34m\u001b[0m\u001b[0m\n\u001b[1;32m   1779\u001b[0m         \u001b[0;32melse\u001b[0m\u001b[0;34m:\u001b[0m\u001b[0;34m\u001b[0m\u001b[0m\n\u001b[0;32m-> 1780\u001b[0;31m             \u001b[0;32mreturn\u001b[0m \u001b[0mself\u001b[0m\u001b[0;34m.\u001b[0m\u001b[0m_getitem_column\u001b[0m\u001b[0;34m(\u001b[0m\u001b[0mkey\u001b[0m\u001b[0;34m)\u001b[0m\u001b[0;34m\u001b[0m\u001b[0m\n\u001b[0m\u001b[1;32m   1781\u001b[0m \u001b[0;34m\u001b[0m\u001b[0m\n\u001b[1;32m   1782\u001b[0m     \u001b[0;32mdef\u001b[0m \u001b[0m_getitem_column\u001b[0m\u001b[0;34m(\u001b[0m\u001b[0mself\u001b[0m\u001b[0;34m,\u001b[0m \u001b[0mkey\u001b[0m\u001b[0;34m)\u001b[0m\u001b[0;34m:\u001b[0m\u001b[0;34m\u001b[0m\u001b[0m\n",
        "\u001b[0;32m/Users/kristian/miniconda/lib/python2.7/site-packages/pandas/core/frame.pyc\u001b[0m in \u001b[0;36m_getitem_column\u001b[0;34m(self, key)\u001b[0m\n\u001b[1;32m   1785\u001b[0m         \u001b[0;31m# get column\u001b[0m\u001b[0;34m\u001b[0m\u001b[0;34m\u001b[0m\u001b[0m\n\u001b[1;32m   1786\u001b[0m         \u001b[0;32mif\u001b[0m \u001b[0mself\u001b[0m\u001b[0;34m.\u001b[0m\u001b[0mcolumns\u001b[0m\u001b[0;34m.\u001b[0m\u001b[0mis_unique\u001b[0m\u001b[0;34m:\u001b[0m\u001b[0;34m\u001b[0m\u001b[0m\n\u001b[0;32m-> 1787\u001b[0;31m             \u001b[0;32mreturn\u001b[0m \u001b[0mself\u001b[0m\u001b[0;34m.\u001b[0m\u001b[0m_get_item_cache\u001b[0m\u001b[0;34m(\u001b[0m\u001b[0mkey\u001b[0m\u001b[0;34m)\u001b[0m\u001b[0;34m\u001b[0m\u001b[0m\n\u001b[0m\u001b[1;32m   1788\u001b[0m \u001b[0;34m\u001b[0m\u001b[0m\n\u001b[1;32m   1789\u001b[0m         \u001b[0;31m# duplicate columns & possible reduce dimensionaility\u001b[0m\u001b[0;34m\u001b[0m\u001b[0;34m\u001b[0m\u001b[0m\n",
        "\u001b[0;32m/Users/kristian/miniconda/lib/python2.7/site-packages/pandas/core/generic.pyc\u001b[0m in \u001b[0;36m_get_item_cache\u001b[0;34m(self, item)\u001b[0m\n\u001b[1;32m   1066\u001b[0m         \u001b[0mres\u001b[0m \u001b[0;34m=\u001b[0m \u001b[0mcache\u001b[0m\u001b[0;34m.\u001b[0m\u001b[0mget\u001b[0m\u001b[0;34m(\u001b[0m\u001b[0mitem\u001b[0m\u001b[0;34m)\u001b[0m\u001b[0;34m\u001b[0m\u001b[0m\n\u001b[1;32m   1067\u001b[0m         \u001b[0;32mif\u001b[0m \u001b[0mres\u001b[0m \u001b[0;32mis\u001b[0m \u001b[0mNone\u001b[0m\u001b[0;34m:\u001b[0m\u001b[0;34m\u001b[0m\u001b[0m\n\u001b[0;32m-> 1068\u001b[0;31m             \u001b[0mvalues\u001b[0m \u001b[0;34m=\u001b[0m \u001b[0mself\u001b[0m\u001b[0;34m.\u001b[0m\u001b[0m_data\u001b[0m\u001b[0;34m.\u001b[0m\u001b[0mget\u001b[0m\u001b[0;34m(\u001b[0m\u001b[0mitem\u001b[0m\u001b[0;34m)\u001b[0m\u001b[0;34m\u001b[0m\u001b[0m\n\u001b[0m\u001b[1;32m   1069\u001b[0m             \u001b[0mres\u001b[0m \u001b[0;34m=\u001b[0m \u001b[0mself\u001b[0m\u001b[0;34m.\u001b[0m\u001b[0m_box_item_values\u001b[0m\u001b[0;34m(\u001b[0m\u001b[0mitem\u001b[0m\u001b[0;34m,\u001b[0m \u001b[0mvalues\u001b[0m\u001b[0;34m)\u001b[0m\u001b[0;34m\u001b[0m\u001b[0m\n\u001b[1;32m   1070\u001b[0m             \u001b[0mcache\u001b[0m\u001b[0;34m[\u001b[0m\u001b[0mitem\u001b[0m\u001b[0;34m]\u001b[0m \u001b[0;34m=\u001b[0m \u001b[0mres\u001b[0m\u001b[0;34m\u001b[0m\u001b[0m\n",
        "\u001b[0;32m/Users/kristian/miniconda/lib/python2.7/site-packages/pandas/core/internals.pyc\u001b[0m in \u001b[0;36mget\u001b[0;34m(self, item, fastpath)\u001b[0m\n\u001b[1;32m   2847\u001b[0m \u001b[0;34m\u001b[0m\u001b[0m\n\u001b[1;32m   2848\u001b[0m             \u001b[0;32mif\u001b[0m \u001b[0;32mnot\u001b[0m \u001b[0misnull\u001b[0m\u001b[0;34m(\u001b[0m\u001b[0mitem\u001b[0m\u001b[0;34m)\u001b[0m\u001b[0;34m:\u001b[0m\u001b[0;34m\u001b[0m\u001b[0m\n\u001b[0;32m-> 2849\u001b[0;31m                 \u001b[0mloc\u001b[0m \u001b[0;34m=\u001b[0m \u001b[0mself\u001b[0m\u001b[0;34m.\u001b[0m\u001b[0mitems\u001b[0m\u001b[0;34m.\u001b[0m\u001b[0mget_loc\u001b[0m\u001b[0;34m(\u001b[0m\u001b[0mitem\u001b[0m\u001b[0;34m)\u001b[0m\u001b[0;34m\u001b[0m\u001b[0m\n\u001b[0m\u001b[1;32m   2850\u001b[0m             \u001b[0;32melse\u001b[0m\u001b[0;34m:\u001b[0m\u001b[0;34m\u001b[0m\u001b[0m\n\u001b[1;32m   2851\u001b[0m                 \u001b[0mindexer\u001b[0m \u001b[0;34m=\u001b[0m \u001b[0mnp\u001b[0m\u001b[0;34m.\u001b[0m\u001b[0marange\u001b[0m\u001b[0;34m(\u001b[0m\u001b[0mlen\u001b[0m\u001b[0;34m(\u001b[0m\u001b[0mself\u001b[0m\u001b[0;34m.\u001b[0m\u001b[0mitems\u001b[0m\u001b[0;34m)\u001b[0m\u001b[0;34m)\u001b[0m\u001b[0;34m[\u001b[0m\u001b[0misnull\u001b[0m\u001b[0;34m(\u001b[0m\u001b[0mself\u001b[0m\u001b[0;34m.\u001b[0m\u001b[0mitems\u001b[0m\u001b[0;34m)\u001b[0m\u001b[0;34m]\u001b[0m\u001b[0;34m\u001b[0m\u001b[0m\n",
        "\u001b[0;32m/Users/kristian/miniconda/lib/python2.7/site-packages/pandas/core/index.pyc\u001b[0m in \u001b[0;36mget_loc\u001b[0;34m(self, key)\u001b[0m\n\u001b[1;32m   1400\u001b[0m         \u001b[0mloc\u001b[0m \u001b[0;34m:\u001b[0m \u001b[0mint\u001b[0m \u001b[0;32mif\u001b[0m \u001b[0munique\u001b[0m \u001b[0mindex\u001b[0m\u001b[0;34m,\u001b[0m \u001b[0mpossibly\u001b[0m \u001b[0mslice\u001b[0m \u001b[0;32mor\u001b[0m \u001b[0mmask\u001b[0m \u001b[0;32mif\u001b[0m \u001b[0;32mnot\u001b[0m\u001b[0;34m\u001b[0m\u001b[0m\n\u001b[1;32m   1401\u001b[0m         \"\"\"\n\u001b[0;32m-> 1402\u001b[0;31m         \u001b[0;32mreturn\u001b[0m \u001b[0mself\u001b[0m\u001b[0;34m.\u001b[0m\u001b[0m_engine\u001b[0m\u001b[0;34m.\u001b[0m\u001b[0mget_loc\u001b[0m\u001b[0;34m(\u001b[0m\u001b[0m_values_from_object\u001b[0m\u001b[0;34m(\u001b[0m\u001b[0mkey\u001b[0m\u001b[0;34m)\u001b[0m\u001b[0;34m)\u001b[0m\u001b[0;34m\u001b[0m\u001b[0m\n\u001b[0m\u001b[1;32m   1403\u001b[0m \u001b[0;34m\u001b[0m\u001b[0m\n\u001b[1;32m   1404\u001b[0m     \u001b[0;32mdef\u001b[0m \u001b[0mget_value\u001b[0m\u001b[0;34m(\u001b[0m\u001b[0mself\u001b[0m\u001b[0;34m,\u001b[0m \u001b[0mseries\u001b[0m\u001b[0;34m,\u001b[0m \u001b[0mkey\u001b[0m\u001b[0;34m)\u001b[0m\u001b[0;34m:\u001b[0m\u001b[0;34m\u001b[0m\u001b[0m\n",
        "\u001b[0;32m/Users/kristian/miniconda/lib/python2.7/site-packages/pandas/index.so\u001b[0m in \u001b[0;36mpandas.index.IndexEngine.get_loc (pandas/index.c:3807)\u001b[0;34m()\u001b[0m\n",
        "\u001b[0;32m/Users/kristian/miniconda/lib/python2.7/site-packages/pandas/index.so\u001b[0m in \u001b[0;36mpandas.index.IndexEngine.get_loc (pandas/index.c:3687)\u001b[0;34m()\u001b[0m\n",
        "\u001b[0;32m/Users/kristian/miniconda/lib/python2.7/site-packages/pandas/hashtable.so\u001b[0m in \u001b[0;36mpandas.hashtable.PyObjectHashTable.get_item (pandas/hashtable.c:12310)\u001b[0;34m()\u001b[0m\n",
        "\u001b[0;32m/Users/kristian/miniconda/lib/python2.7/site-packages/pandas/hashtable.so\u001b[0m in \u001b[0;36mpandas.hashtable.PyObjectHashTable.get_item (pandas/hashtable.c:12261)\u001b[0;34m()\u001b[0m\n",
        "\u001b[0;31mKeyError\u001b[0m: 'baseline'"
       ]
      }
     ],
     "prompt_number": 34
    },
    {
     "cell_type": "code",
     "collapsed": false,
     "input": [
      "y = x[x['treatment'] == 'TREATMENT']\n",
      "sns.boxplot([y['baseline'], y['measure_1'].fillna(0)],  names=[\"Baseline\",\"Product:GAIN\" ],whis=np.inf, color=\"pastel\",  join_rm=True, widths=.5)\n",
      "\n",
      "print y.measure_1"
     ],
     "language": "python",
     "metadata": {},
     "outputs": [
      {
       "ename": "KeyError",
       "evalue": "'treatment'",
       "output_type": "pyerr",
       "traceback": [
        "\u001b[0;31m---------------------------------------------------------------------------\u001b[0m\n\u001b[0;31mKeyError\u001b[0m                                  Traceback (most recent call last)",
        "\u001b[0;32m<ipython-input-35-22a79602f98c>\u001b[0m in \u001b[0;36m<module>\u001b[0;34m()\u001b[0m\n\u001b[0;32m----> 1\u001b[0;31m \u001b[0my\u001b[0m \u001b[0;34m=\u001b[0m \u001b[0mx\u001b[0m\u001b[0;34m[\u001b[0m\u001b[0mx\u001b[0m\u001b[0;34m[\u001b[0m\u001b[0;34m'treatment'\u001b[0m\u001b[0;34m]\u001b[0m \u001b[0;34m==\u001b[0m \u001b[0;34m'TREATMENT'\u001b[0m\u001b[0;34m]\u001b[0m\u001b[0;34m\u001b[0m\u001b[0m\n\u001b[0m\u001b[1;32m      2\u001b[0m \u001b[0msns\u001b[0m\u001b[0;34m.\u001b[0m\u001b[0mboxplot\u001b[0m\u001b[0;34m(\u001b[0m\u001b[0;34m[\u001b[0m\u001b[0my\u001b[0m\u001b[0;34m[\u001b[0m\u001b[0;34m'baseline'\u001b[0m\u001b[0;34m]\u001b[0m\u001b[0;34m,\u001b[0m \u001b[0my\u001b[0m\u001b[0;34m[\u001b[0m\u001b[0;34m'measure_1'\u001b[0m\u001b[0;34m]\u001b[0m\u001b[0;34m.\u001b[0m\u001b[0mfillna\u001b[0m\u001b[0;34m(\u001b[0m\u001b[0;36m0\u001b[0m\u001b[0;34m)\u001b[0m\u001b[0;34m]\u001b[0m\u001b[0;34m,\u001b[0m  \u001b[0mnames\u001b[0m\u001b[0;34m=\u001b[0m\u001b[0;34m[\u001b[0m\u001b[0;34m\"Baseline\"\u001b[0m\u001b[0;34m,\u001b[0m\u001b[0;34m\"Product:GAIN\"\u001b[0m \u001b[0;34m]\u001b[0m\u001b[0;34m,\u001b[0m\u001b[0mwhis\u001b[0m\u001b[0;34m=\u001b[0m\u001b[0mnp\u001b[0m\u001b[0;34m.\u001b[0m\u001b[0minf\u001b[0m\u001b[0;34m,\u001b[0m \u001b[0mcolor\u001b[0m\u001b[0;34m=\u001b[0m\u001b[0;34m\"pastel\"\u001b[0m\u001b[0;34m,\u001b[0m  \u001b[0mjoin_rm\u001b[0m\u001b[0;34m=\u001b[0m\u001b[0mTrue\u001b[0m\u001b[0;34m,\u001b[0m \u001b[0mwidths\u001b[0m\u001b[0;34m=\u001b[0m\u001b[0;36m.5\u001b[0m\u001b[0;34m)\u001b[0m\u001b[0;34m\u001b[0m\u001b[0m\n\u001b[1;32m      3\u001b[0m \u001b[0;34m\u001b[0m\u001b[0m\n\u001b[1;32m      4\u001b[0m \u001b[0;32mprint\u001b[0m \u001b[0my\u001b[0m\u001b[0;34m.\u001b[0m\u001b[0mmeasure_1\u001b[0m\u001b[0;34m\u001b[0m\u001b[0m\n",
        "\u001b[0;32m/Users/kristian/miniconda/lib/python2.7/site-packages/pandas/core/frame.pyc\u001b[0m in \u001b[0;36m__getitem__\u001b[0;34m(self, key)\u001b[0m\n\u001b[1;32m   1778\u001b[0m             \u001b[0;32mreturn\u001b[0m \u001b[0mself\u001b[0m\u001b[0;34m.\u001b[0m\u001b[0m_getitem_multilevel\u001b[0m\u001b[0;34m(\u001b[0m\u001b[0mkey\u001b[0m\u001b[0;34m)\u001b[0m\u001b[0;34m\u001b[0m\u001b[0m\n\u001b[1;32m   1779\u001b[0m         \u001b[0;32melse\u001b[0m\u001b[0;34m:\u001b[0m\u001b[0;34m\u001b[0m\u001b[0m\n\u001b[0;32m-> 1780\u001b[0;31m             \u001b[0;32mreturn\u001b[0m \u001b[0mself\u001b[0m\u001b[0;34m.\u001b[0m\u001b[0m_getitem_column\u001b[0m\u001b[0;34m(\u001b[0m\u001b[0mkey\u001b[0m\u001b[0;34m)\u001b[0m\u001b[0;34m\u001b[0m\u001b[0m\n\u001b[0m\u001b[1;32m   1781\u001b[0m \u001b[0;34m\u001b[0m\u001b[0m\n\u001b[1;32m   1782\u001b[0m     \u001b[0;32mdef\u001b[0m \u001b[0m_getitem_column\u001b[0m\u001b[0;34m(\u001b[0m\u001b[0mself\u001b[0m\u001b[0;34m,\u001b[0m \u001b[0mkey\u001b[0m\u001b[0;34m)\u001b[0m\u001b[0;34m:\u001b[0m\u001b[0;34m\u001b[0m\u001b[0m\n",
        "\u001b[0;32m/Users/kristian/miniconda/lib/python2.7/site-packages/pandas/core/frame.pyc\u001b[0m in \u001b[0;36m_getitem_column\u001b[0;34m(self, key)\u001b[0m\n\u001b[1;32m   1785\u001b[0m         \u001b[0;31m# get column\u001b[0m\u001b[0;34m\u001b[0m\u001b[0;34m\u001b[0m\u001b[0m\n\u001b[1;32m   1786\u001b[0m         \u001b[0;32mif\u001b[0m \u001b[0mself\u001b[0m\u001b[0;34m.\u001b[0m\u001b[0mcolumns\u001b[0m\u001b[0;34m.\u001b[0m\u001b[0mis_unique\u001b[0m\u001b[0;34m:\u001b[0m\u001b[0;34m\u001b[0m\u001b[0m\n\u001b[0;32m-> 1787\u001b[0;31m             \u001b[0;32mreturn\u001b[0m \u001b[0mself\u001b[0m\u001b[0;34m.\u001b[0m\u001b[0m_get_item_cache\u001b[0m\u001b[0;34m(\u001b[0m\u001b[0mkey\u001b[0m\u001b[0;34m)\u001b[0m\u001b[0;34m\u001b[0m\u001b[0m\n\u001b[0m\u001b[1;32m   1788\u001b[0m \u001b[0;34m\u001b[0m\u001b[0m\n\u001b[1;32m   1789\u001b[0m         \u001b[0;31m# duplicate columns & possible reduce dimensionaility\u001b[0m\u001b[0;34m\u001b[0m\u001b[0;34m\u001b[0m\u001b[0m\n",
        "\u001b[0;32m/Users/kristian/miniconda/lib/python2.7/site-packages/pandas/core/generic.pyc\u001b[0m in \u001b[0;36m_get_item_cache\u001b[0;34m(self, item)\u001b[0m\n\u001b[1;32m   1066\u001b[0m         \u001b[0mres\u001b[0m \u001b[0;34m=\u001b[0m \u001b[0mcache\u001b[0m\u001b[0;34m.\u001b[0m\u001b[0mget\u001b[0m\u001b[0;34m(\u001b[0m\u001b[0mitem\u001b[0m\u001b[0;34m)\u001b[0m\u001b[0;34m\u001b[0m\u001b[0m\n\u001b[1;32m   1067\u001b[0m         \u001b[0;32mif\u001b[0m \u001b[0mres\u001b[0m \u001b[0;32mis\u001b[0m \u001b[0mNone\u001b[0m\u001b[0;34m:\u001b[0m\u001b[0;34m\u001b[0m\u001b[0m\n\u001b[0;32m-> 1068\u001b[0;31m             \u001b[0mvalues\u001b[0m \u001b[0;34m=\u001b[0m \u001b[0mself\u001b[0m\u001b[0;34m.\u001b[0m\u001b[0m_data\u001b[0m\u001b[0;34m.\u001b[0m\u001b[0mget\u001b[0m\u001b[0;34m(\u001b[0m\u001b[0mitem\u001b[0m\u001b[0;34m)\u001b[0m\u001b[0;34m\u001b[0m\u001b[0m\n\u001b[0m\u001b[1;32m   1069\u001b[0m             \u001b[0mres\u001b[0m \u001b[0;34m=\u001b[0m \u001b[0mself\u001b[0m\u001b[0;34m.\u001b[0m\u001b[0m_box_item_values\u001b[0m\u001b[0;34m(\u001b[0m\u001b[0mitem\u001b[0m\u001b[0;34m,\u001b[0m \u001b[0mvalues\u001b[0m\u001b[0;34m)\u001b[0m\u001b[0;34m\u001b[0m\u001b[0m\n\u001b[1;32m   1070\u001b[0m             \u001b[0mcache\u001b[0m\u001b[0;34m[\u001b[0m\u001b[0mitem\u001b[0m\u001b[0;34m]\u001b[0m \u001b[0;34m=\u001b[0m \u001b[0mres\u001b[0m\u001b[0;34m\u001b[0m\u001b[0m\n",
        "\u001b[0;32m/Users/kristian/miniconda/lib/python2.7/site-packages/pandas/core/internals.pyc\u001b[0m in \u001b[0;36mget\u001b[0;34m(self, item, fastpath)\u001b[0m\n\u001b[1;32m   2847\u001b[0m \u001b[0;34m\u001b[0m\u001b[0m\n\u001b[1;32m   2848\u001b[0m             \u001b[0;32mif\u001b[0m \u001b[0;32mnot\u001b[0m \u001b[0misnull\u001b[0m\u001b[0;34m(\u001b[0m\u001b[0mitem\u001b[0m\u001b[0;34m)\u001b[0m\u001b[0;34m:\u001b[0m\u001b[0;34m\u001b[0m\u001b[0m\n\u001b[0;32m-> 2849\u001b[0;31m                 \u001b[0mloc\u001b[0m \u001b[0;34m=\u001b[0m \u001b[0mself\u001b[0m\u001b[0;34m.\u001b[0m\u001b[0mitems\u001b[0m\u001b[0;34m.\u001b[0m\u001b[0mget_loc\u001b[0m\u001b[0;34m(\u001b[0m\u001b[0mitem\u001b[0m\u001b[0;34m)\u001b[0m\u001b[0;34m\u001b[0m\u001b[0m\n\u001b[0m\u001b[1;32m   2850\u001b[0m             \u001b[0;32melse\u001b[0m\u001b[0;34m:\u001b[0m\u001b[0;34m\u001b[0m\u001b[0m\n\u001b[1;32m   2851\u001b[0m                 \u001b[0mindexer\u001b[0m \u001b[0;34m=\u001b[0m \u001b[0mnp\u001b[0m\u001b[0;34m.\u001b[0m\u001b[0marange\u001b[0m\u001b[0;34m(\u001b[0m\u001b[0mlen\u001b[0m\u001b[0;34m(\u001b[0m\u001b[0mself\u001b[0m\u001b[0;34m.\u001b[0m\u001b[0mitems\u001b[0m\u001b[0;34m)\u001b[0m\u001b[0;34m)\u001b[0m\u001b[0;34m[\u001b[0m\u001b[0misnull\u001b[0m\u001b[0;34m(\u001b[0m\u001b[0mself\u001b[0m\u001b[0;34m.\u001b[0m\u001b[0mitems\u001b[0m\u001b[0;34m)\u001b[0m\u001b[0;34m]\u001b[0m\u001b[0;34m\u001b[0m\u001b[0m\n",
        "\u001b[0;32m/Users/kristian/miniconda/lib/python2.7/site-packages/pandas/core/index.pyc\u001b[0m in \u001b[0;36mget_loc\u001b[0;34m(self, key)\u001b[0m\n\u001b[1;32m   1400\u001b[0m         \u001b[0mloc\u001b[0m \u001b[0;34m:\u001b[0m \u001b[0mint\u001b[0m \u001b[0;32mif\u001b[0m \u001b[0munique\u001b[0m \u001b[0mindex\u001b[0m\u001b[0;34m,\u001b[0m \u001b[0mpossibly\u001b[0m \u001b[0mslice\u001b[0m \u001b[0;32mor\u001b[0m \u001b[0mmask\u001b[0m \u001b[0;32mif\u001b[0m \u001b[0;32mnot\u001b[0m\u001b[0;34m\u001b[0m\u001b[0m\n\u001b[1;32m   1401\u001b[0m         \"\"\"\n\u001b[0;32m-> 1402\u001b[0;31m         \u001b[0;32mreturn\u001b[0m \u001b[0mself\u001b[0m\u001b[0;34m.\u001b[0m\u001b[0m_engine\u001b[0m\u001b[0;34m.\u001b[0m\u001b[0mget_loc\u001b[0m\u001b[0;34m(\u001b[0m\u001b[0m_values_from_object\u001b[0m\u001b[0;34m(\u001b[0m\u001b[0mkey\u001b[0m\u001b[0;34m)\u001b[0m\u001b[0;34m)\u001b[0m\u001b[0;34m\u001b[0m\u001b[0m\n\u001b[0m\u001b[1;32m   1403\u001b[0m \u001b[0;34m\u001b[0m\u001b[0m\n\u001b[1;32m   1404\u001b[0m     \u001b[0;32mdef\u001b[0m \u001b[0mget_value\u001b[0m\u001b[0;34m(\u001b[0m\u001b[0mself\u001b[0m\u001b[0;34m,\u001b[0m \u001b[0mseries\u001b[0m\u001b[0;34m,\u001b[0m \u001b[0mkey\u001b[0m\u001b[0;34m)\u001b[0m\u001b[0;34m:\u001b[0m\u001b[0;34m\u001b[0m\u001b[0m\n",
        "\u001b[0;32m/Users/kristian/miniconda/lib/python2.7/site-packages/pandas/index.so\u001b[0m in \u001b[0;36mpandas.index.IndexEngine.get_loc (pandas/index.c:3807)\u001b[0;34m()\u001b[0m\n",
        "\u001b[0;32m/Users/kristian/miniconda/lib/python2.7/site-packages/pandas/index.so\u001b[0m in \u001b[0;36mpandas.index.IndexEngine.get_loc (pandas/index.c:3687)\u001b[0;34m()\u001b[0m\n",
        "\u001b[0;32m/Users/kristian/miniconda/lib/python2.7/site-packages/pandas/hashtable.so\u001b[0m in \u001b[0;36mpandas.hashtable.PyObjectHashTable.get_item (pandas/hashtable.c:12310)\u001b[0;34m()\u001b[0m\n",
        "\u001b[0;32m/Users/kristian/miniconda/lib/python2.7/site-packages/pandas/hashtable.so\u001b[0m in \u001b[0;36mpandas.hashtable.PyObjectHashTable.get_item (pandas/hashtable.c:12261)\u001b[0;34m()\u001b[0m\n",
        "\u001b[0;31mKeyError\u001b[0m: 'treatment'"
       ]
      }
     ],
     "prompt_number": 35
    },
    {
     "cell_type": "code",
     "collapsed": false,
     "input": [],
     "language": "python",
     "metadata": {},
     "outputs": [],
     "prompt_number": 35
    },
    {
     "cell_type": "code",
     "collapsed": false,
     "input": [
      "y = x[x['treatment'] == 'CONTROL']\n",
      "sns.boxplot([y['baseline'], y['measure_1'].fillna(0)],  names=[\"Baseline\",\"Product:LOSS\" ],whis=np.inf, color=\"pastel\",  join_rm=True,widths=.5)"
     ],
     "language": "python",
     "metadata": {},
     "outputs": [
      {
       "ename": "KeyError",
       "evalue": "'treatment'",
       "output_type": "pyerr",
       "traceback": [
        "\u001b[0;31m---------------------------------------------------------------------------\u001b[0m\n\u001b[0;31mKeyError\u001b[0m                                  Traceback (most recent call last)",
        "\u001b[0;32m<ipython-input-36-86de8e39492b>\u001b[0m in \u001b[0;36m<module>\u001b[0;34m()\u001b[0m\n\u001b[0;32m----> 1\u001b[0;31m \u001b[0my\u001b[0m \u001b[0;34m=\u001b[0m \u001b[0mx\u001b[0m\u001b[0;34m[\u001b[0m\u001b[0mx\u001b[0m\u001b[0;34m[\u001b[0m\u001b[0;34m'treatment'\u001b[0m\u001b[0;34m]\u001b[0m \u001b[0;34m==\u001b[0m \u001b[0;34m'CONTROL'\u001b[0m\u001b[0;34m]\u001b[0m\u001b[0;34m\u001b[0m\u001b[0m\n\u001b[0m\u001b[1;32m      2\u001b[0m \u001b[0msns\u001b[0m\u001b[0;34m.\u001b[0m\u001b[0mboxplot\u001b[0m\u001b[0;34m(\u001b[0m\u001b[0;34m[\u001b[0m\u001b[0my\u001b[0m\u001b[0;34m[\u001b[0m\u001b[0;34m'baseline'\u001b[0m\u001b[0;34m]\u001b[0m\u001b[0;34m,\u001b[0m \u001b[0my\u001b[0m\u001b[0;34m[\u001b[0m\u001b[0;34m'measure_1'\u001b[0m\u001b[0;34m]\u001b[0m\u001b[0;34m.\u001b[0m\u001b[0mfillna\u001b[0m\u001b[0;34m(\u001b[0m\u001b[0;36m0\u001b[0m\u001b[0;34m)\u001b[0m\u001b[0;34m]\u001b[0m\u001b[0;34m,\u001b[0m  \u001b[0mnames\u001b[0m\u001b[0;34m=\u001b[0m\u001b[0;34m[\u001b[0m\u001b[0;34m\"Baseline\"\u001b[0m\u001b[0;34m,\u001b[0m\u001b[0;34m\"Product:LOSS\"\u001b[0m \u001b[0;34m]\u001b[0m\u001b[0;34m,\u001b[0m\u001b[0mwhis\u001b[0m\u001b[0;34m=\u001b[0m\u001b[0mnp\u001b[0m\u001b[0;34m.\u001b[0m\u001b[0minf\u001b[0m\u001b[0;34m,\u001b[0m \u001b[0mcolor\u001b[0m\u001b[0;34m=\u001b[0m\u001b[0;34m\"pastel\"\u001b[0m\u001b[0;34m,\u001b[0m  \u001b[0mjoin_rm\u001b[0m\u001b[0;34m=\u001b[0m\u001b[0mTrue\u001b[0m\u001b[0;34m,\u001b[0m\u001b[0mwidths\u001b[0m\u001b[0;34m=\u001b[0m\u001b[0;36m.5\u001b[0m\u001b[0;34m)\u001b[0m\u001b[0;34m\u001b[0m\u001b[0m\n",
        "\u001b[0;32m/Users/kristian/miniconda/lib/python2.7/site-packages/pandas/core/frame.pyc\u001b[0m in \u001b[0;36m__getitem__\u001b[0;34m(self, key)\u001b[0m\n\u001b[1;32m   1778\u001b[0m             \u001b[0;32mreturn\u001b[0m \u001b[0mself\u001b[0m\u001b[0;34m.\u001b[0m\u001b[0m_getitem_multilevel\u001b[0m\u001b[0;34m(\u001b[0m\u001b[0mkey\u001b[0m\u001b[0;34m)\u001b[0m\u001b[0;34m\u001b[0m\u001b[0m\n\u001b[1;32m   1779\u001b[0m         \u001b[0;32melse\u001b[0m\u001b[0;34m:\u001b[0m\u001b[0;34m\u001b[0m\u001b[0m\n\u001b[0;32m-> 1780\u001b[0;31m             \u001b[0;32mreturn\u001b[0m \u001b[0mself\u001b[0m\u001b[0;34m.\u001b[0m\u001b[0m_getitem_column\u001b[0m\u001b[0;34m(\u001b[0m\u001b[0mkey\u001b[0m\u001b[0;34m)\u001b[0m\u001b[0;34m\u001b[0m\u001b[0m\n\u001b[0m\u001b[1;32m   1781\u001b[0m \u001b[0;34m\u001b[0m\u001b[0m\n\u001b[1;32m   1782\u001b[0m     \u001b[0;32mdef\u001b[0m \u001b[0m_getitem_column\u001b[0m\u001b[0;34m(\u001b[0m\u001b[0mself\u001b[0m\u001b[0;34m,\u001b[0m \u001b[0mkey\u001b[0m\u001b[0;34m)\u001b[0m\u001b[0;34m:\u001b[0m\u001b[0;34m\u001b[0m\u001b[0m\n",
        "\u001b[0;32m/Users/kristian/miniconda/lib/python2.7/site-packages/pandas/core/frame.pyc\u001b[0m in \u001b[0;36m_getitem_column\u001b[0;34m(self, key)\u001b[0m\n\u001b[1;32m   1785\u001b[0m         \u001b[0;31m# get column\u001b[0m\u001b[0;34m\u001b[0m\u001b[0;34m\u001b[0m\u001b[0m\n\u001b[1;32m   1786\u001b[0m         \u001b[0;32mif\u001b[0m \u001b[0mself\u001b[0m\u001b[0;34m.\u001b[0m\u001b[0mcolumns\u001b[0m\u001b[0;34m.\u001b[0m\u001b[0mis_unique\u001b[0m\u001b[0;34m:\u001b[0m\u001b[0;34m\u001b[0m\u001b[0m\n\u001b[0;32m-> 1787\u001b[0;31m             \u001b[0;32mreturn\u001b[0m \u001b[0mself\u001b[0m\u001b[0;34m.\u001b[0m\u001b[0m_get_item_cache\u001b[0m\u001b[0;34m(\u001b[0m\u001b[0mkey\u001b[0m\u001b[0;34m)\u001b[0m\u001b[0;34m\u001b[0m\u001b[0m\n\u001b[0m\u001b[1;32m   1788\u001b[0m \u001b[0;34m\u001b[0m\u001b[0m\n\u001b[1;32m   1789\u001b[0m         \u001b[0;31m# duplicate columns & possible reduce dimensionaility\u001b[0m\u001b[0;34m\u001b[0m\u001b[0;34m\u001b[0m\u001b[0m\n",
        "\u001b[0;32m/Users/kristian/miniconda/lib/python2.7/site-packages/pandas/core/generic.pyc\u001b[0m in \u001b[0;36m_get_item_cache\u001b[0;34m(self, item)\u001b[0m\n\u001b[1;32m   1066\u001b[0m         \u001b[0mres\u001b[0m \u001b[0;34m=\u001b[0m \u001b[0mcache\u001b[0m\u001b[0;34m.\u001b[0m\u001b[0mget\u001b[0m\u001b[0;34m(\u001b[0m\u001b[0mitem\u001b[0m\u001b[0;34m)\u001b[0m\u001b[0;34m\u001b[0m\u001b[0m\n\u001b[1;32m   1067\u001b[0m         \u001b[0;32mif\u001b[0m \u001b[0mres\u001b[0m \u001b[0;32mis\u001b[0m \u001b[0mNone\u001b[0m\u001b[0;34m:\u001b[0m\u001b[0;34m\u001b[0m\u001b[0m\n\u001b[0;32m-> 1068\u001b[0;31m             \u001b[0mvalues\u001b[0m \u001b[0;34m=\u001b[0m \u001b[0mself\u001b[0m\u001b[0;34m.\u001b[0m\u001b[0m_data\u001b[0m\u001b[0;34m.\u001b[0m\u001b[0mget\u001b[0m\u001b[0;34m(\u001b[0m\u001b[0mitem\u001b[0m\u001b[0;34m)\u001b[0m\u001b[0;34m\u001b[0m\u001b[0m\n\u001b[0m\u001b[1;32m   1069\u001b[0m             \u001b[0mres\u001b[0m \u001b[0;34m=\u001b[0m \u001b[0mself\u001b[0m\u001b[0;34m.\u001b[0m\u001b[0m_box_item_values\u001b[0m\u001b[0;34m(\u001b[0m\u001b[0mitem\u001b[0m\u001b[0;34m,\u001b[0m \u001b[0mvalues\u001b[0m\u001b[0;34m)\u001b[0m\u001b[0;34m\u001b[0m\u001b[0m\n\u001b[1;32m   1070\u001b[0m             \u001b[0mcache\u001b[0m\u001b[0;34m[\u001b[0m\u001b[0mitem\u001b[0m\u001b[0;34m]\u001b[0m \u001b[0;34m=\u001b[0m \u001b[0mres\u001b[0m\u001b[0;34m\u001b[0m\u001b[0m\n",
        "\u001b[0;32m/Users/kristian/miniconda/lib/python2.7/site-packages/pandas/core/internals.pyc\u001b[0m in \u001b[0;36mget\u001b[0;34m(self, item, fastpath)\u001b[0m\n\u001b[1;32m   2847\u001b[0m \u001b[0;34m\u001b[0m\u001b[0m\n\u001b[1;32m   2848\u001b[0m             \u001b[0;32mif\u001b[0m \u001b[0;32mnot\u001b[0m \u001b[0misnull\u001b[0m\u001b[0;34m(\u001b[0m\u001b[0mitem\u001b[0m\u001b[0;34m)\u001b[0m\u001b[0;34m:\u001b[0m\u001b[0;34m\u001b[0m\u001b[0m\n\u001b[0;32m-> 2849\u001b[0;31m                 \u001b[0mloc\u001b[0m \u001b[0;34m=\u001b[0m \u001b[0mself\u001b[0m\u001b[0;34m.\u001b[0m\u001b[0mitems\u001b[0m\u001b[0;34m.\u001b[0m\u001b[0mget_loc\u001b[0m\u001b[0;34m(\u001b[0m\u001b[0mitem\u001b[0m\u001b[0;34m)\u001b[0m\u001b[0;34m\u001b[0m\u001b[0m\n\u001b[0m\u001b[1;32m   2850\u001b[0m             \u001b[0;32melse\u001b[0m\u001b[0;34m:\u001b[0m\u001b[0;34m\u001b[0m\u001b[0m\n\u001b[1;32m   2851\u001b[0m                 \u001b[0mindexer\u001b[0m \u001b[0;34m=\u001b[0m \u001b[0mnp\u001b[0m\u001b[0;34m.\u001b[0m\u001b[0marange\u001b[0m\u001b[0;34m(\u001b[0m\u001b[0mlen\u001b[0m\u001b[0;34m(\u001b[0m\u001b[0mself\u001b[0m\u001b[0;34m.\u001b[0m\u001b[0mitems\u001b[0m\u001b[0;34m)\u001b[0m\u001b[0;34m)\u001b[0m\u001b[0;34m[\u001b[0m\u001b[0misnull\u001b[0m\u001b[0;34m(\u001b[0m\u001b[0mself\u001b[0m\u001b[0;34m.\u001b[0m\u001b[0mitems\u001b[0m\u001b[0;34m)\u001b[0m\u001b[0;34m]\u001b[0m\u001b[0;34m\u001b[0m\u001b[0m\n",
        "\u001b[0;32m/Users/kristian/miniconda/lib/python2.7/site-packages/pandas/core/index.pyc\u001b[0m in \u001b[0;36mget_loc\u001b[0;34m(self, key)\u001b[0m\n\u001b[1;32m   1400\u001b[0m         \u001b[0mloc\u001b[0m \u001b[0;34m:\u001b[0m \u001b[0mint\u001b[0m \u001b[0;32mif\u001b[0m \u001b[0munique\u001b[0m \u001b[0mindex\u001b[0m\u001b[0;34m,\u001b[0m \u001b[0mpossibly\u001b[0m \u001b[0mslice\u001b[0m \u001b[0;32mor\u001b[0m \u001b[0mmask\u001b[0m \u001b[0;32mif\u001b[0m \u001b[0;32mnot\u001b[0m\u001b[0;34m\u001b[0m\u001b[0m\n\u001b[1;32m   1401\u001b[0m         \"\"\"\n\u001b[0;32m-> 1402\u001b[0;31m         \u001b[0;32mreturn\u001b[0m \u001b[0mself\u001b[0m\u001b[0;34m.\u001b[0m\u001b[0m_engine\u001b[0m\u001b[0;34m.\u001b[0m\u001b[0mget_loc\u001b[0m\u001b[0;34m(\u001b[0m\u001b[0m_values_from_object\u001b[0m\u001b[0;34m(\u001b[0m\u001b[0mkey\u001b[0m\u001b[0;34m)\u001b[0m\u001b[0;34m)\u001b[0m\u001b[0;34m\u001b[0m\u001b[0m\n\u001b[0m\u001b[1;32m   1403\u001b[0m \u001b[0;34m\u001b[0m\u001b[0m\n\u001b[1;32m   1404\u001b[0m     \u001b[0;32mdef\u001b[0m \u001b[0mget_value\u001b[0m\u001b[0;34m(\u001b[0m\u001b[0mself\u001b[0m\u001b[0;34m,\u001b[0m \u001b[0mseries\u001b[0m\u001b[0;34m,\u001b[0m \u001b[0mkey\u001b[0m\u001b[0;34m)\u001b[0m\u001b[0;34m:\u001b[0m\u001b[0;34m\u001b[0m\u001b[0m\n",
        "\u001b[0;32m/Users/kristian/miniconda/lib/python2.7/site-packages/pandas/index.so\u001b[0m in \u001b[0;36mpandas.index.IndexEngine.get_loc (pandas/index.c:3807)\u001b[0;34m()\u001b[0m\n",
        "\u001b[0;32m/Users/kristian/miniconda/lib/python2.7/site-packages/pandas/index.so\u001b[0m in \u001b[0;36mpandas.index.IndexEngine.get_loc (pandas/index.c:3687)\u001b[0;34m()\u001b[0m\n",
        "\u001b[0;32m/Users/kristian/miniconda/lib/python2.7/site-packages/pandas/hashtable.so\u001b[0m in \u001b[0;36mpandas.hashtable.PyObjectHashTable.get_item (pandas/hashtable.c:12310)\u001b[0;34m()\u001b[0m\n",
        "\u001b[0;32m/Users/kristian/miniconda/lib/python2.7/site-packages/pandas/hashtable.so\u001b[0m in \u001b[0;36mpandas.hashtable.PyObjectHashTable.get_item (pandas/hashtable.c:12261)\u001b[0;34m()\u001b[0m\n",
        "\u001b[0;31mKeyError\u001b[0m: 'treatment'"
       ]
      }
     ],
     "prompt_number": 36
    },
    {
     "cell_type": "code",
     "collapsed": false,
     "input": [
      "y = x[x['treatment_eval_1'] == 'Jam Share Data']\n",
      "sns.boxplot([y['measure_1'].fillna(0), y['measure_2'].fillna(0)],  names=[\"Product:LOSS\",\"Product:GAIN\" ],whis=np.inf, color=\"pastel\",  join_rm=True, widths=.5)"
     ],
     "language": "python",
     "metadata": {},
     "outputs": [
      {
       "metadata": {},
       "output_type": "pyout",
       "prompt_number": 37,
       "text": [
        "<matplotlib.axes._subplots.AxesSubplot at 0x10f02bcd0>"
       ]
      },
      {
       "metadata": {},
       "output_type": "display_data",
       "png": "[encoded data removed]",
       "text": [
        "<matplotlib.figure.Figure at 0x10f358c90>"
       ]
      }
     ],
     "prompt_number": 37
    },
    {
     "cell_type": "code",
     "collapsed": false,
     "input": [
      "y = x[x['treatment_eval_1'] == 'cite DataLabour']\n",
      "sns.boxplot([y['measure_1'].fillna(0), y['measure_2'].fillna(0)],  names=[\"Product:GAIN\",\"Product:LOSS\" ],whis=np.inf, color=\"pastel\",  join_rm=True, widths=.5)"
     ],
     "language": "python",
     "metadata": {},
     "outputs": [
      {
       "metadata": {},
       "output_type": "pyout",
       "prompt_number": 37,
       "text": [
        "<matplotlib.axes._subplots.AxesSubplot at 0x10f417290>"
       ]
      },
      {
       "metadata": {},
       "output_type": "display_data",
       "png": "[encoded data removed]",
       "text": [
        "<matplotlib.figure.Figure at 0x10ef42690>"
       ]
      }
     ],
     "prompt_number": 37
    },
    {
     "cell_type": "markdown",
     "metadata": {},
     "source": [
      "We found no differences in the effects of the interfaces on decision making.\n",
      "The following boxplot shows the comparison of the mesurements of decision making under each treatment. The sequence is not considered in this boxplot and carry-over effects might exist. \n",
      "\n",
      "The joining lines indicate a subject switching preferences. The later happened twice for all subjects. There are not changes in the means because the changes complemented each other.\n",
      "\n"
     ]
    },
    {
     "cell_type": "code",
     "collapsed": false,
     "input": [
      "y = x[x['treatment_eval_1'] == 'cite DataLabour']\n",
      "k = x[x['treatment_eval_1'] == 'Jam Share Data']\n",
      "w = k['measure_2']\n",
      "z = y['measure_1']\n",
      "dt =  z.append(w)\n",
      "\n",
      "w = k['measure_1']\n",
      "z = y['measure_2']\n",
      "dc =  z.append(w)\n",
      "\n",
      "\n",
      "sns.boxplot([dt.fillna(0), dc.fillna(0)],  names=[\"Treatment:GAIN\",\"Treatment:LOSS\" ],whis=np.inf, color=\"pastel\",  join_rm=True, widths=.5)"
     ],
     "language": "python",
     "metadata": {},
     "outputs": [
      {
       "ename": "NameError",
       "evalue": "name 'x' is not defined",
       "output_type": "pyerr",
       "traceback": [
        "\u001b[0;31m---------------------------------------------------------------------------\u001b[0m\n\u001b[0;31mNameError\u001b[0m                                 Traceback (most recent call last)",
        "\u001b[0;32m<ipython-input-31-a5e989a71f20>\u001b[0m in \u001b[0;36m<module>\u001b[0;34m()\u001b[0m\n\u001b[0;32m----> 1\u001b[0;31m \u001b[0my\u001b[0m \u001b[0;34m=\u001b[0m \u001b[0mx\u001b[0m\u001b[0;34m[\u001b[0m\u001b[0mx\u001b[0m\u001b[0;34m[\u001b[0m\u001b[0;34m'treatment_eval_1'\u001b[0m\u001b[0;34m]\u001b[0m \u001b[0;34m==\u001b[0m \u001b[0;34m'cite DataLabour'\u001b[0m\u001b[0;34m]\u001b[0m\u001b[0;34m\u001b[0m\u001b[0m\n\u001b[0m\u001b[1;32m      2\u001b[0m \u001b[0mk\u001b[0m \u001b[0;34m=\u001b[0m \u001b[0mx\u001b[0m\u001b[0;34m[\u001b[0m\u001b[0mx\u001b[0m\u001b[0;34m[\u001b[0m\u001b[0;34m'treatment_eval_1'\u001b[0m\u001b[0;34m]\u001b[0m \u001b[0;34m==\u001b[0m \u001b[0;34m'Jam Share Data'\u001b[0m\u001b[0;34m]\u001b[0m\u001b[0;34m\u001b[0m\u001b[0m\n\u001b[1;32m      3\u001b[0m \u001b[0mw\u001b[0m \u001b[0;34m=\u001b[0m \u001b[0mk\u001b[0m\u001b[0;34m[\u001b[0m\u001b[0;34m'measure_2'\u001b[0m\u001b[0;34m]\u001b[0m\u001b[0;34m\u001b[0m\u001b[0m\n\u001b[1;32m      4\u001b[0m \u001b[0mz\u001b[0m \u001b[0;34m=\u001b[0m \u001b[0my\u001b[0m\u001b[0;34m[\u001b[0m\u001b[0;34m'measure_1'\u001b[0m\u001b[0;34m]\u001b[0m\u001b[0;34m\u001b[0m\u001b[0m\n\u001b[1;32m      5\u001b[0m \u001b[0mdt\u001b[0m \u001b[0;34m=\u001b[0m  \u001b[0mz\u001b[0m\u001b[0;34m.\u001b[0m\u001b[0mappend\u001b[0m\u001b[0;34m(\u001b[0m\u001b[0mw\u001b[0m\u001b[0;34m)\u001b[0m\u001b[0;34m\u001b[0m\u001b[0m\n",
        "\u001b[0;31mNameError\u001b[0m: name 'x' is not defined"
       ]
      }
     ],
     "prompt_number": 31
    },
    {
     "cell_type": "markdown",
     "metadata": {},
     "source": [
      "- Subjects stick with their decision."
     ]
    },
    {
     "cell_type": "code",
     "collapsed": false,
     "input": [
      "sns.boxplot([y['measure_1'].fillna(0), k['measure_1'].fillna(0)],  names=[\"Treatment:GAIN\",\"Treatment:LOSS\" ],whis=np.inf, color=\"pastel\",  widths=.5)"
     ],
     "language": "python",
     "metadata": {},
     "outputs": [
      {
       "metadata": {},
       "output_type": "pyout",
       "prompt_number": 40,
       "text": [
        "<matplotlib.axes._subplots.AxesSubplot at 0x10ea9ce10>"
       ]
      },
      {
       "metadata": {},
       "output_type": "display_data",
       "png": "[encoded data removed]",
       "text": [
        "<matplotlib.figure.Figure at 0x10fac3610>"
       ]
      }
     ],
     "prompt_number": 40
    },
    {
     "cell_type": "code",
     "collapsed": false,
     "input": [
      "plt.hist(k['measure_1'])\n",
      "print k['measure_1']"
     ],
     "language": "python",
     "metadata": {},
     "outputs": [
      {
       "output_type": "stream",
       "stream": "stdout",
       "text": [
        "sessionid\n",
        "f9f6ae29cb7fdbe8995e496792d87aac    3\n",
        "a3fb71f8688c810c126ede0a989b79cc    3\n",
        "68ec3fb55059c118977c24cbd4fca91c    5\n",
        "Name: measure_1, dtype: int64\n"
       ]
      },
      {
       "metadata": {},
       "output_type": "display_data",
       "png": "[encoded data removed]",
       "text": [
        "<matplotlib.figure.Figure at 0x10ef65390>"
       ]
      }
     ],
     "prompt_number": 41
    },
    {
     "cell_type": "code",
     "collapsed": false,
     "input": [
      "plt.hist(y['measure_1'])\n",
      "print y['measure_1']\n",
      "# from statsmodels.graphics.mosaicplot import mosaic\n",
      "# mosaic(y, ['measure_1', 'baseline'])"
     ],
     "language": "python",
     "metadata": {},
     "outputs": [
      {
       "output_type": "stream",
       "stream": "stdout",
       "text": [
        "sessionid\n",
        "b4bd8ddfbcf302338f7898eec8382690    5\n",
        "90c08c4bb24fd7715f6dce58d09061f4    5\n",
        "2916e59453604e0bf19d4b3b60b75fdd    5\n",
        "28d0f45805f4a2e9ec4d8fe4cf2e517e    5\n",
        "0ad6197707803a31a98aa69dccc39bad    5\n",
        "3068cc431534949de153e1b77a9ae420    5\n",
        "d8695dead80bb8f3ba0caa25e5ca785c    5\n",
        "4379192aef2087ff9a349056bcbb6bb4    3\n",
        "8ed6774338c3fee17bbdca2dfbc7f1d6    3\n",
        "f1deeddb2588e790d7425adfa7ffb307    5\n",
        "d1cf1e2bd3e41f2bd3576a32593e2f73    5\n",
        "c2026cc168583afd72bbfbb284c0f1e9    0\n",
        "Name: measure_1, dtype: int64\n"
       ]
      },
      {
       "metadata": {},
       "output_type": "display_data",
       "png": "[encoded data removed]",
       "text": [
        "<matplotlib.figure.Figure at 0x10fd6d490>"
       ]
      }
     ],
     "prompt_number": 42
    },
    {
     "cell_type": "code",
     "collapsed": false,
     "input": [
      "plt.hist(y['measure_2'])\n",
      "print y['measure_2']\n",
      "# from statsmodels.graphics.mosaicplot import mosaic\n",
      "# mosaic(y, ['measure_1', 'baseline'])"
     ],
     "language": "python",
     "metadata": {},
     "outputs": [
      {
       "output_type": "stream",
       "stream": "stdout",
       "text": [
        "sessionid\n",
        "b4bd8ddfbcf302338f7898eec8382690    5\n",
        "90c08c4bb24fd7715f6dce58d09061f4    0\n",
        "2916e59453604e0bf19d4b3b60b75fdd    5\n",
        "28d0f45805f4a2e9ec4d8fe4cf2e517e    5\n",
        "0ad6197707803a31a98aa69dccc39bad    5\n",
        "3068cc431534949de153e1b77a9ae420    3\n",
        "d8695dead80bb8f3ba0caa25e5ca785c    0\n",
        "4379192aef2087ff9a349056bcbb6bb4    3\n",
        "8ed6774338c3fee17bbdca2dfbc7f1d6    3\n",
        "f1deeddb2588e790d7425adfa7ffb307    5\n",
        "d1cf1e2bd3e41f2bd3576a32593e2f73    5\n",
        "c2026cc168583afd72bbfbb284c0f1e9    5\n",
        "Name: measure_2, dtype: int64\n"
       ]
      },
      {
       "metadata": {},
       "output_type": "display_data",
       "png": "[encoded data removed]",
       "text": [
        "<matplotlib.figure.Figure at 0x110102e90>"
       ]
      }
     ],
     "prompt_number": 43
    },
    {
     "cell_type": "code",
     "collapsed": false,
     "input": [
      "x[['when_best','treatment']].groupby('treatment').agg(len)"
     ],
     "language": "python",
     "metadata": {},
     "outputs": [
      {
       "ename": "KeyError",
       "evalue": "\"['treatment'] not in index\"",
       "output_type": "pyerr",
       "traceback": [
        "\u001b[0;31m---------------------------------------------------------------------------\u001b[0m\n\u001b[0;31mKeyError\u001b[0m                                  Traceback (most recent call last)",
        "\u001b[0;32m<ipython-input-32-607caaf7ebd9>\u001b[0m in \u001b[0;36m<module>\u001b[0;34m()\u001b[0m\n\u001b[0;32m----> 1\u001b[0;31m \u001b[0mx\u001b[0m\u001b[0;34m[\u001b[0m\u001b[0;34m[\u001b[0m\u001b[0;34m'when_best'\u001b[0m\u001b[0;34m,\u001b[0m\u001b[0;34m'treatment'\u001b[0m\u001b[0;34m]\u001b[0m\u001b[0;34m]\u001b[0m\u001b[0;34m.\u001b[0m\u001b[0mgroupby\u001b[0m\u001b[0;34m(\u001b[0m\u001b[0;34m'treatment'\u001b[0m\u001b[0;34m)\u001b[0m\u001b[0;34m.\u001b[0m\u001b[0magg\u001b[0m\u001b[0;34m(\u001b[0m\u001b[0mlen\u001b[0m\u001b[0;34m)\u001b[0m\u001b[0;34m\u001b[0m\u001b[0m\n\u001b[0m",
        "\u001b[0;32m/Users/kristian/miniconda/lib/python2.7/site-packages/pandas/core/frame.pyc\u001b[0m in \u001b[0;36m__getitem__\u001b[0;34m(self, key)\u001b[0m\n\u001b[1;32m   1772\u001b[0m         \u001b[0;32mif\u001b[0m \u001b[0misinstance\u001b[0m\u001b[0;34m(\u001b[0m\u001b[0mkey\u001b[0m\u001b[0;34m,\u001b[0m \u001b[0;34m(\u001b[0m\u001b[0mSeries\u001b[0m\u001b[0;34m,\u001b[0m \u001b[0mnp\u001b[0m\u001b[0;34m.\u001b[0m\u001b[0mndarray\u001b[0m\u001b[0;34m,\u001b[0m \u001b[0mIndex\u001b[0m\u001b[0;34m,\u001b[0m \u001b[0mlist\u001b[0m\u001b[0;34m)\u001b[0m\u001b[0;34m)\u001b[0m\u001b[0;34m:\u001b[0m\u001b[0;34m\u001b[0m\u001b[0m\n\u001b[1;32m   1773\u001b[0m             \u001b[0;31m# either boolean or fancy integer index\u001b[0m\u001b[0;34m\u001b[0m\u001b[0;34m\u001b[0m\u001b[0m\n\u001b[0;32m-> 1774\u001b[0;31m             \u001b[0;32mreturn\u001b[0m \u001b[0mself\u001b[0m\u001b[0;34m.\u001b[0m\u001b[0m_getitem_array\u001b[0m\u001b[0;34m(\u001b[0m\u001b[0mkey\u001b[0m\u001b[0;34m)\u001b[0m\u001b[0;34m\u001b[0m\u001b[0m\n\u001b[0m\u001b[1;32m   1775\u001b[0m         \u001b[0;32melif\u001b[0m \u001b[0misinstance\u001b[0m\u001b[0;34m(\u001b[0m\u001b[0mkey\u001b[0m\u001b[0;34m,\u001b[0m \u001b[0mDataFrame\u001b[0m\u001b[0;34m)\u001b[0m\u001b[0;34m:\u001b[0m\u001b[0;34m\u001b[0m\u001b[0m\n\u001b[1;32m   1776\u001b[0m             \u001b[0;32mreturn\u001b[0m \u001b[0mself\u001b[0m\u001b[0;34m.\u001b[0m\u001b[0m_getitem_frame\u001b[0m\u001b[0;34m(\u001b[0m\u001b[0mkey\u001b[0m\u001b[0;34m)\u001b[0m\u001b[0;34m\u001b[0m\u001b[0m\n",
        "\u001b[0;32m/Users/kristian/miniconda/lib/python2.7/site-packages/pandas/core/frame.pyc\u001b[0m in \u001b[0;36m_getitem_array\u001b[0;34m(self, key)\u001b[0m\n\u001b[1;32m   1816\u001b[0m             \u001b[0;32mreturn\u001b[0m \u001b[0mself\u001b[0m\u001b[0;34m.\u001b[0m\u001b[0mtake\u001b[0m\u001b[0;34m(\u001b[0m\u001b[0mindexer\u001b[0m\u001b[0;34m,\u001b[0m \u001b[0maxis\u001b[0m\u001b[0;34m=\u001b[0m\u001b[0;36m0\u001b[0m\u001b[0;34m,\u001b[0m \u001b[0mconvert\u001b[0m\u001b[0;34m=\u001b[0m\u001b[0mFalse\u001b[0m\u001b[0;34m)\u001b[0m\u001b[0;34m\u001b[0m\u001b[0m\n\u001b[1;32m   1817\u001b[0m         \u001b[0;32melse\u001b[0m\u001b[0;34m:\u001b[0m\u001b[0;34m\u001b[0m\u001b[0m\n\u001b[0;32m-> 1818\u001b[0;31m             \u001b[0mindexer\u001b[0m \u001b[0;34m=\u001b[0m \u001b[0mself\u001b[0m\u001b[0;34m.\u001b[0m\u001b[0mix\u001b[0m\u001b[0;34m.\u001b[0m\u001b[0m_convert_to_indexer\u001b[0m\u001b[0;34m(\u001b[0m\u001b[0mkey\u001b[0m\u001b[0;34m,\u001b[0m \u001b[0maxis\u001b[0m\u001b[0;34m=\u001b[0m\u001b[0;36m1\u001b[0m\u001b[0;34m)\u001b[0m\u001b[0;34m\u001b[0m\u001b[0m\n\u001b[0m\u001b[1;32m   1819\u001b[0m             \u001b[0;32mreturn\u001b[0m \u001b[0mself\u001b[0m\u001b[0;34m.\u001b[0m\u001b[0mtake\u001b[0m\u001b[0;34m(\u001b[0m\u001b[0mindexer\u001b[0m\u001b[0;34m,\u001b[0m \u001b[0maxis\u001b[0m\u001b[0;34m=\u001b[0m\u001b[0;36m1\u001b[0m\u001b[0;34m,\u001b[0m \u001b[0mconvert\u001b[0m\u001b[0;34m=\u001b[0m\u001b[0mTrue\u001b[0m\u001b[0;34m)\u001b[0m\u001b[0;34m\u001b[0m\u001b[0m\n\u001b[1;32m   1820\u001b[0m \u001b[0;34m\u001b[0m\u001b[0m\n",
        "\u001b[0;32m/Users/kristian/miniconda/lib/python2.7/site-packages/pandas/core/indexing.pyc\u001b[0m in \u001b[0;36m_convert_to_indexer\u001b[0;34m(self, obj, axis, is_setter)\u001b[0m\n\u001b[1;32m   1141\u001b[0m                     \u001b[0;32mif\u001b[0m \u001b[0misinstance\u001b[0m\u001b[0;34m(\u001b[0m\u001b[0mobj\u001b[0m\u001b[0;34m,\u001b[0m \u001b[0mtuple\u001b[0m\u001b[0;34m)\u001b[0m \u001b[0;32mand\u001b[0m \u001b[0mis_setter\u001b[0m\u001b[0;34m:\u001b[0m\u001b[0;34m\u001b[0m\u001b[0m\n\u001b[1;32m   1142\u001b[0m                         \u001b[0;32mreturn\u001b[0m \u001b[0;34m{\u001b[0m\u001b[0;34m'key'\u001b[0m\u001b[0;34m:\u001b[0m \u001b[0mobj\u001b[0m\u001b[0;34m}\u001b[0m\u001b[0;34m\u001b[0m\u001b[0m\n\u001b[0;32m-> 1143\u001b[0;31m                     \u001b[0;32mraise\u001b[0m \u001b[0mKeyError\u001b[0m\u001b[0;34m(\u001b[0m\u001b[0;34m'%s not in index'\u001b[0m \u001b[0;34m%\u001b[0m \u001b[0mobjarr\u001b[0m\u001b[0;34m[\u001b[0m\u001b[0mmask\u001b[0m\u001b[0;34m]\u001b[0m\u001b[0;34m)\u001b[0m\u001b[0;34m\u001b[0m\u001b[0m\n\u001b[0m\u001b[1;32m   1144\u001b[0m \u001b[0;34m\u001b[0m\u001b[0m\n\u001b[1;32m   1145\u001b[0m                 \u001b[0;32mreturn\u001b[0m \u001b[0m_values_from_object\u001b[0m\u001b[0;34m(\u001b[0m\u001b[0mindexer\u001b[0m\u001b[0;34m)\u001b[0m\u001b[0;34m\u001b[0m\u001b[0m\n",
        "\u001b[0;31mKeyError\u001b[0m: \"['treatment'] not in index\""
       ]
      }
     ],
     "prompt_number": 32
    },
    {
     "cell_type": "code",
     "collapsed": false,
     "input": [
      "y = x[x['treatment_eval_1'] == 'cite DataLabour']\n",
      "k = x[x['treatment_eval_1'] == 'Jam Share Data']\n",
      "w = k['ease_2']\n",
      "z = y['ease_1']\n",
      "dt =  z.append(w)\n",
      "\n",
      "w = k['ease_1']\n",
      "z = y['ease_2']\n",
      "dc =  z.append(w)\n",
      "\n",
      "\n",
      "sns.boxplot([dt, dc],  names=[\"Product:GAIN\",\"Product:LOSS\" ],whis=np.inf, color=\"pastel\",  join_rm=True, widths=.5)"
     ],
     "language": "python",
     "metadata": {},
     "outputs": [
      {
       "metadata": {},
       "output_type": "pyout",
       "prompt_number": 33,
       "text": [
        "<matplotlib.axes._subplots.AxesSubplot at 0x10e9b3c90>"
       ]
      },
      {
       "metadata": {},
       "output_type": "display_data",
       "png": "[encoded data removed]",
       "text": [
        "<matplotlib.figure.Figure at 0x10ea81a90>"
       ]
      }
     ],
     "prompt_number": 33
    },
    {
     "cell_type": "code",
     "collapsed": false,
     "input": [
      "y = x[x['treatment_eval_1'] == 'cite DataLabour']\n",
      "k = x[x['treatment_eval_1'] == 'Jam Share Data']\n",
      "w = k['support_2']\n",
      "z = y['support_1']\n",
      "dt =  z.append(w)\n",
      "\n",
      "w = k['support_1']\n",
      "z = y['support_2']\n",
      "dc =  z.append(w)\n",
      "\n",
      "\n",
      "sns.boxplot([dt, dc],  names=[\"Product:GAIN\",\"Product:LOSS\" ],whis=np.inf, color=\"pastel\",  join_rm=True, widths=.5)"
     ],
     "language": "python",
     "metadata": {},
     "outputs": [
      {
       "metadata": {},
       "output_type": "pyout",
       "prompt_number": 34,
       "text": [
        "<matplotlib.axes._subplots.AxesSubplot at 0x10efebe10>"
       ]
      },
      {
       "metadata": {},
       "output_type": "display_data",
       "png": "[encoded data removed]",
       "text": [
        "<matplotlib.figure.Figure at 0x10f073b50>"
       ]
      }
     ],
     "prompt_number": 34
    },
    {
     "cell_type": "code",
     "collapsed": false,
     "input": [
      "y = x[x['treatment_eval_1'] == 'cite DataLabour']\n",
      "k = x[x['treatment_eval_1'] == 'Jam Share Data']\n",
      "w = k['time_2']\n",
      "z = y['time_1']\n",
      "dt =  z.append(w)\n",
      "\n",
      "w = k['time_1']\n",
      "z = y['time_2']\n",
      "dc =  z.append(w)\n",
      "\n",
      "\n",
      "sns.boxplot([dt, dc],  names=[\"Product:GAIN\",\"Product:LOSS\" ],whis=np.inf, color=\"pastel\",  join_rm=True, widths=.5)"
     ],
     "language": "python",
     "metadata": {},
     "outputs": [
      {
       "metadata": {},
       "output_type": "pyout",
       "prompt_number": 35,
       "text": [
        "<matplotlib.axes._subplots.AxesSubplot at 0x10f14e550>"
       ]
      },
      {
       "metadata": {},
       "output_type": "display_data",
       "png": "[encoded data removed]",
       "text": [
        "<matplotlib.figure.Figure at 0x10eed1490>"
       ]
      }
     ],
     "prompt_number": 35
    },
    {
     "cell_type": "code",
     "collapsed": false,
     "input": [],
     "language": "python",
     "metadata": {},
     "outputs": [],
     "prompt_number": 41
    },
    {
     "cell_type": "code",
     "collapsed": false,
     "input": [],
     "language": "python",
     "metadata": {},
     "outputs": [],
     "prompt_number": 41
    },
    {
     "cell_type": "code",
     "collapsed": false,
     "input": [],
     "language": "python",
     "metadata": {},
     "outputs": []
    }
   ],
   "metadata": {}
  }
 ]
}